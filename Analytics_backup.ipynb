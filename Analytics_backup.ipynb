{
 "cells": [
  {
   "cell_type": "markdown",
   "metadata": {},
   "source": [
    "# Data Analysis on Gender Disparity during work from home"
   ]
  },
  {
   "cell_type": "markdown",
   "metadata": {},
   "source": [
    "## Importing Data from Ms- Excel. This Data was collected from a survey via Google forms."
   ]
  },
  {
   "cell_type": "code",
<<<<<<< HEAD
   "execution_count": 287,
=======
   "execution_count": 159,
>>>>>>> e8e56c1076dfc8bf7e878bf6c4b339f98534e377
   "metadata": {},
   "outputs": [
    {
     "data": {
      "text/html": [
       "<div>\n",
       "<style scoped>\n",
       "    .dataframe tbody tr th:only-of-type {\n",
       "        vertical-align: middle;\n",
       "    }\n",
       "\n",
       "    .dataframe tbody tr th {\n",
       "        vertical-align: top;\n",
       "    }\n",
       "\n",
       "    .dataframe thead th {\n",
       "        text-align: right;\n",
       "    }\n",
       "</style>\n",
       "<table border=\"1\" class=\"dataframe\">\n",
       "  <thead>\n",
       "    <tr style=\"text-align: right;\">\n",
       "      <th></th>\n",
       "      <th>sex</th>\n",
       "      <th>age</th>\n",
       "      <th>marital status</th>\n",
       "      <th>work timings</th>\n",
       "      <th>employment organization</th>\n",
       "      <th>current mode</th>\n",
       "      <th>preferred mode</th>\n",
       "      <th>new job</th>\n",
       "      <th>salary incentives</th>\n",
       "      <th>domestic life</th>\n",
       "      <th>...</th>\n",
<<<<<<< HEAD
=======
       "      <th>personal calls</th>\n",
>>>>>>> e8e56c1076dfc8bf7e878bf6c4b339f98534e377
       "      <th>silenced</th>\n",
       "      <th>avoid contact</th>\n",
       "      <th>sexual harassment</th>\n",
       "      <th>comfort</th>\n",
       "      <th>hr policies</th>\n",
       "      <th>better policies</th>\n",
       "      <th>biased impact</th>\n",
       "      <th>Comments</th>\n",
       "      <th>Other Info</th>\n",
<<<<<<< HEAD
       "      <th>Unnamed: 25</th>\n",
=======
>>>>>>> e8e56c1076dfc8bf7e878bf6c4b339f98534e377
       "    </tr>\n",
       "  </thead>\n",
       "  <tbody>\n",
       "    <tr>\n",
       "      <th>0</th>\n",
       "      <td>Male</td>\n",
       "      <td>18-24</td>\n",
       "      <td>Single</td>\n",
       "      <td>Night Shift</td>\n",
       "      <td>Public Startup/Private Startup</td>\n",
       "      <td>Remote Mode(Work From Home)</td>\n",
       "      <td>Remote Mode(Work From Home)</td>\n",
       "      <td>Difficult</td>\n",
       "      <td>Same as before</td>\n",
       "      <td>Slightly Negatively</td>\n",
       "      <td>...</td>\n",
<<<<<<< HEAD
=======
       "      <td>Rarely</td>\n",
>>>>>>> e8e56c1076dfc8bf7e878bf6c4b339f98534e377
       "      <td>Never</td>\n",
       "      <td>Never</td>\n",
       "      <td>No</td>\n",
       "      <td>NaN</td>\n",
       "      <td>Yes</td>\n",
       "      <td>Yes</td>\n",
       "      <td>Maybe</td>\n",
       "      <td>NaN</td>\n",
       "      <td>NaN</td>\n",
<<<<<<< HEAD
       "      <td>NaN</td>\n",
=======
>>>>>>> e8e56c1076dfc8bf7e878bf6c4b339f98534e377
       "    </tr>\n",
       "    <tr>\n",
       "      <th>1</th>\n",
       "      <td>Male</td>\n",
       "      <td>18-24</td>\n",
       "      <td>Single</td>\n",
       "      <td>Morning Shift</td>\n",
       "      <td>Public Startup/Private Startup</td>\n",
       "      <td>Remote Mode(Work From Home)</td>\n",
       "      <td>Remote Mode(Work From Home)</td>\n",
       "      <td>Difficult</td>\n",
       "      <td>Poor</td>\n",
       "      <td>Slightly Negatively</td>\n",
       "      <td>...</td>\n",
<<<<<<< HEAD
=======
       "      <td>Often</td>\n",
>>>>>>> e8e56c1076dfc8bf7e878bf6c4b339f98534e377
       "      <td>Very often</td>\n",
       "      <td>Often</td>\n",
       "      <td>No</td>\n",
       "      <td>NaN</td>\n",
       "      <td>Partly</td>\n",
       "      <td>Yes</td>\n",
       "      <td>No</td>\n",
       "      <td>NaN</td>\n",
       "      <td>NaN</td>\n",
<<<<<<< HEAD
       "      <td>NaN</td>\n",
=======
>>>>>>> e8e56c1076dfc8bf7e878bf6c4b339f98534e377
       "    </tr>\n",
       "    <tr>\n",
       "      <th>2</th>\n",
       "      <td>Male</td>\n",
       "      <td>18-24</td>\n",
       "      <td>Single</td>\n",
       "      <td>Morning Shift</td>\n",
       "      <td>Public Startup/Private Startup</td>\n",
       "      <td>Remote Mode(Work From Home)</td>\n",
       "      <td>Physical Mode</td>\n",
       "      <td>Not applicable</td>\n",
       "      <td>Good</td>\n",
       "      <td>Did not have any affect</td>\n",
       "      <td>...</td>\n",
       "      <td>Rarely</td>\n",
       "      <td>Rarely</td>\n",
<<<<<<< HEAD
=======
       "      <td>Rarely</td>\n",
>>>>>>> e8e56c1076dfc8bf7e878bf6c4b339f98534e377
       "      <td>No</td>\n",
       "      <td>NaN</td>\n",
       "      <td>Yes</td>\n",
       "      <td>No</td>\n",
       "      <td>No</td>\n",
       "      <td>NaN</td>\n",
       "      <td>NaN</td>\n",
<<<<<<< HEAD
       "      <td>NaN</td>\n",
=======
>>>>>>> e8e56c1076dfc8bf7e878bf6c4b339f98534e377
       "    </tr>\n",
       "    <tr>\n",
       "      <th>3</th>\n",
       "      <td>Female</td>\n",
       "      <td>18-24</td>\n",
       "      <td>Single</td>\n",
       "      <td>Morning Shift</td>\n",
       "      <td>Public Startup/Private Startup</td>\n",
       "      <td>Remote Mode(Work From Home)</td>\n",
       "      <td>Remote Mode(Work From Home)</td>\n",
       "      <td>Difficult</td>\n",
       "      <td>Good</td>\n",
       "      <td>Slightly Negatively</td>\n",
       "      <td>...</td>\n",
<<<<<<< HEAD
=======
       "      <td>Rarely</td>\n",
>>>>>>> e8e56c1076dfc8bf7e878bf6c4b339f98534e377
       "      <td>Never</td>\n",
       "      <td>Never</td>\n",
       "      <td>No</td>\n",
       "      <td>NaN</td>\n",
       "      <td>No</td>\n",
       "      <td>No</td>\n",
       "      <td>Maybe</td>\n",
       "      <td>NaN</td>\n",
       "      <td>NaN</td>\n",
<<<<<<< HEAD
       "      <td>NaN</td>\n",
=======
>>>>>>> e8e56c1076dfc8bf7e878bf6c4b339f98534e377
       "    </tr>\n",
       "    <tr>\n",
       "      <th>4</th>\n",
       "      <td>Female</td>\n",
       "      <td>18-24</td>\n",
       "      <td>Single</td>\n",
       "      <td>Morning Shift</td>\n",
       "      <td>Medical</td>\n",
       "      <td>Part Both(Changing with the magnitude of Covid...</td>\n",
       "      <td>Physical Mode</td>\n",
       "      <td>Not applicable</td>\n",
       "      <td>Very Poor</td>\n",
       "      <td>Very Negatively</td>\n",
       "      <td>...</td>\n",
<<<<<<< HEAD
=======
       "      <td>Rarely</td>\n",
>>>>>>> e8e56c1076dfc8bf7e878bf6c4b339f98534e377
       "      <td>Very often</td>\n",
       "      <td>Very often</td>\n",
       "      <td>No</td>\n",
       "      <td>NaN</td>\n",
       "      <td>Partly</td>\n",
       "      <td>Yes</td>\n",
       "      <td>Yes</td>\n",
       "      <td>With respect to the health aspect of females .</td>\n",
       "      <td>NaN</td>\n",
<<<<<<< HEAD
       "      <td>NaN</td>\n",
=======
>>>>>>> e8e56c1076dfc8bf7e878bf6c4b339f98534e377
       "    </tr>\n",
       "    <tr>\n",
       "      <th>...</th>\n",
       "      <td>...</td>\n",
       "      <td>...</td>\n",
       "      <td>...</td>\n",
       "      <td>...</td>\n",
       "      <td>...</td>\n",
       "      <td>...</td>\n",
       "      <td>...</td>\n",
       "      <td>...</td>\n",
       "      <td>...</td>\n",
       "      <td>...</td>\n",
       "      <td>...</td>\n",
       "      <td>...</td>\n",
       "      <td>...</td>\n",
       "      <td>...</td>\n",
       "      <td>...</td>\n",
       "      <td>...</td>\n",
       "      <td>...</td>\n",
       "      <td>...</td>\n",
       "      <td>...</td>\n",
       "      <td>...</td>\n",
       "      <td>...</td>\n",
       "    </tr>\n",
       "    <tr>\n",
<<<<<<< HEAD
       "      <th>98</th>\n",
       "      <td>Female</td>\n",
       "      <td>45-60</td>\n",
       "      <td>Married</td>\n",
       "      <td>Morning Shift</td>\n",
       "      <td>Public MNC/ Private MNC</td>\n",
       "      <td>Remote Mode(Work From Home)</td>\n",
       "      <td>Physical Mode</td>\n",
       "      <td>Not applicable</td>\n",
       "      <td>Same as before</td>\n",
       "      <td>Slightly Negatively</td>\n",
       "      <td>...</td>\n",
       "      <td>Often</td>\n",
       "      <td>Often</td>\n",
       "      <td>No</td>\n",
       "      <td>NaN</td>\n",
       "      <td>No</td>\n",
       "      <td>Yes</td>\n",
       "      <td>Yes</td>\n",
       "      <td>Women had to do more work at home</td>\n",
       "      <td>NaN</td>\n",
       "      <td>NaN</td>\n",
       "    </tr>\n",
       "    <tr>\n",
       "      <th>99</th>\n",
=======
       "      <th>93</th>\n",
>>>>>>> e8e56c1076dfc8bf7e878bf6c4b339f98534e377
       "      <td>Female</td>\n",
       "      <td>25-34</td>\n",
       "      <td>Single</td>\n",
       "      <td>Morning Shift</td>\n",
<<<<<<< HEAD
       "      <td>Public Startup/Private Startup</td>\n",
       "      <td>Part Both(Changing with the magnitude of Covid...</td>\n",
       "      <td>Physical Mode</td>\n",
       "      <td>Difficult</td>\n",
       "      <td>Same as before</td>\n",
       "      <td>Slightly Negatively</td>\n",
       "      <td>...</td>\n",
       "      <td>Rarely</td>\n",
       "      <td>Often</td>\n",
       "      <td>No</td>\n",
       "      <td>NaN</td>\n",
       "      <td>Partly</td>\n",
       "      <td>Yes</td>\n",
=======
       "      <td>Government Agency</td>\n",
       "      <td>Physical Mode</td>\n",
       "      <td>Physical Mode</td>\n",
       "      <td>Difficult</td>\n",
       "      <td>Same as before</td>\n",
       "      <td>Very Improved</td>\n",
       "      <td>...</td>\n",
       "      <td>Rarely</td>\n",
       "      <td>Often</td>\n",
       "      <td>Rarely</td>\n",
       "      <td>No</td>\n",
       "      <td>NaN</td>\n",
       "      <td>No</td>\n",
>>>>>>> e8e56c1076dfc8bf7e878bf6c4b339f98534e377
       "      <td>Yes</td>\n",
       "      <td>Maybe</td>\n",
       "      <td>NaN</td>\n",
       "      <td>NaN</td>\n",
       "    </tr>\n",
       "    <tr>\n",
<<<<<<< HEAD
       "      <th>100</th>\n",
       "      <td>Female</td>\n",
       "      <td>18-24</td>\n",
       "      <td>Single</td>\n",
       "      <td>Part Time</td>\n",
       "      <td>Non Profit Organization</td>\n",
       "      <td>Part Both(Changing with the magnitude of Covid...</td>\n",
       "      <td>Physical Mode</td>\n",
       "      <td>Not applicable</td>\n",
       "      <td>Same as before</td>\n",
=======
       "      <th>94</th>\n",
       "      <td>Male</td>\n",
       "      <td>18-24</td>\n",
       "      <td>Single</td>\n",
       "      <td>Morning Shift</td>\n",
       "      <td>Public MNC/ Private MNC</td>\n",
       "      <td>Physical Mode</td>\n",
       "      <td>Remote Mode(Work From Home)</td>\n",
       "      <td>Not applicable</td>\n",
       "      <td>Very Poor</td>\n",
>>>>>>> e8e56c1076dfc8bf7e878bf6c4b339f98534e377
       "      <td>Slightly Negatively</td>\n",
       "      <td>...</td>\n",
       "      <td>Rarely</td>\n",
       "      <td>Rarely</td>\n",
<<<<<<< HEAD
       "      <td>No</td>\n",
       "      <td>NaN</td>\n",
       "      <td>Partly</td>\n",
       "      <td>No</td>\n",
       "      <td>Yes</td>\n",
       "      <td>Women had to handle kids</td>\n",
=======
       "      <td>Often</td>\n",
       "      <td>No</td>\n",
       "      <td>NaN</td>\n",
       "      <td>Partly</td>\n",
       "      <td>Yes</td>\n",
       "      <td>No</td>\n",
>>>>>>> e8e56c1076dfc8bf7e878bf6c4b339f98534e377
       "      <td>NaN</td>\n",
       "      <td>NaN</td>\n",
       "    </tr>\n",
       "    <tr>\n",
<<<<<<< HEAD
       "      <th>101</th>\n",
       "      <td>Female</td>\n",
       "      <td>18-24</td>\n",
       "      <td>Single</td>\n",
       "      <td>Night Shift</td>\n",
       "      <td>Public MSME/ Private MSME</td>\n",
       "      <td>Physical Mode</td>\n",
=======
       "      <th>95</th>\n",
       "      <td>Female</td>\n",
       "      <td>25-34</td>\n",
       "      <td>Married</td>\n",
       "      <td>Morning Shift</td>\n",
       "      <td>Public MNC/ Private MNC</td>\n",
       "      <td>Remote Mode(Work From Home)</td>\n",
>>>>>>> e8e56c1076dfc8bf7e878bf6c4b339f98534e377
       "      <td>Physical Mode</td>\n",
       "      <td>Not applicable</td>\n",
       "      <td>Poor</td>\n",
       "      <td>Slightly Negatively</td>\n",
       "      <td>...</td>\n",
<<<<<<< HEAD
       "      <td>Rarely</td>\n",
       "      <td>Rarely</td>\n",
       "      <td>Yes</td>\n",
       "      <td>3.0</td>\n",
       "      <td>No</td>\n",
       "      <td>Yes</td>\n",
       "      <td>Yes</td>\n",
       "      <td>Yes</td>\n",
       "      <td>NaN</td>\n",
       "      <td>NaN</td>\n",
       "    </tr>\n",
       "    <tr>\n",
       "      <th>102</th>\n",
       "      <td>Female</td>\n",
       "      <td>35-44</td>\n",
       "      <td>Married</td>\n",
       "      <td>Morning Shift</td>\n",
       "      <td>Government Agency</td>\n",
=======
       "      <td>Often</td>\n",
       "      <td>Often</td>\n",
       "      <td>Often</td>\n",
       "      <td>No</td>\n",
       "      <td>NaN</td>\n",
       "      <td>No</td>\n",
       "      <td>Yes</td>\n",
       "      <td>Yes</td>\n",
       "      <td>Female</td>\n",
       "      <td>NaN</td>\n",
       "    </tr>\n",
       "    <tr>\n",
       "      <th>96</th>\n",
       "      <td>Male</td>\n",
       "      <td>35-44</td>\n",
       "      <td>Married</td>\n",
       "      <td>Morning Shift</td>\n",
       "      <td>Public MSME/ Private MSME</td>\n",
>>>>>>> e8e56c1076dfc8bf7e878bf6c4b339f98534e377
       "      <td>Part Both(Changing with the magnitude of Covid...</td>\n",
       "      <td>Physical Mode</td>\n",
       "      <td>Not applicable</td>\n",
       "      <td>Same as before</td>\n",
       "      <td>Slightly Improved</td>\n",
       "      <td>...</td>\n",
<<<<<<< HEAD
       "      <td>Often</td>\n",
       "      <td>Often</td>\n",
=======
       "      <td>Rarely</td>\n",
       "      <td>Rarely</td>\n",
       "      <td>Never</td>\n",
>>>>>>> e8e56c1076dfc8bf7e878bf6c4b339f98534e377
       "      <td>No</td>\n",
       "      <td>NaN</td>\n",
       "      <td>Yes</td>\n",
       "      <td>No</td>\n",
<<<<<<< HEAD
       "      <td>Yes</td>\n",
       "      <td>Female had to do house work</td>\n",
       "      <td>NaN</td>\n",
       "      <td>NaN</td>\n",
       "    </tr>\n",
       "  </tbody>\n",
       "</table>\n",
       "<p>103 rows × 26 columns</p>\n",
       "</div>"
      ],
      "text/plain": [
       "        sex    age marital status   work timings  \\\n",
       "0      Male  18-24         Single    Night Shift   \n",
       "1      Male  18-24         Single  Morning Shift   \n",
       "2      Male  18-24         Single  Morning Shift   \n",
       "3    Female  18-24         Single  Morning Shift   \n",
       "4    Female  18-24         Single  Morning Shift   \n",
       "..      ...    ...            ...            ...   \n",
       "98   Female  45-60        Married  Morning Shift   \n",
       "99   Female  25-34         Single  Morning Shift   \n",
       "100  Female  18-24         Single      Part Time   \n",
       "101  Female  18-24         Single    Night Shift   \n",
       "102  Female  35-44        Married  Morning Shift   \n",
       "\n",
       "            employment organization  \\\n",
       "0    Public Startup/Private Startup   \n",
       "1    Public Startup/Private Startup   \n",
       "2    Public Startup/Private Startup   \n",
       "3    Public Startup/Private Startup   \n",
       "4                           Medical   \n",
       "..                              ...   \n",
       "98          Public MNC/ Private MNC   \n",
       "99   Public Startup/Private Startup   \n",
       "100         Non Profit Organization   \n",
       "101       Public MSME/ Private MSME   \n",
       "102               Government Agency   \n",
       "\n",
       "                                          current mode  \\\n",
       "0                          Remote Mode(Work From Home)   \n",
       "1                          Remote Mode(Work From Home)   \n",
       "2                          Remote Mode(Work From Home)   \n",
       "3                          Remote Mode(Work From Home)   \n",
       "4    Part Both(Changing with the magnitude of Covid...   \n",
       "..                                                 ...   \n",
       "98                         Remote Mode(Work From Home)   \n",
       "99   Part Both(Changing with the magnitude of Covid...   \n",
       "100  Part Both(Changing with the magnitude of Covid...   \n",
       "101                                      Physical Mode   \n",
       "102  Part Both(Changing with the magnitude of Covid...   \n",
       "\n",
       "                  preferred mode         new job salary incentives  \\\n",
       "0    Remote Mode(Work From Home)       Difficult    Same as before   \n",
       "1    Remote Mode(Work From Home)       Difficult              Poor   \n",
       "2                  Physical Mode  Not applicable              Good   \n",
       "3    Remote Mode(Work From Home)       Difficult              Good   \n",
       "4                  Physical Mode  Not applicable         Very Poor   \n",
       "..                           ...             ...               ...   \n",
       "98                 Physical Mode  Not applicable    Same as before   \n",
       "99                 Physical Mode       Difficult    Same as before   \n",
       "100                Physical Mode  Not applicable    Same as before   \n",
       "101                Physical Mode  Not applicable              Poor   \n",
       "102                Physical Mode  Not applicable    Same as before   \n",
       "\n",
       "               domestic life  ...    silenced avoid contact sexual harassment  \\\n",
       "0        Slightly Negatively  ...       Never         Never                No   \n",
       "1        Slightly Negatively  ...  Very often         Often                No   \n",
       "2    Did not have any affect  ...      Rarely        Rarely                No   \n",
       "3        Slightly Negatively  ...       Never         Never                No   \n",
       "4            Very Negatively  ...  Very often    Very often                No   \n",
       "..                       ...  ...         ...           ...               ...   \n",
       "98       Slightly Negatively  ...       Often         Often                No   \n",
       "99       Slightly Negatively  ...      Rarely         Often                No   \n",
       "100      Slightly Negatively  ...      Rarely        Rarely                No   \n",
       "101      Slightly Negatively  ...      Rarely        Rarely               Yes   \n",
       "102        Slightly Improved  ...       Often         Often                No   \n",
       "\n",
       "    comfort hr policies better policies biased impact  \\\n",
       "0       NaN         Yes             Yes         Maybe   \n",
       "1       NaN      Partly             Yes            No   \n",
       "2       NaN         Yes              No            No   \n",
       "3       NaN          No              No         Maybe   \n",
       "4       NaN      Partly             Yes           Yes   \n",
       "..      ...         ...             ...           ...   \n",
       "98      NaN          No             Yes           Yes   \n",
       "99      NaN      Partly             Yes           Yes   \n",
       "100     NaN      Partly              No           Yes   \n",
       "101     3.0          No             Yes           Yes   \n",
       "102     NaN         Yes              No           Yes   \n",
       "\n",
       "                                           Comments Other Info  Unnamed: 25  \n",
       "0                                               NaN        NaN          NaN  \n",
       "1                                               NaN        NaN          NaN  \n",
       "2                                               NaN        NaN          NaN  \n",
       "3                                               NaN        NaN          NaN  \n",
       "4    With respect to the health aspect of females .        NaN          NaN  \n",
       "..                                              ...        ...          ...  \n",
       "98                Women had to do more work at home        NaN          NaN  \n",
       "99                                            Maybe        NaN          NaN  \n",
       "100                        Women had to handle kids        NaN          NaN  \n",
       "101                                             Yes        NaN          NaN  \n",
       "102                     Female had to do house work        NaN          NaN  \n",
       "\n",
       "[103 rows x 26 columns]"
      ]
     },
     "execution_count": 287,
=======
       "      <td>No</td>\n",
       "      <td>NaN</td>\n",
       "      <td>NaN</td>\n",
       "    </tr>\n",
       "    <tr>\n",
       "      <th>97</th>\n",
       "      <td>Female</td>\n",
       "      <td>45-60</td>\n",
       "      <td>Married</td>\n",
       "      <td>Part Time</td>\n",
       "      <td>Public Startup/Private Startup</td>\n",
       "      <td>Physical Mode</td>\n",
       "      <td>Physical Mode</td>\n",
       "      <td>Difficult</td>\n",
       "      <td>Poor</td>\n",
       "      <td>Slightly Negatively</td>\n",
       "      <td>...</td>\n",
       "      <td>Rarely</td>\n",
       "      <td>Rarely</td>\n",
       "      <td>Often</td>\n",
       "      <td>Yes</td>\n",
       "      <td>2.0</td>\n",
       "      <td>Partly</td>\n",
       "      <td>Yes</td>\n",
       "      <td>Yes</td>\n",
       "      <td>Women had to work at home</td>\n",
       "      <td>NaN</td>\n",
       "    </tr>\n",
       "  </tbody>\n",
       "</table>\n",
       "<p>98 rows × 25 columns</p>\n",
       "</div>"
      ],
      "text/plain": [
       "       sex    age marital status   work timings  \\\n",
       "0     Male  18-24         Single    Night Shift   \n",
       "1     Male  18-24         Single  Morning Shift   \n",
       "2     Male  18-24         Single  Morning Shift   \n",
       "3   Female  18-24         Single  Morning Shift   \n",
       "4   Female  18-24         Single  Morning Shift   \n",
       "..     ...    ...            ...            ...   \n",
       "93  Female  25-34         Single  Morning Shift   \n",
       "94    Male  18-24         Single  Morning Shift   \n",
       "95  Female  25-34        Married  Morning Shift   \n",
       "96    Male  35-44        Married  Morning Shift   \n",
       "97  Female  45-60        Married      Part Time   \n",
       "\n",
       "           employment organization  \\\n",
       "0   Public Startup/Private Startup   \n",
       "1   Public Startup/Private Startup   \n",
       "2   Public Startup/Private Startup   \n",
       "3   Public Startup/Private Startup   \n",
       "4                          Medical   \n",
       "..                             ...   \n",
       "93               Government Agency   \n",
       "94         Public MNC/ Private MNC   \n",
       "95         Public MNC/ Private MNC   \n",
       "96       Public MSME/ Private MSME   \n",
       "97  Public Startup/Private Startup   \n",
       "\n",
       "                                         current mode  \\\n",
       "0                         Remote Mode(Work From Home)   \n",
       "1                         Remote Mode(Work From Home)   \n",
       "2                         Remote Mode(Work From Home)   \n",
       "3                         Remote Mode(Work From Home)   \n",
       "4   Part Both(Changing with the magnitude of Covid...   \n",
       "..                                                ...   \n",
       "93                                      Physical Mode   \n",
       "94                                      Physical Mode   \n",
       "95                        Remote Mode(Work From Home)   \n",
       "96  Part Both(Changing with the magnitude of Covid...   \n",
       "97                                      Physical Mode   \n",
       "\n",
       "                 preferred mode         new job salary incentives  \\\n",
       "0   Remote Mode(Work From Home)       Difficult    Same as before   \n",
       "1   Remote Mode(Work From Home)       Difficult              Poor   \n",
       "2                 Physical Mode  Not applicable              Good   \n",
       "3   Remote Mode(Work From Home)       Difficult              Good   \n",
       "4                 Physical Mode  Not applicable         Very Poor   \n",
       "..                          ...             ...               ...   \n",
       "93                Physical Mode       Difficult    Same as before   \n",
       "94  Remote Mode(Work From Home)  Not applicable         Very Poor   \n",
       "95                Physical Mode  Not applicable              Poor   \n",
       "96                Physical Mode  Not applicable    Same as before   \n",
       "97                Physical Mode       Difficult              Poor   \n",
       "\n",
       "              domestic life  ... personal calls    silenced avoid contact  \\\n",
       "0       Slightly Negatively  ...         Rarely       Never         Never   \n",
       "1       Slightly Negatively  ...          Often  Very often         Often   \n",
       "2   Did not have any affect  ...         Rarely      Rarely        Rarely   \n",
       "3       Slightly Negatively  ...         Rarely       Never         Never   \n",
       "4           Very Negatively  ...         Rarely  Very often    Very often   \n",
       "..                      ...  ...            ...         ...           ...   \n",
       "93            Very Improved  ...         Rarely       Often        Rarely   \n",
       "94      Slightly Negatively  ...         Rarely      Rarely         Often   \n",
       "95      Slightly Negatively  ...          Often       Often         Often   \n",
       "96        Slightly Improved  ...         Rarely      Rarely         Never   \n",
       "97      Slightly Negatively  ...         Rarely      Rarely         Often   \n",
       "\n",
       "   sexual harassment comfort hr policies better policies biased impact  \\\n",
       "0                 No     NaN         Yes             Yes         Maybe   \n",
       "1                 No     NaN      Partly             Yes            No   \n",
       "2                 No     NaN         Yes              No            No   \n",
       "3                 No     NaN          No              No         Maybe   \n",
       "4                 No     NaN      Partly             Yes           Yes   \n",
       "..               ...     ...         ...             ...           ...   \n",
       "93                No     NaN          No             Yes         Maybe   \n",
       "94                No     NaN      Partly             Yes            No   \n",
       "95                No     NaN          No             Yes           Yes   \n",
       "96                No     NaN         Yes              No            No   \n",
       "97               Yes     2.0      Partly             Yes           Yes   \n",
       "\n",
       "                                          Comments  Other Info  \n",
       "0                                              NaN         NaN  \n",
       "1                                              NaN         NaN  \n",
       "2                                              NaN         NaN  \n",
       "3                                              NaN         NaN  \n",
       "4   With respect to the health aspect of females .         NaN  \n",
       "..                                             ...         ...  \n",
       "93                                             NaN         NaN  \n",
       "94                                             NaN         NaN  \n",
       "95                                          Female         NaN  \n",
       "96                                             NaN         NaN  \n",
       "97                       Women had to work at home         NaN  \n",
       "\n",
       "[98 rows x 25 columns]"
      ]
     },
     "execution_count": 159,
>>>>>>> e8e56c1076dfc8bf7e878bf6c4b339f98534e377
     "metadata": {},
     "output_type": "execute_result"
    }
   ],
   "source": [
    "import pandas as pd\n",
    "df=pd.read_excel('C:\\\\Users\\\\Anubhav\\\\Desktop\\\\Analytics.xlsx','Sheet1')\n",
    "df"
   ]
  },
  {
   "cell_type": "markdown",
   "metadata": {},
   "source": [
    "# Following are the Final Attributes of the data collected and the corresponding question they represent. The questions have been shortened to a relatable attribute name for enhancing the ease of handling the data. "
   ]
  },
  {
   "cell_type": "markdown",
   "metadata": {},
   "source": [
    "### Following are the details of the data we will be working on  \n",
    "\n",
    " The column names in the sheet along with the respective question they represent are listed below:\n",
    "  - sex- Sex \n",
    "  - age- Age \n",
    "  - marital status- Marital Status \n",
    "  - work timings- Work Timings \n",
    "  - Employment Organization- What is the type of your employment organization? \n",
    "  - current mode- What is your current mode of working? \n",
    "  - preferred mode- What mode of working do you prefer? \n",
    "  - new job- In case your employment was terminated, how difficult was it to get a new job? \n",
    "  - salary incentives- How satisfactory have your salary incentives/promotions been since 2020? \n",
    "  - domestic life- How did the new work conditions affect your domestic life? \n",
    "  - personal life- How did the new work conditions affect your personal time/growth? \n",
    "  - layoff fear- Did you at any point fear a layoff since the pandemic kicked in? \n",
    "  - stretched hours- Did you experience stretched working hours/increased workload during the pandemic?\n",
    "  - domestic obligation- Was there some domestic obligation you had to fulfil before starting your work everyday? \n",
    "  - background noises- Did you find it difficult to silence background noises at your home whilst in a meeting/discussion? \n",
    "  - personal calls- How often were you contacted personally by your superiors/colleagues regarding matters not restricting to work? \n",
    "  - silenced- Did you feel silenced on calls/meetings even though you had something valuable to add? \n",
    "  - avoid contact- Did you avoid contacting a colleague/superior regarding some professional issue thinking you are being unprofessional? \n",
    "  - sexual harassment- Did you experience any kind of Sexual harassment/Cyber Harassment at your work during the pandemic? \n",
    "  - comfort- If Yes, how comfortable were you in sharing the details with the concerned authorities? \n",
    "  - hr policies- Do you feel that the HR Department of your organization took the necessary steps to help you adapt to work from home? \n",
    "  - better policies- Do you feel that your organization needs to work on its policies regarding employee conduct? \n",
    "  - biased impact- Do you feel that the pandemic had a more negative affect on some particular gender at workplaces? \n",
    "  - Comments- If Yes/Maybe, how? "
   ]
  },
  {
   "cell_type": "code",
<<<<<<< HEAD
   "execution_count": 288,
=======
   "execution_count": 114,
>>>>>>> e8e56c1076dfc8bf7e878bf6c4b339f98534e377
   "metadata": {},
   "outputs": [
    {
     "name": "stdout",
     "output_type": "stream",
     "text": [
      " \n",
      " \n",
      "No. of Data Entries corresponding to each attribute \n",
<<<<<<< HEAD
      " sex                        103\n",
      "age                        103\n",
      "marital status             103\n",
      "work timings               103\n",
      "employment organization    103\n",
      "current mode               103\n",
      "preferred mode             103\n",
      "new job                     98\n",
      "salary incentives          103\n",
      "domestic life              103\n",
      "personal life              103\n",
      "layoff fear                103\n",
      "stretched hours            103\n",
      "domestic obligation        103\n",
      "background noises          103\n",
      "personal calls             103\n",
      "silenced                   103\n",
      "avoid contact              103\n",
      "sexual harassment          103\n",
      "comfort                      7\n",
      "hr policies                103\n",
      "better policies            103\n",
      "biased impact              103\n",
      "Comments                    28\n",
      "Other Info                   7\n",
      "Unnamed: 25                  0\n",
=======
      " sex                        95\n",
      "age                        95\n",
      "marital status             95\n",
      "work timings               95\n",
      "employment organization    95\n",
      "current mode               95\n",
      "preferred mode             95\n",
      "new job                    90\n",
      "salary incentives          95\n",
      "domestic life              95\n",
      "personal life              95\n",
      "layoff fear                95\n",
      "stretched hours            95\n",
      "domestic obligation        95\n",
      "background noises          95\n",
      "personal calls             95\n",
      "silenced                   95\n",
      "avoid contact              95\n",
      "sexual harassment          95\n",
      "comfort                     5\n",
      "hr policies                95\n",
      "better policies            95\n",
      "biased impact              95\n",
      "Comments                   21\n",
      "Other Info                  7\n",
>>>>>>> e8e56c1076dfc8bf7e878bf6c4b339f98534e377
      "dtype: int64\n"
     ]
    }
   ],
   "source": [
    "print(\" \\n \\nNo. of Data Entries corresponding to each attribute \\n\",df.count())"
   ]
  },
  {
   "cell_type": "markdown",
   "metadata": {},
   "source": [
    "## Data Cleaning will be used to fill up the empty information, wherever needed. We'll first find the number of missing values for each attribute. Then a decision will be made regarding the attributes whose missing values have to be filled up. This is followed by determining what value will be used to fill up the missing values."
   ]
  },
  {
   "cell_type": "code",
<<<<<<< HEAD
   "execution_count": 289,
=======
   "execution_count": 115,
>>>>>>> e8e56c1076dfc8bf7e878bf6c4b339f98534e377
   "metadata": {
    "scrolled": true
   },
   "outputs": [
    {
     "data": {
      "text/plain": [
<<<<<<< HEAD
       "sex                          0\n",
       "age                          0\n",
       "marital status               0\n",
       "work timings                 0\n",
       "employment organization      0\n",
       "current mode                 0\n",
       "preferred mode               0\n",
       "new job                      5\n",
       "salary incentives            0\n",
       "domestic life                0\n",
       "personal life                0\n",
       "layoff fear                  0\n",
       "stretched hours              0\n",
       "domestic obligation          0\n",
       "background noises            0\n",
       "personal calls               0\n",
       "silenced                     0\n",
       "avoid contact                0\n",
       "sexual harassment            0\n",
       "comfort                     96\n",
       "hr policies                  0\n",
       "better policies              0\n",
       "biased impact                0\n",
       "Comments                    75\n",
       "Other Info                  96\n",
       "Unnamed: 25                103\n",
       "dtype: int64"
      ]
     },
     "execution_count": 289,
=======
       "sex                         0\n",
       "age                         0\n",
       "marital status              0\n",
       "work timings                0\n",
       "employment organization     0\n",
       "current mode                0\n",
       "preferred mode              0\n",
       "new job                     5\n",
       "salary incentives           0\n",
       "domestic life               0\n",
       "personal life               0\n",
       "layoff fear                 0\n",
       "stretched hours             0\n",
       "domestic obligation         0\n",
       "background noises           0\n",
       "personal calls              0\n",
       "silenced                    0\n",
       "avoid contact               0\n",
       "sexual harassment           0\n",
       "comfort                    90\n",
       "hr policies                 0\n",
       "better policies             0\n",
       "biased impact               0\n",
       "Comments                   74\n",
       "Other Info                 88\n",
       "dtype: int64"
      ]
     },
     "execution_count": 115,
>>>>>>> e8e56c1076dfc8bf7e878bf6c4b339f98534e377
     "metadata": {},
     "output_type": "execute_result"
    }
   ],
   "source": [
    "#Cleaning the data \n",
    "\n",
    "#Finding missing values(if any) in each column\n",
    "\n",
    "df.isna().sum()\n"
   ]
  },
  {
   "cell_type": "code",
<<<<<<< HEAD
   "execution_count": 290,
=======
   "execution_count": 116,
>>>>>>> e8e56c1076dfc8bf7e878bf6c4b339f98534e377
   "metadata": {},
   "outputs": [
    {
     "name": "stdout",
     "output_type": "stream",
     "text": [
<<<<<<< HEAD
      "Difficult         51\n",
      "Not applicable    38\n",
=======
      "Difficult         49\n",
      "Not applicable    32\n",
>>>>>>> e8e56c1076dfc8bf7e878bf6c4b339f98534e377
      "Same as before     7\n",
      "Easier             2\n",
      "Name: new job, dtype: int64\n"
     ]
    },
    {
     "data": {
      "text/plain": [
<<<<<<< HEAD
       "sex                          0\n",
       "age                          0\n",
       "marital status               0\n",
       "work timings                 0\n",
       "employment organization      0\n",
       "current mode                 0\n",
       "preferred mode               0\n",
       "new job                      0\n",
       "salary incentives            0\n",
       "domestic life                0\n",
       "personal life                0\n",
       "layoff fear                  0\n",
       "stretched hours              0\n",
       "domestic obligation          0\n",
       "background noises            0\n",
       "personal calls               0\n",
       "silenced                     0\n",
       "avoid contact                0\n",
       "sexual harassment            0\n",
       "comfort                     96\n",
       "hr policies                  0\n",
       "better policies              0\n",
       "biased impact                0\n",
       "Comments                    75\n",
       "Other Info                  96\n",
       "Unnamed: 25                103\n",
       "dtype: int64"
      ]
     },
     "execution_count": 290,
=======
       "sex                         0\n",
       "age                         0\n",
       "marital status              0\n",
       "work timings                0\n",
       "employment organization     0\n",
       "current mode                0\n",
       "preferred mode              0\n",
       "new job                     0\n",
       "salary incentives           0\n",
       "domestic life               0\n",
       "personal life               0\n",
       "layoff fear                 0\n",
       "stretched hours             0\n",
       "domestic obligation         0\n",
       "background noises           0\n",
       "personal calls              0\n",
       "silenced                    0\n",
       "avoid contact               0\n",
       "sexual harassment           0\n",
       "comfort                    90\n",
       "hr policies                 0\n",
       "better policies             0\n",
       "biased impact               0\n",
       "Comments                   74\n",
       "Other Info                 88\n",
       "dtype: int64"
      ]
     },
     "execution_count": 116,
>>>>>>> e8e56c1076dfc8bf7e878bf6c4b339f98534e377
     "metadata": {},
     "output_type": "execute_result"
    }
   ],
   "source": [
    "#filling up the missing values in the column 'new job'\n",
    "print(df['new job'].value_counts())\n",
    "df1=df\n",
    "df1['new job']=df1['new job'].fillna(\"Not applicable\")\n",
    "df1.isna().sum()\n"
   ]
  },
  {
   "cell_type": "markdown",
   "metadata": {},
   "source": [
    "## We'll start with an overview of the Data Entries on the basis of three categories namely 'Sex', 'Age' and ' Marital Status'. They'll be displayed by count, by percentage and by a pie chart."
   ]
  },
  {
   "cell_type": "code",
<<<<<<< HEAD
   "execution_count": 291,
=======
   "execution_count": 117,
>>>>>>> e8e56c1076dfc8bf7e878bf6c4b339f98534e377
   "metadata": {},
   "outputs": [
    {
     "name": "stdout",
     "output_type": "stream",
     "text": [
      "\u001b[1mGenders: \u001b[0m \n",
      "By count:\n",
<<<<<<< HEAD
      "Male      58\n",
      "Female    45\n",
      "Name: sex, dtype: int64\n",
      "\n",
      "By Percentage:\n",
      "Male      56.31068\n",
      "Female    43.68932\n",
=======
      "Male      57\n",
      "Female    38\n",
      "Name: sex, dtype: int64\n",
      "\n",
      "By Percentage:\n",
      "Male      60.0\n",
      "Female    40.0\n",
>>>>>>> e8e56c1076dfc8bf7e878bf6c4b339f98534e377
      "Name: sex, dtype: float64\n"
     ]
    },
    {
     "data": {
      "text/plain": [
       "<AxesSubplot:title={'center':'Entries by Gender'}, ylabel='sex'>"
      ]
     },
<<<<<<< HEAD
     "execution_count": 291,
=======
     "execution_count": 117,
>>>>>>> e8e56c1076dfc8bf7e878bf6c4b339f98534e377
     "metadata": {},
     "output_type": "execute_result"
    },
    {
     "data": {
<<<<<<< HEAD
      "image/png": "iVBORw0KGgoAAAANSUhEUgAAAPUAAAD3CAYAAADFeRJuAAAAOXRFWHRTb2Z0d2FyZQBNYXRwbG90bGliIHZlcnNpb24zLjMuNCwgaHR0cHM6Ly9tYXRwbG90bGliLm9yZy8QVMy6AAAACXBIWXMAAAsTAAALEwEAmpwYAAAZWUlEQVR4nO3deZwT9f3H8ddnN8utAUQqojJVvFDxQgG1Sqv1igce1Vql3tYq1npQY6l21GrXqvVntVXbeiC23hcaqygtFlEQqYgiHohBEDxADJec+/398R1q2O6R3U3yzcx8no9HHrvZJDNvFt58JzOT74gxBqVUdFS5DqCUKi4ttVIRo6VWKmK01EpFjJZaqYjRUisVMVrqCiUiy0Rk6yIv04hI32Ius1xEJCsiB7nOEQZa6lYI/oF9HRRv/e22Al87XkTOau55xpguxpjZbU9bGiLSS0T+IiLzgz//bBG5V0R2cJ0t7rTUrXdkULz1t+HFWKiIJIqxnFISkU2AV4BOwHeAjYA9gJeA7zuM9j/C8PssNi11kYnIaSLysojcKCKLReQjETkseOxabAluyx/dg83i80XkA+CDvJ/1Db5vHyzvYxH5TETuEJGOwWM9ROQZEflKRL4UkQki0tTf6+HBqLpQRG4Qkapg+V+KyC55f46ewdbIpg0s4yJgCTDMGPOhsb4yxtxjjLk1bxmDROSVINubIjIk77HxInKNiEwUkaUiMlZEeuQ9PkxE5ojIIhEZWe93XCUiaRH5MHj8YRHpHjzmBb+7M0XkY+Cfzf+tRYuWujQGAu8BPYDfAXeJiBhjRgITgOENjO5Dg9f1a2B51wPbAbsBfYHewJXBY5cA84BNgW8BvwSaOvf3GGAAdmQ9GjjDGLMKeBA4Je95JwEvGmO+aGAZBwFPGGPqGluJiPQGMsBvgO7ApcBj9f6T+BFwOtATaBc8BxHpB9wODAM2BzYBtsh73c+wv68DgscXA3+sF+EAYEfgkMYyRpYxRm8tvAFZYBnwVd7t7OCx04BZec/thC3ZZsH98cBZ9ZZngO818LO+gADLgW3yHhsMfBR8fzXwFNC3gNwGODTv/nnAuOD7gcBcoCq4/zpwQiPLmQWcm3f/qOB3sBQYG/zsMmB0vdc9D5ya93v4Vb0szwXfXwk8mPdYZ2A1cFBwfyZwYN7jvYA1QALwgj/n1q7/nbi6xe79RhENNca82Mhjn67/xhizQkQAujSzvLmN/HxT7H8MU4PlgC16dfD9DYAPjA0e/7MxprbA9czBjnQYYyaLyHLgABFZgP0PZUwjy1iELRLBa8cAXYMdgOtH+z7AD0TkyLzX1QD/yrv/ad73K/jmd7R5fk5jzHIRWZT33D7AEyKSv6WwDrul0tCfM1Z087v8Gts0buznC4GvgZ2MMV2DW9IY0wXAGLPUGHOJMWZr4EjgYhE5sIn1b5n3/VbA/Lz7o7ClHAY8aoxZ2cgyxgFDm3nvPhc7UnfNu3Vu5j+c9Rbk5xSRTthN8PxlH1Zv2R2MMZ/kPSe2Hz/UUpffZ0DBx5+Nfd/6F+BmEekJ9v2qiBwSfH+EiPQVO0wvwY5Y65pY5AgR6SYiWwIXAg/lPTYa+577FOC+Jpbxe6AbMFpEthFrI+x7/vXuB44UkUNEpFpEOojIEBHZoqEF1vMocISI7Cci7bBvMfL/rd4BXCsifQBEZFMRObqA5caClrr1nq53nPqJAl93C3B8sGf8DwW+5jLs+9hJIrIEeBHYPnhs2+D+MuBV4E/GmPFNLOspYCowDbsj6671Dxhj5gH/wY5yExpbgDFmITAIWAm8jH0vPQ17aOunwXPmYnfE/RL4Aju6jqCAf3PGmBnA+cDfsaP2YuzOwPVuwb41GCsiS4FJ2H0CCpBgR4NSAIjI3cB8Y8yvXGdRraM7ytR/iYgHHAvs7jiKagPd/FYAiMg1wNvADcaYj1znUa2nm99KRYyO1EpFjJZaqYjRUisVMVpqpSJGS61UxGiplYoYLbVSEaOlVipitNRKRYyWWqmI0VIrFTFaaqUiRktdYsF0taPz7idE5AsReaaZ1w1p7jlKNURLXXrLgZ3Xz9ONnez+kyaer1SbaKnL4x9AKvj+JOCB9Q+IyN7BhPdvBF+3r/9iEeksIneLyJTgeTofl2qUlro8HgR+KCIdgP7A5LzH3gX2N8bsjp3v+roGXj8S+KcxZi/gu8ANItK5xJlVSOl0RmVgjJkeTBV0EvBsvYeTwCgR2RY74V9NA4s4GDhKRC4N7nfATu87szSJVZhpqctnDHAjMIQN57C+BviXMeaYoPjjG3itAMcZY94rcUYVAbr5XT53A1cbY96q9/Mk3+w4O62R1z4PXBDM7Y2I6MSAqlFa6jIxxswzxtzSwEO/A34rIhP55lI69V2D3SyfLiJvB/eVapBOPKhUxOhIrVTEaKmVihjd+x1BXjrTGXup2Z7Yy7s29rUT9rrOq/O+1r+twu7Imw18GHydna1NfV2+P5FqCX1PHXJeOuMBewC7Yk9s2RV74XVp/FVtZrDXlp7NN2V/B3glW5vSU2Ad01KHiJfOtMdebXJwcBvIhhdarwQfAxOD2/hsbWqG4zyxo6WucF460wU4HHvhusOxl4sNk/nYS+2+ALyQrU195jhP5GmpK5CXznQHjsIW+fvY00KjoA74JzAKeDxbm1rhOE8kaakrhJfO9ABOxBZ5f6K/E3Mp8ChwH/BStjal/xCLREvtmJfO7ABcBAwDOjbz9KjKAqOB+7K1qVmOs4SeltoRL505ELgYOIzS7qkOmwnAddna1HOug4SVlrqMvHSmHfbjlxdhDz2pxk0C/Gxt6nnXQcJGS10GwckgFwLDsSeFqMK9ii33WNdBwkJLXWJeOnMycD3Q23WWkHsFuErL3TwtdYl46czuwK3Avq6zRMxEYES2NvWq6yCVSktdZMGhqWuBs9APzJRKHfBH4PJsbWq56zCVRktdJF46Uw2cB1wFdHMcJy7mAOfoJvmGtNRF4KUzg4C/ADu7zhJTo4CLsrWpxa6DVAItdRsEo/NI4AqifwZYpfsUGJ6tTT3mOohrWupW8tKZPsD9wH6us6gNPA6cF+cPjmipW8FLZ47Bzg7a1XEU1bD5wPFx3UOupW6BYHO7Fri0uecq51Zj32f/yXWQctNSF8hLZ74FPAQc4DqLapFRwLnZ2tRK10HKRUtdAC+d6Y+9yN3mrrOoVnkVGJqtTX3uOkg56MkRzfDSmX2Al9BCh9lgYLKXzvRzHaQctNRN8NKZg7HT8HR1HEW1nQe8EvydRpqWuhFeOnMc8DR2Gl0VDUngaS+dOcJ1kFLSUjfAS2fOwO4Ua+c6iyq6dsCjXjpziOsgpaKlrsdLZy4G/krjF6tT4dceeDKYfSZytNR5vHTmauAmdHqhOOgAjPHSmcgdotRDWoFghL7JdQ5VdsuAQ7O1qYmugxSLlhrw0pmhwGPolktcLQEOztamJrsOUgyxL7WXzgzAHofWvdzxlgO+l61N/cd1kLaKdam9dGYrYDKwmessqiJ8AuwR9jPPYru56aUzGwPPoIVW3+gNPBh8cCe0YllqL51JAI8Au7jOoirOd4Hfug7RFrEsNXbSusifLqhabYSXzhzrOkRrxe49tZfOnIk9uUSppiwF9srWpt5zHaSlYlVqL53xgOmE7xrPyo13gIHZ2tQy10FaIjab3146I8A9aKFV4foBd7kO0VKxKTX2WlZDXIdQoXOCl8781HWIlojF5ndwDeg3sOf7KtVSS4AdsrWpBa6DFCLyI3VwzHEUWmjVehsDN7sOUajIlxq4HNjbdQgVeieGZdaUSG9+e+nMbsBrQI3jKCoaZgG7VPrMpJEdqYO93X9GC62Kpy/wS9chmhPZUgMnAXu5DqEi5zIvndnedYimRLLUXjrTHrjOdQ4VSe2Air7qRyRLjT0m3cd1CBVZ3/PSmR+6DtGYyO0o89KZrsBH6FzdqrTeB/pla1PrXAepL4oj9SVooVXpbQdU5GgdqZHaS2e6A1n0/G5VHu8CO2VrU3Wug+SL2kg9Ai20Kp8dgBNdh6gvMqUORunhrnOo2LnMdYD6IlNq4FSgi+sQKnZ29dKZg1yHyBelUp/tOoCKrUtdB8gXiR1lXjqzHzDBdQ4Va7tka1Nvuw4B0Rmpz3EdQMXe+a4DrBf6kTo42WQ+0NFxFBVvC4Fe2drUWtdBojBSn4IWWrnXA6iIHWZRKLXuIFOV4iTXASDkm99eOjMQmOQ6h1KBJUDPbG1qlcsQYR+pz3AdQKk8GwOHuw4R9lI7/wUqVY/zD3mEdvPbS2f6ATNc51CqnhXYTfDlrgKEeaQOxcyOKnY6AUe5DKClVqr4nF4xM5Sl9tKZdsABrnMo1Yh9Xa48lKUG9sNu5ihViXoFV1h1Iqyl1k1vVekGu1qxllqp0tjH1YpDV2ovnekB7OY6h1LN0JG6BXYHxHUIpZqxq5fOONnvE8ZS7+A6gFIFSODosk9hLPWOrgMoVSAn76vDWGodqVVYDHKx0jCWWkdqFRZ9Xaw0VKX20pkksJnrHEoVaAsXKw1VqdFNbxUuG3vpzMblXmnYSq2b3ipsyj5ah63UOlKrsNmy3CsMW6m3dh1AqRbSkboZ3V0HUKqFdKRuRjfXAZRqococqUXkzHr3q0Xk16WJ1KSuDtapVFtU7Eh9oIg8KyK9RGRn7FzbLi7u3tXBOpVqi57lXmGikCcZY34kIicCb2FnSzzJGDOxpMka5uI/EqXaoqbcKyx083tb4ELgMSALDBORsn6szEtnBAe/IKXaqKCBs5gK3fx+GrjSGPMT7IR/HwBTSpaqYe3LvD6liqHsA1Gh/4vsbYxZAmDs7P83iciY0sVqkJZahVHFlrqjiNwM9DbGHCoi/bDTtXxQumj/Q0tdZNWsW3ty9YtTLkw83qEby/q4zhNFdcgSWFzWdRZa6nuBe4CRwf33gYeAu0qQqTGry7iuSPsWX34+suZvM1NVk7erljpnc2nFQRV2C7ecCi11D2PMwyJyOYAxZq2IrCthrobkgDrCd8JMxRhSNW36FYnRy7aWBXuJ6MUQymRtuVdYaKmXi8gmgAEQkUHYkpVNtjZlvHQmh55V1iIdWbVieOLJqadX/6NnJ1nd33WeGKrYUl8MjAG2EZGJwKbA8SVL1biv0FIXZFuZl70qce+cwVXv7CbCd1znibGyDn5QeKm3AQ7DnvJ2HDCwBa8tpsXAtx2sNxSEurofVL/0+qWJh6s3JbeHCJ7rTIrPy73CQot5hTHmERHpBhwE3ATcji13OZV3N2JIdCe3KJ144K1jqif2rZF1e7vOozZQsaVev1MsBdxhjHlKRPzSRGqSljrPoKoZ7/iJ+77cXuYOEGGI6zyqQRVb6k9E5E7sKH29iLTHzV7orxyss6K0Z/XKs6szr5+beLp7F1nZz3Ue1azPyr3CQkt9AnAocKMx5isR6QWMKF2sRsV2pO4jn87zE6NmHVA1vX+VmP1c51EFq8yR2hizAng87/4CYEGpQjVhoYN1OmTMkVWvTr285gHTi0V7iriZcla1SWWWuoLMdB2gHDZmWW5E4uFpJ1aP79NO1g5wnUe1ybxyrzBspZ7uOkAp7Saz3ruq5t7P+8vsPfWMr0hYBcwq90rFfugqPIKzyso+QXqpJFi75vTq56cMTzzRJSkr9IyvaJmGn9u93CsN20gNdvaVfV2HaKvNWbjgypr73v9+1dR+1WKcXB1RldzbLlaqpS6zg6umvDEy8bdVW8nnA0To5TqPKqm3XKw0rKUOlc58vfTnicfeGFb9Qu8Osqbsm2PKGR2pCxSanWU7ypwPr66555MB8v7uIuzvOo8qOx2pC1TRI3UVdetOrh435eeJR9tvIkt3x34YRsXPYvzcXBcrDt3ebwAvnZkDbOU6R76eLP5iZM3fZqSqJm2fkDp9r6yews8NdbHiMI7UABOAk12HANi/6s3pVyZGL9tG5uuHKlS+ca5WHNZSZ3BY6o6sWnFe4qmpZ1b/o2cnWaXHllVDXnS14rCW+jnsx0Gry7nSbeSTOVcn7s3uUzVDZxNRTZmPn3N2SnMo31MDeOnMv6H0xRLq6o6rnvD6iMRD1T35ag8RpNTrVKE3Gj/3Y1crD+tIDXYTvGSl7saSL9OJB6YfW/3yNjqbiGohZ++nIfylri32QveWme9cVTPqyx3kY93xpVrL2ftpCPHmNxTv0FY71qw6uzoz5dzE0902kq93KkI0FV+T8XODXAYI80gNdrT+aWtfvJV8Ns9PjPpwSNWbO+tsIqpI7ncdIIalNuaIqkn/ubzm7+s2Z9EAnU1EFdFa7OWonAp7qcdh5y1rdoL/jVmWuzTxyLQfVv9rq3ayds/SR1Mx9AJ+7gvXIUJ9XapsbWolzWzu7Cqz3n+y3RUT3mx/TuLHiRcOaCdr9WIAqlScb3pD+EdqgD8DF+T/IMHaNadWj339gsQTnbvK8v7Adm6iqRhZBjzpOgSEfO/3el468yowqBeLPr2iZvS7h1RN6VctpqfrXCpW7sfPDXMdAqIxUrN/1Zt/uDpxr+kjn+2lx5aVI7e6DrBeJEZq/GQH4GPs1TiVKrcJ+LmKmQQj1DvK/svPrQTudB1DxdYNrgPki0aprT8Ba1yHULEzE3jGdYh80Sm1n1sA3Os6hoqdm/BzFfUeNjqltq7GXhVBqXL4lAo5Np0vWqX2c/OA213HULHxf/i5ihtEolVq6zrsiQBKldLHwC2uQzQkeqW2597e7DqGirzLg6MuFSd6pbZuBL50HUJF1mTgAdchGhPNUvu5JcBvXcdQkXVRpe3xzhfNUlu34OhaRirSHsLPveo6RFOiW2o/twY4G6hzHUVFxkrgMtchmhPdUgP4uUnAH13HUJFxDX5ujusQzYl2qa1fAk4uVKYiZRJwvesQhYh+qf3cMtowOaFSwArgVPzcOtdBChH9UgP4uQwVMCGcCq00fu591yEKFY9SW+djzwJSqiXGAbe5DtES0ZgkoVB+cm/sZXDbuY6iQiEH7OLq4vGtFaeRGvzca8AlrmOo0Dg3bIWGuJUawM/dBjzoOoaqeL/Hz4Xy30n8Sm2djZ2xQqmGjAN+4TpEa8XrPXU+P9kPeA3o7DqKqiizgYH4uYWug7RWXEdq8HPvACdgr3+kFNgdY0eEudAQ51ID+LlngTOAmG6uqDzrgBPwc6F/WxbvUgP4udHoHvG4qwPOwM+NdR2kGLTUAH7uZkJyXq8qOgOcg5+7z3WQYonvjrKG+Mm7sJvjKj7Ow89FarJKHak3dA7wsOsQqmx+HrVCg5Z6Q/ZTOCdhL4+rou0X+LmKnA20rXTzuzF+8jrgctcxVNEZ4DL8XEVd/6qYtNRN8ZMXY2cmFddRVFGswn4uOtIfw9VSN8dPngb8Fah2nES1zSLgaPzcRNdBSk1LXQg/eST2mkkbu46iWuUD4HD83CzXQcpBS10oP7kd8Diwk+soqkVeBobi5xa5DlIuuve7UHY6m4HA311HUQW7EzgoToUGHalbx09eANwE1LiOohq0GDgLP/e46yAuaKlby08OBh4BeruOojbwb+CUMM5YUiy6+d1a9tIr/YHInDMccuuAXwPfjXOhQUfq4vCTh2Dfv/VxHSWmPsQef4784apC6EhdDH7ueWBn7FSyeu2u8vkaOzrvpIX+ho7UxeYn98GerLKj6ygR9zRwIX7uI9dBKo2WuhT8ZDvgAmAk0M1xmqiZjS3zM66DVCotdSn5yW7YYg8H2jtOE3aLgd8DN+LnVroOU8m01OXgJ7cEfgWcjh7bbqlF2DLfhp9b4jpMGGipy8lPfhs7cp8MdHCcptJ9jv2E3O3BlUtVgbTULvjJHsBZwHnAlo7TVJq5wM3Anfi5Fa7DhJGW2iU/WQ0cjd2pNsRtGKfWAGOwRw3G4uf0sGAbaKkrhZ/cBfgJcBywmeM05TITuAu4Dz/3heswUaGlrjR+sgrYFzgeOBbYwm2govsIyAAP4OdecR0mirTUlcxPCvbjnscBQ4G+TvO0zhrsZ5ozwLNRuAJGpdNSh4mf3BzYL+/Wn8qbZqkOmAFMAsZi3yProagy0lKHmZ/cCBiM3VzvB2yHHc07lSnBWuBdYFpwmwq8roeg3NJSR43dZO8NbBvctgvuJ4Guwdf1ty71Xl2HnXFzFbA6+LoQe5hpXvB1bt79efi51SX986gW01LHmT2k1gX7vndVcDEDFXJaaqUiRj9PrVTEaKlVSYjIOhGZlnfzSriurIj0KNXywybhOoCKrK+NMbu5DhFHOlKrshGRPUXkJRGZKiLPi0iv4OfjReRmEfm3iMwUkb1E5HER+UBEfpP3+ieD184QkXMaWccpIvJasHVwp4hU2nH8ktNSq1LpmLfp/YSI1AC3AscbY/YE7gauzXv+amPM/sAdwFPA+dh5304TkU2C55wRvHYA8LO8nwMgIjsCJwL7BlsJ67Afc40V3fxWpbLB5reI7Iwt6QsiAvZMuAV5zx8TfH0LmGGMWRC8bjb246mLsEU+Jnjeltjj8PlX3zgQ2BOYEqyjI/Zz2bGipVblItiyDm7k8VXB17q879ffT4jIEOAgYLAxZoWIjOd/J5oQYJQxJtbXFdfNb1Uu7wGbishgABGpEZGWXGwwCSwOCr0DMKiB54wDjheRnsE6uotI7OZi11KrsjDGrMZ+nPR6EXkTe674Pi1YxHPYEXs6cA32AyP11/EOdi64scHzXgB6tTF66OgZZUpFjI7USkWMllqpiNFSKxUxWmqlIkZLrVTEaKmVihgttVIRo6VWKmK01EpFjJZaqYjRUisVMVpqpSJGS61UxGiplYoYLbVSEaOlVipitNRKRcz/AzQ+E9y3Ic3BAAAAAElFTkSuQmCC\n",
=======
      "image/png": "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\n",
>>>>>>> e8e56c1076dfc8bf7e878bf6c4b339f98534e377
      "text/plain": [
       "<Figure size 432x288 with 1 Axes>"
      ]
     },
     "metadata": {},
     "output_type": "display_data"
    }
   ],
   "source": [
    "#Displaying entries\n",
    "\n",
    "print(\"\\033[1mGenders: \\033[0m \\nBy count:\")\n",
    "print(df1['sex'].value_counts())\n",
    "print(\"\\nBy Percentage:\")\n",
    "print(df1['sex'].value_counts(normalize= True)*100)\n",
    "df1['sex'].value_counts(normalize= True).plot(kind='pie',title='Entries by Gender')\n",
    "\n"
   ]
  },
  {
   "cell_type": "code",
<<<<<<< HEAD
   "execution_count": 292,
=======
   "execution_count": 118,
>>>>>>> e8e56c1076dfc8bf7e878bf6c4b339f98534e377
   "metadata": {},
   "outputs": [
    {
     "name": "stdout",
     "output_type": "stream",
     "text": [
      "\u001b[1mAge: \u001b[0m \n",
      "By count:\n",
<<<<<<< HEAD
      "18-24    47\n",
      "25-34    26\n",
      "45-60    16\n",
      "35-44    14\n",
      "Name: age, dtype: int64\n",
      "\n",
      "By Percentage:\n",
      "18-24    45.631068\n",
      "25-34    25.242718\n",
      "45-60    15.533981\n",
      "35-44    13.592233\n",
=======
      "18-24    45\n",
      "25-34    24\n",
      "45-60    14\n",
      "35-44    12\n",
      "Name: age, dtype: int64\n",
      "\n",
      "By Percentage:\n",
      "18-24    47.368421\n",
      "25-34    25.263158\n",
      "45-60    14.736842\n",
      "35-44    12.631579\n",
>>>>>>> e8e56c1076dfc8bf7e878bf6c4b339f98534e377
      "Name: age, dtype: float64\n"
     ]
    },
    {
     "data": {
      "text/plain": [
       "<AxesSubplot:title={'center':'Entries by age'}, ylabel='age'>"
      ]
     },
<<<<<<< HEAD
     "execution_count": 292,
=======
     "execution_count": 118,
>>>>>>> e8e56c1076dfc8bf7e878bf6c4b339f98534e377
     "metadata": {},
     "output_type": "execute_result"
    },
    {
     "data": {
<<<<<<< HEAD
      "image/png": "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\n",
=======
      "image/png": "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\n",
>>>>>>> e8e56c1076dfc8bf7e878bf6c4b339f98534e377
      "text/plain": [
       "<Figure size 432x288 with 1 Axes>"
      ]
     },
     "metadata": {},
     "output_type": "display_data"
    }
   ],
   "source": [
    "print(\"\\033[1mAge: \\033[0m \\nBy count:\")\n",
    "print(df1['age'].value_counts())\n",
    "print(\"\\nBy Percentage:\")\n",
    "print(df1['age'].value_counts(normalize= True)*100)\n",
    "df1['age'].value_counts(normalize= True).plot(kind='pie',title='Entries by age')\n"
   ]
  },
  {
   "cell_type": "code",
<<<<<<< HEAD
   "execution_count": 293,
=======
   "execution_count": 119,
>>>>>>> e8e56c1076dfc8bf7e878bf6c4b339f98534e377
   "metadata": {},
   "outputs": [
    {
     "name": "stdout",
     "output_type": "stream",
     "text": [
      "\u001b[1mMarital Status: \u001b[0m \n",
      "By count:\n",
<<<<<<< HEAD
      "Single     62\n",
      "Married    41\n",
      "Name: marital status, dtype: int64\n",
      "\n",
      "By Percentage:\n",
      "Single     60.194175\n",
      "Married    39.805825\n",
=======
      "Single     59\n",
      "Married    36\n",
      "Name: marital status, dtype: int64\n",
      "\n",
      "By Percentage:\n",
      "Single     62.105263\n",
      "Married    37.894737\n",
>>>>>>> e8e56c1076dfc8bf7e878bf6c4b339f98534e377
      "Name: marital status, dtype: float64\n"
     ]
    },
    {
     "data": {
      "text/plain": [
       "<AxesSubplot:title={'center':'Entries by marital status'}, ylabel='marital status'>"
      ]
     },
<<<<<<< HEAD
     "execution_count": 293,
=======
     "execution_count": 119,
>>>>>>> e8e56c1076dfc8bf7e878bf6c4b339f98534e377
     "metadata": {},
     "output_type": "execute_result"
    },
    {
     "data": {
<<<<<<< HEAD
      "image/png": "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\n",
=======
      "image/png": "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\n",
>>>>>>> e8e56c1076dfc8bf7e878bf6c4b339f98534e377
      "text/plain": [
       "<Figure size 432x288 with 1 Axes>"
      ]
     },
     "metadata": {},
     "output_type": "display_data"
    }
   ],
   "source": [
    "print(\"\\033[1mMarital Status: \\033[0m \\nBy count:\")\n",
    "print(df1['marital status'].value_counts())\n",
    "print(\"\\nBy Percentage:\")\n",
    "print(df1['marital status'].value_counts(normalize= True)*100)\n",
    "df1['marital status'].value_counts(normalize= True).plot(kind='pie', title='Entries by marital status')\n"
   ]
  },
  {
   "cell_type": "markdown",
   "metadata": {},
   "source": [
    "## To start with the Analysis, we'll take up the relevant attributes, one at a time.In case a further need to analyse some particular attribute is felt, plots will be used to provide a clearer explanation. \n",
    "## To start with, Preferred Modes of working will be analysed against Gender, Age and Marital Status individually. Percentages are displayed columnwise.\n",
    "## This will be followed by a mosaic plot of Preferred Mode, Gender and Marital Status(Mosaic Plots will be used for multivariate analysis)"
   ]
  },
  {
   "cell_type": "code",
<<<<<<< HEAD
   "execution_count": 294,
=======
   "execution_count": 120,
>>>>>>> e8e56c1076dfc8bf7e878bf6c4b339f98534e377
   "metadata": {},
   "outputs": [],
   "source": [
    "import matplotlib.pyplot as plt\n",
    "import numpy as np\n",
    "from statsmodels.graphics.mosaicplot import mosaic\n",
    "from itertools import product"
   ]
  },
  {
   "cell_type": "code",
<<<<<<< HEAD
   "execution_count": 295,
=======
   "execution_count": 121,
>>>>>>> e8e56c1076dfc8bf7e878bf6c4b339f98534e377
   "metadata": {},
   "outputs": [
    {
     "name": "stdout",
     "output_type": "stream",
     "text": [
      "\u001b[1mPreferred modes of working by percentage:\u001b[0m\n",
<<<<<<< HEAD
      "Physical Mode                  53.398058\n",
      "Remote Mode(Work From Home)    46.601942\n",
=======
      "Remote Mode(Work From Home)    50.526316\n",
      "Physical Mode                  49.473684\n",
>>>>>>> e8e56c1076dfc8bf7e878bf6c4b339f98534e377
      "Name: preferred mode, dtype: float64\n",
      "\n",
      " \n",
      "\u001b[1mPreferred modes of working by Gender:\u001b[0m\n",
      "(How to read the table: 44.7% females prefer Physical mode of working while 55.2% females prefer Remote mode of working): \n",
      "\n"
     ]
    },
    {
     "data": {
      "text/html": [
       "<div>\n",
       "<style scoped>\n",
       "    .dataframe tbody tr th:only-of-type {\n",
       "        vertical-align: middle;\n",
       "    }\n",
       "\n",
       "    .dataframe tbody tr th {\n",
       "        vertical-align: top;\n",
       "    }\n",
       "\n",
       "    .dataframe thead th {\n",
       "        text-align: right;\n",
       "    }\n",
       "</style>\n",
       "<table border=\"1\" class=\"dataframe\">\n",
       "  <thead>\n",
       "    <tr style=\"text-align: right;\">\n",
       "      <th>sex</th>\n",
       "      <th>Female</th>\n",
       "      <th>Male</th>\n",
       "    </tr>\n",
       "    <tr>\n",
       "      <th>preferred mode</th>\n",
       "      <th></th>\n",
       "      <th></th>\n",
       "    </tr>\n",
       "  </thead>\n",
       "  <tbody>\n",
       "    <tr>\n",
       "      <th>Physical Mode</th>\n",
<<<<<<< HEAD
       "      <td>53.333333</td>\n",
       "      <td>53.448276</td>\n",
       "    </tr>\n",
       "    <tr>\n",
       "      <th>Remote Mode(Work From Home)</th>\n",
       "      <td>46.666667</td>\n",
       "      <td>46.551724</td>\n",
=======
       "      <td>44.736842</td>\n",
       "      <td>52.631579</td>\n",
       "    </tr>\n",
       "    <tr>\n",
       "      <th>Remote Mode(Work From Home)</th>\n",
       "      <td>55.263158</td>\n",
       "      <td>47.368421</td>\n",
>>>>>>> e8e56c1076dfc8bf7e878bf6c4b339f98534e377
       "    </tr>\n",
       "  </tbody>\n",
       "</table>\n",
       "</div>"
      ],
      "text/plain": [
       "sex                             Female       Male\n",
       "preferred mode                                   \n",
<<<<<<< HEAD
       "Physical Mode                53.333333  53.448276\n",
       "Remote Mode(Work From Home)  46.666667  46.551724"
      ]
     },
     "execution_count": 295,
=======
       "Physical Mode                44.736842  52.631579\n",
       "Remote Mode(Work From Home)  55.263158  47.368421"
      ]
     },
     "execution_count": 121,
>>>>>>> e8e56c1076dfc8bf7e878bf6c4b339f98534e377
     "metadata": {},
     "output_type": "execute_result"
    }
   ],
   "source": [
    "#Analysing preferred modes of working by Gender\n",
    "print(\"\\033[1mPreferred modes of working by percentage:\\033[0m\")\n",
    "print(df1['preferred mode'].value_counts(normalize= True)*100)\n",
    "print(\"\\n \\n\\033[1mPreferred modes of working by Gender:\\033[0m\\n(How to read the table: 44.7% females prefer Physical mode of working while 55.2% females prefer Remote mode of working): \\n\")\n",
    "pd.crosstab(df1['preferred mode'],df1['sex'], normalize= 'columns')*100\n"
   ]
  },
  {
   "cell_type": "code",
<<<<<<< HEAD
   "execution_count": 296,
=======
   "execution_count": 122,
>>>>>>> e8e56c1076dfc8bf7e878bf6c4b339f98534e377
   "metadata": {},
   "outputs": [
    {
     "name": "stdout",
     "output_type": "stream",
     "text": [
      "\n",
      " \n",
      "\u001b[1mPreferred modes of working by Age:\u001b[0m \n",
      "(How to read the table: 44.4% of the people belonging to the age group 18-24 prefer Physical mode of working while 55.5% of the same age group prefer Remote mode of working)\n",
      "\n"
     ]
    },
    {
     "data": {
      "text/html": [
       "<div>\n",
       "<style scoped>\n",
       "    .dataframe tbody tr th:only-of-type {\n",
       "        vertical-align: middle;\n",
       "    }\n",
       "\n",
       "    .dataframe tbody tr th {\n",
       "        vertical-align: top;\n",
       "    }\n",
       "\n",
       "    .dataframe thead th {\n",
       "        text-align: right;\n",
       "    }\n",
       "</style>\n",
       "<table border=\"1\" class=\"dataframe\">\n",
       "  <thead>\n",
       "    <tr style=\"text-align: right;\">\n",
       "      <th>age</th>\n",
       "      <th>18-24</th>\n",
       "      <th>25-34</th>\n",
       "      <th>35-44</th>\n",
       "      <th>45-60</th>\n",
       "    </tr>\n",
       "    <tr>\n",
       "      <th>preferred mode</th>\n",
       "      <th></th>\n",
       "      <th></th>\n",
       "      <th></th>\n",
       "      <th></th>\n",
       "    </tr>\n",
       "  </thead>\n",
       "  <tbody>\n",
       "    <tr>\n",
       "      <th>Physical Mode</th>\n",
<<<<<<< HEAD
       "      <td>46.808511</td>\n",
       "      <td>53.846154</td>\n",
       "      <td>50.0</td>\n",
       "      <td>75.0</td>\n",
       "    </tr>\n",
       "    <tr>\n",
       "      <th>Remote Mode(Work From Home)</th>\n",
       "      <td>53.191489</td>\n",
       "      <td>46.153846</td>\n",
       "      <td>50.0</td>\n",
       "      <td>25.0</td>\n",
=======
       "      <td>44.444444</td>\n",
       "      <td>50.0</td>\n",
       "      <td>41.666667</td>\n",
       "      <td>71.428571</td>\n",
       "    </tr>\n",
       "    <tr>\n",
       "      <th>Remote Mode(Work From Home)</th>\n",
       "      <td>55.555556</td>\n",
       "      <td>50.0</td>\n",
       "      <td>58.333333</td>\n",
       "      <td>28.571429</td>\n",
>>>>>>> e8e56c1076dfc8bf7e878bf6c4b339f98534e377
       "    </tr>\n",
       "  </tbody>\n",
       "</table>\n",
       "</div>"
      ],
      "text/plain": [
<<<<<<< HEAD
       "age                              18-24      25-34  35-44  45-60\n",
       "preferred mode                                                 \n",
       "Physical Mode                46.808511  53.846154   50.0   75.0\n",
       "Remote Mode(Work From Home)  53.191489  46.153846   50.0   25.0"
      ]
     },
     "execution_count": 296,
=======
       "age                              18-24  25-34      35-44      45-60\n",
       "preferred mode                                                     \n",
       "Physical Mode                44.444444   50.0  41.666667  71.428571\n",
       "Remote Mode(Work From Home)  55.555556   50.0  58.333333  28.571429"
      ]
     },
     "execution_count": 122,
>>>>>>> e8e56c1076dfc8bf7e878bf6c4b339f98534e377
     "metadata": {},
     "output_type": "execute_result"
    }
   ],
   "source": [
    "#Analysing preferred modes of working by Age\n",
    "print(\"\\n \\n\\033[1mPreferred modes of working by Age:\\033[0m \\n(How to read the table: 44.4% of the people belonging to the age group 18-24 prefer Physical mode of working while 55.5% of the same age group prefer Remote mode of working)\\n\")\n",
    "pd.crosstab(df1['preferred mode'],df1['age'], normalize= 'columns')*100"
   ]
  },
  {
   "cell_type": "code",
<<<<<<< HEAD
   "execution_count": 297,
=======
   "execution_count": 123,
>>>>>>> e8e56c1076dfc8bf7e878bf6c4b339f98534e377
   "metadata": {},
   "outputs": [
    {
     "name": "stdout",
     "output_type": "stream",
     "text": [
      "\n",
      " \n",
      "\u001b[1mPreferred modes of working by Marital status:\u001b[0m\n",
      "(How to read the table: 55.5% of the people who are married prefer Physical mode of working while 44.4% of the married people prefer Remote mode of working)\n"
     ]
    },
    {
     "data": {
      "text/html": [
       "<div>\n",
       "<style scoped>\n",
       "    .dataframe tbody tr th:only-of-type {\n",
       "        vertical-align: middle;\n",
       "    }\n",
       "\n",
       "    .dataframe tbody tr th {\n",
       "        vertical-align: top;\n",
       "    }\n",
       "\n",
       "    .dataframe thead th {\n",
       "        text-align: right;\n",
       "    }\n",
       "</style>\n",
       "<table border=\"1\" class=\"dataframe\">\n",
       "  <thead>\n",
       "    <tr style=\"text-align: right;\">\n",
       "      <th>marital status</th>\n",
       "      <th>Married</th>\n",
       "      <th>Single</th>\n",
       "    </tr>\n",
       "    <tr>\n",
       "      <th>preferred mode</th>\n",
       "      <th></th>\n",
       "      <th></th>\n",
       "    </tr>\n",
       "  </thead>\n",
       "  <tbody>\n",
       "    <tr>\n",
       "      <th>Physical Mode</th>\n",
<<<<<<< HEAD
       "      <td>60.97561</td>\n",
       "      <td>48.387097</td>\n",
       "    </tr>\n",
       "    <tr>\n",
       "      <th>Remote Mode(Work From Home)</th>\n",
       "      <td>39.02439</td>\n",
       "      <td>51.612903</td>\n",
=======
       "      <td>55.555556</td>\n",
       "      <td>45.762712</td>\n",
       "    </tr>\n",
       "    <tr>\n",
       "      <th>Remote Mode(Work From Home)</th>\n",
       "      <td>44.444444</td>\n",
       "      <td>54.237288</td>\n",
>>>>>>> e8e56c1076dfc8bf7e878bf6c4b339f98534e377
       "    </tr>\n",
       "  </tbody>\n",
       "</table>\n",
       "</div>"
      ],
      "text/plain": [
<<<<<<< HEAD
       "marital status                Married     Single\n",
       "preferred mode                                  \n",
       "Physical Mode                60.97561  48.387097\n",
       "Remote Mode(Work From Home)  39.02439  51.612903"
      ]
     },
     "execution_count": 297,
=======
       "marital status                 Married     Single\n",
       "preferred mode                                   \n",
       "Physical Mode                55.555556  45.762712\n",
       "Remote Mode(Work From Home)  44.444444  54.237288"
      ]
     },
     "execution_count": 123,
>>>>>>> e8e56c1076dfc8bf7e878bf6c4b339f98534e377
     "metadata": {},
     "output_type": "execute_result"
    }
   ],
   "source": [
    "#Analysing preferred modes of working by Marital Status\n",
    "print(\"\\n \\n\\033[1mPreferred modes of working by Marital status:\\033[0m\\n(How to read the table: 55.5% of the people who are married prefer Physical mode of working while 44.4% of the married people prefer Remote mode of working)\")\n",
    "pd.crosstab(df1['preferred mode'],df1['marital status'], normalize= 'columns')*100"
   ]
  },
  {
   "cell_type": "code",
<<<<<<< HEAD
   "execution_count": 298,
=======
   "execution_count": 124,
>>>>>>> e8e56c1076dfc8bf7e878bf6c4b339f98534e377
   "metadata": {},
   "outputs": [
    {
     "data": {
      "text/html": [
       "<div>\n",
       "<style scoped>\n",
       "    .dataframe tbody tr th:only-of-type {\n",
       "        vertical-align: middle;\n",
       "    }\n",
       "\n",
       "    .dataframe tbody tr th {\n",
       "        vertical-align: top;\n",
       "    }\n",
       "\n",
       "    .dataframe thead th {\n",
       "        text-align: right;\n",
       "    }\n",
       "</style>\n",
       "<table border=\"1\" class=\"dataframe\">\n",
       "  <thead>\n",
       "    <tr style=\"text-align: right;\">\n",
       "      <th>preferred mode</th>\n",
       "      <th>Physical Mode</th>\n",
       "      <th>Remote Mode(Work From Home)</th>\n",
       "    </tr>\n",
       "    <tr>\n",
       "      <th>sex</th>\n",
       "      <th></th>\n",
       "      <th></th>\n",
       "    </tr>\n",
       "  </thead>\n",
       "  <tbody>\n",
       "    <tr>\n",
       "      <th>Female</th>\n",
<<<<<<< HEAD
       "      <td>52.941176</td>\n",
       "      <td>47.058824</td>\n",
=======
       "      <td>48.387097</td>\n",
       "      <td>51.612903</td>\n",
>>>>>>> e8e56c1076dfc8bf7e878bf6c4b339f98534e377
       "    </tr>\n",
       "    <tr>\n",
       "      <th>Male</th>\n",
       "      <td>42.857143</td>\n",
       "      <td>57.142857</td>\n",
       "    </tr>\n",
       "  </tbody>\n",
       "</table>\n",
       "</div>"
      ],
      "text/plain": [
       "preferred mode  Physical Mode  Remote Mode(Work From Home)\n",
       "sex                                                       \n",
<<<<<<< HEAD
       "Female              52.941176                    47.058824\n",
       "Male                42.857143                    57.142857"
      ]
     },
     "execution_count": 298,
=======
       "Female              48.387097                    51.612903\n",
       "Male                42.857143                    57.142857"
      ]
     },
     "execution_count": 124,
>>>>>>> e8e56c1076dfc8bf7e878bf6c4b339f98534e377
     "metadata": {},
     "output_type": "execute_result"
    }
   ],
   "source": [
    "#Analysing preferred modes with respect to gender and marital status\n",
    "#finding labels for the mosaic plot\n",
    "df_single=df1[df1['marital status']=='Single']\n",
    "pd.crosstab(df_single['sex'],df_single['preferred mode'],normalize='index')*100\n"
   ]
  },
  {
   "cell_type": "code",
<<<<<<< HEAD
   "execution_count": 299,
=======
   "execution_count": 125,
>>>>>>> e8e56c1076dfc8bf7e878bf6c4b339f98534e377
   "metadata": {},
   "outputs": [
    {
     "data": {
      "text/html": [
       "<div>\n",
       "<style scoped>\n",
       "    .dataframe tbody tr th:only-of-type {\n",
       "        vertical-align: middle;\n",
       "    }\n",
       "\n",
       "    .dataframe tbody tr th {\n",
       "        vertical-align: top;\n",
       "    }\n",
       "\n",
       "    .dataframe thead th {\n",
       "        text-align: right;\n",
       "    }\n",
       "</style>\n",
       "<table border=\"1\" class=\"dataframe\">\n",
       "  <thead>\n",
       "    <tr style=\"text-align: right;\">\n",
       "      <th>preferred mode</th>\n",
       "      <th>Physical Mode</th>\n",
       "      <th>Remote Mode(Work From Home)</th>\n",
       "    </tr>\n",
       "    <tr>\n",
       "      <th>sex</th>\n",
       "      <th></th>\n",
       "      <th></th>\n",
       "    </tr>\n",
       "  </thead>\n",
       "  <tbody>\n",
       "    <tr>\n",
       "      <th>Female</th>\n",
<<<<<<< HEAD
       "      <td>54.545455</td>\n",
       "      <td>45.454545</td>\n",
       "    </tr>\n",
       "    <tr>\n",
       "      <th>Male</th>\n",
       "      <td>63.333333</td>\n",
       "      <td>36.666667</td>\n",
=======
       "      <td>28.571429</td>\n",
       "      <td>71.428571</td>\n",
       "    </tr>\n",
       "    <tr>\n",
       "      <th>Male</th>\n",
       "      <td>62.068966</td>\n",
       "      <td>37.931034</td>\n",
>>>>>>> e8e56c1076dfc8bf7e878bf6c4b339f98534e377
       "    </tr>\n",
       "  </tbody>\n",
       "</table>\n",
       "</div>"
      ],
      "text/plain": [
       "preferred mode  Physical Mode  Remote Mode(Work From Home)\n",
       "sex                                                       \n",
<<<<<<< HEAD
       "Female              54.545455                    45.454545\n",
       "Male                63.333333                    36.666667"
      ]
     },
     "execution_count": 299,
=======
       "Female              28.571429                    71.428571\n",
       "Male                62.068966                    37.931034"
      ]
     },
     "execution_count": 125,
>>>>>>> e8e56c1076dfc8bf7e878bf6c4b339f98534e377
     "metadata": {},
     "output_type": "execute_result"
    }
   ],
   "source": [
    "#Finding labels for the mosaic plot\n",
    "df_married=df1[df1['marital status']=='Married']\n",
    "pd.crosstab(df_married['sex'],df_married['preferred mode'],normalize='index')*100\n"
   ]
  },
  {
   "cell_type": "markdown",
   "metadata": {},
   "source": [
    "## Analysing Preferred modes of working by Marital status and Gender"
   ]
  },
  {
   "cell_type": "code",
<<<<<<< HEAD
   "execution_count": 300,
=======
   "execution_count": 126,
>>>>>>> e8e56c1076dfc8bf7e878bf6c4b339f98534e377
   "metadata": {},
   "outputs": [
    {
     "data": {
<<<<<<< HEAD
      "image/png": "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\n",
=======
      "image/png": "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\n",
>>>>>>> e8e56c1076dfc8bf7e878bf6c4b339f98534e377
      "text/plain": [
       "<Figure size 432x288 with 3 Axes>"
      ]
     },
     "metadata": {
      "needs_background": "light"
     },
     "output_type": "display_data"
    }
   ],
   "source": [
    "#This Mosaic plot will explain what each tile represents to enhance understanding\n",
    "mosaic(df1,['marital status','sex','preferred mode'],title='Fig 4- Mosaic Plot with Tile Descriptions\\n')\n",
    "plt.show()"
   ]
  },
  {
   "cell_type": "code",
<<<<<<< HEAD
   "execution_count": 301,
=======
   "execution_count": 127,
>>>>>>> e8e56c1076dfc8bf7e878bf6c4b339f98534e377
   "metadata": {},
   "outputs": [
    {
     "data": {
<<<<<<< HEAD
      "image/png": "iVBORw0KGgoAAAANSUhEUgAAAYsAAAEoCAYAAACpaN3LAAAAOXRFWHRTb2Z0d2FyZQBNYXRwbG90bGliIHZlcnNpb24zLjMuNCwgaHR0cHM6Ly9tYXRwbG90bGliLm9yZy8QVMy6AAAACXBIWXMAAAsTAAALEwEAmpwYAAAuC0lEQVR4nO3dd3gVVf7H8fc3N3QQFEGqoFIEEcEGNsTeRdYuFmzrrmtZd3V/drH3tnZFLKurrgW7ggoBkSYC0hGkCCIKSCeEcO/398ecwCUmTAIpED6v58mTKWdmzpmZO5+ZM5dg7o6IiMjGZJR3BUREZMunsBARkVgKCxERiaWwEBGRWAoLERGJpbAQEZFYCostlJmtMLNdy7seZc3MJppZ1xJep5tZi5JcZxG2udF2mFmWmV1SdjWquIqzL81slpkduYnb2eRlKwKFRTkLJ2B2CIe8n0buXtPdZ2ziOt3MVqatr3cxlu0aln8v3/S9wvSsTalTUbn7Hu5erG2YWfNQt7z2zjKz64u7bTPraWZDirtcQdLbYWa9zOy1TV1XOCap0LblZjbVzC4siXqWlG39QrotyCzvCggAJ7n7lyW8zr3cffomLrsAONDM6rr7ojDtAuCHkqlaqanj7mvN7ADgKzMb6+6fl3elSsg8d29iZgZ0A94xsxHuPqmoKzCzTHdfW3pVlIpMTxZbqPSuEzOra2YfmdkyM/vWzO4qqTvgQqwB3gfOCttPAGcAr+er44GhPkvD7wPT5vU0sxnhTnimmfUI03czswFmtsjMFprZ62ZWJ225dXeoZpYwsxvN7Mewnu/MrGlc5d19GDARaJd/npnVNrNXzWyBmc02s5vNLMPM2gDPAgeEO/glBSx7mJmNTxv/0sxGpo0PMbNT0tthZscCNwJnhvV+n7bKZmb2TWhbfzPbsQhtc3d/H1gMtA11vz7so0Vm9j8z2yHUIe+J62Iz+wkYEKZfamaTw3YnmdneYXojM3s37JuZZnZVWtt6hXW/GpabaGb7hnn/AXYGPgpt/FeY/raZzQ/nx2Az2yNtfRs9p81sdzP7wsx+D09SZ8Ttm7DcRs+vYL/Q7sVm9pKZVU1b/kQzG2tmS8xsqJm1L2Q7+5vZqFD/X83skaLUb6vm7vopxx9gFnBkAdMdaBGG3ww/1YG2wBxgyEbW6cA8YD7wHtC8GPXpCswFDgRGhGnHA/2AS4CsMG0HogvWeURPqGeH8bpADWAZ0DqUbQjsEYZbAEcBVYB6wGDgsYL2B3AdMB5oDRiwF1C3gDo3D23ODOUOAlYBRxSwL18FPgBqheV+AC4O83rG7NeqQDawY9jW/LCfawHVwry6BbSjF/BavnVlAT8CrcKyWcB9GzsmYTgD6A7khv3yd2A40CTs0+eAN/Ltl1fDMakGnA78DOwX9lULoFlY73fArUBlYFdgBnBMWhtWh3MhAdwLDN/YeQxcFPZNFeAxYGzavELP6VDXOcCFYT/vDSwknEMF7J8s4JJinF8TgKZE5/A3wF1h3t7Ab0Cn0MYLQvkqBRzTYcB5Ybgm0Lm8ryWl/VPuFdjWf8IJuAJYEn7eD9M9nPiJvAtD2jJ3sfGLWpfwga8DPBk+HJlFrE9X1l+YphFdkN4EerBhWJwHjMy37DCiC26N0JZTgWox2zsFGJNvf+R9IKcC3YpQ5+Zhfy0hCqzJwFVp89P3ZQ7QNm3eZWlt6rmx/RrKfA38CegM9Af+BxwLHAaMK6QdvSg4LG5OG78c+HwjxyQV2vc7MBY4K8ybTAjFMN4wnC+Zaftl17T5/YCrC9hGJ+CnfNNuAF5Ka8OXafPaAtkFtbeQNtQJdalNzDkNnAl8nW/554DbCll3FiEsinh+/SVt/HjgxzD8DHBnvuWnAocWcEwHA7cDOxblc1URfvTOYstwihf+zqIe0Qd/Ttq0OYWUBcDdB4fBNWZ2NdFdfhtgvJmtSCva1t1/2siq/gNcQXQhvAg4J21eI2B2vvKzgcbuvtLMzgSuBV40s2+Af7r7FDOrD/wbOITorjOD6AJfkKZEd99FtaNvvE9+R6IQTa/3bKBxMbYxiPVPX4OI6n4oUQgNKsZ6IHoyybOK6A61MPPcvUkB05sBfc0slTYtCeyUNp5+vhS2T5sBjfJ1vyWIwrGw+la1Qt6DhK7Lu4meZOoRhR1Ex6AaGz+nmwGd8tUlk+h83Kginl/p25pNdC7nbfcCM7sybX7ltPnpLgbuAKaY2Uzgdnf/OK5+WzO9s9jyLQDWEnUz5Intt8/Hiboc8OhbVnk/GwsKiD6clwOfuvuqfPPmEX240u1M1MWBu/dz96OI7nSnAC+EMveG+rR39+2Ac/PqVoA5wG5xjSuGhUR3tOn1XlfnUK84eWHRJQwPIgqLQyk8LErzTzvPAY5z9zppP1Xd/ee0Mp6vfEH7dA4wM996arn78UWsR/42nkP0Iv5IoqeJ5mG6EX9OzwEG5atLTXf/axHqUZTzK31bOxOdy3nbvTvfdqu7+xt/aKz7NHc/G6gP3E/0hYMaRajfVkthsYVz9yTRe4deZlbdzHYHzi+svJntYWYdwsvhmsDDRBfDyZuw7ZlEF8GbCpj9KdDKzM4xs8zwJNEW+NjMdjKzk8OHJ4eomy0ZlqsVxpeYWWOi9xKF6Q3caWYtLdLezOoWtx1p7UkSdRvdbWa1zKwZ8A8g72utvwJNzKzyRlYzlKhrbn+ibriJhDthoq6JgvwKNDez0vi8PUvUnmYAZlbPzLptpHxv4Foz2yfs0xZh2ZHAMjP7PzOrFs6fdma2XxHr8SvRe448tYiO/SKi9xL35M0owjn9MdG5dZ6ZVQo/+1n0JYQ4RTm//mZmTcIXAW4E3grTXwD+Ymadwr6pYWYnmFmt/Csws3PNrJ6753UPwvpzvEJSWGwdriC6O5tPdLf/BtEHsSA7EZ38y4heUDYHTnT33E3ZsLsPcfd5BUxfBJwI/JPogvCvsJ2FROfVP4nu2H4nCpzLw6K3E71IXAp8QnTRKMwjRBf3/qE9LxJ1YWyOK4GVRPtmCPBfoE+YN4DoW1TzzWxhQQu7+0pgNDDR3deEycOA2e7+WyHbfDv8XmRmozez/vk9DnwI9Dez5UQvuzsVVtjd3ybqHvovsJzoW287hAv4SUAHYCbRU1hvovOuKO4Fbg7fIrqW6KX6bKIblUmhXukKPafdfTlwNNG38fK+qHE/0UvrOEU5v/5LdE7NCD93he2OAi4les+3GJhO9B6rIMcCE0O37uNE75BWF6F+Wy0LL2tkK2Jm9wMN3P2C8q6LSEnQOb3l05PFViB857x9eDTen+jlWt/yrpfIptI5vfXRt6G2DrWIHtMbEX0P/GGifysgsrXSOb2VUTeUiIjEUjeUiIjEUliIiEgshYWIiMRSWIiISCyFhYiIxFJYiIhILIWFiIjEUliIiEgshYWIiMRSWIiISCyFhYiIxFJYiIhILIWFiIjEUliIiEgshYWIiMRSWIiISCyFhYiIxFJYyBbDzJJmNtbMJpjZ22ZW3cyam9mEElj3X8zs/E1cdkUh093M/pM2nmlmC8zs42Kuf5aZ7bgpdRMpKyUWFvk+6B+ZWZ2SWnch27txE5bJMrOfzMzSpr1f2MVgI+t52cxOK0K5x8ysi5l1M7P306bfYGbT08ZPMrMPi7H9XmZ2bRHK/ByOyVgzu6+o698U+S94Zta1uBdNINvdO7h7O2AN8JeYbT5kZocXZcXu/qy7v1rM+sRZCbQzs2ph/Cjg5xLehsgWoSSfLNI/6L8DfyvBdRek2GERLAEOAgiB1rCE6rMBM9sB6Ozug4GhwAFpsw8AlplZ/TB+IPBNEdebWYxqPBqOSQd3v34z1lMevgZahOGEmb1gZhPNrL+ZVTOz3YBjgesBzKylmX0Xhu8zs0lmNs7MHgrT1gWsmbUwsy/N7HszG21mu5lZTTP7KoyPN7NuRaznZ8AJYfhs4I28GWa2Q7gZGWdmw82sfZheN7RjjJk9B6TfvJxrZiNDwD9nZolN3H8iJaq0uqGGAY0BwgfxczP7zsy+NrPdw/SXzewZMxtoZjPM7FAz62Nmk83s5bwVmdnZ4cM7wczuD9PuA6qFD9TrYVpRP2RvAmeF4T8B76Vty8zswbCt8WZ2Ztr0J8MF6BOgftoy+5jZoNC+fmaWFz6nAZ8DuPsCYKmZ5V38GgPvEoUE4fdQM2sWLljjwu+d0/bVI2Y2ELg/vTFmdqmZfZZ2d1uo/Osxsw7hIjbOzPqa2fahXJaZPWpmg8Px2M/M3jOzaWZ2V9x2CthuYRfNXmb2SrhwziIKhQfMbDxwOzAxrKIl0BFYDbQHLnb3H4EFQBMzawBcCLxsUUh3B/Zw9/ZAQfV9HXjK3fci2ve/hHV3d/e9gcOAh83WP4FuxJvAWWZWNdRtRNq824ExoR43AnlPNrcBQ9y9I/AhkHec2wBnAge5ewcgCfQoQh1ESp+7l8gPsCL8TgBvA8eG8a+AlmG4EzAgDL9M9EEzoBuwDNiTKMC+AzoAjYCfgHpAJjAAOCV9e2G4DfARUCmMPw2cX0Ads0IdxoV69geap9X9VOCLMG+nsO2GRKGSN70R0dPJaUAloqeGemH5M4E+YfgV4KS0bb8MnA+0Du0+AnggtGsxUDW04YJQ/iLg/bRlPwYSYbwXcC1wBdHFpkoBbe1F1CUyNvwcU8B6xgGHhuE7gMfS9tP9YfhqYF7YD1WAuUDdArY3Cxiftr3pwMdh3hPAbWH4cGBsWh2HhP24F+DAj2H5H8M+bgFkp+3j14HvwnAPYAJweihfN+zP74EXw3GrnG+f1QLmFlD/SsCTYZ+MDdtskP9cK+ScH0UUVvcAXdPaPQbYNa38HKB2WH/69N+BHcPxnJe2D6cCvUrqM6of/WzOT0l2RVQzs7FEF9/vgC/MrCbRndvbaTdpVdKW+cjdPdxJ/uru4wHMbGJYTzMgy6M7c8JTRBfg/XzbPgLYB/g2bKca8Fsh9UwSXaDOBKq5+6y0uh0MvOHuSeBXMxsE7Be2mTd9npkNCOVbA+1CWyEKk1/CvIZEd755vgn7IkH05DUSuJXojnmqu682swOILnAA/yEKkzxvh+3nOY/own2Ku+cW0tZH3f2hvBEzOztvPWZWG6jj7oPC7FeIQj5P3juU8cBEd/8lrGMG0BRYVMD2DnP3haFcV6KLM0T79VQAdx8QumFqh3mfuXtuOAcAWoRz4g6gCdFNRGXW7+OdgFWh7LvAv4neFXzn7ovCtvcnOifOIroAp7/XKOxpoQfRTck+oT6ziAK8KD4EHiIKirox2/J8v9MZ8Iq731DE7YqUmRJ/Z0F0ga9M9M4iA1ji6/vNO7h7m7RlcsLvVNpw3ngmhX+w88v7kOVto7W799pI+TeJ7nb/V8B6ClPYh3ti2nb3dPejw7xsNrzYDCUKiwOBYe6+PMzvSuHvK9K3uTLfvAlEgdpkI3UuSP71FCbu2BTHxi6aOQDungq/86annwM5efsYeJgoSHH31URPf2cALwGEG5Ta7v4p8HeiJ9T1G3VfBsw1s1NC+SpmVp3ojv+3EBSHEZ3HRdUHuCPvZifNYEI3UgjPhWH76dOPA7YP5b8CTrPwLit03xWnHiKlpsTfWbj7UuAqorvKbGCmmZ0O6/r+9yrG6kYAh5rZjuEdxNlA3p1wrplVCsPF/ZB9DdxL2svIYDBwppklzKwe0RPFyDD9rDC9IVGfNkTdBPXCEwFmVsnM9gjzJrP+BS3AJKIurEOIuicg6mr4C1GQEH7nvU/pQfQEVJgxwGXAh2bWaCPlChSO02IzOyRMOo/1+7akFXbRLIoZRO8y8r4gkEH0BJBnBdE3p/qH8VrAx2Y2jqg91xSwzvOAq0KZoUADou6tfc1sVKjrlCLWD3ef6+6PFzCrV1jnOOA+4IIw/Xagi5mNBo4mCjzcfRJwM9A/LPMFpfQFDJHiKpVvxLj7GDP7nujC1wN4xsxuJuoXfpOoT7ko6/nFzG4ABhLdYX7q7h+E2c8D48xstLv3COvvb2YZQC7Rk83sQtbrRN0G+fUl+qbS90R3vv9y9/lm1peoK2M88APhouruayz6Cu2/Q7dKJvAY0YvZT4gu5r3ztmlmI4juevO6jYYBf2Z9WFwF9DGz64i6sC6M2T9DLPqGzydmdlReF1AxXAA8G+6sZ8RtbzP0Al4KF8BVrL9o5veHpx53n2ZmnfjjPibcLLQCns/rogvdZfsXsJ5e6etkw66pPAcUMA13r1nU6e6eRfTOB3f/neh9XP4yi4hCIs81afPeAt4qaHsi5cnWP/VLSTOzIcCJ7r6kvOtSEZnZcGAXom8+FTcoRaQYFBalKNwRZ7v7uPKuS0UUuje/UBiLlD6FhYiIxNLfhhIRkVgKiy2Amf25vOsgG9IxEdmQwmLLoAvTlkfHRCSNwkJERGJVmBfcZuYZGVtn9rk7RfubdVJWdEwqDqfofwpiW5RKpXD32F20pf+Z6iLLyMggecvJ5V2NbU+vvgAke3Qv54pInMTrfdcN91r3B30rvl7sQaWpH5V3NbZYqd1PThWl3NZ5Ky4iImVKYSEiIrEUFiIiEkthISIisRQWIiISS2EhIiKxFBYiIhJLYSEiIrEUFiIiEkthISIisRQWIiISS2EhIiKxFBYiIhJLYSEiIrEUFiIiEkthISIisRQWIiISS2EhIiKxFBYiIhJLYSEiIrEUFiIiEkthISIisRQWIiISS2EhIiKxMsu7AiKy9fl55Hi++NfDAKz4ZSEtjj+EnCXL+eHjQRx621/Z/4pzClxuzrCx9DnwXG5YPpLKNavz4SW38tuE6Rz/5I002rcdP3wyiDXLV9LurOPLsjmbzCdMJ3lvbzDDdqxDxoP/xN/6nNQHAwHI+OuZZBy+/4bL/DCb1P198Jw1ZJx4KBlnHUvy5ifwabNJ3HwZtmdLUlnfwspsMk7oUh7NKpDCQkSKrfH+e9Iz62UAPrzkVnY/5XDqtmpOs0P3Zc2KVYUuN/Lfr9Nwn7YArFq0BMw4491HGXLfizTo2IbJ73zByX3uLIMWlJCd6pLofTtWrQrJR17FvxpO6o3PSHzwb1idQ/Li2/4QFqlHXiXj8f/DalYHwBcvAzMS/76B1PPvkNF2V7zfUDLuuao8WlQodUOJyCZLrV3L3OHjaHbIPtRqWG+jZX8aMpr67VtROVwkM6tUxpNJcletpnLNaozp05e9enbDzMqi6iXC6m2PVasSjWRmQiKB7dwQVufAymysTq0Nyvuc+bB2LanrHiF58W34jLlQuRIkk5CdA9Wr4u9+SUb3I7a4/aCwEJFNNnPACJodui+WEX8pGfH4axt0T1WuWZ0GHXZn8J3P0qHnKfzy3UQAPrv6XmZljSy1OpcGn7cAHzYW67ofdsjeJE+8guRp/8TOO2nDgguX4NPnkPHgP8j4v4tI3fciVqMatvuupJ55i4zuR+ATfwQgefcLpEaML/vGFEJhISKbbOLb/dnj9KNjy80a9C077dWaKrVqbDC901Xn0v3Ve5n0Tn86//08vn/1Q457/AZGv/BuaVW5xPmKVST/9QiJe66GnDWk/tePRL9nSXz2NKlH/4O7ry+8XQ2sXQusZnWsVbOoCwrIOP8kEvdfg/cfSsYFJ5P6YACJmy7F3+5fTq36I4WFiGyS1Nq1zB32Pc267Btb9tfvpzLzq+G8duxl/DruBz646JZ181bMX8jqJcvZcfddyV60FIDcVdmlVu+S5MkkqWsfJuNvZ2G7NAYzqFIp6lqqWgXW5EJ6WDRrhP++FM9di89fuO69BYAvWIwvW4nt2gSWLI8mrs4p4xYVTi+4RWSTzBw4kmZd9lnXBfXlDY/yw4dZpJIpFs/8mWMevo4h9/VmjzOPpdNV59LpqnMBeLlrT7qlvcQe+tBLHHjdhQDsemRnXtj/LDpceEqZt2dT+GdD8DFT8JXZpJ5+i4yzjyPj6INInnUdJFNk9Dgey8gg9fw72PEHY00akNGzG8kLboKUk7jp0nXrSvXpS8bF3QGwA/Zi7en/JONPR5RX0/7ANnhE2oolEglP3nJyeVdj29OrLwDJHt3LuSISJ/F633XDvZhYjjUpW73Yg0pTPyrvamyx1u5+csrdE3Hl1A0lIiKxFBYiIhJLYSEiIrEUFiIiEkthISIisRQWIiISS2EhIiKxFBYiIhJLYSEiIrEUFiIiEkthISIisRQWIiISS2EhIiKxFBYiIhJLYSEiIrEUFiIiEkthISIisRQWIiISS2EhIiKxFBYiIhJLYSEiIrEUFiIiEkthUQpmLVlJvQc/pevLX9P15a9ZsDKHCz8YTb0HP+XJkTMKXGbCb8s45rWhHPry1zw3aiYAl3w4hs69BzFq3mIAPvlhPm9OmFtm7aho3pw1lwbvfgrAU1Nn0PnzLDp/nsVHc38psPywBb+T+d/3WZG7FoA/jxjDgf0GMWpROB4/z+etWToesm3IjCtgZklgfNqkU9x9VmlUxsxmAfu6+8LSWH9ZOrTZjrxzxv7rxu85vC2HNqvLijXJAsvf8NVE3j59P7arUgmARavWYMC7Z+zPfUN+oGODOrwzeR59Tu5YFtWvcFLuvDvnZ5pWrwbAs9NmMub4w1iVTHLcgKGc1KThH5Z58ocf2WeHOgAsyomOx9uH7M8Dk36g4/Z1eG/OPHp30vGQbUNRniyy3b1D2s+s0q5URfDNnEUc8tLX3PjVJNydhrWqFlp2xuKV5Cadc9/7jmNeG8qUhcupkplB0p1VuUlqVs6kz5jZ9NxrZ8ysDFtRcbwxay6nNm1MRth/u9WqQXYyyfLctdStUvkP5Yf8tog969SmRmYCgCoZ4XisTVIjM5OXZszm/F10PGTbEftkURAz2wd4BKgJLAR6uvsvZpYFjAH2AeoB5wM3AHsCb7n7zWH594GmQFXgcXd/voBtnAtcBVQGRgCXu3vBt+VbmIY1qzL9yqOoXinBpR+Npe+UX/hTm0aFlv91RQ4TFyxn4uWH89PSbP7RbwKf9jiADg1qc+fgqdx0SCseHf4jrerW5OrPxtG9TUO6Nq9Xhi3auiVTzts//cx7XTrx6JTpABzTsD57fjKApDsvdt77D8s8MfVHenfuSP9ffgWgZqVM9tq+NndPmMoN7Vrx+JQfaVmrJteMGke3pg3putPWczxyPUUv26O8q1FmslNJclufVN7V2GIV9XanKGFRzczGhuGZwBnAE0A3d19gZmcCdwMXhTJr3L2LmV0NfEAUHL8DP5rZo+6+CLjI3X83s2rAt2b2bpgeVd6sDXAmcJC755rZ00AP4NUNGmn2Z+DPYbiITS59VTITVAnDp7ZpxLC5v280LOpUrcS+jeqwXZVKtKtfiYWrcgC4qtNuANw9eCp/77wbD34zjRe77U2P90YpLIrh9VlzOH3n9U8Vy3Jz6T19FlNOOpI1qRRHffUNRzWot+4cGvTrQtpvX5talSptsJ4rW0fH454JU7mq9W48PHkaL3Tem/O+GbVVhUUly2D4y0vKuxqbrHPPOky7ZnJ5V2ObU5SwyHb3DnkjZtYOaAd8ET5cCSD9DeGH4fd4YKK7/xKWm0H0NLEIuMrMuodyTYGWYXqeI4hC5tuwjWrAb/krFp5IngdIJBJehLaUieU5udQK7x4Gz15Im3q1Nlq+Zd0aLFiZQ24yxa8rc9a9twCYv2I1S1bnsvuOtViUvQaAVblbxQPWFmPS0uWMXbyE12fNYdryFfQaN4UqiQRVMjLINCMnmcJZf4c1bslSBsxfwDcLFjF+yTIuGTGaNw+O3j/Nz17Nktxcdq9di0VrwvFI6nhIxbcp3VBGFAIHFDI/J/xOpQ3njWeaWVfgSOAAd18Vuq7yd+gb8Iq737AJ9St3Q376nZsHTqJ6pUx2qVOdOw9vww1fTuTDH+aTTDkzF6/k4WP25L4hP3DmHo3ZZfsa/OOAFhz2yhBSDv8+bs9163po6HSuO7AFAEfuWp/9X8jiwg7NyqtpW6X7Oq7vcun0eRaP7LMnD0+exkH9B5Ny56+tdiHDjPsn/sAZzRpzZevd1j1FHP7l1/TutL6b6uHJ07m2TXQ8jtipPp0/z6LnbjoeUvGZ+8ZvyM1shbvXTBuvDEwCznP3YWZWCWjl7hPDhf9adx8VQuFadz8xLJcFXAs0Bi5x95PMbHdgLHCsu2flfRsKqE/UhXWQu/9mZjsAtdx9dmH1TCQSnrzl5E3ZB7I5evUFINmje0xBKW+J1/uuG1Y3lORp9VjblLsn4soV+99ZuPsa4DTgfjP7nuhif2AxVvE50RPGOOBOYHgB25gE3Az0D+W+AP743UYRESkTsd1Q6U8VadPGAl0KmN41bTgLyCpoHnBcIdtqnjb8FvBWXP1ERKT06V9wi4hILIWFiIjEUliIiEgshYWIiMRSWIiISCyFhYiIxFJYiIhILIWFiIjEUliIiEgshYWIiMRSWIiISCyFhYiIxFJYiIhILIWFiIjEUliIiEgshYWIiMRSWIiISCyFhYiIxFJYiIhILIWFiIjEUliIiEgshYWIiMRSWIiISCyFhYiIxFJYiIhILIWFiIjEUliIiEgshYWIiMRSWIiISCyFhYiIxFJYiIhILIWFiIjEUliIiEgshYWIiMRSWIiISCyFhYiIxFJYiIhILIWFiIjEUliIiEgshYWIiMRSWIiISCyFhYiIxFJYiIhILIWFiIjEUliIiEgshYWIiMRSWIiISCyFhYiIxFJYiIhILIWFiIjEUliIiEgshYWIiMRSWIiISKzM8q5AierVt7xrsO3JXYM7JF7Xvt/S+Zo1WOXK5V0N2UrpyUI2T6XKJX4Byk4mS3R9EsnJTJR3FWQrVqGeLA6b/X15V0FKwMBme1Hl63fLuxoVTs4hp5Z3FWQrpicLERGJpbAQEZFYCgsREYmlsBARkVgKCxERiaWwEBGRWAoLERGJpbAQEZFYCgsREYmlsBARkVgKCxERiaWwEBGRWAoLERGJVaH+6qyIlKwf507i/leuIZHIpHqVGtzxl95c9/g5AOTkriZ37RpevX3wBss89saNTJ01lu1q7sCtlzxNjWrbcU+fq5jx82T+ee4DtNmlI998349Vq1dwVKet6y/hjpgzkqdGPkMyleTCvS/g9e/fICeZQ8IS3HvU3TSp3XiD8j3fu5jx8yfw0LH3c9iuXQG48YtbmLZoGrcedjN77tSOgTMHsXLNSk5sfXw5tKjoFBYiUqhmDVry/E39AHjx/fsZPOZTnr7+YwA+H/oWP/82a4Pyk2aMZunyRTxzw6d8ObIv7w3ow8mHno+Zcc8Vr/CfTx6jVbP2DBz1ITdd9GRZN2ez5KzNoc/ol+l9ynNUTlRmzdo1tNupHQ1q7sSQ2d/Q+7s+9Dr8lg2WeeCY+3hz3FvrxhdnL8HMeOLEx3n+2xdoW68N/ab1496j7i7r5hSbuqFEpFCZmZXWDa9es4pmDVqtGx/w7Qccvl+3DcrPWzCLljvvCUDrZnsxdtowKmVWJplKkpOTTbUqNfj469c4/qBzMLOyaUQJGf3LGKpmVuEvH/yNyz+6kqU5S2lQcycAMjMyycz4438uVb9GvQ3GKycqkUolWZ2bTfVK1Xln4nv8qW33rWJfKCxEZKNGThzI+bd14bspQ2hcfxcAVmYv59fff2aXxrtvULZ5o1aMnjIEd+fbSVmsWLWU6lVr0mrnPenz0YOccPA5TJk1FoBHX7+e0VOGlHVzNtmilYuYs+xnnu32FGe2O50nhj8FQG4yl6dGPMP5Hc6NXUeNyjVoU293nhr5LH9q252Jv00E4K6sexgxZ2Sp1n9zKSxEZKP23+MwXr19MIfvezIfDHoZgCFjP+OQjsf9oWyLpu1o37ITf7v/JH5ZMJu6taM77zOOuozbLn2WgaM+4Myj/8pnQ9/kmh738cGgV8qyKZulVpVa7NtobyonKnNA085M//1HAG756jbO2vNMdq6zc5HWc37H83jwmPvoN70fF3Q8n/cnf8DNXW/kfxPeLs3qbzaFhYgUak1uzrrhGtW2o1qVGkDBXVB5zj/hGp6+/mOaN2pNl47rX9ouWvory1ctpXnDVixb8TsAq9dkl2LtS1b7Bu2ZvigKiEkLJtN0u6Y8PeJZmmzXhBNa/zE4N2bBygUsy1nObjvsyuLsJQBkr11d0lUuUXrBLSKFGjlxIK9//gQZlkGdWjtyy8VPsTJ7OfMXzWXXxm3WlXv1k0c5cv8/0aheMy6/70QSiUxaNm3HFWfcsa7M6589ybnHXQnAvm0P5aI7juDEg88p8zZtqu2r1eHw3Q7jnLfPI4MM/nHQ3zn3nQvYu2FHhs8ZQYeGe3Htwf/guW9f4PhWx9G0dhNu6H8TI+Z+y5c/fsWPv//IJfteDMCL373EJftcBMCBOx/AqW+cyaltu5dn82KZu5d3HUpEIpHwLjNGl3c1pAQMbLYXVb5+t7yrUeHkHLL+a6rDX15SfhXZTJ171mHaNZPLuxoVRqvH2qbc/Y9v5/NRN5SIiMRSWIiISCyFhYiIxFJYiIhILIWFiIjEUliIiEgshYWIiMRSWIiISCyFhYiIxFJYiIhILIWFiIjEUliIiEgshYWIiMRSWIiISCyFhYiIxFJYiIhILIWFiIjEUliIiEgshYWIiMRSWIiISCyFhYiIxFJYiIhIrMzyrsC2LHvOz4zudi7VW+4KwB5PPsDEK/4FQGp1Dp6by76fvrXBMt+fexnLvp9Im8fuYccjugAw5f9uZ+XU6bS843q2a78HiwYMZu2KVex08rFl26AKIvnlEJKP96HS/55m7U0PwJpcSGSQef3fsIb1Nyi79omX8KkzoHYtMm+8AqtRnbX3P4PP/InE3y8mY/cWpIZ9h6/KJnHEweXUIpHNVypPFmbmZvaftPFMM1tgZh/HLNc1rkxFU7vTPnR860U6vvUilevVXTfcuOfZ7Hj0YX8ov/sjd9Hkoh7rxnMXL8EM2j37EL+++xGeTLLg0y+pf9IxZdmMCsNTKVJZw7D6dSGRIPOGv1HpyTtJ9OhO8o0PNiibmjwdli6n0pN3knHEwaTe74cvXQ4GmXdeS+rzQXgySSprOBmHH1ROLRIpGaXVDbUSaGdm1cL4UcDPpbStrdqyUWMZc/qFzHjg37j7uukLPvmCeicc9YfyVerX22DcKlfGkymS2atJVK/OL/97nwannYyZlXrdK6LUl0PI6HoAZBhWuRJWr240IzMTEokNyvq8X7EWzQHIaLULqXGToVImpFKweg1Uq0rq0wFkHNdVx0O2eqX5zuIz4IQwfDbwRt4MM9vfzIaa2Zjwu3X+hc2shpn1MbNvQ7lupVjXclGlfj06DfqIDv/rw5pFi1nYbwAAa1esJOeX+dRouVvsOjJrVKdm29bMfuIFGpx2MsvHTwZgWq/7WTzs21Ktf0XjySSpAUPJOPzADaevXUvylbdJnHb8BtOteWNSYyfi7qS+GwcrVmHVq2EtmpN89W0Sx3WNuqiAtY/3ITVmQpm1RaSklWZYvAmcZWZVgfbAiLR5U4Au7t4RuBW4p4DlbwIGuPt+wGHAg2ZWI72Amf3ZzEaZ2aj0u/KtRUaVyiSqV8PMqHfsEayYNBWARV9mUffIQ4u8niYXnkObR+5iwWdf0OSiHsx/72Na9vo/fnnzvdKqeoWU6v81GYcfiGVs+LFIPvgcGScfjTVusMH0jN2ak9Fud9ZefRs+7zfYoQ4AidNOIPOmq0hlDSdx+omkPh9E5tUXkfroy7JqikiJK7UX3O4+zsyaEz1VfJpvdm3gFTNrCThQqYBVHA2cbGbXhvGqwM7A5LRtPA88D5BIJLa6tFi7YiWZNaP8WzpyNNVb7ALAb598wa7XXVGsdeX8tpC1y5ZTo8Uu5C5eAkAqe3WJ1rei81lz8GkzSfUfjM+dz9onXsK2q4U1rE/iiILfOSTO7U7i3O4kPxuI7dZs/boWLcZXrMSaNcaXLY+m5awpk3aIlIbS/jbUh8BDQFegbtr0O4GB7t49BEpWAcsacKq7Ty3lOpabpd+OYebDT5GoVpWqTRvT/J+XR11Q8+ZTo1WLdeVmP92H+icdQ7WmjZly3W0sGT6Khf0Hsmr6DHa+rCcAc154lZ3/fAEA2x/cme+69aDBaRWu565UZf71vHXDuZf+i8TZ3cg9/a/Ynq1JjR6P7dGazMt6kHytb/QE0mgncq+6FRIJbLfmJC5fv3zyzQ9JnB3t/4x92pP75+vJOP6PX1gQ2VpYaXTfmNkKd69pZk2ILviPm1lX4Fp3P9HM+gKvufu7ZtYL6OnuzfOVuQfYDrjS3d3MOrr7mMK2mUgkvMuM0SXeFil7A5vtRZWv3y3valQ4OYecum54+MtLyq8im6lzzzpMu2ZyfEEpklaPtU25eyKuXKn+ozx3n+vujxcw6wHgXjP7BiiskncSdU+NM7MJYVxERMpBqXRDuXvNAqZlEbqb3H0Y0Cpt9i0FlMkGLiuN+omISPHoz32IiEgshYWIiMRSWIiISCyFhYiIxFJYiIhILIWFiIjEUliIiEgshYWIiMRSWIiISCyFhYiIxFJYiIhILIWFiIjEUliIiEgshYWIiMRSWIiISCyFhYiIxFJYiIhILIWFiIjEUliIiEgshYWIiMRSWIiISCyFhYiIxFJYiIhILIWFiIjEUliIiEgshYWIiMRSWIiISCyFhYiIxFJYiIhILIWFiIjEUliIiEgshYWIiMRSWIiISCyFhYiIxFJYiIhILIWFiIjEUliIiEgshYWIiMRSWIiISCyFhYiIxFJYiIhILIWFiIjEUliIiEgsc/fyrkOJMDMHUuVdD9mAARXjBJOKSOdnJMPdLa5QhQkL2fKY2Sh337e86yFSEJ2fxaNuKBERiaWwEBGRWAoLKU3Pl3cFRDZC52cx6J2FiIjE0pOFiIjEUliIiEgshYXEMrObzGyimY0zs7Fm1snMeptZ201cX3Mzm1DS9ZRtg5m5mf0nbTzTzBaY2cebud5GZvZOMZd52cxO25ztbi0yy7sCsmUzswOAE4G93T3HzHYEKrv7JeVcNdl2rQTamVk1d88GjgJ+Ls4KzCzT3dfmG58HbBMX/k2hJwuJ0xBY6O45AO6+0N3nmVmWme0LYGYrzOxuM/vezIab2U5h+m5h/Fszu8PMVuRfuZklzOzBUGacmV1Wpq2TrdVnwAlh+GzgjbwZZra/mQ01szHhd+swvaeZvW1mHwH9Cxhf98Rb2HlpkSfNbJKZfQLUL8tGlyeFhcTpDzQ1sx/M7GkzO7SAMjWA4e6+FzAYuDRMfxx43N33A+YVsv6LgaWhzH7ApWa2S8k2QSqgN4GzzKwq0B4YkTZvCtDF3TsCtwL3pM07ALjA3Q8vZDxPYedld6A1sCfReX5gyTZry6VuKNkod19hZvsAhwCHAW+Z2fX5iq0B8vqLvyPqFoDog3hKGP4v8FABmzgaaJ/W71sbaAnMLJEGSIXk7uPMrDnRU8Wn+WbXBl4xs5ZEf/upUtq8L9z9942M5ynsvOwCvOHuSWCemQ3Y/NZsHRQWEit8MLKALDMbD1yQr0iur/8HO0mKd14ZcKW799vsisq25kOiG5CuQN206XcCA929ewiUrLR5K/OtI/94ngLPSzM7nm30jw+qG0o2ysxahzu0PB2A2UVcfDhwahg+q5Ay/YC/mlmlsL1WZlZjU+oq25w+wB3uPj7f9Nqsf+HdcxPXXdh5OZio+ythZg2Jnra3CQoLiVOT6JF+kpmNA9oCvYq47N+Bf5jZSKIX5UsLKNMbmASMDi8Xn0NPvFIE7j7X3R8vYNYDwL1m9g2Q2MTVF3Ze9gWmAeOBZ4BBm7j+rY7+3IeUGjOrDmS7u5vZWcDZ7t6tvOslIsWnOzgpTfsAT5qZAUuAi8q3OiKyqfRkISIisfTOQkREYiksREQklsJCRERiKSxERCSWwkJERGL9P1LAFpvAe+o4AAAAAElFTkSuQmCC\n",
=======
      "image/png": "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\n",
>>>>>>> e8e56c1076dfc8bf7e878bf6c4b339f98534e377
      "text/plain": [
       "<Figure size 432x288 with 3 Axes>"
      ]
     },
     "metadata": {
      "needs_background": "light"
     },
     "output_type": "display_data"
    },
    {
     "name": "stdout",
     "output_type": "stream",
     "text": [
      "\u001b[1mHow to read the plot:\u001b[0m 71.4% of Married Females prefer Remote mode of working while 28.6% of the married females prefer physical mode of work.\n"
     ]
    }
   ],
   "source": [
    "#Here, we'll be using labels calculated above for a better analysis \n",
    "props={}\n",
    "props[('Single','Female','Remote Mode(Work From Home)')]={'facecolor':'#FF7F50', 'edgecolor':'white'}\n",
    "props[('Single','Male','Remote Mode(Work From Home)')]={'facecolor':'#40E0D0', 'edgecolor':'white'}\n",
    "props[('Married','Female','Remote Mode(Work From Home)')]={'facecolor':'#7FFFD4','edgecolor':'white'}\n",
    "props[('Married','Male','Remote Mode(Work From Home)')]= {'facecolor':'#C79FEF','edgecolor':'white'}\n",
    "props[('Single','Female','Physical Mode')]={'facecolor':'#FC5A50', 'edgecolor':'white'}\n",
    "props[('Single','Male','Physical Mode')]={'facecolor':'#06C2AC', 'edgecolor':'white'}\n",
    "props[('Married','Female','Physical Mode')]={'facecolor':'#04D8B2','edgecolor':'white'}\n",
    "props[('Married','Male','Physical Mode')]= {'facecolor':'#DA70D6','edgecolor':'white'}\n",
    "labelizer=lambda k:{('Single','Female','Remote Mode(Work From Home)'):'51.6%',('Single','Male','Remote Mode(Work From Home)'):'57.1%',('Married','Female','Remote Mode(Work From Home)'):'71.4%',('Married','Male','Remote Mode(Work From Home)'):'37.9%',('Single','Female','Physical Mode'):'48.4%',('Single','Male','Physical Mode'):'42.9%',('Married','Female','Physical Mode'):'28.6%',('Married','Male','Physical Mode'):'62.1%'}[k]\n",
    "mosaic(df1,['marital status','sex','preferred mode'],title='Fig 5- Mosaic Plot with Percentage labels\\n',labelizer=labelizer,properties=props)\n",
    "plt.show()\n",
    "print(\"\\033[1mHow to read the plot:\\033[0m 71.4% of Married Females prefer Remote mode of working while 28.6% of the married females prefer physical mode of work.\")"
   ]
  },
  {
   "cell_type": "markdown",
   "metadata": {},
   "source": [
    "## Analysing remaining attributes with respect to Gender."
   ]
  },
  {
   "cell_type": "markdown",
   "metadata": {},
   "source": [
    "## (i) Salary Incentives"
   ]
  },
  {
   "cell_type": "code",
<<<<<<< HEAD
   "execution_count": 302,
=======
   "execution_count": 128,
>>>>>>> e8e56c1076dfc8bf7e878bf6c4b339f98534e377
   "metadata": {},
   "outputs": [
    {
     "data": {
      "text/html": [
       "<div>\n",
       "<style scoped>\n",
       "    .dataframe tbody tr th:only-of-type {\n",
       "        vertical-align: middle;\n",
       "    }\n",
       "\n",
       "    .dataframe tbody tr th {\n",
       "        vertical-align: top;\n",
       "    }\n",
       "\n",
       "    .dataframe thead th {\n",
       "        text-align: right;\n",
       "    }\n",
       "</style>\n",
       "<table border=\"1\" class=\"dataframe\">\n",
       "  <thead>\n",
       "    <tr style=\"text-align: right;\">\n",
       "      <th>salary incentives</th>\n",
       "      <th>Good</th>\n",
       "      <th>Poor</th>\n",
       "      <th>Same as before</th>\n",
       "      <th>Very Good</th>\n",
       "      <th>Very Poor</th>\n",
       "    </tr>\n",
       "    <tr>\n",
       "      <th>sex</th>\n",
       "      <th></th>\n",
       "      <th></th>\n",
       "      <th></th>\n",
       "      <th></th>\n",
       "      <th></th>\n",
       "    </tr>\n",
       "  </thead>\n",
       "  <tbody>\n",
       "    <tr>\n",
       "      <th>Female</th>\n",
<<<<<<< HEAD
       "      <td>4.444444</td>\n",
       "      <td>28.888889</td>\n",
       "      <td>55.555556</td>\n",
       "      <td>4.444444</td>\n",
       "      <td>6.666667</td>\n",
       "    </tr>\n",
       "    <tr>\n",
       "      <th>Male</th>\n",
       "      <td>24.137931</td>\n",
       "      <td>24.137931</td>\n",
       "      <td>37.931034</td>\n",
       "      <td>5.172414</td>\n",
       "      <td>8.620690</td>\n",
=======
       "      <td>5.263158</td>\n",
       "      <td>26.315789</td>\n",
       "      <td>55.263158</td>\n",
       "      <td>5.263158</td>\n",
       "      <td>7.894737</td>\n",
       "    </tr>\n",
       "    <tr>\n",
       "      <th>Male</th>\n",
       "      <td>24.561404</td>\n",
       "      <td>24.561404</td>\n",
       "      <td>36.842105</td>\n",
       "      <td>5.263158</td>\n",
       "      <td>8.771930</td>\n",
>>>>>>> e8e56c1076dfc8bf7e878bf6c4b339f98534e377
       "    </tr>\n",
       "  </tbody>\n",
       "</table>\n",
       "</div>"
      ],
      "text/plain": [
       "salary incentives       Good       Poor  Same as before  Very Good  Very Poor\n",
       "sex                                                                          \n",
<<<<<<< HEAD
       "Female              4.444444  28.888889       55.555556   4.444444   6.666667\n",
       "Male               24.137931  24.137931       37.931034   5.172414   8.620690"
=======
       "Female              5.263158  26.315789       55.263158   5.263158   7.894737\n",
       "Male               24.561404  24.561404       36.842105   5.263158   8.771930"
>>>>>>> e8e56c1076dfc8bf7e878bf6c4b339f98534e377
      ]
     },
     "metadata": {},
     "output_type": "display_data"
    },
    {
     "name": "stdout",
     "output_type": "stream",
     "text": [
      "\n",
      " \n",
      " \u001b[1mHow to read a stacked bar chart:\u001b[0m Of the females, 5.26% felt that salary incentives were good, 26.3% felt that they were poor,\n",
      " 55.2% felt that they were the same as before,5.2% felt that they were very good and 7.8% felt that they were very poor.\n",
      " \n",
      "\n"
     ]
    },
    {
     "data": {
<<<<<<< HEAD
      "image/png": "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\n",
=======
      "image/png": "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\n",
>>>>>>> e8e56c1076dfc8bf7e878bf6c4b339f98534e377
      "text/plain": [
       "<Figure size 648x648 with 1 Axes>"
      ]
     },
     "metadata": {
      "needs_background": "light"
     },
     "output_type": "display_data"
    }
   ],
   "source": [
    "ct=pd.crosstab(df1['sex'],df1['salary incentives'], normalize= 'index')*100\n",
    "display(ct)\n",
    "ct.plot.bar(figsize=(9,9),xlabel='sex',ylabel='Salary Incentives',title='Fig 6: Stacked Barplot of Salary incentives against gender',stacked=True)\n",
    "print(\"\\n \\n \\033[1mHow to read a stacked bar chart:\\033[0m Of the females, 5.26% felt that salary incentives were good, 26.3% felt that they were poor,\\n 55.2% felt that they were the same as before,5.2% felt that they were very good and 7.8% felt that they were very poor.\\n \\n\")"
   ]
  },
  {
   "cell_type": "markdown",
   "metadata": {},
   "source": [
    "## (ii) Domestic Life "
   ]
  },
  {
   "cell_type": "code",
<<<<<<< HEAD
   "execution_count": 303,
=======
   "execution_count": 129,
>>>>>>> e8e56c1076dfc8bf7e878bf6c4b339f98534e377
   "metadata": {},
   "outputs": [
    {
     "data": {
      "text/html": [
       "<div>\n",
       "<style scoped>\n",
       "    .dataframe tbody tr th:only-of-type {\n",
       "        vertical-align: middle;\n",
       "    }\n",
       "\n",
       "    .dataframe tbody tr th {\n",
       "        vertical-align: top;\n",
       "    }\n",
       "\n",
       "    .dataframe thead th {\n",
       "        text-align: right;\n",
       "    }\n",
       "</style>\n",
       "<table border=\"1\" class=\"dataframe\">\n",
       "  <thead>\n",
       "    <tr style=\"text-align: right;\">\n",
       "      <th>domestic life</th>\n",
       "      <th>Did not have any affect</th>\n",
       "      <th>Slightly Improved</th>\n",
       "      <th>Slightly Negatively</th>\n",
       "      <th>Very Improved</th>\n",
       "      <th>Very Negatively</th>\n",
       "    </tr>\n",
       "    <tr>\n",
       "      <th>sex</th>\n",
       "      <th></th>\n",
       "      <th></th>\n",
       "      <th></th>\n",
       "      <th></th>\n",
       "      <th></th>\n",
       "    </tr>\n",
       "  </thead>\n",
       "  <tbody>\n",
       "    <tr>\n",
       "      <th>Female</th>\n",
<<<<<<< HEAD
       "      <td>22.222222</td>\n",
       "      <td>4.444444</td>\n",
       "      <td>57.777778</td>\n",
       "      <td>4.444444</td>\n",
       "      <td>11.111111</td>\n",
       "    </tr>\n",
       "    <tr>\n",
       "      <th>Male</th>\n",
       "      <td>31.034483</td>\n",
       "      <td>13.793103</td>\n",
       "      <td>51.724138</td>\n",
       "      <td>1.724138</td>\n",
       "      <td>1.724138</td>\n",
=======
       "      <td>26.315789</td>\n",
       "      <td>2.631579</td>\n",
       "      <td>52.631579</td>\n",
       "      <td>5.263158</td>\n",
       "      <td>13.157895</td>\n",
       "    </tr>\n",
       "    <tr>\n",
       "      <th>Male</th>\n",
       "      <td>31.578947</td>\n",
       "      <td>12.280702</td>\n",
       "      <td>52.631579</td>\n",
       "      <td>1.754386</td>\n",
       "      <td>1.754386</td>\n",
>>>>>>> e8e56c1076dfc8bf7e878bf6c4b339f98534e377
       "    </tr>\n",
       "  </tbody>\n",
       "</table>\n",
       "</div>"
      ],
      "text/plain": [
       "domestic life  Did not have any affect  Slightly Improved  \\\n",
       "sex                                                         \n",
<<<<<<< HEAD
       "Female                       22.222222           4.444444   \n",
       "Male                         31.034483          13.793103   \n",
       "\n",
       "domestic life  Slightly Negatively  Very Improved  Very Negatively  \n",
       "sex                                                                 \n",
       "Female                   57.777778       4.444444        11.111111  \n",
       "Male                     51.724138       1.724138         1.724138  "
=======
       "Female                       26.315789           2.631579   \n",
       "Male                         31.578947          12.280702   \n",
       "\n",
       "domestic life  Slightly Negatively  Very Improved  Very Negatively  \n",
       "sex                                                                 \n",
       "Female                   52.631579       5.263158        13.157895  \n",
       "Male                     52.631579       1.754386         1.754386  "
>>>>>>> e8e56c1076dfc8bf7e878bf6c4b339f98534e377
      ]
     },
     "metadata": {},
     "output_type": "display_data"
    },
    {
     "data": {
      "text/plain": [
       "<AxesSubplot:title={'center':'Fig 7: Stacked Barplot of Domestic Life against gender'}, xlabel='sex', ylabel='Affect on Domestic Life'>"
      ]
     },
<<<<<<< HEAD
     "execution_count": 303,
=======
     "execution_count": 129,
>>>>>>> e8e56c1076dfc8bf7e878bf6c4b339f98534e377
     "metadata": {},
     "output_type": "execute_result"
    },
    {
     "data": {
<<<<<<< HEAD
      "image/png": "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\n",
=======
      "image/png": "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\n",
>>>>>>> e8e56c1076dfc8bf7e878bf6c4b339f98534e377
      "text/plain": [
       "<Figure size 648x648 with 1 Axes>"
      ]
     },
     "metadata": {
      "needs_background": "light"
     },
     "output_type": "display_data"
    }
   ],
   "source": [
    "ct1=pd.crosstab(df1['sex'],df1['domestic life'], normalize= 'index')*100\n",
    "display(ct1)\n",
    "ct1.plot.bar(figsize=(9,9),xlabel='sex',ylabel='Affect on Domestic Life',title='Fig 7: Stacked Barplot of Domestic Life against gender',stacked=True)"
   ]
  },
  {
   "cell_type": "markdown",
   "metadata": {},
   "source": [
    "## (iii) Personal Life"
   ]
  },
  {
   "cell_type": "code",
<<<<<<< HEAD
   "execution_count": 304,
=======
   "execution_count": 130,
>>>>>>> e8e56c1076dfc8bf7e878bf6c4b339f98534e377
   "metadata": {},
   "outputs": [
    {
     "data": {
      "text/html": [
       "<div>\n",
       "<style scoped>\n",
       "    .dataframe tbody tr th:only-of-type {\n",
       "        vertical-align: middle;\n",
       "    }\n",
       "\n",
       "    .dataframe tbody tr th {\n",
       "        vertical-align: top;\n",
       "    }\n",
       "\n",
       "    .dataframe thead th {\n",
       "        text-align: right;\n",
       "    }\n",
       "</style>\n",
       "<table border=\"1\" class=\"dataframe\">\n",
       "  <thead>\n",
       "    <tr style=\"text-align: right;\">\n",
       "      <th>personal life</th>\n",
       "      <th>Did not have any affect</th>\n",
       "      <th>Slightly Improved</th>\n",
       "      <th>Slightly Negatively</th>\n",
       "      <th>Very Improved</th>\n",
       "      <th>Very Negatively</th>\n",
       "    </tr>\n",
       "    <tr>\n",
       "      <th>sex</th>\n",
       "      <th></th>\n",
       "      <th></th>\n",
       "      <th></th>\n",
       "      <th></th>\n",
       "      <th></th>\n",
       "    </tr>\n",
       "  </thead>\n",
       "  <tbody>\n",
       "    <tr>\n",
       "      <th>Female</th>\n",
<<<<<<< HEAD
       "      <td>11.111111</td>\n",
       "      <td>13.333333</td>\n",
       "      <td>55.555556</td>\n",
       "      <td>2.222222</td>\n",
       "      <td>17.777778</td>\n",
       "    </tr>\n",
       "    <tr>\n",
       "      <th>Male</th>\n",
       "      <td>25.862069</td>\n",
       "      <td>18.965517</td>\n",
       "      <td>41.379310</td>\n",
       "      <td>3.448276</td>\n",
       "      <td>10.344828</td>\n",
=======
       "      <td>13.157895</td>\n",
       "      <td>15.789474</td>\n",
       "      <td>50.000000</td>\n",
       "      <td>2.631579</td>\n",
       "      <td>18.421053</td>\n",
       "    </tr>\n",
       "    <tr>\n",
       "      <th>Male</th>\n",
       "      <td>24.561404</td>\n",
       "      <td>19.298246</td>\n",
       "      <td>42.105263</td>\n",
       "      <td>3.508772</td>\n",
       "      <td>10.526316</td>\n",
>>>>>>> e8e56c1076dfc8bf7e878bf6c4b339f98534e377
       "    </tr>\n",
       "  </tbody>\n",
       "</table>\n",
       "</div>"
      ],
      "text/plain": [
       "personal life  Did not have any affect  Slightly Improved  \\\n",
       "sex                                                         \n",
<<<<<<< HEAD
       "Female                       11.111111          13.333333   \n",
       "Male                         25.862069          18.965517   \n",
       "\n",
       "personal life  Slightly Negatively  Very Improved  Very Negatively  \n",
       "sex                                                                 \n",
       "Female                   55.555556       2.222222        17.777778  \n",
       "Male                     41.379310       3.448276        10.344828  "
=======
       "Female                       13.157895          15.789474   \n",
       "Male                         24.561404          19.298246   \n",
       "\n",
       "personal life  Slightly Negatively  Very Improved  Very Negatively  \n",
       "sex                                                                 \n",
       "Female                   50.000000       2.631579        18.421053  \n",
       "Male                     42.105263       3.508772        10.526316  "
>>>>>>> e8e56c1076dfc8bf7e878bf6c4b339f98534e377
      ]
     },
     "metadata": {},
     "output_type": "display_data"
    },
    {
     "data": {
      "text/plain": [
       "<AxesSubplot:title={'center':'Fig 8: Stacked Barplot of Personal Life against gender'}, xlabel='sex', ylabel='Affect on Personal Life'>"
      ]
     },
<<<<<<< HEAD
     "execution_count": 304,
=======
     "execution_count": 130,
>>>>>>> e8e56c1076dfc8bf7e878bf6c4b339f98534e377
     "metadata": {},
     "output_type": "execute_result"
    },
    {
     "data": {
<<<<<<< HEAD
      "image/png": "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\n",
=======
      "image/png": "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\n",
>>>>>>> e8e56c1076dfc8bf7e878bf6c4b339f98534e377
      "text/plain": [
       "<Figure size 648x648 with 1 Axes>"
      ]
     },
     "metadata": {
      "needs_background": "light"
     },
     "output_type": "display_data"
    }
   ],
   "source": [
    "ct2=pd.crosstab(df1['sex'],df1['personal life'], normalize= 'index')*100\n",
    "display(ct2)\n",
    "ct2.plot.bar(figsize=(9,9),xlabel='sex',ylabel='Affect on Personal Life',title='Fig 8: Stacked Barplot of Personal Life against gender',stacked=True)"
   ]
  },
  {
   "cell_type": "markdown",
   "metadata": {},
   "source": [
    "## (iv) Layoff Fear"
   ]
  },
  {
   "cell_type": "code",
<<<<<<< HEAD
   "execution_count": 305,
=======
   "execution_count": 131,
>>>>>>> e8e56c1076dfc8bf7e878bf6c4b339f98534e377
   "metadata": {},
   "outputs": [
    {
     "data": {
      "text/html": [
       "<div>\n",
       "<style scoped>\n",
       "    .dataframe tbody tr th:only-of-type {\n",
       "        vertical-align: middle;\n",
       "    }\n",
       "\n",
       "    .dataframe tbody tr th {\n",
       "        vertical-align: top;\n",
       "    }\n",
       "\n",
       "    .dataframe thead th {\n",
       "        text-align: right;\n",
       "    }\n",
       "</style>\n",
       "<table border=\"1\" class=\"dataframe\">\n",
       "  <thead>\n",
       "    <tr style=\"text-align: right;\">\n",
       "      <th>layoff fear</th>\n",
       "      <th>Maybe</th>\n",
       "      <th>No</th>\n",
       "      <th>Yes</th>\n",
       "    </tr>\n",
       "    <tr>\n",
       "      <th>sex</th>\n",
       "      <th></th>\n",
       "      <th></th>\n",
       "      <th></th>\n",
       "    </tr>\n",
       "  </thead>\n",
       "  <tbody>\n",
       "    <tr>\n",
       "      <th>Female</th>\n",
<<<<<<< HEAD
       "      <td>20.512821</td>\n",
       "      <td>28.205128</td>\n",
       "      <td>51.282051</td>\n",
       "    </tr>\n",
       "    <tr>\n",
       "      <th>Male</th>\n",
       "      <td>20.408163</td>\n",
       "      <td>36.734694</td>\n",
       "      <td>42.857143</td>\n",
=======
       "      <td>25.00</td>\n",
       "      <td>28.125</td>\n",
       "      <td>46.875</td>\n",
       "    </tr>\n",
       "    <tr>\n",
       "      <th>Male</th>\n",
       "      <td>18.75</td>\n",
       "      <td>37.500</td>\n",
       "      <td>43.750</td>\n",
>>>>>>> e8e56c1076dfc8bf7e878bf6c4b339f98534e377
       "    </tr>\n",
       "  </tbody>\n",
       "</table>\n",
       "</div>"
      ],
      "text/plain": [
<<<<<<< HEAD
       "layoff fear      Maybe         No        Yes\n",
       "sex                                         \n",
       "Female       20.512821  28.205128  51.282051\n",
       "Male         20.408163  36.734694  42.857143"
=======
       "layoff fear  Maybe      No     Yes\n",
       "sex                               \n",
       "Female       25.00  28.125  46.875\n",
       "Male         18.75  37.500  43.750"
>>>>>>> e8e56c1076dfc8bf7e878bf6c4b339f98534e377
      ]
     },
     "metadata": {},
     "output_type": "display_data"
    },
    {
     "data": {
      "text/plain": [
       "<AxesSubplot:title={'center':'Fig9: Stacked Barplot of Fear of Layoff against gender'}, xlabel='sex', ylabel='Fear of Layoff'>"
      ]
     },
<<<<<<< HEAD
     "execution_count": 305,
=======
     "execution_count": 131,
>>>>>>> e8e56c1076dfc8bf7e878bf6c4b339f98534e377
     "metadata": {},
     "output_type": "execute_result"
    },
    {
     "data": {
<<<<<<< HEAD
      "image/png": "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\n",
=======
      "image/png": "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\n",
>>>>>>> e8e56c1076dfc8bf7e878bf6c4b339f98534e377
      "text/plain": [
       "<Figure size 648x648 with 1 Axes>"
      ]
     },
     "metadata": {
      "needs_background": "light"
     },
     "output_type": "display_data"
    }
   ],
   "source": [
    "df3=df1[df1['layoff fear'] != 'The question doesn\\'t apply to my situation']\n",
    "ct3=pd.crosstab(df3['sex'],df3['layoff fear'], normalize= 'index')*100\n",
    "display(ct3)\n",
    "ct3.plot.bar(figsize=(9,9),xlabel='sex',ylabel='Fear of Layoff',title='Fig9: Stacked Barplot of Fear of Layoff against gender',stacked=True)"
   ]
  },
  {
   "cell_type": "markdown",
   "metadata": {},
   "source": [
    "## (v) Domestic Obligation"
   ]
  },
  {
   "cell_type": "code",
<<<<<<< HEAD
   "execution_count": 306,
=======
   "execution_count": 132,
>>>>>>> e8e56c1076dfc8bf7e878bf6c4b339f98534e377
   "metadata": {},
   "outputs": [
    {
     "data": {
      "text/html": [
       "<div>\n",
       "<style scoped>\n",
       "    .dataframe tbody tr th:only-of-type {\n",
       "        vertical-align: middle;\n",
       "    }\n",
       "\n",
       "    .dataframe tbody tr th {\n",
       "        vertical-align: top;\n",
       "    }\n",
       "\n",
       "    .dataframe thead th {\n",
       "        text-align: right;\n",
       "    }\n",
       "</style>\n",
       "<table border=\"1\" class=\"dataframe\">\n",
       "  <thead>\n",
       "    <tr style=\"text-align: right;\">\n",
       "      <th>domestic obligation</th>\n",
       "      <th>Never</th>\n",
       "      <th>Often</th>\n",
       "      <th>Rarely</th>\n",
       "      <th>Very often</th>\n",
       "    </tr>\n",
       "    <tr>\n",
       "      <th>sex</th>\n",
       "      <th></th>\n",
       "      <th></th>\n",
       "      <th></th>\n",
       "      <th></th>\n",
       "    </tr>\n",
       "  </thead>\n",
       "  <tbody>\n",
       "    <tr>\n",
       "      <th>Female</th>\n",
<<<<<<< HEAD
       "      <td>15.555556</td>\n",
       "      <td>40.000000</td>\n",
       "      <td>26.666667</td>\n",
       "      <td>17.777778</td>\n",
       "    </tr>\n",
       "    <tr>\n",
       "      <th>Male</th>\n",
       "      <td>24.137931</td>\n",
       "      <td>25.862069</td>\n",
       "      <td>44.827586</td>\n",
       "      <td>5.172414</td>\n",
=======
       "      <td>18.421053</td>\n",
       "      <td>39.473684</td>\n",
       "      <td>31.578947</td>\n",
       "      <td>10.526316</td>\n",
       "    </tr>\n",
       "    <tr>\n",
       "      <th>Male</th>\n",
       "      <td>24.561404</td>\n",
       "      <td>26.315789</td>\n",
       "      <td>43.859649</td>\n",
       "      <td>5.263158</td>\n",
>>>>>>> e8e56c1076dfc8bf7e878bf6c4b339f98534e377
       "    </tr>\n",
       "  </tbody>\n",
       "</table>\n",
       "</div>"
      ],
      "text/plain": [
       "domestic obligation      Never      Often     Rarely  Very often\n",
       "sex                                                             \n",
<<<<<<< HEAD
       "Female               15.555556  40.000000  26.666667   17.777778\n",
       "Male                 24.137931  25.862069  44.827586    5.172414"
=======
       "Female               18.421053  39.473684  31.578947   10.526316\n",
       "Male                 24.561404  26.315789  43.859649    5.263158"
>>>>>>> e8e56c1076dfc8bf7e878bf6c4b339f98534e377
      ]
     },
     "metadata": {},
     "output_type": "display_data"
    },
    {
     "data": {
      "text/plain": [
       "<AxesSubplot:title={'center':'Fig 10: Stacked Barplot of Domestic Obligation against gender'}, xlabel='sex', ylabel='Domestic Obligation'>"
      ]
     },
<<<<<<< HEAD
     "execution_count": 306,
=======
     "execution_count": 132,
>>>>>>> e8e56c1076dfc8bf7e878bf6c4b339f98534e377
     "metadata": {},
     "output_type": "execute_result"
    },
    {
     "data": {
<<<<<<< HEAD
      "image/png": "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\n",
=======
      "image/png": "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\n",
>>>>>>> e8e56c1076dfc8bf7e878bf6c4b339f98534e377
      "text/plain": [
       "<Figure size 648x648 with 1 Axes>"
      ]
     },
     "metadata": {
      "needs_background": "light"
     },
     "output_type": "display_data"
    }
   ],
   "source": [
    "ct5=pd.crosstab(df1['sex'],df1['domestic obligation'], normalize= 'index')*100\n",
    "display(ct5)\n",
    "ct5.plot.bar(figsize=(9,9),xlabel='sex',ylabel='Domestic Obligation',title='Fig 10: Stacked Barplot of Domestic Obligation against gender',stacked=True)"
   ]
  },
  {
   "cell_type": "markdown",
   "metadata": {},
   "source": [
    "## (vi) Background Noises"
   ]
  },
  {
   "cell_type": "code",
<<<<<<< HEAD
   "execution_count": 307,
=======
   "execution_count": 133,
>>>>>>> e8e56c1076dfc8bf7e878bf6c4b339f98534e377
   "metadata": {},
   "outputs": [
    {
     "data": {
      "text/html": [
       "<div>\n",
       "<style scoped>\n",
       "    .dataframe tbody tr th:only-of-type {\n",
       "        vertical-align: middle;\n",
       "    }\n",
       "\n",
       "    .dataframe tbody tr th {\n",
       "        vertical-align: top;\n",
       "    }\n",
       "\n",
       "    .dataframe thead th {\n",
       "        text-align: right;\n",
       "    }\n",
       "</style>\n",
       "<table border=\"1\" class=\"dataframe\">\n",
       "  <thead>\n",
       "    <tr style=\"text-align: right;\">\n",
       "      <th>background noises</th>\n",
       "      <th>No</th>\n",
       "      <th>Yes</th>\n",
       "    </tr>\n",
       "    <tr>\n",
       "      <th>sex</th>\n",
       "      <th></th>\n",
       "      <th></th>\n",
       "    </tr>\n",
       "  </thead>\n",
       "  <tbody>\n",
       "    <tr>\n",
       "      <th>Female</th>\n",
<<<<<<< HEAD
       "      <td>18.421053</td>\n",
       "      <td>81.578947</td>\n",
       "    </tr>\n",
       "    <tr>\n",
       "      <th>Male</th>\n",
       "      <td>46.153846</td>\n",
       "      <td>53.846154</td>\n",
=======
       "      <td>21.875000</td>\n",
       "      <td>78.125000</td>\n",
       "    </tr>\n",
       "    <tr>\n",
       "      <th>Male</th>\n",
       "      <td>45.098039</td>\n",
       "      <td>54.901961</td>\n",
>>>>>>> e8e56c1076dfc8bf7e878bf6c4b339f98534e377
       "    </tr>\n",
       "  </tbody>\n",
       "</table>\n",
       "</div>"
      ],
      "text/plain": [
       "background noises         No        Yes\n",
       "sex                                    \n",
<<<<<<< HEAD
       "Female             18.421053  81.578947\n",
       "Male               46.153846  53.846154"
=======
       "Female             21.875000  78.125000\n",
       "Male               45.098039  54.901961"
>>>>>>> e8e56c1076dfc8bf7e878bf6c4b339f98534e377
      ]
     },
     "metadata": {},
     "output_type": "display_data"
    },
    {
     "data": {
      "text/plain": [
       "<AxesSubplot:title={'center':'Fig 11: Stacked Barplot of Background Noises against gender'}, xlabel='sex', ylabel='background noises'>"
      ]
     },
<<<<<<< HEAD
     "execution_count": 307,
=======
     "execution_count": 133,
>>>>>>> e8e56c1076dfc8bf7e878bf6c4b339f98534e377
     "metadata": {},
     "output_type": "execute_result"
    },
    {
     "data": {
<<<<<<< HEAD
      "image/png": "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\n",
=======
      "image/png": "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\n",
>>>>>>> e8e56c1076dfc8bf7e878bf6c4b339f98534e377
      "text/plain": [
       "<Figure size 576x576 with 1 Axes>"
      ]
     },
     "metadata": {
      "needs_background": "light"
     },
     "output_type": "display_data"
    }
   ],
   "source": [
<<<<<<< HEAD
    "df2=df2[df['background noises'] != 'The question doesn\\'t apply to my situation']\n",
=======
    "df2=df1[df1['background noises'] != 'The question doesn\\'t apply to my situation']\n",
>>>>>>> e8e56c1076dfc8bf7e878bf6c4b339f98534e377
    "ct6=pd.crosstab(df2['sex'],df2['background noises'], normalize= 'index')*100\n",
    "display(ct6)\n",
    "ct6.plot.bar(figsize=(8,8),xlabel='sex',ylabel='background noises',title='Fig 11: Stacked Barplot of Background Noises against gender',stacked=True)"
   ]
  },
  {
   "cell_type": "markdown",
   "metadata": {},
   "source": [
    "## (vi) Personal Calls from superiors/colleagues\n"
   ]
  },
  {
   "cell_type": "code",
<<<<<<< HEAD
   "execution_count": 308,
=======
   "execution_count": 134,
>>>>>>> e8e56c1076dfc8bf7e878bf6c4b339f98534e377
   "metadata": {},
   "outputs": [
    {
     "data": {
      "text/html": [
       "<div>\n",
       "<style scoped>\n",
       "    .dataframe tbody tr th:only-of-type {\n",
       "        vertical-align: middle;\n",
       "    }\n",
       "\n",
       "    .dataframe tbody tr th {\n",
       "        vertical-align: top;\n",
       "    }\n",
       "\n",
       "    .dataframe thead th {\n",
       "        text-align: right;\n",
       "    }\n",
       "</style>\n",
       "<table border=\"1\" class=\"dataframe\">\n",
       "  <thead>\n",
       "    <tr style=\"text-align: right;\">\n",
       "      <th>personal calls</th>\n",
       "      <th>Never</th>\n",
       "      <th>Often</th>\n",
       "      <th>Rarely</th>\n",
       "      <th>Very often</th>\n",
       "    </tr>\n",
       "    <tr>\n",
       "      <th>sex</th>\n",
       "      <th></th>\n",
       "      <th></th>\n",
       "      <th></th>\n",
       "      <th></th>\n",
       "    </tr>\n",
       "  </thead>\n",
       "  <tbody>\n",
       "    <tr>\n",
       "      <th>Female</th>\n",
<<<<<<< HEAD
       "      <td>15.555556</td>\n",
       "      <td>26.666667</td>\n",
       "      <td>51.111111</td>\n",
       "      <td>6.666667</td>\n",
       "    </tr>\n",
       "    <tr>\n",
       "      <th>Male</th>\n",
       "      <td>15.517241</td>\n",
       "      <td>22.413793</td>\n",
       "      <td>56.896552</td>\n",
       "      <td>5.172414</td>\n",
=======
       "      <td>18.421053</td>\n",
       "      <td>23.684211</td>\n",
       "      <td>50.000000</td>\n",
       "      <td>7.894737</td>\n",
       "    </tr>\n",
       "    <tr>\n",
       "      <th>Male</th>\n",
       "      <td>15.789474</td>\n",
       "      <td>22.807018</td>\n",
       "      <td>56.140351</td>\n",
       "      <td>5.263158</td>\n",
>>>>>>> e8e56c1076dfc8bf7e878bf6c4b339f98534e377
       "    </tr>\n",
       "  </tbody>\n",
       "</table>\n",
       "</div>"
      ],
      "text/plain": [
       "personal calls      Never      Often     Rarely  Very often\n",
       "sex                                                        \n",
<<<<<<< HEAD
       "Female          15.555556  26.666667  51.111111    6.666667\n",
       "Male            15.517241  22.413793  56.896552    5.172414"
=======
       "Female          18.421053  23.684211  50.000000    7.894737\n",
       "Male            15.789474  22.807018  56.140351    5.263158"
>>>>>>> e8e56c1076dfc8bf7e878bf6c4b339f98534e377
      ]
     },
     "metadata": {},
     "output_type": "display_data"
    },
    {
     "data": {
      "text/plain": [
       "<AxesSubplot:title={'center':'Fig 12: Stacked Barplot of of personal against gender'}, xlabel='sex', ylabel='Personal Calls'>"
      ]
     },
<<<<<<< HEAD
     "execution_count": 308,
=======
     "execution_count": 134,
>>>>>>> e8e56c1076dfc8bf7e878bf6c4b339f98534e377
     "metadata": {},
     "output_type": "execute_result"
    },
    {
     "data": {
<<<<<<< HEAD
      "image/png": "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\n",
=======
      "image/png": "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\n",
>>>>>>> e8e56c1076dfc8bf7e878bf6c4b339f98534e377
      "text/plain": [
       "<Figure size 576x576 with 1 Axes>"
      ]
     },
     "metadata": {
      "needs_background": "light"
     },
     "output_type": "display_data"
    }
   ],
   "source": [
    "ct7=pd.crosstab(df1['sex'],df1['personal calls'], normalize= 'index')*100\n",
    "display(ct7)\n",
    "ct7.plot.bar(figsize=(8,8),xlabel='sex',ylabel='Personal Calls',title='Fig 12: Stacked Barplot of of personal against gender',stacked=True)"
   ]
  },
  {
   "cell_type": "markdown",
   "metadata": {},
   "source": [
    "## (vii) Silenced on calls/meets"
   ]
  },
  {
   "cell_type": "code",
<<<<<<< HEAD
   "execution_count": 309,
=======
   "execution_count": 135,
>>>>>>> e8e56c1076dfc8bf7e878bf6c4b339f98534e377
   "metadata": {},
   "outputs": [
    {
     "data": {
      "text/html": [
       "<div>\n",
       "<style scoped>\n",
       "    .dataframe tbody tr th:only-of-type {\n",
       "        vertical-align: middle;\n",
       "    }\n",
       "\n",
       "    .dataframe tbody tr th {\n",
       "        vertical-align: top;\n",
       "    }\n",
       "\n",
       "    .dataframe thead th {\n",
       "        text-align: right;\n",
       "    }\n",
       "</style>\n",
       "<table border=\"1\" class=\"dataframe\">\n",
       "  <thead>\n",
       "    <tr style=\"text-align: right;\">\n",
       "      <th>silenced</th>\n",
       "      <th>Never</th>\n",
       "      <th>Often</th>\n",
       "      <th>Rarely</th>\n",
       "      <th>Very often</th>\n",
       "    </tr>\n",
       "    <tr>\n",
       "      <th>sex</th>\n",
       "      <th></th>\n",
       "      <th></th>\n",
       "      <th></th>\n",
       "      <th></th>\n",
       "    </tr>\n",
       "  </thead>\n",
       "  <tbody>\n",
       "    <tr>\n",
       "      <th>Female</th>\n",
<<<<<<< HEAD
       "      <td>22.222222</td>\n",
       "      <td>24.444444</td>\n",
       "      <td>48.888889</td>\n",
       "      <td>4.444444</td>\n",
       "    </tr>\n",
       "    <tr>\n",
       "      <th>Male</th>\n",
       "      <td>31.034483</td>\n",
       "      <td>18.965517</td>\n",
       "      <td>48.275862</td>\n",
       "      <td>1.724138</td>\n",
=======
       "      <td>26.315789</td>\n",
       "      <td>21.052632</td>\n",
       "      <td>47.368421</td>\n",
       "      <td>5.263158</td>\n",
       "    </tr>\n",
       "    <tr>\n",
       "      <th>Male</th>\n",
       "      <td>31.578947</td>\n",
       "      <td>19.298246</td>\n",
       "      <td>47.368421</td>\n",
       "      <td>1.754386</td>\n",
>>>>>>> e8e56c1076dfc8bf7e878bf6c4b339f98534e377
       "    </tr>\n",
       "  </tbody>\n",
       "</table>\n",
       "</div>"
      ],
      "text/plain": [
       "silenced      Never      Often     Rarely  Very often\n",
       "sex                                                  \n",
<<<<<<< HEAD
       "Female    22.222222  24.444444  48.888889    4.444444\n",
       "Male      31.034483  18.965517  48.275862    1.724138"
=======
       "Female    26.315789  21.052632  47.368421    5.263158\n",
       "Male      31.578947  19.298246  47.368421    1.754386"
>>>>>>> e8e56c1076dfc8bf7e878bf6c4b339f98534e377
      ]
     },
     "metadata": {},
     "output_type": "display_data"
    },
    {
     "data": {
      "text/plain": [
       "<AxesSubplot:title={'center':'Fig 13: Stacked Barplot of Silenced on calls/meetings against gender'}, xlabel='sex', ylabel='Silenced on calls/meetings'>"
      ]
     },
<<<<<<< HEAD
     "execution_count": 309,
=======
     "execution_count": 135,
>>>>>>> e8e56c1076dfc8bf7e878bf6c4b339f98534e377
     "metadata": {},
     "output_type": "execute_result"
    },
    {
     "data": {
<<<<<<< HEAD
      "image/png": "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\n",
=======
      "image/png": "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\n",
>>>>>>> e8e56c1076dfc8bf7e878bf6c4b339f98534e377
      "text/plain": [
       "<Figure size 576x576 with 1 Axes>"
      ]
     },
     "metadata": {
      "needs_background": "light"
     },
     "output_type": "display_data"
    }
   ],
   "source": [
    "ct8=pd.crosstab(df1['sex'],df1['silenced'], normalize= 'index')*100\n",
    "display(ct8)\n",
    "ct8.plot.bar(figsize=(8,8),xlabel='sex',ylabel='Silenced on calls/meetings',title='Fig 13: Stacked Barplot of Silenced on calls/meetings against gender',stacked=True)"
   ]
  },
  {
   "cell_type": "markdown",
   "metadata": {},
   "source": [
    "## (viii) Avoid contacting superiors/colleagues"
   ]
  },
  {
   "cell_type": "code",
<<<<<<< HEAD
   "execution_count": 310,
=======
   "execution_count": 136,
>>>>>>> e8e56c1076dfc8bf7e878bf6c4b339f98534e377
   "metadata": {},
   "outputs": [
    {
     "data": {
      "text/html": [
       "<div>\n",
       "<style scoped>\n",
       "    .dataframe tbody tr th:only-of-type {\n",
       "        vertical-align: middle;\n",
       "    }\n",
       "\n",
       "    .dataframe tbody tr th {\n",
       "        vertical-align: top;\n",
       "    }\n",
       "\n",
       "    .dataframe thead th {\n",
       "        text-align: right;\n",
       "    }\n",
       "</style>\n",
       "<table border=\"1\" class=\"dataframe\">\n",
       "  <thead>\n",
       "    <tr style=\"text-align: right;\">\n",
       "      <th>avoid contact</th>\n",
       "      <th>Never</th>\n",
       "      <th>Often</th>\n",
       "      <th>Rarely</th>\n",
       "      <th>Very often</th>\n",
       "    </tr>\n",
       "    <tr>\n",
       "      <th>sex</th>\n",
       "      <th></th>\n",
       "      <th></th>\n",
       "      <th></th>\n",
       "      <th></th>\n",
       "    </tr>\n",
       "  </thead>\n",
       "  <tbody>\n",
       "    <tr>\n",
       "      <th>Female</th>\n",
<<<<<<< HEAD
       "      <td>28.888889</td>\n",
       "      <td>26.666667</td>\n",
       "      <td>33.333333</td>\n",
       "      <td>11.111111</td>\n",
       "    </tr>\n",
       "    <tr>\n",
       "      <th>Male</th>\n",
       "      <td>50.000000</td>\n",
       "      <td>8.620690</td>\n",
       "      <td>41.379310</td>\n",
=======
       "      <td>34.210526</td>\n",
       "      <td>18.421053</td>\n",
       "      <td>34.210526</td>\n",
       "      <td>13.157895</td>\n",
       "    </tr>\n",
       "    <tr>\n",
       "      <th>Male</th>\n",
       "      <td>49.122807</td>\n",
       "      <td>8.771930</td>\n",
       "      <td>42.105263</td>\n",
>>>>>>> e8e56c1076dfc8bf7e878bf6c4b339f98534e377
       "      <td>0.000000</td>\n",
       "    </tr>\n",
       "  </tbody>\n",
       "</table>\n",
       "</div>"
      ],
      "text/plain": [
       "avoid contact      Never      Often     Rarely  Very often\n",
       "sex                                                       \n",
<<<<<<< HEAD
       "Female         28.888889  26.666667  33.333333   11.111111\n",
       "Male           50.000000   8.620690  41.379310    0.000000"
=======
       "Female         34.210526  18.421053  34.210526   13.157895\n",
       "Male           49.122807   8.771930  42.105263    0.000000"
>>>>>>> e8e56c1076dfc8bf7e878bf6c4b339f98534e377
      ]
     },
     "metadata": {},
     "output_type": "display_data"
    },
    {
     "data": {
      "text/plain": [
       "<AxesSubplot:title={'center':'Fig 14: Stacked Barplot of Avoiding contact against gender'}, xlabel='sex', ylabel='Did you avoid contact?'>"
      ]
     },
<<<<<<< HEAD
     "execution_count": 310,
=======
     "execution_count": 136,
>>>>>>> e8e56c1076dfc8bf7e878bf6c4b339f98534e377
     "metadata": {},
     "output_type": "execute_result"
    },
    {
     "data": {
<<<<<<< HEAD
      "image/png": "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\n",
=======
      "image/png": "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\n",
>>>>>>> e8e56c1076dfc8bf7e878bf6c4b339f98534e377
      "text/plain": [
       "<Figure size 576x576 with 1 Axes>"
      ]
     },
     "metadata": {
      "needs_background": "light"
     },
     "output_type": "display_data"
    }
   ],
   "source": [
    "ct9=pd.crosstab(df1['sex'],df1['avoid contact'], normalize= 'index')*100\n",
    "display(ct9)\n",
    "ct9.plot.bar(figsize=(8,8),xlabel='sex',ylabel='Did you avoid contact?',title='Fig 14: Stacked Barplot of Avoiding contact against gender',stacked=True)"
   ]
  },
  {
   "cell_type": "markdown",
   "metadata": {},
   "source": [
    "## (ix) Sexual Harassment"
   ]
  },
  {
   "cell_type": "code",
<<<<<<< HEAD
   "execution_count": 311,
=======
   "execution_count": 137,
>>>>>>> e8e56c1076dfc8bf7e878bf6c4b339f98534e377
   "metadata": {},
   "outputs": [
    {
     "data": {
      "text/html": [
       "<div>\n",
       "<style scoped>\n",
       "    .dataframe tbody tr th:only-of-type {\n",
       "        vertical-align: middle;\n",
       "    }\n",
       "\n",
       "    .dataframe tbody tr th {\n",
       "        vertical-align: top;\n",
       "    }\n",
       "\n",
       "    .dataframe thead th {\n",
       "        text-align: right;\n",
       "    }\n",
       "</style>\n",
       "<table border=\"1\" class=\"dataframe\">\n",
       "  <thead>\n",
       "    <tr style=\"text-align: right;\">\n",
       "      <th>sexual harassment</th>\n",
       "      <th>No</th>\n",
       "      <th>Yes</th>\n",
       "    </tr>\n",
       "    <tr>\n",
       "      <th>sex</th>\n",
       "      <th></th>\n",
       "      <th></th>\n",
       "    </tr>\n",
       "  </thead>\n",
       "  <tbody>\n",
       "    <tr>\n",
       "      <th>Female</th>\n",
<<<<<<< HEAD
       "      <td>84.444444</td>\n",
       "      <td>15.555556</td>\n",
=======
       "      <td>86.842105</td>\n",
       "      <td>13.157895</td>\n",
>>>>>>> e8e56c1076dfc8bf7e878bf6c4b339f98534e377
       "    </tr>\n",
       "    <tr>\n",
       "      <th>Male</th>\n",
       "      <td>100.000000</td>\n",
       "      <td>0.000000</td>\n",
       "    </tr>\n",
       "  </tbody>\n",
       "</table>\n",
       "</div>"
      ],
      "text/plain": [
       "sexual harassment          No        Yes\n",
       "sex                                     \n",
<<<<<<< HEAD
       "Female              84.444444  15.555556\n",
=======
       "Female              86.842105  13.157895\n",
>>>>>>> e8e56c1076dfc8bf7e878bf6c4b339f98534e377
       "Male               100.000000   0.000000"
      ]
     },
     "metadata": {},
     "output_type": "display_data"
    },
    {
     "data": {
      "text/plain": [
       "<AxesSubplot:title={'center':'Fig 15: Stacked Barplot of sexual harassment against gender'}, xlabel='sex', ylabel='Sexual Harassment'>"
      ]
     },
<<<<<<< HEAD
     "execution_count": 311,
=======
     "execution_count": 137,
>>>>>>> e8e56c1076dfc8bf7e878bf6c4b339f98534e377
     "metadata": {},
     "output_type": "execute_result"
    },
    {
     "data": {
<<<<<<< HEAD
      "image/png": "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\n",
=======
      "image/png": "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\n",
>>>>>>> e8e56c1076dfc8bf7e878bf6c4b339f98534e377
      "text/plain": [
       "<Figure size 540x540 with 1 Axes>"
      ]
     },
     "metadata": {
      "needs_background": "light"
     },
     "output_type": "display_data"
    }
   ],
   "source": [
    "ct10=pd.crosstab(df1['sex'],df1['sexual harassment'], normalize= 'index')*100\n",
    "display(ct10)\n",
    "ct10.plot.bar(figsize=(7.5,7.5),xlabel='sex',ylabel='Sexual Harassment',title='Fig 15: Stacked Barplot of sexual harassment against gender',stacked=True)"
   ]
  },
  {
   "cell_type": "markdown",
   "metadata": {},
   "source": [
    "## (x) Better Policies"
   ]
  },
  {
   "cell_type": "code",
<<<<<<< HEAD
   "execution_count": 312,
=======
   "execution_count": 138,
>>>>>>> e8e56c1076dfc8bf7e878bf6c4b339f98534e377
   "metadata": {},
   "outputs": [
    {
     "data": {
      "text/html": [
       "<div>\n",
       "<style scoped>\n",
       "    .dataframe tbody tr th:only-of-type {\n",
       "        vertical-align: middle;\n",
       "    }\n",
       "\n",
       "    .dataframe tbody tr th {\n",
       "        vertical-align: top;\n",
       "    }\n",
       "\n",
       "    .dataframe thead th {\n",
       "        text-align: right;\n",
       "    }\n",
       "</style>\n",
       "<table border=\"1\" class=\"dataframe\">\n",
       "  <thead>\n",
       "    <tr style=\"text-align: right;\">\n",
       "      <th>better policies</th>\n",
       "      <th>No</th>\n",
       "      <th>Yes</th>\n",
       "    </tr>\n",
       "    <tr>\n",
       "      <th>sex</th>\n",
       "      <th></th>\n",
       "      <th></th>\n",
       "    </tr>\n",
       "  </thead>\n",
       "  <tbody>\n",
       "    <tr>\n",
       "      <th>Female</th>\n",
<<<<<<< HEAD
       "      <td>24.444444</td>\n",
       "      <td>75.555556</td>\n",
       "    </tr>\n",
       "    <tr>\n",
       "      <th>Male</th>\n",
       "      <td>41.379310</td>\n",
       "      <td>58.620690</td>\n",
=======
       "      <td>28.947368</td>\n",
       "      <td>71.052632</td>\n",
       "    </tr>\n",
       "    <tr>\n",
       "      <th>Male</th>\n",
       "      <td>40.350877</td>\n",
       "      <td>59.649123</td>\n",
>>>>>>> e8e56c1076dfc8bf7e878bf6c4b339f98534e377
       "    </tr>\n",
       "  </tbody>\n",
       "</table>\n",
       "</div>"
      ],
      "text/plain": [
       "better policies         No        Yes\n",
       "sex                                  \n",
<<<<<<< HEAD
       "Female           24.444444  75.555556\n",
       "Male             41.379310  58.620690"
=======
       "Female           28.947368  71.052632\n",
       "Male             40.350877  59.649123"
>>>>>>> e8e56c1076dfc8bf7e878bf6c4b339f98534e377
      ]
     },
     "metadata": {},
     "output_type": "display_data"
    },
    {
     "data": {
      "text/plain": [
       "<AxesSubplot:title={'center':'Fig 16: Stacked Barplot of better policies on calls/meetings against gender'}, xlabel='sex', ylabel='Need for Better Policies'>"
      ]
     },
<<<<<<< HEAD
     "execution_count": 312,
=======
     "execution_count": 138,
>>>>>>> e8e56c1076dfc8bf7e878bf6c4b339f98534e377
     "metadata": {},
     "output_type": "execute_result"
    },
    {
     "data": {
<<<<<<< HEAD
      "image/png": "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\n",
=======
      "image/png": "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\n",
>>>>>>> e8e56c1076dfc8bf7e878bf6c4b339f98534e377
      "text/plain": [
       "<Figure size 432x432 with 1 Axes>"
      ]
     },
     "metadata": {
      "needs_background": "light"
     },
     "output_type": "display_data"
    }
   ],
   "source": [
    "ct11=pd.crosstab(df1['sex'],df1['better policies'], normalize= 'index')*100\n",
    "display(ct11)\n",
    "ct11.plot.bar(figsize=(6,6),xlabel='sex',ylabel='Need for Better Policies',title='Fig 16: Stacked Barplot of better policies on calls/meetings against gender',stacked=True)"
   ]
  },
  {
   "cell_type": "markdown",
   "metadata": {},
   "source": [
    "## (xi) Biased Impact"
   ]
  },
  {
   "cell_type": "code",
<<<<<<< HEAD
   "execution_count": 313,
=======
   "execution_count": 139,
>>>>>>> e8e56c1076dfc8bf7e878bf6c4b339f98534e377
   "metadata": {},
   "outputs": [
    {
     "data": {
      "text/html": [
       "<div>\n",
       "<style scoped>\n",
       "    .dataframe tbody tr th:only-of-type {\n",
       "        vertical-align: middle;\n",
       "    }\n",
       "\n",
       "    .dataframe tbody tr th {\n",
       "        vertical-align: top;\n",
       "    }\n",
       "\n",
       "    .dataframe thead th {\n",
       "        text-align: right;\n",
       "    }\n",
       "</style>\n",
       "<table border=\"1\" class=\"dataframe\">\n",
       "  <thead>\n",
       "    <tr style=\"text-align: right;\">\n",
       "      <th>biased impact</th>\n",
       "      <th>Maybe</th>\n",
       "      <th>No</th>\n",
       "      <th>Yes</th>\n",
       "    </tr>\n",
       "    <tr>\n",
       "      <th>sex</th>\n",
       "      <th></th>\n",
       "      <th></th>\n",
       "      <th></th>\n",
       "    </tr>\n",
       "  </thead>\n",
       "  <tbody>\n",
       "    <tr>\n",
       "      <th>Female</th>\n",
<<<<<<< HEAD
       "      <td>37.777778</td>\n",
       "      <td>15.555556</td>\n",
       "      <td>46.666667</td>\n",
       "    </tr>\n",
       "    <tr>\n",
       "      <th>Male</th>\n",
       "      <td>25.862069</td>\n",
       "      <td>58.620690</td>\n",
       "      <td>15.517241</td>\n",
=======
       "      <td>44.736842</td>\n",
       "      <td>23.684211</td>\n",
       "      <td>31.578947</td>\n",
       "    </tr>\n",
       "    <tr>\n",
       "      <th>Male</th>\n",
       "      <td>26.315789</td>\n",
       "      <td>57.894737</td>\n",
       "      <td>15.789474</td>\n",
>>>>>>> e8e56c1076dfc8bf7e878bf6c4b339f98534e377
       "    </tr>\n",
       "  </tbody>\n",
       "</table>\n",
       "</div>"
      ],
      "text/plain": [
       "biased impact      Maybe         No        Yes\n",
       "sex                                           \n",
<<<<<<< HEAD
       "Female         37.777778  15.555556  46.666667\n",
       "Male           25.862069  58.620690  15.517241"
=======
       "Female         44.736842  23.684211  31.578947\n",
       "Male           26.315789  57.894737  15.789474"
>>>>>>> e8e56c1076dfc8bf7e878bf6c4b339f98534e377
      ]
     },
     "metadata": {},
     "output_type": "display_data"
    },
    {
     "data": {
      "text/plain": [
       "<AxesSubplot:title={'center':'Fig 17: Stacked Barplot of Biased Impact of the Pandemic against gender'}, xlabel='sex', ylabel='Biased Impact'>"
      ]
     },
<<<<<<< HEAD
     "execution_count": 313,
=======
     "execution_count": 139,
>>>>>>> e8e56c1076dfc8bf7e878bf6c4b339f98534e377
     "metadata": {},
     "output_type": "execute_result"
    },
    {
     "data": {
<<<<<<< HEAD
      "image/png": "iVBORw0KGgoAAAANSUhEUgAAAccAAAGdCAYAAABn6bgjAAAAOXRFWHRTb2Z0d2FyZQBNYXRwbG90bGliIHZlcnNpb24zLjMuNCwgaHR0cHM6Ly9tYXRwbG90bGliLm9yZy8QVMy6AAAACXBIWXMAAAsTAAALEwEAmpwYAAAv1ElEQVR4nO3dfbxd85n//9cVCQkRREJLaOhk3B+iifu6S0uL0l9LUTdBDdOpoR1tBx2V3qQ3w9Bqp6OKooimrbuOUkrVT8uk0WrchGqJCCkRRNykEq7vH2ud2FlOck6Svc8++5zX8/E4j7PXzV7rWmvttd57fdbae0dmIkmS3tKv2QVIktTTGI6SJFUYjpIkVRiOkiRVGI6SJFUYjpIkVaxwOEbEyxGxaT2LaSURcUdEHF+H6UyIiCvqUVM9RMSMiHhfN83rqxHxXET8bQWf362vwYgYGREZEf27a57NFhH/X0Q8Wa7r0V0Yf8+ImNUdtdVLRBwTEXc1aNoPRsSejZj2ioiIMyLiombXUU8RcWlEfLXe0+00HMuD5WvlztH+t0FmDs7Mx1ZkphFxYUQ8EhFvRsQxlWEXVOb194iYvxzTPigi7ouIl8oD720RMbIc1qOCqDPlgebNmnXxVER8qdl1wcofBCNiI+BUYMvMfMdSpr/MZV+Z12AjdOcbi64qw/wfVmIS5wAnlev6jw2Y/lKVofVGuf1fKvfrAxoxr0bJzK0y845m19EuM7+WmSv1pr6vvEns6pnjh8qdo/3v6ZWc75+AfwH+UB2Qmf9cOy9gEvCTrky03EkvpzjorgVsAnwPeHMl622mp2vWxW7AJyLiwysyoR72Yn4XMDczn13GOHVbdq2wdwEPNnH+d5fbf23gYmByRAxtYj3qJTo7Hq5Ms+rid4wRsW5E/Lx8d/f7srlsqc0UmfnfmXkbsKCTeawBfBS4rItlbQc8npm3ZWF+Zv4sM2dGxAeAM4BDy3eifyrncWxETI+I+RHxWEScWKmh9kz0r+V0qnW+MyKmRcRny+6dIuJ3EfFiRPyptlklIjaJiN+U87sVGNbFZSMzHwd+B2xZM71vl81eL0XEvRHx3pphEyLipxFxRUS8BBxT0+/HZQ1/iIhtO5pfRKwWEd+KiKfLv2+V/dYAbgI2qG1N6OD5a0XE5RExJyKeiIj/iIh+5dnVrTXPv3QFl732Nbh/RPyxXA9PRsSEmvEGlutgbrlNfh8R69fUeHFEzC7PTr8aEauUw1aJiHOiaIF4DNi/szpr5nlMRPw2Is4r5/lYROxS9n8yIp6NiPE1418aRavJreV2+U1EvKtm+LK28ypRNJf9tXzuvRGxUUTcWY7yp3I9H9pBnf3K7fJEWdPl5TpZLSJeBlYpn//XDp671OlHxKnl9GZHxLE1/Vcr1+nMiHimXOZBna3PzHwTuAQYBGway9hvo2zVWEYN60bEDeW6nAK8u7Jcm5fb4fkoWrg+VtlO34uIm8pl/m1EvKPcN16IiIejpvk5aloTlradOlreiPhJRPwtIuZFxJ0RsVWl/qUebzt5rSxuPYu3zgDHl9vjuYj4Qs24O0TE1HI6z0TEueWg9u3+YrkOdu6g/kERcVm5TqZHxOejpqUpIjaIiJ9FcWx4PCJOrtQ4uXwtzo+iaXpMzfDRURy35kfEj4GBlXkfEMUx+8UojsNtle3x7xExDXgllhWQmbnMP2AG8L4O+ifwD+Xjq8u/1SkOXk8Cd3Vh2ncBxyxj+NHAY0DU9Pse8L2ljL8pReCeB+wFDK4MnwBcUem3P8XOEcAewKvA9uWwHYB5wPsp3khsCGxeDrsDOB4YCfwZOKHsvyEwF9ivfM77y+7h5fC7gXOB1YDdgfnVmmpq2xOYVdM9CngK2Lum35HAukB/ijPmvwEDa5Z3IfDhspZBNf0OBgYAnwUeBwZUtzfwZeAeYD1gOEU4faWj2pZS/+XA9cCaNevpE115fheXvfY1uCewTbmcbcAzwIfLYScCP6d4fa4CvAcYUg67Dvg+sEa5nFOAE8th/ww8DGwEDAV+Xc6zf2f7CnAMsAg4tpznV4GZwH+X236fctsPLse/tOzevRz+bWr2oU628+eA+4HNKF7H2wLrVtfRUmo+DvgLxb4zGLgG+FFH63gpz19ieLkdFpWvnQEU+8GrwDrl8G8BN5Trc81yu3x9KdM+pn0dlMt9SrmO1mLZ+21nNVwNTC63+dYUr6v2+axBcfw6tpzn9sBzwFY12+k5itfQQOB2iv3n6Jrt/OulvCaWup2Wsl3WLF8L3wLuqxm2zONtJ6+VCZTHG4p9MoEfUBwbtgX+DmxRc6w6qnw8GNip8rwO94NynG8AvwHWAUYA0yj3Z4p99F7gi8CqFK+9x4B9a2pcUG63VYCvA/eUw1YFngA+U27bgymOZ18th28PPAvsWD53fLkNVqvZHvdR7NODlnn8WtbAmom9DLxY/l1Xu1OUBSwENqt5zlepTzjeBkzobDqV5+xE8cKfU67gS3nrALT4hbGM518HnFI+/j5w3lLGu4Mi5GYAh9f0/3dqDi5lv1+WG2ljip12jZphVy2tJoqd/M1yvb9UrvNrgFWXUf8LwLY1y3tnZfiE9hdazQt1NvDeDnbmvwL71Yy7LzCjprZlhdsqFDvaljX9TgTu6OLzO112lnHgpjignFc+Po4i2Nsq46xf1jiopt/hlAc3igPfP9cM24flC8dHa4ZtUz53/Zp+c4HtyseXAlfXDBsMvAFs1IXt/Ahw0FLG6yzcbgP+paZ7M4r9uX8Xn99ROL5Wu44oDlY7UQTCK8C7a4btTNHa09G0j6HYX16kCKR76OCNer59v11WDe3Hq81rhn2Nt8LxUOD/r0z7+8BZNdvpBzXD/hWYXtnOLy7lNbHU7bSsP4om5aR4U7Dcx1vefkyohuOImnGnAIeVj+8EvgQMq0yv/XnLCsfFYVd2H89b4bgjMLMy/unAD2tq/FXNsC2B18rHuwNPs+QJ0+94Kxz/h/INfM3wR4A9arbHcV1Z711tVv1wZq5d/n24Mmw4xTuUJ2v6PclKKpsb9qA4++iyzLwnMz+WmcOB91KszC8sbfyI+GBE3FM2obxI8W6lvalzI4qAWJojKN51/rSm37uAQ8pT+hfLae4GvBPYAHghM1+pGf+JThbp6XK9D6HYSV6jppm5bDqaXja/vEixA9U21Xa0LRb3y6K5alZZW9UGlfqeWMp4HRnGW+/yap+/YRefD50se62I2DEifl0208yjOOtrXw8/oniDcnUUzcP/GREDKLbVAGB2zbb6PsUZJBTLWrv+OttWVc/UPH4NIDOr/QbXdNdul5eB58saOtvOnb1Ol6Wjbdyf4o3DipqbmYtqul+lWM7hFGc799as75vL/ktzT/kaGJaZO2Xmr6DT/bazGqrHq9rlfxewY2X/PQKovWmsug2XtU1rdWk7lc2v3yibX1+iOKBDsXydHm+7cEyoqr1bvH09AXwC+Efg4bL5dnluhqruO7WP30VxSaV2HZ/Bkq+5ak0DyybQDYCnsky6UnX7nVqZ9kYsedzqUj7V43OOcyje3Y2o6ddhO/pyOhr4Xa7E3YiZ+XuKs42t23vVDo+I1YCfUdyRt35mrg38guIdLhQrcYnrERUTKN7RXhXldaryOT+qeTOxdmaukZnfoDhDWyeKa3btNl6O5ZlHcab5obL+91KcqX6MoslobYpm4Kh9WgeTWrx9IqIfxbbr6CarpylebLW1to/X0XRrPUfxDrf6/Kc6eV6Hqsvegasomus2ysy1gAso10NmLszML2XmlsAuwAEUr68nKc4ch9VsqyGZ2X59ZzZLvpa7vK1WUO12GUzR9Ph0F7ZzZ6/TZeloGy9iyQN+vTxHER5b1azvtbK44abLurDfLkv78Wpp2/VJ4DeV/XdwZn5yeWpciq5up48DBwHvowi2kWX/oJPjbRePCV2SmY9m5uEUbxa/Cfy0PHZ1tu9Dse8sLROepGgtqF3Ha2bmfl2c7oYRUbs81e03sTLt1TNzUu2idWE+Kx+OmfkGRQBNiIjVI2JzigPPUkXEqhExkGKDDYjiholqLUdTNGF0WUTsFhH/FBHrld2bAwdSNMdAscOPrJnXqhRt+nOARRHxQYqms3YXA8dGxLgoblzYsJxmu4XAIRTXKX5UTvcK4EMRsW/5DnBgFDcIjMjMJ4CpwJfKdbAbSz/Yd7R8g4HDeOvuwTUpdpQ5QP+I+CIwpAuTek9EfKR8J/ZpioC4p4PxJgH/ERHDI2IYxTWC9o/CPAOsGxFrdTSD8nUxGZgYEWtGcXPJv9U8f7l0sOxVawLPZ+aCiNiB4gDT/ty9ImKb8g3MSxTb7Y3MnA3cAvxXRAwpt/G7I2KP8qmTgZMjYkRErAOctiK1L4f9ytfwqsBXgP/LzCfpfDtfBHwlIkZFoS0i1i2HPUNxTWdpJgGfieJGscEUTYw/rpx1LUtn01+sbKX4AXBezT66YUTs28V5tetsv11WDdXj1ZYUlzza/S/wjxFxVEQMKP/GRsQWy1ljR5a1nWqtSbFPzqU40/7aMuqvHm9X9JjwNhFxZEQML7fbi2XvN8ppv8myt/tk4PSIWCciNgROqhk2BXgpihtjBpXHya0jYmwXyrqbYvlOjoj+EfERintD2v0A+OcoWpIiItaI4ma9Nbu00DXq9Q05J1G8w/kbRRPWJIqNuzS3ULyD3AW4sHy8e/vAKO5+GkEHH+GI4u62C5Yy3RcpwvD+KO60uxm4FvjPcnj79OZGxB8ycz5wMsWGfIHigHpD+8QycwrFhfnzKN59/YYl32WTma8DH6F4d3UJxZnRQRTNBHMo3sl8jrfW9ccp2tyfB86i82bjxXeEUjQfDKVo5oGiqfAmihtdnqC4xtqVJoPrKa6tvAAcBXwkMxd2MN5XKcJ8GsWNBH8o+5GZD1Ns58fK5ouOmlv/leIa02MU15evolhHXbWsZa/6F+DLUXwm9osU27TdOyiavl8CplNsx/aQPpriYPsQxfr4KUUTOBQ72i8pPnr0B4qDUiNdRfGaeJ7iho+ubudzKZb3FoplvJjiBgsoWjcuK7fRx3i7Syj22TspbixZQLHduqqz6Vf9O8UNQPdE0WT4K4rrnF3W2X7bBSdRNB3+jeIN+A8r096H4o3Y0+U436QI45W1rO1U63KK7fwUxeuy+sZ1WcfbFT0mdOQDwIPl/vdtimuRCzLzVWAi8Ntyu+/UwXO/THG55nGKbfzT9hrLgP8Q5acLKFoULiqXaZlqjrfHUGz7Q6nZLzNzKvBPwHfL4X8px11usWTTbX1ExDeBd2Tm+E5HVreK4iMO/5CZRza7Fr0lio+zzMrM/2h2LWotrXC8jYhPUoTrHp2O3EPU5cwxis8FtZWnsTtQXMi9th7TliS9pRWOt1F89nvX8lLFZhQfKelRNXamXt+YsibFqf0GFLdM/xdF050kqb5a4Xi7KsWd35tQXO66muIz6i2jIc2qkiS1Mn+ySpKkCsNRkqSKnvQrDd1i2LBhOXLkyGaXIUkt5d57732u/OaxPqHPhePIkSOZOnVqs8uQpJYSEcv79YktzWZVSZIqDEdJkioMR0mSKgxHSZIqDEdJkioMR0mSKgxHSZIqDEdJkioMR0mSKgxHSZIqelQ4RsQlEfFsRDxQ029oRNwaEY+W/9epGXZ6RPwlIh6JiH2bU7UkqbfpUeEIXAp8oNLvNOC2zBwF3FZ2ExFbAocBW5XP+V5ErNJ9pUqSeqseFY6ZeSfwfKX3QcBl5ePLgA/X9L86M/+emY8DfwF26I46JUm9Wyv8Ksf6mTkbIDNnR8R6Zf8NgXtqxptV9nubiDgBOAFg4403bmCp9bPNZds0u4Re5f7x9ze7hF7F12f9+NrsmXrUmeNyig76ZUcjZuaFmTkmM8cMH95nfo5MkrSCWiEcn4mIdwKU/58t+88CNqoZbwTwdDfXJknqhVohHG8AxpePxwPX1/Q/LCJWi4hNgFHAlCbUJ0nqZXrUNceImATsCQyLiFnAWcA3gMkR8QlgJnAIQGY+GBGTgYeARcCnMvONphQuSepVelQ4ZubhSxk0binjTwQmNq4iSVJf1ArNqpIkdSvDUZKkCsNRkqQKw1GSpArDUZKkCsNRkqQKw1GSpArDUZKkCsNRkqQKw1GSpArDUZKkCsNRkqQKw1GSpArDUZKkCsNRkqQKw1GSpArDUZKkCsNRkqQKw1GSpArDUZKkCsNRkqQKw1GSpArDUZKkCsNRkqQKw1GSpArDUZKkCsNRkqQKw1GSpArDUZKkCsNRkqQKw1GSpArDUZKkCsNRkqQKw1GSpArDUZKkCsNRkqQKw1GSpArDUZKkCsNRkqQKw1GSpArDUZKkCsNRkqSK/s0uQFLruf/xmc0uQWoozxwlSaowHCVJqjAcJUmqMBwlSaowHCVJqjAcJUmqMBwlSaowHCVJqjAcJUmqMBwlSapomXCMiM9ExIMR8UBETIqIgRExNCJujYhHy//rNLtOSVLra4lwjIgNgZOBMZm5NbAKcBhwGnBbZo4Cbiu7JUlaKS0RjqX+wKCI6A+sDjwNHARcVg6/DPhwc0qTJPUmLRGOmfkUcA4wE5gNzMvMW4D1M3N2Oc5sYL2Onh8RJ0TE1IiYOmfOnO4qW5LUoloiHMtriQcBmwAbAGtExJFdfX5mXpiZYzJzzPDhwxtVpiSpl2iJcATeBzyemXMycyFwDbAL8ExEvBOg/P9sE2uUJPUSrRKOM4GdImL1iAhgHDAduAEYX44zHri+SfVJknqR/s0uoCsy8/8i4qfAH4BFwB+BC4HBwOSI+ARFgB7SvColSb1FS4QjQGaeBZxV6f13irNISZLqplWaVSVJ6jaGoyRJFYajJEkVhqMkSRWGoyRJFYajJEkVhqMkSRWGoyRJFYajJEkVhqMkSRWGoyRJFYajJEkVhqMkSRWGoyRJFYajJEkVhqMkSRWGoyRJFYajJEkVhqMkSRWGoyRJFYajJEkVhqMkSRWGoyRJFYajJEkVhqMkSRWGoyRJFYajJEkVhqMkSRWGoyRJFYajJEkVhqMkSRWGoyRJFYajJEkVhqMkSRWGoyRJFYajJEkVhqMkSRWGoyRJFYajJEkVhqMkSRWGoyRJFYajJEkVhqMkSRWGoyRJFYajJEkVhqMkSRUNCceI+FFX+kmS1BM16sxxq9qOiFgFeE+D5iVJUl3VNRwj4vSImA+0RcRL5d984Fng+nrOS5KkRqlrOGbm1zNzTeDszBxS/q2Zmetm5un1nJckSY3SqGbVKRGxVntHRKwdER9u0LwkSaqrRoXjWZk5r70jM18EzmrQvCRJqqtGhWNH0+3foHlJklRXjQrHqRFxbkS8OyI2jYjzgHtXZoJl0+xPI+LhiJgeETtHxNCIuDUiHi3/r1On+iVJfVijwvFfgdeBHwM/ARYAn1rJaX4buDkzNwe2BaYDpwG3ZeYo4LayW5KkldKQps7MfIU6BlVEDAF2B44pp/868HpEHATsWY52GXAH8O/1mq8kqW9qSDhGxHDg8xRfBjCwvX9m7r2Ck9wUmAP8MCK2pWiiPQVYPzNnl9OeHRHrLaWeE4ATADbeeOMVLEGS1Fc0qln1SuBhYBPgS8AM4PcrMb3+wPbA/2TmaGC5zkwz88LMHJOZY4YPH74SZUiS+oJGheO6mXkxsDAzf5OZxwE7rcT0ZgGzMvP/yu6fUoTlMxHxToDy/7MrU7QkSdC4cFxY/p8dEftHxGhgxIpOLDP/BjwZEZuVvcYBDwE3AOPLfuPxK+okSXXQqM8efrX8hpxTge8AQ4DPrOQ0/xW4MiJWBR4DjqUI98kR8QlgJnDISs5DkqSG3a36v+XDecBedZrmfcCYDgaNq8f0JUlq16jfc9w0In4eEc9FxLMRcX1EbNqIeUmSVG+NuuZ4FTAZeAewAcUXAUxq0LwkSaqrRoVjZOaPMnNR+XcFkA2alyRJddWoG3J+HRGnAVdThOKhwI0RMRQgM59v0HwlSVppjQrHQ8v/J1b6H0cRll5/lCT1WI26W3WTRkxXkqTu0KjvVl0F2B8YWTuPzDy3EfOTJKmeGtWs+nOKn6m6H3izQfOQJKkhGhWOIzKzrUHTliSpoRr1UY6bImKfBk1bkqSGatSZ4z3AtRHRj+JLyAPIzBzSoPlJklQ3jQrH/wJ2Bu7PTD/8L0lqKY1qVn0UeMBglCS1okadOc4G7oiIm4C/t/f0oxySpFbQqHB8vPxbtfyTJKllNOobcr7UiOn2Jfc/PrPZJUhSn1XXcIyIn7OMX9/IzAPrOT9Jkhqh3meO59R5epIkdbu6hmNm/qae05MkqRka9VEOSZJaluEoSVKF4ShJUoV3q0qSVNGou1U/ArwDuKLsPhyYUed5SZLUEA25WzUivpKZu9cM+nlE3FnPeUmS1CiNuuY4PCI2be+IiE2A4Q2alyRJddWo71b9DMUXjz9Wdo8ETmzQvCRJqqtGfbfqzRExCti87PVwZv59Wc+RJKmnaEizakSsDnwOOCkz/wRsHBEHNGJekiTVW6OuOf4QeB3YueyeBXy1QfOSJKmuGhWO787M/wQWAmTma0A0aF6SJNVVo8Lx9YgYRPmFABHxbsBrjpKkltCou1XPAm4GNoqIK4FdgWMaNC9JkuqqUXer3hoRfwB2omhOPSUzn2vEvCRJqrdG3a26K7AgM28E1gbOiIh3NWJekiTVW6OuOf4P8GpEbEvxkY4ngMsbNC9JkuqqUeG4KDMTOAg4PzO/DazZoHlJklRXjbohZ35EnA4cCeweEasAAxo0L0mS6qpRZ46HUnx04xOZ+TdgQ+DsBs1LkqS6atTdqn8Dzq3pnonXHCVJLaJRd6vuFBG/j4iXI+L1iHgjIuY1Yl6SJNVbo5pVvwscDjwKDAKOB/67QfOSJKmuGnVDDpn5l4hYJTPfAH4YEb9r1LwkSaqnRoXjqxGxKnBfRPwnMBtYo0HzkiSprhrVrHoUsApwEvAKsBHw0QbNS5KkumrU3apPlA9fA77UiHlIktQodQ3HiJicmR+LiPspf66qVma21XN+kiQ1Qr3PHE8p/x9Q5+lKktRt6hqOmTm7/N/erEpEDAPmlt+1KklSj1fXG3LKD//fERHXRMToiHgAeAB4JiI+UM95SZLUKPVuVv0ucAawFnA78MHMvCciNgcmATfXeX6SJNVdvT/K0T8zb8nMnwB/y8x7ADLz4TrPR5Kkhql3OL5Z8/i1yjCvOUqSWkK9m1W3jYiXgAAGlY8puweu7MTL34WcCjyVmQdExFDgx8BIYAbwscx8YWXnI0nq2+p65piZq2TmkMxcMzP7l4/bu+vxY8enANNruk8DbsvMUcBtZbckSSulUV8fV3cRMQLYH7iopvdBwGXl48uAD3dzWZKkXqhlwhH4FvB5lryuuX7NZytnA+t19MSIOCEipkbE1Dlz5jS8UElSa2uJcIyIA4BnM/PeFXl+Zl6YmWMyc8zw4cPrXJ0kqbdp2O851tmuwIERsR/FjT1DIuIKii8XeGdmzo6IdwLPNrVKSVKv0BJnjpl5emaOyMyRwGHA7Zl5JHADML4cbTxwfZNKlCT1Ii0RjsvwDeD9EfEo8P6yW5KkldIqzaqLZeYdwB3l47nAuGbWI0nqfVr9zFGSpLpruTPHvmLkgquaXUKvMqPZBUhqKZ45SpJUYThKklRhOEqSVGE4SpJUYThKklRhOEqSVGE4SpJUYThKklRhOEqSVGE4SpJUYThKklRhOEqSVGE4SpJUYThKklRhOEqSVGE4SpJUYThKklRhOEqSVGE4SpJUYThKklRhOEqSVGE4SpJUYThKklRhOEqSVGE4SpJUYThKklRhOEqSVGE4SpJUYThKklRhOEqSVGE4SpJUYThKklRhOEqSVGE4SpJUYThKklRhOEqSVNG/2QVIaj0jF1zV7BJ6jRnNLkAd8sxRkqQKw1GSpArDUZKkCsNRkqQKw1GSpArDUZKkCsNRkqQKw1GSpArDUZKkCsNRkqQKw1GSpArDUZKkCr94XH3OwoULmTVrFgsWLGh2KS1j4MCBjBgxggEDBjS7FKlbGI7qc2bNmsWaa67JyJEjiYhml9PjZSZz585l1qxZbLLJJs0uR+oWLdGsGhEbRcSvI2J6RDwYEaeU/YdGxK0R8Wj5f51m16qeb8GCBay77roGYxdFBOuuu65n2upTWiIcgUXAqZm5BbAT8KmI2BI4DbgtM0cBt5XdUqcMxuXj+lJf0xLhmJmzM/MP5eP5wHRgQ+Ag4LJytMuADzelQLW0GTNmsPXWW3c47Pjjj+ehhx5q2LxHjhzJc88997b+++23Hy+++GLD5rs01113XUOXV2oVLRGOtSJiJDAa+D9g/cycDUWAAus1sTT1QhdddBFbbrllt8/3F7/4BWuvvXa3z9dwlAotFY4RMRj4GfDpzHxpOZ53QkRMjYipc+bMaVyBalmLFi1i/PjxtLW1cfDBB/Pqq68CsOeeezJ16lQAPvnJTzJmzBi22morzjrrrMXPPe2009hyyy1pa2vjs5/9LABz5szhox/9KGPHjmXs2LH89re/BWDu3Lnss88+jB49mhNPPJHM7LCe9jPKGTNmsPnmm3P88cez9dZbc8QRR/CrX/2KXXfdlVGjRjFlyhQAJkyYwFFHHcXee+/NqFGj+MEPfgDAyy+/zLhx49h+++3ZZpttuP766xfP4/LLL6etrY1tt92Wo446it/97nfccMMNfO5zn2O77bbjr3/9a53XstQ6WuZu1YgYQBGMV2bmNWXvZyLinZk5OyLeCTzb0XMz80LgQoAxY8Z0fDRSn/bII49w8cUXs+uuu3Lcccfxve99b3HQtZs4cSJDhw7ljTfeYNy4cUybNo0RI0Zw7bXX8vDDDxMRi5tCTznlFD7zmc+w2267MXPmTPbdd1+mT5/Ol770JXbbbTe++MUvcuONN3LhhRd2Wttf/vIXfvKTn3DhhRcyduxYrrrqKu666y5uuOEGvva1r3HdddcBMG3aNO655x5eeeUVRo8ezf777896663Htddey5AhQ3juuefYaaedOPDAA3nooYeYOHEiv/3tbxk2bBjPP/88Q4cO5cADD+SAAw7g4IMPrvcqllpKS5w5RnE3wMXA9Mw8t2bQDcD48vF44Prqc6Wu2Gijjdh1110BOPLII7nrrrveNs7kyZPZfvvtGT16NA8++CAPPfQQQ4YMYeDAgRx//PFcc801rL766gD86le/4qSTTmK77bbjwAMP5KWXXmL+/PnceeedHHnkkQDsv//+rLNO5zdYb7LJJmyzzTb069ePrbbainHjxhERbLPNNsyYMWPxeAcddBCDBg1i2LBh7LXXXkyZMoXM5IwzzqCtrY33ve99PPXUUzzzzDPcfvvtHHzwwQwbNgyAoUOHruwqlHqVVjlz3BU4Crg/Iu4r+50BfAOYHBGfAGYChzSnPLW66t2Y1e7HH3+cc845h9///vess846HHPMMSxYsID+/fszZcoUbrvtNq6++mq++93vcvvtt/Pmm29y9913M2jQoE7n1ZnVVltt8eN+/fot7u7Xrx+LFi1a5jJceeWVzJkzh3vvvZcBAwYwcuRIFixYQGZ6B6q0DC1x5piZd2VmZGZbZm5X/v0iM+dm5rjMHFX+f77Ztao1zZw5k7vvvhuASZMmsdtuuy0x/KWXXmKNNdZgrbXW4plnnuGmm24Cimt68+bNY7/99uNb3/oW9913HwD77LMP3/3udxc/v73/7rvvzpVXXgnATTfdxAsvvFC3Zbj++utZsGABc+fO5Y477mDs2LHMmzeP9dZbjwEDBvDrX/+aJ554AoBx48YxefJk5s6dC8Dzzxe7zpprrsn8+fPrVpPUqloiHKVG22KLLbjssstoa2vj+eef55Of/OQSw7fddltGjx7NVlttxXHHHbe4CXb+/PkccMABtLW1sccee3DeeecBcP755zN16lTa2trYcsstueCCCwA466yzuPPOO9l+++255ZZb2Hjjjeu2DDvssAP7778/O+20E2eeeSYbbLABRxxxBFOnTmXMmDFceeWVbL755gBstdVWfOELX2CPPfZg22235d/+7d8AOOywwzj77LMZPXq0N+SoT4ul3S3XW40ZMybb7z7syUaedmOzS+hVZnxj/8WPp0+fzhZbbNHEaupvwoQJDB48+G03EdVT7Xrz9Vk/ta/Nniwi7s3MMc2uo7t45ihJUkWr3JAjaRkmTJjQ7BKkXsUzR0mSKgxHSZIqDEdJkioMR0mSKgxHqQeICI466qjF3YsWLWL48OEccMABKzS9CRMmcM4559SrPKnP8W5VqaLen+HryufY1lhjDR544AFee+01Bg0axK233sqGG25Y1zokdZ1njlIP8cEPfpAbbyyCedKkSRx++OGLh02ZMoVddtmF0aNHs8suu/DII48A8N73vnfxV9MB7LrrrkybNg2AP/3pT2/7CSuAs88+m7Fjx9LW1rbET29JeovhKPUQhx12GFdffTULFixg2rRp7LjjjouHbb755tx555388Y9/5Mtf/jJnnHEGAMcffzyXXnopAH/+85/5+9//TltbG1D8hNWNN97I3XffzZe//GWefvppbrnlFh599FGmTJnCfffdx7333sudd97Z7csq9XQ2q0o9RFtbGzNmzGDSpEnst99+SwybN28e48eP59FHHyUiWLhwIQCHHHIIX/nKVzj77LO55JJLOOaYYxY/p/0nrAYNGrT4J6zuuusubrnlFkaPHg0UX5z+6KOPsvvuu3fbckqtwHCUepADDzyQz372s9xxxx2LfzED4Mwzz2Svvfbi2muvZcaMGey5554ArL766rz//e/n+uuvZ/LkydR+b3BHP2GVmZx++umceOKJ3bI8UquyWVXqQY477ji++MUvss022yzRf968eYtv0GlvRm13/PHHc/LJJzN27NglfrS4o5+w2nfffbnkkkt4+eWXAXjqqad49tlnG7tQUgvyzFHqQUaMGMEpp5zytv6f//znGT9+POeeey577733EsPe8573MGTIEI499tgl+rf/hNXMmTMX/4TVBhtswPTp09l5550BGDx4MFdccQXrrbde4xZKakH+ZFUP5U8C1Vdv/smqp59+mj333JOHH36Yfv0a1xjkT1Y1hj9Z1TPZrCq1sMsvv5wdd9yRiRMnNjQYpb7GZlWphR199NEcffTRzS5D6nV8qylJUoXhKElSheEoSVKF4ShJUoXhKPUAEcGpp566uPucc85hwoQJzStI6uO8W1WqmrBWnac3r9NRVlttNa655hpOP/10hg0bVt/5S1punjlKPUD//v054YQTOO+889427IknnmDcuHG0tbUxbtw4Zs6c2YQKpb7FcJR6iE996lNceeWVzJu35JnmSSedxNFHH820adM44ogjOPnkk5tUodR3GI5SDzFkyBCOPvpozj///CX633333Xz84x8H4KijjuKuu+5qRnlSn2I4Sj3Ipz/9aS6++GJeeeWVpY5T/SkqSfVnOEo9yNChQ/nYxz7GxRdfvLjfLrvswtVXXw3AlVdeyW677das8qQ+w3CUephTTz2V5557bnH3+eefzw9/+EPa2tr40Y9+xLe//e0mVif1DX6UQ6rqwkcv6q39x4cB1l9/fV599dXF3SNHjuT222/v9pqkvswzR0mSKgxHSZIqDEdJkioMR0mSKgxHSZIqDEdJkioMR6nJMpPddtuNm266aXG/yZMn84EPfKCJVUl9m59zlCq2uWybuk7v/vH3L3N4RHDBBRdwyCGHsNdee/HGG2/whS98gZtvvrmudUjqOsNR6gG23nprPvShD/HNb36TV155hSOPPJKJEydy//33s2jRIiZMmMBBBx3Egw8+yLHHHsvrr7/Om2++yc9+9jNGjRrV7PKlXsdwlHqIs846i+23355VV12VAw44gL333ptLLrmEF198kR122IH3ve99XHDBBZxyyikcccQRvP7667zxxhvNLlvqlQxHqYdYY401OPTQQxk8eDCTJ0/m5z//Oeeccw4ACxYsYObMmey8885MnDiRWbNm8ZGPfMSzRqlBDEepB+nXrx/9+vUjM/nZz37GZptttsTwLbbYgh133JEbb7yRfffdl4suuoi99967SdVKvZd3q0o90L777st3vvMdMhOAP/7xjwA89thjbLrpppx88skceOCBTJs2rZllSr2W4Sj1QGeeeSYLFy6kra2NrbfemjPPPBOAH//4x2y99dZst912PPzwwxx99NFNrlTqnWxWlSo6++hFI02YMGHx4+9///tvG3766adz+umnd2NFUt/kmaMkSRWGoyRJFYajJEkVhqP6pPa7QNU1ri/1NYaj+pyBAwcyd+5cD/hdlJnMnTuXgQMHNrsUqdt4t6r6nBEjRjBr1izmzJnT7FJaxsCBAxkxYkSzy5C6Ta8Ix4j4APBtYBXgosz8RpNLUg82YMAANtlkk2aXIakHa/lm1YhYBfhv4IPAlsDhEbFlc6uSJLWylg9HYAfgL5n5WGa+DlwNHNTkmiRJLaw3hOOGwJM13bPKfpIkrZDecM0xOui3xG2IEXECcELZ+XJEPNLwqvqOYcBzzS6iM/HNZlegJvC1WV/vanYB3ak3hOMsYKOa7hHA07UjZOaFwIXdWVRfERFTM3NMs+uQqnxtamX0hmbV3wOjImKTiFgVOAy4ock1SZJaWMufOWbmoog4CfglxUc5LsnMB5tcliSphbV8OAJk5i+AXzS7jj7K5mr1VL42tcLCr9CSJGlJveGaoyRJdWU4SpJUYThKklRhOGq5ReHIiPhi2b1xROzQ7LokgIgYFBGbNbsOtTbDUSvie8DOwOFl93yKL3+XmioiPgTcB9xcdm8XEX7uWcvNcNSK2DEzPwUsAMjMF4BVm1uSBMAEih8jeBEgM+8DRjatGrUsw1ErYmH5U2EJEBHDgTebW5IEwKLMnNfsItT6DEetiPOBa4H1ImIicBfwteaWJAHwQER8HFglIkZFxHeA3zW7KLUevwRAKyQiNgfGUfwqym2ZOb3JJUlExOrAF4B9KF6bvwS+kpkLmlqYWo7hqC6LiKHLGp6Zz3dXLZLUSIajuiwiHqe4zlj7G5rt3ZmZmzalMPV5EfFzKr/jWiszD+zGctQLGI6SWl5E7LGs4Zn5m+6qRb2D4agVEhHrAKOAge39MvPO5lUkSfXTK36ySt0rIo4HTgFGUHzgeifgbmDvJpYlERGjgK8DW7LkGzeb/LVc/CiHVsQpwFjgiczcCxgNzGluSRIAPwT+B1gE7AVcDvyoqRWpJRmOWhEL2m+Nj4jVMvNhwO+yVE8wKDNvo7hk9ERmTsAWDa0Am1W1ImZFxNrAdcCtEfEC8HRTK5IKCyKiH/BoRJwEPAWs1+Sa1IK8IUcrpbxLcC3g5sx8vdn1qG+LiLHAdGBt4CsUr83/zMx7mlmXWo/hqBVS3q26ETWtD5n5h+ZVJEn1Y7OqlltEfAU4BniMt75wPPHajpqks5+l8ksAtLwMR62IjwHvthlVPcjOwJPAJOD/WPJbnKTlZjhqRTxAcU3n2SbXIbV7B/B+ih/g/jhwIzApMx9salVqWV5z1HKLiDHA9RQh+ff2/jZdqSeIiNUoQvJs4MuZ+Z0ml6QW5JmjVsRlwDeB+/FHjtVDlKG4P0UwjqT43dFrmlmTWpdnjlpuEfGbzFzmFz1L3SkiLgO2Bm4Crs7MB5pcklqc4ajlFhHnUjSn3sCSzap+lENNERFvAq+UnbUHtfafUxvS/VWplRmOWm4R8esOemdm+lEOSb2C4ShJUoVfPK7lFhHrR8TFEXFT2b1lRHyi2XVJUr0YjloRlwK/BDYou/8MfLpZxUhSvRmOWhHDMnMy5cc4MnMR8EZzS5Kk+jEctSJeiYh1Ke8KjIidgHnNLUmS6scvAdCK+DeKj3G8OyJ+CwwHDm5uSZJUP96tqi6LiI0zc2b5uD+wGcXnyB7JzIVNLU6S6shmVS2P62oe/zgzH8zMBwxGSb2N4ajlUfszQJs2rQpJajDDUcsjl/JYknoVrzmqyyLiDYrvrwxgEPBq+yD8/kpJvYjhKElShc2qkiRVGI6SJFUYjpIkVRiOkiRVGI5SN4qINSLixoj4U0Q8EBGHRsR7IuI3EXFvRPwyIt4ZEWtFxCMRsVn5vEkR8U/Nrl/qK/xuVal7fQB4OjP3B4iItYCbgIMyc05EHApMzMzjIuIk4NKI+DawTmb+oHllS32LH+WQulFE/CPFb2FOBv4XeAH4HfBYOcoqwOzM3Kcc/0Lgo8C2mTmr+yuW+ibPHKVulJl/joj3APsBXwduBR7MzJ2r40ZEP2AL4DVgKGA4St3Ea45SN4qIDYBXM/MK4BxgR2B4ROxcDh8QEVuVo38GmA4cDlwSEQOaUbPUF3nmKHWvbYCzI+JNYCHwSWARcH55/bE/8K2IWAgcD+yQmfMj4k7gP4CzmlS31Kd4zVGSpAqbVSVJqjAcJUmqMBwlSaowHCVJqjAcJUmqMBwlSaowHCVJqjAcJUmq+H/Md5NCL6N//gAAAABJRU5ErkJggg==\n",
=======
      "image/png": "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\n",
>>>>>>> e8e56c1076dfc8bf7e878bf6c4b339f98534e377
      "text/plain": [
       "<Figure size 432x432 with 1 Axes>"
      ]
     },
     "metadata": {
      "needs_background": "light"
     },
     "output_type": "display_data"
    }
   ],
   "source": [
    "ct12=pd.crosstab(df1['sex'],df1['biased impact'], normalize= 'index')*100\n",
    "display(ct12)\n",
    "ct12.plot.bar(figsize=(6,6),xlabel='sex',ylabel='Biased Impact',title='Fig 17: Stacked Barplot of Biased Impact of the Pandemic against gender',stacked=True)"
   ]
  },
  {
   "cell_type": "markdown",
   "metadata": {},
   "source": [
    "## HYPOTHETICAL TESTING (Since we are working with categorical data, we will be going for Chi- Square Test in all the cases)\n",
    "\n",
    "  - step 1 : Formulating hypothesis\n",
    "  - H0: Salary Incentives and employee gender are independent\n",
    "  - HA: Salary Incentives and employee gender are dependent\n",
    "  - step 2 : Choosing the test\n",
    "  - Chi-Square\n",
    "  - step 3 : Choosing significance level\n",
    "  - 0.05\n",
    "  - step 4 : Applying test and finding p-value\n",
    "  - step 5 : compare p-value and the significance level"
   ]
  },
  {
   "cell_type": "code",
<<<<<<< HEAD
   "execution_count": 314,
=======
   "execution_count": 140,
>>>>>>> e8e56c1076dfc8bf7e878bf6c4b339f98534e377
   "metadata": {},
   "outputs": [],
   "source": [
    "import scipy.stats as sp"
   ]
  },
  {
   "cell_type": "markdown",
   "metadata": {},
   "source": [
    " ## (i) Preferred Mode\n",
    "     \n",
    "  - Formulating hypothesis\n",
    "  - H0: Preferred Mode and employee gender are independent\n",
    "  - HA: Preferred Mode Incentives and employee gender are dependent\n",
<<<<<<< HEAD
    "  - conclusion : As p-value(0.85) is greater than 0.05 we accept the null hypothesis"
=======
    "  - conclusion : As p-value(0.58) is greater than 0.05 we accept the null hypothesis"
>>>>>>> e8e56c1076dfc8bf7e878bf6c4b339f98534e377
   ]
  },
  {
   "cell_type": "code",
<<<<<<< HEAD
   "execution_count": 315,
=======
   "execution_count": 141,
>>>>>>> e8e56c1076dfc8bf7e878bf6c4b339f98534e377
   "metadata": {},
   "outputs": [
    {
     "data": {
      "text/plain": [
<<<<<<< HEAD
       "(0.035162218448856586,\n",
       " 0.8512561464890104,\n",
       " 1,\n",
       " array([[24.02912621, 30.97087379],\n",
       "        [20.97087379, 27.02912621]]))"
      ]
     },
     "execution_count": 315,
=======
       "(0.29652408392435026,\n",
       " 0.5860697584757926,\n",
       " 1,\n",
       " array([[18.8, 28.2],\n",
       "        [19.2, 28.8]]))"
      ]
     },
     "execution_count": 141,
>>>>>>> e8e56c1076dfc8bf7e878bf6c4b339f98534e377
     "metadata": {},
     "output_type": "execute_result"
    }
   ],
   "source": [
    "t1=pd.crosstab(df1['preferred mode'],df1['sex'])\n",
    "sp.chi2_contingency(t1)"
   ]
  },
  {
   "cell_type": "markdown",
   "metadata": {},
   "source": [
    "## (ii) Salary Incentives\n",
    "\n",
    "  - step 1 : Formulating hypothesis\n",
    "  - H0: Salary Incentives and employee gender are independent\n",
    "  - HA: Salary Incentives and employee gender are dependent\n",
<<<<<<< HEAD
    "  - conclusion : As p-value(0.07) is greater than 0.05 we accept the null hypothesis"
=======
    "  - conclusion : As p-value(0.144) is greater than 0.05 we accept the null hypothesis"
>>>>>>> e8e56c1076dfc8bf7e878bf6c4b339f98534e377
   ]
  },
  {
   "cell_type": "code",
<<<<<<< HEAD
   "execution_count": 316,
=======
   "execution_count": 142,
>>>>>>> e8e56c1076dfc8bf7e878bf6c4b339f98534e377
   "metadata": {},
   "outputs": [
    {
     "data": {
      "text/plain": [
<<<<<<< HEAD
       "(8.421909632588486,\n",
       " 0.07728992167640658,\n",
       " 4,\n",
       " array([[ 6.99029126,  9.00970874],\n",
       "        [11.7961165 , 15.2038835 ],\n",
       "        [20.53398058, 26.46601942],\n",
       "        [ 2.18446602,  2.81553398],\n",
       "        [ 3.49514563,  4.50485437]]))"
      ]
     },
     "execution_count": 316,
=======
       "(6.840277777777779,\n",
       " 0.14457342478739335,\n",
       " 4,\n",
       " array([[ 6.4,  9.6],\n",
       "        [ 9.6, 14.4],\n",
       "        [16.8, 25.2],\n",
       "        [ 2. ,  3. ],\n",
       "        [ 3.2,  4.8]]))"
      ]
     },
     "execution_count": 142,
>>>>>>> e8e56c1076dfc8bf7e878bf6c4b339f98534e377
     "metadata": {},
     "output_type": "execute_result"
    }
   ],
   "source": [
    "t2=pd.crosstab(df1['salary incentives'],df1['sex'])\n",
    "sp.chi2_contingency(t2)"
   ]
  },
  {
   "cell_type": "markdown",
   "metadata": {},
   "source": [
    "## (iii) Domestic Life\n",
    "\n",
    "  - H0: Domestic Life and employee gender are independent\n",
    "  - HA: Domestic life and employee gender are dependent\n",
<<<<<<< HEAD
    "  - conclusion : As p-value(0.10) is greater than 0.05 we accept the null hypothesis"
=======
    "  - conclusion : As p-value(0.08) is greater than 0.05 we accept the null hypothesis"
>>>>>>> e8e56c1076dfc8bf7e878bf6c4b339f98534e377
   ]
  },
  {
   "cell_type": "code",
<<<<<<< HEAD
   "execution_count": 317,
=======
   "execution_count": 143,
>>>>>>> e8e56c1076dfc8bf7e878bf6c4b339f98534e377
   "metadata": {},
   "outputs": [
    {
     "data": {
      "text/plain": [
<<<<<<< HEAD
       "(7.652556102900929,\n",
       " 0.10516734131975748,\n",
       " 4,\n",
       " array([[12.23300971, 15.76699029],\n",
       "        [ 4.36893204,  5.63106796],\n",
       "        [24.46601942, 31.53398058],\n",
       "        [ 1.31067961,  1.68932039],\n",
       "        [ 2.62135922,  3.37864078]]))"
      ]
     },
     "execution_count": 317,
=======
       "(8.318452380952381,\n",
       " 0.08058525510778541,\n",
       " 4,\n",
       " array([[11.2, 16.8],\n",
       "        [ 3.2,  4.8],\n",
       "        [20. , 30. ],\n",
       "        [ 1.2,  1.8],\n",
       "        [ 2.4,  3.6]]))"
      ]
     },
     "execution_count": 143,
>>>>>>> e8e56c1076dfc8bf7e878bf6c4b339f98534e377
     "metadata": {},
     "output_type": "execute_result"
    }
   ],
   "source": [
    "t3=pd.crosstab(df1['domestic life'],df1['sex'])\n",
    "sp.chi2_contingency(t3)"
   ]
  },
  {
   "cell_type": "markdown",
   "metadata": {},
   "source": [
    "## (iv) Personal Life\n",
    "  - H0: Personal Life and employee gender are independent\n",
    "  - HA: Personal Life and employee gender are dependent\n",
<<<<<<< HEAD
    "  - conclusion : As p-value(0.2) is greater than 0.05 we accept the null hypothesis"
=======
    "  - conclusion : As p-value(0.54) is greater than 0.05 we accept the null hypothesis"
>>>>>>> e8e56c1076dfc8bf7e878bf6c4b339f98534e377
   ]
  },
  {
   "cell_type": "code",
<<<<<<< HEAD
   "execution_count": 318,
=======
   "execution_count": 144,
>>>>>>> e8e56c1076dfc8bf7e878bf6c4b339f98534e377
   "metadata": {},
   "outputs": [
    {
     "data": {
      "text/plain": [
<<<<<<< HEAD
       "(5.5578023929878455,\n",
       " 0.23469513196090308,\n",
       " 4,\n",
       " array([[ 8.73786408, 11.26213592],\n",
       "        [ 7.42718447,  9.57281553],\n",
       "        [21.40776699, 27.59223301],\n",
       "        [ 1.31067961,  1.68932039],\n",
       "        [ 6.11650485,  7.88349515]]))"
      ]
     },
     "execution_count": 318,
=======
       "(3.047289467838103,\n",
       " 0.5499430484831007,\n",
       " 4,\n",
       " array([[ 7.6, 11.4],\n",
       "        [ 6.8, 10.2],\n",
       "        [17.2, 25.8],\n",
       "        [ 1.2,  1.8],\n",
       "        [ 5.2,  7.8]]))"
      ]
     },
     "execution_count": 144,
>>>>>>> e8e56c1076dfc8bf7e878bf6c4b339f98534e377
     "metadata": {},
     "output_type": "execute_result"
    }
   ],
   "source": [
    "t4=pd.crosstab(df1['personal life'],df1['sex'])\n",
    "sp.chi2_contingency(t4)"
   ]
  },
  {
   "cell_type": "markdown",
   "metadata": {},
   "source": [
    "## (v) Layoff Fear\n",
    "  - H0: Layoff Fear and employee gender are independent\n",
    "  - HA: Layoff Fear and employee gender are dependent\n",
    "  - conclusion : As p-value(0.6) is greater than 0.05 we accept the null hypothesis"
   ]
  },
  {
   "cell_type": "code",
<<<<<<< HEAD
   "execution_count": 319,
=======
   "execution_count": 145,
>>>>>>> e8e56c1076dfc8bf7e878bf6c4b339f98534e377
   "metadata": {},
   "outputs": [
    {
     "data": {
      "text/plain": [
<<<<<<< HEAD
       "(0.8103684710677374,\n",
       " 0.6668539413484604,\n",
       " 2,\n",
       " array([[ 7.97727273, 10.02272727],\n",
       "        [12.85227273, 16.14772727],\n",
       "        [18.17045455, 22.82954545]]))"
      ]
     },
     "execution_count": 319,
=======
       "(0.8946078431372553,\n",
       " 0.6393495666207979,\n",
       " 2,\n",
       " array([[ 6.8, 10.2],\n",
       "        [10.8, 16.2],\n",
       "        [14.4, 21.6]]))"
      ]
     },
     "execution_count": 145,
>>>>>>> e8e56c1076dfc8bf7e878bf6c4b339f98534e377
     "metadata": {},
     "output_type": "execute_result"
    }
   ],
   "source": [
    "t5=pd.crosstab(df3['layoff fear'],df3['sex'])\n",
    "sp.chi2_contingency(t5)"
   ]
  },
  {
   "cell_type": "markdown",
   "metadata": {},
   "source": [
    "## (vi) Stretched Hours\n",
    "  - H0: Stretched hours and employee gender are independent\n",
    "  - HA: Stretched Hours and employee gender are dependent\n",
    "  - conclusion : As p-value(0.8) is greater than 0.05 we accept the null hypothesis"
   ]
  },
  {
   "cell_type": "code",
<<<<<<< HEAD
   "execution_count": 320,
=======
   "execution_count": 146,
>>>>>>> e8e56c1076dfc8bf7e878bf6c4b339f98534e377
   "metadata": {},
   "outputs": [
    {
     "data": {
      "text/plain": [
<<<<<<< HEAD
       "(0.9099869135301206,\n",
       " 0.8230170925107007,\n",
       " 3,\n",
       " array([[ 7.86407767, 10.13592233],\n",
       "        [12.66990291, 16.33009709],\n",
       "        [ 6.55339806,  8.44660194],\n",
       "        [17.91262136, 23.08737864]]))"
      ]
     },
     "execution_count": 320,
=======
       "(0.8946078431372553,\n",
       " 0.8267288619881376,\n",
       " 3,\n",
       " array([[ 6.8, 10.2],\n",
       "        [10.8, 16.2],\n",
       "        [ 6. ,  9. ],\n",
       "        [14.4, 21.6]]))"
      ]
     },
     "execution_count": 146,
>>>>>>> e8e56c1076dfc8bf7e878bf6c4b339f98534e377
     "metadata": {},
     "output_type": "execute_result"
    }
   ],
   "source": [
    "t6=pd.crosstab(df1['layoff fear'],df1['sex'])\n",
    "sp.chi2_contingency(t6)"
   ]
  },
  {
   "cell_type": "markdown",
   "metadata": {},
   "source": [
    "## (vii) Domestic Obligation\n",
    "  - H0: Domestic Obligation and employee gender are independent\n",
    "  - HA: Domestic Obligation and employee gender are dependent\n",
<<<<<<< HEAD
    "  - conclusion : As p-value(0.03) is less than 0.05 we accept the alternate hypothesis"
=======
    "  - conclusion : As p-value(0.33) is greater than 0.05 we accept the null hypothesis"
>>>>>>> e8e56c1076dfc8bf7e878bf6c4b339f98534e377
   ]
  },
  {
   "cell_type": "code",
<<<<<<< HEAD
   "execution_count": 321,
=======
   "execution_count": 147,
>>>>>>> e8e56c1076dfc8bf7e878bf6c4b339f98534e377
   "metadata": {},
   "outputs": [
    {
     "data": {
      "text/plain": [
<<<<<<< HEAD
       "(8.531816654139705,\n",
       " 0.03620893821874108,\n",
       " 3,\n",
       " array([[ 9.17475728, 11.82524272],\n",
       "        [14.41747573, 18.58252427],\n",
       "        [16.60194175, 21.39805825],\n",
       "        [ 4.80582524,  6.19417476]]))"
      ]
     },
     "execution_count": 321,
=======
       "(3.3789146289146297,\n",
       " 0.33680935486530533,\n",
       " 3,\n",
       " array([[ 8.4, 12.6],\n",
       "        [12. , 18. ],\n",
       "        [14.8, 22.2],\n",
       "        [ 2.8,  4.2]]))"
      ]
     },
     "execution_count": 147,
>>>>>>> e8e56c1076dfc8bf7e878bf6c4b339f98534e377
     "metadata": {},
     "output_type": "execute_result"
    }
   ],
   "source": [
    "t7=pd.crosstab(df1['domestic obligation'],df1['sex'])\n",
    "sp.chi2_contingency(t7)"
   ]
  },
  {
   "cell_type": "markdown",
   "metadata": {},
   "source": [
<<<<<<< HEAD
    "#### Further Analysing the replies by respective genders\n"
=======
    "## (viii) Background Noises\n",
    "  - H0: Backgrond Noises and employee gender are independent\n",
    "  - HA: Backgrond Noises and employee gender are dependent\n",
    "  - conclusion : As p-value(0.05) is less than 0.05 we accept the Alternate hypothesis"
   ]
  },
  {
   "cell_type": "code",
   "execution_count": 148,
   "metadata": {},
   "outputs": [
    {
     "data": {
      "text/plain": [
       "(3.6434127011653734,\n",
       " 0.05629143760076641,\n",
       " 1,\n",
       " array([[11.56626506, 18.43373494],\n",
       "        [20.43373494, 32.56626506]]))"
      ]
     },
     "execution_count": 148,
     "metadata": {},
     "output_type": "execute_result"
    }
   ],
   "source": [
    "t8=pd.crosstab(df2['background noises'],df2['sex'])\n",
    "sp.chi2_contingency(t8)"
   ]
  },
  {
   "cell_type": "markdown",
   "metadata": {},
   "source": [
    "#### Further Analysing the replies by respective genders"
>>>>>>> e8e56c1076dfc8bf7e878bf6c4b339f98534e377
   ]
  },
  {
   "cell_type": "code",
<<<<<<< HEAD
   "execution_count": 448,
=======
   "execution_count": 149,
>>>>>>> e8e56c1076dfc8bf7e878bf6c4b339f98534e377
   "metadata": {},
   "outputs": [
    {
     "data": {
      "text/html": [
       "<div>\n",
       "<style scoped>\n",
       "    .dataframe tbody tr th:only-of-type {\n",
       "        vertical-align: middle;\n",
       "    }\n",
       "\n",
       "    .dataframe tbody tr th {\n",
       "        vertical-align: top;\n",
       "    }\n",
       "\n",
       "    .dataframe thead th {\n",
       "        text-align: right;\n",
       "    }\n",
       "</style>\n",
       "<table border=\"1\" class=\"dataframe\">\n",
       "  <thead>\n",
       "    <tr style=\"text-align: right;\">\n",
       "      <th>sex</th>\n",
       "      <th>Female</th>\n",
       "      <th>Male</th>\n",
       "    </tr>\n",
       "    <tr>\n",
<<<<<<< HEAD
       "      <th>domestic obligation</th>\n",
=======
       "      <th>background noises</th>\n",
>>>>>>> e8e56c1076dfc8bf7e878bf6c4b339f98534e377
       "      <th></th>\n",
       "      <th></th>\n",
       "    </tr>\n",
       "  </thead>\n",
       "  <tbody>\n",
       "    <tr>\n",
<<<<<<< HEAD
       "      <th>Never</th>\n",
       "      <td>13.157895</td>\n",
       "      <td>26.923077</td>\n",
       "    </tr>\n",
       "    <tr>\n",
       "      <th>Often</th>\n",
       "      <td>42.105263</td>\n",
       "      <td>25.000000</td>\n",
       "    </tr>\n",
       "    <tr>\n",
       "      <th>Rarely</th>\n",
       "      <td>23.684211</td>\n",
       "      <td>42.307692</td>\n",
       "    </tr>\n",
       "    <tr>\n",
       "      <th>Very often</th>\n",
       "      <td>21.052632</td>\n",
       "      <td>5.769231</td>\n",
=======
       "      <th>No</th>\n",
       "      <td>21.875</td>\n",
       "      <td>45.098039</td>\n",
       "    </tr>\n",
       "    <tr>\n",
       "      <th>Yes</th>\n",
       "      <td>78.125</td>\n",
       "      <td>54.901961</td>\n",
>>>>>>> e8e56c1076dfc8bf7e878bf6c4b339f98534e377
       "    </tr>\n",
       "  </tbody>\n",
       "</table>\n",
       "</div>"
      ],
      "text/plain": [
<<<<<<< HEAD
       "sex                     Female       Male\n",
       "domestic obligation                      \n",
       "Never                13.157895  26.923077\n",
       "Often                42.105263  25.000000\n",
       "Rarely               23.684211  42.307692\n",
       "Very often           21.052632   5.769231"
=======
       "sex                Female       Male\n",
       "background noises                   \n",
       "No                 21.875  45.098039\n",
       "Yes                78.125  54.901961"
>>>>>>> e8e56c1076dfc8bf7e878bf6c4b339f98534e377
      ]
     },
     "metadata": {},
     "output_type": "display_data"
    },
    {
     "name": "stdout",
     "output_type": "stream",
     "text": [
      "\n",
      "\n",
<<<<<<< HEAD
      "\u001b[1m Of the people who had to fulfil domestic obligations before work, impact on personal lives is as follows: \n"
=======
      "\u001b[1m Of the people who faced background noises, all those who felt that the pandemic has a biased impact on some particular gender: \n"
>>>>>>> e8e56c1076dfc8bf7e878bf6c4b339f98534e377
     ]
    },
    {
     "data": {
      "text/html": [
       "<div>\n",
       "<style scoped>\n",
       "    .dataframe tbody tr th:only-of-type {\n",
       "        vertical-align: middle;\n",
       "    }\n",
       "\n",
       "    .dataframe tbody tr th {\n",
       "        vertical-align: top;\n",
       "    }\n",
       "\n",
       "    .dataframe thead th {\n",
       "        text-align: right;\n",
       "    }\n",
       "</style>\n",
       "<table border=\"1\" class=\"dataframe\">\n",
       "  <thead>\n",
       "    <tr style=\"text-align: right;\">\n",
       "      <th>sex</th>\n",
       "      <th>Female</th>\n",
       "      <th>Male</th>\n",
       "    </tr>\n",
       "    <tr>\n",
<<<<<<< HEAD
       "      <th>personal life</th>\n",
=======
       "      <th>biased impact</th>\n",
>>>>>>> e8e56c1076dfc8bf7e878bf6c4b339f98534e377
       "      <th></th>\n",
       "      <th></th>\n",
       "    </tr>\n",
       "  </thead>\n",
       "  <tbody>\n",
       "    <tr>\n",
<<<<<<< HEAD
       "      <th>Did not have any affect</th>\n",
       "      <td>7.692308</td>\n",
       "      <td>16.666667</td>\n",
       "    </tr>\n",
       "    <tr>\n",
       "      <th>Slightly Improved</th>\n",
       "      <td>15.384615</td>\n",
       "      <td>27.777778</td>\n",
       "    </tr>\n",
       "    <tr>\n",
       "      <th>Slightly Negatively</th>\n",
       "      <td>53.846154</td>\n",
       "      <td>38.888889</td>\n",
       "    </tr>\n",
       "    <tr>\n",
       "      <th>Very Improved</th>\n",
       "      <td>3.846154</td>\n",
       "      <td>5.555556</td>\n",
       "    </tr>\n",
       "    <tr>\n",
       "      <th>Very Negatively</th>\n",
       "      <td>19.230769</td>\n",
       "      <td>11.111111</td>\n",
=======
       "      <th>Maybe</th>\n",
       "      <td>44.0</td>\n",
       "      <td>25.000000</td>\n",
       "    </tr>\n",
       "    <tr>\n",
       "      <th>No</th>\n",
       "      <td>20.0</td>\n",
       "      <td>60.714286</td>\n",
       "    </tr>\n",
       "    <tr>\n",
       "      <th>Yes</th>\n",
       "      <td>36.0</td>\n",
       "      <td>14.285714</td>\n",
>>>>>>> e8e56c1076dfc8bf7e878bf6c4b339f98534e377
       "    </tr>\n",
       "  </tbody>\n",
       "</table>\n",
       "</div>"
      ],
      "text/plain": [
<<<<<<< HEAD
       "sex                         Female       Male\n",
       "personal life                                \n",
       "Did not have any affect   7.692308  16.666667\n",
       "Slightly Improved        15.384615  27.777778\n",
       "Slightly Negatively      53.846154  38.888889\n",
       "Very Improved             3.846154   5.555556\n",
       "Very Negatively          19.230769  11.111111"
=======
       "sex            Female       Male\n",
       "biased impact                   \n",
       "Maybe            44.0  25.000000\n",
       "No               20.0  60.714286\n",
       "Yes              36.0  14.285714"
>>>>>>> e8e56c1076dfc8bf7e878bf6c4b339f98534e377
      ]
     },
     "metadata": {},
     "output_type": "display_data"
    },
    {
     "name": "stdout",
     "output_type": "stream",
     "text": [
      "\n",
      "\n",
<<<<<<< HEAD
      "\u001b[1m Of the people who had to fulfil domestic obligations before work, impact on domestic lives is as follows: \n"
=======
      "\u001b[1m Of the people who faced background noises, all those who felt that the HR Department could have devised better polices\n"
>>>>>>> e8e56c1076dfc8bf7e878bf6c4b339f98534e377
     ]
    },
    {
     "data": {
      "text/html": [
       "<div>\n",
       "<style scoped>\n",
       "    .dataframe tbody tr th:only-of-type {\n",
       "        vertical-align: middle;\n",
       "    }\n",
       "\n",
       "    .dataframe tbody tr th {\n",
       "        vertical-align: top;\n",
       "    }\n",
       "\n",
       "    .dataframe thead th {\n",
       "        text-align: right;\n",
       "    }\n",
       "</style>\n",
       "<table border=\"1\" class=\"dataframe\">\n",
       "  <thead>\n",
       "    <tr style=\"text-align: right;\">\n",
       "      <th>sex</th>\n",
       "      <th>Female</th>\n",
       "      <th>Male</th>\n",
       "    </tr>\n",
       "    <tr>\n",
<<<<<<< HEAD
       "      <th>domestic life</th>\n",
=======
       "      <th>better policies</th>\n",
>>>>>>> e8e56c1076dfc8bf7e878bf6c4b339f98534e377
       "      <th></th>\n",
       "      <th></th>\n",
       "    </tr>\n",
       "  </thead>\n",
       "  <tbody>\n",
       "    <tr>\n",
<<<<<<< HEAD
       "      <th>Did not have any affect</th>\n",
       "      <td>11.538462</td>\n",
       "      <td>38.888889</td>\n",
       "    </tr>\n",
       "    <tr>\n",
       "      <th>Slightly Improved</th>\n",
       "      <td>3.846154</td>\n",
       "      <td>5.555556</td>\n",
       "    </tr>\n",
       "    <tr>\n",
       "      <th>Slightly Negatively</th>\n",
       "      <td>61.538462</td>\n",
       "      <td>50.000000</td>\n",
       "    </tr>\n",
       "    <tr>\n",
       "      <th>Very Improved</th>\n",
       "      <td>7.692308</td>\n",
       "      <td>5.555556</td>\n",
       "    </tr>\n",
       "    <tr>\n",
       "      <th>Very Negatively</th>\n",
       "      <td>15.384615</td>\n",
       "      <td>0.000000</td>\n",
=======
       "      <th>No</th>\n",
       "      <td>24.0</td>\n",
       "      <td>28.571429</td>\n",
       "    </tr>\n",
       "    <tr>\n",
       "      <th>Yes</th>\n",
       "      <td>76.0</td>\n",
       "      <td>71.428571</td>\n",
>>>>>>> e8e56c1076dfc8bf7e878bf6c4b339f98534e377
       "    </tr>\n",
       "  </tbody>\n",
       "</table>\n",
       "</div>"
      ],
      "text/plain": [
<<<<<<< HEAD
       "sex                         Female       Male\n",
       "domestic life                                \n",
       "Did not have any affect  11.538462  38.888889\n",
       "Slightly Improved         3.846154   5.555556\n",
       "Slightly Negatively      61.538462  50.000000\n",
       "Very Improved             7.692308   5.555556\n",
       "Very Negatively          15.384615   0.000000"
=======
       "sex              Female       Male\n",
       "better policies                   \n",
       "No                 24.0  28.571429\n",
       "Yes                76.0  71.428571"
>>>>>>> e8e56c1076dfc8bf7e878bf6c4b339f98534e377
      ]
     },
     "metadata": {},
     "output_type": "display_data"
<<<<<<< HEAD
    },
    {
     "name": "stdout",
     "output_type": "stream",
     "text": [
      "\n",
      "\n",
      "\u001b[1m Of the people who had to fulfil domestic obligations before work, all those who felt that the pandemic has a biased impact on some particular gender: \n"
     ]
    },
    {
     "data": {
      "text/html": [
       "<div>\n",
       "<style scoped>\n",
       "    .dataframe tbody tr th:only-of-type {\n",
       "        vertical-align: middle;\n",
       "    }\n",
       "\n",
       "    .dataframe tbody tr th {\n",
       "        vertical-align: top;\n",
       "    }\n",
       "\n",
       "    .dataframe thead th {\n",
       "        text-align: right;\n",
       "    }\n",
       "</style>\n",
       "<table border=\"1\" class=\"dataframe\">\n",
       "  <thead>\n",
       "    <tr style=\"text-align: right;\">\n",
       "      <th>sex</th>\n",
       "      <th>Female</th>\n",
       "      <th>Male</th>\n",
       "    </tr>\n",
       "    <tr>\n",
       "      <th>biased impact</th>\n",
       "      <th></th>\n",
       "      <th></th>\n",
       "    </tr>\n",
       "  </thead>\n",
       "  <tbody>\n",
       "    <tr>\n",
       "      <th>Maybe</th>\n",
       "      <td>26.923077</td>\n",
       "      <td>27.777778</td>\n",
       "    </tr>\n",
       "    <tr>\n",
       "      <th>No</th>\n",
       "      <td>7.692308</td>\n",
       "      <td>55.555556</td>\n",
       "    </tr>\n",
       "    <tr>\n",
       "      <th>Yes</th>\n",
       "      <td>65.384615</td>\n",
       "      <td>16.666667</td>\n",
       "    </tr>\n",
       "  </tbody>\n",
       "</table>\n",
       "</div>"
      ],
      "text/plain": [
       "sex               Female       Male\n",
       "biased impact                      \n",
       "Maybe          26.923077  27.777778\n",
       "No              7.692308  55.555556\n",
       "Yes            65.384615  16.666667"
      ]
     },
     "metadata": {},
     "output_type": "display_data"
    }
   ],
   "source": [
    "display(pd.crosstab(df1['domestic obligation'],df2['sex'],normalize='columns')*100)\n",
    "df_d=df1[(df1['domestic obligation']=='Often') | (df1['domestic obligation']=='Very often')]\n",
    "print(\"\\n\\n\\033[1m Of the people who had to fulfil domestic obligations before work, impact on personal lives is as follows: \")\n",
    "display(pd.crosstab(df_d['personal life'],df_d['sex'],normalize='columns')*100)\n",
    "print(\"\\n\\n\\033[1m Of the people who had to fulfil domestic obligations before work, impact on domestic lives is as follows: \")\n",
    "display(pd.crosstab(df_d['domestic life'],df_d['sex'],normalize='columns')*100)\n",
    "print(\"\\n\\n\\033[1m Of the people who had to fulfil domestic obligations before work, all those who felt that the pandemic has a biased impact on some particular gender: \")\n",
    "display(pd.crosstab(df_d['biased impact'],df_d['sex'],normalize='columns')*100)\n",
    "\n"
=======
    }
   ],
   "source": [
    "display(pd.crosstab(df2['background noises'],df2['sex'],normalize='columns')*100)\n",
    "df6=df1[df1['background noises']=='Yes']\n",
    "print(\"\\n\\n\\033[1m Of the people who faced background noises, all those who felt that the pandemic has a biased impact on some particular gender: \")\n",
    "display(pd.crosstab(df6['biased impact'],df6['sex'],normalize='columns')*100)\n",
    "print(\"\\n\\n\\033[1m Of the people who faced background noises, all those who felt that the HR Department could have devised better polices\")\n",
    "display(pd.crosstab(df6['better policies'],df6['sex'],normalize='columns')*100)\n"
   ]
  },
  {
   "cell_type": "markdown",
   "metadata": {},
   "source": [
    "## (ix) Personal Calls\n",
    "  - H0: Domestic Obligation and employee gender are independent\n",
    "  - HA: Domestic Obligation and employee gender are dependent\n",
    "  - conclusion : As p-value(0.9) is greater than 0.05 we accept the null hypothesis"
   ]
  },
  {
   "cell_type": "code",
   "execution_count": 150,
   "metadata": {},
   "outputs": [
    {
     "data": {
      "text/plain": [
       "(0.5114564765300056,\n",
       " 0.9163673603989279,\n",
       " 3,\n",
       " array([[ 6.4,  9.6],\n",
       "        [ 8.8, 13.2],\n",
       "        [20.4, 30.6],\n",
       "        [ 2.4,  3.6]]))"
      ]
     },
     "execution_count": 150,
     "metadata": {},
     "output_type": "execute_result"
    }
   ],
   "source": [
    "t9=pd.crosstab(df1['personal calls'],df1['sex'])\n",
    "sp.chi2_contingency(t9)"
   ]
  },
  {
   "cell_type": "markdown",
   "metadata": {},
   "source": [
    "## (x) Silenced\n",
    "  - H0: Silenced and employee gender are independent\n",
    "  - HA: Silenced Obligation and employee gender are dependent\n",
    "  - conclusion : As p-value(0.7) is greater than 0.05 we accept the null hypothesis"
   ]
  },
  {
   "cell_type": "code",
   "execution_count": 151,
   "metadata": {},
   "outputs": [
    {
     "data": {
      "text/plain": [
       "(1.1382623224728488,\n",
       " 0.7678463480245012,\n",
       " 3,\n",
       " array([[11.2, 16.8],\n",
       "        [ 7.6, 11.4],\n",
       "        [18. , 27. ],\n",
       "        [ 1.2,  1.8]]))"
      ]
     },
     "execution_count": 151,
     "metadata": {},
     "output_type": "execute_result"
    }
   ],
   "source": [
    "t10=pd.crosstab(df1['silenced'],df1['sex'])\n",
    "sp.chi2_contingency(t10)"
>>>>>>> e8e56c1076dfc8bf7e878bf6c4b339f98534e377
   ]
  },
  {
   "cell_type": "markdown",
   "metadata": {},
   "source": [
<<<<<<< HEAD
    "## (viii) Background Noises\n",
    "  - H0: Backgrond Noises and employee gender are independent\n",
    "  - HA: Backgrond Noises and employee gender are dependent\n",
    "  - conclusion : As p-value(0.012) is less than 0.05 we accept the Alternate hypothesis"
=======
    "## (xi) Avoid Contact\n",
    "  - H0: Avoid Contact and employee gender are independent\n",
    "  - HA: Avoid Contact and employee gender are dependent\n",
    "  - conclusion : As p-value(0.01) is less than 0.05 we accept the Alternate hypothesis"
>>>>>>> e8e56c1076dfc8bf7e878bf6c4b339f98534e377
   ]
  },
  {
   "cell_type": "code",
<<<<<<< HEAD
   "execution_count": 322,
=======
   "execution_count": 152,
>>>>>>> e8e56c1076dfc8bf7e878bf6c4b339f98534e377
   "metadata": {},
   "outputs": [
    {
     "data": {
      "text/plain": [
<<<<<<< HEAD
       "(6.300540880948638,\n",
       " 0.012070113869168085,\n",
       " 1,\n",
       " array([[13.08888889, 17.91111111],\n",
       "        [24.91111111, 34.08888889]]))"
      ]
     },
     "execution_count": 322,
=======
       "(10.720217168387899,\n",
       " 0.013339087625183472,\n",
       " 3,\n",
       " array([[16.4, 24.6],\n",
       "        [ 4.8,  7.2],\n",
       "        [14.8, 22.2],\n",
       "        [ 2. ,  3. ]]))"
      ]
     },
     "execution_count": 152,
>>>>>>> e8e56c1076dfc8bf7e878bf6c4b339f98534e377
     "metadata": {},
     "output_type": "execute_result"
    }
   ],
   "source": [
<<<<<<< HEAD
    "t8=pd.crosstab(df2['background noises'],df2['sex'])\n",
    "sp.chi2_contingency(t8)"
=======
    "t11=pd.crosstab(df1['avoid contact'],df1['sex'])\n",
    "sp.chi2_contingency(t11)"
>>>>>>> e8e56c1076dfc8bf7e878bf6c4b339f98534e377
   ]
  },
  {
   "cell_type": "markdown",
   "metadata": {},
   "source": [
    "#### Further Analysing the replies by respective genders"
   ]
  },
  {
   "cell_type": "code",
<<<<<<< HEAD
   "execution_count": 323,
=======
   "execution_count": 153,
>>>>>>> e8e56c1076dfc8bf7e878bf6c4b339f98534e377
   "metadata": {},
   "outputs": [
    {
     "data": {
      "text/html": [
       "<div>\n",
       "<style scoped>\n",
       "    .dataframe tbody tr th:only-of-type {\n",
       "        vertical-align: middle;\n",
       "    }\n",
       "\n",
       "    .dataframe tbody tr th {\n",
       "        vertical-align: top;\n",
       "    }\n",
       "\n",
       "    .dataframe thead th {\n",
       "        text-align: right;\n",
       "    }\n",
       "</style>\n",
       "<table border=\"1\" class=\"dataframe\">\n",
       "  <thead>\n",
       "    <tr style=\"text-align: right;\">\n",
       "      <th>sex</th>\n",
       "      <th>Female</th>\n",
       "      <th>Male</th>\n",
       "    </tr>\n",
       "    <tr>\n",
<<<<<<< HEAD
       "      <th>background noises</th>\n",
=======
       "      <th>avoid contact</th>\n",
       "      <th></th>\n",
       "      <th></th>\n",
       "    </tr>\n",
       "  </thead>\n",
       "  <tbody>\n",
       "    <tr>\n",
       "      <th>Never</th>\n",
       "      <td>40.625</td>\n",
       "      <td>47.058824</td>\n",
       "    </tr>\n",
       "    <tr>\n",
       "      <th>Often</th>\n",
       "      <td>9.375</td>\n",
       "      <td>7.843137</td>\n",
       "    </tr>\n",
       "    <tr>\n",
       "      <th>Rarely</th>\n",
       "      <td>34.375</td>\n",
       "      <td>45.098039</td>\n",
       "    </tr>\n",
       "    <tr>\n",
       "      <th>Very often</th>\n",
       "      <td>15.625</td>\n",
       "      <td>0.000000</td>\n",
       "    </tr>\n",
       "  </tbody>\n",
       "</table>\n",
       "</div>"
      ],
      "text/plain": [
       "sex            Female       Male\n",
       "avoid contact                   \n",
       "Never          40.625  47.058824\n",
       "Often           9.375   7.843137\n",
       "Rarely         34.375  45.098039\n",
       "Very often     15.625   0.000000"
      ]
     },
     "metadata": {},
     "output_type": "display_data"
    },
    {
     "name": "stdout",
     "output_type": "stream",
     "text": [
      "\n",
      "\n",
      "\u001b[1m Of the people who have avoided contact 'Often' and 'Very Often', all those who faced sexual harassment: \n"
     ]
    },
    {
     "data": {
      "text/html": [
       "<div>\n",
       "<style scoped>\n",
       "    .dataframe tbody tr th:only-of-type {\n",
       "        vertical-align: middle;\n",
       "    }\n",
       "\n",
       "    .dataframe tbody tr th {\n",
       "        vertical-align: top;\n",
       "    }\n",
       "\n",
       "    .dataframe thead th {\n",
       "        text-align: right;\n",
       "    }\n",
       "</style>\n",
       "<table border=\"1\" class=\"dataframe\">\n",
       "  <thead>\n",
       "    <tr style=\"text-align: right;\">\n",
       "      <th>sex</th>\n",
       "      <th>Female</th>\n",
       "      <th>Male</th>\n",
       "    </tr>\n",
       "    <tr>\n",
       "      <th>sexual harassment</th>\n",
>>>>>>> e8e56c1076dfc8bf7e878bf6c4b339f98534e377
       "      <th></th>\n",
       "      <th></th>\n",
       "    </tr>\n",
       "  </thead>\n",
       "  <tbody>\n",
       "    <tr>\n",
       "      <th>No</th>\n",
<<<<<<< HEAD
       "      <td>18.421053</td>\n",
       "      <td>46.153846</td>\n",
       "    </tr>\n",
       "    <tr>\n",
       "      <th>Yes</th>\n",
       "      <td>81.578947</td>\n",
       "      <td>53.846154</td>\n",
=======
       "      <td>66.666667</td>\n",
       "      <td>100.0</td>\n",
       "    </tr>\n",
       "    <tr>\n",
       "      <th>Yes</th>\n",
       "      <td>33.333333</td>\n",
       "      <td>0.0</td>\n",
>>>>>>> e8e56c1076dfc8bf7e878bf6c4b339f98534e377
       "    </tr>\n",
       "  </tbody>\n",
       "</table>\n",
       "</div>"
      ],
      "text/plain": [
<<<<<<< HEAD
       "sex                   Female       Male\n",
       "background noises                      \n",
       "No                 18.421053  46.153846\n",
       "Yes                81.578947  53.846154"
=======
       "sex                   Female   Male\n",
       "sexual harassment                  \n",
       "No                 66.666667  100.0\n",
       "Yes                33.333333    0.0"
>>>>>>> e8e56c1076dfc8bf7e878bf6c4b339f98534e377
      ]
     },
     "metadata": {},
     "output_type": "display_data"
    },
    {
     "name": "stdout",
     "output_type": "stream",
     "text": [
      "\n",
      "\n",
<<<<<<< HEAD
      "\u001b[1m Of the people who faced background noises, all those who felt that the pandemic has a biased impact on some particular gender: \n"
=======
      "\u001b[1m Of the people who have avoided contact 'Often' and 'Very Often', all those who felt that the pandemic has a biased impact on some particular gender: \n"
>>>>>>> e8e56c1076dfc8bf7e878bf6c4b339f98534e377
     ]
    },
    {
     "data": {
      "text/html": [
       "<div>\n",
       "<style scoped>\n",
       "    .dataframe tbody tr th:only-of-type {\n",
       "        vertical-align: middle;\n",
       "    }\n",
       "\n",
       "    .dataframe tbody tr th {\n",
       "        vertical-align: top;\n",
       "    }\n",
       "\n",
       "    .dataframe thead th {\n",
       "        text-align: right;\n",
       "    }\n",
       "</style>\n",
       "<table border=\"1\" class=\"dataframe\">\n",
       "  <thead>\n",
       "    <tr style=\"text-align: right;\">\n",
       "      <th>sex</th>\n",
       "      <th>Female</th>\n",
       "      <th>Male</th>\n",
       "    </tr>\n",
       "    <tr>\n",
       "      <th>biased impact</th>\n",
       "      <th></th>\n",
       "      <th></th>\n",
       "    </tr>\n",
       "  </thead>\n",
       "  <tbody>\n",
       "    <tr>\n",
       "      <th>Maybe</th>\n",
<<<<<<< HEAD
       "      <td>35.483871</td>\n",
       "      <td>25.000000</td>\n",
       "    </tr>\n",
       "    <tr>\n",
       "      <th>No</th>\n",
       "      <td>16.129032</td>\n",
       "      <td>60.714286</td>\n",
       "    </tr>\n",
       "    <tr>\n",
       "      <th>Yes</th>\n",
       "      <td>48.387097</td>\n",
       "      <td>14.285714</td>\n",
=======
       "      <td>33.333333</td>\n",
       "      <td>20.0</td>\n",
       "    </tr>\n",
       "    <tr>\n",
       "      <th>No</th>\n",
       "      <td>25.000000</td>\n",
       "      <td>40.0</td>\n",
       "    </tr>\n",
       "    <tr>\n",
       "      <th>Yes</th>\n",
       "      <td>41.666667</td>\n",
       "      <td>40.0</td>\n",
>>>>>>> e8e56c1076dfc8bf7e878bf6c4b339f98534e377
       "    </tr>\n",
       "  </tbody>\n",
       "</table>\n",
       "</div>"
      ],
      "text/plain": [
<<<<<<< HEAD
       "sex               Female       Male\n",
       "biased impact                      \n",
       "Maybe          35.483871  25.000000\n",
       "No             16.129032  60.714286\n",
       "Yes            48.387097  14.285714"
=======
       "sex               Female  Male\n",
       "biased impact                 \n",
       "Maybe          33.333333  20.0\n",
       "No             25.000000  40.0\n",
       "Yes            41.666667  40.0"
>>>>>>> e8e56c1076dfc8bf7e878bf6c4b339f98534e377
      ]
     },
     "metadata": {},
     "output_type": "display_data"
    },
    {
     "name": "stdout",
     "output_type": "stream",
     "text": [
      "\n",
      "\n",
<<<<<<< HEAD
      "\u001b[1m Of the people who faced background noises, all those who felt that the HR Department could have devised better polices\n"
=======
      "\u001b[1m Of the people who have avoided contact  'Often' and 'Very Often', all those who felt that the HR Department could have devised better polices\n"
>>>>>>> e8e56c1076dfc8bf7e878bf6c4b339f98534e377
     ]
    },
    {
     "data": {
      "text/html": [
       "<div>\n",
       "<style scoped>\n",
       "    .dataframe tbody tr th:only-of-type {\n",
       "        vertical-align: middle;\n",
       "    }\n",
       "\n",
       "    .dataframe tbody tr th {\n",
       "        vertical-align: top;\n",
       "    }\n",
       "\n",
       "    .dataframe thead th {\n",
       "        text-align: right;\n",
       "    }\n",
       "</style>\n",
       "<table border=\"1\" class=\"dataframe\">\n",
       "  <thead>\n",
       "    <tr style=\"text-align: right;\">\n",
       "      <th>sex</th>\n",
       "      <th>Female</th>\n",
       "      <th>Male</th>\n",
       "    </tr>\n",
       "    <tr>\n",
<<<<<<< HEAD
       "      <th>better policies</th>\n",
=======
       "      <th>hr policies</th>\n",
>>>>>>> e8e56c1076dfc8bf7e878bf6c4b339f98534e377
       "      <th></th>\n",
       "      <th></th>\n",
       "    </tr>\n",
       "  </thead>\n",
       "  <tbody>\n",
       "    <tr>\n",
       "      <th>No</th>\n",
<<<<<<< HEAD
       "      <td>25.806452</td>\n",
       "      <td>28.571429</td>\n",
       "    </tr>\n",
       "    <tr>\n",
       "      <th>Yes</th>\n",
       "      <td>74.193548</td>\n",
       "      <td>71.428571</td>\n",
=======
       "      <td>33.333333</td>\n",
       "      <td>60.0</td>\n",
       "    </tr>\n",
       "    <tr>\n",
       "      <th>Partly</th>\n",
       "      <td>50.000000</td>\n",
       "      <td>40.0</td>\n",
       "    </tr>\n",
       "    <tr>\n",
       "      <th>Yes</th>\n",
       "      <td>16.666667</td>\n",
       "      <td>0.0</td>\n",
>>>>>>> e8e56c1076dfc8bf7e878bf6c4b339f98534e377
       "    </tr>\n",
       "  </tbody>\n",
       "</table>\n",
       "</div>"
      ],
      "text/plain": [
<<<<<<< HEAD
       "sex                 Female       Male\n",
       "better policies                      \n",
       "No               25.806452  28.571429\n",
       "Yes              74.193548  71.428571"
=======
       "sex             Female  Male\n",
       "hr policies                 \n",
       "No           33.333333  60.0\n",
       "Partly       50.000000  40.0\n",
       "Yes          16.666667   0.0"
>>>>>>> e8e56c1076dfc8bf7e878bf6c4b339f98534e377
      ]
     },
     "metadata": {},
     "output_type": "display_data"
    }
   ],
   "source": [
<<<<<<< HEAD
    "display(pd.crosstab(df2['background noises'],df2['sex'],normalize='columns')*100)\n",
    "df6=df1[df1['background noises']=='Yes']\n",
    "print(\"\\n\\n\\033[1m Of the people who faced background noises, all those who felt that the pandemic has a biased impact on some particular gender: \")\n",
    "display(pd.crosstab(df6['biased impact'],df6['sex'],normalize='columns')*100)\n",
    "print(\"\\n\\n\\033[1m Of the people who faced background noises, all those who felt that the HR Department could have devised better polices\")\n",
    "display(pd.crosstab(df6['better policies'],df6['sex'],normalize='columns')*100)\n"
=======
    "display(pd.crosstab(df2['avoid contact'],df2['sex'],normalize='columns')*100)\n",
    "df7=df1[(df1['avoid contact']=='Often') | (df1['avoid contact']=='Very often')]\n",
    "print(\"\\n\\n\\033[1m Of the people who have avoided contact 'Often' and 'Very Often', all those who faced sexual harassment: \")\n",
    "display(pd.crosstab(df7['sexual harassment'],df7['sex'],normalize='columns')*100)\n",
    "print(\"\\n\\n\\033[1m Of the people who have avoided contact 'Often' and 'Very Often', all those who felt that the pandemic has a biased impact on some particular gender: \")\n",
    "display(pd.crosstab(df7['biased impact'],df7['sex'],normalize='columns')*100)\n",
    "print(\"\\n\\n\\033[1m Of the people who have avoided contact  'Often' and 'Very Often', all those who felt that the HR Department could have devised better polices\")\n",
    "display(pd.crosstab(df7['hr policies'],df7['sex'],normalize='columns')*100)\n",
    "\n"
>>>>>>> e8e56c1076dfc8bf7e878bf6c4b339f98534e377
   ]
  },
  {
   "cell_type": "markdown",
   "metadata": {},
   "source": [
<<<<<<< HEAD
    "## (ix) Personal Calls\n",
    "  - H0: Domestic Obligation and employee gender are independent\n",
    "  - HA: Domestic Obligation and employee gender are dependent\n",
    "  - conclusion : As p-value(0.9) is greater than 0.05 we accept the null hypothesis"
=======
    "##  (xii) Sexual Harassment\n",
    "  - H0: Sexual Harassment and employee gender are independent\n",
    "  - HA: Sexual Harassment and employee gender are dependent\n",
    "  - conclusion : As p-value(0.013) is less than 0.05 we accept the Alternate hypothesis"
>>>>>>> e8e56c1076dfc8bf7e878bf6c4b339f98534e377
   ]
  },
  {
   "cell_type": "code",
<<<<<<< HEAD
   "execution_count": 324,
=======
   "execution_count": 154,
>>>>>>> e8e56c1076dfc8bf7e878bf6c4b339f98534e377
   "metadata": {},
   "outputs": [
    {
     "data": {
      "text/plain": [
<<<<<<< HEAD
       "(0.44197824302134636,\n",
       " 0.9314405586217256,\n",
       " 3,\n",
       " array([[ 6.99029126,  9.00970874],\n",
       "        [10.9223301 , 14.0776699 ],\n",
       "        [24.46601942, 31.53398058],\n",
       "        [ 2.62135922,  3.37864078]]))"
      ]
     },
     "execution_count": 324,
=======
       "(10.720217168387899,\n",
       " 0.013339087625183472,\n",
       " 3,\n",
       " array([[16.4, 24.6],\n",
       "        [ 4.8,  7.2],\n",
       "        [14.8, 22.2],\n",
       "        [ 2. ,  3. ]]))"
      ]
     },
     "execution_count": 154,
>>>>>>> e8e56c1076dfc8bf7e878bf6c4b339f98534e377
     "metadata": {},
     "output_type": "execute_result"
    }
   ],
   "source": [
<<<<<<< HEAD
    "t9=pd.crosstab(df1['personal calls'],df1['sex'])\n",
    "sp.chi2_contingency(t9)"
=======
    "t12=pd.crosstab(df1['avoid contact'],df1['sex'])\n",
    "sp.chi2_contingency(t12)"
>>>>>>> e8e56c1076dfc8bf7e878bf6c4b339f98534e377
   ]
  },
  {
   "cell_type": "markdown",
   "metadata": {},
   "source": [
<<<<<<< HEAD
    "## (x) Silenced\n",
    "  - H0: Silenced and employee gender are independent\n",
    "  - HA: Silenced Obligation and employee gender are dependent\n",
    "  - conclusion : As p-value(0.63) is greater than 0.05 we accept the null hypothesis"
=======
    "#### Further Analysing the replies by respective genders"
>>>>>>> e8e56c1076dfc8bf7e878bf6c4b339f98534e377
   ]
  },
  {
   "cell_type": "code",
<<<<<<< HEAD
   "execution_count": 325,
   "metadata": {},
   "outputs": [
    {
     "data": {
      "text/plain": [
       "(1.7257620872103627,\n",
       " 0.6312215642282335,\n",
       " 3,\n",
       " array([[12.23300971, 15.76699029],\n",
       "        [ 9.61165049, 12.38834951],\n",
       "        [21.84466019, 28.15533981],\n",
       "        [ 1.31067961,  1.68932039]]))"
      ]
     },
     "execution_count": 325,
     "metadata": {},
     "output_type": "execute_result"
    }
   ],
   "source": [
    "t10=pd.crosstab(df1['silenced'],df1['sex'])\n",
    "sp.chi2_contingency(t10)"
   ]
  },
  {
   "cell_type": "markdown",
   "metadata": {},
   "source": [
    "## (xi) Avoid Contact\n",
    "  - H0: Avoid Contact and employee gender are independent\n",
    "  - HA: Avoid Contact and employee gender are dependent\n",
    "  - conclusion : As p-value(0.002) is less than 0.05 we accept the Alternate hypothesis"
   ]
  },
  {
   "cell_type": "code",
   "execution_count": 326,
   "metadata": {},
   "outputs": [
    {
     "data": {
      "text/plain": [
       "(14.64706324026811,\n",
       " 0.0021445015532206547,\n",
       " 3,\n",
       " array([[18.34951456, 23.65048544],\n",
       "        [ 7.42718447,  9.57281553],\n",
       "        [17.03883495, 21.96116505],\n",
       "        [ 2.18446602,  2.81553398]]))"
      ]
     },
     "execution_count": 326,
     "metadata": {},
     "output_type": "execute_result"
    }
   ],
   "source": [
    "t11=pd.crosstab(df1['avoid contact'],df1['sex'])\n",
    "sp.chi2_contingency(t11)"
   ]
  },
  {
   "cell_type": "markdown",
   "metadata": {},
   "source": [
    "#### Further Analysing the replies by respective genders"
   ]
  },
  {
   "cell_type": "code",
   "execution_count": 360,
=======
   "execution_count": 155,
>>>>>>> e8e56c1076dfc8bf7e878bf6c4b339f98534e377
   "metadata": {},
   "outputs": [
    {
     "data": {
      "text/html": [
       "<div>\n",
       "<style scoped>\n",
       "    .dataframe tbody tr th:only-of-type {\n",
       "        vertical-align: middle;\n",
       "    }\n",
       "\n",
       "    .dataframe tbody tr th {\n",
       "        vertical-align: top;\n",
       "    }\n",
       "\n",
       "    .dataframe thead th {\n",
       "        text-align: right;\n",
       "    }\n",
       "</style>\n",
       "<table border=\"1\" class=\"dataframe\">\n",
       "  <thead>\n",
       "    <tr style=\"text-align: right;\">\n",
       "      <th>sex</th>\n",
       "      <th>Female</th>\n",
       "      <th>Male</th>\n",
       "    </tr>\n",
       "    <tr>\n",
<<<<<<< HEAD
       "      <th>avoid contact</th>\n",
=======
       "      <th>sexual harassment</th>\n",
>>>>>>> e8e56c1076dfc8bf7e878bf6c4b339f98534e377
       "      <th></th>\n",
       "      <th></th>\n",
       "    </tr>\n",
       "  </thead>\n",
       "  <tbody>\n",
       "    <tr>\n",
<<<<<<< HEAD
       "      <th>Never</th>\n",
       "      <td>28.888889</td>\n",
       "      <td>50.00000</td>\n",
       "    </tr>\n",
       "    <tr>\n",
       "      <th>Often</th>\n",
       "      <td>26.666667</td>\n",
       "      <td>8.62069</td>\n",
       "    </tr>\n",
       "    <tr>\n",
       "      <th>Rarely</th>\n",
       "      <td>33.333333</td>\n",
       "      <td>41.37931</td>\n",
       "    </tr>\n",
       "    <tr>\n",
       "      <th>Very often</th>\n",
       "      <td>11.111111</td>\n",
       "      <td>0.00000</td>\n",
=======
       "      <th>No</th>\n",
       "      <td>86.842105</td>\n",
       "      <td>100.0</td>\n",
       "    </tr>\n",
       "    <tr>\n",
       "      <th>Yes</th>\n",
       "      <td>13.157895</td>\n",
       "      <td>0.0</td>\n",
>>>>>>> e8e56c1076dfc8bf7e878bf6c4b339f98534e377
       "    </tr>\n",
       "  </tbody>\n",
       "</table>\n",
       "</div>"
      ],
      "text/plain": [
<<<<<<< HEAD
       "sex               Female      Male\n",
       "avoid contact                     \n",
       "Never          28.888889  50.00000\n",
       "Often          26.666667   8.62069\n",
       "Rarely         33.333333  41.37931\n",
       "Very often     11.111111   0.00000"
=======
       "sex                   Female   Male\n",
       "sexual harassment                  \n",
       "No                 86.842105  100.0\n",
       "Yes                13.157895    0.0"
>>>>>>> e8e56c1076dfc8bf7e878bf6c4b339f98534e377
      ]
     },
     "metadata": {},
     "output_type": "display_data"
    },
    {
     "name": "stdout",
     "output_type": "stream",
     "text": [
      "\n",
      "\n",
<<<<<<< HEAD
      "\u001b[1m Of the people who have avoided contact 'Often' and 'Very Often', all those who faced sexual harassment: \n"
=======
      "\u001b[1m Of the people who faced sexual harassment, all those who felt that the pandemic has a biased impact on some particular gender: \n"
>>>>>>> e8e56c1076dfc8bf7e878bf6c4b339f98534e377
     ]
    },
    {
     "data": {
      "text/html": [
       "<div>\n",
       "<style scoped>\n",
       "    .dataframe tbody tr th:only-of-type {\n",
       "        vertical-align: middle;\n",
       "    }\n",
       "\n",
       "    .dataframe tbody tr th {\n",
       "        vertical-align: top;\n",
       "    }\n",
       "\n",
       "    .dataframe thead th {\n",
       "        text-align: right;\n",
       "    }\n",
       "</style>\n",
       "<table border=\"1\" class=\"dataframe\">\n",
       "  <thead>\n",
       "    <tr style=\"text-align: right;\">\n",
       "      <th>sex</th>\n",
       "      <th>Female</th>\n",
<<<<<<< HEAD
       "      <th>Male</th>\n",
       "    </tr>\n",
       "    <tr>\n",
       "      <th>sexual harassment</th>\n",
       "      <th></th>\n",
=======
       "    </tr>\n",
       "    <tr>\n",
       "      <th>biased impact</th>\n",
>>>>>>> e8e56c1076dfc8bf7e878bf6c4b339f98534e377
       "      <th></th>\n",
       "    </tr>\n",
       "  </thead>\n",
       "  <tbody>\n",
       "    <tr>\n",
       "      <th>No</th>\n",
<<<<<<< HEAD
       "      <td>70.588235</td>\n",
       "      <td>100.0</td>\n",
       "    </tr>\n",
       "    <tr>\n",
       "      <th>Yes</th>\n",
       "      <td>29.411765</td>\n",
       "      <td>0.0</td>\n",
=======
       "      <td>40.0</td>\n",
       "    </tr>\n",
       "    <tr>\n",
       "      <th>Yes</th>\n",
       "      <td>60.0</td>\n",
>>>>>>> e8e56c1076dfc8bf7e878bf6c4b339f98534e377
       "    </tr>\n",
       "  </tbody>\n",
       "</table>\n",
       "</div>"
      ],
      "text/plain": [
<<<<<<< HEAD
       "sex                   Female   Male\n",
       "sexual harassment                  \n",
       "No                 70.588235  100.0\n",
       "Yes                29.411765    0.0"
=======
       "sex            Female\n",
       "biased impact        \n",
       "No               40.0\n",
       "Yes              60.0"
>>>>>>> e8e56c1076dfc8bf7e878bf6c4b339f98534e377
      ]
     },
     "metadata": {},
     "output_type": "display_data"
    },
    {
     "name": "stdout",
     "output_type": "stream",
     "text": [
      "\n",
      "\n",
<<<<<<< HEAD
      "\u001b[1m Of the people who have avoided contact 'Often' and 'Very Often', all those who felt that the pandemic has a biased impact on some particular gender: \n"
=======
      "\u001b[1m Of the people who faced sexual harassment, all those who felt that the HR Department could have devised better polices: \n"
>>>>>>> e8e56c1076dfc8bf7e878bf6c4b339f98534e377
     ]
    },
    {
     "data": {
      "text/html": [
       "<div>\n",
       "<style scoped>\n",
       "    .dataframe tbody tr th:only-of-type {\n",
       "        vertical-align: middle;\n",
       "    }\n",
       "\n",
       "    .dataframe tbody tr th {\n",
       "        vertical-align: top;\n",
       "    }\n",
       "\n",
       "    .dataframe thead th {\n",
       "        text-align: right;\n",
       "    }\n",
       "</style>\n",
       "<table border=\"1\" class=\"dataframe\">\n",
       "  <thead>\n",
       "    <tr style=\"text-align: right;\">\n",
       "      <th>sex</th>\n",
       "      <th>Female</th>\n",
<<<<<<< HEAD
       "      <th>Male</th>\n",
       "    </tr>\n",
       "    <tr>\n",
       "      <th>biased impact</th>\n",
       "      <th></th>\n",
=======
       "    </tr>\n",
       "    <tr>\n",
       "      <th>better policies</th>\n",
>>>>>>> e8e56c1076dfc8bf7e878bf6c4b339f98534e377
       "      <th></th>\n",
       "    </tr>\n",
       "  </thead>\n",
       "  <tbody>\n",
       "    <tr>\n",
<<<<<<< HEAD
       "      <th>Maybe</th>\n",
       "      <td>23.529412</td>\n",
       "      <td>20.0</td>\n",
       "    </tr>\n",
       "    <tr>\n",
       "      <th>No</th>\n",
       "      <td>5.882353</td>\n",
=======
       "      <th>No</th>\n",
>>>>>>> e8e56c1076dfc8bf7e878bf6c4b339f98534e377
       "      <td>40.0</td>\n",
       "    </tr>\n",
       "    <tr>\n",
       "      <th>Yes</th>\n",
<<<<<<< HEAD
       "      <td>70.588235</td>\n",
       "      <td>40.0</td>\n",
=======
       "      <td>60.0</td>\n",
>>>>>>> e8e56c1076dfc8bf7e878bf6c4b339f98534e377
       "    </tr>\n",
       "  </tbody>\n",
       "</table>\n",
       "</div>"
      ],
      "text/plain": [
<<<<<<< HEAD
       "sex               Female  Male\n",
       "biased impact                 \n",
       "Maybe          23.529412  20.0\n",
       "No              5.882353  40.0\n",
       "Yes            70.588235  40.0"
=======
       "sex              Female\n",
       "better policies        \n",
       "No                 40.0\n",
       "Yes                60.0"
>>>>>>> e8e56c1076dfc8bf7e878bf6c4b339f98534e377
      ]
     },
     "metadata": {},
     "output_type": "display_data"
<<<<<<< HEAD
    },
=======
    }
   ],
   "source": [
    "display(pd.crosstab(df1['sexual harassment'],df1['sex'],normalize='columns')*100)\n",
    "df5=df1[df1['sexual harassment']=='Yes']\n",
    "print(\"\\n\\n\\033[1m Of the people who faced sexual harassment, all those who felt that the pandemic has a biased impact on some particular gender: \")\n",
    "display(pd.crosstab(df5['biased impact'],df5['sex'],normalize='columns')*100)\n",
    "print(\"\\n\\n\\033[1m Of the people who faced sexual harassment, all those who felt that the HR Department could have devised better polices: \")\n",
    "display(pd.crosstab(df5['better policies'],df5['sex'],normalize='columns')*100)"
   ]
  },
  {
   "cell_type": "markdown",
   "metadata": {},
   "source": [
    "### Analysing Comfort level while sharing about incidents of sexual harassment"
   ]
  },
  {
   "cell_type": "code",
   "execution_count": 156,
   "metadata": {},
   "outputs": [
>>>>>>> e8e56c1076dfc8bf7e878bf6c4b339f98534e377
    {
     "name": "stdout",
     "output_type": "stream",
     "text": [
<<<<<<< HEAD
      "\n",
      "\n",
      "\u001b[1m Of the people who have avoided contact  'Often' and 'Very Often', all those who felt that the HR Department could have devised better polices\n"
=======
      "\u001b[1m Summary of Data:\u001b[0m \n"
>>>>>>> e8e56c1076dfc8bf7e878bf6c4b339f98534e377
     ]
    },
    {
     "data": {
      "text/html": [
       "<div>\n",
       "<style scoped>\n",
       "    .dataframe tbody tr th:only-of-type {\n",
       "        vertical-align: middle;\n",
       "    }\n",
       "\n",
       "    .dataframe tbody tr th {\n",
       "        vertical-align: top;\n",
       "    }\n",
       "\n",
       "    .dataframe thead th {\n",
       "        text-align: right;\n",
       "    }\n",
       "</style>\n",
       "<table border=\"1\" class=\"dataframe\">\n",
       "  <thead>\n",
       "    <tr style=\"text-align: right;\">\n",
<<<<<<< HEAD
       "      <th>sex</th>\n",
       "      <th>Female</th>\n",
       "      <th>Male</th>\n",
       "    </tr>\n",
       "    <tr>\n",
       "      <th>hr policies</th>\n",
       "      <th></th>\n",
       "      <th></th>\n",
=======
       "      <th></th>\n",
       "      <th>comfort</th>\n",
>>>>>>> e8e56c1076dfc8bf7e878bf6c4b339f98534e377
       "    </tr>\n",
       "  </thead>\n",
       "  <tbody>\n",
       "    <tr>\n",
<<<<<<< HEAD
       "      <th>No</th>\n",
       "      <td>35.294118</td>\n",
       "      <td>60.0</td>\n",
       "    </tr>\n",
       "    <tr>\n",
       "      <th>Partly</th>\n",
       "      <td>47.058824</td>\n",
       "      <td>40.0</td>\n",
       "    </tr>\n",
       "    <tr>\n",
       "      <th>Yes</th>\n",
       "      <td>17.647059</td>\n",
       "      <td>0.0</td>\n",
=======
       "      <th>count</th>\n",
       "      <td>5.000000</td>\n",
       "    </tr>\n",
       "    <tr>\n",
       "      <th>mean</th>\n",
       "      <td>3.400000</td>\n",
       "    </tr>\n",
       "    <tr>\n",
       "      <th>std</th>\n",
       "      <td>0.894427</td>\n",
       "    </tr>\n",
       "    <tr>\n",
       "      <th>min</th>\n",
       "      <td>2.000000</td>\n",
       "    </tr>\n",
       "    <tr>\n",
       "      <th>25%</th>\n",
       "      <td>3.000000</td>\n",
       "    </tr>\n",
       "    <tr>\n",
       "      <th>50%</th>\n",
       "      <td>4.000000</td>\n",
       "    </tr>\n",
       "    <tr>\n",
       "      <th>75%</th>\n",
       "      <td>4.000000</td>\n",
       "    </tr>\n",
       "    <tr>\n",
       "      <th>max</th>\n",
       "      <td>4.000000</td>\n",
>>>>>>> e8e56c1076dfc8bf7e878bf6c4b339f98534e377
       "    </tr>\n",
       "  </tbody>\n",
       "</table>\n",
       "</div>"
      ],
      "text/plain": [
<<<<<<< HEAD
       "sex             Female  Male\n",
       "hr policies                 \n",
       "No           35.294118  60.0\n",
       "Partly       47.058824  40.0\n",
       "Yes          17.647059   0.0"
      ]
     },
     "metadata": {},
     "output_type": "display_data"
    }
   ],
   "source": [
    "display(pd.crosstab(df1['avoid contact'],df1['sex'],normalize='columns')*100)\n",
    "df7=df1[(df1['avoid contact']=='Often') | (df1['avoid contact']=='Very often')]\n",
    "print(\"\\n\\n\\033[1m Of the people who have avoided contact 'Often' and 'Very Often', all those who faced sexual harassment: \")\n",
    "display(pd.crosstab(df7['sexual harassment'],df7['sex'],normalize='columns')*100)\n",
    "print(\"\\n\\n\\033[1m Of the people who have avoided contact 'Often' and 'Very Often', all those who felt that the pandemic has a biased impact on some particular gender: \")\n",
    "display(pd.crosstab(df7['biased impact'],df7['sex'],normalize='columns')*100)\n",
    "print(\"\\n\\n\\033[1m Of the people who have avoided contact  'Often' and 'Very Often', all those who felt that the HR Department could have devised better polices\")\n",
    "display(pd.crosstab(df7['hr policies'],df7['sex'],normalize='columns')*100)\n",
    "\n"
   ]
  },
  {
   "cell_type": "markdown",
   "metadata": {},
   "source": [
    "##  (xii) Sexual Harassment\n",
    "  - H0: Sexual Harassment and employee gender are independent\n",
    "  - HA: Sexual Harassment and employee gender are dependent\n",
    "  - conclusion : As p-value(0.002) is less than 0.05 we accept the Alternate hypothesis"
=======
       "        comfort\n",
       "count  5.000000\n",
       "mean   3.400000\n",
       "std    0.894427\n",
       "min    2.000000\n",
       "25%    3.000000\n",
       "50%    4.000000\n",
       "75%    4.000000\n",
       "max    4.000000"
      ]
     },
     "execution_count": 156,
     "metadata": {},
     "output_type": "execute_result"
    }
   ],
   "source": [
    "print(\"\\033[1m Summary of Data:\\033[0m \")\n",
    "df5.describe()"
>>>>>>> e8e56c1076dfc8bf7e878bf6c4b339f98534e377
   ]
  },
  {
   "cell_type": "code",
<<<<<<< HEAD
   "execution_count": 361,
   "metadata": {},
   "outputs": [
    {
     "data": {
      "text/plain": [
       "(14.64706324026811,\n",
       " 0.0021445015532206547,\n",
       " 3,\n",
       " array([[18.34951456, 23.65048544],\n",
       "        [ 7.42718447,  9.57281553],\n",
       "        [17.03883495, 21.96116505],\n",
       "        [ 2.18446602,  2.81553398]]))"
      ]
     },
     "execution_count": 361,
=======
   "execution_count": 157,
   "metadata": {},
   "outputs": [
    {
     "name": "stdout",
     "output_type": "stream",
     "text": [
      "\n",
      "\n",
      "\u001b[1mPerforming standardization:\u001b[0m \n"
     ]
    },
    {
     "data": {
      "text/plain": [
       "array([ 0.75,  0.75,  0.75, -0.5 , -1.75])"
      ]
     },
     "execution_count": 157,
>>>>>>> e8e56c1076dfc8bf7e878bf6c4b339f98534e377
     "metadata": {},
     "output_type": "execute_result"
    }
   ],
   "source": [
<<<<<<< HEAD
    "t12=pd.crosstab(df1['avoid contact'],df1['sex'])\n",
    "sp.chi2_contingency(t12)"
   ]
  },
  {
   "cell_type": "markdown",
   "metadata": {},
   "source": [
    "#### Further Analysing the replies by respective genders"
=======
    "print(\"\\n\\n\\033[1mPerforming standardization:\\033[0m \")\n",
    "from sklearn import preprocessing\n",
    "std_df5=preprocessing.scale(df5['comfort'])\n",
    "std_df5"
>>>>>>> e8e56c1076dfc8bf7e878bf6c4b339f98534e377
   ]
  },
  {
   "cell_type": "code",
<<<<<<< HEAD
   "execution_count": 362,
   "metadata": {},
   "outputs": [
    {
     "data": {
      "text/html": [
       "<div>\n",
       "<style scoped>\n",
       "    .dataframe tbody tr th:only-of-type {\n",
       "        vertical-align: middle;\n",
       "    }\n",
       "\n",
       "    .dataframe tbody tr th {\n",
       "        vertical-align: top;\n",
       "    }\n",
       "\n",
       "    .dataframe thead th {\n",
       "        text-align: right;\n",
       "    }\n",
       "</style>\n",
       "<table border=\"1\" class=\"dataframe\">\n",
       "  <thead>\n",
       "    <tr style=\"text-align: right;\">\n",
       "      <th>sex</th>\n",
       "      <th>Female</th>\n",
       "      <th>Male</th>\n",
       "    </tr>\n",
       "    <tr>\n",
       "      <th>sexual harassment</th>\n",
       "      <th></th>\n",
       "      <th></th>\n",
       "    </tr>\n",
       "  </thead>\n",
       "  <tbody>\n",
       "    <tr>\n",
       "      <th>No</th>\n",
       "      <td>84.444444</td>\n",
       "      <td>100.0</td>\n",
       "    </tr>\n",
       "    <tr>\n",
       "      <th>Yes</th>\n",
       "      <td>15.555556</td>\n",
       "      <td>0.0</td>\n",
       "    </tr>\n",
       "  </tbody>\n",
       "</table>\n",
       "</div>"
      ],
      "text/plain": [
       "sex                   Female   Male\n",
       "sexual harassment                  \n",
       "No                 84.444444  100.0\n",
       "Yes                15.555556    0.0"
      ]
     },
     "metadata": {},
     "output_type": "display_data"
    },
    {
=======
   "execution_count": 158,
   "metadata": {},
   "outputs": [
    {
>>>>>>> e8e56c1076dfc8bf7e878bf6c4b339f98534e377
     "name": "stdout",
     "output_type": "stream",
     "text": [
      "\n",
      "\n",
<<<<<<< HEAD
      "\u001b[1m Of the people who faced sexual harassment, all those who felt that the pandemic has a biased impact on some particular gender: \n"
     ]
    },
    {
     "data": {
      "text/html": [
       "<div>\n",
       "<style scoped>\n",
       "    .dataframe tbody tr th:only-of-type {\n",
       "        vertical-align: middle;\n",
       "    }\n",
       "\n",
       "    .dataframe tbody tr th {\n",
       "        vertical-align: top;\n",
       "    }\n",
       "\n",
       "    .dataframe thead th {\n",
       "        text-align: right;\n",
       "    }\n",
       "</style>\n",
       "<table border=\"1\" class=\"dataframe\">\n",
       "  <thead>\n",
       "    <tr style=\"text-align: right;\">\n",
       "      <th>sex</th>\n",
       "      <th>Female</th>\n",
       "    </tr>\n",
       "    <tr>\n",
       "      <th>biased impact</th>\n",
       "      <th></th>\n",
       "    </tr>\n",
       "  </thead>\n",
       "  <tbody>\n",
       "    <tr>\n",
       "      <th>Yes</th>\n",
       "      <td>100.0</td>\n",
       "    </tr>\n",
       "  </tbody>\n",
       "</table>\n",
       "</div>"
      ],
      "text/plain": [
       "sex            Female\n",
       "biased impact        \n",
       "Yes             100.0"
      ]
     },
     "metadata": {},
     "output_type": "display_data"
    },
    {
     "name": "stdout",
     "output_type": "stream",
     "text": [
      "\n",
      "\n",
      "\u001b[1m Of the people who faced sexual harassment, all those who felt that the HR Department could have devised better polices: \n"
     ]
    },
    {
     "data": {
      "text/html": [
       "<div>\n",
       "<style scoped>\n",
       "    .dataframe tbody tr th:only-of-type {\n",
       "        vertical-align: middle;\n",
       "    }\n",
       "\n",
       "    .dataframe tbody tr th {\n",
       "        vertical-align: top;\n",
       "    }\n",
       "\n",
       "    .dataframe thead th {\n",
       "        text-align: right;\n",
       "    }\n",
       "</style>\n",
       "<table border=\"1\" class=\"dataframe\">\n",
       "  <thead>\n",
       "    <tr style=\"text-align: right;\">\n",
       "      <th>sex</th>\n",
       "      <th>Female</th>\n",
       "    </tr>\n",
       "    <tr>\n",
       "      <th>better policies</th>\n",
       "      <th></th>\n",
       "    </tr>\n",
       "  </thead>\n",
       "  <tbody>\n",
       "    <tr>\n",
       "      <th>Yes</th>\n",
       "      <td>100.0</td>\n",
       "    </tr>\n",
       "  </tbody>\n",
       "</table>\n",
       "</div>"
      ],
      "text/plain": [
       "sex              Female\n",
       "better policies        \n",
       "Yes               100.0"
      ]
     },
     "metadata": {},
     "output_type": "display_data"
    }
   ],
   "source": [
    "display(pd.crosstab(df1['sexual harassment'],df1['sex'],normalize='columns')*100)\n",
    "df5=df1[df1['sexual harassment']=='Yes']\n",
    "print(\"\\n\\n\\033[1m Of the people who faced sexual harassment, all those who felt that the pandemic has a biased impact on some particular gender: \")\n",
    "display(pd.crosstab(df5['biased impact'],df5['sex'],normalize='columns')*100)\n",
    "print(\"\\n\\n\\033[1m Of the people who faced sexual harassment, all those who felt that the HR Department could have devised better polices: \")\n",
    "display(pd.crosstab(df5['better policies'],df5['sex'],normalize='columns')*100)"
   ]
  },
  {
   "cell_type": "markdown",
   "metadata": {},
   "source": [
    "### Analysing Comfort level while sharing about incidents of sexual harassment"
   ]
  },
  {
   "cell_type": "code",
   "execution_count": 363,
   "metadata": {},
   "outputs": [
    {
     "name": "stdout",
     "output_type": "stream",
     "text": [
      "\u001b[1m Summary of Data:\u001b[0m \n"
     ]
    },
    {
     "data": {
      "text/html": [
       "<div>\n",
       "<style scoped>\n",
       "    .dataframe tbody tr th:only-of-type {\n",
       "        vertical-align: middle;\n",
       "    }\n",
       "\n",
       "    .dataframe tbody tr th {\n",
       "        vertical-align: top;\n",
       "    }\n",
       "\n",
       "    .dataframe thead th {\n",
       "        text-align: right;\n",
       "    }\n",
       "</style>\n",
       "<table border=\"1\" class=\"dataframe\">\n",
       "  <thead>\n",
       "    <tr style=\"text-align: right;\">\n",
       "      <th></th>\n",
       "      <th>comfort</th>\n",
       "      <th>Unnamed: 25</th>\n",
       "      <th>Clusters by Sex, Marital Status and preferred mode of working</th>\n",
       "    </tr>\n",
       "  </thead>\n",
       "  <tbody>\n",
       "    <tr>\n",
       "      <th>count</th>\n",
       "      <td>7.000000</td>\n",
       "      <td>0.0</td>\n",
       "      <td>7.000000</td>\n",
       "    </tr>\n",
       "    <tr>\n",
       "      <th>mean</th>\n",
       "      <td>3.142857</td>\n",
       "      <td>NaN</td>\n",
       "      <td>0.571429</td>\n",
       "    </tr>\n",
       "    <tr>\n",
       "      <th>std</th>\n",
       "      <td>0.899735</td>\n",
       "      <td>NaN</td>\n",
       "      <td>0.534522</td>\n",
       "    </tr>\n",
       "    <tr>\n",
       "      <th>min</th>\n",
       "      <td>2.000000</td>\n",
       "      <td>NaN</td>\n",
       "      <td>0.000000</td>\n",
       "    </tr>\n",
       "    <tr>\n",
       "      <th>25%</th>\n",
       "      <td>2.500000</td>\n",
       "      <td>NaN</td>\n",
       "      <td>0.000000</td>\n",
       "    </tr>\n",
       "    <tr>\n",
       "      <th>50%</th>\n",
       "      <td>3.000000</td>\n",
       "      <td>NaN</td>\n",
       "      <td>1.000000</td>\n",
       "    </tr>\n",
       "    <tr>\n",
       "      <th>75%</th>\n",
       "      <td>4.000000</td>\n",
       "      <td>NaN</td>\n",
       "      <td>1.000000</td>\n",
       "    </tr>\n",
       "    <tr>\n",
       "      <th>max</th>\n",
       "      <td>4.000000</td>\n",
       "      <td>NaN</td>\n",
       "      <td>1.000000</td>\n",
       "    </tr>\n",
       "  </tbody>\n",
       "</table>\n",
       "</div>"
      ],
      "text/plain": [
       "        comfort  Unnamed: 25  \\\n",
       "count  7.000000          0.0   \n",
       "mean   3.142857          NaN   \n",
       "std    0.899735          NaN   \n",
       "min    2.000000          NaN   \n",
       "25%    2.500000          NaN   \n",
       "50%    3.000000          NaN   \n",
       "75%    4.000000          NaN   \n",
       "max    4.000000          NaN   \n",
       "\n",
       "       Clusters by Sex, Marital Status and preferred mode of working  \n",
       "count                                           7.000000              \n",
       "mean                                            0.571429              \n",
       "std                                             0.534522              \n",
       "min                                             0.000000              \n",
       "25%                                             0.000000              \n",
       "50%                                             1.000000              \n",
       "75%                                             1.000000              \n",
       "max                                             1.000000              "
      ]
     },
     "execution_count": 363,
     "metadata": {},
     "output_type": "execute_result"
    }
   ],
   "source": [
    "print(\"\\033[1m Summary of Data:\\033[0m \")\n",
    "df5.describe()"
   ]
  },
  {
   "cell_type": "code",
   "execution_count": 364,
   "metadata": {},
   "outputs": [
    {
     "name": "stdout",
     "output_type": "stream",
     "text": [
      "\n",
      "\n",
      "\u001b[1mPerforming standardization:\u001b[0m \n"
     ]
    },
    {
     "data": {
      "text/plain": [
       "array([ 1.02899151,  1.02899151,  1.02899151, -0.17149859, -1.37198868,\n",
       "       -1.37198868, -0.17149859])"
      ]
     },
     "execution_count": 364,
     "metadata": {},
     "output_type": "execute_result"
    }
   ],
   "source": [
    "print(\"\\n\\n\\033[1mPerforming standardization:\\033[0m \")\n",
    "from sklearn import preprocessing\n",
    "std_df5=preprocessing.scale(df5['comfort'])\n",
    "std_df5"
   ]
  },
  {
   "cell_type": "code",
   "execution_count": 365,
   "metadata": {},
   "outputs": [
    {
     "name": "stdout",
     "output_type": "stream",
     "text": [
      "\n",
      "\n",
      "\u001b[1mChecking for Skewness:\u001b[0m\n",
      "\n",
      " \n"
=======
      "\u001b[1mChecking for Skewness:\u001b[0m\n",
      "\n",
      " \n"
>>>>>>> e8e56c1076dfc8bf7e878bf6c4b339f98534e377
     ]
    },
    {
     "data": {
      "text/plain": [
<<<<<<< HEAD
       "-0.3530449674378281"
=======
       "-1.257788237343631"
>>>>>>> e8e56c1076dfc8bf7e878bf6c4b339f98534e377
      ]
     },
     "metadata": {},
     "output_type": "display_data"
    },
    {
     "data": {
<<<<<<< HEAD
      "image/png": "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\n",
=======
      "image/png": "iVBORw0KGgoAAAANSUhEUgAAAYIAAAD4CAYAAADhNOGaAAAAOXRFWHRTb2Z0d2FyZQBNYXRwbG90bGliIHZlcnNpb24zLjMuMiwgaHR0cHM6Ly9tYXRwbG90bGliLm9yZy8vihELAAAACXBIWXMAAAsTAAALEwEAmpwYAAASIklEQVR4nO3df9CdZ13n8fenaZi20N2oedx20qbBtaMCA7aGUqzOBmadaUuhg6KWcWCms2sEcQZGd9duxyn6x87oH4tYi8SgjBYBFwQ6FVO1jCgg05Y0pr8o7GbZarPJbENZG0I7dFO/+8e5I4eT8zzPyY/rnCTX+zVzJveP6z73t3ev9NP713VSVUiS+nXWoguQJC2WQSBJnTMIJKlzBoEkdc4gkKTOnb3oAo7V+vXra9OmTYsuQ5JOK/fff/9Xq2pp2rrTLgg2bdrEzp07F12GJJ1Wkvz9cuu8NCRJnTMIJKlzBoEkdc4gkKTOGQSS1DmDQJI61ywIkpyT5L4kDyR5JMmvTWmTJLcm2ZPkwSSXt6pHkjRdy/cIvgm8uqoOJVkLfC7JXVV1z1iba4BLh88rgPcOf0qS5qTZGUGNHBpm1w6fyR8/uB64fWh7D7AuyYWtapIkHa3pm8VJ1gD3A98LvKeq7p1osgF4fGx+77Bs/8T3bAW2AmzcuLFZvZK0mk03/dnC9v3Yr7+myfc2vVlcVc9V1Q8CFwFXJHnJRJNM22zK92yvqs1VtXlpaepQGZKk4zSXp4aq6h+Bvwaunli1F7h4bP4iYN88apIkjbR8amgpybph+lzg3wJfmmh2J/Dm4emhK4Gnqmo/kqS5aXmP4ELgD4f7BGcBH6mqTyZ5C0BVbQN2ANcCe4CngRsb1iNJmqJZEFTVg8BlU5ZvG5su4G2tapAkrc43iyWpcwaBJHXOIJCkzhkEktQ5g0CSOmcQSFLnDAJJ6pxBIEmdMwgkqXMGgSR1ziCQpM4ZBJLUOYNAkjpnEEhS5wwCSeqcQSBJnTMIJKlzBoEkdc4gkKTOGQSS1DmDQJI6ZxBIUucMAknqnEEgSZ0zCCSpc82CIMnFST6d5NEkjyR5+5Q2W5I8lWT38LmlVT2SpOnObvjdh4FfqqpdSc4H7k9yd1V9caLdZ6vquoZ1SJJW0OyMoKr2V9WuYfrrwKPAhlb7kyQdn7ncI0iyCbgMuHfK6lcmeSDJXUlevMz2W5PsTLLzwIEDLUuVpO40D4IkLwA+Bryjqg5OrN4FXFJVLwN+G7hj2ndU1faq2lxVm5eWlprWK0m9aRoESdYyCoEPVtXHJ9dX1cGqOjRM7wDWJlnfsiZJ0rdr+dRQgN8HHq2qdy3T5oKhHUmuGOp5slVNkqSjtXxq6CrgTcBDSXYPy24GNgJU1TbgDcBbkxwGngFuqKpqWJMkaUKzIKiqzwFZpc1twG2tapAkrc43iyWpcwaBJHXOIJCkzhkEktQ5g0CSOmcQSFLnDAJJ6pxBIEmdMwgkqXMGgSR1ziCQpM4ZBJLUOYNAkjpnEEhS5wwCSeqcQSBJnTMIJKlzBoEkdc4gkKTOGQSS1DmDQJI6ZxBIUucMAknqnEEgSZ0zCCSpcwaBJHWuWRAkuTjJp5M8muSRJG+f0iZJbk2yJ8mDSS5vVY8kabqzG373YeCXqmpXkvOB+5PcXVVfHGtzDXDp8HkF8N7hT0nSnDQ7I6iq/VW1a5j+OvAosGGi2fXA7TVyD7AuyYWtapIkHW0u9wiSbAIuA+6dWLUBeHxsfi9HhwVJtibZmWTngQMHmtUpST1qHgRJXgB8DHhHVR2cXD1lkzpqQdX2qtpcVZuXlpZalClJ3WoaBEnWMgqBD1bVx6c02QtcPDZ/EbCvZU2SpG/X8qmhAL8PPFpV71qm2Z3Am4enh64Enqqq/a1qkiQdreVTQ1cBbwIeSrJ7WHYzsBGgqrYBO4BrgT3A08CNDeuRJE3RLAiq6nNMvwcw3qaAt7WqQZK0upkuDSV5SetCJEmLMes9gm1J7kvy80nWtSxIkjRfMwVBVf0I8DOMnvDZmeRDSX6saWWSpLmY+amhqvofwK8Avwz8G+DWJF9K8uOtipMktTfrPYKXJvlNRsNEvBp4bVX9wDD9mw3rkyQ1NutTQ7cB7wNurqpnjiysqn1JfqVJZZKkuZg1CK4Fnqmq5wCSnAWcU1VPV9UHmlUnSWpu1nsEnwLOHZs/b1gmSTrNzRoE51TVoSMzw/R5bUqSJM3TrEHwjfFfD0vyQ8AzK7SXJJ0mZr1H8A7go0mOjAx6IfDTTSqSJM3VTEFQVV9I8v3A9zEaP+hLVfX/mlYmSZqLYxl07uXApmGby5JQVbc3qUqSNDczBUGSDwD/GtgNPDcsLsAgkKTT3KxnBJuBFw3DRkuSziCzPjX0MHBBy0IkSYsx6xnBeuCLSe4DvnlkYVW9rklVkqS5mTUIfrVlEZKkxZn18dG/SXIJcGlVfSrJecCatqVJkuZh1mGofxb4E+B3h0UbgDsa1SRJmqNZbxa/DbgKOAj//CM1392qKEnS/MwaBN+sqmePzCQ5m9F7BJKk09ysQfA3SW4Gzh1+q/ijwJ+2K0uSNC+zBsFNwAHgIeDngB2Mfr9YknSam/WpoX9i9FOV72tbjiRp3mZ9auh/JfnK5GeVbd6f5IkkDy+zfkuSp5LsHj63HM8/gCTpxBzLWENHnAP8JPCdq2zzB4x+9H6lgek+W1XXzViDJKmBmc4IqurJsc//rqp3A69eZZvPAF87CTVKkhqadRjqy8dmz2J0hnD+Sdj/K5M8AOwD/kNVPbLM/rcCWwE2btx4EnYrSTpi1ktD/3Vs+jDwGPBTJ7jvXcAlVXUoybWM3lS+dFrDqtoObAfYvHmz7y9I0kk061NDrzrZO66qg2PTO5L8TpL1VfXVk70vSdLyZr009Isrra+qdx3rjpNcAPyfqqokVzC65PTksX6PJOnEHMtTQy8H7hzmXwt8Bnh8uQ2SfBjYAqxPshd4J7AWoKq2AW8A3prkMPAMcIO/gCZJ83csP0xzeVV9HSDJrwIfrap/v9wGVfXGlb6wqm5j9HipJGmBZh1iYiPw7Nj8s8Cmk16NJGnuZj0j+ABwX5JPMBp19PWs/KKYJOk0MetTQ/8lyV3Ajw6Lbqyqv2tXliRpXma9NARwHnCwqn4L2JvkhY1qkiTN0ayDzr0T+GXgPw+L1gJ/1KooSdL8zHpG8HrgdcA3AKpqHydniAlJ0oLNGgTPDs/4F0CS57crSZI0T7MGwUeS/C6wLsnPAp/CH6mRpDPCqk8NJQnw34DvBw4C3wfcUlV3N65NkjQHqwbBMBbQHVX1Q4D/8ZekM8ysl4buSfLyppVIkhZi1jeLXwW8JcljjJ4cCqOThZe2KkySNB8rBkGSjVX1D8A1c6pHkjRnq50R3MFo1NG/T/KxqvqJOdQkSZqj1e4RZGz6e1oWIklajNWCoJaZliSdIVa7NPSyJAcZnRmcO0zDt24W/4um1UmSmlsxCKpqzbwKkSQtxrEMQy1JOgMZBJLUOYNAkjpnEEhS5wwCSeqcQSBJnTMIJKlzBoEkda5ZECR5f5Inkjy8zPokuTXJniQPJrm8VS2SpOW1PCP4A+DqFdZfA1w6fLYC721YiyRpGc2CoKo+A3xthSbXA7fXyD3AuiQXtqpHkjTdrL9Q1sIG4PGx+b3Dsv2TDZNsZXTWwMaNG497h5tu+rPj3vZEPfbrr1nYvjU/i+pj9i+diEXeLM6UZVOHuq6q7VW1uao2Ly0tNS5LkvqyyCDYC1w8Nn8RsG9BtUhStxYZBHcCbx6eHroSeKqqjrosJElqq9k9giQfBrYA65PsBd4JrAWoqm3ADuBaYA/wNHBjq1okSctrFgRV9cZV1hfwtlb7lyTNxjeLJalzBoEkdc4gkKTOGQSS1DmDQJI6ZxBIUucMAknqnEEgSZ0zCCSpcwaBJHXOIJCkzhkEktQ5g0CSOmcQSFLnDAJJ6pxBIEmdMwgkqXMGgSR1ziCQpM4ZBJLUOYNAkjpnEEhS5wwCSeqcQSBJnTMIJKlzTYMgydVJvpxkT5KbpqzfkuSpJLuHzy0t65EkHe3sVl+cZA3wHuDHgL3AF5LcWVVfnGj62aq6rlUdkqSVtTwjuALYU1VfqapngT8Grm+4P0nScWgZBBuAx8fm9w7LJr0yyQNJ7kry4mlflGRrkp1Jdh44cKBFrZLUrZZBkCnLamJ+F3BJVb0M+G3gjmlfVFXbq2pzVW1eWlo6uVVKUudaBsFe4OKx+YuAfeMNqupgVR0apncAa5Osb1iTJGlCyyD4AnBpkhcmeR5wA3DneIMkFyTJMH3FUM+TDWuSJE1o9tRQVR1O8gvAXwBrgPdX1SNJ3jKs3wa8AXhrksPAM8ANVTV5+UiS1FCzIIB/vtyzY2LZtrHp24DbWtYgSVqZbxZLUucMAknqnEEgSZ0zCCSpcwaBJHXOIJCkzhkEktQ5g0CSOmcQSFLnDAJJ6pxBIEmdMwgkqXMGgSR1ziCQpM4ZBJLUOYNAkjpnEEhS5wwCSeqcQSBJnTMIJKlzBoEkdc4gkKTOGQSS1DmDQJI6ZxBIUucMAknqXNMgSHJ1ki8n2ZPkpinrk+TWYf2DSS5vWY8k6WjNgiDJGuA9wDXAi4A3JnnRRLNrgEuHz1bgva3qkSRN1/KM4ApgT1V9paqeBf4YuH6izfXA7TVyD7AuyYUNa5IkTTi74XdvAB4fm98LvGKGNhuA/eONkmxldMYAcCjJl4+zpvXAV49z2xOS31hx9cLqmsGpWpt1jVmlf4HH61idknXlN06orkuWW9EyCDJlWR1HG6pqO7D9hAtKdlbV5hP9npPtVK0LTt3arOvYWNex6a2ulpeG9gIXj81fBOw7jjaSpIZaBsEXgEuTvDDJ84AbgDsn2twJvHl4euhK4Kmq2j/5RZKkdppdGqqqw0l+AfgLYA3w/qp6JMlbhvXbgB3AtcAe4Gngxlb1DE748lIjp2pdcOrWZl3HxrqOTVd1peqoS/KSpI74ZrEkdc4gkKTOnRFBkOTiJJ9O8miSR5K8fUqbZYezWG0ojMZ1/cxQz4NJPp/kZWPrHkvyUJLdSXbOua4tSZ4a9r07yS1j6xZ5vP7jWE0PJ3kuyXcO61odr3OS3JfkgaGuX5vSZhH9a5a6FtG/ZqlrEf1rlrrm3r/G9r0myd8l+eSUdW37V1Wd9h/gQuDyYfp84L8DL5pocy1wF6N3F64E7h2WrwH+J/A9wPOABya3bVzXDwPfMUxfc6SuYf4xYP2CjtcW4JNTtl3o8Zpo/1rgr+ZwvAK8YJheC9wLXHkK9K9Z6lpE/5qlrkX0r1XrWkT/Gvv+XwQ+tMxxadq/zogzgqraX1W7humvA48yekN53HLDWcwyFEazuqrq81X1f4fZexi9S9HUjMdrOQs9XhPeCHz4ZOx7lbqqqg4Ns2uHz+RTFovoX6vWtaD+NcvxWs5Cj9eEufQvgCQXAa8Bfm+ZJk371xkRBOOSbAIuY5T245YbzmK55fOqa9y/Y5T6RxTwl0nuz2iYjZNulbpeOZxG35XkxcOyU+J4JTkPuBr42NjiZsdrOG3fDTwB3F1Vp0T/mqGucXPrXzPWNff+Nevxmnf/At4N/Cfgn5ZZ37R/tRxiYu6SvIDRv7h3VNXBydVTNqkVls+rriNtXsXoL+qPjC2+qqr2Jflu4O4kX6qqz8yprl3AJVV1KMm1wB2MRok9JY4Xo9P2v62qr40ta3a8quo54AeTrAM+keQlVfXweNnTNlth+UkxQ12j4ubcv2aoayH9a9bjxRz7V5LrgCeq6v4kW5ZrNmXZSetfZ8wZQZK1jP7j8cGq+viUJssNZ9F0mIsZ6iLJSxmdEl5fVU8eWV5V+4Y/nwA+weg0cC51VdXBI6fRVbUDWJtkPafA8RrcwMRpe8vjNbaPfwT+mtH/LY5bSP+aoa6F9K/V6lpU/1qtrjHz7F9XAa9L8hijSzuvTvJHE23a9q9Zbyacyh9GqXg78O4V2ryGb7/Zct+w/GzgK8AL+dbNlhfPsa6NjN6s/uGJ5c8Hzh+b/jxw9RzruoBvvXB4BfAPw3YLPV5Du38JfA14/pyO1xKwbpg+F/gscN0p0L9mqWsR/WuWuhbRv1ataxH9a2LfW5h+s7hp/zpTLg1dBbwJeGi4/gdwM6O/BNQKw1nUMkNhzLGuW4DvAn4nCcDhGo0u+K8YnbrC6F/2h6rqz+dY1xuAtyY5DDwD3FCjnrfo4wXweuAvq+obY9u2PF4XAn+Y0Y8tnQV8pKo+mRmGS2ncv2apaxH9a5a6FtG/ZqkL5t+/pppn/3KICUnq3Blzj0CSdHwMAknqnEEgSZ0zCCSpcwaBJHXOIJCkzhkEktS5/w8+c0rY/3ClDgAAAABJRU5ErkJggg==\n",
>>>>>>> e8e56c1076dfc8bf7e878bf6c4b339f98534e377
      "text/plain": [
       "<Figure size 432x288 with 1 Axes>"
      ]
     },
     "metadata": {
      "needs_background": "light"
     },
     "output_type": "display_data"
    }
   ],
   "source": [
    "print(\"\\n\\n\\033[1mChecking for Skewness:\\033[0m\\n\\n \")\n",
    "df5['comfort'].plot.hist()\n",
    "display(df5['comfort'].skew())"
   ]
<<<<<<< HEAD
  },
  {
   "cell_type": "code",
   "execution_count": 366,
   "metadata": {},
   "outputs": [],
   "source": [
    "#import statsmodels.api as sm\n",
    "#X=df1['sex']\n",
    "#Y=df1['avoid contact']\n",
    "#X = sm.add_constant(X)\n",
    "#model1=sm.OLS(Y,X)\n",
    "#result=model1.fit()\n",
    "#print(result.summary())"
   ]
  },
  {
   "cell_type": "markdown",
   "metadata": {},
   "source": [
    "# Performing Clustering to form groups "
   ]
  },
  {
   "cell_type": "markdown",
   "metadata": {},
   "source": [
    "## (i) Forming clusters by Gender, Marital Status and Preferred mode of working"
   ]
  },
  {
   "cell_type": "code",
   "execution_count": 367,
   "metadata": {},
   "outputs": [],
   "source": [
    "import numpy as np\n",
    "from kmodes.kmodes import KModes\n",
    "import matplotlib.pyplot as plt\n",
    "%matplotlib inline"
   ]
  },
  {
   "cell_type": "code",
   "execution_count": 368,
   "metadata": {},
   "outputs": [
    {
     "name": "stdout",
     "output_type": "stream",
     "text": [
      "<class 'pandas.core.frame.DataFrame'>\n",
      "RangeIndex: 103 entries, 0 to 102\n",
      "Data columns (total 3 columns):\n",
      " #   Column          Non-Null Count  Dtype \n",
      "---  ------          --------------  ----- \n",
      " 0   sex             103 non-null    object\n",
      " 1   marital status  103 non-null    object\n",
      " 2   preferred mode  103 non-null    object\n",
      "dtypes: object(3)\n",
      "memory usage: 2.5+ KB\n"
     ]
    },
    {
     "data": {
      "text/html": [
       "<div>\n",
       "<style scoped>\n",
       "    .dataframe tbody tr th:only-of-type {\n",
       "        vertical-align: middle;\n",
       "    }\n",
       "\n",
       "    .dataframe tbody tr th {\n",
       "        vertical-align: top;\n",
       "    }\n",
       "\n",
       "    .dataframe thead th {\n",
       "        text-align: right;\n",
       "    }\n",
       "</style>\n",
       "<table border=\"1\" class=\"dataframe\">\n",
       "  <thead>\n",
       "    <tr style=\"text-align: right;\">\n",
       "      <th></th>\n",
       "      <th>sex</th>\n",
       "      <th>marital status</th>\n",
       "      <th>preferred mode</th>\n",
       "    </tr>\n",
       "  </thead>\n",
       "  <tbody>\n",
       "    <tr>\n",
       "      <th>98</th>\n",
       "      <td>0</td>\n",
       "      <td>0</td>\n",
       "      <td>0</td>\n",
       "    </tr>\n",
       "    <tr>\n",
       "      <th>99</th>\n",
       "      <td>0</td>\n",
       "      <td>1</td>\n",
       "      <td>0</td>\n",
       "    </tr>\n",
       "    <tr>\n",
       "      <th>100</th>\n",
       "      <td>0</td>\n",
       "      <td>1</td>\n",
       "      <td>0</td>\n",
       "    </tr>\n",
       "    <tr>\n",
       "      <th>101</th>\n",
       "      <td>0</td>\n",
       "      <td>1</td>\n",
       "      <td>0</td>\n",
       "    </tr>\n",
       "    <tr>\n",
       "      <th>102</th>\n",
       "      <td>0</td>\n",
       "      <td>0</td>\n",
       "      <td>0</td>\n",
       "    </tr>\n",
       "  </tbody>\n",
       "</table>\n",
       "</div>"
      ],
      "text/plain": [
       "     sex  marital status  preferred mode\n",
       "98     0               0               0\n",
       "99     0               1               0\n",
       "100    0               1               0\n",
       "101    0               1               0\n",
       "102    0               0               0"
      ]
     },
     "metadata": {},
     "output_type": "display_data"
    },
    {
     "name": "stdout",
     "output_type": "stream",
     "text": [
      "<class 'pandas.core.frame.DataFrame'>\n",
      "RangeIndex: 103 entries, 0 to 102\n",
      "Data columns (total 3 columns):\n",
      " #   Column          Non-Null Count  Dtype\n",
      "---  ------          --------------  -----\n",
      " 0   sex             103 non-null    int32\n",
      " 1   marital status  103 non-null    int32\n",
      " 2   preferred mode  103 non-null    int32\n",
      "dtypes: int32(3)\n",
      "memory usage: 1.3 KB\n"
     ]
    }
   ],
   "source": [
    "cluster_data1=df1[['sex','marital status','preferred mode']]\n",
    "cluster_data1copy=cluster_data1\n",
    "cluster_data1.info()\n",
    "le = preprocessing.LabelEncoder()\n",
    "cluster_data1 = cluster_data1.apply(le.fit_transform)\n",
    "display(cluster_data1.tail())\n",
    "cluster_data1.info()"
   ]
  },
  {
   "cell_type": "markdown",
   "metadata": {},
   "source": [
    "#### Finding optimal no. of clusters"
   ]
  },
  {
   "cell_type": "code",
   "execution_count": 369,
   "metadata": {},
   "outputs": [
    {
     "name": "stdout",
     "output_type": "stream",
     "text": [
      "Init: initializing centroids\n",
      "Init: initializing clusters\n",
      "Starting iterations...\n",
      "Run 1, iteration: 1/100, moves: 0, cost: 134.0\n",
      "Init: initializing centroids\n",
      "Init: initializing clusters\n",
      "Starting iterations...\n",
      "Run 1, iteration: 1/100, moves: 0, cost: 86.0\n",
      "Init: initializing centroids\n",
      "Init: initializing clusters\n",
      "Starting iterations...\n",
      "Run 1, iteration: 1/100, moves: 0, cost: 70.0\n",
      "Init: initializing centroids\n",
      "Init: initializing clusters\n",
      "Starting iterations...\n",
      "Run 1, iteration: 1/100, moves: 17, cost: 34.0\n",
      "Run 1, iteration: 2/100, moves: 0, cost: 34.0\n",
      "Init: initializing centroids\n",
      "Init: initializing clusters\n",
      "Starting iterations...\n",
      "Run 1, iteration: 1/100, moves: 17, cost: 29.0\n",
      "Init: initializing centroids\n",
      "Init: initializing clusters\n",
      "Starting iterations...\n",
      "Run 1, iteration: 1/100, moves: 0, cost: 17.0\n",
      "Init: initializing centroids\n",
      "Init: initializing clusters\n",
      "Starting iterations...\n",
      "Run 1, iteration: 1/100, moves: 0, cost: 5.0\n",
      "Init: initializing centroids\n",
      "Init: initializing clusters\n",
      "Starting iterations...\n",
      "Run 1, iteration: 1/0, moves: 0, cost: 0.0\n",
      "Init: initializing centroids\n",
      "Init: initializing clusters\n",
      "Starting iterations...\n",
      "Run 1, iteration: 1/0, moves: 0, cost: 0.0\n"
     ]
    },
    {
     "data": {
      "image/png": "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\n",
      "text/plain": [
       "<Figure size 432x288 with 1 Axes>"
      ]
     },
     "metadata": {
      "needs_background": "light"
     },
     "output_type": "display_data"
    },
    {
     "name": "stdout",
     "output_type": "stream",
     "text": [
      "\u001b[1mThe optimal number of clusters will be 3\u001b[0m\n"
     ]
    }
   ],
   "source": [
    "cost = []\n",
    "K = range(1,10)\n",
    "for num_clusters in list(K):\n",
    "    kmode = KModes(n_clusters=num_clusters, init = \"Cao\", n_init = 1, verbose=1)\n",
    "    kmode.fit_predict(cluster_data1)\n",
    "    cost.append(kmode.cost_)\n",
    "    \n",
    "plt.plot(K, cost, 'bx-')\n",
    "plt.xlabel('k clusters')\n",
    "plt.ylabel('Cost')\n",
    "plt.title('Elbow Method For Optimal k')\n",
    "plt.show()\n",
    "print(\"\\033[1mThe optimal number of clusters will be 3\\033[0m\")"
   ]
  },
  {
   "cell_type": "code",
   "execution_count": 370,
   "metadata": {},
   "outputs": [
    {
     "name": "stdout",
     "output_type": "stream",
     "text": [
      "Init: initializing centroids\n",
      "Init: initializing clusters\n",
      "Starting iterations...\n",
      "Run 1, iteration: 1/100, moves: 0, cost: 70.0\n"
     ]
    },
    {
     "data": {
      "text/plain": [
       "array([2, 2, 0, 1, 0, 0, 2, 1, 1, 1, 2, 1, 1, 0, 1, 0, 0, 0, 1, 0, 0, 0,\n",
       "       1, 0, 2, 0, 1, 0, 0, 0, 0, 1, 2, 0, 0, 2, 1, 1, 1, 1, 0, 1, 2, 2,\n",
       "       0, 0, 0, 1, 0, 1, 0, 2, 1, 0, 0, 2, 0, 2, 0, 0, 1, 0, 1, 0, 1, 0,\n",
       "       0, 0, 0, 1, 1, 1, 1, 2, 1, 0, 0, 1, 0, 1, 1, 0, 1, 1, 1, 0, 2, 0,\n",
       "       0, 2, 0, 0, 1, 0, 2, 1, 0, 1, 1, 0, 0, 0, 1], dtype=uint16)"
      ]
     },
     "metadata": {},
     "output_type": "display_data"
    },
    {
     "data": {
      "text/plain": [
       "(103,)"
      ]
     },
     "execution_count": 370,
     "metadata": {},
     "output_type": "execute_result"
    }
   ],
   "source": [
    "km= KModes(n_clusters=3, init = \"Cao\", n_init = 1, verbose=1)\n",
    "cluster_labels1 = km.fit_predict(cluster_data1)\n",
    "display(cluster_labels1)\n",
    "cluster_labels1.shape\n"
   ]
  },
  {
   "cell_type": "markdown",
   "metadata": {},
   "source": [
    "## Studying the clusters and their corresponding representation"
   ]
  },
  {
   "cell_type": "markdown",
   "metadata": {},
   "source": [
    "#### DISPLAYING ORIGINAL DATASET"
   ]
  },
  {
   "cell_type": "code",
   "execution_count": 371,
   "metadata": {
    "scrolled": true
   },
   "outputs": [
    {
     "data": {
      "text/html": [
       "<div>\n",
       "<style scoped>\n",
       "    .dataframe tbody tr th:only-of-type {\n",
       "        vertical-align: middle;\n",
       "    }\n",
       "\n",
       "    .dataframe tbody tr th {\n",
       "        vertical-align: top;\n",
       "    }\n",
       "\n",
       "    .dataframe thead th {\n",
       "        text-align: right;\n",
       "    }\n",
       "</style>\n",
       "<table border=\"1\" class=\"dataframe\">\n",
       "  <thead>\n",
       "    <tr style=\"text-align: right;\">\n",
       "      <th></th>\n",
       "      <th>sex</th>\n",
       "      <th>marital status</th>\n",
       "      <th>preferred mode</th>\n",
       "    </tr>\n",
       "  </thead>\n",
       "  <tbody>\n",
       "    <tr>\n",
       "      <th>0</th>\n",
       "      <td>Male</td>\n",
       "      <td>Single</td>\n",
       "      <td>Remote Mode(Work From Home)</td>\n",
       "    </tr>\n",
       "    <tr>\n",
       "      <th>1</th>\n",
       "      <td>Male</td>\n",
       "      <td>Single</td>\n",
       "      <td>Remote Mode(Work From Home)</td>\n",
       "    </tr>\n",
       "    <tr>\n",
       "      <th>2</th>\n",
       "      <td>Male</td>\n",
       "      <td>Single</td>\n",
       "      <td>Physical Mode</td>\n",
       "    </tr>\n",
       "    <tr>\n",
       "      <th>3</th>\n",
       "      <td>Female</td>\n",
       "      <td>Single</td>\n",
       "      <td>Remote Mode(Work From Home)</td>\n",
       "    </tr>\n",
       "    <tr>\n",
       "      <th>4</th>\n",
       "      <td>Female</td>\n",
       "      <td>Single</td>\n",
       "      <td>Physical Mode</td>\n",
       "    </tr>\n",
       "    <tr>\n",
       "      <th>...</th>\n",
       "      <td>...</td>\n",
       "      <td>...</td>\n",
       "      <td>...</td>\n",
       "    </tr>\n",
       "    <tr>\n",
       "      <th>98</th>\n",
       "      <td>Female</td>\n",
       "      <td>Married</td>\n",
       "      <td>Physical Mode</td>\n",
       "    </tr>\n",
       "    <tr>\n",
       "      <th>99</th>\n",
       "      <td>Female</td>\n",
       "      <td>Single</td>\n",
       "      <td>Physical Mode</td>\n",
       "    </tr>\n",
       "    <tr>\n",
       "      <th>100</th>\n",
       "      <td>Female</td>\n",
       "      <td>Single</td>\n",
       "      <td>Physical Mode</td>\n",
       "    </tr>\n",
       "    <tr>\n",
       "      <th>101</th>\n",
       "      <td>Female</td>\n",
       "      <td>Single</td>\n",
       "      <td>Physical Mode</td>\n",
       "    </tr>\n",
       "    <tr>\n",
       "      <th>102</th>\n",
       "      <td>Female</td>\n",
       "      <td>Married</td>\n",
       "      <td>Physical Mode</td>\n",
       "    </tr>\n",
       "  </tbody>\n",
       "</table>\n",
       "<p>103 rows × 3 columns</p>\n",
       "</div>"
      ],
      "text/plain": [
       "        sex marital status               preferred mode\n",
       "0      Male         Single  Remote Mode(Work From Home)\n",
       "1      Male         Single  Remote Mode(Work From Home)\n",
       "2      Male         Single                Physical Mode\n",
       "3    Female         Single  Remote Mode(Work From Home)\n",
       "4    Female         Single                Physical Mode\n",
       "..      ...            ...                          ...\n",
       "98   Female        Married                Physical Mode\n",
       "99   Female         Single                Physical Mode\n",
       "100  Female         Single                Physical Mode\n",
       "101  Female         Single                Physical Mode\n",
       "102  Female        Married                Physical Mode\n",
       "\n",
       "[103 rows x 3 columns]"
      ]
     },
     "metadata": {},
     "output_type": "display_data"
    }
   ],
   "source": [
    "display(cluster_data1copy)"
   ]
  },
  {
   "cell_type": "markdown",
   "metadata": {},
   "source": [
    "#### DISPLAYING ENCODED DATASET"
   ]
  },
  {
   "cell_type": "code",
   "execution_count": 372,
   "metadata": {},
   "outputs": [
    {
     "data": {
      "text/html": [
       "<div>\n",
       "<style scoped>\n",
       "    .dataframe tbody tr th:only-of-type {\n",
       "        vertical-align: middle;\n",
       "    }\n",
       "\n",
       "    .dataframe tbody tr th {\n",
       "        vertical-align: top;\n",
       "    }\n",
       "\n",
       "    .dataframe thead th {\n",
       "        text-align: right;\n",
       "    }\n",
       "</style>\n",
       "<table border=\"1\" class=\"dataframe\">\n",
       "  <thead>\n",
       "    <tr style=\"text-align: right;\">\n",
       "      <th></th>\n",
       "      <th>sex</th>\n",
       "      <th>marital status</th>\n",
       "      <th>preferred mode</th>\n",
       "    </tr>\n",
       "  </thead>\n",
       "  <tbody>\n",
       "    <tr>\n",
       "      <th>0</th>\n",
       "      <td>1</td>\n",
       "      <td>1</td>\n",
       "      <td>1</td>\n",
       "    </tr>\n",
       "    <tr>\n",
       "      <th>1</th>\n",
       "      <td>1</td>\n",
       "      <td>1</td>\n",
       "      <td>1</td>\n",
       "    </tr>\n",
       "    <tr>\n",
       "      <th>2</th>\n",
       "      <td>1</td>\n",
       "      <td>1</td>\n",
       "      <td>0</td>\n",
       "    </tr>\n",
       "    <tr>\n",
       "      <th>3</th>\n",
       "      <td>0</td>\n",
       "      <td>1</td>\n",
       "      <td>1</td>\n",
       "    </tr>\n",
       "    <tr>\n",
       "      <th>4</th>\n",
       "      <td>0</td>\n",
       "      <td>1</td>\n",
       "      <td>0</td>\n",
       "    </tr>\n",
       "    <tr>\n",
       "      <th>...</th>\n",
       "      <td>...</td>\n",
       "      <td>...</td>\n",
       "      <td>...</td>\n",
       "    </tr>\n",
       "    <tr>\n",
       "      <th>98</th>\n",
       "      <td>0</td>\n",
       "      <td>0</td>\n",
       "      <td>0</td>\n",
       "    </tr>\n",
       "    <tr>\n",
       "      <th>99</th>\n",
       "      <td>0</td>\n",
       "      <td>1</td>\n",
       "      <td>0</td>\n",
       "    </tr>\n",
       "    <tr>\n",
       "      <th>100</th>\n",
       "      <td>0</td>\n",
       "      <td>1</td>\n",
       "      <td>0</td>\n",
       "    </tr>\n",
       "    <tr>\n",
       "      <th>101</th>\n",
       "      <td>0</td>\n",
       "      <td>1</td>\n",
       "      <td>0</td>\n",
       "    </tr>\n",
       "    <tr>\n",
       "      <th>102</th>\n",
       "      <td>0</td>\n",
       "      <td>0</td>\n",
       "      <td>0</td>\n",
       "    </tr>\n",
       "  </tbody>\n",
       "</table>\n",
       "<p>103 rows × 3 columns</p>\n",
       "</div>"
      ],
      "text/plain": [
       "     sex  marital status  preferred mode\n",
       "0      1               1               1\n",
       "1      1               1               1\n",
       "2      1               1               0\n",
       "3      0               1               1\n",
       "4      0               1               0\n",
       "..   ...             ...             ...\n",
       "98     0               0               0\n",
       "99     0               1               0\n",
       "100    0               1               0\n",
       "101    0               1               0\n",
       "102    0               0               0\n",
       "\n",
       "[103 rows x 3 columns]"
      ]
     },
     "metadata": {},
     "output_type": "display_data"
    }
   ],
   "source": [
    "display(cluster_data1)"
   ]
  },
  {
   "cell_type": "markdown",
   "metadata": {},
   "source": [
    "#### COMPARING THE ABOVE TWO DATASETS TO ANALYSE THE CLUSTERS"
   ]
  },
  {
   "cell_type": "code",
   "execution_count": 373,
   "metadata": {},
   "outputs": [
    {
     "name": "stdout",
     "output_type": "stream",
     "text": [
      "\u001b[1m Following are the cluster centroids \u001b[0m--\n"
     ]
    },
    {
     "data": {
      "text/plain": [
       "array([[1, 1, 0],\n",
       "       [0, 0, 1],\n",
       "       [1, 1, 1]])"
      ]
     },
     "metadata": {},
     "output_type": "display_data"
    },
    {
     "name": "stdout",
     "output_type": "stream",
     "text": [
      "\n",
      " \n",
      "Cluster 0 represents Males who are single and prefer physical mode of working\n",
      "\n",
      " \n",
      "Cluster 1 represents Females who are married and prefer remote mode of working\n",
      "\n",
      " \n",
      "Cluster 2 represents Males who are single and prefer remote mode of working\n"
     ]
    }
   ],
   "source": [
    "print(\"\\033[1m Following are the cluster centroids \\033[0m--\")\n",
    "centroids = km.cluster_centroids_\n",
    "display(centroids)\n",
    "print(\"\\n \\nCluster 0 represents Males who are single and prefer physical mode of working\")\n",
    "print(\"\\n \\nCluster 1 represents Females who are married and prefer remote mode of working\")\n",
    "print(\"\\n \\nCluster 2 represents Males who are single and prefer remote mode of working\")"
   ]
  },
  {
   "cell_type": "code",
   "execution_count": 374,
   "metadata": {},
   "outputs": [
    {
     "data": {
      "text/plain": [
       "0    47.572816\n",
       "1    36.893204\n",
       "2    15.533981\n",
       "Name: Clusters by Sex, Marital Status and preferred mode of working, dtype: float64"
      ]
     },
     "execution_count": 374,
     "metadata": {},
     "output_type": "execute_result"
    }
   ],
   "source": [
    "dfcluster=df1\n",
    "dfcluster['Clusters by Sex, Marital Status and preferred mode of working']=cluster_labels1\n",
    "dfcluster['Clusters by Sex, Marital Status and preferred mode of working'].value_counts(normalize= True)*100\n"
   ]
  },
  {
   "cell_type": "markdown",
   "metadata": {},
   "source": [
    "## (ii) Forming clusters by Gender, Marital Status and background noise"
   ]
  },
  {
   "cell_type": "code",
   "execution_count": 432,
   "metadata": {},
   "outputs": [
    {
     "name": "stdout",
     "output_type": "stream",
     "text": [
      "<class 'pandas.core.frame.DataFrame'>\n",
      "RangeIndex: 103 entries, 0 to 102\n",
      "Data columns (total 3 columns):\n",
      " #   Column             Non-Null Count  Dtype \n",
      "---  ------             --------------  ----- \n",
      " 0   sex                103 non-null    object\n",
      " 1   marital status     103 non-null    object\n",
      " 2   background noises  103 non-null    object\n",
      "dtypes: object(3)\n",
      "memory usage: 2.5+ KB\n"
     ]
    },
    {
     "data": {
      "text/html": [
       "<div>\n",
       "<style scoped>\n",
       "    .dataframe tbody tr th:only-of-type {\n",
       "        vertical-align: middle;\n",
       "    }\n",
       "\n",
       "    .dataframe tbody tr th {\n",
       "        vertical-align: top;\n",
       "    }\n",
       "\n",
       "    .dataframe thead th {\n",
       "        text-align: right;\n",
       "    }\n",
       "</style>\n",
       "<table border=\"1\" class=\"dataframe\">\n",
       "  <thead>\n",
       "    <tr style=\"text-align: right;\">\n",
       "      <th></th>\n",
       "      <th>sex</th>\n",
       "      <th>marital status</th>\n",
       "      <th>background noises</th>\n",
       "    </tr>\n",
       "  </thead>\n",
       "  <tbody>\n",
       "    <tr>\n",
       "      <th>0</th>\n",
       "      <td>1</td>\n",
       "      <td>1</td>\n",
       "      <td>0</td>\n",
       "    </tr>\n",
       "    <tr>\n",
       "      <th>1</th>\n",
       "      <td>1</td>\n",
       "      <td>1</td>\n",
       "      <td>0</td>\n",
       "    </tr>\n",
       "    <tr>\n",
       "      <th>2</th>\n",
       "      <td>1</td>\n",
       "      <td>1</td>\n",
       "      <td>0</td>\n",
       "    </tr>\n",
       "    <tr>\n",
       "      <th>3</th>\n",
       "      <td>0</td>\n",
       "      <td>1</td>\n",
       "      <td>2</td>\n",
       "    </tr>\n",
       "    <tr>\n",
       "      <th>4</th>\n",
       "      <td>0</td>\n",
       "      <td>1</td>\n",
       "      <td>2</td>\n",
       "    </tr>\n",
       "  </tbody>\n",
       "</table>\n",
       "</div>"
      ],
      "text/plain": [
       "   sex  marital status  background noises\n",
       "0    1               1                  0\n",
       "1    1               1                  0\n",
       "2    1               1                  0\n",
       "3    0               1                  2\n",
       "4    0               1                  2"
      ]
     },
     "metadata": {},
     "output_type": "display_data"
    },
    {
     "name": "stdout",
     "output_type": "stream",
     "text": [
      "<class 'pandas.core.frame.DataFrame'>\n",
      "RangeIndex: 103 entries, 0 to 102\n",
      "Data columns (total 3 columns):\n",
      " #   Column             Non-Null Count  Dtype\n",
      "---  ------             --------------  -----\n",
      " 0   sex                103 non-null    int32\n",
      " 1   marital status     103 non-null    int32\n",
      " 2   background noises  103 non-null    int32\n",
      "dtypes: int32(3)\n",
      "memory usage: 1.3 KB\n"
     ]
    }
   ],
   "source": [
    "cluster_data2=df1[['sex','marital status','background noises']]\n",
    "cluster_data2copy=cluster_data2\n",
    "cluster_data2.info()\n",
    "le2 = preprocessing.LabelEncoder()\n",
    "cluster_data2 = cluster_data2.apply(le2.fit_transform)\n",
    "display(cluster_data2.head())\n",
    "cluster_data2.info()"
   ]
  },
  {
   "cell_type": "markdown",
   "metadata": {},
   "source": [
    "#### Finding optimal no. of clusters"
   ]
  },
  {
   "cell_type": "code",
   "execution_count": 457,
   "metadata": {},
   "outputs": [
    {
     "name": "stdout",
     "output_type": "stream",
     "text": [
      "Init: initializing centroids\n",
      "Init: initializing clusters\n",
      "Starting iterations...\n",
      "Run 1, iteration: 1/100, moves: 0, cost: 130.0\n",
      "Init: initializing centroids\n",
      "Init: initializing clusters\n",
      "Starting iterations...\n",
      "Run 1, iteration: 1/100, moves: 0, cost: 98.0\n",
      "Init: initializing centroids\n",
      "Init: initializing clusters\n",
      "Starting iterations...\n",
      "Run 1, iteration: 1/100, moves: 0, cost: 86.0\n",
      "Init: initializing centroids\n",
      "Init: initializing clusters\n",
      "Starting iterations...\n",
      "Run 1, iteration: 1/100, moves: 0, cost: 80.0\n",
      "Init: initializing centroids\n",
      "Init: initializing clusters\n",
      "Starting iterations...\n",
      "Run 1, iteration: 1/100, moves: 0, cost: 57.0\n",
      "Init: initializing centroids\n",
      "Init: initializing clusters\n",
      "Starting iterations...\n",
      "Run 1, iteration: 1/100, moves: 16, cost: 34.0\n",
      "Run 1, iteration: 2/100, moves: 0, cost: 34.0\n",
      "Init: initializing centroids\n",
      "Init: initializing clusters\n",
      "Starting iterations...\n",
      "Run 1, iteration: 1/100, moves: 0, cost: 28.0\n",
      "Init: initializing centroids\n",
      "Init: initializing clusters\n",
      "Starting iterations...\n",
      "Run 1, iteration: 1/100, moves: 6, cost: 11.0\n",
      "Init: initializing centroids\n",
      "Init: initializing clusters\n",
      "Starting iterations...\n",
      "Run 1, iteration: 1/100, moves: 1, cost: 6.0\n"
     ]
    },
    {
     "data": {
      "image/png": "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\n",
      "text/plain": [
       "<Figure size 432x288 with 1 Axes>"
      ]
     },
     "metadata": {
      "needs_background": "light"
     },
     "output_type": "display_data"
    },
    {
     "name": "stdout",
     "output_type": "stream",
     "text": [
      "\u001b[1mThe optimal number of clusters will be 4\u001b[0m\n"
     ]
    }
   ],
   "source": [
    "cost = []\n",
    "K = range(1,10)\n",
    "for num_clusters in list(K):\n",
    "    kmode = KModes(n_clusters=num_clusters, init = \"Cao\", n_init = 1, verbose=1)\n",
    "    kmode.fit_predict(cluster_data2)\n",
    "    cost.append(kmode.cost_)\n",
    "    \n",
    "plt.plot(K, cost, 'bx-')\n",
    "plt.xlabel('k clusters')\n",
    "plt.ylabel('Cost')\n",
    "plt.title('Elbow Method For Optimal k')\n",
    "plt.show()\n",
    "print(\"\\033[1mThe optimal number of clusters will be 4\\033[0m\")"
   ]
  },
  {
   "cell_type": "code",
   "execution_count": 421,
   "metadata": {},
   "outputs": [
    {
     "name": "stdout",
     "output_type": "stream",
     "text": [
      "Init: initializing centroids\n",
      "Init: initializing clusters\n",
      "Starting iterations...\n",
      "Run 1, iteration: 1/100, moves: 17, cost: 34.0\n",
      "Run 1, iteration: 2/100, moves: 0, cost: 34.0\n"
     ]
    },
    {
     "data": {
      "text/plain": [
       "array([2, 2, 0, 1, 3, 0, 2, 0, 1, 1, 2, 1, 0, 0, 1, 0, 0, 3, 1, 0, 0, 0,\n",
       "       1, 0, 2, 0, 0, 0, 3, 3, 0, 0, 2, 3, 3, 2, 1, 0, 1, 1, 3, 0, 2, 2,\n",
       "       0, 0, 0, 0, 0, 1, 3, 2, 1, 3, 0, 2, 0, 2, 0, 0, 0, 0, 0, 0, 1, 0,\n",
       "       0, 0, 0, 0, 0, 0, 1, 2, 1, 3, 0, 1, 3, 1, 0, 3, 1, 1, 1, 3, 2, 0,\n",
       "       0, 2, 3, 0, 1, 3, 2, 0, 0, 0, 0, 3, 3, 3, 0], dtype=uint16)"
      ]
     },
     "metadata": {},
     "output_type": "display_data"
    },
    {
     "data": {
      "text/plain": [
       "(103,)"
      ]
     },
     "execution_count": 421,
     "metadata": {},
     "output_type": "execute_result"
    }
   ],
   "source": [
    "km2= KModes(n_clusters=4, init = \"Cao\", n_init = 1, verbose=1)\n",
    "cluster_labels2 = km2.fit_predict(cluster_data1)\n",
    "display(cluster_labels2)\n",
    "cluster_labels2.shape"
   ]
  },
  {
   "cell_type": "markdown",
   "metadata": {},
   "source": [
    "#### DISPLAYING ORIGINAL DATASET"
   ]
  },
  {
   "cell_type": "code",
   "execution_count": 422,
   "metadata": {},
   "outputs": [
    {
     "data": {
      "text/html": [
       "<div>\n",
       "<style scoped>\n",
       "    .dataframe tbody tr th:only-of-type {\n",
       "        vertical-align: middle;\n",
       "    }\n",
       "\n",
       "    .dataframe tbody tr th {\n",
       "        vertical-align: top;\n",
       "    }\n",
       "\n",
       "    .dataframe thead th {\n",
       "        text-align: right;\n",
       "    }\n",
       "</style>\n",
       "<table border=\"1\" class=\"dataframe\">\n",
       "  <thead>\n",
       "    <tr style=\"text-align: right;\">\n",
       "      <th></th>\n",
       "      <th>sex</th>\n",
       "      <th>marital status</th>\n",
       "      <th>background noises</th>\n",
       "    </tr>\n",
       "  </thead>\n",
       "  <tbody>\n",
       "    <tr>\n",
       "      <th>0</th>\n",
       "      <td>Male</td>\n",
       "      <td>Single</td>\n",
       "      <td>No</td>\n",
       "    </tr>\n",
       "    <tr>\n",
       "      <th>1</th>\n",
       "      <td>Male</td>\n",
       "      <td>Single</td>\n",
       "      <td>No</td>\n",
       "    </tr>\n",
       "    <tr>\n",
       "      <th>2</th>\n",
       "      <td>Male</td>\n",
       "      <td>Single</td>\n",
       "      <td>No</td>\n",
       "    </tr>\n",
       "    <tr>\n",
       "      <th>3</th>\n",
       "      <td>Female</td>\n",
       "      <td>Single</td>\n",
       "      <td>Yes</td>\n",
       "    </tr>\n",
       "    <tr>\n",
       "      <th>4</th>\n",
       "      <td>Female</td>\n",
       "      <td>Single</td>\n",
       "      <td>Yes</td>\n",
       "    </tr>\n",
       "    <tr>\n",
       "      <th>...</th>\n",
       "      <td>...</td>\n",
       "      <td>...</td>\n",
       "      <td>...</td>\n",
       "    </tr>\n",
       "    <tr>\n",
       "      <th>98</th>\n",
       "      <td>Female</td>\n",
       "      <td>Married</td>\n",
       "      <td>Yes</td>\n",
       "    </tr>\n",
       "    <tr>\n",
       "      <th>99</th>\n",
       "      <td>Female</td>\n",
       "      <td>Single</td>\n",
       "      <td>Yes</td>\n",
       "    </tr>\n",
       "    <tr>\n",
       "      <th>100</th>\n",
       "      <td>Female</td>\n",
       "      <td>Single</td>\n",
       "      <td>Yes</td>\n",
       "    </tr>\n",
       "    <tr>\n",
       "      <th>101</th>\n",
       "      <td>Female</td>\n",
       "      <td>Single</td>\n",
       "      <td>The question doesn't apply to my situation</td>\n",
       "    </tr>\n",
       "    <tr>\n",
       "      <th>102</th>\n",
       "      <td>Female</td>\n",
       "      <td>Married</td>\n",
       "      <td>Yes</td>\n",
       "    </tr>\n",
       "  </tbody>\n",
       "</table>\n",
       "<p>103 rows × 3 columns</p>\n",
       "</div>"
      ],
      "text/plain": [
       "        sex marital status                           background noises\n",
       "0      Male         Single                                          No\n",
       "1      Male         Single                                          No\n",
       "2      Male         Single                                          No\n",
       "3    Female         Single                                         Yes\n",
       "4    Female         Single                                         Yes\n",
       "..      ...            ...                                         ...\n",
       "98   Female        Married                                         Yes\n",
       "99   Female         Single                                         Yes\n",
       "100  Female         Single                                         Yes\n",
       "101  Female         Single  The question doesn't apply to my situation\n",
       "102  Female        Married                                         Yes\n",
       "\n",
       "[103 rows x 3 columns]"
      ]
     },
     "metadata": {},
     "output_type": "display_data"
    }
   ],
   "source": [
    "display(cluster_data2copy)"
   ]
  },
  {
   "cell_type": "markdown",
   "metadata": {},
   "source": [
    "#### DISPLAYING ENCODED DATASET"
   ]
  },
  {
   "cell_type": "code",
   "execution_count": 423,
   "metadata": {},
   "outputs": [
    {
     "data": {
      "text/html": [
       "<div>\n",
       "<style scoped>\n",
       "    .dataframe tbody tr th:only-of-type {\n",
       "        vertical-align: middle;\n",
       "    }\n",
       "\n",
       "    .dataframe tbody tr th {\n",
       "        vertical-align: top;\n",
       "    }\n",
       "\n",
       "    .dataframe thead th {\n",
       "        text-align: right;\n",
       "    }\n",
       "</style>\n",
       "<table border=\"1\" class=\"dataframe\">\n",
       "  <thead>\n",
       "    <tr style=\"text-align: right;\">\n",
       "      <th></th>\n",
       "      <th>sex</th>\n",
       "      <th>marital status</th>\n",
       "      <th>background noises</th>\n",
       "    </tr>\n",
       "  </thead>\n",
       "  <tbody>\n",
       "    <tr>\n",
       "      <th>0</th>\n",
       "      <td>1</td>\n",
       "      <td>1</td>\n",
       "      <td>0</td>\n",
       "    </tr>\n",
       "    <tr>\n",
       "      <th>1</th>\n",
       "      <td>1</td>\n",
       "      <td>1</td>\n",
       "      <td>0</td>\n",
       "    </tr>\n",
       "    <tr>\n",
       "      <th>2</th>\n",
       "      <td>1</td>\n",
       "      <td>1</td>\n",
       "      <td>0</td>\n",
       "    </tr>\n",
       "    <tr>\n",
       "      <th>3</th>\n",
       "      <td>0</td>\n",
       "      <td>1</td>\n",
       "      <td>2</td>\n",
       "    </tr>\n",
       "    <tr>\n",
       "      <th>4</th>\n",
       "      <td>0</td>\n",
       "      <td>1</td>\n",
       "      <td>2</td>\n",
       "    </tr>\n",
       "    <tr>\n",
       "      <th>...</th>\n",
       "      <td>...</td>\n",
       "      <td>...</td>\n",
       "      <td>...</td>\n",
       "    </tr>\n",
       "    <tr>\n",
       "      <th>98</th>\n",
       "      <td>0</td>\n",
       "      <td>0</td>\n",
       "      <td>2</td>\n",
       "    </tr>\n",
       "    <tr>\n",
       "      <th>99</th>\n",
       "      <td>0</td>\n",
       "      <td>1</td>\n",
       "      <td>2</td>\n",
       "    </tr>\n",
       "    <tr>\n",
       "      <th>100</th>\n",
       "      <td>0</td>\n",
       "      <td>1</td>\n",
       "      <td>2</td>\n",
       "    </tr>\n",
       "    <tr>\n",
       "      <th>101</th>\n",
       "      <td>0</td>\n",
       "      <td>1</td>\n",
       "      <td>1</td>\n",
       "    </tr>\n",
       "    <tr>\n",
       "      <th>102</th>\n",
       "      <td>0</td>\n",
       "      <td>0</td>\n",
       "      <td>2</td>\n",
       "    </tr>\n",
       "  </tbody>\n",
       "</table>\n",
       "<p>103 rows × 3 columns</p>\n",
       "</div>"
      ],
      "text/plain": [
       "     sex  marital status  background noises\n",
       "0      1               1                  0\n",
       "1      1               1                  0\n",
       "2      1               1                  0\n",
       "3      0               1                  2\n",
       "4      0               1                  2\n",
       "..   ...             ...                ...\n",
       "98     0               0                  2\n",
       "99     0               1                  2\n",
       "100    0               1                  2\n",
       "101    0               1                  1\n",
       "102    0               0                  2\n",
       "\n",
       "[103 rows x 3 columns]"
      ]
     },
     "metadata": {},
     "output_type": "display_data"
    }
   ],
   "source": [
    "display(cluster_data2)"
   ]
  },
  {
   "cell_type": "code",
   "execution_count": 424,
   "metadata": {},
   "outputs": [
    {
     "name": "stdout",
     "output_type": "stream",
     "text": [
      "\u001b[1m Following are the cluster centroids \u001b[0m--\n"
     ]
    },
    {
     "data": {
      "text/plain": [
       "array([[1, 0, 0],\n",
       "       [0, 1, 1],\n",
       "       [1, 1, 1],\n",
       "       [0, 1, 0]])"
      ]
     },
     "metadata": {},
     "output_type": "display_data"
    },
    {
     "name": "stdout",
     "output_type": "stream",
     "text": [
      "\n",
      " \n",
      "Cluster 0 represents Males who are single and don't have to deal with background noises\n",
      "\n",
      " \n",
      "Cluster 1 represents Females who are married and have to deal with background noises\n",
      "\n",
      " \n",
      "Cluster 2 represents Males who are married and have to deal with background noises\n",
      "\n",
      " \n",
      "Cluster 3 represents Females who are married and don't have to deal with background noises\n"
     ]
    }
   ],
   "source": [
    "print(\"\\033[1m Following are the cluster centroids \\033[0m--\")\n",
    "centroids2 = km2.cluster_centroids_\n",
    "display(centroids2)\n",
    "print(\"\\n \\nCluster 0 represents Males who are single and don't have to deal with background noises\")\n",
    "print(\"\\n \\nCluster 1 represents Females who are married and have to deal with background noises\")\n",
    "print(\"\\n \\nCluster 2 represents Males who are married and have to deal with background noises\")\n",
    "print(\"\\n \\nCluster 3 represents Females who are married and don't have to deal with background noises\")"
   ]
  },
  {
   "cell_type": "code",
   "execution_count": 461,
   "metadata": {},
   "outputs": [
    {
     "data": {
      "text/plain": [
       "0    48\n",
       "1    21\n",
       "3    18\n",
       "2    16\n",
       "Name: Clusters by Sex, Marital Status and background noises, dtype: int64"
      ]
     },
     "execution_count": 461,
     "metadata": {},
     "output_type": "execute_result"
    }
   ],
   "source": [
    "dfcluster['Clusters by Sex, Marital Status and background noises']=cluster_labels2\n",
    "dfcluster['Clusters by Sex, Marital Status and background noises'].value_counts()"
   ]
  },
  {
   "cell_type": "markdown",
   "metadata": {},
   "source": []
  },
  {
   "cell_type": "markdown",
   "metadata": {},
   "source": [
    "## (ii) Forming clusters by Gender, Hr Policies and Better Policies"
   ]
  },
  {
   "cell_type": "code",
   "execution_count": 455,
   "metadata": {},
   "outputs": [
    {
     "name": "stdout",
     "output_type": "stream",
     "text": [
      "<class 'pandas.core.frame.DataFrame'>\n",
      "RangeIndex: 103 entries, 0 to 102\n",
      "Data columns (total 3 columns):\n",
      " #   Column           Non-Null Count  Dtype \n",
      "---  ------           --------------  ----- \n",
      " 0   sex              103 non-null    object\n",
      " 1   hr policies      103 non-null    object\n",
      " 2   better policies  103 non-null    object\n",
      "dtypes: object(3)\n",
      "memory usage: 2.5+ KB\n"
     ]
    },
    {
     "data": {
      "text/html": [
       "<div>\n",
       "<style scoped>\n",
       "    .dataframe tbody tr th:only-of-type {\n",
       "        vertical-align: middle;\n",
       "    }\n",
       "\n",
       "    .dataframe tbody tr th {\n",
       "        vertical-align: top;\n",
       "    }\n",
       "\n",
       "    .dataframe thead th {\n",
       "        text-align: right;\n",
       "    }\n",
       "</style>\n",
       "<table border=\"1\" class=\"dataframe\">\n",
       "  <thead>\n",
       "    <tr style=\"text-align: right;\">\n",
       "      <th></th>\n",
       "      <th>sex</th>\n",
       "      <th>hr policies</th>\n",
       "      <th>better policies</th>\n",
       "    </tr>\n",
       "  </thead>\n",
       "  <tbody>\n",
       "    <tr>\n",
       "      <th>0</th>\n",
       "      <td>1</td>\n",
       "      <td>2</td>\n",
       "      <td>1</td>\n",
       "    </tr>\n",
       "    <tr>\n",
       "      <th>1</th>\n",
       "      <td>1</td>\n",
       "      <td>1</td>\n",
       "      <td>1</td>\n",
       "    </tr>\n",
       "    <tr>\n",
       "      <th>2</th>\n",
       "      <td>1</td>\n",
       "      <td>2</td>\n",
       "      <td>0</td>\n",
       "    </tr>\n",
       "    <tr>\n",
       "      <th>3</th>\n",
       "      <td>0</td>\n",
       "      <td>0</td>\n",
       "      <td>0</td>\n",
       "    </tr>\n",
       "    <tr>\n",
       "      <th>4</th>\n",
       "      <td>0</td>\n",
       "      <td>1</td>\n",
       "      <td>1</td>\n",
       "    </tr>\n",
       "  </tbody>\n",
       "</table>\n",
       "</div>"
      ],
      "text/plain": [
       "   sex  hr policies  better policies\n",
       "0    1            2                1\n",
       "1    1            1                1\n",
       "2    1            2                0\n",
       "3    0            0                0\n",
       "4    0            1                1"
      ]
     },
     "metadata": {},
     "output_type": "display_data"
    },
    {
     "name": "stdout",
     "output_type": "stream",
     "text": [
      "<class 'pandas.core.frame.DataFrame'>\n",
      "RangeIndex: 103 entries, 0 to 102\n",
      "Data columns (total 3 columns):\n",
      " #   Column           Non-Null Count  Dtype\n",
      "---  ------           --------------  -----\n",
      " 0   sex              103 non-null    int32\n",
      " 1   hr policies      103 non-null    int32\n",
      " 2   better policies  103 non-null    int32\n",
      "dtypes: int32(3)\n",
      "memory usage: 1.3 KB\n"
     ]
    }
   ],
   "source": [
    "cluster_data3=df1[['sex','hr policies','better policies']]\n",
    "cluster_data3copy=cluster_data3\n",
    "cluster_data3.info()\n",
    "le3 = preprocessing.LabelEncoder()\n",
    "cluster_data3 = cluster_data3.apply(le3.fit_transform)\n",
    "display(cluster_data3.head())\n",
    "cluster_data3.info()"
   ]
  },
  {
   "cell_type": "markdown",
   "metadata": {},
   "source": [
    "#### Finding optimal no. of clusters"
   ]
  },
  {
   "cell_type": "code",
   "execution_count": 472,
   "metadata": {},
   "outputs": [
    {
     "name": "stdout",
     "output_type": "stream",
     "text": [
      "Init: initializing centroids\n",
      "Init: initializing clusters\n",
      "Starting iterations...\n",
      "Run 1, iteration: 1/100, moves: 0, cost: 145.0\n",
      "Init: initializing centroids\n",
      "Init: initializing clusters\n",
      "Starting iterations...\n",
      "Run 1, iteration: 1/100, moves: 19, cost: 91.0\n",
      "Init: initializing centroids\n",
      "Init: initializing clusters\n",
      "Starting iterations...\n",
      "Run 1, iteration: 1/100, moves: 13, cost: 73.0\n",
      "Init: initializing centroids\n",
      "Init: initializing clusters\n",
      "Starting iterations...\n",
      "Run 1, iteration: 1/100, moves: 13, cost: 62.0\n",
      "Init: initializing centroids\n",
      "Init: initializing clusters\n",
      "Starting iterations...\n",
      "Run 1, iteration: 1/100, moves: 13, cost: 50.0\n",
      "Init: initializing centroids\n",
      "Init: initializing clusters\n",
      "Starting iterations...\n",
      "Run 1, iteration: 1/100, moves: 18, cost: 31.0\n",
      "Init: initializing centroids\n",
      "Init: initializing clusters\n",
      "Starting iterations...\n",
      "Run 1, iteration: 1/100, moves: 13, cost: 26.0\n",
      "Init: initializing centroids\n",
      "Init: initializing clusters\n",
      "Starting iterations...\n",
      "Run 1, iteration: 1/100, moves: 7, cost: 20.0\n",
      "Init: initializing centroids\n",
      "Init: initializing clusters\n",
      "Starting iterations...\n",
      "Run 1, iteration: 1/100, moves: 3, cost: 8.0\n"
     ]
    },
    {
     "data": {
      "image/png": "iVBORw0KGgoAAAANSUhEUgAAAYUAAAEWCAYAAACJ0YulAAAAOXRFWHRTb2Z0d2FyZQBNYXRwbG90bGliIHZlcnNpb24zLjMuNCwgaHR0cHM6Ly9tYXRwbG90bGliLm9yZy8QVMy6AAAACXBIWXMAAAsTAAALEwEAmpwYAAAqpElEQVR4nO3dd5yU1d3+8c9Fs2ABERtgsAWjRBAXe0PEHsHEGEzsiSbGxJIYYuP5PTEWROMTYkvs2EVJhNgRUWMBXVBBxYANxYIosWJQ5Pv749y7O6zLsrvs7D27e71fr3nNzH1P+c6gc+05577PUURgZmYG0CbvAszMrHQ4FMzMrJJDwczMKjkUzMyskkPBzMwqORTMzKySQ8HqRNJRkh4vuB+SNs2zpsbSmJ9F0huS9myM18qbpJ9IerBIr/2IpJ8tY9//SrqpGO9ry+dQsErZD9oXkj4ruFyad11QGUoh6eJq24dk26+v4+ss88eo2CRdL+nLat/vjxrptVeSdL6kN7N/w9mSfidJdXx+z+x7bFexLSJujoi9GqM+az7aLf8h1sp8LyIeyruIZXgV+JGkYRGxONt2BDArx5rqa2REnNXQJ0tqV/DZC90BrAfsB7wMlAE3Aj2AExv6ftb6uKVgK2I/Sa9J+kDShZLaAEhqI+ksSXMkvS/pBklrZvtGS/ptdrtb9tfpL7P7m0paUMtft+8BM4C9s8evBewIjC98kKTtJT0p6SNJz0vaPdt+LrALcGkNraA9s7+u/yPpsooaavss2f7Ds30fSjqzoV+kpGMlvZJ9/vGSNijYF5JOkDQbmF3DcwcCewE/iIgXImJxREwGDgNOqOgay1pJ50t6WtLHksZl3yHAY9n1R9l3s8Myugx/mX1Pn0r6o6RNJD0l6RNJYyR1yB7bWdLdkuZn3+ndkro34HtpL+lWSWMrXtuKy6FgK+Ig0l+k/YDBwDHZ9qOyywBgY2A1oOIH+FFg9+z2bsBr2TXArsC/ova5V24gtQ4AhgLjgEUVOyV1A+4BzgHWAk4FxkrqGhFnAv8CfhURq0XErwpe9wCgP9AHOIQseGr7LJK2AK4ADgc2ALoADfnh2wM4P3vf9YE5wG3VHjYE2A7YooaXGARMiYi3CjdGxBRgLjCwYPMRpH+nDYDFwF+y7btm152y7+apZZS7D7ANsD0wDLgS+AmpRdIbODR7XBvgOuBbwIbAF1T9N1AnklYB7iL9+x4SEV/W5/nWMA4Fq+6u7C/sisuxtTz2gohYEBFvAn+m6gfhJ8DFEfFaRHwGnA4MzfqrHwV2yVoVuwIjgZ2y5+2W7a/NP4Dds7/WjyCFRKHDgHsj4t6IWBIRE4ByUrdKbUZExEfZZ5kE9K3DZzkYuDsiHouIRcBwYMly3ufUgu/2g4L3uDYipmWvczqwg6SeBc87P/uuv6jhNdcG3l3G+72b7a9wY9aa+Dyr9xBJbZdTc6ELIuKTiHgReAF4MPtuPgbuA7YGiIgPI2JsRCyMiE+Bc6kK/7pYA7if1GV4dER8XY/n2gpwKFh1QyKiU8HlqloeW/iX6RzSX59k13Oq7WsHrBsRrwKfkX50dwHuBt6R1Is6hEL2o3gPcBawdkQ8Ue0h3wJ+WBhswM6kv8Br817B7YWkFkGtnyXbV/kdZD+0Hy7nfS4q+G4rfqyXeo8sfD4EuhU8b6lWQDUfsOzPt362v6bXmQO0Z+nQWJ55Bbe/qOH+agCSVpX0t6xr7RNS91SnegTQ9sBWpLD2rJ1NyKFgK6JHwe0NgXey2++QfpwL9y2m6gfkUdJf2R0i4u3s/hFAZ+C5OrzvDcBvSQOp1b1F+mu4MNg6RsSIbH99f2Bq+yzvUvAdSFqV1IVUX0u9h6SO2eu8XfCY2up+CNhOUuG/B5K2zep7uGBz9X+zr0ih0dg/vL8FegHbRcQaVHVP1eloKOBBUpfaREnrNnJtVguHgq2I32UDij2Ak4Dbs+23AqdI2kjSasB5wO0FR808CvyKqsHNR4BfA4/XsZvgUVI/+iU17LsJ+J6kvSW1lbSypN0LBjnnkcYG6qq2z3IncICknbNB0LNp2P9TtwBHS+oraaXsPaZExBt1eXJ2tNhE0tjJltnn3h64GbgiIgoHpw+TtEUWYGcDd2bf+XxS11d9vpvarE5qOXyUDWb/v/q+QESMJH03EyXVpzVjK8ChYNX9U0sfR/+PWh47DphK+uv+HuCabPu1pL/iHwNeB/5L+tGv8CjpR6MiFB4HVi24X6tIJkbEghr2vUUa9D6D9EP3FvA7qv5bHwUcnB0R85fqz6/BMj9L1q9+AumH613gP6SB3XqJiImk/v2x2etsQhpEr48fkMZC7id1z91E+vf4dbXH3QhcT+ouW5nscNWIWEjq938i63bbvr6fo5o/A6uQWiGTs7rqLSL+SBpsfqjgSCkrIrm7zqx1kPQIcFNEXJ13LVa63FIwM7NKDgUzM6vk7iMzM6vkloKZmVVq1hPirb322tGzZ8+8yzAza1amTp36QUR0rWlfsw6Fnj17Ul5enncZZmbNiqQ5y9rn7iMzM6vkUDAzs0oOBTMzq+RQMDOzSg4FMzOr1OpCYeRImDRp6W2TJqXtZmatXasLhf794ZBDqoJh0qR0v3//fOsyMysFrS4UBgyAK66A/feH3/0uBcKYMWm7mVlr1+pCAaBXL/jiC7joIjj+eAeCmVmFVhkKH3wAHTrASivB5Zd/c4zBzKy1anWhUDGG8Je/wKJFMGTI0mMMZmatWasLhWeeSWMIP/857Lcf3HUXjB6dtpuZtXZFCwVJ10p6X9ILNew7VVIULsYt6XRJr0j6t6S9i1XXsGFVYwjDh8OHH8JLL6XtZmatXTFbCtcD+1TfKKkHMAh4s2DbFqSFyrfMnnO5pLZFrA2A7beHPfdMA85ffFHsdzMzK31FC4WIeAxYUMOu/wOGAYVLvg0GbouIRRHxOvAKsG2xais0fDjMmwdXXdUU72ZmVtqadExB0oHA2xHxfLVd3YC3Cu7PzbbV9BrHSSqXVD5//vwVrmnXXdNl5Mg08Gxm1po1WShIWhU4E/ifmnbXsK3GxaMj4sqIKIuIsq5da1w4qN6GD4e334brrmuUlzMza7aasqWwCbAR8LykN4DuwDRJ65FaBj0KHtsdeKepChs4MI0vjBgBX33VVO9qZlZ6miwUImJGRKwTET0joicpCPpFxHvAeGCopJUkbQRsBjzdVLVJqbUwZw7ceGNTvauZWekp5iGptwJPAb0kzZX002U9NiJeBMYALwH3AydExNfFqq0m++4L22wD550Hixc35TubmZWOYh59dGhErB8R7SOie0RcU21/z4j4oOD+uRGxSUT0ioj7ilXXskhw1lnw6qtw221N/e5mZqWh1Z3RXJsDD4TvfhfOPRe+btJ2iplZaXAoFGjTJrUWXn4Zxo7Nuxozs6bnUKjmBz+AzTeHc86BJUvyrsbMrGk5FKpp2xbOPBNmzIDx4/OuxsysaTkUajB0KGyyCfzxjxA1nkJnZtYyORRq0K4dnHEGTJsG9zX5cVBmZvlxKCzD4YfDt77l1oKZtS4OhWVo3x5OOw0mT4aJE/OuxsysaTgUanH00dCtW2otmJm1Bg6FWqy0UlqR7bHH0sXMrKVzKCzHscfCuuu6tWBmrYNDYTlWWQVOPRUeeiiNL5iZtWQOhTr4xS+gSxe3Fsys5XMo1MFqq8FvfgP33gtTp+ZdjZlZ8TgU6uhXv4JOndKcSGZmLZVDoY7WWANOOgnuugumT8+7GjOz4nAo1MNJJ8Hqq7u1YGYtl0OhHjp3Tt1Id94JM2fmXY2ZWeNzKNTTKaekw1TPPTfvSszMGp9DoZ66doXjj4dbb4XZs/OuxsyscRUtFCRdK+l9SS8UbLtQ0suSpkv6h6ROBftOl/SKpH9L2rtYdTWGU0+FDh3g/PPzrsTMrHEVs6VwPbBPtW0TgN4RsRUwCzgdQNIWwFBgy+w5l0tqW8TaVsh666XpL268Ed54I+9qzMwaT9FCISIeAxZU2/ZgRCzO7k4Gume3BwO3RcSiiHgdeAXYtli1NYZhw6BNGxgxIu9KzMwaT55jCscAFeuadQPeKtg3N9v2DZKOk1QuqXz+/PlFLnHZundPU2tfdx3MnZtbGWZmjSqXUJB0JrAYuLliUw0Pq3G9s4i4MiLKIqKsa9euxSqxTk47DZYsgZEjcy3DzKzRNHkoSDoSOAD4SUTlQpdzgR4FD+sOvNPUtdVXz55p2c6rroL33su7GjOzFdekoSBpH+D3wIERsbBg13hgqKSVJG0EbAY83ZS1NdQZZ8CXX8JFF+VdiZnZiivmIam3Ak8BvSTNlfRT4FJgdWCCpOck/RUgIl4ExgAvAfcDJ0TE18WqrTFtuikceihccQXkOMRhZtYoVNWD0/yUlZVFeXl53mUwcyZsuWUaYzjvvLyrMTOrnaSpEVFW0z6f0dwIvvMdOPhguPRSWLBg+Y83MytVDoVGctZZ8Omn8Je/5F2JmVnDORQayVZbweDBMGoUfPJJ3tWYmTWMQ6ERDR8OH32UupHMzJojh0Ij2mYb2HdfuPhi+OyzvKsxM6s/h0IjGz4cPvwQ/vrXvCsxM6s/h0Ij22EHGDgwncz2xRd5V2NmVj8OhSIYPhzmzUvTX5iZNScOhSLYbTfYZZc0Ud6iRXlXY2ZWdw6FIhk+HN5+O02tbWbWXDgUimTPPWG77dIiPF99lXc1ZmZ141AoEim1FubMSct2mpk1Bw6FItpvP+jXL02St3jx8h9vZpY3h0IRSWlOpFdfhdtuy7saM7PlcygU2eDB0Ls3nHsufN0sVogws9bMoVBkbdqk1sLLL8PYsXlXY2ZWO4dCEzj4YOjVC845B5YsybsaM7Nlcyg0gbZt4cwzYcYMGD8+72rMzJbNodBEDj0UNtkE/vhHaMYroJpZC+dQaCLt2sHpp8O0aXDffXlXY2ZWs6KFgqRrJb0v6YWCbWtJmiBpdnbduWDf6ZJekfRvSXsXq648HX44bLihWwtmVrqK2VK4Htin2rbTgIkRsRkwMbuPpC2AocCW2XMul9S2iLXlokMHOO00mDwZJk7Muxozs28qWihExGPAgmqbBwOjs9ujgSEF22+LiEUR8TrwCrBtsWrL09FHwwYbpNaCmVmpaeoxhXUj4l2A7HqdbHs34K2Cx83Ntn2DpOMklUsqnz9/flGLLYaVV4Zhw+Cxx9LFzKyUlMpAs2rYVmOve0RcGRFlEVHWtWvXIpdVHMceC+us49aCmZWepg6FeZLWB8iu38+2zwV6FDyuO/BOE9fWZFZdFU49FR56KI0vmJmViqYOhfHAkdntI4FxBduHSlpJ0kbAZsDTTVxbkzr+eOjSxa0FMystxTwk9VbgKaCXpLmSfgqMAAZJmg0Myu4TES8CY4CXgPuBEyKiRU8ft9pqcMopcO+9MHVq3tWYmSWKZnzAfFlZWZSXl+ddRoN9/DH07Am77w7/+Efe1ZhZayFpakSU1bSvVAaaW6U114QTT4S77oLp0/OuxszMoZC7k05KXUnnnpt3JWZmDoXcrbUW/OpXcMcdMHNm3tWYWWvnUCgBv/kNrLJKWsvZzCxPDoUS0LUrbLMN3HwzvPJK1fZJk2DkyPzqMrPWx6FQIk48Mc2ceuKJ6f6kSXDIIdC/f751mVnr4lAoEQcfDEOGpLUWfv7zFAhjxsCAAXlXZmatiUOhhFx6aZoC48orYeutYbfd8q7IzFobh0IJmTUrzaL67W/DhAkpGF57Le+qzKw1cSiUiIoxhDvvhJdfht//HmbMgC23TC2HZnziuZk1Iw6FEvHMM1VjCBKMGAG33ALdu6cxhv33h3da7LyxZlYqHAolYtiwbw4qDx0K//43XHIJPPII9O6dgsKtBjMrFodCiWvTJp3x/Nxz0KsX/OQnqZvpgw/yrszMWiKHQjPx7W/D44/D+efDuHGp1fDPf+ZdlZm1NA6FZqRtWzjtNCgvh/XWgwMPhKOPTlNwm5k1BodCM7TVVvD003DmmXDDDen+ww/nXZWZtQQOhWaqQwc45xx48sl0bsPAgWmKjIUL867MzJozh0Izt9128OyzKRAuuQT69oXJk/OuysyaK4dCC7DqqjBqVOpCWrQIdtoJzjgj3TYzqw+HQgsyYEA6C/qoo9JRSttuC88/n3dVZtac1CkUJN1Yl211JekUSS9KekHSrZJWlrSWpAmSZmfXnRv6+q3ZGmvANdfA+PEwb16aevu882Dx4rwrM7PmoK4thS0L70hqC2zTkDeU1A04ESiLiN5AW2AocBowMSI2AyZm962Bvvc9ePFFOOigdJTSLrukCffMzGpTayhIOl3Sp8BWkj7JLp8C7wPjVuB92wGrSGoHrAq8AwwGRmf7RwNDVuD1DejSBW6/HW69NU2X0bdvGoxesiTvysysVNUaChFxfkSsDlwYEWtkl9UjoktEnN6QN4yIt4GLgDeBd4GPI+JBYN2IeDd7zLvAOjU9X9Jxksollc+fP78hJbQ6Q4fCCy/A7runo5QGDYI5c/KuysxKUV27j+6W1BFA0mGSLpb0rYa8YTZWMBjYCNgA6CjpsLo+PyKujIiyiCjr2rVrQ0polTbYAO65B666Kp349t3vwnXXeXI9M1taXUPhCmChpD7AMGAOcEMD33NP4PWImB8RXwF/B3YE5klaHyC7fr+Br2/LIMHPfgbTp0O/fnDMMTB4MLz3Xt6VmVmpqGsoLI6IIP2FPyoiRgGrN/A93wS2l7SqJAEDgZnAeODI7DFHsmJjFlaLjTZK5zRcfDE8+GCaXO+OO/KuysxKQV1D4VNJpwOHA/dkRx+1b8gbRsQU4E5gGjAjq+FKYAQwSNJsYFB234qkTRs45ZR0NvTGG6fpuH/8Y1iwIO/KzCxPijp0KktaD/gx8ExE/EvShsDuEdHQLqRGUVZWFuXl5XmW0CIsXpxOdjv7bOjaNZ3nsO++eVdlZsUiaWpElNW0r04thYh4D7gZWFPSAcB/8w4Eazzt2sHw4TBlCqy1Fuy3Hxx3HHz6ad6VmVlTq+sZzYcATwM/BA4Bpkg6uJiFWdPr1w+mTk1Lg159NfTpA7/4BUyatPTjJk2CkSPzqdHMiquuYwpnAv0j4siIOALYFhhevLIsLyutBBdcAP/6Vxp3+NvfYP/94f770/5Jk9L4Q//++dZpZsVR11BoExGFh4h+WI/nWjO0005pXehf/hK++AIOOAB++MMUCGPGpMn3zKzlqesP+/2SHpB0lKSjgHuAe4tXlpWC1VaDyy6DBx6A1VeHO+9M03E//rjPbTBrqZY399GmknaKiN8BfwO2AvoAT5EOI7VWoH37NBh9yCHw3//C//wPbLghHHpoCgifFW3WciyvpfBn4FOAiPh7RPwmIk4htRL+XNzSrBRUjCGMGZMm13vgAejcOZ0Jff/9afbVvn3T2MNnn+VdrZmtqOWFQs+ImF59Y0SUAz2LUpGVlGeeWXoMYcAAGDs2DTS//XaaS6lNm3SUUrduacK9l1/Ot2Yza7haT16T9EpEbFrffU3FJ6+Vhoi0LvRll6XpMr78EgYOhBNOSOs6tGuXd4VmVmhFTl57RtKxNbzgT4GpjVGcNX8S7LAD3HQTvPUWnHtuWtDn+99P8yydc05aBc7MSt/yWgrrAv8AvqQqBMqADsBB2ZnOuXFLoXQtXpym6r7sMpgwIQ1WH3xwaj3suGMKEjPLR20thbrOfTQA6J3dfTEiHm7E+hrModA8zJoFl18O118PH3+czpT+5S/hJz+Bjh3zrs6s9VnhUChVDoXm5fPP4ZZbUuvh+edhzTXhqKPg+OOhV6+8qzNrPVZ4QjyzxtCxIxx7bJqu+/HH0/QZl18Om2+elgi9667U7WRm+XEoWJOT0jQaN9+cBqbPOScdxnrQQWlth/POg/e97p5ZLhwKlqt114Uzz4TXX4e//z11I515JnTvnsYcnnzSZ0ybNSWHgpWEdu1SS2HCBJg5M40z3H13alH065dOkvv887yrNGv5HApWcjbfHEaNSmdM//Wv8PXXadGfbt3SEqKzZqX1HLzOg1njcyhYyVptNfj5z9ORSv/6V1oi9NJLUxfTmDEwZAg89FB6rNd5MGscDgUreRLsvDPcemsamD777DR19yefwN57pyOXfvhDr/Ng1hhyCQVJnSTdKellSTMl7SBpLUkTJM3OrjvnUZuVtvXWS+tJv/FGmpivR4/UWvj0U7j3Xpg7N+8KzZq3vFoKo4D7I2Jz0voMM4HTgIkRsRkwMbtvVqN27dIU3p9/Dj/9aWpNXHxxmmvpiCNg+jfm9jWzumjyUJC0BrArcA1ARHwZER8Bg4HR2cNGA0OaujZrPgrXebj6arjvPujUCQ48MB3a2qdP6lp66CEf0mpWH3m0FDYG5gPXSXpW0tWSOgLrRsS7ANn1OjU9WdJxksollc+fP7/pqraSUtM6D3feCdttB2++mU6Amz49jTf065dOlPvqq3xrNmsOmnzuI0llwGRgp4iYImkU8Anw64joVPC4/0REreMKnvvIarNoUQqDiy5K5z706AEnnww/+xmssUbe1Znlp9TmPpoLzI2IKdn9O4F+wDxJ6wNk157owFbISivBMcfACy+kE+E23hh++9u0vvTvf5/OgzCzpTV5KGRrMLwlqWJezIHAS8B44Mhs25HAuKauzVqmNm3S5HuPPAJPP53GGi66KA1KH3UUzJiRd4VmpSOvo49+DdwsaTrQFzgPGAEMkjQbGJTdN2tU/fvD7bfDK6+kdaXvuAO22iqdGDdxogelzbyegrVqH36YptK45JK0ZOjWW8Opp6aT4dq3z7s6s+IotTEFs5LRpUualfWNN9KkewsXptlZN90U/u//0klxZq2JQ8EMWHnldFTSSy/B+PHQsyf85jfpiKXTToN33sm7QrOm4VAwK9CmDXzve/DoozB5cjrP4cILU0gccwy8+GLeFZoVl0PBbBm22y4NRM+alWZrve026N0b9tsvnVHdjIfjzJbJoWC2HJtskgaiK2ZoLS+HPfZIRzLddpvXlbaWxaFgVkdduqQZWufMgb/9LQ1CH3poGpQeNQo++8yL/1jz51Awq6dVVkkrwc2cCXfdVTV9Ro8eaUGggw+uCgYv/mPNjUPBrIHatIHBg9OqcE89BQMHpoWAPvkkjTucdFLVTK5e/MeaC4eCWSPYfvs0S+usWakVsXgx/OUvsNtuDgRrXhwKZo1o001T99Hqq8MGG6TV4fbbLy0GZNYcOBTMGlHFGMLYseks6R//OC0AtPnmMG1a3tWZLZ9DwawRFS7+0759Ws/hT39K4wzbb59uL1mSd5Vmy+YJ8cyawIcfpmk07roL9toLRo+G9dbLuyprrTwhnlnOunRJa0f/9a/paKWttoJ77sm7KrNvciiYNREpTZdRXg7rrw8HHJAOW/3vf/OuzKyKQ8GsiW2xBUyZAieemA5b3XbbNDurWSlwKJjlYOWV09QYd98N770H22yTupaa8RCftRAOBbMc7b8/TJ8Ou+4Kxx8P3/9+GpQ2y4tDwSxn662XzmX405/S4HOfPt+cVM+sqTgUzEpAmzZppbfJk6FjxzSP0hlnwFdf5V2ZtTa5hYKktpKelXR3dn8tSRMkzc6uO+dVm1le+vVLZz4fcwycfz7svDO8+mreVVlrkmdL4SRgZsH904CJEbEZMDG7b9bqdOwIV1+dzoyeNQv69oUbb8y7KmstcgkFSd2B/YGrCzYPBkZnt0cDQ5q4LLOS8sMfpvUZ+vaFI46Aww5L02WYFVNeLYU/A8OAwllg1o2IdwGy63VqeqKk4ySVSyqfP39+0Qs1y9OGG6ZB57PPTkt/9u2bxh3MiqXJQ0HSAcD7ETG1Ic+PiCsjoiwiyrp27drI1ZmVnnbt0jKgjz2WJtPbeWc491z4+uu8K7OWKI+Wwk7AgZLeAG4D9pB0EzBP0voA2fX7OdRmVrJ23BGeey51K511VjpC6a238q7KWpomD4WIOD0iukdET2Ao8HBEHAaMB47MHnYkMK6pazMrdZ06wS23wHXXpTmU+vRJE+2ZNZZSOk9hBDBI0mxgUHbfzKqR4Kij4NlnYZNN4Ac/SBPtLVyYd2XWEuQaChHxSEQckN3+MCIGRsRm2fWCPGszK3WbbQZPPAHDhsGVV6b5k55/Pu+qrLkrpZaCmdVThw5wwQUwYQJ8/HGacXXUKE+sZw3nUDBrAfbcM7US9t4bTj45TbQ3b17eVVlz5FAwayG6doVx4+DSS+Hhh9Mg9AMP5F2VNTcOBbMWRIITTkhHJq29NuyzD/z2t7BoUd6VWXPhUDBrgXr3hmeeSQFx8cWw0UYwevTSj5k0CUaOzKc+K10OBbMWapVVUlfSuHHw+efpMNZTT02D0JMmwSGHQP/+eVdppcahYNbCHXggzJwJW2+dFvJZY400IL3XXmmVt1deSdNnmAEomvGxa2VlZVFeXp53GWbNwpIlMGQI/POfaVB6wYKq+ZNWXz0NTG+9dZp0b+utYcst0yGv1vJImhoRZTXta9fUxZhZPh59FJ56Kk2ud8UVaenPLl3SfErPPpuur702dTUBtG8PW2yxdFD06QNrrpnjh7CicyiYtQIVYwhjxsCAAelScf9nP6t63Ndfp5Xenn22KijuvReuv77qMRtvXBUSFYGxwQbpyCdr/tx9ZNYKjByZBpUHDKjaNmlSOkJp2LDanxsB771XFRIV16+8UvWYrl2rgqLierPNoG3bxv8stuJq6z5yKJhZg3zyCUyfvnRYvPACfPVV2r/qqrDVVksHRe/e6aioCisSVtZwHlMws0a3xhppwZ+dd67a9uWX6UinwqC4+eY0hgGp5bD55lUh0bZtWh/ijjtSMBR2c1k+HApm1mg6dEiD0X36VG2LgNdfX7rr6ZFHUlhU2HNP+Pa306JBI0fCTjs1ceFWyd1HZpaL+fNTQDz3XDrb+sUXq/atvDKUlaVw2HFH2GGHNG5hjaO27iOfvGZmuejaFQYNSj/+8+alQ2XXWgv+93/hl7+ExYvTFB2DB8M660CvXnD00XDVVSlAfMJdcbj7yMxyU9uhsn/6E3zxBUydCk8+mS533111eGynTqkFseOO6bLttrDaanl+mpbBoWBmuXnmmapAgHQ9ZkzaPmBAOlKpcDA7Ih0KWxESTzwB992X9rVtm8YyKkJip52gRw+fP1FfHlMws2btP/+BKVOqQmLKlKqzsrt1Wzok+vZNZ2q3diV1noKkHsANwHrAEuDKiBglaS3gdqAn8AZwSET8p7bXciiYWXWLF8OMGVUh8eSTMGdO2rfKKum8iIqQ2GGHNNVHa1NqobA+sH5ETJO0OjAVGAIcBSyIiBGSTgM6R8Tva3sth4KZ1cXbb1d1OT35JEyblsID0gB2RUjsuGO6f9FFLfukupIKhW8UII0DLs0uu0fEu1lwPBIRvWp7rkPBzBriiy/SD3xhUHz4YdrXuXM6Z2LGDDjnnHQk1JNPLj0g3tyVbChI6gk8BvQG3oyITgX7/hMRnWt7vkPBzBpDBMyeXdXd9OST8NJLaV/Hjmn/Lbekw2NbgpI8T0HSasBY4OSI+KQezztOUrmk8vnz5xevQDNrNaTUOig8D2LBgtQ6+PxzWLgQfvxjOPHEdHZ2S5ZLKEhqTwqEmyPi79nmeVm3UcW4w/s1PTciroyIsogo6+pTHM2sSJ57Dh5+OJ1U17lzOiz2iitg003hRz+CltpJ0eShIEnANcDMiLi4YNd44Mjs9pHAuKauzcwMlj6p7uyzYezYNDh9881pnev7708D0bvvnhYraklnV+fRUtgJOBzYQ9Jz2WU/YAQwSNJsYFB238ysyS3rpLo33oALLkgT9110UVqQ6IAD0pTg114LixblWnajyP3ooxXhgWYzy9NXX8Htt6eAeP55WG+9NO7wi1+kLqdSVZIDzWZmzV379nDYYWlK8AcfTIsKnXFGml7j5JNTy6K5cSiYma0gKc34+sADaYD6+9+Hyy5Lg9KHHpom9WsuHApmZo2oTx+44QZ47TU45ZQ0EF1WBnvsAffem855KGUOBTOzIujRAy68MA1KX3ghzJoF++8P3/0uXHdd6Q5KOxTMzIpozTXTYayvvZZaEG3awDHHwEYbwYgR8NFHeVe4NIeCmVkT6NABDj88HaX0wAOw5ZZw+umpRXHKKVUzuebNoWBm1oQk2GsvmDAhHbU0eDBccglsskmaSuPZZ/Otz6FgZpaTvn3hpptS19JJJ8E//wn9+sGee6azpvMYlHYomJnlbMMN05rUb72VzpieORP23Ted9zB6NHz5ZdPV4lAwMysRnTqlRXxefx2uvz5tO+qoNCg9ciT84Q9pXqZCkyalfY3FoWBmVmI6dIAjj4Tp0+G+++A734Hf/z61IvbfP02tAVUT9/Xv33jv7VAwMytREuyzDzz0UDor+qCD0vkNQ4em9aWLsRqcQ8HMrBno1y9N3f3aa7DddjB5Mhx/fOMvD+pQMDNrRl57LU3ZPXx4WvSn+hjDinIomJk1E9UX/xkzJt1vzGBwKJiZNRPLWvznmWca7z28yI6ZWSvjRXbMzKxOHApmZlbJoWBmZpUcCmZmVsmhYGZmlZr10UeS5gMrsjTF2sAHjVROY3Jd9eO66sd11U9LrOtbEdG1ph3NOhRWlKTyZR2WlSfXVT+uq35cV/20trrcfWRmZpUcCmZmVqm1h8KVeRewDK6rflxX/biu+mlVdbXqMQUzM1taa28pmJlZAYeCmZlVanWhIOlaSe9LeiHvWgpJ6iFpkqSZkl6UdFLeNQFIWlnS05Kez+r6Q941FZLUVtKzku7Ou5YKkt6QNEPSc5JKZhpfSZ0k3Snp5ey/sx1KoKZe2fdUcflE0sl51wUg6ZTsv/kXJN0qaeW8awKQdFJW04vF+K5a3ZiCpF2Bz4AbIqJ33vVUkLQ+sH5ETJO0OjAVGBIRL+Vcl4COEfGZpPbA48BJETE5z7oqSPoNUAasEREH5F0PpFAAyiKipE54kjQa+FdEXC2pA7BqRHyUc1mVJLUF3ga2i4gVOSm1MWrpRvpvfYuI+ELSGODeiLg+57p6A7cB2wJfAvcDx0fE7MZ6j1bXUoiIx4AFeddRXUS8GxHTstufAjOBbvlWBZF8lt1tn11K4i8JSd2B/YGr866l1ElaA9gVuAYgIr4spUDIDARezTsQCrQDVpHUDlgVeCfnegC+A0yOiIURsRh4FDioMd+g1YVCcyCpJ7A1MCXnUoDKLprngPeBCRFREnUBfwaGAUtyrqO6AB6UNFXScXkXk9kYmA9cl3W3XS2pY95FVTMUuDXvIgAi4m3gIuBN4F3g44h4MN+qAHgB2FVSF0mrAvsBPRrzDRwKJUbSasBY4OSI+CTvegAi4uuI6At0B7bNmrC5knQA8H5ETM27lhrsFBH9gH2BE7Iuy7y1A/oBV0TE1sDnwGn5llQl6846ELgj71oAJHUGBgMbARsAHSUdlm9VEBEzgQuACaSuo+eBxY35Hg6FEpL12Y8Fbo6Iv+ddT3VZd8MjwD75VgLATsCBWf/9bcAekm7Kt6QkIt7Jrt8H/kHq/83bXGBuQSvvTlJIlIp9gWkRMS/vQjJ7Aq9HxPyI+Ar4O7BjzjUBEBHXRES/iNiV1BXeaOMJ4FAoGdmA7jXAzIi4OO96KkjqKqlTdnsV0v8sL+daFBARp0dE94joSep2eDgicv9LTlLH7EABsu6ZvUhN/lxFxHvAW5J6ZZsGArkexFDNoZRI11HmTWB7Satm/28OJI3z5U7SOtn1hsD3aeTvrV1jvlhzIOlWYHdgbUlzgf8XEdfkWxWQ/vI9HJiR9d8DnBER9+ZXEgDrA6OzI0PaAGMiomQO/yxB6wL/SL8jtANuiYj78y2p0q+Bm7OumteAo3OuB4Csb3wQ8PO8a6kQEVMk3QlMI3XPPEvpTHcxVlIX4CvghIj4T2O+eKs7JNXMzJbN3UdmZlbJoWBmZpUcCmZmVsmhYGZmlRwKZmZWyaFgrZakng2dLVfS9ZIObuB7/rgh72nWFBwKZk2rJ1CvUMjOETFrEg4FM0DSxtlEcf1r2DcsWx/heUkjatj/hqS1s9tlkh7Jbu9WsE7As9mZziOAXbJtp2STDV4o6RlJ0yX9PHvu7krra9xCOqGxo6R7shpekPSjYn4f1nq1ujOazarLpn64DTg6Ip6rtm9fYAhpjv+Fktaqx0ufSjrj9IlsosP/kiahO7Vi7YdsFtWPI6K/pJWAJyRVzMa5LdA7Il6X9APgnYjYP3vemg39vGa1cUvBWruuwDjgsOqBkNkTuC4iFgJERH3W4ngCuFjSiUCnbP776vYCjsimNpkCdAE2y/Y9HRGvZ7dnAHtKukDSLhHxcT3qMKszh4K1dh8Db5HmnqqJWP6iQoup+n+pcsnGiBgB/AxYBZgsafNlvP6vI6JvdtmoYN7+zwteaxawDSkczpf0P8upyaxBHArW2n1J6h46YhlHBT0IHJNN2sYyuo/eIP1gA/ygYqOkTSJiRkRcAJQDmwOfAqsXPPcB4Phs2nQkfbumxW8kbQAsjIibSIu/lNK019aCeEzBWr2I+DxbtGeCpM8jYlzBvvsl9QXKJX0J3AucUe0l/gBcI+kMll4t72RJA4CvSdNU30daJW6xpOeB64FRpCOSpmVTNM8nhVR13wUulLSENDvm8Sv0oc2WwbOkmplZJXcfmZlZJYeCmZlVciiYmVklh4KZmVVyKJiZWSWHgpmZVXIomJlZpf8Pzct1V6KiHIMAAAAASUVORK5CYII=\n",
      "text/plain": [
       "<Figure size 432x288 with 1 Axes>"
      ]
     },
     "metadata": {
      "needs_background": "light"
     },
     "output_type": "display_data"
    },
    {
     "name": "stdout",
     "output_type": "stream",
     "text": [
      "\u001b[1mThe optimal number of clusters will be 2\u001b[0m\n"
     ]
    }
   ],
   "source": [
    "cost = []\n",
    "K = range(1,10)\n",
    "for num_clusters in list(K):\n",
    "    kmode = KModes(n_clusters=num_clusters, init = \"Cao\", n_init = 1, verbose=1)\n",
    "    kmode.fit_predict(cluster_data3)\n",
    "    cost.append(kmode.cost_)\n",
    "    \n",
    "plt.plot(K, cost, 'bx-')\n",
    "plt.xlabel('k clusters')\n",
    "plt.ylabel('Cost')\n",
    "plt.title('Elbow Method For Optimal k')\n",
    "plt.show()\n",
    "print(\"\\033[1mThe optimal number of clusters will be 2\\033[0m\")"
   ]
  },
  {
   "cell_type": "code",
   "execution_count": 467,
   "metadata": {},
   "outputs": [
    {
     "name": "stdout",
     "output_type": "stream",
     "text": [
      "Init: initializing centroids\n",
      "Init: initializing clusters\n",
      "Starting iterations...\n",
      "Run 1, iteration: 1/100, moves: 19, cost: 91.0\n"
     ]
    },
    {
     "data": {
      "text/plain": [
       "array([0, 0, 0, 1, 1, 0, 0, 0, 1, 1, 0, 1, 1, 0, 1, 0, 0, 1, 1, 0, 0, 0,\n",
       "       1, 0, 0, 0, 0, 0, 1, 1, 0, 1, 0, 0, 0, 0, 1, 0, 1, 1, 1, 0, 0, 0,\n",
       "       0, 0, 0, 0, 0, 0, 1, 0, 1, 1, 0, 0, 0, 0, 0, 0, 0, 0, 0, 0, 1, 0,\n",
       "       0, 0, 0, 0, 0, 0, 1, 0, 1, 0, 0, 1, 1, 1, 0, 0, 1, 0, 0, 0, 0, 0,\n",
       "       0, 0, 1, 0, 1, 1, 0, 1, 0, 1, 1, 1, 1, 1, 0], dtype=uint16)"
      ]
     },
     "metadata": {},
     "output_type": "display_data"
    },
    {
     "data": {
      "text/plain": [
       "(103,)"
      ]
     },
     "execution_count": 467,
     "metadata": {},
     "output_type": "execute_result"
    }
   ],
   "source": [
    "km3= KModes(n_clusters=2, init = \"Cao\", n_init = 1, verbose=1)\n",
    "cluster_labels3 = km3.fit_predict(cluster_data3)\n",
    "display(cluster_labels3)\n",
    "cluster_labels3.shape"
   ]
  },
  {
   "cell_type": "markdown",
   "metadata": {},
   "source": [
    "#### DISPLAYING ORIGINAL DATASET"
   ]
  },
  {
   "cell_type": "code",
   "execution_count": 468,
   "metadata": {},
   "outputs": [
    {
     "data": {
      "text/html": [
       "<div>\n",
       "<style scoped>\n",
       "    .dataframe tbody tr th:only-of-type {\n",
       "        vertical-align: middle;\n",
       "    }\n",
       "\n",
       "    .dataframe tbody tr th {\n",
       "        vertical-align: top;\n",
       "    }\n",
       "\n",
       "    .dataframe thead th {\n",
       "        text-align: right;\n",
       "    }\n",
       "</style>\n",
       "<table border=\"1\" class=\"dataframe\">\n",
       "  <thead>\n",
       "    <tr style=\"text-align: right;\">\n",
       "      <th></th>\n",
       "      <th>sex</th>\n",
       "      <th>hr policies</th>\n",
       "      <th>better policies</th>\n",
       "    </tr>\n",
       "  </thead>\n",
       "  <tbody>\n",
       "    <tr>\n",
       "      <th>0</th>\n",
       "      <td>Male</td>\n",
       "      <td>Yes</td>\n",
       "      <td>Yes</td>\n",
       "    </tr>\n",
       "    <tr>\n",
       "      <th>1</th>\n",
       "      <td>Male</td>\n",
       "      <td>Partly</td>\n",
       "      <td>Yes</td>\n",
       "    </tr>\n",
       "    <tr>\n",
       "      <th>2</th>\n",
       "      <td>Male</td>\n",
       "      <td>Yes</td>\n",
       "      <td>No</td>\n",
       "    </tr>\n",
       "    <tr>\n",
       "      <th>3</th>\n",
       "      <td>Female</td>\n",
       "      <td>No</td>\n",
       "      <td>No</td>\n",
       "    </tr>\n",
       "    <tr>\n",
       "      <th>4</th>\n",
       "      <td>Female</td>\n",
       "      <td>Partly</td>\n",
       "      <td>Yes</td>\n",
       "    </tr>\n",
       "    <tr>\n",
       "      <th>...</th>\n",
       "      <td>...</td>\n",
       "      <td>...</td>\n",
       "      <td>...</td>\n",
       "    </tr>\n",
       "    <tr>\n",
       "      <th>98</th>\n",
       "      <td>Female</td>\n",
       "      <td>No</td>\n",
       "      <td>Yes</td>\n",
       "    </tr>\n",
       "    <tr>\n",
       "      <th>99</th>\n",
       "      <td>Female</td>\n",
       "      <td>Partly</td>\n",
       "      <td>Yes</td>\n",
       "    </tr>\n",
       "    <tr>\n",
       "      <th>100</th>\n",
       "      <td>Female</td>\n",
       "      <td>Partly</td>\n",
       "      <td>No</td>\n",
       "    </tr>\n",
       "    <tr>\n",
       "      <th>101</th>\n",
       "      <td>Female</td>\n",
       "      <td>No</td>\n",
       "      <td>Yes</td>\n",
       "    </tr>\n",
       "    <tr>\n",
       "      <th>102</th>\n",
       "      <td>Female</td>\n",
       "      <td>Yes</td>\n",
       "      <td>No</td>\n",
       "    </tr>\n",
       "  </tbody>\n",
       "</table>\n",
       "<p>103 rows × 3 columns</p>\n",
       "</div>"
      ],
      "text/plain": [
       "        sex hr policies better policies\n",
       "0      Male         Yes             Yes\n",
       "1      Male      Partly             Yes\n",
       "2      Male         Yes              No\n",
       "3    Female          No              No\n",
       "4    Female      Partly             Yes\n",
       "..      ...         ...             ...\n",
       "98   Female          No             Yes\n",
       "99   Female      Partly             Yes\n",
       "100  Female      Partly              No\n",
       "101  Female          No             Yes\n",
       "102  Female         Yes              No\n",
       "\n",
       "[103 rows x 3 columns]"
      ]
     },
     "metadata": {},
     "output_type": "display_data"
    }
   ],
   "source": [
    "display(cluster_data3copy)"
   ]
  },
  {
   "cell_type": "markdown",
   "metadata": {},
   "source": [
    "#### DISPLAYING ENCODED DATASET\n"
   ]
  },
  {
   "cell_type": "code",
   "execution_count": 469,
   "metadata": {},
   "outputs": [
    {
     "data": {
      "text/html": [
       "<div>\n",
       "<style scoped>\n",
       "    .dataframe tbody tr th:only-of-type {\n",
       "        vertical-align: middle;\n",
       "    }\n",
       "\n",
       "    .dataframe tbody tr th {\n",
       "        vertical-align: top;\n",
       "    }\n",
       "\n",
       "    .dataframe thead th {\n",
       "        text-align: right;\n",
       "    }\n",
       "</style>\n",
       "<table border=\"1\" class=\"dataframe\">\n",
       "  <thead>\n",
       "    <tr style=\"text-align: right;\">\n",
       "      <th></th>\n",
       "      <th>sex</th>\n",
       "      <th>hr policies</th>\n",
       "      <th>better policies</th>\n",
       "    </tr>\n",
       "  </thead>\n",
       "  <tbody>\n",
       "    <tr>\n",
       "      <th>0</th>\n",
       "      <td>1</td>\n",
       "      <td>2</td>\n",
       "      <td>1</td>\n",
       "    </tr>\n",
       "    <tr>\n",
       "      <th>1</th>\n",
       "      <td>1</td>\n",
       "      <td>1</td>\n",
       "      <td>1</td>\n",
       "    </tr>\n",
       "    <tr>\n",
       "      <th>2</th>\n",
       "      <td>1</td>\n",
       "      <td>2</td>\n",
       "      <td>0</td>\n",
       "    </tr>\n",
       "    <tr>\n",
       "      <th>3</th>\n",
       "      <td>0</td>\n",
       "      <td>0</td>\n",
       "      <td>0</td>\n",
       "    </tr>\n",
       "    <tr>\n",
       "      <th>4</th>\n",
       "      <td>0</td>\n",
       "      <td>1</td>\n",
       "      <td>1</td>\n",
       "    </tr>\n",
       "    <tr>\n",
       "      <th>...</th>\n",
       "      <td>...</td>\n",
       "      <td>...</td>\n",
       "      <td>...</td>\n",
       "    </tr>\n",
       "    <tr>\n",
       "      <th>98</th>\n",
       "      <td>0</td>\n",
       "      <td>0</td>\n",
       "      <td>1</td>\n",
       "    </tr>\n",
       "    <tr>\n",
       "      <th>99</th>\n",
       "      <td>0</td>\n",
       "      <td>1</td>\n",
       "      <td>1</td>\n",
       "    </tr>\n",
       "    <tr>\n",
       "      <th>100</th>\n",
       "      <td>0</td>\n",
       "      <td>1</td>\n",
       "      <td>0</td>\n",
       "    </tr>\n",
       "    <tr>\n",
       "      <th>101</th>\n",
       "      <td>0</td>\n",
       "      <td>0</td>\n",
       "      <td>1</td>\n",
       "    </tr>\n",
       "    <tr>\n",
       "      <th>102</th>\n",
       "      <td>0</td>\n",
       "      <td>2</td>\n",
       "      <td>0</td>\n",
       "    </tr>\n",
       "  </tbody>\n",
       "</table>\n",
       "<p>103 rows × 3 columns</p>\n",
       "</div>"
      ],
      "text/plain": [
       "     sex  hr policies  better policies\n",
       "0      1            2                1\n",
       "1      1            1                1\n",
       "2      1            2                0\n",
       "3      0            0                0\n",
       "4      0            1                1\n",
       "..   ...          ...              ...\n",
       "98     0            0                1\n",
       "99     0            1                1\n",
       "100    0            1                0\n",
       "101    0            0                1\n",
       "102    0            2                0\n",
       "\n",
       "[103 rows x 3 columns]"
      ]
     },
     "metadata": {},
     "output_type": "display_data"
    }
   ],
   "source": [
    "display(cluster_data3)"
   ]
  },
  {
   "cell_type": "code",
   "execution_count": 474,
   "metadata": {},
   "outputs": [
    {
     "name": "stdout",
     "output_type": "stream",
     "text": [
      "\u001b[1m Following are the cluster centroids \u001b[0m--\n"
     ]
    },
    {
     "data": {
      "text/plain": [
       "array([[1, 2, 1],\n",
       "       [0, 0, 1]])"
      ]
     },
     "metadata": {},
     "output_type": "display_data"
    },
    {
     "name": "stdout",
     "output_type": "stream",
     "text": [
      "\n",
      " \n",
      "Cluster 0 represents Males who felt that the HR Department did enough but could devise better policies\n",
      "\n",
      " \n",
      "Cluster 1 represents Females who felt that the HR department did not do enough and could devise better policies\n"
     ]
    }
   ],
   "source": [
    "print(\"\\033[1m Following are the cluster centroids \\033[0m--\")\n",
    "centroids3 = km3.cluster_centroids_\n",
    "display(centroids3)\n",
    "print(\"\\n \\nCluster 0 represents Males who felt that the HR Department did enough but could devise better policies\")\n",
    "print(\"\\n \\nCluster 1 represents Females who felt that the HR department did not do enough and could devise better policies\")"
   ]
  },
  {
   "cell_type": "code",
   "execution_count": 477,
   "metadata": {},
   "outputs": [
    {
     "data": {
      "text/plain": [
       "0    67\n",
       "1    36\n",
       "Name: Clusters by Sex, HR Policies and better policies, dtype: int64"
      ]
     },
     "execution_count": 477,
     "metadata": {},
     "output_type": "execute_result"
    }
   ],
   "source": [
    "dfcluster['Clusters by Sex, HR Policies and better policies']=cluster_labels3\n",
    "dfcluster['Clusters by Sex, HR Policies and better policies'].value_counts()"
   ]
  },
  {
   "cell_type": "markdown",
   "metadata": {},
   "source": [
    "# Creating a new Excel Workbook with information about the clusters formed"
   ]
  },
  {
   "cell_type": "code",
   "execution_count": 479,
   "metadata": {},
   "outputs": [],
   "source": [
    "dfcluster.to_excel(\"Analytics_cluster.xlsx\")"
   ]
=======
>>>>>>> e8e56c1076dfc8bf7e878bf6c4b339f98534e377
  }
 ],
 "metadata": {
  "interpreter": {
   "hash": "08b741ea1332f88dd087fb8fc46582258a60dbf5d952719be37684b1098a3c06"
  },
  "kernelspec": {
   "display_name": "Python 3",
   "language": "python",
   "name": "python3"
  },
  "language_info": {
   "codemirror_mode": {
    "name": "ipython",
    "version": 3
   },
   "file_extension": ".py",
   "mimetype": "text/x-python",
   "name": "python",
   "nbconvert_exporter": "python",
   "pygments_lexer": "ipython3",
<<<<<<< HEAD
   "version": "3.8.8"
=======
   "version": "3.8.5"
>>>>>>> e8e56c1076dfc8bf7e878bf6c4b339f98534e377
  }
 },
 "nbformat": 4,
 "nbformat_minor": 4
}
