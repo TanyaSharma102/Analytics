{
 "cells": [
  {
   "cell_type": "markdown",
   "metadata": {},
   "source": [
    "# Data Analysis on Gender Disparity during work from home"
   ]
  },
  {
   "cell_type": "markdown",
   "metadata": {},
   "source": [
    "## Importing Data from Ms- Excel. This Data was collected from a survey via Google forms."
   ]
  },
  {
   "cell_type": "code",
   "execution_count": 395,
   "metadata": {},
   "outputs": [
    {
     "data": {
      "text/html": [
       "<div>\n",
       "<style scoped>\n",
       "    .dataframe tbody tr th:only-of-type {\n",
       "        vertical-align: middle;\n",
       "    }\n",
       "\n",
       "    .dataframe tbody tr th {\n",
       "        vertical-align: top;\n",
       "    }\n",
       "\n",
       "    .dataframe thead th {\n",
       "        text-align: right;\n",
       "    }\n",
       "</style>\n",
       "<table border=\"1\" class=\"dataframe\">\n",
       "  <thead>\n",
       "    <tr style=\"text-align: right;\">\n",
       "      <th></th>\n",
       "      <th>sex</th>\n",
       "      <th>age</th>\n",
       "      <th>marital status</th>\n",
       "      <th>work timings</th>\n",
       "      <th>employment organization</th>\n",
       "      <th>current mode</th>\n",
       "      <th>preferred mode</th>\n",
       "      <th>new job</th>\n",
       "      <th>salary incentives</th>\n",
       "      <th>domestic life</th>\n",
       "      <th>...</th>\n",
       "      <th>personal calls</th>\n",
       "      <th>silenced</th>\n",
       "      <th>avoid contact</th>\n",
       "      <th>sexual harassment</th>\n",
       "      <th>comfort</th>\n",
       "      <th>hr policies</th>\n",
       "      <th>better policies</th>\n",
       "      <th>biased impact</th>\n",
       "      <th>Comments</th>\n",
       "      <th>Other Info</th>\n",
       "    </tr>\n",
       "  </thead>\n",
       "  <tbody>\n",
       "    <tr>\n",
       "      <th>0</th>\n",
       "      <td>Male</td>\n",
       "      <td>18-24</td>\n",
       "      <td>Single</td>\n",
       "      <td>Night Shift</td>\n",
       "      <td>Public Startup/Private Startup</td>\n",
       "      <td>Remote Mode(Work From Home)</td>\n",
       "      <td>Remote Mode(Work From Home)</td>\n",
       "      <td>Difficult</td>\n",
       "      <td>Same as before</td>\n",
       "      <td>Slightly Negatively</td>\n",
       "      <td>...</td>\n",
       "      <td>Rarely</td>\n",
       "      <td>Never</td>\n",
       "      <td>Never</td>\n",
       "      <td>No</td>\n",
       "      <td>NaN</td>\n",
       "      <td>Yes</td>\n",
       "      <td>Yes</td>\n",
       "      <td>Maybe</td>\n",
       "      <td>NaN</td>\n",
       "      <td>NaN</td>\n",
       "    </tr>\n",
       "    <tr>\n",
       "      <th>1</th>\n",
       "      <td>Male</td>\n",
       "      <td>18-24</td>\n",
       "      <td>Single</td>\n",
       "      <td>Morning Shift</td>\n",
       "      <td>Public Startup/Private Startup</td>\n",
       "      <td>Remote Mode(Work From Home)</td>\n",
       "      <td>Remote Mode(Work From Home)</td>\n",
       "      <td>Difficult</td>\n",
       "      <td>Poor</td>\n",
       "      <td>Slightly Negatively</td>\n",
       "      <td>...</td>\n",
       "      <td>Often</td>\n",
       "      <td>Very often</td>\n",
       "      <td>Often</td>\n",
       "      <td>No</td>\n",
       "      <td>NaN</td>\n",
       "      <td>Partly</td>\n",
       "      <td>Yes</td>\n",
       "      <td>No</td>\n",
       "      <td>NaN</td>\n",
       "      <td>NaN</td>\n",
       "    </tr>\n",
       "    <tr>\n",
       "      <th>2</th>\n",
       "      <td>Male</td>\n",
       "      <td>18-24</td>\n",
       "      <td>Single</td>\n",
       "      <td>Morning Shift</td>\n",
       "      <td>Public Startup/Private Startup</td>\n",
       "      <td>Remote Mode(Work From Home)</td>\n",
       "      <td>Physical Mode</td>\n",
       "      <td>Not applicable</td>\n",
       "      <td>Good</td>\n",
       "      <td>Did not have any affect</td>\n",
       "      <td>...</td>\n",
       "      <td>Rarely</td>\n",
       "      <td>Rarely</td>\n",
       "      <td>Rarely</td>\n",
       "      <td>No</td>\n",
       "      <td>NaN</td>\n",
       "      <td>Yes</td>\n",
       "      <td>No</td>\n",
       "      <td>No</td>\n",
       "      <td>NaN</td>\n",
       "      <td>NaN</td>\n",
       "    </tr>\n",
       "    <tr>\n",
       "      <th>3</th>\n",
       "      <td>Female</td>\n",
       "      <td>18-24</td>\n",
       "      <td>Single</td>\n",
       "      <td>Morning Shift</td>\n",
       "      <td>Public Startup/Private Startup</td>\n",
       "      <td>Remote Mode(Work From Home)</td>\n",
       "      <td>Remote Mode(Work From Home)</td>\n",
       "      <td>Difficult</td>\n",
       "      <td>Good</td>\n",
       "      <td>Slightly Negatively</td>\n",
       "      <td>...</td>\n",
       "      <td>Rarely</td>\n",
       "      <td>Never</td>\n",
       "      <td>Never</td>\n",
       "      <td>No</td>\n",
       "      <td>NaN</td>\n",
       "      <td>No</td>\n",
       "      <td>No</td>\n",
       "      <td>Maybe</td>\n",
       "      <td>NaN</td>\n",
       "      <td>NaN</td>\n",
       "    </tr>\n",
       "    <tr>\n",
       "      <th>4</th>\n",
       "      <td>Female</td>\n",
       "      <td>18-24</td>\n",
       "      <td>Single</td>\n",
       "      <td>Morning Shift</td>\n",
       "      <td>Medical</td>\n",
       "      <td>Part Both(Changing with the magnitude of Covid...</td>\n",
       "      <td>Physical Mode</td>\n",
       "      <td>Not applicable</td>\n",
       "      <td>Very Poor</td>\n",
       "      <td>Very Negatively</td>\n",
       "      <td>...</td>\n",
       "      <td>Rarely</td>\n",
       "      <td>Very often</td>\n",
       "      <td>Very often</td>\n",
       "      <td>No</td>\n",
       "      <td>NaN</td>\n",
       "      <td>Partly</td>\n",
       "      <td>Yes</td>\n",
       "      <td>Yes</td>\n",
       "      <td>With respect to the health aspect of females .</td>\n",
       "      <td>NaN</td>\n",
       "    </tr>\n",
       "    <tr>\n",
       "      <th>...</th>\n",
       "      <td>...</td>\n",
       "      <td>...</td>\n",
       "      <td>...</td>\n",
       "      <td>...</td>\n",
       "      <td>...</td>\n",
       "      <td>...</td>\n",
       "      <td>...</td>\n",
       "      <td>...</td>\n",
       "      <td>...</td>\n",
       "      <td>...</td>\n",
       "      <td>...</td>\n",
       "      <td>...</td>\n",
       "      <td>...</td>\n",
       "      <td>...</td>\n",
       "      <td>...</td>\n",
       "      <td>...</td>\n",
       "      <td>...</td>\n",
       "      <td>...</td>\n",
       "      <td>...</td>\n",
       "      <td>...</td>\n",
       "      <td>...</td>\n",
       "    </tr>\n",
       "    <tr>\n",
       "      <th>90</th>\n",
       "      <td>Female</td>\n",
       "      <td>18-24</td>\n",
       "      <td>Single</td>\n",
       "      <td>Morning Shift</td>\n",
       "      <td>Public MNC/ Private MNC</td>\n",
       "      <td>Remote Mode(Work From Home)</td>\n",
       "      <td>Physical Mode</td>\n",
       "      <td>Not applicable</td>\n",
       "      <td>Same as before</td>\n",
       "      <td>Slightly Negatively</td>\n",
       "      <td>...</td>\n",
       "      <td>Never</td>\n",
       "      <td>Never</td>\n",
       "      <td>Never</td>\n",
       "      <td>No</td>\n",
       "      <td>NaN</td>\n",
       "      <td>No</td>\n",
       "      <td>Yes</td>\n",
       "      <td>Yes</td>\n",
       "      <td>Difficult for females to manage home and offic...</td>\n",
       "      <td>NaN</td>\n",
       "    </tr>\n",
       "    <tr>\n",
       "      <th>91</th>\n",
       "      <td>Male</td>\n",
       "      <td>25-34</td>\n",
       "      <td>Single</td>\n",
       "      <td>Morning Shift</td>\n",
       "      <td>Self Employed</td>\n",
       "      <td>Part Both(Changing with the magnitude of Covid...</td>\n",
       "      <td>Physical Mode</td>\n",
       "      <td>Not applicable</td>\n",
       "      <td>Same as before</td>\n",
       "      <td>Did not have any affect</td>\n",
       "      <td>...</td>\n",
       "      <td>Rarely</td>\n",
       "      <td>Rarely</td>\n",
       "      <td>Never</td>\n",
       "      <td>No</td>\n",
       "      <td>NaN</td>\n",
       "      <td>Yes</td>\n",
       "      <td>Yes</td>\n",
       "      <td>No</td>\n",
       "      <td>NaN</td>\n",
       "      <td>NaN</td>\n",
       "    </tr>\n",
       "    <tr>\n",
       "      <th>92</th>\n",
       "      <td>Female</td>\n",
       "      <td>18-24</td>\n",
       "      <td>Single</td>\n",
       "      <td>Morning Shift</td>\n",
       "      <td>Public Startup/Private Startup</td>\n",
       "      <td>Physical Mode</td>\n",
       "      <td>Remote Mode(Work From Home)</td>\n",
       "      <td>Difficult</td>\n",
       "      <td>Poor</td>\n",
       "      <td>Very Negatively</td>\n",
       "      <td>...</td>\n",
       "      <td>Often</td>\n",
       "      <td>Rarely</td>\n",
       "      <td>Rarely</td>\n",
       "      <td>No</td>\n",
       "      <td>NaN</td>\n",
       "      <td>No</td>\n",
       "      <td>Yes</td>\n",
       "      <td>Yes</td>\n",
       "      <td>Females are more likely to have social/domesti...</td>\n",
       "      <td>NaN</td>\n",
       "    </tr>\n",
       "    <tr>\n",
       "      <th>93</th>\n",
       "      <td>Female</td>\n",
       "      <td>25-34</td>\n",
       "      <td>Single</td>\n",
       "      <td>Morning Shift</td>\n",
       "      <td>Government Agency</td>\n",
       "      <td>Physical Mode</td>\n",
       "      <td>Physical Mode</td>\n",
       "      <td>Difficult</td>\n",
       "      <td>Same as before</td>\n",
       "      <td>Very Improved</td>\n",
       "      <td>...</td>\n",
       "      <td>Rarely</td>\n",
       "      <td>Often</td>\n",
       "      <td>Rarely</td>\n",
       "      <td>No</td>\n",
       "      <td>NaN</td>\n",
       "      <td>No</td>\n",
       "      <td>Yes</td>\n",
       "      <td>Maybe</td>\n",
       "      <td>NaN</td>\n",
       "      <td>NaN</td>\n",
       "    </tr>\n",
       "    <tr>\n",
       "      <th>94</th>\n",
       "      <td>Male</td>\n",
       "      <td>18-24</td>\n",
       "      <td>Single</td>\n",
       "      <td>Morning Shift</td>\n",
       "      <td>Public MNC/ Private MNC</td>\n",
       "      <td>Physical Mode</td>\n",
       "      <td>Remote Mode(Work From Home)</td>\n",
       "      <td>Not applicable</td>\n",
       "      <td>Very Poor</td>\n",
       "      <td>Slightly Negatively</td>\n",
       "      <td>...</td>\n",
       "      <td>Rarely</td>\n",
       "      <td>Rarely</td>\n",
       "      <td>Often</td>\n",
       "      <td>No</td>\n",
       "      <td>NaN</td>\n",
       "      <td>Partly</td>\n",
       "      <td>Yes</td>\n",
       "      <td>No</td>\n",
       "      <td>NaN</td>\n",
       "      <td>NaN</td>\n",
       "    </tr>\n",
       "  </tbody>\n",
       "</table>\n",
       "<p>95 rows × 25 columns</p>\n",
       "</div>"
      ],
      "text/plain": [
       "       sex    age marital status   work timings  \\\n",
       "0     Male  18-24         Single    Night Shift   \n",
       "1     Male  18-24         Single  Morning Shift   \n",
       "2     Male  18-24         Single  Morning Shift   \n",
       "3   Female  18-24         Single  Morning Shift   \n",
       "4   Female  18-24         Single  Morning Shift   \n",
       "..     ...    ...            ...            ...   \n",
       "90  Female  18-24         Single  Morning Shift   \n",
       "91    Male  25-34         Single  Morning Shift   \n",
       "92  Female  18-24         Single  Morning Shift   \n",
       "93  Female  25-34         Single  Morning Shift   \n",
       "94    Male  18-24         Single  Morning Shift   \n",
       "\n",
       "           employment organization  \\\n",
       "0   Public Startup/Private Startup   \n",
       "1   Public Startup/Private Startup   \n",
       "2   Public Startup/Private Startup   \n",
       "3   Public Startup/Private Startup   \n",
       "4                          Medical   \n",
       "..                             ...   \n",
       "90         Public MNC/ Private MNC   \n",
       "91                   Self Employed   \n",
       "92  Public Startup/Private Startup   \n",
       "93               Government Agency   \n",
       "94         Public MNC/ Private MNC   \n",
       "\n",
       "                                         current mode  \\\n",
       "0                         Remote Mode(Work From Home)   \n",
       "1                         Remote Mode(Work From Home)   \n",
       "2                         Remote Mode(Work From Home)   \n",
       "3                         Remote Mode(Work From Home)   \n",
       "4   Part Both(Changing with the magnitude of Covid...   \n",
       "..                                                ...   \n",
       "90                        Remote Mode(Work From Home)   \n",
       "91  Part Both(Changing with the magnitude of Covid...   \n",
       "92                                      Physical Mode   \n",
       "93                                      Physical Mode   \n",
       "94                                      Physical Mode   \n",
       "\n",
       "                 preferred mode         new job salary incentives  \\\n",
       "0   Remote Mode(Work From Home)       Difficult    Same as before   \n",
       "1   Remote Mode(Work From Home)       Difficult              Poor   \n",
       "2                 Physical Mode  Not applicable              Good   \n",
       "3   Remote Mode(Work From Home)       Difficult              Good   \n",
       "4                 Physical Mode  Not applicable         Very Poor   \n",
       "..                          ...             ...               ...   \n",
       "90                Physical Mode  Not applicable    Same as before   \n",
       "91                Physical Mode  Not applicable    Same as before   \n",
       "92  Remote Mode(Work From Home)       Difficult              Poor   \n",
       "93                Physical Mode       Difficult    Same as before   \n",
       "94  Remote Mode(Work From Home)  Not applicable         Very Poor   \n",
       "\n",
       "              domestic life  ... personal calls    silenced avoid contact  \\\n",
       "0       Slightly Negatively  ...         Rarely       Never         Never   \n",
       "1       Slightly Negatively  ...          Often  Very often         Often   \n",
       "2   Did not have any affect  ...         Rarely      Rarely        Rarely   \n",
       "3       Slightly Negatively  ...         Rarely       Never         Never   \n",
       "4           Very Negatively  ...         Rarely  Very often    Very often   \n",
       "..                      ...  ...            ...         ...           ...   \n",
       "90      Slightly Negatively  ...          Never       Never         Never   \n",
       "91  Did not have any affect  ...         Rarely      Rarely         Never   \n",
       "92          Very Negatively  ...          Often      Rarely        Rarely   \n",
       "93            Very Improved  ...         Rarely       Often        Rarely   \n",
       "94      Slightly Negatively  ...         Rarely      Rarely         Often   \n",
       "\n",
       "   sexual harassment comfort hr policies better policies biased impact  \\\n",
       "0                 No     NaN         Yes             Yes         Maybe   \n",
       "1                 No     NaN      Partly             Yes            No   \n",
       "2                 No     NaN         Yes              No            No   \n",
       "3                 No     NaN          No              No         Maybe   \n",
       "4                 No     NaN      Partly             Yes           Yes   \n",
       "..               ...     ...         ...             ...           ...   \n",
       "90                No     NaN          No             Yes           Yes   \n",
       "91                No     NaN         Yes             Yes            No   \n",
       "92                No     NaN          No             Yes           Yes   \n",
       "93                No     NaN          No             Yes         Maybe   \n",
       "94                No     NaN      Partly             Yes            No   \n",
       "\n",
       "                                             Comments  Other Info  \n",
       "0                                                 NaN         NaN  \n",
       "1                                                 NaN         NaN  \n",
       "2                                                 NaN         NaN  \n",
       "3                                                 NaN         NaN  \n",
       "4      With respect to the health aspect of females .         NaN  \n",
       "..                                                ...         ...  \n",
       "90  Difficult for females to manage home and offic...         NaN  \n",
       "91                                                NaN         NaN  \n",
       "92  Females are more likely to have social/domesti...         NaN  \n",
       "93                                                NaN         NaN  \n",
       "94                                                NaN         NaN  \n",
       "\n",
       "[95 rows x 25 columns]"
      ]
     },
     "execution_count": 395,
     "metadata": {},
     "output_type": "execute_result"
    }
   ],
   "source": [
    "import pandas as pd\n",
    "df=pd.read_excel('Analytics.xlsx','Sheet1')\n",
    "df"
   ]
  },
  {
   "cell_type": "markdown",
   "metadata": {},
   "source": [
    "# Following are the Final Attributes of the data collected and the corresponding question they represent. The questions have been shortened to a relatable attribute name for enhancing the ease of handling the data. "
   ]
  },
  {
   "cell_type": "markdown",
   "metadata": {},
   "source": [
    "### Following are the details of the data we will be working on  \n",
    "\n",
    " The column names in the sheet along with the respective question they represent are listed below:\n",
    "  - sex- Sex \n",
    "  - age- Age \n",
    "  - marital status- Marital Status \n",
    "  - work timings- Work Timings \n",
    "  - Employment Organization- What is the type of your employment organization? \n",
    "  - current mode- What is your current mode of working? \n",
    "  - preferred mode- What mode of working do you prefer? \n",
    "  - new job- In case your employment was terminated, how difficult was it to get a new job? \n",
    "  - salary incentives- How satisfactory have your salary incentives/promotions been since 2020? \n",
    "  - domestic life- How did the new work conditions affect your domestic life? \n",
    "  - personal life- How did the new work conditions affect your personal time/growth? \n",
    "  - layoff fear- Did you at any point fear a layoff since the pandemic kicked in? \n",
    "  - stretched hours- Did you experience stretched working hours/increased workload during the pandemic?\n",
    "  - domestic obligation- Was there some domestic obligation you had to fulfil before starting your work everyday? \n",
    "  - background noises- Did you find it difficult to silence background noises at your home whilst in a meeting/discussion? \n",
    "  - personal calls- How often were you contacted personally by your superiors/colleagues regarding matters not restricting to work? \n",
    "  - silenced- Did you feel silenced on calls/meetings even though you had something valuable to add? \n",
    "  - avoid contact- Did you avoid contacting a colleague/superior regarding some professional issue thinking you are being unprofessional? \n",
    "  - sexual harassment- Did you experience any kind of Sexual harassment/Cyber Harassment at your work during the pandemic? \n",
    "  - comfort- If Yes, how comfortable were you in sharing the details with the concerned authorities? \n",
    "  - hr policies- Do you feel that the HR Department of your organization took the necessary steps to help you adapt to work from home? \n",
    "  - better policies- Do you feel that your organization needs to work on its policies regarding employee conduct? \n",
    "  - biased impact- Do you feel that the pandemic had a more negative affect on some particular gender at workplaces? \n",
    "  - Comments- If Yes/Maybe, how? "
   ]
  },
  {
   "cell_type": "code",
   "execution_count": 347,
   "metadata": {},
   "outputs": [
    {
     "name": "stdout",
     "output_type": "stream",
     "text": [
      " \n",
      " \n",
      "No. of Data Entries corresponding to each attribute \n",
      " sex                        95\n",
      "age                        95\n",
      "marital status             95\n",
      "work timings               95\n",
      "employment organization    95\n",
      "current mode               95\n",
      "preferred mode             95\n",
      "new job                    90\n",
      "salary incentives          95\n",
      "domestic life              95\n",
      "personal life              95\n",
      "layoff fear                95\n",
      "stretched hours            95\n",
      "domestic obligation        95\n",
      "background noises          95\n",
      "personal calls             95\n",
      "silenced                   95\n",
      "avoid contact              95\n",
      "sexual harassment          95\n",
      "comfort                     5\n",
      "hr policies                95\n",
      "better policies            95\n",
      "biased impact              95\n",
      "Comments                   21\n",
      "Other Info                  7\n",
      "dtype: int64\n"
     ]
    }
   ],
   "source": [
    "print(\" \\n \\nNo. of Data Entries corresponding to each attribute \\n\",df.count())"
   ]
  },
  {
   "cell_type": "markdown",
   "metadata": {},
   "source": [
    "## Data Cleaning will be used to fill up the empty information, wherever needed. We'll first find the number of missing values for each attribute. Then a decision will be made regarding the attributes whose missing values have to be filled up. This is followed by determining what value will be used to fill up the missing values."
   ]
  },
  {
   "cell_type": "code",
   "execution_count": 348,
   "metadata": {
    "scrolled": true
   },
   "outputs": [
    {
     "data": {
      "text/plain": [
       "sex                         0\n",
       "age                         0\n",
       "marital status              0\n",
       "work timings                0\n",
       "employment organization     0\n",
       "current mode                0\n",
       "preferred mode              0\n",
       "new job                     5\n",
       "salary incentives           0\n",
       "domestic life               0\n",
       "personal life               0\n",
       "layoff fear                 0\n",
       "stretched hours             0\n",
       "domestic obligation         0\n",
       "background noises           0\n",
       "personal calls              0\n",
       "silenced                    0\n",
       "avoid contact               0\n",
       "sexual harassment           0\n",
       "comfort                    90\n",
       "hr policies                 0\n",
       "better policies             0\n",
       "biased impact               0\n",
       "Comments                   74\n",
       "Other Info                 88\n",
       "dtype: int64"
      ]
     },
     "execution_count": 348,
     "metadata": {},
     "output_type": "execute_result"
    }
   ],
   "source": [
    "#Cleaning the data \n",
    "\n",
    "#Finding missing values(if any) in each column\n",
    "\n",
    "df.isna().sum()\n"
   ]
  },
  {
   "cell_type": "code",
   "execution_count": 349,
   "metadata": {},
   "outputs": [
    {
     "name": "stdout",
     "output_type": "stream",
     "text": [
      "Difficult         49\n",
      "Not applicable    32\n",
      "Same as before     7\n",
      "Easier             2\n",
      "Name: new job, dtype: int64\n"
     ]
    },
    {
     "data": {
      "text/plain": [
       "sex                         0\n",
       "age                         0\n",
       "marital status              0\n",
       "work timings                0\n",
       "employment organization     0\n",
       "current mode                0\n",
       "preferred mode              0\n",
       "new job                     0\n",
       "salary incentives           0\n",
       "domestic life               0\n",
       "personal life               0\n",
       "layoff fear                 0\n",
       "stretched hours             0\n",
       "domestic obligation         0\n",
       "background noises           0\n",
       "personal calls              0\n",
       "silenced                    0\n",
       "avoid contact               0\n",
       "sexual harassment           0\n",
       "comfort                    90\n",
       "hr policies                 0\n",
       "better policies             0\n",
       "biased impact               0\n",
       "Comments                   74\n",
       "Other Info                 88\n",
       "dtype: int64"
      ]
     },
     "execution_count": 349,
     "metadata": {},
     "output_type": "execute_result"
    }
   ],
   "source": [
    "#filling up the missing values in the column 'new job'\n",
    "print(df['new job'].value_counts())\n",
    "df1=df\n",
    "df1['new job']=df1['new job'].fillna(\"Not applicable\")\n",
    "df1.isna().sum()\n"
   ]
  },
  {
   "cell_type": "markdown",
   "metadata": {},
   "source": [
    "## We'll start with an overview of the Data Entries on the basis of three categories namely 'Sex', 'Age' and ' Marital Status'. They'll be displayed by count, by percentage and by a pie chart."
   ]
  },
  {
   "cell_type": "code",
   "execution_count": 350,
   "metadata": {},
   "outputs": [
    {
     "name": "stdout",
     "output_type": "stream",
     "text": [
      "\u001b[1mGenders: \u001b[0m \n",
      "By count:\n",
      "Male      57\n",
      "Female    38\n",
      "Name: sex, dtype: int64\n",
      "\n",
      "By Percentage:\n",
      "Male      60.0\n",
      "Female    40.0\n",
      "Name: sex, dtype: float64\n"
     ]
    },
    {
     "data": {
      "text/plain": [
       "<AxesSubplot:title={'center':'Entries by Gender'}, ylabel='sex'>"
      ]
     },
     "execution_count": 350,
     "metadata": {},
     "output_type": "execute_result"
    },
    {
     "data": {
      "image/png": "[encoded data removed]",
      "text/plain": [
       "<Figure size 432x288 with 1 Axes>"
      ]
     },
     "metadata": {},
     "output_type": "display_data"
    }
   ],
   "source": [
    "#Displaying entries\n",
    "\n",
    "print(\"\\033[1mGenders: \\033[0m \\nBy count:\")\n",
    "print(df1['sex'].value_counts())\n",
    "print(\"\\nBy Percentage:\")\n",
    "print(df1['sex'].value_counts(normalize= True)*100)\n",
    "df1['sex'].value_counts(normalize= True).plot(kind='pie',title='Entries by Gender')\n",
    "\n"
   ]
  },
  {
   "cell_type": "code",
   "execution_count": 351,
   "metadata": {},
   "outputs": [
    {
     "name": "stdout",
     "output_type": "stream",
     "text": [
      "\u001b[1mAge: \u001b[0m \n",
      "By count:\n",
      "18-24    45\n",
      "25-34    24\n",
      "45-60    14\n",
      "35-44    12\n",
      "Name: age, dtype: int64\n",
      "\n",
      "By Percentage:\n",
      "18-24    47.368421\n",
      "25-34    25.263158\n",
      "45-60    14.736842\n",
      "35-44    12.631579\n",
      "Name: age, dtype: float64\n"
     ]
    },
    {
     "data": {
      "text/plain": [
       "<AxesSubplot:title={'center':'Entries by age'}, ylabel='age'>"
      ]
     },
     "execution_count": 351,
     "metadata": {},
     "output_type": "execute_result"
    },
    {
     "data": {
      "image/png": "[encoded data removed]",
      "text/plain": [
       "<Figure size 432x288 with 1 Axes>"
      ]
     },
     "metadata": {},
     "output_type": "display_data"
    }
   ],
   "source": [
    "print(\"\\033[1mAge: \\033[0m \\nBy count:\")\n",
    "print(df1['age'].value_counts())\n",
    "print(\"\\nBy Percentage:\")\n",
    "print(df1['age'].value_counts(normalize= True)*100)\n",
    "df1['age'].value_counts(normalize= True).plot(kind='pie',title='Entries by age')\n"
   ]
  },
  {
   "cell_type": "code",
   "execution_count": 352,
   "metadata": {},
   "outputs": [
    {
     "name": "stdout",
     "output_type": "stream",
     "text": [
      "\u001b[1mMarital Status: \u001b[0m \n",
      "By count:\n",
      "Single     59\n",
      "Married    36\n",
      "Name: marital status, dtype: int64\n",
      "\n",
      "By Percentage:\n",
      "Single     62.105263\n",
      "Married    37.894737\n",
      "Name: marital status, dtype: float64\n"
     ]
    },
    {
     "data": {
      "text/plain": [
       "<AxesSubplot:title={'center':'Entries by marital status'}, ylabel='marital status'>"
      ]
     },
     "execution_count": 352,
     "metadata": {},
     "output_type": "execute_result"
    },
    {
     "data": {
      "image/png": "[encoded data removed]",
      "text/plain": [
       "<Figure size 432x288 with 1 Axes>"
      ]
     },
     "metadata": {},
     "output_type": "display_data"
    }
   ],
   "source": [
    "print(\"\\033[1mMarital Status: \\033[0m \\nBy count:\")\n",
    "print(df1['marital status'].value_counts())\n",
    "print(\"\\nBy Percentage:\")\n",
    "print(df1['marital status'].value_counts(normalize= True)*100)\n",
    "df1['marital status'].value_counts(normalize= True).plot(kind='pie', title='Entries by marital status')\n"
   ]
  },
  {
   "cell_type": "markdown",
   "metadata": {},
   "source": [
    "## To start with the Analysis, we'll take up the relevant attributes, one at a time.In case a further need to analyse some particular attribute is felt, plots will be used to provide a clearer explanation. \n",
    "## To start with, Preferred Modes of working will be analysed against Gender, Age and Marital Status individually. Percentages are displayed columnwise.\n",
    "## This will be followed by a mosaic plot of Preferred Mode, Gender and Marital Status(Mosaic Plots will be used for multivariate analysis)"
   ]
  },
  {
   "cell_type": "code",
   "execution_count": 353,
   "metadata": {},
   "outputs": [],
   "source": [
    "import matplotlib.pyplot as plt\n",
    "import numpy as np\n",
    "from statsmodels.graphics.mosaicplot import mosaic\n",
    "from itertools import product"
   ]
  },
  {
   "cell_type": "code",
   "execution_count": 354,
   "metadata": {},
   "outputs": [
    {
     "name": "stdout",
     "output_type": "stream",
     "text": [
      "\u001b[1mPreferred modes of working by percentage:\u001b[0m\n",
      "Remote Mode(Work From Home)    50.526316\n",
      "Physical Mode                  49.473684\n",
      "Name: preferred mode, dtype: float64\n",
      "\n",
      " \n",
      "\u001b[1mPreferred modes of working by Gender:\u001b[0m\n",
      "(How to read the table: 44.7% females prefer Physical mode of working while 55.2% females prefer Remote mode of working): \n",
      "\n"
     ]
    },
    {
     "data": {
      "text/html": [
       "<div>\n",
       "<style scoped>\n",
       "    .dataframe tbody tr th:only-of-type {\n",
       "        vertical-align: middle;\n",
       "    }\n",
       "\n",
       "    .dataframe tbody tr th {\n",
       "        vertical-align: top;\n",
       "    }\n",
       "\n",
       "    .dataframe thead th {\n",
       "        text-align: right;\n",
       "    }\n",
       "</style>\n",
       "<table border=\"1\" class=\"dataframe\">\n",
       "  <thead>\n",
       "    <tr style=\"text-align: right;\">\n",
       "      <th>sex</th>\n",
       "      <th>Female</th>\n",
       "      <th>Male</th>\n",
       "    </tr>\n",
       "    <tr>\n",
       "      <th>preferred mode</th>\n",
       "      <th></th>\n",
       "      <th></th>\n",
       "    </tr>\n",
       "  </thead>\n",
       "  <tbody>\n",
       "    <tr>\n",
       "      <th>Physical Mode</th>\n",
       "      <td>44.736842</td>\n",
       "      <td>52.631579</td>\n",
       "    </tr>\n",
       "    <tr>\n",
       "      <th>Remote Mode(Work From Home)</th>\n",
       "      <td>55.263158</td>\n",
       "      <td>47.368421</td>\n",
       "    </tr>\n",
       "  </tbody>\n",
       "</table>\n",
       "</div>"
      ],
      "text/plain": [
       "sex                             Female       Male\n",
       "preferred mode                                   \n",
       "Physical Mode                44.736842  52.631579\n",
       "Remote Mode(Work From Home)  55.263158  47.368421"
      ]
     },
     "execution_count": 354,
     "metadata": {},
     "output_type": "execute_result"
    }
   ],
   "source": [
    "#Analysing preferred modes of working by Gender\n",
    "print(\"\\033[1mPreferred modes of working by percentage:\\033[0m\")\n",
    "print(df1['preferred mode'].value_counts(normalize= True)*100)\n",
    "print(\"\\n \\n\\033[1mPreferred modes of working by Gender:\\033[0m\\n(How to read the table: 44.7% females prefer Physical mode of working while 55.2% females prefer Remote mode of working): \\n\")\n",
    "pd.crosstab(df1['preferred mode'],df1['sex'], normalize= 'columns')*100\n"
   ]
  },
  {
   "cell_type": "code",
   "execution_count": 355,
   "metadata": {},
   "outputs": [
    {
     "name": "stdout",
     "output_type": "stream",
     "text": [
      "\n",
      " \n",
      "\u001b[1mPreferred modes of working by Age:\u001b[0m \n",
      "(How to read the table: 44.4% of the people belonging to the age group 18-24 prefer Physical mode of working while 55.5% of the same age group prefer Remote mode of working)\n",
      "\n"
     ]
    },
    {
     "data": {
      "text/html": [
       "<div>\n",
       "<style scoped>\n",
       "    .dataframe tbody tr th:only-of-type {\n",
       "        vertical-align: middle;\n",
       "    }\n",
       "\n",
       "    .dataframe tbody tr th {\n",
       "        vertical-align: top;\n",
       "    }\n",
       "\n",
       "    .dataframe thead th {\n",
       "        text-align: right;\n",
       "    }\n",
       "</style>\n",
       "<table border=\"1\" class=\"dataframe\">\n",
       "  <thead>\n",
       "    <tr style=\"text-align: right;\">\n",
       "      <th>age</th>\n",
       "      <th>18-24</th>\n",
       "      <th>25-34</th>\n",
       "      <th>35-44</th>\n",
       "      <th>45-60</th>\n",
       "    </tr>\n",
       "    <tr>\n",
       "      <th>preferred mode</th>\n",
       "      <th></th>\n",
       "      <th></th>\n",
       "      <th></th>\n",
       "      <th></th>\n",
       "    </tr>\n",
       "  </thead>\n",
       "  <tbody>\n",
       "    <tr>\n",
       "      <th>Physical Mode</th>\n",
       "      <td>44.444444</td>\n",
       "      <td>50.0</td>\n",
       "      <td>41.666667</td>\n",
       "      <td>71.428571</td>\n",
       "    </tr>\n",
       "    <tr>\n",
       "      <th>Remote Mode(Work From Home)</th>\n",
       "      <td>55.555556</td>\n",
       "      <td>50.0</td>\n",
       "      <td>58.333333</td>\n",
       "      <td>28.571429</td>\n",
       "    </tr>\n",
       "  </tbody>\n",
       "</table>\n",
       "</div>"
      ],
      "text/plain": [
       "age                              18-24  25-34      35-44      45-60\n",
       "preferred mode                                                     \n",
       "Physical Mode                44.444444   50.0  41.666667  71.428571\n",
       "Remote Mode(Work From Home)  55.555556   50.0  58.333333  28.571429"
      ]
     },
     "execution_count": 355,
     "metadata": {},
     "output_type": "execute_result"
    }
   ],
   "source": [
    "#Analysing preferred modes of working by Age\n",
    "print(\"\\n \\n\\033[1mPreferred modes of working by Age:\\033[0m \\n(How to read the table: 44.4% of the people belonging to the age group 18-24 prefer Physical mode of working while 55.5% of the same age group prefer Remote mode of working)\\n\")\n",
    "pd.crosstab(df1['preferred mode'],df1['age'], normalize= 'columns')*100"
   ]
  },
  {
   "cell_type": "code",
   "execution_count": 356,
   "metadata": {},
   "outputs": [
    {
     "name": "stdout",
     "output_type": "stream",
     "text": [
      "\n",
      " \n",
      "\u001b[1mPreferred modes of working by Marital status:\u001b[0m\n",
      "(How to read the table: 55.5% of the people who are married prefer Physical mode of working while 44.4% of the married people prefer Remote mode of working)\n"
     ]
    },
    {
     "data": {
      "text/html": [
       "<div>\n",
       "<style scoped>\n",
       "    .dataframe tbody tr th:only-of-type {\n",
       "        vertical-align: middle;\n",
       "    }\n",
       "\n",
       "    .dataframe tbody tr th {\n",
       "        vertical-align: top;\n",
       "    }\n",
       "\n",
       "    .dataframe thead th {\n",
       "        text-align: right;\n",
       "    }\n",
       "</style>\n",
       "<table border=\"1\" class=\"dataframe\">\n",
       "  <thead>\n",
       "    <tr style=\"text-align: right;\">\n",
       "      <th>marital status</th>\n",
       "      <th>Married</th>\n",
       "      <th>Single</th>\n",
       "    </tr>\n",
       "    <tr>\n",
       "      <th>preferred mode</th>\n",
       "      <th></th>\n",
       "      <th></th>\n",
       "    </tr>\n",
       "  </thead>\n",
       "  <tbody>\n",
       "    <tr>\n",
       "      <th>Physical Mode</th>\n",
       "      <td>55.555556</td>\n",
       "      <td>45.762712</td>\n",
       "    </tr>\n",
       "    <tr>\n",
       "      <th>Remote Mode(Work From Home)</th>\n",
       "      <td>44.444444</td>\n",
       "      <td>54.237288</td>\n",
       "    </tr>\n",
       "  </tbody>\n",
       "</table>\n",
       "</div>"
      ],
      "text/plain": [
       "marital status                 Married     Single\n",
       "preferred mode                                   \n",
       "Physical Mode                55.555556  45.762712\n",
       "Remote Mode(Work From Home)  44.444444  54.237288"
      ]
     },
     "execution_count": 356,
     "metadata": {},
     "output_type": "execute_result"
    }
   ],
   "source": [
    "#Analysing preferred modes of working by Marital Status\n",
    "print(\"\\n \\n\\033[1mPreferred modes of working by Marital status:\\033[0m\\n(How to read the table: 55.5% of the people who are married prefer Physical mode of working while 44.4% of the married people prefer Remote mode of working)\")\n",
    "pd.crosstab(df1['preferred mode'],df1['marital status'], normalize= 'columns')*100"
   ]
  },
  {
   "cell_type": "code",
   "execution_count": 357,
   "metadata": {},
   "outputs": [
    {
     "data": {
      "text/html": [
       "<div>\n",
       "<style scoped>\n",
       "    .dataframe tbody tr th:only-of-type {\n",
       "        vertical-align: middle;\n",
       "    }\n",
       "\n",
       "    .dataframe tbody tr th {\n",
       "        vertical-align: top;\n",
       "    }\n",
       "\n",
       "    .dataframe thead th {\n",
       "        text-align: right;\n",
       "    }\n",
       "</style>\n",
       "<table border=\"1\" class=\"dataframe\">\n",
       "  <thead>\n",
       "    <tr style=\"text-align: right;\">\n",
       "      <th>preferred mode</th>\n",
       "      <th>Physical Mode</th>\n",
       "      <th>Remote Mode(Work From Home)</th>\n",
       "    </tr>\n",
       "    <tr>\n",
       "      <th>sex</th>\n",
       "      <th></th>\n",
       "      <th></th>\n",
       "    </tr>\n",
       "  </thead>\n",
       "  <tbody>\n",
       "    <tr>\n",
       "      <th>Female</th>\n",
       "      <td>48.387097</td>\n",
       "      <td>51.612903</td>\n",
       "    </tr>\n",
       "    <tr>\n",
       "      <th>Male</th>\n",
       "      <td>42.857143</td>\n",
       "      <td>57.142857</td>\n",
       "    </tr>\n",
       "  </tbody>\n",
       "</table>\n",
       "</div>"
      ],
      "text/plain": [
       "preferred mode  Physical Mode  Remote Mode(Work From Home)\n",
       "sex                                                       \n",
       "Female              48.387097                    51.612903\n",
       "Male                42.857143                    57.142857"
      ]
     },
     "execution_count": 357,
     "metadata": {},
     "output_type": "execute_result"
    }
   ],
   "source": [
    "#Analysing preferred modes with respect to gender and marital status\n",
    "#finding labels for the mosaic plot\n",
    "df_single=df1[df1['marital status']=='Single']\n",
    "pd.crosstab(df_single['sex'],df_single['preferred mode'],normalize='index')*100\n"
   ]
  },
  {
   "cell_type": "code",
   "execution_count": 358,
   "metadata": {},
   "outputs": [
    {
     "data": {
      "text/html": [
       "<div>\n",
       "<style scoped>\n",
       "    .dataframe tbody tr th:only-of-type {\n",
       "        vertical-align: middle;\n",
       "    }\n",
       "\n",
       "    .dataframe tbody tr th {\n",
       "        vertical-align: top;\n",
       "    }\n",
       "\n",
       "    .dataframe thead th {\n",
       "        text-align: right;\n",
       "    }\n",
       "</style>\n",
       "<table border=\"1\" class=\"dataframe\">\n",
       "  <thead>\n",
       "    <tr style=\"text-align: right;\">\n",
       "      <th>preferred mode</th>\n",
       "      <th>Physical Mode</th>\n",
       "      <th>Remote Mode(Work From Home)</th>\n",
       "    </tr>\n",
       "    <tr>\n",
       "      <th>sex</th>\n",
       "      <th></th>\n",
       "      <th></th>\n",
       "    </tr>\n",
       "  </thead>\n",
       "  <tbody>\n",
       "    <tr>\n",
       "      <th>Female</th>\n",
       "      <td>28.571429</td>\n",
       "      <td>71.428571</td>\n",
       "    </tr>\n",
       "    <tr>\n",
       "      <th>Male</th>\n",
       "      <td>62.068966</td>\n",
       "      <td>37.931034</td>\n",
       "    </tr>\n",
       "  </tbody>\n",
       "</table>\n",
       "</div>"
      ],
      "text/plain": [
       "preferred mode  Physical Mode  Remote Mode(Work From Home)\n",
       "sex                                                       \n",
       "Female              28.571429                    71.428571\n",
       "Male                62.068966                    37.931034"
      ]
     },
     "execution_count": 358,
     "metadata": {},
     "output_type": "execute_result"
    }
   ],
   "source": [
    "#Finding labels for the mosaic plot\n",
    "df_married=df1[df1['marital status']=='Married']\n",
    "pd.crosstab(df_married['sex'],df_married['preferred mode'],normalize='index')*100\n"
   ]
  },
  {
   "cell_type": "markdown",
   "metadata": {},
   "source": [
    "## Analysing Preferred modes of working by Marital status and Gender"
   ]
  },
  {
   "cell_type": "code",
   "execution_count": 359,
   "metadata": {},
   "outputs": [
    {
     "data": {
      "image/png": "[encoded data removed]",
      "text/plain": [
       "<Figure size 432x288 with 3 Axes>"
      ]
     },
     "metadata": {
      "needs_background": "light"
     },
     "output_type": "display_data"
    }
   ],
   "source": [
    "#This Mosaic plot will explain what each tile represents to enhance understanding\n",
    "mosaic(df1,['marital status','sex','preferred mode'],title='Fig 4- Mosaic Plot with Tile Descriptions\\n')\n",
    "plt.show()"
   ]
  },
  {
   "cell_type": "code",
   "execution_count": 360,
   "metadata": {},
   "outputs": [
    {
     "data": {
      "image/png": "[encoded data removed]",
      "text/plain": [
       "<Figure size 432x288 with 3 Axes>"
      ]
     },
     "metadata": {
      "needs_background": "light"
     },
     "output_type": "display_data"
    },
    {
     "name": "stdout",
     "output_type": "stream",
     "text": [
      "\u001b[1mHow to read the plot:\u001b[0m 71.4% of Married Females prefer Remote mode of working while 28.6% of the married females prefer physical mode of work.\n"
     ]
    }
   ],
   "source": [
    "#Here, we'll be using labels calculated above for a better analysis \n",
    "props={}\n",
    "props[('Single','Female','Remote Mode(Work From Home)')]={'facecolor':'#FF7F50', 'edgecolor':'white'}\n",
    "props[('Single','Male','Remote Mode(Work From Home)')]={'facecolor':'#40E0D0', 'edgecolor':'white'}\n",
    "props[('Married','Female','Remote Mode(Work From Home)')]={'facecolor':'#7FFFD4','edgecolor':'white'}\n",
    "props[('Married','Male','Remote Mode(Work From Home)')]= {'facecolor':'#C79FEF','edgecolor':'white'}\n",
    "props[('Single','Female','Physical Mode')]={'facecolor':'#FC5A50', 'edgecolor':'white'}\n",
    "props[('Single','Male','Physical Mode')]={'facecolor':'#06C2AC', 'edgecolor':'white'}\n",
    "props[('Married','Female','Physical Mode')]={'facecolor':'#04D8B2','edgecolor':'white'}\n",
    "props[('Married','Male','Physical Mode')]= {'facecolor':'#DA70D6','edgecolor':'white'}\n",
    "labelizer=lambda k:{('Single','Female','Remote Mode(Work From Home)'):'51.6%',('Single','Male','Remote Mode(Work From Home)'):'57.1%',('Married','Female','Remote Mode(Work From Home)'):'71.4%',('Married','Male','Remote Mode(Work From Home)'):'37.9%',('Single','Female','Physical Mode'):'48.4%',('Single','Male','Physical Mode'):'42.9%',('Married','Female','Physical Mode'):'28.6%',('Married','Male','Physical Mode'):'62.1%'}[k]\n",
    "mosaic(df1,['marital status','sex','preferred mode'],title='Fig 5- Mosaic Plot with Percentage labels\\n',labelizer=labelizer,properties=props)\n",
    "plt.show()\n",
    "print(\"\\033[1mHow to read the plot:\\033[0m 71.4% of Married Females prefer Remote mode of working while 28.6% of the married females prefer physical mode of work.\")"
   ]
  },
  {
   "cell_type": "markdown",
   "metadata": {},
   "source": [
    "## Analysing remaining attributes with respect to Gender."
   ]
  },
  {
   "cell_type": "markdown",
   "metadata": {},
   "source": [
    "## (i) Salary Incentives"
   ]
  },
  {
   "cell_type": "code",
   "execution_count": 361,
   "metadata": {},
   "outputs": [
    {
     "data": {
      "text/html": [
       "<div>\n",
       "<style scoped>\n",
       "    .dataframe tbody tr th:only-of-type {\n",
       "        vertical-align: middle;\n",
       "    }\n",
       "\n",
       "    .dataframe tbody tr th {\n",
       "        vertical-align: top;\n",
       "    }\n",
       "\n",
       "    .dataframe thead th {\n",
       "        text-align: right;\n",
       "    }\n",
       "</style>\n",
       "<table border=\"1\" class=\"dataframe\">\n",
       "  <thead>\n",
       "    <tr style=\"text-align: right;\">\n",
       "      <th>salary incentives</th>\n",
       "      <th>Good</th>\n",
       "      <th>Poor</th>\n",
       "      <th>Same as before</th>\n",
       "      <th>Very Good</th>\n",
       "      <th>Very Poor</th>\n",
       "    </tr>\n",
       "    <tr>\n",
       "      <th>sex</th>\n",
       "      <th></th>\n",
       "      <th></th>\n",
       "      <th></th>\n",
       "      <th></th>\n",
       "      <th></th>\n",
       "    </tr>\n",
       "  </thead>\n",
       "  <tbody>\n",
       "    <tr>\n",
       "      <th>Female</th>\n",
       "      <td>5.263158</td>\n",
       "      <td>26.315789</td>\n",
       "      <td>55.263158</td>\n",
       "      <td>5.263158</td>\n",
       "      <td>7.894737</td>\n",
       "    </tr>\n",
       "    <tr>\n",
       "      <th>Male</th>\n",
       "      <td>24.561404</td>\n",
       "      <td>24.561404</td>\n",
       "      <td>36.842105</td>\n",
       "      <td>5.263158</td>\n",
       "      <td>8.771930</td>\n",
       "    </tr>\n",
       "  </tbody>\n",
       "</table>\n",
       "</div>"
      ],
      "text/plain": [
       "salary incentives       Good       Poor  Same as before  Very Good  Very Poor\n",
       "sex                                                                          \n",
       "Female              5.263158  26.315789       55.263158   5.263158   7.894737\n",
       "Male               24.561404  24.561404       36.842105   5.263158   8.771930"
      ]
     },
     "metadata": {},
     "output_type": "display_data"
    },
    {
     "name": "stdout",
     "output_type": "stream",
     "text": [
      "\n",
      " \n",
      " \u001b[1mHow to read a stacked bar chart:\u001b[0m Of the females, 5.26% felt that salary incentives were good, 26.3% felt that they were poor,\n",
      " 55.2% felt that they were the same as before,5.2% felt that they were very good and 7.8% felt that they were very poor.\n",
      " \n",
      "\n"
     ]
    },
    {
     "data": {
      "image/png": "[encoded data removed]",
      "text/plain": [
       "<Figure size 648x648 with 1 Axes>"
      ]
     },
     "metadata": {
      "needs_background": "light"
     },
     "output_type": "display_data"
    }
   ],
   "source": [
    "ct=pd.crosstab(df1['sex'],df1['salary incentives'], normalize= 'index')*100\n",
    "display(ct)\n",
    "ct.plot.bar(figsize=(9,9),xlabel='sex',ylabel='Salary Incentives',title='Fig 6: Stacked Barplot of Salary incentives against gender',stacked=True)\n",
    "print(\"\\n \\n \\033[1mHow to read a stacked bar chart:\\033[0m Of the females, 5.26% felt that salary incentives were good, 26.3% felt that they were poor,\\n 55.2% felt that they were the same as before,5.2% felt that they were very good and 7.8% felt that they were very poor.\\n \\n\")"
   ]
  },
  {
   "cell_type": "markdown",
   "metadata": {},
   "source": [
    "## (ii) Domestic Life "
   ]
  },
  {
   "cell_type": "code",
   "execution_count": 362,
   "metadata": {},
   "outputs": [
    {
     "data": {
      "text/html": [
       "<div>\n",
       "<style scoped>\n",
       "    .dataframe tbody tr th:only-of-type {\n",
       "        vertical-align: middle;\n",
       "    }\n",
       "\n",
       "    .dataframe tbody tr th {\n",
       "        vertical-align: top;\n",
       "    }\n",
       "\n",
       "    .dataframe thead th {\n",
       "        text-align: right;\n",
       "    }\n",
       "</style>\n",
       "<table border=\"1\" class=\"dataframe\">\n",
       "  <thead>\n",
       "    <tr style=\"text-align: right;\">\n",
       "      <th>domestic life</th>\n",
       "      <th>Did not have any affect</th>\n",
       "      <th>Slightly Improved</th>\n",
       "      <th>Slightly Negatively</th>\n",
       "      <th>Very Improved</th>\n",
       "      <th>Very Negatively</th>\n",
       "    </tr>\n",
       "    <tr>\n",
       "      <th>sex</th>\n",
       "      <th></th>\n",
       "      <th></th>\n",
       "      <th></th>\n",
       "      <th></th>\n",
       "      <th></th>\n",
       "    </tr>\n",
       "  </thead>\n",
       "  <tbody>\n",
       "    <tr>\n",
       "      <th>Female</th>\n",
       "      <td>26.315789</td>\n",
       "      <td>2.631579</td>\n",
       "      <td>52.631579</td>\n",
       "      <td>5.263158</td>\n",
       "      <td>13.157895</td>\n",
       "    </tr>\n",
       "    <tr>\n",
       "      <th>Male</th>\n",
       "      <td>31.578947</td>\n",
       "      <td>12.280702</td>\n",
       "      <td>52.631579</td>\n",
       "      <td>1.754386</td>\n",
       "      <td>1.754386</td>\n",
       "    </tr>\n",
       "  </tbody>\n",
       "</table>\n",
       "</div>"
      ],
      "text/plain": [
       "domestic life  Did not have any affect  Slightly Improved  \\\n",
       "sex                                                         \n",
       "Female                       26.315789           2.631579   \n",
       "Male                         31.578947          12.280702   \n",
       "\n",
       "domestic life  Slightly Negatively  Very Improved  Very Negatively  \n",
       "sex                                                                 \n",
       "Female                   52.631579       5.263158        13.157895  \n",
       "Male                     52.631579       1.754386         1.754386  "
      ]
     },
     "metadata": {},
     "output_type": "display_data"
    },
    {
     "data": {
      "text/plain": [
       "<AxesSubplot:title={'center':'Fig 7: Stacked Barplot of Domestic Life against gender'}, xlabel='sex', ylabel='Affect on Domestic Life'>"
      ]
     },
     "execution_count": 362,
     "metadata": {},
     "output_type": "execute_result"
    },
    {
     "data": {
      "image/png": "[encoded data removed]",
      "text/plain": [
       "<Figure size 648x648 with 1 Axes>"
      ]
     },
     "metadata": {
      "needs_background": "light"
     },
     "output_type": "display_data"
    }
   ],
   "source": [
    "ct1=pd.crosstab(df1['sex'],df1['domestic life'], normalize= 'index')*100\n",
    "display(ct1)\n",
    "ct1.plot.bar(figsize=(9,9),xlabel='sex',ylabel='Affect on Domestic Life',title='Fig 7: Stacked Barplot of Domestic Life against gender',stacked=True)"
   ]
  },
  {
   "cell_type": "markdown",
   "metadata": {},
   "source": [
    "## (iii) Personal Life"
   ]
  },
  {
   "cell_type": "code",
   "execution_count": 363,
   "metadata": {},
   "outputs": [
    {
     "data": {
      "text/html": [
       "<div>\n",
       "<style scoped>\n",
       "    .dataframe tbody tr th:only-of-type {\n",
       "        vertical-align: middle;\n",
       "    }\n",
       "\n",
       "    .dataframe tbody tr th {\n",
       "        vertical-align: top;\n",
       "    }\n",
       "\n",
       "    .dataframe thead th {\n",
       "        text-align: right;\n",
       "    }\n",
       "</style>\n",
       "<table border=\"1\" class=\"dataframe\">\n",
       "  <thead>\n",
       "    <tr style=\"text-align: right;\">\n",
       "      <th>personal life</th>\n",
       "      <th>Did not have any affect</th>\n",
       "      <th>Slightly Improved</th>\n",
       "      <th>Slightly Negatively</th>\n",
       "      <th>Very Improved</th>\n",
       "      <th>Very Negatively</th>\n",
       "    </tr>\n",
       "    <tr>\n",
       "      <th>sex</th>\n",
       "      <th></th>\n",
       "      <th></th>\n",
       "      <th></th>\n",
       "      <th></th>\n",
       "      <th></th>\n",
       "    </tr>\n",
       "  </thead>\n",
       "  <tbody>\n",
       "    <tr>\n",
       "      <th>Female</th>\n",
       "      <td>13.157895</td>\n",
       "      <td>15.789474</td>\n",
       "      <td>50.000000</td>\n",
       "      <td>2.631579</td>\n",
       "      <td>18.421053</td>\n",
       "    </tr>\n",
       "    <tr>\n",
       "      <th>Male</th>\n",
       "      <td>24.561404</td>\n",
       "      <td>19.298246</td>\n",
       "      <td>42.105263</td>\n",
       "      <td>3.508772</td>\n",
       "      <td>10.526316</td>\n",
       "    </tr>\n",
       "  </tbody>\n",
       "</table>\n",
       "</div>"
      ],
      "text/plain": [
       "personal life  Did not have any affect  Slightly Improved  \\\n",
       "sex                                                         \n",
       "Female                       13.157895          15.789474   \n",
       "Male                         24.561404          19.298246   \n",
       "\n",
       "personal life  Slightly Negatively  Very Improved  Very Negatively  \n",
       "sex                                                                 \n",
       "Female                   50.000000       2.631579        18.421053  \n",
       "Male                     42.105263       3.508772        10.526316  "
      ]
     },
     "metadata": {},
     "output_type": "display_data"
    },
    {
     "data": {
      "text/plain": [
       "<AxesSubplot:title={'center':'Fig 8: Stacked Barplot of Personal Life against gender'}, xlabel='sex', ylabel='Affect on Personal Life'>"
      ]
     },
     "execution_count": 363,
     "metadata": {},
     "output_type": "execute_result"
    },
    {
     "data": {
      "image/png": "[encoded data removed]",
      "text/plain": [
       "<Figure size 648x648 with 1 Axes>"
      ]
     },
     "metadata": {
      "needs_background": "light"
     },
     "output_type": "display_data"
    }
   ],
   "source": [
    "ct2=pd.crosstab(df1['sex'],df1['personal life'], normalize= 'index')*100\n",
    "display(ct2)\n",
    "ct2.plot.bar(figsize=(9,9),xlabel='sex',ylabel='Affect on Personal Life',title='Fig 8: Stacked Barplot of Personal Life against gender',stacked=True)"
   ]
  },
  {
   "cell_type": "markdown",
   "metadata": {},
   "source": [
    "## (iv) Layoff Fear"
   ]
  },
  {
   "cell_type": "code",
   "execution_count": 364,
   "metadata": {},
   "outputs": [
    {
     "data": {
      "text/html": [
       "<div>\n",
       "<style scoped>\n",
       "    .dataframe tbody tr th:only-of-type {\n",
       "        vertical-align: middle;\n",
       "    }\n",
       "\n",
       "    .dataframe tbody tr th {\n",
       "        vertical-align: top;\n",
       "    }\n",
       "\n",
       "    .dataframe thead th {\n",
       "        text-align: right;\n",
       "    }\n",
       "</style>\n",
       "<table border=\"1\" class=\"dataframe\">\n",
       "  <thead>\n",
       "    <tr style=\"text-align: right;\">\n",
       "      <th>layoff fear</th>\n",
       "      <th>Maybe</th>\n",
       "      <th>No</th>\n",
       "      <th>Yes</th>\n",
       "    </tr>\n",
       "    <tr>\n",
       "      <th>sex</th>\n",
       "      <th></th>\n",
       "      <th></th>\n",
       "      <th></th>\n",
       "    </tr>\n",
       "  </thead>\n",
       "  <tbody>\n",
       "    <tr>\n",
       "      <th>Female</th>\n",
       "      <td>25.00</td>\n",
       "      <td>28.125</td>\n",
       "      <td>46.875</td>\n",
       "    </tr>\n",
       "    <tr>\n",
       "      <th>Male</th>\n",
       "      <td>18.75</td>\n",
       "      <td>37.500</td>\n",
       "      <td>43.750</td>\n",
       "    </tr>\n",
       "  </tbody>\n",
       "</table>\n",
       "</div>"
      ],
      "text/plain": [
       "layoff fear  Maybe      No     Yes\n",
       "sex                               \n",
       "Female       25.00  28.125  46.875\n",
       "Male         18.75  37.500  43.750"
      ]
     },
     "metadata": {},
     "output_type": "display_data"
    },
    {
     "data": {
      "text/plain": [
       "<AxesSubplot:title={'center':'Fig9: Stacked Barplot of Fear of Layoff against gender'}, xlabel='sex', ylabel='Fear of Layoff'>"
      ]
     },
     "execution_count": 364,
     "metadata": {},
     "output_type": "execute_result"
    },
    {
     "data": {
      "image/png": "[encoded data removed]",
      "text/plain": [
       "<Figure size 648x648 with 1 Axes>"
      ]
     },
     "metadata": {
      "needs_background": "light"
     },
     "output_type": "display_data"
    }
   ],
   "source": [
    "df3=df1[df1['layoff fear'] != 'The question doesn\\'t apply to my situation']\n",
    "ct3=pd.crosstab(df3['sex'],df3['layoff fear'], normalize= 'index')*100\n",
    "display(ct3)\n",
    "ct3.plot.bar(figsize=(9,9),xlabel='sex',ylabel='Fear of Layoff',title='Fig9: Stacked Barplot of Fear of Layoff against gender',stacked=True)"
   ]
  },
  {
   "cell_type": "markdown",
   "metadata": {},
   "source": [
    "## (v) Domestic Obligation"
   ]
  },
  {
   "cell_type": "code",
   "execution_count": 365,
   "metadata": {},
   "outputs": [
    {
     "data": {
      "text/html": [
       "<div>\n",
       "<style scoped>\n",
       "    .dataframe tbody tr th:only-of-type {\n",
       "        vertical-align: middle;\n",
       "    }\n",
       "\n",
       "    .dataframe tbody tr th {\n",
       "        vertical-align: top;\n",
       "    }\n",
       "\n",
       "    .dataframe thead th {\n",
       "        text-align: right;\n",
       "    }\n",
       "</style>\n",
       "<table border=\"1\" class=\"dataframe\">\n",
       "  <thead>\n",
       "    <tr style=\"text-align: right;\">\n",
       "      <th>domestic obligation</th>\n",
       "      <th>Never</th>\n",
       "      <th>Often</th>\n",
       "      <th>Rarely</th>\n",
       "      <th>Very often</th>\n",
       "    </tr>\n",
       "    <tr>\n",
       "      <th>sex</th>\n",
       "      <th></th>\n",
       "      <th></th>\n",
       "      <th></th>\n",
       "      <th></th>\n",
       "    </tr>\n",
       "  </thead>\n",
       "  <tbody>\n",
       "    <tr>\n",
       "      <th>Female</th>\n",
       "      <td>18.421053</td>\n",
       "      <td>39.473684</td>\n",
       "      <td>31.578947</td>\n",
       "      <td>10.526316</td>\n",
       "    </tr>\n",
       "    <tr>\n",
       "      <th>Male</th>\n",
       "      <td>24.561404</td>\n",
       "      <td>26.315789</td>\n",
       "      <td>43.859649</td>\n",
       "      <td>5.263158</td>\n",
       "    </tr>\n",
       "  </tbody>\n",
       "</table>\n",
       "</div>"
      ],
      "text/plain": [
       "domestic obligation      Never      Often     Rarely  Very often\n",
       "sex                                                             \n",
       "Female               18.421053  39.473684  31.578947   10.526316\n",
       "Male                 24.561404  26.315789  43.859649    5.263158"
      ]
     },
     "metadata": {},
     "output_type": "display_data"
    },
    {
     "data": {
      "text/plain": [
       "<AxesSubplot:title={'center':'Fig 10: Stacked Barplot of Domestic Obligation against gender'}, xlabel='sex', ylabel='Domestic Obligation'>"
      ]
     },
     "execution_count": 365,
     "metadata": {},
     "output_type": "execute_result"
    },
    {
     "data": {
      "image/png": "[encoded data removed]",
      "text/plain": [
       "<Figure size 648x648 with 1 Axes>"
      ]
     },
     "metadata": {
      "needs_background": "light"
     },
     "output_type": "display_data"
    }
   ],
   "source": [
    "ct5=pd.crosstab(df1['sex'],df1['domestic obligation'], normalize= 'index')*100\n",
    "display(ct5)\n",
    "ct5.plot.bar(figsize=(9,9),xlabel='sex',ylabel='Domestic Obligation',title='Fig 10: Stacked Barplot of Domestic Obligation against gender',stacked=True)"
   ]
  },
  {
   "cell_type": "markdown",
   "metadata": {},
   "source": [
    "## (vi) Background Noises"
   ]
  },
  {
   "cell_type": "code",
   "execution_count": 366,
   "metadata": {},
   "outputs": [
    {
     "data": {
      "text/html": [
       "<div>\n",
       "<style scoped>\n",
       "    .dataframe tbody tr th:only-of-type {\n",
       "        vertical-align: middle;\n",
       "    }\n",
       "\n",
       "    .dataframe tbody tr th {\n",
       "        vertical-align: top;\n",
       "    }\n",
       "\n",
       "    .dataframe thead th {\n",
       "        text-align: right;\n",
       "    }\n",
       "</style>\n",
       "<table border=\"1\" class=\"dataframe\">\n",
       "  <thead>\n",
       "    <tr style=\"text-align: right;\">\n",
       "      <th>background noises</th>\n",
       "      <th>No</th>\n",
       "      <th>Yes</th>\n",
       "    </tr>\n",
       "    <tr>\n",
       "      <th>sex</th>\n",
       "      <th></th>\n",
       "      <th></th>\n",
       "    </tr>\n",
       "  </thead>\n",
       "  <tbody>\n",
       "    <tr>\n",
       "      <th>Female</th>\n",
       "      <td>21.875000</td>\n",
       "      <td>78.125000</td>\n",
       "    </tr>\n",
       "    <tr>\n",
       "      <th>Male</th>\n",
       "      <td>45.098039</td>\n",
       "      <td>54.901961</td>\n",
       "    </tr>\n",
       "  </tbody>\n",
       "</table>\n",
       "</div>"
      ],
      "text/plain": [
       "background noises         No        Yes\n",
       "sex                                    \n",
       "Female             21.875000  78.125000\n",
       "Male               45.098039  54.901961"
      ]
     },
     "metadata": {},
     "output_type": "display_data"
    },
    {
     "data": {
      "text/plain": [
       "<AxesSubplot:title={'center':'Fig 11: Stacked Barplot of Background Noises against gender'}, xlabel='sex', ylabel='background noises'>"
      ]
     },
     "execution_count": 366,
     "metadata": {},
     "output_type": "execute_result"
    },
    {
     "data": {
      "image/png": "[encoded data removed]",
      "text/plain": [
       "<Figure size 576x576 with 1 Axes>"
      ]
     },
     "metadata": {
      "needs_background": "light"
     },
     "output_type": "display_data"
    }
   ],
   "source": [
    "df2=df1[df1['background noises'] != 'The question doesn\\'t apply to my situation']\n",
    "ct6=pd.crosstab(df2['sex'],df2['background noises'], normalize= 'index')*100\n",
    "display(ct6)\n",
    "ct6.plot.bar(figsize=(8,8),xlabel='sex',ylabel='background noises',title='Fig 11: Stacked Barplot of Background Noises against gender',stacked=True)"
   ]
  },
  {
   "cell_type": "markdown",
   "metadata": {},
   "source": [
    "## (vi) Personal Calls from superiors/colleagues\n"
   ]
  },
  {
   "cell_type": "code",
   "execution_count": 367,
   "metadata": {},
   "outputs": [
    {
     "data": {
      "text/html": [
       "<div>\n",
       "<style scoped>\n",
       "    .dataframe tbody tr th:only-of-type {\n",
       "        vertical-align: middle;\n",
       "    }\n",
       "\n",
       "    .dataframe tbody tr th {\n",
       "        vertical-align: top;\n",
       "    }\n",
       "\n",
       "    .dataframe thead th {\n",
       "        text-align: right;\n",
       "    }\n",
       "</style>\n",
       "<table border=\"1\" class=\"dataframe\">\n",
       "  <thead>\n",
       "    <tr style=\"text-align: right;\">\n",
       "      <th>personal calls</th>\n",
       "      <th>Never</th>\n",
       "      <th>Often</th>\n",
       "      <th>Rarely</th>\n",
       "      <th>Very often</th>\n",
       "    </tr>\n",
       "    <tr>\n",
       "      <th>sex</th>\n",
       "      <th></th>\n",
       "      <th></th>\n",
       "      <th></th>\n",
       "      <th></th>\n",
       "    </tr>\n",
       "  </thead>\n",
       "  <tbody>\n",
       "    <tr>\n",
       "      <th>Female</th>\n",
       "      <td>18.421053</td>\n",
       "      <td>23.684211</td>\n",
       "      <td>50.000000</td>\n",
       "      <td>7.894737</td>\n",
       "    </tr>\n",
       "    <tr>\n",
       "      <th>Male</th>\n",
       "      <td>15.789474</td>\n",
       "      <td>22.807018</td>\n",
       "      <td>56.140351</td>\n",
       "      <td>5.263158</td>\n",
       "    </tr>\n",
       "  </tbody>\n",
       "</table>\n",
       "</div>"
      ],
      "text/plain": [
       "personal calls      Never      Often     Rarely  Very often\n",
       "sex                                                        \n",
       "Female          18.421053  23.684211  50.000000    7.894737\n",
       "Male            15.789474  22.807018  56.140351    5.263158"
      ]
     },
     "metadata": {},
     "output_type": "display_data"
    },
    {
     "data": {
      "text/plain": [
       "<AxesSubplot:title={'center':'Fig 12: Stacked Barplot of of personal against gender'}, xlabel='sex', ylabel='Personal Calls'>"
      ]
     },
     "execution_count": 367,
     "metadata": {},
     "output_type": "execute_result"
    },
    {
     "data": {
      "image/png": "[encoded data removed]",
      "text/plain": [
       "<Figure size 576x576 with 1 Axes>"
      ]
     },
     "metadata": {
      "needs_background": "light"
     },
     "output_type": "display_data"
    }
   ],
   "source": [
    "ct7=pd.crosstab(df1['sex'],df1['personal calls'], normalize= 'index')*100\n",
    "display(ct7)\n",
    "ct7.plot.bar(figsize=(8,8),xlabel='sex',ylabel='Personal Calls',title='Fig 12: Stacked Barplot of of personal against gender',stacked=True)"
   ]
  },
  {
   "cell_type": "markdown",
   "metadata": {},
   "source": [
    "## (vii) Silenced on calls/meets"
   ]
  },
  {
   "cell_type": "code",
   "execution_count": 368,
   "metadata": {},
   "outputs": [
    {
     "data": {
      "text/html": [
       "<div>\n",
       "<style scoped>\n",
       "    .dataframe tbody tr th:only-of-type {\n",
       "        vertical-align: middle;\n",
       "    }\n",
       "\n",
       "    .dataframe tbody tr th {\n",
       "        vertical-align: top;\n",
       "    }\n",
       "\n",
       "    .dataframe thead th {\n",
       "        text-align: right;\n",
       "    }\n",
       "</style>\n",
       "<table border=\"1\" class=\"dataframe\">\n",
       "  <thead>\n",
       "    <tr style=\"text-align: right;\">\n",
       "      <th>silenced</th>\n",
       "      <th>Never</th>\n",
       "      <th>Often</th>\n",
       "      <th>Rarely</th>\n",
       "      <th>Very often</th>\n",
       "    </tr>\n",
       "    <tr>\n",
       "      <th>sex</th>\n",
       "      <th></th>\n",
       "      <th></th>\n",
       "      <th></th>\n",
       "      <th></th>\n",
       "    </tr>\n",
       "  </thead>\n",
       "  <tbody>\n",
       "    <tr>\n",
       "      <th>Female</th>\n",
       "      <td>26.315789</td>\n",
       "      <td>21.052632</td>\n",
       "      <td>47.368421</td>\n",
       "      <td>5.263158</td>\n",
       "    </tr>\n",
       "    <tr>\n",
       "      <th>Male</th>\n",
       "      <td>31.578947</td>\n",
       "      <td>19.298246</td>\n",
       "      <td>47.368421</td>\n",
       "      <td>1.754386</td>\n",
       "    </tr>\n",
       "  </tbody>\n",
       "</table>\n",
       "</div>"
      ],
      "text/plain": [
       "silenced      Never      Often     Rarely  Very often\n",
       "sex                                                  \n",
       "Female    26.315789  21.052632  47.368421    5.263158\n",
       "Male      31.578947  19.298246  47.368421    1.754386"
      ]
     },
     "metadata": {},
     "output_type": "display_data"
    },
    {
     "data": {
      "text/plain": [
       "<AxesSubplot:title={'center':'Fig 13: Stacked Barplot of Silenced on calls/meetings against gender'}, xlabel='sex', ylabel='Silenced on calls/meetings'>"
      ]
     },
     "execution_count": 368,
     "metadata": {},
     "output_type": "execute_result"
    },
    {
     "data": {
      "image/png": "[encoded data removed]",
      "text/plain": [
       "<Figure size 576x576 with 1 Axes>"
      ]
     },
     "metadata": {
      "needs_background": "light"
     },
     "output_type": "display_data"
    }
   ],
   "source": [
    "ct8=pd.crosstab(df1['sex'],df1['silenced'], normalize= 'index')*100\n",
    "display(ct8)\n",
    "ct8.plot.bar(figsize=(8,8),xlabel='sex',ylabel='Silenced on calls/meetings',title='Fig 13: Stacked Barplot of Silenced on calls/meetings against gender',stacked=True)"
   ]
  },
  {
   "cell_type": "markdown",
   "metadata": {},
   "source": [
    "## (viii) Avoid contacting superiors/colleagues"
   ]
  },
  {
   "cell_type": "code",
   "execution_count": 369,
   "metadata": {},
   "outputs": [
    {
     "data": {
      "text/html": [
       "<div>\n",
       "<style scoped>\n",
       "    .dataframe tbody tr th:only-of-type {\n",
       "        vertical-align: middle;\n",
       "    }\n",
       "\n",
       "    .dataframe tbody tr th {\n",
       "        vertical-align: top;\n",
       "    }\n",
       "\n",
       "    .dataframe thead th {\n",
       "        text-align: right;\n",
       "    }\n",
       "</style>\n",
       "<table border=\"1\" class=\"dataframe\">\n",
       "  <thead>\n",
       "    <tr style=\"text-align: right;\">\n",
       "      <th>avoid contact</th>\n",
       "      <th>Never</th>\n",
       "      <th>Often</th>\n",
       "      <th>Rarely</th>\n",
       "      <th>Very often</th>\n",
       "    </tr>\n",
       "    <tr>\n",
       "      <th>sex</th>\n",
       "      <th></th>\n",
       "      <th></th>\n",
       "      <th></th>\n",
       "      <th></th>\n",
       "    </tr>\n",
       "  </thead>\n",
       "  <tbody>\n",
       "    <tr>\n",
       "      <th>Female</th>\n",
       "      <td>34.210526</td>\n",
       "      <td>18.421053</td>\n",
       "      <td>34.210526</td>\n",
       "      <td>13.157895</td>\n",
       "    </tr>\n",
       "    <tr>\n",
       "      <th>Male</th>\n",
       "      <td>49.122807</td>\n",
       "      <td>8.771930</td>\n",
       "      <td>42.105263</td>\n",
       "      <td>0.000000</td>\n",
       "    </tr>\n",
       "  </tbody>\n",
       "</table>\n",
       "</div>"
      ],
      "text/plain": [
       "avoid contact      Never      Often     Rarely  Very often\n",
       "sex                                                       \n",
       "Female         34.210526  18.421053  34.210526   13.157895\n",
       "Male           49.122807   8.771930  42.105263    0.000000"
      ]
     },
     "metadata": {},
     "output_type": "display_data"
    },
    {
     "data": {
      "text/plain": [
       "<AxesSubplot:title={'center':'Fig 14: Stacked Barplot of Avoiding contact against gender'}, xlabel='sex', ylabel='Did you avoid contact?'>"
      ]
     },
     "execution_count": 369,
     "metadata": {},
     "output_type": "execute_result"
    },
    {
     "data": {
      "image/png": "[encoded data removed]",
      "text/plain": [
       "<Figure size 576x576 with 1 Axes>"
      ]
     },
     "metadata": {
      "needs_background": "light"
     },
     "output_type": "display_data"
    }
   ],
   "source": [
    "ct9=pd.crosstab(df1['sex'],df1['avoid contact'], normalize= 'index')*100\n",
    "display(ct9)\n",
    "ct9.plot.bar(figsize=(8,8),xlabel='sex',ylabel='Did you avoid contact?',title='Fig 14: Stacked Barplot of Avoiding contact against gender',stacked=True)"
   ]
  },
  {
   "cell_type": "markdown",
   "metadata": {},
   "source": [
    "## (ix) Sexual Harassment"
   ]
  },
  {
   "cell_type": "code",
   "execution_count": 370,
   "metadata": {},
   "outputs": [
    {
     "data": {
      "text/html": [
       "<div>\n",
       "<style scoped>\n",
       "    .dataframe tbody tr th:only-of-type {\n",
       "        vertical-align: middle;\n",
       "    }\n",
       "\n",
       "    .dataframe tbody tr th {\n",
       "        vertical-align: top;\n",
       "    }\n",
       "\n",
       "    .dataframe thead th {\n",
       "        text-align: right;\n",
       "    }\n",
       "</style>\n",
       "<table border=\"1\" class=\"dataframe\">\n",
       "  <thead>\n",
       "    <tr style=\"text-align: right;\">\n",
       "      <th>sexual harassment</th>\n",
       "      <th>No</th>\n",
       "      <th>Yes</th>\n",
       "    </tr>\n",
       "    <tr>\n",
       "      <th>sex</th>\n",
       "      <th></th>\n",
       "      <th></th>\n",
       "    </tr>\n",
       "  </thead>\n",
       "  <tbody>\n",
       "    <tr>\n",
       "      <th>Female</th>\n",
       "      <td>86.842105</td>\n",
       "      <td>13.157895</td>\n",
       "    </tr>\n",
       "    <tr>\n",
       "      <th>Male</th>\n",
       "      <td>100.000000</td>\n",
       "      <td>0.000000</td>\n",
       "    </tr>\n",
       "  </tbody>\n",
       "</table>\n",
       "</div>"
      ],
      "text/plain": [
       "sexual harassment          No        Yes\n",
       "sex                                     \n",
       "Female              86.842105  13.157895\n",
       "Male               100.000000   0.000000"
      ]
     },
     "metadata": {},
     "output_type": "display_data"
    },
    {
     "data": {
      "text/plain": [
       "<AxesSubplot:title={'center':'Fig 15: Stacked Barplot of sexual harassment against gender'}, xlabel='sex', ylabel='Sexual Harassment'>"
      ]
     },
     "execution_count": 370,
     "metadata": {},
     "output_type": "execute_result"
    },
    {
     "data": {
      "image/png": "[encoded data removed]",
      "text/plain": [
       "<Figure size 540x540 with 1 Axes>"
      ]
     },
     "metadata": {
      "needs_background": "light"
     },
     "output_type": "display_data"
    }
   ],
   "source": [
    "ct10=pd.crosstab(df1['sex'],df1['sexual harassment'], normalize= 'index')*100\n",
    "display(ct10)\n",
    "ct10.plot.bar(figsize=(7.5,7.5),xlabel='sex',ylabel='Sexual Harassment',title='Fig 15: Stacked Barplot of sexual harassment against gender',stacked=True)"
   ]
  },
  {
   "cell_type": "markdown",
   "metadata": {},
   "source": [
    "## (x) Better Policies"
   ]
  },
  {
   "cell_type": "code",
   "execution_count": 371,
   "metadata": {},
   "outputs": [
    {
     "data": {
      "text/html": [
       "<div>\n",
       "<style scoped>\n",
       "    .dataframe tbody tr th:only-of-type {\n",
       "        vertical-align: middle;\n",
       "    }\n",
       "\n",
       "    .dataframe tbody tr th {\n",
       "        vertical-align: top;\n",
       "    }\n",
       "\n",
       "    .dataframe thead th {\n",
       "        text-align: right;\n",
       "    }\n",
       "</style>\n",
       "<table border=\"1\" class=\"dataframe\">\n",
       "  <thead>\n",
       "    <tr style=\"text-align: right;\">\n",
       "      <th>better policies</th>\n",
       "      <th>No</th>\n",
       "      <th>Yes</th>\n",
       "    </tr>\n",
       "    <tr>\n",
       "      <th>sex</th>\n",
       "      <th></th>\n",
       "      <th></th>\n",
       "    </tr>\n",
       "  </thead>\n",
       "  <tbody>\n",
       "    <tr>\n",
       "      <th>Female</th>\n",
       "      <td>28.947368</td>\n",
       "      <td>71.052632</td>\n",
       "    </tr>\n",
       "    <tr>\n",
       "      <th>Male</th>\n",
       "      <td>40.350877</td>\n",
       "      <td>59.649123</td>\n",
       "    </tr>\n",
       "  </tbody>\n",
       "</table>\n",
       "</div>"
      ],
      "text/plain": [
       "better policies         No        Yes\n",
       "sex                                  \n",
       "Female           28.947368  71.052632\n",
       "Male             40.350877  59.649123"
      ]
     },
     "metadata": {},
     "output_type": "display_data"
    },
    {
     "data": {
      "text/plain": [
       "<AxesSubplot:title={'center':'Fig 16: Stacked Barplot of better policies on calls/meetings against gender'}, xlabel='sex', ylabel='Need for Better Policies'>"
      ]
     },
     "execution_count": 371,
     "metadata": {},
     "output_type": "execute_result"
    },
    {
     "data": {
      "image/png": "[encoded data removed]",
      "text/plain": [
       "<Figure size 432x432 with 1 Axes>"
      ]
     },
     "metadata": {
      "needs_background": "light"
     },
     "output_type": "display_data"
    }
   ],
   "source": [
    "ct11=pd.crosstab(df1['sex'],df1['better policies'], normalize= 'index')*100\n",
    "display(ct11)\n",
    "ct11.plot.bar(figsize=(6,6),xlabel='sex',ylabel='Need for Better Policies',title='Fig 16: Stacked Barplot of better policies on calls/meetings against gender',stacked=True)"
   ]
  },
  {
   "cell_type": "markdown",
   "metadata": {},
   "source": [
    "## (xi) Biased Impact"
   ]
  },
  {
   "cell_type": "code",
   "execution_count": 372,
   "metadata": {},
   "outputs": [
    {
     "data": {
      "text/html": [
       "<div>\n",
       "<style scoped>\n",
       "    .dataframe tbody tr th:only-of-type {\n",
       "        vertical-align: middle;\n",
       "    }\n",
       "\n",
       "    .dataframe tbody tr th {\n",
       "        vertical-align: top;\n",
       "    }\n",
       "\n",
       "    .dataframe thead th {\n",
       "        text-align: right;\n",
       "    }\n",
       "</style>\n",
       "<table border=\"1\" class=\"dataframe\">\n",
       "  <thead>\n",
       "    <tr style=\"text-align: right;\">\n",
       "      <th>biased impact</th>\n",
       "      <th>Maybe</th>\n",
       "      <th>No</th>\n",
       "      <th>Yes</th>\n",
       "    </tr>\n",
       "    <tr>\n",
       "      <th>sex</th>\n",
       "      <th></th>\n",
       "      <th></th>\n",
       "      <th></th>\n",
       "    </tr>\n",
       "  </thead>\n",
       "  <tbody>\n",
       "    <tr>\n",
       "      <th>Female</th>\n",
       "      <td>44.736842</td>\n",
       "      <td>23.684211</td>\n",
       "      <td>31.578947</td>\n",
       "    </tr>\n",
       "    <tr>\n",
       "      <th>Male</th>\n",
       "      <td>26.315789</td>\n",
       "      <td>57.894737</td>\n",
       "      <td>15.789474</td>\n",
       "    </tr>\n",
       "  </tbody>\n",
       "</table>\n",
       "</div>"
      ],
      "text/plain": [
       "biased impact      Maybe         No        Yes\n",
       "sex                                           \n",
       "Female         44.736842  23.684211  31.578947\n",
       "Male           26.315789  57.894737  15.789474"
      ]
     },
     "metadata": {},
     "output_type": "display_data"
    },
    {
     "data": {
      "text/plain": [
       "<AxesSubplot:title={'center':'Fig 17: Stacked Barplot of Biased Impact of the Pandemic against gender'}, xlabel='sex', ylabel='Biased Impact'>"
      ]
     },
     "execution_count": 372,
     "metadata": {},
     "output_type": "execute_result"
    },
    {
     "data": {
      "image/png": "[encoded data removed]",
      "text/plain": [
       "<Figure size 432x432 with 1 Axes>"
      ]
     },
     "metadata": {
      "needs_background": "light"
     },
     "output_type": "display_data"
    }
   ],
   "source": [
    "ct12=pd.crosstab(df1['sex'],df1['biased impact'], normalize= 'index')*100\n",
    "display(ct12)\n",
    "ct12.plot.bar(figsize=(6,6),xlabel='sex',ylabel='Biased Impact',title='Fig 17: Stacked Barplot of Biased Impact of the Pandemic against gender',stacked=True)"
   ]
  },
  {
   "cell_type": "markdown",
   "metadata": {},
   "source": [
    "## HYPOTHETICAL TESTING (Since we are working with categorical data, we will be going for Chi- Square Test in all the cases)\n",
    "\n",
    "  - step 1 : Formulating hypothesis\n",
    "  - H0: Salary Incentives and employee gender are independent\n",
    "  - HA: Salary Incentives and employee gender are dependent\n",
    "  - step 2 : Choosing the test\n",
    "  - Chi-Square\n",
    "  - step 3 : Choosing significance level\n",
    "  - 0.05\n",
    "  - step 4 : Applying test and finding p-value\n",
    "  - step 5 : compare p-value and the significance level"
   ]
  },
  {
   "cell_type": "code",
   "execution_count": 373,
   "metadata": {},
   "outputs": [],
   "source": [
    "import scipy.stats as sp"
   ]
  },
  {
   "cell_type": "markdown",
   "metadata": {},
   "source": [
    " ## (i) Preferred Mode\n",
    "     \n",
    "  - Formulating hypothesis\n",
    "  - H0: Preferred Mode and employee gender are independent\n",
    "  - HA: Preferred Mode Incentives and employee gender are dependent\n",
    "  - conclusion : As p-value(0.58) is greater than 0.05 we accept the null hypothesis"
   ]
  },
  {
   "cell_type": "code",
   "execution_count": 374,
   "metadata": {},
   "outputs": [
    {
     "data": {
      "text/plain": [
       "(0.29652408392435026,\n",
       " 0.5860697584757926,\n",
       " 1,\n",
       " array([[18.8, 28.2],\n",
       "        [19.2, 28.8]]))"
      ]
     },
     "execution_count": 374,
     "metadata": {},
     "output_type": "execute_result"
    }
   ],
   "source": [
    "t1=pd.crosstab(df1['preferred mode'],df1['sex'])\n",
    "sp.chi2_contingency(t1)"
   ]
  },
  {
   "cell_type": "markdown",
   "metadata": {},
   "source": [
    "## (ii) Salary Incentives\n",
    "\n",
    "  - step 1 : Formulating hypothesis\n",
    "  - H0: Salary Incentives and employee gender are independent\n",
    "  - HA: Salary Incentives and employee gender are dependent\n",
    "  - conclusion : As p-value(0.144) is greater than 0.05 we accept the null hypothesis"
   ]
  },
  {
   "cell_type": "code",
   "execution_count": 375,
   "metadata": {},
   "outputs": [
    {
     "data": {
      "text/plain": [
       "(6.840277777777779,\n",
       " 0.14457342478739335,\n",
       " 4,\n",
       " array([[ 6.4,  9.6],\n",
       "        [ 9.6, 14.4],\n",
       "        [16.8, 25.2],\n",
       "        [ 2. ,  3. ],\n",
       "        [ 3.2,  4.8]]))"
      ]
     },
     "execution_count": 375,
     "metadata": {},
     "output_type": "execute_result"
    }
   ],
   "source": [
    "t2=pd.crosstab(df1['salary incentives'],df1['sex'])\n",
    "sp.chi2_contingency(t2)"
   ]
  },
  {
   "cell_type": "markdown",
   "metadata": {},
   "source": [
    "## (iii) Domestic Life\n",
    "\n",
    "  - H0: Domestic Life and employee gender are independent\n",
    "  - HA: Domestic life and employee gender are dependent\n",
    "  - conclusion : As p-value(0.08) is greater than 0.05 we accept the null hypothesis"
   ]
  },
  {
   "cell_type": "code",
   "execution_count": 376,
   "metadata": {},
   "outputs": [
    {
     "data": {
      "text/plain": [
       "(8.318452380952381,\n",
       " 0.08058525510778541,\n",
       " 4,\n",
       " array([[11.2, 16.8],\n",
       "        [ 3.2,  4.8],\n",
       "        [20. , 30. ],\n",
       "        [ 1.2,  1.8],\n",
       "        [ 2.4,  3.6]]))"
      ]
     },
     "execution_count": 376,
     "metadata": {},
     "output_type": "execute_result"
    }
   ],
   "source": [
    "t3=pd.crosstab(df1['domestic life'],df1['sex'])\n",
    "sp.chi2_contingency(t3)"
   ]
  },
  {
   "cell_type": "markdown",
   "metadata": {},
   "source": [
    "## (iv) Personal Life\n",
    "  - H0: Personal Life and employee gender are independent\n",
    "  - HA: Personal Life and employee gender are dependent\n",
    "  - conclusion : As p-value(0.54) is greater than 0.05 we accept the null hypothesis"
   ]
  },
  {
   "cell_type": "code",
   "execution_count": 377,
   "metadata": {},
   "outputs": [
    {
     "data": {
      "text/plain": [
       "(3.047289467838103,\n",
       " 0.5499430484831007,\n",
       " 4,\n",
       " array([[ 7.6, 11.4],\n",
       "        [ 6.8, 10.2],\n",
       "        [17.2, 25.8],\n",
       "        [ 1.2,  1.8],\n",
       "        [ 5.2,  7.8]]))"
      ]
     },
     "execution_count": 377,
     "metadata": {},
     "output_type": "execute_result"
    }
   ],
   "source": [
    "t4=pd.crosstab(df1['personal life'],df1['sex'])\n",
    "sp.chi2_contingency(t4)"
   ]
  },
  {
   "cell_type": "markdown",
   "metadata": {},
   "source": [
    "## (v) Layoff Fear\n",
    "  - H0: Layoff Fear and employee gender are independent\n",
    "  - HA: Layoff Fear and employee gender are dependent\n",
    "  - conclusion : As p-value(0.6) is greater than 0.05 we accept the null hypothesis"
   ]
  },
  {
   "cell_type": "code",
   "execution_count": 378,
   "metadata": {},
   "outputs": [
    {
     "data": {
      "text/plain": [
       "(0.8946078431372553,\n",
       " 0.6393495666207979,\n",
       " 2,\n",
       " array([[ 6.8, 10.2],\n",
       "        [10.8, 16.2],\n",
       "        [14.4, 21.6]]))"
      ]
     },
     "execution_count": 378,
     "metadata": {},
     "output_type": "execute_result"
    }
   ],
   "source": [
    "t5=pd.crosstab(df3['layoff fear'],df3['sex'])\n",
    "sp.chi2_contingency(t5)"
   ]
  },
  {
   "cell_type": "markdown",
   "metadata": {},
   "source": [
    "## (vi) Stretched Hours\n",
    "  - H0: Stretched hours and employee gender are independent\n",
    "  - HA: Stretched Hours and employee gender are dependent\n",
    "  - conclusion : As p-value(0.8) is greater than 0.05 we accept the null hypothesis"
   ]
  },
  {
   "cell_type": "code",
   "execution_count": 379,
   "metadata": {},
   "outputs": [
    {
     "data": {
      "text/plain": [
       "(0.8946078431372553,\n",
       " 0.8267288619881376,\n",
       " 3,\n",
       " array([[ 6.8, 10.2],\n",
       "        [10.8, 16.2],\n",
       "        [ 6. ,  9. ],\n",
       "        [14.4, 21.6]]))"
      ]
     },
     "execution_count": 379,
     "metadata": {},
     "output_type": "execute_result"
    }
   ],
   "source": [
    "t6=pd.crosstab(df1['layoff fear'],df1['sex'])\n",
    "sp.chi2_contingency(t6)"
   ]
  },
  {
   "cell_type": "markdown",
   "metadata": {},
   "source": [
    "## (vii) Domestic Obligation\n",
    "  - H0: Domestic Obligation and employee gender are independent\n",
    "  - HA: Domestic Obligation and employee gender are dependent\n",
    "  - conclusion : As p-value(0.33) is greater than 0.05 we accept the null hypothesis"
   ]
  },
  {
   "cell_type": "code",
   "execution_count": 380,
   "metadata": {},
   "outputs": [
    {
     "data": {
      "text/plain": [
       "(3.3789146289146297,\n",
       " 0.33680935486530533,\n",
       " 3,\n",
       " array([[ 8.4, 12.6],\n",
       "        [12. , 18. ],\n",
       "        [14.8, 22.2],\n",
       "        [ 2.8,  4.2]]))"
      ]
     },
     "execution_count": 380,
     "metadata": {},
     "output_type": "execute_result"
    }
   ],
   "source": [
    "t7=pd.crosstab(df1['domestic obligation'],df1['sex'])\n",
    "sp.chi2_contingency(t7)"
   ]
  },
  {
   "cell_type": "markdown",
   "metadata": {},
   "source": [
    "## (viii) Background Noises\n",
    "  - H0: Backgrond Noises and employee gender are independent\n",
    "  - HA: Backgrond Noises and employee gender are dependent\n",
    "  - conclusion : As p-value() is less than 0.05 we accept the Alternate hypothesis"
   ]
  },
  {
   "cell_type": "code",
   "execution_count": 381,
   "metadata": {},
   "outputs": [
    {
     "data": {
      "text/plain": [
       "(3.6434127011653734,\n",
       " 0.05629143760076641,\n",
       " 1,\n",
       " array([[11.56626506, 18.43373494],\n",
       "        [20.43373494, 32.56626506]]))"
      ]
     },
     "execution_count": 381,
     "metadata": {},
     "output_type": "execute_result"
    }
   ],
   "source": [
    "t8=pd.crosstab(df2['background noises'],df2['sex'])\n",
    "sp.chi2_contingency(t8)"
   ]
  },
  {
   "cell_type": "markdown",
   "metadata": {},
   "source": [
    "#### Further Analysing the replies by respective genders"
   ]
  },
  {
   "cell_type": "code",
   "execution_count": 382,
   "metadata": {},
   "outputs": [
    {
     "data": {
      "text/html": [
       "<div>\n",
       "<style scoped>\n",
       "    .dataframe tbody tr th:only-of-type {\n",
       "        vertical-align: middle;\n",
       "    }\n",
       "\n",
       "    .dataframe tbody tr th {\n",
       "        vertical-align: top;\n",
       "    }\n",
       "\n",
       "    .dataframe thead th {\n",
       "        text-align: right;\n",
       "    }\n",
       "</style>\n",
       "<table border=\"1\" class=\"dataframe\">\n",
       "  <thead>\n",
       "    <tr style=\"text-align: right;\">\n",
       "      <th>sex</th>\n",
       "      <th>Female</th>\n",
       "      <th>Male</th>\n",
       "    </tr>\n",
       "    <tr>\n",
       "      <th>background noises</th>\n",
       "      <th></th>\n",
       "      <th></th>\n",
       "    </tr>\n",
       "  </thead>\n",
       "  <tbody>\n",
       "    <tr>\n",
       "      <th>No</th>\n",
       "      <td>21.875</td>\n",
       "      <td>45.098039</td>\n",
       "    </tr>\n",
       "    <tr>\n",
       "      <th>Yes</th>\n",
       "      <td>78.125</td>\n",
       "      <td>54.901961</td>\n",
       "    </tr>\n",
       "  </tbody>\n",
       "</table>\n",
       "</div>"
      ],
      "text/plain": [
       "sex                Female       Male\n",
       "background noises                   \n",
       "No                 21.875  45.098039\n",
       "Yes                78.125  54.901961"
      ]
     },
     "metadata": {},
     "output_type": "display_data"
    },
    {
     "name": "stdout",
     "output_type": "stream",
     "text": [
      "\n",
      "\n",
      "\u001b[1m Of the people who faced background noises, all those who felt that the pandemic has a biased impact on some particular gender: \n"
     ]
    },
    {
     "data": {
      "text/html": [
       "<div>\n",
       "<style scoped>\n",
       "    .dataframe tbody tr th:only-of-type {\n",
       "        vertical-align: middle;\n",
       "    }\n",
       "\n",
       "    .dataframe tbody tr th {\n",
       "        vertical-align: top;\n",
       "    }\n",
       "\n",
       "    .dataframe thead th {\n",
       "        text-align: right;\n",
       "    }\n",
       "</style>\n",
       "<table border=\"1\" class=\"dataframe\">\n",
       "  <thead>\n",
       "    <tr style=\"text-align: right;\">\n",
       "      <th>sex</th>\n",
       "      <th>Female</th>\n",
       "      <th>Male</th>\n",
       "    </tr>\n",
       "    <tr>\n",
       "      <th>biased impact</th>\n",
       "      <th></th>\n",
       "      <th></th>\n",
       "    </tr>\n",
       "  </thead>\n",
       "  <tbody>\n",
       "    <tr>\n",
       "      <th>Maybe</th>\n",
       "      <td>44.0</td>\n",
       "      <td>25.000000</td>\n",
       "    </tr>\n",
       "    <tr>\n",
       "      <th>No</th>\n",
       "      <td>20.0</td>\n",
       "      <td>60.714286</td>\n",
       "    </tr>\n",
       "    <tr>\n",
       "      <th>Yes</th>\n",
       "      <td>36.0</td>\n",
       "      <td>14.285714</td>\n",
       "    </tr>\n",
       "  </tbody>\n",
       "</table>\n",
       "</div>"
      ],
      "text/plain": [
       "sex            Female       Male\n",
       "biased impact                   \n",
       "Maybe            44.0  25.000000\n",
       "No               20.0  60.714286\n",
       "Yes              36.0  14.285714"
      ]
     },
     "metadata": {},
     "output_type": "display_data"
    },
    {
     "name": "stdout",
     "output_type": "stream",
     "text": [
      "\n",
      "\n",
      "\u001b[1m Of the people who faced background noises, all those who felt that the HR Department could have devised better polices\n"
     ]
    },
    {
     "data": {
      "text/html": [
       "<div>\n",
       "<style scoped>\n",
       "    .dataframe tbody tr th:only-of-type {\n",
       "        vertical-align: middle;\n",
       "    }\n",
       "\n",
       "    .dataframe tbody tr th {\n",
       "        vertical-align: top;\n",
       "    }\n",
       "\n",
       "    .dataframe thead th {\n",
       "        text-align: right;\n",
       "    }\n",
       "</style>\n",
       "<table border=\"1\" class=\"dataframe\">\n",
       "  <thead>\n",
       "    <tr style=\"text-align: right;\">\n",
       "      <th>sex</th>\n",
       "      <th>Female</th>\n",
       "      <th>Male</th>\n",
       "    </tr>\n",
       "    <tr>\n",
       "      <th>better policies</th>\n",
       "      <th></th>\n",
       "      <th></th>\n",
       "    </tr>\n",
       "  </thead>\n",
       "  <tbody>\n",
       "    <tr>\n",
       "      <th>No</th>\n",
       "      <td>24.0</td>\n",
       "      <td>28.571429</td>\n",
       "    </tr>\n",
       "    <tr>\n",
       "      <th>Yes</th>\n",
       "      <td>76.0</td>\n",
       "      <td>71.428571</td>\n",
       "    </tr>\n",
       "  </tbody>\n",
       "</table>\n",
       "</div>"
      ],
      "text/plain": [
       "sex              Female       Male\n",
       "better policies                   \n",
       "No                 24.0  28.571429\n",
       "Yes                76.0  71.428571"
      ]
     },
     "metadata": {},
     "output_type": "display_data"
    }
   ],
   "source": [
    "display(pd.crosstab(df2['background noises'],df2['sex'],normalize='columns')*100)\n",
    "df6=df1[df1['background noises']=='Yes']\n",
    "print(\"\\n\\n\\033[1m Of the people who faced background noises, all those who felt that the pandemic has a biased impact on some particular gender: \")\n",
    "display(pd.crosstab(df6['biased impact'],df6['sex'],normalize='columns')*100)\n",
    "print(\"\\n\\n\\033[1m Of the people who faced background noises, all those who felt that the HR Department could have devised better polices\")\n",
    "display(pd.crosstab(df6['better policies'],df6['sex'],normalize='columns')*100)\n"
   ]
  },
  {
   "cell_type": "markdown",
   "metadata": {},
   "source": [
    "## (ix) Personal Calls\n",
    "  - H0: Domestic Obligation and employee gender are independent\n",
    "  - HA: Domestic Obligation and employee gender are dependent\n",
    "  - conclusion : As p-value(0.9) is greater than 0.05 we accept the null hypothesis"
   ]
  },
  {
   "cell_type": "code",
   "execution_count": 383,
   "metadata": {},
   "outputs": [
    {
     "data": {
      "text/plain": [
       "(0.5114564765300056,\n",
       " 0.9163673603989279,\n",
       " 3,\n",
       " array([[ 6.4,  9.6],\n",
       "        [ 8.8, 13.2],\n",
       "        [20.4, 30.6],\n",
       "        [ 2.4,  3.6]]))"
      ]
     },
     "execution_count": 383,
     "metadata": {},
     "output_type": "execute_result"
    }
   ],
   "source": [
    "t9=pd.crosstab(df1['personal calls'],df1['sex'])\n",
    "sp.chi2_contingency(t9)"
   ]
  },
  {
   "cell_type": "markdown",
   "metadata": {},
   "source": [
    "## (x) Silenced\n",
    "  - H0: Silenced and employee gender are independent\n",
    "  - HA: Silenced Obligation and employee gender are dependent\n",
    "  - conclusion : As p-value(0.7) is greater than 0.05 we accept the null hypothesis"
   ]
  },
  {
   "cell_type": "code",
   "execution_count": 384,
   "metadata": {},
   "outputs": [
    {
     "data": {
      "text/plain": [
       "(1.1382623224728488,\n",
       " 0.7678463480245012,\n",
       " 3,\n",
       " array([[11.2, 16.8],\n",
       "        [ 7.6, 11.4],\n",
       "        [18. , 27. ],\n",
       "        [ 1.2,  1.8]]))"
      ]
     },
     "execution_count": 384,
     "metadata": {},
     "output_type": "execute_result"
    }
   ],
   "source": [
    "t10=pd.crosstab(df1['silenced'],df1['sex'])\n",
    "sp.chi2_contingency(t10)"
   ]
  },
  {
   "cell_type": "markdown",
   "metadata": {},
   "source": [
    "## (xi) Avoid Contact\n",
    "  - H0: Avoid Contact and employee gender are independent\n",
    "  - HA: Avoid Contact and employee gender are dependent\n",
    "  - conclusion : As p-value(0.01) is less than 0.05 we accept the Alternate hypothesis"
   ]
  },
  {
   "cell_type": "code",
   "execution_count": 385,
   "metadata": {},
   "outputs": [
    {
     "data": {
      "text/plain": [
       "(10.720217168387899,\n",
       " 0.013339087625183472,\n",
       " 3,\n",
       " array([[16.4, 24.6],\n",
       "        [ 4.8,  7.2],\n",
       "        [14.8, 22.2],\n",
       "        [ 2. ,  3. ]]))"
      ]
     },
     "execution_count": 385,
     "metadata": {},
     "output_type": "execute_result"
    }
   ],
   "source": [
    "t11=pd.crosstab(df1['avoid contact'],df1['sex'])\n",
    "sp.chi2_contingency(t11)"
   ]
  },
  {
   "cell_type": "markdown",
   "metadata": {},
   "source": [
    "#### Further Analysing the replies by respective genders"
   ]
  },
  {
   "cell_type": "code",
   "execution_count": 386,
   "metadata": {},
   "outputs": [
    {
     "data": {
      "text/html": [
       "<div>\n",
       "<style scoped>\n",
       "    .dataframe tbody tr th:only-of-type {\n",
       "        vertical-align: middle;\n",
       "    }\n",
       "\n",
       "    .dataframe tbody tr th {\n",
       "        vertical-align: top;\n",
       "    }\n",
       "\n",
       "    .dataframe thead th {\n",
       "        text-align: right;\n",
       "    }\n",
       "</style>\n",
       "<table border=\"1\" class=\"dataframe\">\n",
       "  <thead>\n",
       "    <tr style=\"text-align: right;\">\n",
       "      <th>sex</th>\n",
       "      <th>Female</th>\n",
       "      <th>Male</th>\n",
       "    </tr>\n",
       "    <tr>\n",
       "      <th>avoid contact</th>\n",
       "      <th></th>\n",
       "      <th></th>\n",
       "    </tr>\n",
       "  </thead>\n",
       "  <tbody>\n",
       "    <tr>\n",
       "      <th>Never</th>\n",
       "      <td>40.625</td>\n",
       "      <td>47.058824</td>\n",
       "    </tr>\n",
       "    <tr>\n",
       "      <th>Often</th>\n",
       "      <td>9.375</td>\n",
       "      <td>7.843137</td>\n",
       "    </tr>\n",
       "    <tr>\n",
       "      <th>Rarely</th>\n",
       "      <td>34.375</td>\n",
       "      <td>45.098039</td>\n",
       "    </tr>\n",
       "    <tr>\n",
       "      <th>Very often</th>\n",
       "      <td>15.625</td>\n",
       "      <td>0.000000</td>\n",
       "    </tr>\n",
       "  </tbody>\n",
       "</table>\n",
       "</div>"
      ],
      "text/plain": [
       "sex            Female       Male\n",
       "avoid contact                   \n",
       "Never          40.625  47.058824\n",
       "Often           9.375   7.843137\n",
       "Rarely         34.375  45.098039\n",
       "Very often     15.625   0.000000"
      ]
     },
     "metadata": {},
     "output_type": "display_data"
    },
    {
     "name": "stdout",
     "output_type": "stream",
     "text": [
      "\n",
      "\n",
      "\u001b[1m Of the people who have avoided contact  'Often' and 'Very Often', all those who faced sexual harassment: \n"
     ]
    },
    {
     "data": {
      "text/html": [
       "<div>\n",
       "<style scoped>\n",
       "    .dataframe tbody tr th:only-of-type {\n",
       "        vertical-align: middle;\n",
       "    }\n",
       "\n",
       "    .dataframe tbody tr th {\n",
       "        vertical-align: top;\n",
       "    }\n",
       "\n",
       "    .dataframe thead th {\n",
       "        text-align: right;\n",
       "    }\n",
       "</style>\n",
       "<table border=\"1\" class=\"dataframe\">\n",
       "  <thead>\n",
       "    <tr style=\"text-align: right;\">\n",
       "      <th>sex</th>\n",
       "      <th>Female</th>\n",
       "      <th>Male</th>\n",
       "    </tr>\n",
       "    <tr>\n",
       "      <th>sexual harassment</th>\n",
       "      <th></th>\n",
       "      <th></th>\n",
       "    </tr>\n",
       "  </thead>\n",
       "  <tbody>\n",
       "    <tr>\n",
       "      <th>No</th>\n",
       "      <td>66.666667</td>\n",
       "      <td>100.0</td>\n",
       "    </tr>\n",
       "    <tr>\n",
       "      <th>Yes</th>\n",
       "      <td>33.333333</td>\n",
       "      <td>0.0</td>\n",
       "    </tr>\n",
       "  </tbody>\n",
       "</table>\n",
       "</div>"
      ],
      "text/plain": [
       "sex                   Female   Male\n",
       "sexual harassment                  \n",
       "No                 66.666667  100.0\n",
       "Yes                33.333333    0.0"
      ]
     },
     "metadata": {},
     "output_type": "display_data"
    },
    {
     "name": "stdout",
     "output_type": "stream",
     "text": [
      "\n",
      "\n",
      "\u001b[1m Of the people who have avoided contact 'Often' and 'Very Often', all those who felt that the pandemic has a biased impact on some particular gender: \n"
     ]
    },
    {
     "data": {
      "text/html": [
       "<div>\n",
       "<style scoped>\n",
       "    .dataframe tbody tr th:only-of-type {\n",
       "        vertical-align: middle;\n",
       "    }\n",
       "\n",
       "    .dataframe tbody tr th {\n",
       "        vertical-align: top;\n",
       "    }\n",
       "\n",
       "    .dataframe thead th {\n",
       "        text-align: right;\n",
       "    }\n",
       "</style>\n",
       "<table border=\"1\" class=\"dataframe\">\n",
       "  <thead>\n",
       "    <tr style=\"text-align: right;\">\n",
       "      <th>sex</th>\n",
       "      <th>Female</th>\n",
       "      <th>Male</th>\n",
       "    </tr>\n",
       "    <tr>\n",
       "      <th>biased impact</th>\n",
       "      <th></th>\n",
       "      <th></th>\n",
       "    </tr>\n",
       "  </thead>\n",
       "  <tbody>\n",
       "    <tr>\n",
       "      <th>Maybe</th>\n",
       "      <td>33.333333</td>\n",
       "      <td>20.0</td>\n",
       "    </tr>\n",
       "    <tr>\n",
       "      <th>No</th>\n",
       "      <td>25.000000</td>\n",
       "      <td>40.0</td>\n",
       "    </tr>\n",
       "    <tr>\n",
       "      <th>Yes</th>\n",
       "      <td>41.666667</td>\n",
       "      <td>40.0</td>\n",
       "    </tr>\n",
       "  </tbody>\n",
       "</table>\n",
       "</div>"
      ],
      "text/plain": [
       "sex               Female  Male\n",
       "biased impact                 \n",
       "Maybe          33.333333  20.0\n",
       "No             25.000000  40.0\n",
       "Yes            41.666667  40.0"
      ]
     },
     "metadata": {},
     "output_type": "display_data"
    },
    {
     "name": "stdout",
     "output_type": "stream",
     "text": [
      "\n",
      "\n",
      "\u001b[1m Of the people who have avoided contact  'Often' and 'Very Often', all those who felt that the HR Department could have devised better polices\n"
     ]
    },
    {
     "data": {
      "text/html": [
       "<div>\n",
       "<style scoped>\n",
       "    .dataframe tbody tr th:only-of-type {\n",
       "        vertical-align: middle;\n",
       "    }\n",
       "\n",
       "    .dataframe tbody tr th {\n",
       "        vertical-align: top;\n",
       "    }\n",
       "\n",
       "    .dataframe thead th {\n",
       "        text-align: right;\n",
       "    }\n",
       "</style>\n",
       "<table border=\"1\" class=\"dataframe\">\n",
       "  <thead>\n",
       "    <tr style=\"text-align: right;\">\n",
       "      <th>sex</th>\n",
       "      <th>Female</th>\n",
       "      <th>Male</th>\n",
       "    </tr>\n",
       "    <tr>\n",
       "      <th>hr policies</th>\n",
       "      <th></th>\n",
       "      <th></th>\n",
       "    </tr>\n",
       "  </thead>\n",
       "  <tbody>\n",
       "    <tr>\n",
       "      <th>No</th>\n",
       "      <td>33.333333</td>\n",
       "      <td>60.0</td>\n",
       "    </tr>\n",
       "    <tr>\n",
       "      <th>Partly</th>\n",
       "      <td>50.000000</td>\n",
       "      <td>40.0</td>\n",
       "    </tr>\n",
       "    <tr>\n",
       "      <th>Yes</th>\n",
       "      <td>16.666667</td>\n",
       "      <td>0.0</td>\n",
       "    </tr>\n",
       "  </tbody>\n",
       "</table>\n",
       "</div>"
      ],
      "text/plain": [
       "sex             Female  Male\n",
       "hr policies                 \n",
       "No           33.333333  60.0\n",
       "Partly       50.000000  40.0\n",
       "Yes          16.666667   0.0"
      ]
     },
     "metadata": {},
     "output_type": "display_data"
    }
   ],
   "source": [
    "display(pd.crosstab(df2['avoid contact'],df2['sex'],normalize='columns')*100)\n",
    "df7=df1[(df1['avoid contact']=='Often') | (df1['avoid contact']=='Very often')]\n",
    "print(\"\\n\\n\\033[1m Of the people who have avoided contact  'Often' and 'Very Often', all those who faced sexual harassment: \")\n",
    "display(pd.crosstab(df7['sexual harassment'],df7['sex'],normalize='columns')*100)\n",
    "print(\"\\n\\n\\033[1m Of the people who have avoided contact 'Often' and 'Very Often', all those who felt that the pandemic has a biased impact on some particular gender: \")\n",
    "display(pd.crosstab(df7['biased impact'],df7['sex'],normalize='columns')*100)\n",
    "print(\"\\n\\n\\033[1m Of the people who have avoided contact  'Often' and 'Very Often', all those who felt that the HR Department could have devised better polices\")\n",
    "display(pd.crosstab(df7['hr policies'],df7['sex'],normalize='columns')*100)\n",
    "\n"
   ]
  },
  {
   "cell_type": "markdown",
   "metadata": {},
   "source": [
    "##  (xii) Sexual Harassment\n",
    "  - H0: Sexual Harassment and employee gender are independent\n",
    "  - HA: Sexual Harassment and employee gender are dependent\n",
    "  - conclusion : As p-value(0.013) is less than 0.05 we accept the Alternate hypothesis"
   ]
  },
  {
   "cell_type": "code",
   "execution_count": 387,
   "metadata": {},
   "outputs": [
    {
     "data": {
      "text/plain": [
       "(10.720217168387899,\n",
       " 0.013339087625183472,\n",
       " 3,\n",
       " array([[16.4, 24.6],\n",
       "        [ 4.8,  7.2],\n",
       "        [14.8, 22.2],\n",
       "        [ 2. ,  3. ]]))"
      ]
     },
     "execution_count": 387,
     "metadata": {},
     "output_type": "execute_result"
    }
   ],
   "source": [
    "t12=pd.crosstab(df1['avoid contact'],df1['sex'])\n",
    "sp.chi2_contingency(t12)"
   ]
  },
  {
   "cell_type": "markdown",
   "metadata": {},
   "source": [
    "#### Further Analysing the replies by respective genders"
   ]
  },
  {
   "cell_type": "code",
   "execution_count": 394,
   "metadata": {},
   "outputs": [
    {
     "data": {
      "text/html": [
       "<div>\n",
       "<style scoped>\n",
       "    .dataframe tbody tr th:only-of-type {\n",
       "        vertical-align: middle;\n",
       "    }\n",
       "\n",
       "    .dataframe tbody tr th {\n",
       "        vertical-align: top;\n",
       "    }\n",
       "\n",
       "    .dataframe thead th {\n",
       "        text-align: right;\n",
       "    }\n",
       "</style>\n",
       "<table border=\"1\" class=\"dataframe\">\n",
       "  <thead>\n",
       "    <tr style=\"text-align: right;\">\n",
       "      <th>sex</th>\n",
       "      <th>Female</th>\n",
       "      <th>Male</th>\n",
       "    </tr>\n",
       "    <tr>\n",
       "      <th>sexual harassment</th>\n",
       "      <th></th>\n",
       "      <th></th>\n",
       "    </tr>\n",
       "  </thead>\n",
       "  <tbody>\n",
       "    <tr>\n",
       "      <th>No</th>\n",
       "      <td>86.842105</td>\n",
       "      <td>100.0</td>\n",
       "    </tr>\n",
       "    <tr>\n",
       "      <th>Yes</th>\n",
       "      <td>13.157895</td>\n",
       "      <td>0.0</td>\n",
       "    </tr>\n",
       "  </tbody>\n",
       "</table>\n",
       "</div>"
      ],
      "text/plain": [
       "sex                   Female   Male\n",
       "sexual harassment                  \n",
       "No                 86.842105  100.0\n",
       "Yes                13.157895    0.0"
      ]
     },
     "metadata": {},
     "output_type": "display_data"
    },
    {
     "name": "stdout",
     "output_type": "stream",
     "text": [
      "\n",
      "\n",
      "\u001b[1m Of the people who faced sexual harassment, all those who felt that the pandemic has a biased impact on some particular gender: \n"
     ]
    },
    {
     "data": {
      "text/html": [
       "<div>\n",
       "<style scoped>\n",
       "    .dataframe tbody tr th:only-of-type {\n",
       "        vertical-align: middle;\n",
       "    }\n",
       "\n",
       "    .dataframe tbody tr th {\n",
       "        vertical-align: top;\n",
       "    }\n",
       "\n",
       "    .dataframe thead th {\n",
       "        text-align: right;\n",
       "    }\n",
       "</style>\n",
       "<table border=\"1\" class=\"dataframe\">\n",
       "  <thead>\n",
       "    <tr style=\"text-align: right;\">\n",
       "      <th>sex</th>\n",
       "      <th>Female</th>\n",
       "    </tr>\n",
       "    <tr>\n",
       "      <th>biased impact</th>\n",
       "      <th></th>\n",
       "    </tr>\n",
       "  </thead>\n",
       "  <tbody>\n",
       "    <tr>\n",
       "      <th>No</th>\n",
       "      <td>40.0</td>\n",
       "    </tr>\n",
       "    <tr>\n",
       "      <th>Yes</th>\n",
       "      <td>60.0</td>\n",
       "    </tr>\n",
       "  </tbody>\n",
       "</table>\n",
       "</div>"
      ],
      "text/plain": [
       "sex            Female\n",
       "biased impact        \n",
       "No               40.0\n",
       "Yes              60.0"
      ]
     },
     "metadata": {},
     "output_type": "display_data"
    },
    {
     "name": "stdout",
     "output_type": "stream",
     "text": [
      "\n",
      "\n",
      "\u001b[1m Of the people who faced sexual harassment, all those who felt that the HR Department could have devised better polices: \n"
     ]
    },
    {
     "data": {
      "text/html": [
       "<div>\n",
       "<style scoped>\n",
       "    .dataframe tbody tr th:only-of-type {\n",
       "        vertical-align: middle;\n",
       "    }\n",
       "\n",
       "    .dataframe tbody tr th {\n",
       "        vertical-align: top;\n",
       "    }\n",
       "\n",
       "    .dataframe thead th {\n",
       "        text-align: right;\n",
       "    }\n",
       "</style>\n",
       "<table border=\"1\" class=\"dataframe\">\n",
       "  <thead>\n",
       "    <tr style=\"text-align: right;\">\n",
       "      <th>sex</th>\n",
       "      <th>Female</th>\n",
       "    </tr>\n",
       "    <tr>\n",
       "      <th>better policies</th>\n",
       "      <th></th>\n",
       "    </tr>\n",
       "  </thead>\n",
       "  <tbody>\n",
       "    <tr>\n",
       "      <th>No</th>\n",
       "      <td>40.0</td>\n",
       "    </tr>\n",
       "    <tr>\n",
       "      <th>Yes</th>\n",
       "      <td>60.0</td>\n",
       "    </tr>\n",
       "  </tbody>\n",
       "</table>\n",
       "</div>"
      ],
      "text/plain": [
       "sex              Female\n",
       "better policies        \n",
       "No                 40.0\n",
       "Yes                60.0"
      ]
     },
     "metadata": {},
     "output_type": "display_data"
    }
   ],
   "source": [
    "display(pd.crosstab(df1['sexual harassment'],df1['sex'],normalize='columns')*100)\n",
    "df5=df1[df1['sexual harassment']=='Yes']\n",
    "print(\"\\n\\n\\033[1m Of the people who faced sexual harassment, all those who felt that the pandemic has a biased impact on some particular gender: \")\n",
    "display(pd.crosstab(df5['biased impact'],df5['sex'],normalize='columns')*100)\n",
    "print(\"\\n\\n\\033[1m Of the people who faced sexual harassment, all those who felt that the HR Department could have devised better polices: \")\n",
    "display(pd.crosstab(df5['better policies'],df5['sex'],normalize='columns')*100)"
   ]
  },
  {
   "cell_type": "code",
   "execution_count": null,
   "metadata": {},
   "outputs": [],
   "source": []
  },
  {
   "cell_type": "code",
   "execution_count": null,
   "metadata": {},
   "outputs": [],
   "source": []
  },
  {
   "cell_type": "code",
   "execution_count": null,
   "metadata": {},
   "outputs": [],
   "source": []
  },
  {
   "cell_type": "code",
   "execution_count": null,
   "metadata": {},
   "outputs": [],
   "source": []
  }
 ],
 "metadata": {
  "interpreter": {
   "hash": "08b741ea1332f88dd087fb8fc46582258a60dbf5d952719be37684b1098a3c06"
  },
  "kernelspec": {
   "display_name": "Python 3",
   "language": "python",
   "name": "python3"
  },
  "language_info": {
   "codemirror_mode": {
    "name": "ipython",
    "version": 3
   },
   "file_extension": ".py",
   "mimetype": "text/x-python",
   "name": "python",
   "nbconvert_exporter": "python",
   "pygments_lexer": "ipython3",
   "version": "3.8.5"
  }
 },
 "nbformat": 4,
 "nbformat_minor": 4
}
