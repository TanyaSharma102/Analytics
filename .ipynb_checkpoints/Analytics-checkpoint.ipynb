{
 "cells": [
  {
   "cell_type": "markdown",
   "metadata": {},
   "source": [
    "# Importing Data from Ms- Excel. This Data was collected from a survey via Google forms."
   ]
  },
  {
   "cell_type": "code",
   "execution_count": 3,
   "metadata": {},
   "outputs": [
    {
     "data": {
      "text/html": [
       "<div>\n",
       "<style scoped>\n",
       "    .dataframe tbody tr th:only-of-type {\n",
       "        vertical-align: middle;\n",
       "    }\n",
       "\n",
       "    .dataframe tbody tr th {\n",
       "        vertical-align: top;\n",
       "    }\n",
       "\n",
       "    .dataframe thead th {\n",
       "        text-align: right;\n",
       "    }\n",
       "</style>\n",
       "<table border=\"1\" class=\"dataframe\">\n",
       "  <thead>\n",
       "    <tr style=\"text-align: right;\">\n",
       "      <th></th>\n",
       "      <th>sex</th>\n",
       "      <th>age</th>\n",
       "      <th>marital status</th>\n",
       "      <th>work timings</th>\n",
       "      <th>employment organization</th>\n",
       "      <th>current mode</th>\n",
       "      <th>preferred mode</th>\n",
       "      <th>new job</th>\n",
       "      <th>salary incentives</th>\n",
       "      <th>domestic life</th>\n",
       "      <th>...</th>\n",
       "      <th>personal calls</th>\n",
       "      <th>silenced</th>\n",
       "      <th>avoid contact</th>\n",
       "      <th>sexual harassment</th>\n",
       "      <th>comfort</th>\n",
       "      <th>hr policies</th>\n",
       "      <th>better policies</th>\n",
       "      <th>biased impact</th>\n",
       "      <th>Comments</th>\n",
       "      <th>Other Info</th>\n",
       "    </tr>\n",
       "  </thead>\n",
       "  <tbody>\n",
       "    <tr>\n",
       "      <th>0</th>\n",
       "      <td>Male</td>\n",
       "      <td>18-24</td>\n",
       "      <td>Single</td>\n",
       "      <td>Night Shift</td>\n",
       "      <td>Public Startup/Private Startup</td>\n",
       "      <td>Remote Mode(Work From Home)</td>\n",
       "      <td>Remote Mode(Work From Home)</td>\n",
       "      <td>Difficult</td>\n",
       "      <td>Same as before</td>\n",
       "      <td>Slightly Negatively</td>\n",
       "      <td>...</td>\n",
       "      <td>Rarely</td>\n",
       "      <td>Never</td>\n",
       "      <td>Never</td>\n",
       "      <td>No</td>\n",
       "      <td>NaN</td>\n",
       "      <td>Yes</td>\n",
       "      <td>Yes</td>\n",
       "      <td>Maybe</td>\n",
       "      <td>NaN</td>\n",
       "      <td>NaN</td>\n",
       "    </tr>\n",
       "    <tr>\n",
       "      <th>1</th>\n",
       "      <td>Male</td>\n",
       "      <td>18-24</td>\n",
       "      <td>Single</td>\n",
       "      <td>Morning Shift</td>\n",
       "      <td>Public Startup/Private Startup</td>\n",
       "      <td>Remote Mode(Work From Home)</td>\n",
       "      <td>Remote Mode(Work From Home)</td>\n",
       "      <td>Difficult</td>\n",
       "      <td>Poor</td>\n",
       "      <td>Slightly Negatively</td>\n",
       "      <td>...</td>\n",
       "      <td>Often</td>\n",
       "      <td>Very often</td>\n",
       "      <td>Often</td>\n",
       "      <td>No</td>\n",
       "      <td>NaN</td>\n",
       "      <td>Partly</td>\n",
       "      <td>Yes</td>\n",
       "      <td>No</td>\n",
       "      <td>NaN</td>\n",
       "      <td>NaN</td>\n",
       "    </tr>\n",
       "    <tr>\n",
       "      <th>2</th>\n",
       "      <td>Male</td>\n",
       "      <td>18-24</td>\n",
       "      <td>Single</td>\n",
       "      <td>Morning Shift</td>\n",
       "      <td>Public Startup/Private Startup</td>\n",
       "      <td>Remote Mode(Work From Home)</td>\n",
       "      <td>Physical Mode</td>\n",
       "      <td>Not applicable</td>\n",
       "      <td>Good</td>\n",
       "      <td>Did not have any affect</td>\n",
       "      <td>...</td>\n",
       "      <td>Rarely</td>\n",
       "      <td>Rarely</td>\n",
       "      <td>Rarely</td>\n",
       "      <td>No</td>\n",
       "      <td>NaN</td>\n",
       "      <td>Yes</td>\n",
       "      <td>No</td>\n",
       "      <td>No</td>\n",
       "      <td>NaN</td>\n",
       "      <td>NaN</td>\n",
       "    </tr>\n",
       "    <tr>\n",
       "      <th>3</th>\n",
       "      <td>Female</td>\n",
       "      <td>18-24</td>\n",
       "      <td>Single</td>\n",
       "      <td>Morning Shift</td>\n",
       "      <td>Public Startup/Private Startup</td>\n",
       "      <td>Remote Mode(Work From Home)</td>\n",
       "      <td>Remote Mode(Work From Home)</td>\n",
       "      <td>Difficult</td>\n",
       "      <td>Good</td>\n",
       "      <td>Slightly Negatively</td>\n",
       "      <td>...</td>\n",
       "      <td>Rarely</td>\n",
       "      <td>Never</td>\n",
       "      <td>Never</td>\n",
       "      <td>No</td>\n",
       "      <td>NaN</td>\n",
       "      <td>No</td>\n",
       "      <td>No</td>\n",
       "      <td>Maybe</td>\n",
       "      <td>NaN</td>\n",
       "      <td>NaN</td>\n",
       "    </tr>\n",
       "    <tr>\n",
       "      <th>4</th>\n",
       "      <td>Female</td>\n",
       "      <td>18-24</td>\n",
       "      <td>Single</td>\n",
       "      <td>Morning Shift</td>\n",
       "      <td>Medical</td>\n",
       "      <td>Part Both(Changing with the magnitude of Covid...</td>\n",
       "      <td>Physical Mode</td>\n",
       "      <td>Not applicable</td>\n",
       "      <td>Very Poor</td>\n",
       "      <td>Very Negatively</td>\n",
       "      <td>...</td>\n",
       "      <td>Rarely</td>\n",
       "      <td>Very often</td>\n",
       "      <td>Very often</td>\n",
       "      <td>No</td>\n",
       "      <td>NaN</td>\n",
       "      <td>Partly</td>\n",
       "      <td>Yes</td>\n",
       "      <td>Yes</td>\n",
       "      <td>With respect to the health aspect of females .</td>\n",
       "      <td>NaN</td>\n",
       "    </tr>\n",
       "    <tr>\n",
       "      <th>...</th>\n",
       "      <td>...</td>\n",
       "      <td>...</td>\n",
       "      <td>...</td>\n",
       "      <td>...</td>\n",
       "      <td>...</td>\n",
       "      <td>...</td>\n",
       "      <td>...</td>\n",
       "      <td>...</td>\n",
       "      <td>...</td>\n",
       "      <td>...</td>\n",
       "      <td>...</td>\n",
       "      <td>...</td>\n",
       "      <td>...</td>\n",
       "      <td>...</td>\n",
       "      <td>...</td>\n",
       "      <td>...</td>\n",
       "      <td>...</td>\n",
       "      <td>...</td>\n",
       "      <td>...</td>\n",
       "      <td>...</td>\n",
       "      <td>...</td>\n",
       "    </tr>\n",
       "    <tr>\n",
       "      <th>90</th>\n",
       "      <td>Female</td>\n",
       "      <td>18-24</td>\n",
       "      <td>Single</td>\n",
       "      <td>Morning Shift</td>\n",
       "      <td>Public MNC/ Private MNC</td>\n",
       "      <td>Remote Mode(Work From Home)</td>\n",
       "      <td>Physical Mode</td>\n",
       "      <td>Not applicable</td>\n",
       "      <td>Same as before</td>\n",
       "      <td>Slightly Negatively</td>\n",
       "      <td>...</td>\n",
       "      <td>Never</td>\n",
       "      <td>Never</td>\n",
       "      <td>Never</td>\n",
       "      <td>No</td>\n",
       "      <td>NaN</td>\n",
       "      <td>No</td>\n",
       "      <td>Yes</td>\n",
       "      <td>Yes</td>\n",
       "      <td>Difficult for females to manage home and offic...</td>\n",
       "      <td>NaN</td>\n",
       "    </tr>\n",
       "    <tr>\n",
       "      <th>91</th>\n",
       "      <td>Male</td>\n",
       "      <td>25-34</td>\n",
       "      <td>Single</td>\n",
       "      <td>Morning Shift</td>\n",
       "      <td>Self Employed</td>\n",
       "      <td>Part Both(Changing with the magnitude of Covid...</td>\n",
       "      <td>Physical Mode</td>\n",
       "      <td>Not applicable</td>\n",
       "      <td>Same as before</td>\n",
       "      <td>Did not have any affect</td>\n",
       "      <td>...</td>\n",
       "      <td>Rarely</td>\n",
       "      <td>Rarely</td>\n",
       "      <td>Never</td>\n",
       "      <td>No</td>\n",
       "      <td>NaN</td>\n",
       "      <td>Yes</td>\n",
       "      <td>Yes</td>\n",
       "      <td>No</td>\n",
       "      <td>NaN</td>\n",
       "      <td>NaN</td>\n",
       "    </tr>\n",
       "    <tr>\n",
       "      <th>92</th>\n",
       "      <td>Female</td>\n",
       "      <td>18-24</td>\n",
       "      <td>Single</td>\n",
       "      <td>Morning Shift</td>\n",
       "      <td>Public Startup/Private Startup</td>\n",
       "      <td>Physical Mode</td>\n",
       "      <td>Remote Mode(Work From Home)</td>\n",
       "      <td>Difficult</td>\n",
       "      <td>Poor</td>\n",
       "      <td>Very Negatively</td>\n",
       "      <td>...</td>\n",
       "      <td>Often</td>\n",
       "      <td>Rarely</td>\n",
       "      <td>Rarely</td>\n",
       "      <td>No</td>\n",
       "      <td>NaN</td>\n",
       "      <td>No</td>\n",
       "      <td>Yes</td>\n",
       "      <td>Yes</td>\n",
       "      <td>Females are more likely to have social/domesti...</td>\n",
       "      <td>NaN</td>\n",
       "    </tr>\n",
       "    <tr>\n",
       "      <th>93</th>\n",
       "      <td>Female</td>\n",
       "      <td>25-34</td>\n",
       "      <td>Single</td>\n",
       "      <td>Morning Shift</td>\n",
       "      <td>Government Agency</td>\n",
       "      <td>Physical Mode</td>\n",
       "      <td>Physical Mode</td>\n",
       "      <td>Difficult</td>\n",
       "      <td>Same as before</td>\n",
       "      <td>Very Improved</td>\n",
       "      <td>...</td>\n",
       "      <td>Rarely</td>\n",
       "      <td>Often</td>\n",
       "      <td>Rarely</td>\n",
       "      <td>No</td>\n",
       "      <td>NaN</td>\n",
       "      <td>No</td>\n",
       "      <td>Yes</td>\n",
       "      <td>Maybe</td>\n",
       "      <td>NaN</td>\n",
       "      <td>NaN</td>\n",
       "    </tr>\n",
       "    <tr>\n",
       "      <th>94</th>\n",
       "      <td>Male</td>\n",
       "      <td>18-24</td>\n",
       "      <td>Single</td>\n",
       "      <td>Morning Shift</td>\n",
       "      <td>Public MNC/ Private MNC</td>\n",
       "      <td>Physical Mode</td>\n",
       "      <td>Remote Mode(Work From Home)</td>\n",
       "      <td>Not applicable</td>\n",
       "      <td>Very Poor</td>\n",
       "      <td>Slightly Negatively</td>\n",
       "      <td>...</td>\n",
       "      <td>Rarely</td>\n",
       "      <td>Rarely</td>\n",
       "      <td>Often</td>\n",
       "      <td>No</td>\n",
       "      <td>NaN</td>\n",
       "      <td>Partly</td>\n",
       "      <td>Yes</td>\n",
       "      <td>No</td>\n",
       "      <td>NaN</td>\n",
       "      <td>NaN</td>\n",
       "    </tr>\n",
       "  </tbody>\n",
       "</table>\n",
       "<p>95 rows × 25 columns</p>\n",
       "</div>"
      ],
      "text/plain": [
       "       sex    age marital status   work timings  \\\n",
       "0     Male  18-24         Single    Night Shift   \n",
       "1     Male  18-24         Single  Morning Shift   \n",
       "2     Male  18-24         Single  Morning Shift   \n",
       "3   Female  18-24         Single  Morning Shift   \n",
       "4   Female  18-24         Single  Morning Shift   \n",
       "..     ...    ...            ...            ...   \n",
       "90  Female  18-24         Single  Morning Shift   \n",
       "91    Male  25-34         Single  Morning Shift   \n",
       "92  Female  18-24         Single  Morning Shift   \n",
       "93  Female  25-34         Single  Morning Shift   \n",
       "94    Male  18-24         Single  Morning Shift   \n",
       "\n",
       "           employment organization  \\\n",
       "0   Public Startup/Private Startup   \n",
       "1   Public Startup/Private Startup   \n",
       "2   Public Startup/Private Startup   \n",
       "3   Public Startup/Private Startup   \n",
       "4                          Medical   \n",
       "..                             ...   \n",
       "90         Public MNC/ Private MNC   \n",
       "91                   Self Employed   \n",
       "92  Public Startup/Private Startup   \n",
       "93               Government Agency   \n",
       "94         Public MNC/ Private MNC   \n",
       "\n",
       "                                         current mode  \\\n",
       "0                         Remote Mode(Work From Home)   \n",
       "1                         Remote Mode(Work From Home)   \n",
       "2                         Remote Mode(Work From Home)   \n",
       "3                         Remote Mode(Work From Home)   \n",
       "4   Part Both(Changing with the magnitude of Covid...   \n",
       "..                                                ...   \n",
       "90                        Remote Mode(Work From Home)   \n",
       "91  Part Both(Changing with the magnitude of Covid...   \n",
       "92                                      Physical Mode   \n",
       "93                                      Physical Mode   \n",
       "94                                      Physical Mode   \n",
       "\n",
       "                 preferred mode         new job salary incentives  \\\n",
       "0   Remote Mode(Work From Home)       Difficult    Same as before   \n",
       "1   Remote Mode(Work From Home)       Difficult              Poor   \n",
       "2                 Physical Mode  Not applicable              Good   \n",
       "3   Remote Mode(Work From Home)       Difficult              Good   \n",
       "4                 Physical Mode  Not applicable         Very Poor   \n",
       "..                          ...             ...               ...   \n",
       "90                Physical Mode  Not applicable    Same as before   \n",
       "91                Physical Mode  Not applicable    Same as before   \n",
       "92  Remote Mode(Work From Home)       Difficult              Poor   \n",
       "93                Physical Mode       Difficult    Same as before   \n",
       "94  Remote Mode(Work From Home)  Not applicable         Very Poor   \n",
       "\n",
       "              domestic life  ... personal calls    silenced avoid contact  \\\n",
       "0       Slightly Negatively  ...         Rarely       Never         Never   \n",
       "1       Slightly Negatively  ...          Often  Very often         Often   \n",
       "2   Did not have any affect  ...         Rarely      Rarely        Rarely   \n",
       "3       Slightly Negatively  ...         Rarely       Never         Never   \n",
       "4           Very Negatively  ...         Rarely  Very often    Very often   \n",
       "..                      ...  ...            ...         ...           ...   \n",
       "90      Slightly Negatively  ...          Never       Never         Never   \n",
       "91  Did not have any affect  ...         Rarely      Rarely         Never   \n",
       "92          Very Negatively  ...          Often      Rarely        Rarely   \n",
       "93            Very Improved  ...         Rarely       Often        Rarely   \n",
       "94      Slightly Negatively  ...         Rarely      Rarely         Often   \n",
       "\n",
       "   sexual harassment comfort hr policies better policies biased impact  \\\n",
       "0                 No     NaN         Yes             Yes         Maybe   \n",
       "1                 No     NaN      Partly             Yes            No   \n",
       "2                 No     NaN         Yes              No            No   \n",
       "3                 No     NaN          No              No         Maybe   \n",
       "4                 No     NaN      Partly             Yes           Yes   \n",
       "..               ...     ...         ...             ...           ...   \n",
       "90                No     NaN          No             Yes           Yes   \n",
       "91                No     NaN         Yes             Yes            No   \n",
       "92                No     NaN          No             Yes           Yes   \n",
       "93                No     NaN          No             Yes         Maybe   \n",
       "94                No     NaN      Partly             Yes            No   \n",
       "\n",
       "                                             Comments  Other Info  \n",
       "0                                                 NaN         NaN  \n",
       "1                                                 NaN         NaN  \n",
       "2                                                 NaN         NaN  \n",
       "3                                                 NaN         NaN  \n",
       "4      With respect to the health aspect of females .         NaN  \n",
       "..                                                ...         ...  \n",
       "90  Difficult for females to manage home and offic...         NaN  \n",
       "91                                                NaN         NaN  \n",
       "92  Females are more likely to have social/domesti...         NaN  \n",
       "93                                                NaN         NaN  \n",
       "94                                                NaN         NaN  \n",
       "\n",
       "[95 rows x 25 columns]"
      ]
     },
     "execution_count": 3,
     "metadata": {},
     "output_type": "execute_result"
    }
   ],
   "source": [
    "import pandas as pd\n",
    "df=pd.read_excel('C:\\\\Users\\\\Anubhav\\\\Desktop\\\\Analytics.xlsx','Sheet1')\n",
    "df"
   ]
  },
  {
   "cell_type": "markdown",
   "metadata": {},
   "source": [
    "# Following are the Final Attributes of the data collected and the corresponding question they represent. The questions have been shortened to a relatable attribute name for enhancing the ease of handling the data. "
   ]
  },
  {
   "cell_type": "code",
   "execution_count": 4,
   "metadata": {},
   "outputs": [
    {
     "name": "stdout",
     "output_type": "stream",
     "text": [
      "\u001b[1m Following are the details of the data we will be working on \u001b[0m \n",
      "\n",
      " The column names in the sheet along with the respective question they represent are listed below:\n",
      " sex- Sex \n",
      " age- Age \n",
      " marital status- Marital Status \n",
      " work timings- Work Timings \n",
      " Employment Organization- What is the type of your employment organization? \n",
      " current mode- What is your current mode of working? \n",
      " preferred mode- What mode of working do you prefer? \n",
      " new job- In case your employment was terminated, how difficult was it to get a new job? \n",
      " salary incentives- How satisfactory have your salary incentives/promotions been since 2020? \n",
      " domestic life- How did the new work conditions affect your domestic life? \n",
      " personal life- How did the new work conditions affect your personal time/growth? \n",
      " layoff fear- Did you at any point fear a layoff since the pandemic kicked in? \n",
      " stretched hours- Did you experience stretched working hours/increased workload during the pandemic?\n",
      " domestic obligation- Was there some domestic obligation you had to fulfil before starting your work everyday? \n",
      " background noises- Did you find it difficult to silence background noises at your home whilst in a meeting/discussion? \n",
      " personal calls- How often were you contacted personally by your superiors/colleagues regarding matters not restricting to work? \n",
      " silenced- Did you feel silenced on calls/meetings even though you had something valuable to add? \n",
      " avoid contact- Did you avoid contacting a colleague/superior regarding some professional issue thinking you are being unprofessional? \n",
      " sexual harassment- Did you experience any kind of Sexual harassment/Cyber Harassment at your work during the pandemic? \n",
      " comfort- If Yes, how comfortable were you in sharing the details with the concerned authorities? \n",
      " hr policies- Do you feel that the HR Department of your organization took the necessary steps to help you adapt to work from home? \n",
      " better policies- Do you feel that your organization needs to work on its policies regarding employee conduct? \n",
      " biased impact- Do you feel that the pandemic had a more negative affect on some particular gender at workplaces? \n",
      " Comments- If Yes/Maybe, how? \n",
      " \n",
      " \n",
      "No. of Data Entries corresponding to each attribute \n",
      " sex                        95\n",
      "age                        95\n",
      "marital status             95\n",
      "work timings               95\n",
      "employment organization    95\n",
      "current mode               95\n",
      "preferred mode             95\n",
      "new job                    90\n",
      "salary incentives          95\n",
      "domestic life              95\n",
      "personal life              95\n",
      "layoff fear                95\n",
      "stretched hours            95\n",
      "domestic obligation        95\n",
      "background noises          95\n",
      "personal calls             95\n",
      "silenced                   95\n",
      "avoid contact              95\n",
      "sexual harassment          95\n",
      "comfort                     5\n",
      "hr policies                95\n",
      "better policies            95\n",
      "biased impact              95\n",
      "Comments                   21\n",
      "Other Info                  7\n",
      "dtype: int64\n"
     ]
    }
   ],
   "source": [
    "#Displaying Sheet Details\n",
    "print(\"\\033[1m Following are the details of the data we will be working on \\033[0m \")\n",
    "print(\"\\n The column names in the sheet along with the respective question they represent are listed below:\")\n",
    "print(\" sex- Sex \\n age- Age \\n marital status- Marital Status \\n work timings- Work Timings \\n Employment Organization- What is the type of your employment organization? \\n current mode- What is your current mode of working? \\n preferred mode- What mode of working do you prefer? \\n new job- In case your employment was terminated, how difficult was it to get a new job? \\n salary incentives- How satisfactory have your salary incentives/promotions been since 2020? \\n domestic life- How did the new work conditions affect your domestic life? \\n personal life- How did the new work conditions affect your personal time/growth? \\n layoff fear- Did you at any point fear a layoff since the pandemic kicked in? \\n stretched hours- Did you experience stretched working hours/increased workload during the pandemic?\")\n",
    "print(\" domestic obligation- Was there some domestic obligation you had to fulfil before starting your work everyday? \\n background noises- Did you find it difficult to silence background noises at your home whilst in a meeting/discussion? \\n personal calls- How often were you contacted personally by your superiors/colleagues regarding matters not restricting to work? \\n silenced- Did you feel silenced on calls/meetings even though you had something valuable to add? \\n avoid contact- Did you avoid contacting a colleague/superior regarding some professional issue thinking you are being unprofessional? \\n sexual harassment- Did you experience any kind of Sexual harassment/Cyber Harassment at your work during the pandemic? \\n comfort- If Yes, how comfortable were you in sharing the details with the concerned authorities? \\n hr policies- Do you feel that the HR Department of your organization took the necessary steps to help you adapt to work from home? \\n better policies- Do you feel that your organization needs to work on its policies regarding employee conduct? \\n biased impact- Do you feel that the pandemic had a more negative affect on some particular gender at workplaces? \\n Comments- If Yes/Maybe, how? \")\n",
    "print(\" \\n \\nNo. of Data Entries corresponding to each attribute \\n\",df.count())"
   ]
  },
  {
   "cell_type": "markdown",
   "metadata": {},
   "source": [
    "# Data Cleaning will be used to fill up the empty information, wherever needed. We'll first find the number of missing values for each attribute. Then a decision will be made regarding the attributes whose missing values have to be filled up. This is followed by determining what value will be used to fill up the missing values."
   ]
  },
  {
   "cell_type": "code",
   "execution_count": 5,
   "metadata": {
    "scrolled": true
   },
   "outputs": [
    {
     "data": {
      "text/plain": [
       "sex                         0\n",
       "age                         0\n",
       "marital status              0\n",
       "work timings                0\n",
       "employment organization     0\n",
       "current mode                0\n",
       "preferred mode              0\n",
       "new job                     5\n",
       "salary incentives           0\n",
       "domestic life               0\n",
       "personal life               0\n",
       "layoff fear                 0\n",
       "stretched hours             0\n",
       "domestic obligation         0\n",
       "background noises           0\n",
       "personal calls              0\n",
       "silenced                    0\n",
       "avoid contact               0\n",
       "sexual harassment           0\n",
       "comfort                    90\n",
       "hr policies                 0\n",
       "better policies             0\n",
       "biased impact               0\n",
       "Comments                   74\n",
       "Other Info                 88\n",
       "dtype: int64"
      ]
     },
     "execution_count": 5,
     "metadata": {},
     "output_type": "execute_result"
    }
   ],
   "source": [
    "#Cleaning the data \n",
    "\n",
    "#Finding missing values(if any) in each column\n",
    "\n",
    "df.isna().sum()\n"
   ]
  },
  {
   "cell_type": "code",
   "execution_count": 6,
   "metadata": {},
   "outputs": [
    {
     "name": "stdout",
     "output_type": "stream",
     "text": [
      "Difficult         49\n",
      "Not applicable    32\n",
      "Same as before     7\n",
      "Easier             2\n",
      "Name: new job, dtype: int64\n"
     ]
    },
    {
     "data": {
      "text/plain": [
       "sex                         0\n",
       "age                         0\n",
       "marital status              0\n",
       "work timings                0\n",
       "employment organization     0\n",
       "current mode                0\n",
       "preferred mode              0\n",
       "new job                     0\n",
       "salary incentives           0\n",
       "domestic life               0\n",
       "personal life               0\n",
       "layoff fear                 0\n",
       "stretched hours             0\n",
       "domestic obligation         0\n",
       "background noises           0\n",
       "personal calls              0\n",
       "silenced                    0\n",
       "avoid contact               0\n",
       "sexual harassment           0\n",
       "comfort                    90\n",
       "hr policies                 0\n",
       "better policies             0\n",
       "biased impact               0\n",
       "Comments                   74\n",
       "Other Info                 88\n",
       "dtype: int64"
      ]
     },
     "execution_count": 6,
     "metadata": {},
     "output_type": "execute_result"
    }
   ],
   "source": [
    "#filling up the missing values in the column 'new job'\n",
    "print(df['new job'].value_counts())\n",
    "df1=df\n",
    "df1['new job']=df1['new job'].fillna(\"Not applicable\")\n",
    "df1.isna().sum()\n"
   ]
  },
  {
   "cell_type": "markdown",
   "metadata": {},
   "source": [
    "# We'll start with an overview of the Data Entries on the basis of three categories namely 'Sex', 'Age' and ' Marital Status'. They'll be displayed by count, by percentage and by a pie chart."
   ]
  },
  {
   "cell_type": "code",
   "execution_count": 7,
   "metadata": {},
   "outputs": [
    {
     "name": "stdout",
     "output_type": "stream",
     "text": [
      "\u001b[1mGenders: \u001b[0m \n",
      "By count:\n",
      "Male      57\n",
      "Female    38\n",
      "Name: sex, dtype: int64\n",
      "\n",
      "By Percentage:\n",
      "Male      60.0\n",
      "Female    40.0\n",
      "Name: sex, dtype: float64\n"
     ]
    },
    {
     "data": {
      "text/plain": [
       "<AxesSubplot:ylabel='sex'>"
      ]
     },
     "execution_count": 7,
     "metadata": {},
     "output_type": "execute_result"
    },
    {
     "data": {
      "image/png": "[encoded data removed]",
      "text/plain": [
       "<Figure size 432x288 with 1 Axes>"
      ]
     },
     "metadata": {},
     "output_type": "display_data"
    }
   ],
   "source": [
    "#Displaying entries\n",
    "\n",
    "print(\"\\033[1mGenders: \\033[0m \\nBy count:\")\n",
    "print(df1['sex'].value_counts())\n",
    "print(\"\\nBy Percentage:\")\n",
    "print(df1['sex'].value_counts(normalize= True)*100)\n",
    "df1['sex'].value_counts(normalize= True).plot(kind='pie')\n",
    "\n"
   ]
  },
  {
   "cell_type": "code",
   "execution_count": 8,
   "metadata": {},
   "outputs": [
    {
     "name": "stdout",
     "output_type": "stream",
     "text": [
      "\u001b[1mAge: \u001b[0m \n",
      "By count:\n",
      "18-24    45\n",
      "25-34    24\n",
      "45-60    14\n",
      "35-44    12\n",
      "Name: age, dtype: int64\n",
      "\n",
      "By Percentage:\n",
      "18-24    47.368421\n",
      "25-34    25.263158\n",
      "45-60    14.736842\n",
      "35-44    12.631579\n",
      "Name: age, dtype: float64\n"
     ]
    },
    {
     "data": {
      "text/plain": [
       "<AxesSubplot:ylabel='age'>"
      ]
     },
     "execution_count": 8,
     "metadata": {},
     "output_type": "execute_result"
    },
    {
     "data": {
      "image/png": "[encoded data removed]",
      "text/plain": [
       "<Figure size 432x288 with 1 Axes>"
      ]
     },
     "metadata": {},
     "output_type": "display_data"
    }
   ],
   "source": [
    "print(\"\\033[1mAge: \\033[0m \\nBy count:\")\n",
    "print(df1['age'].value_counts())\n",
    "print(\"\\nBy Percentage:\")\n",
    "print(df1['age'].value_counts(normalize= True)*100)\n",
    "df1['age'].value_counts(normalize= True).plot(kind='pie')\n"
   ]
  },
  {
   "cell_type": "code",
   "execution_count": 9,
   "metadata": {},
   "outputs": [
    {
     "name": "stdout",
     "output_type": "stream",
     "text": [
      "\u001b[1mMarital Status: \u001b[0m \n",
      "By count:\n",
      "Single     59\n",
      "Married    36\n",
      "Name: marital status, dtype: int64\n",
      "\n",
      "By Percentage:\n",
      "Single     62.105263\n",
      "Married    37.894737\n",
      "Name: marital status, dtype: float64\n"
     ]
    },
    {
     "data": {
      "text/plain": [
       "<AxesSubplot:ylabel='marital status'>"
      ]
     },
     "execution_count": 9,
     "metadata": {},
     "output_type": "execute_result"
    },
    {
     "data": {
      "image/png": "[encoded data removed]",
      "text/plain": [
       "<Figure size 432x288 with 1 Axes>"
      ]
     },
     "metadata": {},
     "output_type": "display_data"
    }
   ],
   "source": [
    "print(\"\\033[1mMarital Status: \\033[0m \\nBy count:\")\n",
    "print(df1['marital status'].value_counts())\n",
    "print(\"\\nBy Percentage:\")\n",
    "print(df1['marital status'].value_counts(normalize= True)*100)\n",
    "df1['marital status'].value_counts(normalize= True).plot(kind='pie')\n"
   ]
  },
  {
   "cell_type": "markdown",
   "metadata": {},
   "source": [
    "# To start with the Analysis, we'll take up the relevant attributes, one at a time. In case a further need to analyse some particular attribute is felt, plots will be used to provide a clearer explanation. \n",
    "# To start with, Preferred Modes of working will be analysed against Gender, Age and Marital Status individually. Percentages are displayed columnwise.\n",
    "# This will be followed by a mosaic plot of Preferred Mode, Gender and Marital Status"
   ]
  },
  {
   "cell_type": "code",
   "execution_count": 10,
   "metadata": {},
   "outputs": [],
   "source": [
    "import matplotlib.pyplot as plt\n",
    "import numpy as np\n",
    "from statsmodels.graphics.mosaicplot import mosaic\n",
    "from itertools import product"
   ]
  },
  {
   "cell_type": "code",
   "execution_count": 11,
   "metadata": {},
   "outputs": [
    {
     "name": "stdout",
     "output_type": "stream",
     "text": [
      "\u001b[1mPreferred modes of working by percentage:\u001b[0m\n",
      "Remote Mode(Work From Home)    50.526316\n",
      "Physical Mode                  49.473684\n",
      "Name: preferred mode, dtype: float64\n",
      "\n",
      " \n",
      "\u001b[1mPreferred modes of working by Gender:\u001b[0m\n",
      "(How to read the table: 44.7% females prefer Physical mode of working while 55.2% females prefer Remote mode of working): \n",
      "\n"
     ]
    },
    {
     "data": {
      "text/html": [
       "<div>\n",
       "<style scoped>\n",
       "    .dataframe tbody tr th:only-of-type {\n",
       "        vertical-align: middle;\n",
       "    }\n",
       "\n",
       "    .dataframe tbody tr th {\n",
       "        vertical-align: top;\n",
       "    }\n",
       "\n",
       "    .dataframe thead th {\n",
       "        text-align: right;\n",
       "    }\n",
       "</style>\n",
       "<table border=\"1\" class=\"dataframe\">\n",
       "  <thead>\n",
       "    <tr style=\"text-align: right;\">\n",
       "      <th>sex</th>\n",
       "      <th>Female</th>\n",
       "      <th>Male</th>\n",
       "    </tr>\n",
       "    <tr>\n",
       "      <th>preferred mode</th>\n",
       "      <th></th>\n",
       "      <th></th>\n",
       "    </tr>\n",
       "  </thead>\n",
       "  <tbody>\n",
       "    <tr>\n",
       "      <th>Physical Mode</th>\n",
       "      <td>44.736842</td>\n",
       "      <td>52.631579</td>\n",
       "    </tr>\n",
       "    <tr>\n",
       "      <th>Remote Mode(Work From Home)</th>\n",
       "      <td>55.263158</td>\n",
       "      <td>47.368421</td>\n",
       "    </tr>\n",
       "  </tbody>\n",
       "</table>\n",
       "</div>"
      ],
      "text/plain": [
       "sex                             Female       Male\n",
       "preferred mode                                   \n",
       "Physical Mode                44.736842  52.631579\n",
       "Remote Mode(Work From Home)  55.263158  47.368421"
      ]
     },
     "execution_count": 11,
     "metadata": {},
     "output_type": "execute_result"
    }
   ],
   "source": [
    "#Analysing preferred modes of working by Gender\n",
    "print(\"\\033[1mPreferred modes of working by percentage:\\033[0m\")\n",
    "print(df1['preferred mode'].value_counts(normalize= True)*100)\n",
    "print(\"\\n \\n\\033[1mPreferred modes of working by Gender:\\033[0m\\n(How to read the table: 44.7% females prefer Physical mode of working while 55.2% females prefer Remote mode of working): \\n\")\n",
    "pd.crosstab(df1['preferred mode'],df1['sex'], normalize= 'columns')*100\n"
   ]
  },
  {
   "cell_type": "code",
   "execution_count": 12,
   "metadata": {},
   "outputs": [
    {
     "name": "stdout",
     "output_type": "stream",
     "text": [
      "\n",
      " \n",
      "\u001b[1mPreferred modes of working by Age:\u001b[0m \n",
      "(How to read the table: 44.4% of the people belonging to the age group 18-24 prefer Physical mode of working while 55.5% of the same age group prefer Remote mode of working)\n",
      "\n"
     ]
    },
    {
     "data": {
      "text/html": [
       "<div>\n",
       "<style scoped>\n",
       "    .dataframe tbody tr th:only-of-type {\n",
       "        vertical-align: middle;\n",
       "    }\n",
       "\n",
       "    .dataframe tbody tr th {\n",
       "        vertical-align: top;\n",
       "    }\n",
       "\n",
       "    .dataframe thead th {\n",
       "        text-align: right;\n",
       "    }\n",
       "</style>\n",
       "<table border=\"1\" class=\"dataframe\">\n",
       "  <thead>\n",
       "    <tr style=\"text-align: right;\">\n",
       "      <th>age</th>\n",
       "      <th>18-24</th>\n",
       "      <th>25-34</th>\n",
       "      <th>35-44</th>\n",
       "      <th>45-60</th>\n",
       "    </tr>\n",
       "    <tr>\n",
       "      <th>preferred mode</th>\n",
       "      <th></th>\n",
       "      <th></th>\n",
       "      <th></th>\n",
       "      <th></th>\n",
       "    </tr>\n",
       "  </thead>\n",
       "  <tbody>\n",
       "    <tr>\n",
       "      <th>Physical Mode</th>\n",
       "      <td>44.444444</td>\n",
       "      <td>50.0</td>\n",
       "      <td>41.666667</td>\n",
       "      <td>71.428571</td>\n",
       "    </tr>\n",
       "    <tr>\n",
       "      <th>Remote Mode(Work From Home)</th>\n",
       "      <td>55.555556</td>\n",
       "      <td>50.0</td>\n",
       "      <td>58.333333</td>\n",
       "      <td>28.571429</td>\n",
       "    </tr>\n",
       "  </tbody>\n",
       "</table>\n",
       "</div>"
      ],
      "text/plain": [
       "age                              18-24  25-34      35-44      45-60\n",
       "preferred mode                                                     \n",
       "Physical Mode                44.444444   50.0  41.666667  71.428571\n",
       "Remote Mode(Work From Home)  55.555556   50.0  58.333333  28.571429"
      ]
     },
     "execution_count": 12,
     "metadata": {},
     "output_type": "execute_result"
    }
   ],
   "source": [
    "#Analysing preferred modes of working by Age\n",
    "print(\"\\n \\n\\033[1mPreferred modes of working by Age:\\033[0m \\n(How to read the table: 44.4% of the people belonging to the age group 18-24 prefer Physical mode of working while 55.5% of the same age group prefer Remote mode of working)\\n\")\n",
    "pd.crosstab(df1['preferred mode'],df1['age'], normalize= 'columns')*100"
   ]
  },
  {
   "cell_type": "code",
   "execution_count": 13,
   "metadata": {},
   "outputs": [
    {
     "name": "stdout",
     "output_type": "stream",
     "text": [
      "\n",
      " \n",
      "\u001b[1mPreferred modes of working by Marital status:\u001b[0m\n",
      "(How to read the table: 55.5% of the people who are married prefer Physical mode of working while 44.4% of the married people prefer Remote mode of working)\n"
     ]
    },
    {
     "data": {
      "text/html": [
       "<div>\n",
       "<style scoped>\n",
       "    .dataframe tbody tr th:only-of-type {\n",
       "        vertical-align: middle;\n",
       "    }\n",
       "\n",
       "    .dataframe tbody tr th {\n",
       "        vertical-align: top;\n",
       "    }\n",
       "\n",
       "    .dataframe thead th {\n",
       "        text-align: right;\n",
       "    }\n",
       "</style>\n",
       "<table border=\"1\" class=\"dataframe\">\n",
       "  <thead>\n",
       "    <tr style=\"text-align: right;\">\n",
       "      <th>marital status</th>\n",
       "      <th>Married</th>\n",
       "      <th>Single</th>\n",
       "    </tr>\n",
       "    <tr>\n",
       "      <th>preferred mode</th>\n",
       "      <th></th>\n",
       "      <th></th>\n",
       "    </tr>\n",
       "  </thead>\n",
       "  <tbody>\n",
       "    <tr>\n",
       "      <th>Physical Mode</th>\n",
       "      <td>55.555556</td>\n",
       "      <td>45.762712</td>\n",
       "    </tr>\n",
       "    <tr>\n",
       "      <th>Remote Mode(Work From Home)</th>\n",
       "      <td>44.444444</td>\n",
       "      <td>54.237288</td>\n",
       "    </tr>\n",
       "  </tbody>\n",
       "</table>\n",
       "</div>"
      ],
      "text/plain": [
       "marital status                 Married     Single\n",
       "preferred mode                                   \n",
       "Physical Mode                55.555556  45.762712\n",
       "Remote Mode(Work From Home)  44.444444  54.237288"
      ]
     },
     "execution_count": 13,
     "metadata": {},
     "output_type": "execute_result"
    }
   ],
   "source": [
    "#Analysing preferred modes of working by Marital Status\n",
    "print(\"\\n \\n\\033[1mPreferred modes of working by Marital status:\\033[0m\\n(How to read the table: 55.5% of the people who are married prefer Physical mode of working while 44.4% of the married people prefer Remote mode of working)\")\n",
    "pd.crosstab(df1['preferred mode'],df1['marital status'], normalize= 'columns')*100"
   ]
  },
  {
   "cell_type": "code",
   "execution_count": 55,
   "metadata": {},
   "outputs": [
    {
     "data": {
      "text/html": [
       "<div>\n",
       "<style scoped>\n",
       "    .dataframe tbody tr th:only-of-type {\n",
       "        vertical-align: middle;\n",
       "    }\n",
       "\n",
       "    .dataframe tbody tr th {\n",
       "        vertical-align: top;\n",
       "    }\n",
       "\n",
       "    .dataframe thead th {\n",
       "        text-align: right;\n",
       "    }\n",
       "</style>\n",
       "<table border=\"1\" class=\"dataframe\">\n",
       "  <thead>\n",
       "    <tr style=\"text-align: right;\">\n",
       "      <th>preferred mode</th>\n",
       "      <th>Physical Mode</th>\n",
       "      <th>Remote Mode(Work From Home)</th>\n",
       "    </tr>\n",
       "    <tr>\n",
       "      <th>sex</th>\n",
       "      <th></th>\n",
       "      <th></th>\n",
       "    </tr>\n",
       "  </thead>\n",
       "  <tbody>\n",
       "    <tr>\n",
       "      <th>Female</th>\n",
       "      <td>48.387097</td>\n",
       "      <td>51.612903</td>\n",
       "    </tr>\n",
       "    <tr>\n",
       "      <th>Male</th>\n",
       "      <td>42.857143</td>\n",
       "      <td>57.142857</td>\n",
       "    </tr>\n",
       "  </tbody>\n",
       "</table>\n",
       "</div>"
      ],
      "text/plain": [
       "preferred mode  Physical Mode  Remote Mode(Work From Home)\n",
       "sex                                                       \n",
       "Female              48.387097                    51.612903\n",
       "Male                42.857143                    57.142857"
      ]
     },
     "execution_count": 55,
     "metadata": {},
     "output_type": "execute_result"
    }
   ],
   "source": [
    "#Analysing preferred modes with respect to gender and marital status\n",
    "#finding labels for the mosaic plot\n",
    "df_single=df1[df1['marital status']=='Single']\n",
    "pd.crosstab(df_single['sex'],df_single['preferred mode'],normalize='index')*100\n"
   ]
  },
  {
   "cell_type": "code",
   "execution_count": 54,
   "metadata": {},
   "outputs": [
    {
     "data": {
      "text/html": [
       "<div>\n",
       "<style scoped>\n",
       "    .dataframe tbody tr th:only-of-type {\n",
       "        vertical-align: middle;\n",
       "    }\n",
       "\n",
       "    .dataframe tbody tr th {\n",
       "        vertical-align: top;\n",
       "    }\n",
       "\n",
       "    .dataframe thead th {\n",
       "        text-align: right;\n",
       "    }\n",
       "</style>\n",
       "<table border=\"1\" class=\"dataframe\">\n",
       "  <thead>\n",
       "    <tr style=\"text-align: right;\">\n",
       "      <th>preferred mode</th>\n",
       "      <th>Physical Mode</th>\n",
       "      <th>Remote Mode(Work From Home)</th>\n",
       "    </tr>\n",
       "    <tr>\n",
       "      <th>sex</th>\n",
       "      <th></th>\n",
       "      <th></th>\n",
       "    </tr>\n",
       "  </thead>\n",
       "  <tbody>\n",
       "    <tr>\n",
       "      <th>Female</th>\n",
       "      <td>28.571429</td>\n",
       "      <td>71.428571</td>\n",
       "    </tr>\n",
       "    <tr>\n",
       "      <th>Male</th>\n",
       "      <td>62.068966</td>\n",
       "      <td>37.931034</td>\n",
       "    </tr>\n",
       "  </tbody>\n",
       "</table>\n",
       "</div>"
      ],
      "text/plain": [
       "preferred mode  Physical Mode  Remote Mode(Work From Home)\n",
       "sex                                                       \n",
       "Female              28.571429                    71.428571\n",
       "Male                62.068966                    37.931034"
      ]
     },
     "execution_count": 54,
     "metadata": {},
     "output_type": "execute_result"
    }
   ],
   "source": [
    "#Finding labels for the mosaic plot\n",
    "df_married=df1[df1['marital status']=='Married']\n",
    "pd.crosstab(df_married['sex'],df_married['preferred mode'],normalize='index')*100\n"
   ]
  },
  {
   "cell_type": "markdown",
   "metadata": {},
   "source": [
    "# Analysing Preferred modes of working by Marital status and Gender"
   ]
  },
  {
   "cell_type": "code",
   "execution_count": 66,
   "metadata": {},
   "outputs": [
    {
     "data": {
      "image/png": "[encoded data removed]",
      "text/plain": [
       "<Figure size 432x288 with 3 Axes>"
      ]
     },
     "metadata": {
      "needs_background": "light"
     },
     "output_type": "display_data"
    }
   ],
   "source": [
    "#This Mosaic plot will explain what each tile represents to enhance understanding\n",
    "mosaic(df1,['marital status','sex','preferred mode'],title='Fig 4- Mosaic Plot with Tile Descriptions\\n')\n",
    "plt.show()"
   ]
  },
  {
   "cell_type": "code",
   "execution_count": 67,
   "metadata": {},
   "outputs": [
    {
     "name": "stdout",
     "output_type": "stream",
     "text": [
      "\n",
      " \n",
      "\u001b[1mPreferred modes of working by Marital status and Gender:\u001b[0m\n",
      "\n"
     ]
    },
    {
     "data": {
      "image/png": "[encoded data removed]",
      "text/plain": [
       "<Figure size 432x288 with 3 Axes>"
      ]
     },
     "metadata": {
      "needs_background": "light"
     },
     "output_type": "display_data"
    }
   ],
   "source": [
    "#Here, we'll be using labels calculated above for a better analysis \n",
    "props={}\n",
    "props[('Single','Female','Remote Mode(Work From Home)')]={'facecolor':'#FF7F50', 'edgecolor':'white'}\n",
    "props[('Single','Male','Remote Mode(Work From Home)')]={'facecolor':'#40E0D0', 'edgecolor':'white'}\n",
    "props[('Married','Female','Remote Mode(Work From Home)')]={'facecolor':'#7FFFD4','edgecolor':'white'}\n",
    "props[('Married','Male','Remote Mode(Work From Home)')]= {'facecolor':'#C79FEF','edgecolor':'white'}\n",
    "props[('Single','Female','Physical Mode')]={'facecolor':'#FC5A50', 'edgecolor':'white'}\n",
    "props[('Single','Male','Physical Mode')]={'facecolor':'#06C2AC', 'edgecolor':'white'}\n",
    "props[('Married','Female','Physical Mode')]={'facecolor':'#04D8B2','edgecolor':'white'}\n",
    "props[('Married','Male','Physical Mode')]= {'facecolor':'#DA70D6','edgecolor':'white'}\n",
    "labelizer=lambda k:{('Single','Female','Remote Mode(Work From Home)'):'51.6%',('Single','Male','Remote Mode(Work From Home)'):'57.1%',('Married','Female','Remote Mode(Work From Home)'):'71.4%',('Married','Male','Remote Mode(Work From Home)'):'37.9%',('Single','Female','Physical Mode'):'48.4%',('Single','Male','Physical Mode'):'42.9%',('Married','Female','Physical Mode'):'28.6%',('Married','Male','Physical Mode'):'62.1%'}[k]\n",
    "mosaic(df1,['marital status','sex','preferred mode'],title='Fig 4- Mosaic Plot with Percentage labels\\n',labelizer=labelizer,properties=props)\n",
    "plt.show()\n",
    "print(\"\")"
   ]
  }
 ],
 "metadata": {
  "kernelspec": {
   "display_name": "Python 3",
   "language": "python",
   "name": "python3"
  },
  "language_info": {
   "codemirror_mode": {
    "name": "ipython",
    "version": 3
   },
   "file_extension": ".py",
   "mimetype": "text/x-python",
   "name": "python",
   "nbconvert_exporter": "python",
   "pygments_lexer": "ipython3",
   "version": "3.8.5"
  }
 },
 "nbformat": 4,
 "nbformat_minor": 4
}
