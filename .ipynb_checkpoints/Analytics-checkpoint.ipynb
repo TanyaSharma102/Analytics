{
 "cells": [
  {
   "cell_type": "markdown",
   "metadata": {},
   "source": [
    "# Data Analysis on Gender Disparity during work from home"
   ]
  },
  {
   "cell_type": "markdown",
   "metadata": {},
   "source": [
    "## Importing Data from Ms- Excel. This Data was collected from a survey via Google forms."
   ]
  },
  {
   "cell_type": "code",
   "execution_count": 45,
   "metadata": {},
   "outputs": [
    {
     "data": {
      "text/html": [
       "<div>\n",
       "<style scoped>\n",
       "    .dataframe tbody tr th:only-of-type {\n",
       "        vertical-align: middle;\n",
       "    }\n",
       "\n",
       "    .dataframe tbody tr th {\n",
       "        vertical-align: top;\n",
       "    }\n",
       "\n",
       "    .dataframe thead th {\n",
       "        text-align: right;\n",
       "    }\n",
       "</style>\n",
       "<table border=\"1\" class=\"dataframe\">\n",
       "  <thead>\n",
       "    <tr style=\"text-align: right;\">\n",
       "      <th></th>\n",
       "      <th>sex</th>\n",
       "      <th>age</th>\n",
       "      <th>marital status</th>\n",
       "      <th>work timings</th>\n",
       "      <th>employment organization</th>\n",
       "      <th>current mode</th>\n",
       "      <th>preferred mode</th>\n",
       "      <th>new job</th>\n",
       "      <th>salary incentives</th>\n",
       "      <th>domestic life</th>\n",
       "      <th>...</th>\n",
       "      <th>personal calls</th>\n",
       "      <th>silenced</th>\n",
       "      <th>avoid contact</th>\n",
       "      <th>sexual harassment</th>\n",
       "      <th>comfort</th>\n",
       "      <th>hr policies</th>\n",
       "      <th>better policies</th>\n",
       "      <th>biased impact</th>\n",
       "      <th>Comments</th>\n",
       "      <th>Other Info</th>\n",
       "    </tr>\n",
       "  </thead>\n",
       "  <tbody>\n",
       "    <tr>\n",
       "      <th>0</th>\n",
       "      <td>Male</td>\n",
       "      <td>18-24</td>\n",
       "      <td>Single</td>\n",
       "      <td>Night Shift</td>\n",
       "      <td>Public Startup/Private Startup</td>\n",
       "      <td>Remote Mode(Work From Home)</td>\n",
       "      <td>Remote Mode(Work From Home)</td>\n",
       "      <td>Difficult</td>\n",
       "      <td>Same as before</td>\n",
       "      <td>Slightly Negatively</td>\n",
       "      <td>...</td>\n",
       "      <td>Rarely</td>\n",
       "      <td>Never</td>\n",
       "      <td>Never</td>\n",
       "      <td>No</td>\n",
       "      <td>NaN</td>\n",
       "      <td>Yes</td>\n",
       "      <td>Yes</td>\n",
       "      <td>Maybe</td>\n",
       "      <td>NaN</td>\n",
       "      <td>NaN</td>\n",
       "    </tr>\n",
       "    <tr>\n",
       "      <th>1</th>\n",
       "      <td>Male</td>\n",
       "      <td>18-24</td>\n",
       "      <td>Single</td>\n",
       "      <td>Morning Shift</td>\n",
       "      <td>Public Startup/Private Startup</td>\n",
       "      <td>Remote Mode(Work From Home)</td>\n",
       "      <td>Remote Mode(Work From Home)</td>\n",
       "      <td>Difficult</td>\n",
       "      <td>Poor</td>\n",
       "      <td>Slightly Negatively</td>\n",
       "      <td>...</td>\n",
       "      <td>Often</td>\n",
       "      <td>Very often</td>\n",
       "      <td>Often</td>\n",
       "      <td>No</td>\n",
       "      <td>NaN</td>\n",
       "      <td>Partly</td>\n",
       "      <td>Yes</td>\n",
       "      <td>No</td>\n",
       "      <td>NaN</td>\n",
       "      <td>NaN</td>\n",
       "    </tr>\n",
       "    <tr>\n",
       "      <th>2</th>\n",
       "      <td>Male</td>\n",
       "      <td>18-24</td>\n",
       "      <td>Single</td>\n",
       "      <td>Morning Shift</td>\n",
       "      <td>Public Startup/Private Startup</td>\n",
       "      <td>Remote Mode(Work From Home)</td>\n",
       "      <td>Physical Mode</td>\n",
       "      <td>Not applicable</td>\n",
       "      <td>Good</td>\n",
       "      <td>Did not have any affect</td>\n",
       "      <td>...</td>\n",
       "      <td>Rarely</td>\n",
       "      <td>Rarely</td>\n",
       "      <td>Rarely</td>\n",
       "      <td>No</td>\n",
       "      <td>NaN</td>\n",
       "      <td>Yes</td>\n",
       "      <td>No</td>\n",
       "      <td>No</td>\n",
       "      <td>NaN</td>\n",
       "      <td>NaN</td>\n",
       "    </tr>\n",
       "    <tr>\n",
       "      <th>3</th>\n",
       "      <td>Female</td>\n",
       "      <td>18-24</td>\n",
       "      <td>Single</td>\n",
       "      <td>Morning Shift</td>\n",
       "      <td>Public Startup/Private Startup</td>\n",
       "      <td>Remote Mode(Work From Home)</td>\n",
       "      <td>Remote Mode(Work From Home)</td>\n",
       "      <td>Difficult</td>\n",
       "      <td>Good</td>\n",
       "      <td>Slightly Negatively</td>\n",
       "      <td>...</td>\n",
       "      <td>Rarely</td>\n",
       "      <td>Never</td>\n",
       "      <td>Never</td>\n",
       "      <td>No</td>\n",
       "      <td>NaN</td>\n",
       "      <td>No</td>\n",
       "      <td>No</td>\n",
       "      <td>Maybe</td>\n",
       "      <td>NaN</td>\n",
       "      <td>NaN</td>\n",
       "    </tr>\n",
       "    <tr>\n",
       "      <th>4</th>\n",
       "      <td>Female</td>\n",
       "      <td>18-24</td>\n",
       "      <td>Single</td>\n",
       "      <td>Morning Shift</td>\n",
       "      <td>Medical</td>\n",
       "      <td>Part Both(Changing with the magnitude of Covid...</td>\n",
       "      <td>Physical Mode</td>\n",
       "      <td>Not applicable</td>\n",
       "      <td>Very Poor</td>\n",
       "      <td>Very Negatively</td>\n",
       "      <td>...</td>\n",
       "      <td>Rarely</td>\n",
       "      <td>Very often</td>\n",
       "      <td>Very often</td>\n",
       "      <td>No</td>\n",
       "      <td>NaN</td>\n",
       "      <td>Partly</td>\n",
       "      <td>Yes</td>\n",
       "      <td>Yes</td>\n",
       "      <td>With respect to the health aspect of females .</td>\n",
       "      <td>NaN</td>\n",
       "    </tr>\n",
       "    <tr>\n",
       "      <th>...</th>\n",
       "      <td>...</td>\n",
       "      <td>...</td>\n",
       "      <td>...</td>\n",
       "      <td>...</td>\n",
       "      <td>...</td>\n",
       "      <td>...</td>\n",
       "      <td>...</td>\n",
       "      <td>...</td>\n",
       "      <td>...</td>\n",
       "      <td>...</td>\n",
       "      <td>...</td>\n",
       "      <td>...</td>\n",
       "      <td>...</td>\n",
       "      <td>...</td>\n",
       "      <td>...</td>\n",
       "      <td>...</td>\n",
       "      <td>...</td>\n",
       "      <td>...</td>\n",
       "      <td>...</td>\n",
       "      <td>...</td>\n",
       "      <td>...</td>\n",
       "    </tr>\n",
       "    <tr>\n",
       "      <th>93</th>\n",
       "      <td>Female</td>\n",
       "      <td>25-34</td>\n",
       "      <td>Single</td>\n",
       "      <td>Morning Shift</td>\n",
       "      <td>Government Agency</td>\n",
       "      <td>Physical Mode</td>\n",
       "      <td>Physical Mode</td>\n",
       "      <td>Difficult</td>\n",
       "      <td>Same as before</td>\n",
       "      <td>Very Improved</td>\n",
       "      <td>...</td>\n",
       "      <td>Rarely</td>\n",
       "      <td>Often</td>\n",
       "      <td>Rarely</td>\n",
       "      <td>No</td>\n",
       "      <td>NaN</td>\n",
       "      <td>No</td>\n",
       "      <td>Yes</td>\n",
       "      <td>Maybe</td>\n",
       "      <td>NaN</td>\n",
       "      <td>NaN</td>\n",
       "    </tr>\n",
       "    <tr>\n",
       "      <th>94</th>\n",
       "      <td>Male</td>\n",
       "      <td>18-24</td>\n",
       "      <td>Single</td>\n",
       "      <td>Morning Shift</td>\n",
       "      <td>Public MNC/ Private MNC</td>\n",
       "      <td>Physical Mode</td>\n",
       "      <td>Remote Mode(Work From Home)</td>\n",
       "      <td>Not applicable</td>\n",
       "      <td>Very Poor</td>\n",
       "      <td>Slightly Negatively</td>\n",
       "      <td>...</td>\n",
       "      <td>Rarely</td>\n",
       "      <td>Rarely</td>\n",
       "      <td>Often</td>\n",
       "      <td>No</td>\n",
       "      <td>NaN</td>\n",
       "      <td>Partly</td>\n",
       "      <td>Yes</td>\n",
       "      <td>No</td>\n",
       "      <td>NaN</td>\n",
       "      <td>NaN</td>\n",
       "    </tr>\n",
       "    <tr>\n",
       "      <th>95</th>\n",
       "      <td>Female</td>\n",
       "      <td>25-34</td>\n",
       "      <td>Married</td>\n",
       "      <td>Morning Shift</td>\n",
       "      <td>Public MNC/ Private MNC</td>\n",
       "      <td>Remote Mode(Work From Home)</td>\n",
       "      <td>Physical Mode</td>\n",
       "      <td>Not applicable</td>\n",
       "      <td>Poor</td>\n",
       "      <td>Slightly Negatively</td>\n",
       "      <td>...</td>\n",
       "      <td>Often</td>\n",
       "      <td>Often</td>\n",
       "      <td>Often</td>\n",
       "      <td>No</td>\n",
       "      <td>NaN</td>\n",
       "      <td>No</td>\n",
       "      <td>Yes</td>\n",
       "      <td>Yes</td>\n",
       "      <td>Female</td>\n",
       "      <td>NaN</td>\n",
       "    </tr>\n",
       "    <tr>\n",
       "      <th>96</th>\n",
       "      <td>Male</td>\n",
       "      <td>35-44</td>\n",
       "      <td>Married</td>\n",
       "      <td>Morning Shift</td>\n",
       "      <td>Public MSME/ Private MSME</td>\n",
       "      <td>Part Both(Changing with the magnitude of Covid...</td>\n",
       "      <td>Physical Mode</td>\n",
       "      <td>Not applicable</td>\n",
       "      <td>Same as before</td>\n",
       "      <td>Slightly Improved</td>\n",
       "      <td>...</td>\n",
       "      <td>Rarely</td>\n",
       "      <td>Rarely</td>\n",
       "      <td>Never</td>\n",
       "      <td>No</td>\n",
       "      <td>NaN</td>\n",
       "      <td>Yes</td>\n",
       "      <td>No</td>\n",
       "      <td>No</td>\n",
       "      <td>NaN</td>\n",
       "      <td>NaN</td>\n",
       "    </tr>\n",
       "    <tr>\n",
       "      <th>97</th>\n",
       "      <td>Female</td>\n",
       "      <td>45-60</td>\n",
       "      <td>Married</td>\n",
       "      <td>Part Time</td>\n",
       "      <td>Public Startup/Private Startup</td>\n",
       "      <td>Physical Mode</td>\n",
       "      <td>Physical Mode</td>\n",
       "      <td>Difficult</td>\n",
       "      <td>Poor</td>\n",
       "      <td>Slightly Negatively</td>\n",
       "      <td>...</td>\n",
       "      <td>Rarely</td>\n",
       "      <td>Rarely</td>\n",
       "      <td>Often</td>\n",
       "      <td>Yes</td>\n",
       "      <td>2.0</td>\n",
       "      <td>Partly</td>\n",
       "      <td>Yes</td>\n",
       "      <td>Yes</td>\n",
       "      <td>Women had to work at home</td>\n",
       "      <td>NaN</td>\n",
       "    </tr>\n",
       "  </tbody>\n",
       "</table>\n",
       "<p>98 rows × 25 columns</p>\n",
       "</div>"
      ],
      "text/plain": [
       "       sex    age marital status   work timings  \\\n",
       "0     Male  18-24         Single    Night Shift   \n",
       "1     Male  18-24         Single  Morning Shift   \n",
       "2     Male  18-24         Single  Morning Shift   \n",
       "3   Female  18-24         Single  Morning Shift   \n",
       "4   Female  18-24         Single  Morning Shift   \n",
       "..     ...    ...            ...            ...   \n",
       "93  Female  25-34         Single  Morning Shift   \n",
       "94    Male  18-24         Single  Morning Shift   \n",
       "95  Female  25-34        Married  Morning Shift   \n",
       "96    Male  35-44        Married  Morning Shift   \n",
       "97  Female  45-60        Married      Part Time   \n",
       "\n",
       "           employment organization  \\\n",
       "0   Public Startup/Private Startup   \n",
       "1   Public Startup/Private Startup   \n",
       "2   Public Startup/Private Startup   \n",
       "3   Public Startup/Private Startup   \n",
       "4                          Medical   \n",
       "..                             ...   \n",
       "93               Government Agency   \n",
       "94         Public MNC/ Private MNC   \n",
       "95         Public MNC/ Private MNC   \n",
       "96       Public MSME/ Private MSME   \n",
       "97  Public Startup/Private Startup   \n",
       "\n",
       "                                         current mode  \\\n",
       "0                         Remote Mode(Work From Home)   \n",
       "1                         Remote Mode(Work From Home)   \n",
       "2                         Remote Mode(Work From Home)   \n",
       "3                         Remote Mode(Work From Home)   \n",
       "4   Part Both(Changing with the magnitude of Covid...   \n",
       "..                                                ...   \n",
       "93                                      Physical Mode   \n",
       "94                                      Physical Mode   \n",
       "95                        Remote Mode(Work From Home)   \n",
       "96  Part Both(Changing with the magnitude of Covid...   \n",
       "97                                      Physical Mode   \n",
       "\n",
       "                 preferred mode         new job salary incentives  \\\n",
       "0   Remote Mode(Work From Home)       Difficult    Same as before   \n",
       "1   Remote Mode(Work From Home)       Difficult              Poor   \n",
       "2                 Physical Mode  Not applicable              Good   \n",
       "3   Remote Mode(Work From Home)       Difficult              Good   \n",
       "4                 Physical Mode  Not applicable         Very Poor   \n",
       "..                          ...             ...               ...   \n",
       "93                Physical Mode       Difficult    Same as before   \n",
       "94  Remote Mode(Work From Home)  Not applicable         Very Poor   \n",
       "95                Physical Mode  Not applicable              Poor   \n",
       "96                Physical Mode  Not applicable    Same as before   \n",
       "97                Physical Mode       Difficult              Poor   \n",
       "\n",
       "              domestic life  ... personal calls    silenced avoid contact  \\\n",
       "0       Slightly Negatively  ...         Rarely       Never         Never   \n",
       "1       Slightly Negatively  ...          Often  Very often         Often   \n",
       "2   Did not have any affect  ...         Rarely      Rarely        Rarely   \n",
       "3       Slightly Negatively  ...         Rarely       Never         Never   \n",
       "4           Very Negatively  ...         Rarely  Very often    Very often   \n",
       "..                      ...  ...            ...         ...           ...   \n",
       "93            Very Improved  ...         Rarely       Often        Rarely   \n",
       "94      Slightly Negatively  ...         Rarely      Rarely         Often   \n",
       "95      Slightly Negatively  ...          Often       Often         Often   \n",
       "96        Slightly Improved  ...         Rarely      Rarely         Never   \n",
       "97      Slightly Negatively  ...         Rarely      Rarely         Often   \n",
       "\n",
       "   sexual harassment comfort hr policies better policies biased impact  \\\n",
       "0                 No     NaN         Yes             Yes         Maybe   \n",
       "1                 No     NaN      Partly             Yes            No   \n",
       "2                 No     NaN         Yes              No            No   \n",
       "3                 No     NaN          No              No         Maybe   \n",
       "4                 No     NaN      Partly             Yes           Yes   \n",
       "..               ...     ...         ...             ...           ...   \n",
       "93                No     NaN          No             Yes         Maybe   \n",
       "94                No     NaN      Partly             Yes            No   \n",
       "95                No     NaN          No             Yes           Yes   \n",
       "96                No     NaN         Yes              No            No   \n",
       "97               Yes     2.0      Partly             Yes           Yes   \n",
       "\n",
       "                                          Comments  Other Info  \n",
       "0                                              NaN         NaN  \n",
       "1                                              NaN         NaN  \n",
       "2                                              NaN         NaN  \n",
       "3                                              NaN         NaN  \n",
       "4   With respect to the health aspect of females .         NaN  \n",
       "..                                             ...         ...  \n",
       "93                                             NaN         NaN  \n",
       "94                                             NaN         NaN  \n",
       "95                                          Female         NaN  \n",
       "96                                             NaN         NaN  \n",
       "97                       Women had to work at home         NaN  \n",
       "\n",
       "[98 rows x 25 columns]"
      ]
     },
     "execution_count": 45,
     "metadata": {},
     "output_type": "execute_result"
    }
   ],
   "source": [
    "import pandas as pd\n",
    "df=pd.read_excel('C:\\\\Users\\\\Anubhav\\\\Desktop\\\\Analytics.xlsx','Sheet1')\n",
    "df"
   ]
  },
  {
   "cell_type": "markdown",
   "metadata": {},
   "source": [
    "# Following are the Final Attributes of the data collected and the corresponding question they represent. The questions have been shortened to a relatable attribute name for enhancing the ease of handling the data. "
   ]
  },
  {
   "cell_type": "markdown",
   "metadata": {},
   "source": [
    "### Following are the details of the data we will be working on  \n",
    "\n",
    " The column names in the sheet along with the respective question they represent are listed below:\n",
    "  - sex- Sex \n",
    "  - age- Age \n",
    "  - marital status- Marital Status \n",
    "  - work timings- Work Timings \n",
    "  - Employment Organization- What is the type of your employment organization? \n",
    "  - current mode- What is your current mode of working? \n",
    "  - preferred mode- What mode of working do you prefer? \n",
    "  - new job- In case your employment was terminated, how difficult was it to get a new job? \n",
    "  - salary incentives- How satisfactory have your salary incentives/promotions been since 2020? \n",
    "  - domestic life- How did the new work conditions affect your domestic life? \n",
    "  - personal life- How did the new work conditions affect your personal time/growth? \n",
    "  - layoff fear- Did you at any point fear a layoff since the pandemic kicked in? \n",
    "  - stretched hours- Did you experience stretched working hours/increased workload during the pandemic?\n",
    "  - domestic obligation- Was there some domestic obligation you had to fulfil before starting your work everyday? \n",
    "  - background noises- Did you find it difficult to silence background noises at your home whilst in a meeting/discussion? \n",
    "  - personal calls- How often were you contacted personally by your superiors/colleagues regarding matters not restricting to work? \n",
    "  - silenced- Did you feel silenced on calls/meetings even though you had something valuable to add? \n",
    "  - avoid contact- Did you avoid contacting a colleague/superior regarding some professional issue thinking you are being unprofessional? \n",
    "  - sexual harassment- Did you experience any kind of Sexual harassment/Cyber Harassment at your work during the pandemic? \n",
    "  - comfort- If Yes, how comfortable were you in sharing the details with the concerned authorities? \n",
    "  - hr policies- Do you feel that the HR Department of your organization took the necessary steps to help you adapt to work from home? \n",
    "  - better policies- Do you feel that your organization needs to work on its policies regarding employee conduct? \n",
    "  - biased impact- Do you feel that the pandemic had a more negative affect on some particular gender at workplaces? \n",
    "  - Comments- If Yes/Maybe, how? "
   ]
  },
  {
   "cell_type": "code",
   "execution_count": 46,
   "metadata": {},
   "outputs": [
    {
     "name": "stdout",
     "output_type": "stream",
     "text": [
      " \n",
      " \n",
      "No. of Data Entries corresponding to each attribute \n",
      " sex                        98\n",
      "age                        98\n",
      "marital status             98\n",
      "work timings               98\n",
      "employment organization    98\n",
      "current mode               98\n",
      "preferred mode             98\n",
      "new job                    93\n",
      "salary incentives          98\n",
      "domestic life              98\n",
      "personal life              98\n",
      "layoff fear                98\n",
      "stretched hours            98\n",
      "domestic obligation        98\n",
      "background noises          98\n",
      "personal calls             98\n",
      "silenced                   98\n",
      "avoid contact              98\n",
      "sexual harassment          98\n",
      "comfort                     6\n",
      "hr policies                98\n",
      "better policies            98\n",
      "biased impact              98\n",
      "Comments                   23\n",
      "Other Info                  7\n",
      "dtype: int64\n"
     ]
    }
   ],
   "source": [
    "print(\" \\n \\nNo. of Data Entries corresponding to each attribute \\n\",df.count())"
   ]
  },
  {
   "cell_type": "markdown",
   "metadata": {},
   "source": [
    "## Data Cleaning will be used to fill up the empty information, wherever needed. We'll first find the number of missing values for each attribute. Then a decision will be made regarding the attributes whose missing values have to be filled up. This is followed by determining what value will be used to fill up the missing values."
   ]
  },
  {
   "cell_type": "code",
   "execution_count": 47,
   "metadata": {
    "scrolled": true
   },
   "outputs": [
    {
     "data": {
      "text/plain": [
       "sex                         0\n",
       "age                         0\n",
       "marital status              0\n",
       "work timings                0\n",
       "employment organization     0\n",
       "current mode                0\n",
       "preferred mode              0\n",
       "new job                     5\n",
       "salary incentives           0\n",
       "domestic life               0\n",
       "personal life               0\n",
       "layoff fear                 0\n",
       "stretched hours             0\n",
       "domestic obligation         0\n",
       "background noises           0\n",
       "personal calls              0\n",
       "silenced                    0\n",
       "avoid contact               0\n",
       "sexual harassment           0\n",
       "comfort                    92\n",
       "hr policies                 0\n",
       "better policies             0\n",
       "biased impact               0\n",
       "Comments                   75\n",
       "Other Info                 91\n",
       "dtype: int64"
      ]
     },
     "execution_count": 47,
     "metadata": {},
     "output_type": "execute_result"
    }
   ],
   "source": [
    "#Cleaning the data \n",
    "\n",
    "#Finding missing values(if any) in each column\n",
    "\n",
    "df.isna().sum()\n"
   ]
  },
  {
   "cell_type": "code",
   "execution_count": 48,
   "metadata": {},
   "outputs": [
    {
     "name": "stdout",
     "output_type": "stream",
     "text": [
      "Difficult         50\n",
      "Not applicable    34\n",
      "Same as before     7\n",
      "Easier             2\n",
      "Name: new job, dtype: int64\n"
     ]
    },
    {
     "data": {
      "text/plain": [
       "sex                         0\n",
       "age                         0\n",
       "marital status              0\n",
       "work timings                0\n",
       "employment organization     0\n",
       "current mode                0\n",
       "preferred mode              0\n",
       "new job                     0\n",
       "salary incentives           0\n",
       "domestic life               0\n",
       "personal life               0\n",
       "layoff fear                 0\n",
       "stretched hours             0\n",
       "domestic obligation         0\n",
       "background noises           0\n",
       "personal calls              0\n",
       "silenced                    0\n",
       "avoid contact               0\n",
       "sexual harassment           0\n",
       "comfort                    92\n",
       "hr policies                 0\n",
       "better policies             0\n",
       "biased impact               0\n",
       "Comments                   75\n",
       "Other Info                 91\n",
       "dtype: int64"
      ]
     },
     "execution_count": 48,
     "metadata": {},
     "output_type": "execute_result"
    }
   ],
   "source": [
    "#filling up the missing values in the column 'new job'\n",
    "print(df['new job'].value_counts())\n",
    "df1=df\n",
    "df1['new job']=df1['new job'].fillna(\"Not applicable\")\n",
    "df1.isna().sum()\n"
   ]
  },
  {
   "cell_type": "markdown",
   "metadata": {},
   "source": [
    "## We'll start with an overview of the Data Entries on the basis of three categories namely 'Sex', 'Age' and ' Marital Status'. They'll be displayed by count, by percentage and by a pie chart."
   ]
  },
  {
   "cell_type": "code",
   "execution_count": 49,
   "metadata": {},
   "outputs": [
    {
     "name": "stdout",
     "output_type": "stream",
     "text": [
      "\u001b[1mGenders: \u001b[0m \n",
      "By count:\n",
      "Male      58\n",
      "Female    40\n",
      "Name: sex, dtype: int64\n",
      "\n",
      "By Percentage:\n",
      "Male      59.183673\n",
      "Female    40.816327\n",
      "Name: sex, dtype: float64\n"
     ]
    },
    {
     "data": {
      "text/plain": [
       "<AxesSubplot:title={'center':'Entries by Gender'}, ylabel='sex'>"
      ]
     },
     "execution_count": 49,
     "metadata": {},
     "output_type": "execute_result"
    },
    {
     "data": {
      "image/png": "[encoded data removed]",
      "text/plain": [
       "<Figure size 432x288 with 1 Axes>"
      ]
     },
     "metadata": {},
     "output_type": "display_data"
    }
   ],
   "source": [
    "#Displaying entries\n",
    "\n",
    "print(\"\\033[1mGenders: \\033[0m \\nBy count:\")\n",
    "print(df1['sex'].value_counts())\n",
    "print(\"\\nBy Percentage:\")\n",
    "print(df1['sex'].value_counts(normalize= True)*100)\n",
    "df1['sex'].value_counts(normalize= True).plot(kind='pie',title='Entries by Gender')\n",
    "\n"
   ]
  },
  {
   "cell_type": "code",
   "execution_count": 50,
   "metadata": {},
   "outputs": [
    {
     "name": "stdout",
     "output_type": "stream",
     "text": [
      "\u001b[1mAge: \u001b[0m \n",
      "By count:\n",
      "18-24    45\n",
      "25-34    25\n",
      "45-60    15\n",
      "35-44    13\n",
      "Name: age, dtype: int64\n",
      "\n",
      "By Percentage:\n",
      "18-24    45.918367\n",
      "25-34    25.510204\n",
      "45-60    15.306122\n",
      "35-44    13.265306\n",
      "Name: age, dtype: float64\n"
     ]
    },
    {
     "data": {
      "text/plain": [
       "<AxesSubplot:title={'center':'Entries by age'}, ylabel='age'>"
      ]
     },
     "execution_count": 50,
     "metadata": {},
     "output_type": "execute_result"
    },
    {
     "data": {
      "image/png": "[encoded data removed]",
      "text/plain": [
       "<Figure size 432x288 with 1 Axes>"
      ]
     },
     "metadata": {},
     "output_type": "display_data"
    }
   ],
   "source": [
    "print(\"\\033[1mAge: \\033[0m \\nBy count:\")\n",
    "print(df1['age'].value_counts())\n",
    "print(\"\\nBy Percentage:\")\n",
    "print(df1['age'].value_counts(normalize= True)*100)\n",
    "df1['age'].value_counts(normalize= True).plot(kind='pie',title='Entries by age')\n"
   ]
  },
  {
   "cell_type": "code",
   "execution_count": 51,
   "metadata": {},
   "outputs": [
    {
     "name": "stdout",
     "output_type": "stream",
     "text": [
      "\u001b[1mMarital Status: \u001b[0m \n",
      "By count:\n",
      "Single     59\n",
      "Married    39\n",
      "Name: marital status, dtype: int64\n",
      "\n",
      "By Percentage:\n",
      "Single     60.204082\n",
      "Married    39.795918\n",
      "Name: marital status, dtype: float64\n"
     ]
    },
    {
     "data": {
      "text/plain": [
       "<AxesSubplot:title={'center':'Entries by marital status'}, ylabel='marital status'>"
      ]
     },
     "execution_count": 51,
     "metadata": {},
     "output_type": "execute_result"
    },
    {
     "data": {
      "image/png": "[encoded data removed]",
      "text/plain": [
       "<Figure size 432x288 with 1 Axes>"
      ]
     },
     "metadata": {},
     "output_type": "display_data"
    }
   ],
   "source": [
    "print(\"\\033[1mMarital Status: \\033[0m \\nBy count:\")\n",
    "print(df1['marital status'].value_counts())\n",
    "print(\"\\nBy Percentage:\")\n",
    "print(df1['marital status'].value_counts(normalize= True)*100)\n",
    "df1['marital status'].value_counts(normalize= True).plot(kind='pie', title='Entries by marital status')\n"
   ]
  },
  {
   "cell_type": "markdown",
   "metadata": {},
   "source": [
    "## To start with the Analysis, we'll take up the relevant attributes, one at a time.In case a further need to analyse some particular attribute is felt, plots will be used to provide a clearer explanation. \n",
    "## To start with, Preferred Modes of working will be analysed against Gender, Age and Marital Status individually. Percentages are displayed columnwise.\n",
    "## This will be followed by a mosaic plot of Preferred Mode, Gender and Marital Status(Mosaic Plots will be used for multivariate analysis)"
   ]
  },
  {
   "cell_type": "code",
   "execution_count": 52,
   "metadata": {},
   "outputs": [],
   "source": [
    "import matplotlib.pyplot as plt\n",
    "import numpy as np\n",
    "from statsmodels.graphics.mosaicplot import mosaic\n",
    "from itertools import product"
   ]
  },
  {
   "cell_type": "code",
   "execution_count": 53,
   "metadata": {},
   "outputs": [
    {
     "name": "stdout",
     "output_type": "stream",
     "text": [
      "\u001b[1mPreferred modes of working by percentage:\u001b[0m\n",
      "Physical Mode                  51.020408\n",
      "Remote Mode(Work From Home)    48.979592\n",
      "Name: preferred mode, dtype: float64\n",
      "\n",
      " \n",
      "\u001b[1mPreferred modes of working by Gender:\u001b[0m\n",
      "(How to read the table: 44.7% females prefer Physical mode of working while 55.2% females prefer Remote mode of working): \n",
      "\n"
     ]
    },
    {
     "data": {
      "text/html": [
       "<div>\n",
       "<style scoped>\n",
       "    .dataframe tbody tr th:only-of-type {\n",
       "        vertical-align: middle;\n",
       "    }\n",
       "\n",
       "    .dataframe tbody tr th {\n",
       "        vertical-align: top;\n",
       "    }\n",
       "\n",
       "    .dataframe thead th {\n",
       "        text-align: right;\n",
       "    }\n",
       "</style>\n",
       "<table border=\"1\" class=\"dataframe\">\n",
       "  <thead>\n",
       "    <tr style=\"text-align: right;\">\n",
       "      <th>sex</th>\n",
       "      <th>Female</th>\n",
       "      <th>Male</th>\n",
       "    </tr>\n",
       "    <tr>\n",
       "      <th>preferred mode</th>\n",
       "      <th></th>\n",
       "      <th></th>\n",
       "    </tr>\n",
       "  </thead>\n",
       "  <tbody>\n",
       "    <tr>\n",
       "      <th>Physical Mode</th>\n",
       "      <td>47.5</td>\n",
       "      <td>53.448276</td>\n",
       "    </tr>\n",
       "    <tr>\n",
       "      <th>Remote Mode(Work From Home)</th>\n",
       "      <td>52.5</td>\n",
       "      <td>46.551724</td>\n",
       "    </tr>\n",
       "  </tbody>\n",
       "</table>\n",
       "</div>"
      ],
      "text/plain": [
       "sex                          Female       Male\n",
       "preferred mode                                \n",
       "Physical Mode                  47.5  53.448276\n",
       "Remote Mode(Work From Home)    52.5  46.551724"
      ]
     },
     "execution_count": 53,
     "metadata": {},
     "output_type": "execute_result"
    }
   ],
   "source": [
    "#Analysing preferred modes of working by Gender\n",
    "print(\"\\033[1mPreferred modes of working by percentage:\\033[0m\")\n",
    "print(df1['preferred mode'].value_counts(normalize= True)*100)\n",
    "print(\"\\n \\n\\033[1mPreferred modes of working by Gender:\\033[0m\\n(How to read the table: 44.7% females prefer Physical mode of working while 55.2% females prefer Remote mode of working): \\n\")\n",
    "pd.crosstab(df1['preferred mode'],df1['sex'], normalize= 'columns')*100\n"
   ]
  },
  {
   "cell_type": "code",
   "execution_count": 54,
   "metadata": {},
   "outputs": [
    {
     "name": "stdout",
     "output_type": "stream",
     "text": [
      "\n",
      " \n",
      "\u001b[1mPreferred modes of working by Age:\u001b[0m \n",
      "(How to read the table: 44.4% of the people belonging to the age group 18-24 prefer Physical mode of working while 55.5% of the same age group prefer Remote mode of working)\n",
      "\n"
     ]
    },
    {
     "data": {
      "text/html": [
       "<div>\n",
       "<style scoped>\n",
       "    .dataframe tbody tr th:only-of-type {\n",
       "        vertical-align: middle;\n",
       "    }\n",
       "\n",
       "    .dataframe tbody tr th {\n",
       "        vertical-align: top;\n",
       "    }\n",
       "\n",
       "    .dataframe thead th {\n",
       "        text-align: right;\n",
       "    }\n",
       "</style>\n",
       "<table border=\"1\" class=\"dataframe\">\n",
       "  <thead>\n",
       "    <tr style=\"text-align: right;\">\n",
       "      <th>age</th>\n",
       "      <th>18-24</th>\n",
       "      <th>25-34</th>\n",
       "      <th>35-44</th>\n",
       "      <th>45-60</th>\n",
       "    </tr>\n",
       "    <tr>\n",
       "      <th>preferred mode</th>\n",
       "      <th></th>\n",
       "      <th></th>\n",
       "      <th></th>\n",
       "      <th></th>\n",
       "    </tr>\n",
       "  </thead>\n",
       "  <tbody>\n",
       "    <tr>\n",
       "      <th>Physical Mode</th>\n",
       "      <td>44.444444</td>\n",
       "      <td>52.0</td>\n",
       "      <td>46.153846</td>\n",
       "      <td>73.333333</td>\n",
       "    </tr>\n",
       "    <tr>\n",
       "      <th>Remote Mode(Work From Home)</th>\n",
       "      <td>55.555556</td>\n",
       "      <td>48.0</td>\n",
       "      <td>53.846154</td>\n",
       "      <td>26.666667</td>\n",
       "    </tr>\n",
       "  </tbody>\n",
       "</table>\n",
       "</div>"
      ],
      "text/plain": [
       "age                              18-24  25-34      35-44      45-60\n",
       "preferred mode                                                     \n",
       "Physical Mode                44.444444   52.0  46.153846  73.333333\n",
       "Remote Mode(Work From Home)  55.555556   48.0  53.846154  26.666667"
      ]
     },
     "execution_count": 54,
     "metadata": {},
     "output_type": "execute_result"
    }
   ],
   "source": [
    "#Analysing preferred modes of working by Age\n",
    "print(\"\\n \\n\\033[1mPreferred modes of working by Age:\\033[0m \\n(How to read the table: 44.4% of the people belonging to the age group 18-24 prefer Physical mode of working while 55.5% of the same age group prefer Remote mode of working)\\n\")\n",
    "pd.crosstab(df1['preferred mode'],df1['age'], normalize= 'columns')*100"
   ]
  },
  {
   "cell_type": "code",
   "execution_count": 55,
   "metadata": {},
   "outputs": [
    {
     "name": "stdout",
     "output_type": "stream",
     "text": [
      "\n",
      " \n",
      "\u001b[1mPreferred modes of working by Marital status:\u001b[0m\n",
      "(How to read the table: 55.5% of the people who are married prefer Physical mode of working while 44.4% of the married people prefer Remote mode of working)\n"
     ]
    },
    {
     "data": {
      "text/html": [
       "<div>\n",
       "<style scoped>\n",
       "    .dataframe tbody tr th:only-of-type {\n",
       "        vertical-align: middle;\n",
       "    }\n",
       "\n",
       "    .dataframe tbody tr th {\n",
       "        vertical-align: top;\n",
       "    }\n",
       "\n",
       "    .dataframe thead th {\n",
       "        text-align: right;\n",
       "    }\n",
       "</style>\n",
       "<table border=\"1\" class=\"dataframe\">\n",
       "  <thead>\n",
       "    <tr style=\"text-align: right;\">\n",
       "      <th>marital status</th>\n",
       "      <th>Married</th>\n",
       "      <th>Single</th>\n",
       "    </tr>\n",
       "    <tr>\n",
       "      <th>preferred mode</th>\n",
       "      <th></th>\n",
       "      <th></th>\n",
       "    </tr>\n",
       "  </thead>\n",
       "  <tbody>\n",
       "    <tr>\n",
       "      <th>Physical Mode</th>\n",
       "      <td>58.974359</td>\n",
       "      <td>45.762712</td>\n",
       "    </tr>\n",
       "    <tr>\n",
       "      <th>Remote Mode(Work From Home)</th>\n",
       "      <td>41.025641</td>\n",
       "      <td>54.237288</td>\n",
       "    </tr>\n",
       "  </tbody>\n",
       "</table>\n",
       "</div>"
      ],
      "text/plain": [
       "marital status                 Married     Single\n",
       "preferred mode                                   \n",
       "Physical Mode                58.974359  45.762712\n",
       "Remote Mode(Work From Home)  41.025641  54.237288"
      ]
     },
     "execution_count": 55,
     "metadata": {},
     "output_type": "execute_result"
    }
   ],
   "source": [
    "#Analysing preferred modes of working by Marital Status\n",
    "print(\"\\n \\n\\033[1mPreferred modes of working by Marital status:\\033[0m\\n(How to read the table: 55.5% of the people who are married prefer Physical mode of working while 44.4% of the married people prefer Remote mode of working)\")\n",
    "pd.crosstab(df1['preferred mode'],df1['marital status'], normalize= 'columns')*100"
   ]
  },
  {
   "cell_type": "code",
   "execution_count": 56,
   "metadata": {},
   "outputs": [
    {
     "data": {
      "text/html": [
       "<div>\n",
       "<style scoped>\n",
       "    .dataframe tbody tr th:only-of-type {\n",
       "        vertical-align: middle;\n",
       "    }\n",
       "\n",
       "    .dataframe tbody tr th {\n",
       "        vertical-align: top;\n",
       "    }\n",
       "\n",
       "    .dataframe thead th {\n",
       "        text-align: right;\n",
       "    }\n",
       "</style>\n",
       "<table border=\"1\" class=\"dataframe\">\n",
       "  <thead>\n",
       "    <tr style=\"text-align: right;\">\n",
       "      <th>preferred mode</th>\n",
       "      <th>Physical Mode</th>\n",
       "      <th>Remote Mode(Work From Home)</th>\n",
       "    </tr>\n",
       "    <tr>\n",
       "      <th>sex</th>\n",
       "      <th></th>\n",
       "      <th></th>\n",
       "    </tr>\n",
       "  </thead>\n",
       "  <tbody>\n",
       "    <tr>\n",
       "      <th>Female</th>\n",
       "      <td>48.387097</td>\n",
       "      <td>51.612903</td>\n",
       "    </tr>\n",
       "    <tr>\n",
       "      <th>Male</th>\n",
       "      <td>42.857143</td>\n",
       "      <td>57.142857</td>\n",
       "    </tr>\n",
       "  </tbody>\n",
       "</table>\n",
       "</div>"
      ],
      "text/plain": [
       "preferred mode  Physical Mode  Remote Mode(Work From Home)\n",
       "sex                                                       \n",
       "Female              48.387097                    51.612903\n",
       "Male                42.857143                    57.142857"
      ]
     },
     "execution_count": 56,
     "metadata": {},
     "output_type": "execute_result"
    }
   ],
   "source": [
    "#Analysing preferred modes with respect to gender and marital status\n",
    "#finding labels for the mosaic plot\n",
    "df_single=df1[df1['marital status']=='Single']\n",
    "pd.crosstab(df_single['sex'],df_single['preferred mode'],normalize='index')*100\n"
   ]
  },
  {
   "cell_type": "code",
   "execution_count": 57,
   "metadata": {},
   "outputs": [
    {
     "data": {
      "text/html": [
       "<div>\n",
       "<style scoped>\n",
       "    .dataframe tbody tr th:only-of-type {\n",
       "        vertical-align: middle;\n",
       "    }\n",
       "\n",
       "    .dataframe tbody tr th {\n",
       "        vertical-align: top;\n",
       "    }\n",
       "\n",
       "    .dataframe thead th {\n",
       "        text-align: right;\n",
       "    }\n",
       "</style>\n",
       "<table border=\"1\" class=\"dataframe\">\n",
       "  <thead>\n",
       "    <tr style=\"text-align: right;\">\n",
       "      <th>preferred mode</th>\n",
       "      <th>Physical Mode</th>\n",
       "      <th>Remote Mode(Work From Home)</th>\n",
       "    </tr>\n",
       "    <tr>\n",
       "      <th>sex</th>\n",
       "      <th></th>\n",
       "      <th></th>\n",
       "    </tr>\n",
       "  </thead>\n",
       "  <tbody>\n",
       "    <tr>\n",
       "      <th>Female</th>\n",
       "      <td>44.444444</td>\n",
       "      <td>55.555556</td>\n",
       "    </tr>\n",
       "    <tr>\n",
       "      <th>Male</th>\n",
       "      <td>63.333333</td>\n",
       "      <td>36.666667</td>\n",
       "    </tr>\n",
       "  </tbody>\n",
       "</table>\n",
       "</div>"
      ],
      "text/plain": [
       "preferred mode  Physical Mode  Remote Mode(Work From Home)\n",
       "sex                                                       \n",
       "Female              44.444444                    55.555556\n",
       "Male                63.333333                    36.666667"
      ]
     },
     "execution_count": 57,
     "metadata": {},
     "output_type": "execute_result"
    }
   ],
   "source": [
    "#Finding labels for the mosaic plot\n",
    "df_married=df1[df1['marital status']=='Married']\n",
    "pd.crosstab(df_married['sex'],df_married['preferred mode'],normalize='index')*100\n"
   ]
  },
  {
   "cell_type": "markdown",
   "metadata": {},
   "source": [
    "## Analysing Preferred modes of working by Marital status and Gender"
   ]
  },
  {
   "cell_type": "code",
   "execution_count": 58,
   "metadata": {},
   "outputs": [
    {
     "data": {
      "image/png": "[encoded data removed]",
      "text/plain": [
       "<Figure size 432x288 with 3 Axes>"
      ]
     },
     "metadata": {
      "needs_background": "light"
     },
     "output_type": "display_data"
    }
   ],
   "source": [
    "#This Mosaic plot will explain what each tile represents to enhance understanding\n",
    "mosaic(df1,['marital status','sex','preferred mode'],title='Fig 4- Mosaic Plot with Tile Descriptions\\n')\n",
    "plt.show()"
   ]
  },
  {
   "cell_type": "code",
   "execution_count": 59,
   "metadata": {},
   "outputs": [
    {
     "data": {
      "image/png": "[encoded data removed]",
      "text/plain": [
       "<Figure size 432x288 with 3 Axes>"
      ]
     },
     "metadata": {
      "needs_background": "light"
     },
     "output_type": "display_data"
    },
    {
     "name": "stdout",
     "output_type": "stream",
     "text": [
      "\u001b[1mHow to read the plot:\u001b[0m 71.4% of Married Females prefer Remote mode of working while 28.6% of the married females prefer physical mode of work.\n"
     ]
    }
   ],
   "source": [
    "#Here, we'll be using labels calculated above for a better analysis \n",
    "props={}\n",
    "props[('Single','Female','Remote Mode(Work From Home)')]={'facecolor':'#FF7F50', 'edgecolor':'white'}\n",
    "props[('Single','Male','Remote Mode(Work From Home)')]={'facecolor':'#40E0D0', 'edgecolor':'white'}\n",
    "props[('Married','Female','Remote Mode(Work From Home)')]={'facecolor':'#7FFFD4','edgecolor':'white'}\n",
    "props[('Married','Male','Remote Mode(Work From Home)')]= {'facecolor':'#C79FEF','edgecolor':'white'}\n",
    "props[('Single','Female','Physical Mode')]={'facecolor':'#FC5A50', 'edgecolor':'white'}\n",
    "props[('Single','Male','Physical Mode')]={'facecolor':'#06C2AC', 'edgecolor':'white'}\n",
    "props[('Married','Female','Physical Mode')]={'facecolor':'#04D8B2','edgecolor':'white'}\n",
    "props[('Married','Male','Physical Mode')]= {'facecolor':'#DA70D6','edgecolor':'white'}\n",
    "labelizer=lambda k:{('Single','Female','Remote Mode(Work From Home)'):'51.6%',('Single','Male','Remote Mode(Work From Home)'):'57.1%',('Married','Female','Remote Mode(Work From Home)'):'71.4%',('Married','Male','Remote Mode(Work From Home)'):'37.9%',('Single','Female','Physical Mode'):'48.4%',('Single','Male','Physical Mode'):'42.9%',('Married','Female','Physical Mode'):'28.6%',('Married','Male','Physical Mode'):'62.1%'}[k]\n",
    "mosaic(df1,['marital status','sex','preferred mode'],title='Fig 5- Mosaic Plot with Percentage labels\\n',labelizer=labelizer,properties=props)\n",
    "plt.show()\n",
    "print(\"\\033[1mHow to read the plot:\\033[0m 71.4% of Married Females prefer Remote mode of working while 28.6% of the married females prefer physical mode of work.\")"
   ]
  },
  {
   "cell_type": "markdown",
   "metadata": {},
   "source": [
    "## Analysing remaining attributes with respect to Gender."
   ]
  },
  {
   "cell_type": "markdown",
   "metadata": {},
   "source": [
    "## (i) Salary Incentives"
   ]
  },
  {
   "cell_type": "code",
   "execution_count": 60,
   "metadata": {},
   "outputs": [
    {
     "data": {
      "text/html": [
       "<div>\n",
       "<style scoped>\n",
       "    .dataframe tbody tr th:only-of-type {\n",
       "        vertical-align: middle;\n",
       "    }\n",
       "\n",
       "    .dataframe tbody tr th {\n",
       "        vertical-align: top;\n",
       "    }\n",
       "\n",
       "    .dataframe thead th {\n",
       "        text-align: right;\n",
       "    }\n",
       "</style>\n",
       "<table border=\"1\" class=\"dataframe\">\n",
       "  <thead>\n",
       "    <tr style=\"text-align: right;\">\n",
       "      <th>salary incentives</th>\n",
       "      <th>Good</th>\n",
       "      <th>Poor</th>\n",
       "      <th>Same as before</th>\n",
       "      <th>Very Good</th>\n",
       "      <th>Very Poor</th>\n",
       "    </tr>\n",
       "    <tr>\n",
       "      <th>sex</th>\n",
       "      <th></th>\n",
       "      <th></th>\n",
       "      <th></th>\n",
       "      <th></th>\n",
       "      <th></th>\n",
       "    </tr>\n",
       "  </thead>\n",
       "  <tbody>\n",
       "    <tr>\n",
       "      <th>Female</th>\n",
       "      <td>5.000000</td>\n",
       "      <td>30.000000</td>\n",
       "      <td>52.500000</td>\n",
       "      <td>5.000000</td>\n",
       "      <td>7.50000</td>\n",
       "    </tr>\n",
       "    <tr>\n",
       "      <th>Male</th>\n",
       "      <td>24.137931</td>\n",
       "      <td>24.137931</td>\n",
       "      <td>37.931034</td>\n",
       "      <td>5.172414</td>\n",
       "      <td>8.62069</td>\n",
       "    </tr>\n",
       "  </tbody>\n",
       "</table>\n",
       "</div>"
      ],
      "text/plain": [
       "salary incentives       Good       Poor  Same as before  Very Good  Very Poor\n",
       "sex                                                                          \n",
       "Female              5.000000  30.000000       52.500000   5.000000    7.50000\n",
       "Male               24.137931  24.137931       37.931034   5.172414    8.62069"
      ]
     },
     "metadata": {},
     "output_type": "display_data"
    },
    {
     "name": "stdout",
     "output_type": "stream",
     "text": [
      "\n",
      " \n",
      " \u001b[1mHow to read a stacked bar chart:\u001b[0m Of the females, 5.26% felt that salary incentives were good, 26.3% felt that they were poor,\n",
      " 55.2% felt that they were the same as before,5.2% felt that they were very good and 7.8% felt that they were very poor.\n",
      " \n",
      "\n"
     ]
    },
    {
     "data": {
      "image/png": "[encoded data removed]",
      "text/plain": [
       "<Figure size 648x648 with 1 Axes>"
      ]
     },
     "metadata": {
      "needs_background": "light"
     },
     "output_type": "display_data"
    }
   ],
   "source": [
    "ct=pd.crosstab(df1['sex'],df1['salary incentives'], normalize= 'index')*100\n",
    "display(ct)\n",
    "ct.plot.bar(figsize=(9,9),xlabel='sex',ylabel='Salary Incentives',title='Fig 6: Stacked Barplot of Salary incentives against gender',stacked=True)\n",
    "print(\"\\n \\n \\033[1mHow to read a stacked bar chart:\\033[0m Of the females, 5.26% felt that salary incentives were good, 26.3% felt that they were poor,\\n 55.2% felt that they were the same as before,5.2% felt that they were very good and 7.8% felt that they were very poor.\\n \\n\")"
   ]
  },
  {
   "cell_type": "markdown",
   "metadata": {},
   "source": [
    "## (ii) Domestic Life "
   ]
  },
  {
   "cell_type": "code",
   "execution_count": 61,
   "metadata": {},
   "outputs": [
    {
     "data": {
      "text/html": [
       "<div>\n",
       "<style scoped>\n",
       "    .dataframe tbody tr th:only-of-type {\n",
       "        vertical-align: middle;\n",
       "    }\n",
       "\n",
       "    .dataframe tbody tr th {\n",
       "        vertical-align: top;\n",
       "    }\n",
       "\n",
       "    .dataframe thead th {\n",
       "        text-align: right;\n",
       "    }\n",
       "</style>\n",
       "<table border=\"1\" class=\"dataframe\">\n",
       "  <thead>\n",
       "    <tr style=\"text-align: right;\">\n",
       "      <th>domestic life</th>\n",
       "      <th>Did not have any affect</th>\n",
       "      <th>Slightly Improved</th>\n",
       "      <th>Slightly Negatively</th>\n",
       "      <th>Very Improved</th>\n",
       "      <th>Very Negatively</th>\n",
       "    </tr>\n",
       "    <tr>\n",
       "      <th>sex</th>\n",
       "      <th></th>\n",
       "      <th></th>\n",
       "      <th></th>\n",
       "      <th></th>\n",
       "      <th></th>\n",
       "    </tr>\n",
       "  </thead>\n",
       "  <tbody>\n",
       "    <tr>\n",
       "      <th>Female</th>\n",
       "      <td>25.000000</td>\n",
       "      <td>2.500000</td>\n",
       "      <td>55.000000</td>\n",
       "      <td>5.000000</td>\n",
       "      <td>12.500000</td>\n",
       "    </tr>\n",
       "    <tr>\n",
       "      <th>Male</th>\n",
       "      <td>31.034483</td>\n",
       "      <td>13.793103</td>\n",
       "      <td>51.724138</td>\n",
       "      <td>1.724138</td>\n",
       "      <td>1.724138</td>\n",
       "    </tr>\n",
       "  </tbody>\n",
       "</table>\n",
       "</div>"
      ],
      "text/plain": [
       "domestic life  Did not have any affect  Slightly Improved  \\\n",
       "sex                                                         \n",
       "Female                       25.000000           2.500000   \n",
       "Male                         31.034483          13.793103   \n",
       "\n",
       "domestic life  Slightly Negatively  Very Improved  Very Negatively  \n",
       "sex                                                                 \n",
       "Female                   55.000000       5.000000        12.500000  \n",
       "Male                     51.724138       1.724138         1.724138  "
      ]
     },
     "metadata": {},
     "output_type": "display_data"
    },
    {
     "data": {
      "text/plain": [
       "<AxesSubplot:title={'center':'Fig 7: Stacked Barplot of Domestic Life against gender'}, xlabel='sex', ylabel='Affect on Domestic Life'>"
      ]
     },
     "execution_count": 61,
     "metadata": {},
     "output_type": "execute_result"
    },
    {
     "data": {
      "image/png": "[encoded data removed]",
      "text/plain": [
       "<Figure size 648x648 with 1 Axes>"
      ]
     },
     "metadata": {
      "needs_background": "light"
     },
     "output_type": "display_data"
    }
   ],
   "source": [
    "ct1=pd.crosstab(df1['sex'],df1['domestic life'], normalize= 'index')*100\n",
    "display(ct1)\n",
    "ct1.plot.bar(figsize=(9,9),xlabel='sex',ylabel='Affect on Domestic Life',title='Fig 7: Stacked Barplot of Domestic Life against gender',stacked=True)"
   ]
  },
  {
   "cell_type": "markdown",
   "metadata": {},
   "source": [
    "## (iii) Personal Life"
   ]
  },
  {
   "cell_type": "code",
   "execution_count": 62,
   "metadata": {},
   "outputs": [
    {
     "data": {
      "text/html": [
       "<div>\n",
       "<style scoped>\n",
       "    .dataframe tbody tr th:only-of-type {\n",
       "        vertical-align: middle;\n",
       "    }\n",
       "\n",
       "    .dataframe tbody tr th {\n",
       "        vertical-align: top;\n",
       "    }\n",
       "\n",
       "    .dataframe thead th {\n",
       "        text-align: right;\n",
       "    }\n",
       "</style>\n",
       "<table border=\"1\" class=\"dataframe\">\n",
       "  <thead>\n",
       "    <tr style=\"text-align: right;\">\n",
       "      <th>personal life</th>\n",
       "      <th>Did not have any affect</th>\n",
       "      <th>Slightly Improved</th>\n",
       "      <th>Slightly Negatively</th>\n",
       "      <th>Very Improved</th>\n",
       "      <th>Very Negatively</th>\n",
       "    </tr>\n",
       "    <tr>\n",
       "      <th>sex</th>\n",
       "      <th></th>\n",
       "      <th></th>\n",
       "      <th></th>\n",
       "      <th></th>\n",
       "      <th></th>\n",
       "    </tr>\n",
       "  </thead>\n",
       "  <tbody>\n",
       "    <tr>\n",
       "      <th>Female</th>\n",
       "      <td>12.500000</td>\n",
       "      <td>15.000000</td>\n",
       "      <td>52.50000</td>\n",
       "      <td>2.500000</td>\n",
       "      <td>17.500000</td>\n",
       "    </tr>\n",
       "    <tr>\n",
       "      <th>Male</th>\n",
       "      <td>25.862069</td>\n",
       "      <td>18.965517</td>\n",
       "      <td>41.37931</td>\n",
       "      <td>3.448276</td>\n",
       "      <td>10.344828</td>\n",
       "    </tr>\n",
       "  </tbody>\n",
       "</table>\n",
       "</div>"
      ],
      "text/plain": [
       "personal life  Did not have any affect  Slightly Improved  \\\n",
       "sex                                                         \n",
       "Female                       12.500000          15.000000   \n",
       "Male                         25.862069          18.965517   \n",
       "\n",
       "personal life  Slightly Negatively  Very Improved  Very Negatively  \n",
       "sex                                                                 \n",
       "Female                    52.50000       2.500000        17.500000  \n",
       "Male                      41.37931       3.448276        10.344828  "
      ]
     },
     "metadata": {},
     "output_type": "display_data"
    },
    {
     "data": {
      "text/plain": [
       "<AxesSubplot:title={'center':'Fig 8: Stacked Barplot of Personal Life against gender'}, xlabel='sex', ylabel='Affect on Personal Life'>"
      ]
     },
     "execution_count": 62,
     "metadata": {},
     "output_type": "execute_result"
    },
    {
     "data": {
      "image/png": "[encoded data removed]",
      "text/plain": [
       "<Figure size 648x648 with 1 Axes>"
      ]
     },
     "metadata": {
      "needs_background": "light"
     },
     "output_type": "display_data"
    }
   ],
   "source": [
    "ct2=pd.crosstab(df1['sex'],df1['personal life'], normalize= 'index')*100\n",
    "display(ct2)\n",
    "ct2.plot.bar(figsize=(9,9),xlabel='sex',ylabel='Affect on Personal Life',title='Fig 8: Stacked Barplot of Personal Life against gender',stacked=True)"
   ]
  },
  {
   "cell_type": "markdown",
   "metadata": {},
   "source": [
    "## (iv) Layoff Fear"
   ]
  },
  {
   "cell_type": "code",
   "execution_count": 63,
   "metadata": {},
   "outputs": [
    {
     "data": {
      "text/html": [
       "<div>\n",
       "<style scoped>\n",
       "    .dataframe tbody tr th:only-of-type {\n",
       "        vertical-align: middle;\n",
       "    }\n",
       "\n",
       "    .dataframe tbody tr th {\n",
       "        vertical-align: top;\n",
       "    }\n",
       "\n",
       "    .dataframe thead th {\n",
       "        text-align: right;\n",
       "    }\n",
       "</style>\n",
       "<table border=\"1\" class=\"dataframe\">\n",
       "  <thead>\n",
       "    <tr style=\"text-align: right;\">\n",
       "      <th>layoff fear</th>\n",
       "      <th>Maybe</th>\n",
       "      <th>No</th>\n",
       "      <th>Yes</th>\n",
       "    </tr>\n",
       "    <tr>\n",
       "      <th>sex</th>\n",
       "      <th></th>\n",
       "      <th></th>\n",
       "      <th></th>\n",
       "    </tr>\n",
       "  </thead>\n",
       "  <tbody>\n",
       "    <tr>\n",
       "      <th>Female</th>\n",
       "      <td>23.529412</td>\n",
       "      <td>26.470588</td>\n",
       "      <td>50.000000</td>\n",
       "    </tr>\n",
       "    <tr>\n",
       "      <th>Male</th>\n",
       "      <td>20.408163</td>\n",
       "      <td>36.734694</td>\n",
       "      <td>42.857143</td>\n",
       "    </tr>\n",
       "  </tbody>\n",
       "</table>\n",
       "</div>"
      ],
      "text/plain": [
       "layoff fear      Maybe         No        Yes\n",
       "sex                                         \n",
       "Female       23.529412  26.470588  50.000000\n",
       "Male         20.408163  36.734694  42.857143"
      ]
     },
     "metadata": {},
     "output_type": "display_data"
    },
    {
     "data": {
      "text/plain": [
       "<AxesSubplot:title={'center':'Fig9: Stacked Barplot of Fear of Layoff against gender'}, xlabel='sex', ylabel='Fear of Layoff'>"
      ]
     },
     "execution_count": 63,
     "metadata": {},
     "output_type": "execute_result"
    },
    {
     "data": {
      "image/png": "[encoded data removed]",
      "text/plain": [
       "<Figure size 648x648 with 1 Axes>"
      ]
     },
     "metadata": {
      "needs_background": "light"
     },
     "output_type": "display_data"
    }
   ],
   "source": [
    "df3=df1[df1['layoff fear'] != 'The question doesn\\'t apply to my situation']\n",
    "ct3=pd.crosstab(df3['sex'],df3['layoff fear'], normalize= 'index')*100\n",
    "display(ct3)\n",
    "ct3.plot.bar(figsize=(9,9),xlabel='sex',ylabel='Fear of Layoff',title='Fig9: Stacked Barplot of Fear of Layoff against gender',stacked=True)"
   ]
  },
  {
   "cell_type": "markdown",
   "metadata": {},
   "source": [
    "## (v) Domestic Obligation"
   ]
  },
  {
   "cell_type": "code",
   "execution_count": 64,
   "metadata": {},
   "outputs": [
    {
     "data": {
      "text/html": [
       "<div>\n",
       "<style scoped>\n",
       "    .dataframe tbody tr th:only-of-type {\n",
       "        vertical-align: middle;\n",
       "    }\n",
       "\n",
       "    .dataframe tbody tr th {\n",
       "        vertical-align: top;\n",
       "    }\n",
       "\n",
       "    .dataframe thead th {\n",
       "        text-align: right;\n",
       "    }\n",
       "</style>\n",
       "<table border=\"1\" class=\"dataframe\">\n",
       "  <thead>\n",
       "    <tr style=\"text-align: right;\">\n",
       "      <th>domestic obligation</th>\n",
       "      <th>Never</th>\n",
       "      <th>Often</th>\n",
       "      <th>Rarely</th>\n",
       "      <th>Very often</th>\n",
       "    </tr>\n",
       "    <tr>\n",
       "      <th>sex</th>\n",
       "      <th></th>\n",
       "      <th></th>\n",
       "      <th></th>\n",
       "      <th></th>\n",
       "    </tr>\n",
       "  </thead>\n",
       "  <tbody>\n",
       "    <tr>\n",
       "      <th>Female</th>\n",
       "      <td>17.500000</td>\n",
       "      <td>40.000000</td>\n",
       "      <td>30.000000</td>\n",
       "      <td>12.500000</td>\n",
       "    </tr>\n",
       "    <tr>\n",
       "      <th>Male</th>\n",
       "      <td>24.137931</td>\n",
       "      <td>25.862069</td>\n",
       "      <td>44.827586</td>\n",
       "      <td>5.172414</td>\n",
       "    </tr>\n",
       "  </tbody>\n",
       "</table>\n",
       "</div>"
      ],
      "text/plain": [
       "domestic obligation      Never      Often     Rarely  Very often\n",
       "sex                                                             \n",
       "Female               17.500000  40.000000  30.000000   12.500000\n",
       "Male                 24.137931  25.862069  44.827586    5.172414"
      ]
     },
     "metadata": {},
     "output_type": "display_data"
    },
    {
     "data": {
      "text/plain": [
       "<AxesSubplot:title={'center':'Fig 10: Stacked Barplot of Domestic Obligation against gender'}, xlabel='sex', ylabel='Domestic Obligation'>"
      ]
     },
     "execution_count": 64,
     "metadata": {},
     "output_type": "execute_result"
    },
    {
     "data": {
      "image/png": "[encoded data removed]",
      "text/plain": [
       "<Figure size 648x648 with 1 Axes>"
      ]
     },
     "metadata": {
      "needs_background": "light"
     },
     "output_type": "display_data"
    }
   ],
   "source": [
    "ct5=pd.crosstab(df1['sex'],df1['domestic obligation'], normalize= 'index')*100\n",
    "display(ct5)\n",
    "ct5.plot.bar(figsize=(9,9),xlabel='sex',ylabel='Domestic Obligation',title='Fig 10: Stacked Barplot of Domestic Obligation against gender',stacked=True)"
   ]
  },
  {
   "cell_type": "markdown",
   "metadata": {},
   "source": [
    "## (vi) Background Noises"
   ]
  },
  {
   "cell_type": "code",
   "execution_count": 65,
   "metadata": {},
   "outputs": [
    {
     "data": {
      "text/html": [
       "<div>\n",
       "<style scoped>\n",
       "    .dataframe tbody tr th:only-of-type {\n",
       "        vertical-align: middle;\n",
       "    }\n",
       "\n",
       "    .dataframe tbody tr th {\n",
       "        vertical-align: top;\n",
       "    }\n",
       "\n",
       "    .dataframe thead th {\n",
       "        text-align: right;\n",
       "    }\n",
       "</style>\n",
       "<table border=\"1\" class=\"dataframe\">\n",
       "  <thead>\n",
       "    <tr style=\"text-align: right;\">\n",
       "      <th>background noises</th>\n",
       "      <th>No</th>\n",
       "      <th>Yes</th>\n",
       "    </tr>\n",
       "    <tr>\n",
       "      <th>sex</th>\n",
       "      <th></th>\n",
       "      <th></th>\n",
       "    </tr>\n",
       "  </thead>\n",
       "  <tbody>\n",
       "    <tr>\n",
       "      <th>Female</th>\n",
       "      <td>20.588235</td>\n",
       "      <td>79.411765</td>\n",
       "    </tr>\n",
       "    <tr>\n",
       "      <th>Male</th>\n",
       "      <td>46.153846</td>\n",
       "      <td>53.846154</td>\n",
       "    </tr>\n",
       "  </tbody>\n",
       "</table>\n",
       "</div>"
      ],
      "text/plain": [
       "background noises         No        Yes\n",
       "sex                                    \n",
       "Female             20.588235  79.411765\n",
       "Male               46.153846  53.846154"
      ]
     },
     "metadata": {},
     "output_type": "display_data"
    },
    {
     "data": {
      "text/plain": [
       "<AxesSubplot:title={'center':'Fig 11: Stacked Barplot of Background Noises against gender'}, xlabel='sex', ylabel='background noises'>"
      ]
     },
     "execution_count": 65,
     "metadata": {},
     "output_type": "execute_result"
    },
    {
     "data": {
      "image/png": "[encoded data removed]",
      "text/plain": [
       "<Figure size 576x576 with 1 Axes>"
      ]
     },
     "metadata": {
      "needs_background": "light"
     },
     "output_type": "display_data"
    }
   ],
   "source": [
    "df2=df1[df1['background noises'] != 'The question doesn\\'t apply to my situation']\n",
    "ct6=pd.crosstab(df2['sex'],df2['background noises'], normalize= 'index')*100\n",
    "display(ct6)\n",
    "ct6.plot.bar(figsize=(8,8),xlabel='sex',ylabel='background noises',title='Fig 11: Stacked Barplot of Background Noises against gender',stacked=True)"
   ]
  },
  {
   "cell_type": "markdown",
   "metadata": {},
   "source": [
    "## (vi) Personal Calls from superiors/colleagues\n"
   ]
  },
  {
   "cell_type": "code",
   "execution_count": 66,
   "metadata": {},
   "outputs": [
    {
     "data": {
      "text/html": [
       "<div>\n",
       "<style scoped>\n",
       "    .dataframe tbody tr th:only-of-type {\n",
       "        vertical-align: middle;\n",
       "    }\n",
       "\n",
       "    .dataframe tbody tr th {\n",
       "        vertical-align: top;\n",
       "    }\n",
       "\n",
       "    .dataframe thead th {\n",
       "        text-align: right;\n",
       "    }\n",
       "</style>\n",
       "<table border=\"1\" class=\"dataframe\">\n",
       "  <thead>\n",
       "    <tr style=\"text-align: right;\">\n",
       "      <th>personal calls</th>\n",
       "      <th>Never</th>\n",
       "      <th>Often</th>\n",
       "      <th>Rarely</th>\n",
       "      <th>Very often</th>\n",
       "    </tr>\n",
       "    <tr>\n",
       "      <th>sex</th>\n",
       "      <th></th>\n",
       "      <th></th>\n",
       "      <th></th>\n",
       "      <th></th>\n",
       "    </tr>\n",
       "  </thead>\n",
       "  <tbody>\n",
       "    <tr>\n",
       "      <th>Female</th>\n",
       "      <td>17.500000</td>\n",
       "      <td>25.000000</td>\n",
       "      <td>50.000000</td>\n",
       "      <td>7.500000</td>\n",
       "    </tr>\n",
       "    <tr>\n",
       "      <th>Male</th>\n",
       "      <td>15.517241</td>\n",
       "      <td>22.413793</td>\n",
       "      <td>56.896552</td>\n",
       "      <td>5.172414</td>\n",
       "    </tr>\n",
       "  </tbody>\n",
       "</table>\n",
       "</div>"
      ],
      "text/plain": [
       "personal calls      Never      Often     Rarely  Very often\n",
       "sex                                                        \n",
       "Female          17.500000  25.000000  50.000000    7.500000\n",
       "Male            15.517241  22.413793  56.896552    5.172414"
      ]
     },
     "metadata": {},
     "output_type": "display_data"
    },
    {
     "data": {
      "text/plain": [
       "<AxesSubplot:title={'center':'Fig 12: Stacked Barplot of of personal against gender'}, xlabel='sex', ylabel='Personal Calls'>"
      ]
     },
     "execution_count": 66,
     "metadata": {},
     "output_type": "execute_result"
    },
    {
     "data": {
      "image/png": "[encoded data removed]",
      "text/plain": [
       "<Figure size 576x576 with 1 Axes>"
      ]
     },
     "metadata": {
      "needs_background": "light"
     },
     "output_type": "display_data"
    }
   ],
   "source": [
    "ct7=pd.crosstab(df1['sex'],df1['personal calls'], normalize= 'index')*100\n",
    "display(ct7)\n",
    "ct7.plot.bar(figsize=(8,8),xlabel='sex',ylabel='Personal Calls',title='Fig 12: Stacked Barplot of of personal against gender',stacked=True)"
   ]
  },
  {
   "cell_type": "markdown",
   "metadata": {},
   "source": [
    "## (vii) Silenced on calls/meets"
   ]
  },
  {
   "cell_type": "code",
   "execution_count": 67,
   "metadata": {},
   "outputs": [
    {
     "data": {
      "text/html": [
       "<div>\n",
       "<style scoped>\n",
       "    .dataframe tbody tr th:only-of-type {\n",
       "        vertical-align: middle;\n",
       "    }\n",
       "\n",
       "    .dataframe tbody tr th {\n",
       "        vertical-align: top;\n",
       "    }\n",
       "\n",
       "    .dataframe thead th {\n",
       "        text-align: right;\n",
       "    }\n",
       "</style>\n",
       "<table border=\"1\" class=\"dataframe\">\n",
       "  <thead>\n",
       "    <tr style=\"text-align: right;\">\n",
       "      <th>silenced</th>\n",
       "      <th>Never</th>\n",
       "      <th>Often</th>\n",
       "      <th>Rarely</th>\n",
       "      <th>Very often</th>\n",
       "    </tr>\n",
       "    <tr>\n",
       "      <th>sex</th>\n",
       "      <th></th>\n",
       "      <th></th>\n",
       "      <th></th>\n",
       "      <th></th>\n",
       "    </tr>\n",
       "  </thead>\n",
       "  <tbody>\n",
       "    <tr>\n",
       "      <th>Female</th>\n",
       "      <td>25.000000</td>\n",
       "      <td>22.500000</td>\n",
       "      <td>47.500000</td>\n",
       "      <td>5.000000</td>\n",
       "    </tr>\n",
       "    <tr>\n",
       "      <th>Male</th>\n",
       "      <td>31.034483</td>\n",
       "      <td>18.965517</td>\n",
       "      <td>48.275862</td>\n",
       "      <td>1.724138</td>\n",
       "    </tr>\n",
       "  </tbody>\n",
       "</table>\n",
       "</div>"
      ],
      "text/plain": [
       "silenced      Never      Often     Rarely  Very often\n",
       "sex                                                  \n",
       "Female    25.000000  22.500000  47.500000    5.000000\n",
       "Male      31.034483  18.965517  48.275862    1.724138"
      ]
     },
     "metadata": {},
     "output_type": "display_data"
    },
    {
     "data": {
      "text/plain": [
       "<AxesSubplot:title={'center':'Fig 13: Stacked Barplot of Silenced on calls/meetings against gender'}, xlabel='sex', ylabel='Silenced on calls/meetings'>"
      ]
     },
     "execution_count": 67,
     "metadata": {},
     "output_type": "execute_result"
    },
    {
     "data": {
      "image/png": "[encoded data removed]",
      "text/plain": [
       "<Figure size 576x576 with 1 Axes>"
      ]
     },
     "metadata": {
      "needs_background": "light"
     },
     "output_type": "display_data"
    }
   ],
   "source": [
    "ct8=pd.crosstab(df1['sex'],df1['silenced'], normalize= 'index')*100\n",
    "display(ct8)\n",
    "ct8.plot.bar(figsize=(8,8),xlabel='sex',ylabel='Silenced on calls/meetings',title='Fig 13: Stacked Barplot of Silenced on calls/meetings against gender',stacked=True)"
   ]
  },
  {
   "cell_type": "markdown",
   "metadata": {},
   "source": [
    "## (viii) Avoid contacting superiors/colleagues"
   ]
  },
  {
   "cell_type": "code",
   "execution_count": 68,
   "metadata": {},
   "outputs": [
    {
     "data": {
      "text/html": [
       "<div>\n",
       "<style scoped>\n",
       "    .dataframe tbody tr th:only-of-type {\n",
       "        vertical-align: middle;\n",
       "    }\n",
       "\n",
       "    .dataframe tbody tr th {\n",
       "        vertical-align: top;\n",
       "    }\n",
       "\n",
       "    .dataframe thead th {\n",
       "        text-align: right;\n",
       "    }\n",
       "</style>\n",
       "<table border=\"1\" class=\"dataframe\">\n",
       "  <thead>\n",
       "    <tr style=\"text-align: right;\">\n",
       "      <th>avoid contact</th>\n",
       "      <th>Never</th>\n",
       "      <th>Often</th>\n",
       "      <th>Rarely</th>\n",
       "      <th>Very often</th>\n",
       "    </tr>\n",
       "    <tr>\n",
       "      <th>sex</th>\n",
       "      <th></th>\n",
       "      <th></th>\n",
       "      <th></th>\n",
       "      <th></th>\n",
       "    </tr>\n",
       "  </thead>\n",
       "  <tbody>\n",
       "    <tr>\n",
       "      <th>Female</th>\n",
       "      <td>32.5</td>\n",
       "      <td>22.50000</td>\n",
       "      <td>32.50000</td>\n",
       "      <td>12.5</td>\n",
       "    </tr>\n",
       "    <tr>\n",
       "      <th>Male</th>\n",
       "      <td>50.0</td>\n",
       "      <td>8.62069</td>\n",
       "      <td>41.37931</td>\n",
       "      <td>0.0</td>\n",
       "    </tr>\n",
       "  </tbody>\n",
       "</table>\n",
       "</div>"
      ],
      "text/plain": [
       "avoid contact  Never     Often    Rarely  Very often\n",
       "sex                                                 \n",
       "Female          32.5  22.50000  32.50000        12.5\n",
       "Male            50.0   8.62069  41.37931         0.0"
      ]
     },
     "metadata": {},
     "output_type": "display_data"
    },
    {
     "data": {
      "text/plain": [
       "<AxesSubplot:title={'center':'Fig 14: Stacked Barplot of Avoiding contact against gender'}, xlabel='sex', ylabel='Did you avoid contact?'>"
      ]
     },
     "execution_count": 68,
     "metadata": {},
     "output_type": "execute_result"
    },
    {
     "data": {
      "image/png": "[encoded data removed]",
      "text/plain": [
       "<Figure size 576x576 with 1 Axes>"
      ]
     },
     "metadata": {
      "needs_background": "light"
     },
     "output_type": "display_data"
    }
   ],
   "source": [
    "ct9=pd.crosstab(df1['sex'],df1['avoid contact'], normalize= 'index')*100\n",
    "display(ct9)\n",
    "ct9.plot.bar(figsize=(8,8),xlabel='sex',ylabel='Did you avoid contact?',title='Fig 14: Stacked Barplot of Avoiding contact against gender',stacked=True)"
   ]
  },
  {
   "cell_type": "markdown",
   "metadata": {},
   "source": [
    "## (ix) Sexual Harassment"
   ]
  },
  {
   "cell_type": "code",
   "execution_count": 69,
   "metadata": {},
   "outputs": [
    {
     "data": {
      "text/html": [
       "<div>\n",
       "<style scoped>\n",
       "    .dataframe tbody tr th:only-of-type {\n",
       "        vertical-align: middle;\n",
       "    }\n",
       "\n",
       "    .dataframe tbody tr th {\n",
       "        vertical-align: top;\n",
       "    }\n",
       "\n",
       "    .dataframe thead th {\n",
       "        text-align: right;\n",
       "    }\n",
       "</style>\n",
       "<table border=\"1\" class=\"dataframe\">\n",
       "  <thead>\n",
       "    <tr style=\"text-align: right;\">\n",
       "      <th>sexual harassment</th>\n",
       "      <th>No</th>\n",
       "      <th>Yes</th>\n",
       "    </tr>\n",
       "    <tr>\n",
       "      <th>sex</th>\n",
       "      <th></th>\n",
       "      <th></th>\n",
       "    </tr>\n",
       "  </thead>\n",
       "  <tbody>\n",
       "    <tr>\n",
       "      <th>Female</th>\n",
       "      <td>85.0</td>\n",
       "      <td>15.0</td>\n",
       "    </tr>\n",
       "    <tr>\n",
       "      <th>Male</th>\n",
       "      <td>100.0</td>\n",
       "      <td>0.0</td>\n",
       "    </tr>\n",
       "  </tbody>\n",
       "</table>\n",
       "</div>"
      ],
      "text/plain": [
       "sexual harassment     No   Yes\n",
       "sex                           \n",
       "Female              85.0  15.0\n",
       "Male               100.0   0.0"
      ]
     },
     "metadata": {},
     "output_type": "display_data"
    },
    {
     "data": {
      "text/plain": [
       "<AxesSubplot:title={'center':'Fig 15: Stacked Barplot of sexual harassment against gender'}, xlabel='sex', ylabel='Sexual Harassment'>"
      ]
     },
     "execution_count": 69,
     "metadata": {},
     "output_type": "execute_result"
    },
    {
     "data": {
      "image/png": "[encoded data removed]",
      "text/plain": [
       "<Figure size 540x540 with 1 Axes>"
      ]
     },
     "metadata": {
      "needs_background": "light"
     },
     "output_type": "display_data"
    }
   ],
   "source": [
    "ct10=pd.crosstab(df1['sex'],df1['sexual harassment'], normalize= 'index')*100\n",
    "display(ct10)\n",
    "ct10.plot.bar(figsize=(7.5,7.5),xlabel='sex',ylabel='Sexual Harassment',title='Fig 15: Stacked Barplot of sexual harassment against gender',stacked=True)"
   ]
  },
  {
   "cell_type": "markdown",
   "metadata": {},
   "source": [
    "## (x) Better Policies"
   ]
  },
  {
   "cell_type": "code",
   "execution_count": 70,
   "metadata": {},
   "outputs": [
    {
     "data": {
      "text/html": [
       "<div>\n",
       "<style scoped>\n",
       "    .dataframe tbody tr th:only-of-type {\n",
       "        vertical-align: middle;\n",
       "    }\n",
       "\n",
       "    .dataframe tbody tr th {\n",
       "        vertical-align: top;\n",
       "    }\n",
       "\n",
       "    .dataframe thead th {\n",
       "        text-align: right;\n",
       "    }\n",
       "</style>\n",
       "<table border=\"1\" class=\"dataframe\">\n",
       "  <thead>\n",
       "    <tr style=\"text-align: right;\">\n",
       "      <th>better policies</th>\n",
       "      <th>No</th>\n",
       "      <th>Yes</th>\n",
       "    </tr>\n",
       "    <tr>\n",
       "      <th>sex</th>\n",
       "      <th></th>\n",
       "      <th></th>\n",
       "    </tr>\n",
       "  </thead>\n",
       "  <tbody>\n",
       "    <tr>\n",
       "      <th>Female</th>\n",
       "      <td>22.50000</td>\n",
       "      <td>77.50000</td>\n",
       "    </tr>\n",
       "    <tr>\n",
       "      <th>Male</th>\n",
       "      <td>41.37931</td>\n",
       "      <td>58.62069</td>\n",
       "    </tr>\n",
       "  </tbody>\n",
       "</table>\n",
       "</div>"
      ],
      "text/plain": [
       "better policies        No       Yes\n",
       "sex                                \n",
       "Female           22.50000  77.50000\n",
       "Male             41.37931  58.62069"
      ]
     },
     "metadata": {},
     "output_type": "display_data"
    },
    {
     "data": {
      "text/plain": [
       "<AxesSubplot:title={'center':'Fig 16: Stacked Barplot of better policies on calls/meetings against gender'}, xlabel='sex', ylabel='Need for Better Policies'>"
      ]
     },
     "execution_count": 70,
     "metadata": {},
     "output_type": "execute_result"
    },
    {
     "data": {
      "image/png": "[encoded data removed]",
      "text/plain": [
       "<Figure size 432x432 with 1 Axes>"
      ]
     },
     "metadata": {
      "needs_background": "light"
     },
     "output_type": "display_data"
    }
   ],
   "source": [
    "ct11=pd.crosstab(df1['sex'],df1['better policies'], normalize= 'index')*100\n",
    "display(ct11)\n",
    "ct11.plot.bar(figsize=(6,6),xlabel='sex',ylabel='Need for Better Policies',title='Fig 16: Stacked Barplot of better policies on calls/meetings against gender',stacked=True)"
   ]
  },
  {
   "cell_type": "markdown",
   "metadata": {},
   "source": [
    "## (xi) Biased Impact"
   ]
  },
  {
   "cell_type": "code",
   "execution_count": 71,
   "metadata": {},
   "outputs": [
    {
     "data": {
      "text/html": [
       "<div>\n",
       "<style scoped>\n",
       "    .dataframe tbody tr th:only-of-type {\n",
       "        vertical-align: middle;\n",
       "    }\n",
       "\n",
       "    .dataframe tbody tr th {\n",
       "        vertical-align: top;\n",
       "    }\n",
       "\n",
       "    .dataframe thead th {\n",
       "        text-align: right;\n",
       "    }\n",
       "</style>\n",
       "<table border=\"1\" class=\"dataframe\">\n",
       "  <thead>\n",
       "    <tr style=\"text-align: right;\">\n",
       "      <th>biased impact</th>\n",
       "      <th>Maybe</th>\n",
       "      <th>No</th>\n",
       "      <th>Yes</th>\n",
       "    </tr>\n",
       "    <tr>\n",
       "      <th>sex</th>\n",
       "      <th></th>\n",
       "      <th></th>\n",
       "      <th></th>\n",
       "    </tr>\n",
       "  </thead>\n",
       "  <tbody>\n",
       "    <tr>\n",
       "      <th>Female</th>\n",
       "      <td>42.500000</td>\n",
       "      <td>17.50000</td>\n",
       "      <td>40.000000</td>\n",
       "    </tr>\n",
       "    <tr>\n",
       "      <th>Male</th>\n",
       "      <td>25.862069</td>\n",
       "      <td>58.62069</td>\n",
       "      <td>15.517241</td>\n",
       "    </tr>\n",
       "  </tbody>\n",
       "</table>\n",
       "</div>"
      ],
      "text/plain": [
       "biased impact      Maybe        No        Yes\n",
       "sex                                          \n",
       "Female         42.500000  17.50000  40.000000\n",
       "Male           25.862069  58.62069  15.517241"
      ]
     },
     "metadata": {},
     "output_type": "display_data"
    },
    {
     "data": {
      "text/plain": [
       "<AxesSubplot:title={'center':'Fig 17: Stacked Barplot of Biased Impact of the Pandemic against gender'}, xlabel='sex', ylabel='Biased Impact'>"
      ]
     },
     "execution_count": 71,
     "metadata": {},
     "output_type": "execute_result"
    },
    {
     "data": {
      "image/png": "[encoded data removed]",
      "text/plain": [
       "<Figure size 432x432 with 1 Axes>"
      ]
     },
     "metadata": {
      "needs_background": "light"
     },
     "output_type": "display_data"
    }
   ],
   "source": [
    "ct12=pd.crosstab(df1['sex'],df1['biased impact'], normalize= 'index')*100\n",
    "display(ct12)\n",
    "ct12.plot.bar(figsize=(6,6),xlabel='sex',ylabel='Biased Impact',title='Fig 17: Stacked Barplot of Biased Impact of the Pandemic against gender',stacked=True)"
   ]
  },
  {
   "cell_type": "markdown",
   "metadata": {},
   "source": [
    "## HYPOTHETICAL TESTING (Since we are working with categorical data, we will be going for Chi- Square Test in all the cases)\n",
    "\n",
    "  - step 1 : Formulating hypothesis\n",
    "  - H0: Salary Incentives and employee gender are independent\n",
    "  - HA: Salary Incentives and employee gender are dependent\n",
    "  - step 2 : Choosing the test\n",
    "  - Chi-Square\n",
    "  - step 3 : Choosing significance level\n",
    "  - 0.05\n",
    "  - step 4 : Applying test and finding p-value\n",
    "  - step 5 : compare p-value and the significance level"
   ]
  },
  {
   "cell_type": "code",
   "execution_count": 72,
   "metadata": {},
   "outputs": [],
   "source": [
    "import scipy.stats as sp"
   ]
  },
  {
   "cell_type": "markdown",
   "metadata": {},
   "source": [
    " ## (i) Preferred Mode\n",
    "     \n",
    "  - Formulating hypothesis\n",
    "  - H0: Preferred Mode and employee gender are independent\n",
    "  - HA: Preferred Mode Incentives and employee gender are dependent\n",
    "  - conclusion : As p-value(0.58) is greater than 0.05 we accept the null hypothesis"
   ]
  },
  {
   "cell_type": "code",
   "execution_count": 73,
   "metadata": {},
   "outputs": [
    {
     "data": {
      "text/plain": [
       "(0.13941415229885043,\n",
       " 0.7088641200900174,\n",
       " 1,\n",
       " array([[20.40816327, 29.59183673],\n",
       "        [19.59183673, 28.40816327]]))"
      ]
     },
     "execution_count": 73,
     "metadata": {},
     "output_type": "execute_result"
    }
   ],
   "source": [
    "t1=pd.crosstab(df1['preferred mode'],df1['sex'])\n",
    "sp.chi2_contingency(t1)"
   ]
  },
  {
   "cell_type": "markdown",
   "metadata": {},
   "source": [
    "## (ii) Salary Incentives\n",
    "\n",
    "  - step 1 : Formulating hypothesis\n",
    "  - H0: Salary Incentives and employee gender are independent\n",
    "  - HA: Salary Incentives and employee gender are dependent\n",
    "  - conclusion : As p-value(0.144) is greater than 0.05 we accept the null hypothesis"
   ]
  },
  {
   "cell_type": "code",
   "execution_count": 74,
   "metadata": {},
   "outputs": [
    {
     "data": {
      "text/plain": [
       "(6.80039733822713,\n",
       " 0.14681984659697858,\n",
       " 4,\n",
       " array([[ 6.53061224,  9.46938776],\n",
       "        [10.6122449 , 15.3877551 ],\n",
       "        [17.55102041, 25.44897959],\n",
       "        [ 2.04081633,  2.95918367],\n",
       "        [ 3.26530612,  4.73469388]]))"
      ]
     },
     "execution_count": 74,
     "metadata": {},
     "output_type": "execute_result"
    }
   ],
   "source": [
    "t2=pd.crosstab(df1['salary incentives'],df1['sex'])\n",
    "sp.chi2_contingency(t2)"
   ]
  },
  {
   "cell_type": "markdown",
   "metadata": {},
   "source": [
    "## (iii) Domestic Life\n",
    "\n",
    "  - H0: Domestic Life and employee gender are independent\n",
    "  - HA: Domestic life and employee gender are dependent\n",
    "  - conclusion : As p-value(0.08) is greater than 0.05 we accept the null hypothesis"
   ]
  },
  {
   "cell_type": "code",
   "execution_count": 75,
   "metadata": {},
   "outputs": [
    {
     "data": {
      "text/plain": [
       "(8.956977600943118,\n",
       " 0.06218387831689762,\n",
       " 4,\n",
       " array([[11.42857143, 16.57142857],\n",
       "        [ 3.67346939,  5.32653061],\n",
       "        [21.2244898 , 30.7755102 ],\n",
       "        [ 1.2244898 ,  1.7755102 ],\n",
       "        [ 2.44897959,  3.55102041]]))"
      ]
     },
     "execution_count": 75,
     "metadata": {},
     "output_type": "execute_result"
    }
   ],
   "source": [
    "t3=pd.crosstab(df1['domestic life'],df1['sex'])\n",
    "sp.chi2_contingency(t3)"
   ]
  },
  {
   "cell_type": "markdown",
   "metadata": {},
   "source": [
    "## (iv) Personal Life\n",
    "  - H0: Personal Life and employee gender are independent\n",
    "  - HA: Personal Life and employee gender are dependent\n",
    "  - conclusion : As p-value(0.54) is greater than 0.05 we accept the null hypothesis"
   ]
  },
  {
   "cell_type": "code",
   "execution_count": 76,
   "metadata": {},
   "outputs": [
    {
     "data": {
      "text/plain": [
       "(3.906512066365007,\n",
       " 0.4188058919475136,\n",
       " 4,\n",
       " array([[ 8.16326531, 11.83673469],\n",
       "        [ 6.93877551, 10.06122449],\n",
       "        [18.36734694, 26.63265306],\n",
       "        [ 1.2244898 ,  1.7755102 ],\n",
       "        [ 5.30612245,  7.69387755]]))"
      ]
     },
     "execution_count": 76,
     "metadata": {},
     "output_type": "execute_result"
    }
   ],
   "source": [
    "t4=pd.crosstab(df1['personal life'],df1['sex'])\n",
    "sp.chi2_contingency(t4)"
   ]
  },
  {
   "cell_type": "markdown",
   "metadata": {},
   "source": [
    "## (v) Layoff Fear\n",
    "  - H0: Layoff Fear and employee gender are independent\n",
    "  - HA: Layoff Fear and employee gender are dependent\n",
    "  - conclusion : As p-value(0.6) is greater than 0.05 we accept the null hypothesis"
   ]
  },
  {
   "cell_type": "code",
   "execution_count": 77,
   "metadata": {},
   "outputs": [
    {
     "data": {
      "text/plain": [
       "(0.9639136356296908,\n",
       " 0.6175737293720215,\n",
       " 2,\n",
       " array([[ 7.37349398, 10.62650602],\n",
       "        [11.06024096, 15.93975904],\n",
       "        [15.56626506, 22.43373494]]))"
      ]
     },
     "execution_count": 77,
     "metadata": {},
     "output_type": "execute_result"
    }
   ],
   "source": [
    "t5=pd.crosstab(df3['layoff fear'],df3['sex'])\n",
    "sp.chi2_contingency(t5)"
   ]
  },
  {
   "cell_type": "markdown",
   "metadata": {},
   "source": [
    "## (vi) Stretched Hours\n",
    "  - H0: Stretched hours and employee gender are independent\n",
    "  - HA: Stretched Hours and employee gender are dependent\n",
    "  - conclusion : As p-value(0.8) is greater than 0.05 we accept the null hypothesis"
   ]
  },
  {
   "cell_type": "code",
   "execution_count": 78,
   "metadata": {},
   "outputs": [
    {
     "data": {
      "text/plain": [
       "(0.9698719499899178,\n",
       " 0.8085415031338311,\n",
       " 3,\n",
       " array([[ 7.34693878, 10.65306122],\n",
       "        [11.02040816, 15.97959184],\n",
       "        [ 6.12244898,  8.87755102],\n",
       "        [15.51020408, 22.48979592]]))"
      ]
     },
     "execution_count": 78,
     "metadata": {},
     "output_type": "execute_result"
    }
   ],
   "source": [
    "t6=pd.crosstab(df1['layoff fear'],df1['sex'])\n",
    "sp.chi2_contingency(t6)"
   ]
  },
  {
   "cell_type": "markdown",
   "metadata": {},
   "source": [
    "## (vii) Domestic Obligation\n",
    "  - H0: Domestic Obligation and employee gender are independent\n",
    "  - HA: Domestic Obligation and employee gender are dependent\n",
    "  - conclusion : As p-value(0.33) is greater than 0.05 we accept the null hypothesis"
   ]
  },
  {
   "cell_type": "code",
   "execution_count": 79,
   "metadata": {},
   "outputs": [
    {
     "data": {
      "text/plain": [
       "(4.882064745428643,\n",
       " 0.1806394574309112,\n",
       " 3,\n",
       " array([[ 8.57142857, 12.42857143],\n",
       "        [12.65306122, 18.34693878],\n",
       "        [15.51020408, 22.48979592],\n",
       "        [ 3.26530612,  4.73469388]]))"
      ]
     },
     "execution_count": 79,
     "metadata": {},
     "output_type": "execute_result"
    }
   ],
   "source": [
    "t7=pd.crosstab(df1['domestic obligation'],df1['sex'])\n",
    "sp.chi2_contingency(t7)"
   ]
  },
  {
   "cell_type": "markdown",
   "metadata": {},
   "source": [
    "## (viii) Background Noises\n",
    "  - H0: Backgrond Noises and employee gender are independent\n",
    "  - HA: Backgrond Noises and employee gender are dependent\n",
    "  - conclusion : As p-value(0.05) is less than 0.05 we accept the Alternate hypothesis"
   ]
  },
  {
   "cell_type": "code",
   "execution_count": 80,
   "metadata": {},
   "outputs": [
    {
     "data": {
      "text/plain": [
       "(4.772417430766575,\n",
       " 0.028919191173225823,\n",
       " 1,\n",
       " array([[12.25581395, 18.74418605],\n",
       "        [21.74418605, 33.25581395]]))"
      ]
     },
     "execution_count": 80,
     "metadata": {},
     "output_type": "execute_result"
    }
   ],
   "source": [
    "t8=pd.crosstab(df2['background noises'],df2['sex'])\n",
    "sp.chi2_contingency(t8)"
   ]
  },
  {
   "cell_type": "markdown",
   "metadata": {},
   "source": [
    "#### Further Analysing the replies by respective genders"
   ]
  },
  {
   "cell_type": "code",
   "execution_count": 81,
   "metadata": {},
   "outputs": [
    {
     "data": {
      "text/html": [
       "<div>\n",
       "<style scoped>\n",
       "    .dataframe tbody tr th:only-of-type {\n",
       "        vertical-align: middle;\n",
       "    }\n",
       "\n",
       "    .dataframe tbody tr th {\n",
       "        vertical-align: top;\n",
       "    }\n",
       "\n",
       "    .dataframe thead th {\n",
       "        text-align: right;\n",
       "    }\n",
       "</style>\n",
       "<table border=\"1\" class=\"dataframe\">\n",
       "  <thead>\n",
       "    <tr style=\"text-align: right;\">\n",
       "      <th>sex</th>\n",
       "      <th>Female</th>\n",
       "      <th>Male</th>\n",
       "    </tr>\n",
       "    <tr>\n",
       "      <th>background noises</th>\n",
       "      <th></th>\n",
       "      <th></th>\n",
       "    </tr>\n",
       "  </thead>\n",
       "  <tbody>\n",
       "    <tr>\n",
       "      <th>No</th>\n",
       "      <td>20.588235</td>\n",
       "      <td>46.153846</td>\n",
       "    </tr>\n",
       "    <tr>\n",
       "      <th>Yes</th>\n",
       "      <td>79.411765</td>\n",
       "      <td>53.846154</td>\n",
       "    </tr>\n",
       "  </tbody>\n",
       "</table>\n",
       "</div>"
      ],
      "text/plain": [
       "sex                   Female       Male\n",
       "background noises                      \n",
       "No                 20.588235  46.153846\n",
       "Yes                79.411765  53.846154"
      ]
     },
     "metadata": {},
     "output_type": "display_data"
    },
    {
     "name": "stdout",
     "output_type": "stream",
     "text": [
      "\n",
      "\n",
      "\u001b[1m Of the people who faced background noises, all those who felt that the pandemic has a biased impact on some particular gender: \n"
     ]
    },
    {
     "data": {
      "text/html": [
       "<div>\n",
       "<style scoped>\n",
       "    .dataframe tbody tr th:only-of-type {\n",
       "        vertical-align: middle;\n",
       "    }\n",
       "\n",
       "    .dataframe tbody tr th {\n",
       "        vertical-align: top;\n",
       "    }\n",
       "\n",
       "    .dataframe thead th {\n",
       "        text-align: right;\n",
       "    }\n",
       "</style>\n",
       "<table border=\"1\" class=\"dataframe\">\n",
       "  <thead>\n",
       "    <tr style=\"text-align: right;\">\n",
       "      <th>sex</th>\n",
       "      <th>Female</th>\n",
       "      <th>Male</th>\n",
       "    </tr>\n",
       "    <tr>\n",
       "      <th>biased impact</th>\n",
       "      <th></th>\n",
       "      <th></th>\n",
       "    </tr>\n",
       "  </thead>\n",
       "  <tbody>\n",
       "    <tr>\n",
       "      <th>Maybe</th>\n",
       "      <td>40.740741</td>\n",
       "      <td>25.000000</td>\n",
       "    </tr>\n",
       "    <tr>\n",
       "      <th>No</th>\n",
       "      <td>18.518519</td>\n",
       "      <td>60.714286</td>\n",
       "    </tr>\n",
       "    <tr>\n",
       "      <th>Yes</th>\n",
       "      <td>40.740741</td>\n",
       "      <td>14.285714</td>\n",
       "    </tr>\n",
       "  </tbody>\n",
       "</table>\n",
       "</div>"
      ],
      "text/plain": [
       "sex               Female       Male\n",
       "biased impact                      \n",
       "Maybe          40.740741  25.000000\n",
       "No             18.518519  60.714286\n",
       "Yes            40.740741  14.285714"
      ]
     },
     "metadata": {},
     "output_type": "display_data"
    },
    {
     "name": "stdout",
     "output_type": "stream",
     "text": [
      "\n",
      "\n",
      "\u001b[1m Of the people who faced background noises, all those who felt that the HR Department could have devised better polices\n"
     ]
    },
    {
     "data": {
      "text/html": [
       "<div>\n",
       "<style scoped>\n",
       "    .dataframe tbody tr th:only-of-type {\n",
       "        vertical-align: middle;\n",
       "    }\n",
       "\n",
       "    .dataframe tbody tr th {\n",
       "        vertical-align: top;\n",
       "    }\n",
       "\n",
       "    .dataframe thead th {\n",
       "        text-align: right;\n",
       "    }\n",
       "</style>\n",
       "<table border=\"1\" class=\"dataframe\">\n",
       "  <thead>\n",
       "    <tr style=\"text-align: right;\">\n",
       "      <th>sex</th>\n",
       "      <th>Female</th>\n",
       "      <th>Male</th>\n",
       "    </tr>\n",
       "    <tr>\n",
       "      <th>better policies</th>\n",
       "      <th></th>\n",
       "      <th></th>\n",
       "    </tr>\n",
       "  </thead>\n",
       "  <tbody>\n",
       "    <tr>\n",
       "      <th>No</th>\n",
       "      <td>22.222222</td>\n",
       "      <td>28.571429</td>\n",
       "    </tr>\n",
       "    <tr>\n",
       "      <th>Yes</th>\n",
       "      <td>77.777778</td>\n",
       "      <td>71.428571</td>\n",
       "    </tr>\n",
       "  </tbody>\n",
       "</table>\n",
       "</div>"
      ],
      "text/plain": [
       "sex                 Female       Male\n",
       "better policies                      \n",
       "No               22.222222  28.571429\n",
       "Yes              77.777778  71.428571"
      ]
     },
     "metadata": {},
     "output_type": "display_data"
    }
   ],
   "source": [
    "display(pd.crosstab(df2['background noises'],df2['sex'],normalize='columns')*100)\n",
    "df6=df1[df1['background noises']=='Yes']\n",
    "print(\"\\n\\n\\033[1m Of the people who faced background noises, all those who felt that the pandemic has a biased impact on some particular gender: \")\n",
    "display(pd.crosstab(df6['biased impact'],df6['sex'],normalize='columns')*100)\n",
    "print(\"\\n\\n\\033[1m Of the people who faced background noises, all those who felt that the HR Department could have devised better polices\")\n",
    "display(pd.crosstab(df6['better policies'],df6['sex'],normalize='columns')*100)\n"
   ]
  },
  {
   "cell_type": "markdown",
   "metadata": {},
   "source": [
    "## (ix) Personal Calls\n",
    "  - H0: Domestic Obligation and employee gender are independent\n",
    "  - HA: Domestic Obligation and employee gender are dependent\n",
    "  - conclusion : As p-value(0.9) is greater than 0.05 we accept the null hypothesis"
   ]
  },
  {
   "cell_type": "code",
   "execution_count": 82,
   "metadata": {},
   "outputs": [
    {
     "data": {
      "text/plain": [
       "(0.5421511237305868,\n",
       " 0.9095380651710604,\n",
       " 3,\n",
       " array([[ 6.53061224,  9.46938776],\n",
       "        [ 9.3877551 , 13.6122449 ],\n",
       "        [21.63265306, 31.36734694],\n",
       "        [ 2.44897959,  3.55102041]]))"
      ]
     },
     "execution_count": 82,
     "metadata": {},
     "output_type": "execute_result"
    }
   ],
   "source": [
    "t9=pd.crosstab(df1['personal calls'],df1['sex'])\n",
    "sp.chi2_contingency(t9)"
   ]
  },
  {
   "cell_type": "markdown",
   "metadata": {},
   "source": [
    "## (x) Silenced\n",
    "  - H0: Silenced and employee gender are independent\n",
    "  - HA: Silenced Obligation and employee gender are dependent\n",
    "  - conclusion : As p-value(0.7) is greater than 0.05 we accept the null hypothesis"
   ]
  },
  {
   "cell_type": "code",
   "execution_count": 83,
   "metadata": {},
   "outputs": [
    {
     "data": {
      "text/plain": [
       "(1.279494375152849,\n",
       " 0.7340080034631538,\n",
       " 3,\n",
       " array([[11.42857143, 16.57142857],\n",
       "        [ 8.16326531, 11.83673469],\n",
       "        [19.18367347, 27.81632653],\n",
       "        [ 1.2244898 ,  1.7755102 ]]))"
      ]
     },
     "execution_count": 83,
     "metadata": {},
     "output_type": "execute_result"
    }
   ],
   "source": [
    "t10=pd.crosstab(df1['silenced'],df1['sex'])\n",
    "sp.chi2_contingency(t10)"
   ]
  },
  {
   "cell_type": "markdown",
   "metadata": {},
   "source": [
    "## (xi) Avoid Contact\n",
    "  - H0: Avoid Contact and employee gender are independent\n",
    "  - HA: Avoid Contact and employee gender are dependent\n",
    "  - conclusion : As p-value(0.01) is less than 0.05 we accept the Alternate hypothesis"
   ]
  },
  {
   "cell_type": "code",
   "execution_count": 84,
   "metadata": {},
   "outputs": [
    {
     "data": {
      "text/plain": [
       "(12.628269648959304,\n",
       " 0.005513509982761274,\n",
       " 3,\n",
       " array([[17.14285714, 24.85714286],\n",
       "        [ 5.71428571,  8.28571429],\n",
       "        [15.10204082, 21.89795918],\n",
       "        [ 2.04081633,  2.95918367]]))"
      ]
     },
     "execution_count": 84,
     "metadata": {},
     "output_type": "execute_result"
    }
   ],
   "source": [
    "t11=pd.crosstab(df1['avoid contact'],df1['sex'])\n",
    "sp.chi2_contingency(t11)"
   ]
  },
  {
   "cell_type": "markdown",
   "metadata": {},
   "source": [
    "#### Further Analysing the replies by respective genders"
   ]
  },
  {
   "cell_type": "code",
   "execution_count": 85,
   "metadata": {},
   "outputs": [
    {
     "data": {
      "text/html": [
       "<div>\n",
       "<style scoped>\n",
       "    .dataframe tbody tr th:only-of-type {\n",
       "        vertical-align: middle;\n",
       "    }\n",
       "\n",
       "    .dataframe tbody tr th {\n",
       "        vertical-align: top;\n",
       "    }\n",
       "\n",
       "    .dataframe thead th {\n",
       "        text-align: right;\n",
       "    }\n",
       "</style>\n",
       "<table border=\"1\" class=\"dataframe\">\n",
       "  <thead>\n",
       "    <tr style=\"text-align: right;\">\n",
       "      <th>sex</th>\n",
       "      <th>Female</th>\n",
       "      <th>Male</th>\n",
       "    </tr>\n",
       "    <tr>\n",
       "      <th>avoid contact</th>\n",
       "      <th></th>\n",
       "      <th></th>\n",
       "    </tr>\n",
       "  </thead>\n",
       "  <tbody>\n",
       "    <tr>\n",
       "      <th>Never</th>\n",
       "      <td>38.235294</td>\n",
       "      <td>48.076923</td>\n",
       "    </tr>\n",
       "    <tr>\n",
       "      <th>Often</th>\n",
       "      <td>14.705882</td>\n",
       "      <td>7.692308</td>\n",
       "    </tr>\n",
       "    <tr>\n",
       "      <th>Rarely</th>\n",
       "      <td>32.352941</td>\n",
       "      <td>44.230769</td>\n",
       "    </tr>\n",
       "    <tr>\n",
       "      <th>Very often</th>\n",
       "      <td>14.705882</td>\n",
       "      <td>0.000000</td>\n",
       "    </tr>\n",
       "  </tbody>\n",
       "</table>\n",
       "</div>"
      ],
      "text/plain": [
       "sex               Female       Male\n",
       "avoid contact                      \n",
       "Never          38.235294  48.076923\n",
       "Often          14.705882   7.692308\n",
       "Rarely         32.352941  44.230769\n",
       "Very often     14.705882   0.000000"
      ]
     },
     "metadata": {},
     "output_type": "display_data"
    },
    {
     "name": "stdout",
     "output_type": "stream",
     "text": [
      "\n",
      "\n",
      "\u001b[1m Of the people who have avoided contact 'Often' and 'Very Often', all those who faced sexual harassment: \n"
     ]
    },
    {
     "data": {
      "text/html": [
       "<div>\n",
       "<style scoped>\n",
       "    .dataframe tbody tr th:only-of-type {\n",
       "        vertical-align: middle;\n",
       "    }\n",
       "\n",
       "    .dataframe tbody tr th {\n",
       "        vertical-align: top;\n",
       "    }\n",
       "\n",
       "    .dataframe thead th {\n",
       "        text-align: right;\n",
       "    }\n",
       "</style>\n",
       "<table border=\"1\" class=\"dataframe\">\n",
       "  <thead>\n",
       "    <tr style=\"text-align: right;\">\n",
       "      <th>sex</th>\n",
       "      <th>Female</th>\n",
       "      <th>Male</th>\n",
       "    </tr>\n",
       "    <tr>\n",
       "      <th>sexual harassment</th>\n",
       "      <th></th>\n",
       "      <th></th>\n",
       "    </tr>\n",
       "  </thead>\n",
       "  <tbody>\n",
       "    <tr>\n",
       "      <th>No</th>\n",
       "      <td>64.285714</td>\n",
       "      <td>100.0</td>\n",
       "    </tr>\n",
       "    <tr>\n",
       "      <th>Yes</th>\n",
       "      <td>35.714286</td>\n",
       "      <td>0.0</td>\n",
       "    </tr>\n",
       "  </tbody>\n",
       "</table>\n",
       "</div>"
      ],
      "text/plain": [
       "sex                   Female   Male\n",
       "sexual harassment                  \n",
       "No                 64.285714  100.0\n",
       "Yes                35.714286    0.0"
      ]
     },
     "metadata": {},
     "output_type": "display_data"
    },
    {
     "name": "stdout",
     "output_type": "stream",
     "text": [
      "\n",
      "\n",
      "\u001b[1m Of the people who have avoided contact 'Often' and 'Very Often', all those who felt that the pandemic has a biased impact on some particular gender: \n"
     ]
    },
    {
     "data": {
      "text/html": [
       "<div>\n",
       "<style scoped>\n",
       "    .dataframe tbody tr th:only-of-type {\n",
       "        vertical-align: middle;\n",
       "    }\n",
       "\n",
       "    .dataframe tbody tr th {\n",
       "        vertical-align: top;\n",
       "    }\n",
       "\n",
       "    .dataframe thead th {\n",
       "        text-align: right;\n",
       "    }\n",
       "</style>\n",
       "<table border=\"1\" class=\"dataframe\">\n",
       "  <thead>\n",
       "    <tr style=\"text-align: right;\">\n",
       "      <th>sex</th>\n",
       "      <th>Female</th>\n",
       "      <th>Male</th>\n",
       "    </tr>\n",
       "    <tr>\n",
       "      <th>biased impact</th>\n",
       "      <th></th>\n",
       "      <th></th>\n",
       "    </tr>\n",
       "  </thead>\n",
       "  <tbody>\n",
       "    <tr>\n",
       "      <th>Maybe</th>\n",
       "      <td>28.571429</td>\n",
       "      <td>20.0</td>\n",
       "    </tr>\n",
       "    <tr>\n",
       "      <th>No</th>\n",
       "      <td>7.142857</td>\n",
       "      <td>40.0</td>\n",
       "    </tr>\n",
       "    <tr>\n",
       "      <th>Yes</th>\n",
       "      <td>64.285714</td>\n",
       "      <td>40.0</td>\n",
       "    </tr>\n",
       "  </tbody>\n",
       "</table>\n",
       "</div>"
      ],
      "text/plain": [
       "sex               Female  Male\n",
       "biased impact                 \n",
       "Maybe          28.571429  20.0\n",
       "No              7.142857  40.0\n",
       "Yes            64.285714  40.0"
      ]
     },
     "metadata": {},
     "output_type": "display_data"
    },
    {
     "name": "stdout",
     "output_type": "stream",
     "text": [
      "\n",
      "\n",
      "\u001b[1m Of the people who have avoided contact  'Often' and 'Very Often', all those who felt that the HR Department could have devised better polices\n"
     ]
    },
    {
     "data": {
      "text/html": [
       "<div>\n",
       "<style scoped>\n",
       "    .dataframe tbody tr th:only-of-type {\n",
       "        vertical-align: middle;\n",
       "    }\n",
       "\n",
       "    .dataframe tbody tr th {\n",
       "        vertical-align: top;\n",
       "    }\n",
       "\n",
       "    .dataframe thead th {\n",
       "        text-align: right;\n",
       "    }\n",
       "</style>\n",
       "<table border=\"1\" class=\"dataframe\">\n",
       "  <thead>\n",
       "    <tr style=\"text-align: right;\">\n",
       "      <th>sex</th>\n",
       "      <th>Female</th>\n",
       "      <th>Male</th>\n",
       "    </tr>\n",
       "    <tr>\n",
       "      <th>hr policies</th>\n",
       "      <th></th>\n",
       "      <th></th>\n",
       "    </tr>\n",
       "  </thead>\n",
       "  <tbody>\n",
       "    <tr>\n",
       "      <th>No</th>\n",
       "      <td>35.714286</td>\n",
       "      <td>60.0</td>\n",
       "    </tr>\n",
       "    <tr>\n",
       "      <th>Partly</th>\n",
       "      <td>50.000000</td>\n",
       "      <td>40.0</td>\n",
       "    </tr>\n",
       "    <tr>\n",
       "      <th>Yes</th>\n",
       "      <td>14.285714</td>\n",
       "      <td>0.0</td>\n",
       "    </tr>\n",
       "  </tbody>\n",
       "</table>\n",
       "</div>"
      ],
      "text/plain": [
       "sex             Female  Male\n",
       "hr policies                 \n",
       "No           35.714286  60.0\n",
       "Partly       50.000000  40.0\n",
       "Yes          14.285714   0.0"
      ]
     },
     "metadata": {},
     "output_type": "display_data"
    }
   ],
   "source": [
    "display(pd.crosstab(df2['avoid contact'],df2['sex'],normalize='columns')*100)\n",
    "df7=df1[(df1['avoid contact']=='Often') | (df1['avoid contact']=='Very often')]\n",
    "print(\"\\n\\n\\033[1m Of the people who have avoided contact 'Often' and 'Very Often', all those who faced sexual harassment: \")\n",
    "display(pd.crosstab(df7['sexual harassment'],df7['sex'],normalize='columns')*100)\n",
    "print(\"\\n\\n\\033[1m Of the people who have avoided contact 'Often' and 'Very Often', all those who felt that the pandemic has a biased impact on some particular gender: \")\n",
    "display(pd.crosstab(df7['biased impact'],df7['sex'],normalize='columns')*100)\n",
    "print(\"\\n\\n\\033[1m Of the people who have avoided contact  'Often' and 'Very Often', all those who felt that the HR Department could have devised better polices\")\n",
    "display(pd.crosstab(df7['hr policies'],df7['sex'],normalize='columns')*100)\n",
    "\n"
   ]
  },
  {
   "cell_type": "markdown",
   "metadata": {},
   "source": [
    "##  (xii) Sexual Harassment\n",
    "  - H0: Sexual Harassment and employee gender are independent\n",
    "  - HA: Sexual Harassment and employee gender are dependent\n",
    "  - conclusion : As p-value(0.013) is less than 0.05 we accept the Alternate hypothesis"
   ]
  },
  {
   "cell_type": "code",
   "execution_count": 86,
   "metadata": {},
   "outputs": [
    {
     "data": {
      "text/plain": [
       "(12.628269648959304,\n",
       " 0.005513509982761274,\n",
       " 3,\n",
       " array([[17.14285714, 24.85714286],\n",
       "        [ 5.71428571,  8.28571429],\n",
       "        [15.10204082, 21.89795918],\n",
       "        [ 2.04081633,  2.95918367]]))"
      ]
     },
     "execution_count": 86,
     "metadata": {},
     "output_type": "execute_result"
    }
   ],
   "source": [
    "t12=pd.crosstab(df1['avoid contact'],df1['sex'])\n",
    "sp.chi2_contingency(t12)"
   ]
  },
  {
   "cell_type": "markdown",
   "metadata": {},
   "source": [
    "#### Further Analysing the replies by respective genders"
   ]
  },
  {
   "cell_type": "code",
   "execution_count": 87,
   "metadata": {},
   "outputs": [
    {
     "data": {
      "text/html": [
       "<div>\n",
       "<style scoped>\n",
       "    .dataframe tbody tr th:only-of-type {\n",
       "        vertical-align: middle;\n",
       "    }\n",
       "\n",
       "    .dataframe tbody tr th {\n",
       "        vertical-align: top;\n",
       "    }\n",
       "\n",
       "    .dataframe thead th {\n",
       "        text-align: right;\n",
       "    }\n",
       "</style>\n",
       "<table border=\"1\" class=\"dataframe\">\n",
       "  <thead>\n",
       "    <tr style=\"text-align: right;\">\n",
       "      <th>sex</th>\n",
       "      <th>Female</th>\n",
       "      <th>Male</th>\n",
       "    </tr>\n",
       "    <tr>\n",
       "      <th>sexual harassment</th>\n",
       "      <th></th>\n",
       "      <th></th>\n",
       "    </tr>\n",
       "  </thead>\n",
       "  <tbody>\n",
       "    <tr>\n",
       "      <th>No</th>\n",
       "      <td>85.0</td>\n",
       "      <td>100.0</td>\n",
       "    </tr>\n",
       "    <tr>\n",
       "      <th>Yes</th>\n",
       "      <td>15.0</td>\n",
       "      <td>0.0</td>\n",
       "    </tr>\n",
       "  </tbody>\n",
       "</table>\n",
       "</div>"
      ],
      "text/plain": [
       "sex                Female   Male\n",
       "sexual harassment               \n",
       "No                   85.0  100.0\n",
       "Yes                  15.0    0.0"
      ]
     },
     "metadata": {},
     "output_type": "display_data"
    },
    {
     "name": "stdout",
     "output_type": "stream",
     "text": [
      "\n",
      "\n",
      "\u001b[1m Of the people who faced sexual harassment, all those who felt that the pandemic has a biased impact on some particular gender: \n"
     ]
    },
    {
     "data": {
      "text/html": [
       "<div>\n",
       "<style scoped>\n",
       "    .dataframe tbody tr th:only-of-type {\n",
       "        vertical-align: middle;\n",
       "    }\n",
       "\n",
       "    .dataframe tbody tr th {\n",
       "        vertical-align: top;\n",
       "    }\n",
       "\n",
       "    .dataframe thead th {\n",
       "        text-align: right;\n",
       "    }\n",
       "</style>\n",
       "<table border=\"1\" class=\"dataframe\">\n",
       "  <thead>\n",
       "    <tr style=\"text-align: right;\">\n",
       "      <th>sex</th>\n",
       "      <th>Female</th>\n",
       "    </tr>\n",
       "    <tr>\n",
       "      <th>biased impact</th>\n",
       "      <th></th>\n",
       "    </tr>\n",
       "  </thead>\n",
       "  <tbody>\n",
       "    <tr>\n",
       "      <th>Yes</th>\n",
       "      <td>100.0</td>\n",
       "    </tr>\n",
       "  </tbody>\n",
       "</table>\n",
       "</div>"
      ],
      "text/plain": [
       "sex            Female\n",
       "biased impact        \n",
       "Yes             100.0"
      ]
     },
     "metadata": {},
     "output_type": "display_data"
    },
    {
     "name": "stdout",
     "output_type": "stream",
     "text": [
      "\n",
      "\n",
      "\u001b[1m Of the people who faced sexual harassment, all those who felt that the HR Department could have devised better polices: \n"
     ]
    },
    {
     "data": {
      "text/html": [
       "<div>\n",
       "<style scoped>\n",
       "    .dataframe tbody tr th:only-of-type {\n",
       "        vertical-align: middle;\n",
       "    }\n",
       "\n",
       "    .dataframe tbody tr th {\n",
       "        vertical-align: top;\n",
       "    }\n",
       "\n",
       "    .dataframe thead th {\n",
       "        text-align: right;\n",
       "    }\n",
       "</style>\n",
       "<table border=\"1\" class=\"dataframe\">\n",
       "  <thead>\n",
       "    <tr style=\"text-align: right;\">\n",
       "      <th>sex</th>\n",
       "      <th>Female</th>\n",
       "    </tr>\n",
       "    <tr>\n",
       "      <th>better policies</th>\n",
       "      <th></th>\n",
       "    </tr>\n",
       "  </thead>\n",
       "  <tbody>\n",
       "    <tr>\n",
       "      <th>Yes</th>\n",
       "      <td>100.0</td>\n",
       "    </tr>\n",
       "  </tbody>\n",
       "</table>\n",
       "</div>"
      ],
      "text/plain": [
       "sex              Female\n",
       "better policies        \n",
       "Yes               100.0"
      ]
     },
     "metadata": {},
     "output_type": "display_data"
    }
   ],
   "source": [
    "display(pd.crosstab(df1['sexual harassment'],df1['sex'],normalize='columns')*100)\n",
    "df5=df1[df1['sexual harassment']=='Yes']\n",
    "print(\"\\n\\n\\033[1m Of the people who faced sexual harassment, all those who felt that the pandemic has a biased impact on some particular gender: \")\n",
    "display(pd.crosstab(df5['biased impact'],df5['sex'],normalize='columns')*100)\n",
    "print(\"\\n\\n\\033[1m Of the people who faced sexual harassment, all those who felt that the HR Department could have devised better polices: \")\n",
    "display(pd.crosstab(df5['better policies'],df5['sex'],normalize='columns')*100)"
   ]
  },
  {
   "cell_type": "markdown",
   "metadata": {},
   "source": [
    "### Analysing Comfort level while sharing about incidents of sexual harassment"
   ]
  },
  {
   "cell_type": "code",
   "execution_count": 98,
   "metadata": {},
   "outputs": [
    {
     "name": "stdout",
     "output_type": "stream",
     "text": [
      "\u001b[1m Summary of Data:\u001b[0m \n"
     ]
    },
    {
     "data": {
      "text/html": [
       "<div>\n",
       "<style scoped>\n",
       "    .dataframe tbody tr th:only-of-type {\n",
       "        vertical-align: middle;\n",
       "    }\n",
       "\n",
       "    .dataframe tbody tr th {\n",
       "        vertical-align: top;\n",
       "    }\n",
       "\n",
       "    .dataframe thead th {\n",
       "        text-align: right;\n",
       "    }\n",
       "</style>\n",
       "<table border=\"1\" class=\"dataframe\">\n",
       "  <thead>\n",
       "    <tr style=\"text-align: right;\">\n",
       "      <th></th>\n",
       "      <th>comfort</th>\n",
       "    </tr>\n",
       "  </thead>\n",
       "  <tbody>\n",
       "    <tr>\n",
       "      <th>count</th>\n",
       "      <td>6.000000</td>\n",
       "    </tr>\n",
       "    <tr>\n",
       "      <th>mean</th>\n",
       "      <td>3.166667</td>\n",
       "    </tr>\n",
       "    <tr>\n",
       "      <th>std</th>\n",
       "      <td>0.983192</td>\n",
       "    </tr>\n",
       "    <tr>\n",
       "      <th>min</th>\n",
       "      <td>2.000000</td>\n",
       "    </tr>\n",
       "    <tr>\n",
       "      <th>25%</th>\n",
       "      <td>2.250000</td>\n",
       "    </tr>\n",
       "    <tr>\n",
       "      <th>50%</th>\n",
       "      <td>3.500000</td>\n",
       "    </tr>\n",
       "    <tr>\n",
       "      <th>75%</th>\n",
       "      <td>4.000000</td>\n",
       "    </tr>\n",
       "    <tr>\n",
       "      <th>max</th>\n",
       "      <td>4.000000</td>\n",
       "    </tr>\n",
       "  </tbody>\n",
       "</table>\n",
       "</div>"
      ],
      "text/plain": [
       "        comfort\n",
       "count  6.000000\n",
       "mean   3.166667\n",
       "std    0.983192\n",
       "min    2.000000\n",
       "25%    2.250000\n",
       "50%    3.500000\n",
       "75%    4.000000\n",
       "max    4.000000"
      ]
     },
     "execution_count": 98,
     "metadata": {},
     "output_type": "execute_result"
    }
   ],
   "source": [
    "print(\"\\033[1m Summary of Data:\\033[0m \")\n",
    "df5.describe()"
   ]
  },
  {
   "cell_type": "code",
   "execution_count": 101,
   "metadata": {},
   "outputs": [
    {
     "name": "stdout",
     "output_type": "stream",
     "text": [
      "\n",
      "\n",
      "\u001b[1mPerforming standardization:\u001b[0m \n"
     ]
    },
    {
     "data": {
      "text/plain": [
       "array([ 0.92847669,  0.92847669,  0.92847669, -0.18569534, -1.29986737,\n",
       "       -1.29986737])"
      ]
     },
     "execution_count": 101,
     "metadata": {},
     "output_type": "execute_result"
    }
   ],
   "source": [
    "print(\"\\n\\n\\033[1mPerforming standardization:\\033[0m \")\n",
    "from sklearn import preprocessing\n",
    "std_df5=preprocessing.scale(df5['comfort'])\n",
    "std_df5"
   ]
  },
  {
   "cell_type": "code",
   "execution_count": 112,
   "metadata": {},
   "outputs": [
    {
     "name": "stdout",
     "output_type": "stream",
     "text": [
      "\n",
      "\n",
      "\u001b[1mChecking for Skewness:\u001b[0m\n",
      "\n",
      " \n"
     ]
    },
    {
     "data": {
      "text/plain": [
       "-0.4559392524346823"
      ]
     },
     "metadata": {},
     "output_type": "display_data"
    },
    {
     "data": {
      "image/png": "[encoded data removed]",
      "text/plain": [
       "<Figure size 432x288 with 1 Axes>"
      ]
     },
     "metadata": {
      "needs_background": "light"
     },
     "output_type": "display_data"
    }
   ],
   "source": [
    "print(\"\\n\\n\\033[1mChecking for Skewness:\\033[0m\\n\\n \")\n",
    "df5['comfort'].plot.hist()\n",
    "display(df5['comfort'].skew())"
   ]
  }
 ],
 "metadata": {
  "interpreter": {
   "hash": "08b741ea1332f88dd087fb8fc46582258a60dbf5d952719be37684b1098a3c06"
  },
  "kernelspec": {
   "display_name": "Python 3",
   "language": "python",
   "name": "python3"
  },
  "language_info": {
   "codemirror_mode": {
    "name": "ipython",
    "version": 3
   },
   "file_extension": ".py",
   "mimetype": "text/x-python",
   "name": "python",
   "nbconvert_exporter": "python",
   "pygments_lexer": "ipython3",
   "version": "3.8.5"
  }
 },
 "nbformat": 4,
 "nbformat_minor": 4
}
