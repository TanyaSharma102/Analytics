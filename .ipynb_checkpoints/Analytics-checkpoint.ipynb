{
 "cells": [
  {
   "cell_type": "markdown",
   "metadata": {},
   "source": [
    "# Data Analysis on Gender Disparity during work from home"
   ]
  },
  {
   "cell_type": "markdown",
   "metadata": {},
   "source": [
    "## Importing Data from Ms- Excel. This Data was collected from a survey via Google forms."
   ]
  },
  {
   "cell_type": "code",
   "execution_count": 287,
   "metadata": {},
   "outputs": [
    {
     "data": {
      "text/html": [
       "<div>\n",
       "<style scoped>\n",
       "    .dataframe tbody tr th:only-of-type {\n",
       "        vertical-align: middle;\n",
       "    }\n",
       "\n",
       "    .dataframe tbody tr th {\n",
       "        vertical-align: top;\n",
       "    }\n",
       "\n",
       "    .dataframe thead th {\n",
       "        text-align: right;\n",
       "    }\n",
       "</style>\n",
       "<table border=\"1\" class=\"dataframe\">\n",
       "  <thead>\n",
       "    <tr style=\"text-align: right;\">\n",
       "      <th></th>\n",
       "      <th>sex</th>\n",
       "      <th>age</th>\n",
       "      <th>marital status</th>\n",
       "      <th>work timings</th>\n",
       "      <th>employment organization</th>\n",
       "      <th>current mode</th>\n",
       "      <th>preferred mode</th>\n",
       "      <th>new job</th>\n",
       "      <th>salary incentives</th>\n",
       "      <th>domestic life</th>\n",
       "      <th>...</th>\n",
       "      <th>silenced</th>\n",
       "      <th>avoid contact</th>\n",
       "      <th>sexual harassment</th>\n",
       "      <th>comfort</th>\n",
       "      <th>hr policies</th>\n",
       "      <th>better policies</th>\n",
       "      <th>biased impact</th>\n",
       "      <th>Comments</th>\n",
       "      <th>Other Info</th>\n",
       "      <th>Unnamed: 25</th>\n",
       "    </tr>\n",
       "  </thead>\n",
       "  <tbody>\n",
       "    <tr>\n",
       "      <th>0</th>\n",
       "      <td>Male</td>\n",
       "      <td>18-24</td>\n",
       "      <td>Single</td>\n",
       "      <td>Night Shift</td>\n",
       "      <td>Public Startup/Private Startup</td>\n",
       "      <td>Remote Mode(Work From Home)</td>\n",
       "      <td>Remote Mode(Work From Home)</td>\n",
       "      <td>Difficult</td>\n",
       "      <td>Same as before</td>\n",
       "      <td>Slightly Negatively</td>\n",
       "      <td>...</td>\n",
       "      <td>Never</td>\n",
       "      <td>Never</td>\n",
       "      <td>No</td>\n",
       "      <td>NaN</td>\n",
       "      <td>Yes</td>\n",
       "      <td>Yes</td>\n",
       "      <td>Maybe</td>\n",
       "      <td>NaN</td>\n",
       "      <td>NaN</td>\n",
       "      <td>NaN</td>\n",
       "    </tr>\n",
       "    <tr>\n",
       "      <th>1</th>\n",
       "      <td>Male</td>\n",
       "      <td>18-24</td>\n",
       "      <td>Single</td>\n",
       "      <td>Morning Shift</td>\n",
       "      <td>Public Startup/Private Startup</td>\n",
       "      <td>Remote Mode(Work From Home)</td>\n",
       "      <td>Remote Mode(Work From Home)</td>\n",
       "      <td>Difficult</td>\n",
       "      <td>Poor</td>\n",
       "      <td>Slightly Negatively</td>\n",
       "      <td>...</td>\n",
       "      <td>Very often</td>\n",
       "      <td>Often</td>\n",
       "      <td>No</td>\n",
       "      <td>NaN</td>\n",
       "      <td>Partly</td>\n",
       "      <td>Yes</td>\n",
       "      <td>No</td>\n",
       "      <td>NaN</td>\n",
       "      <td>NaN</td>\n",
       "      <td>NaN</td>\n",
       "    </tr>\n",
       "    <tr>\n",
       "      <th>2</th>\n",
       "      <td>Male</td>\n",
       "      <td>18-24</td>\n",
       "      <td>Single</td>\n",
       "      <td>Morning Shift</td>\n",
       "      <td>Public Startup/Private Startup</td>\n",
       "      <td>Remote Mode(Work From Home)</td>\n",
       "      <td>Physical Mode</td>\n",
       "      <td>Not applicable</td>\n",
       "      <td>Good</td>\n",
       "      <td>Did not have any affect</td>\n",
       "      <td>...</td>\n",
       "      <td>Rarely</td>\n",
       "      <td>Rarely</td>\n",
       "      <td>No</td>\n",
       "      <td>NaN</td>\n",
       "      <td>Yes</td>\n",
       "      <td>No</td>\n",
       "      <td>No</td>\n",
       "      <td>NaN</td>\n",
       "      <td>NaN</td>\n",
       "      <td>NaN</td>\n",
       "    </tr>\n",
       "    <tr>\n",
       "      <th>3</th>\n",
       "      <td>Female</td>\n",
       "      <td>18-24</td>\n",
       "      <td>Single</td>\n",
       "      <td>Morning Shift</td>\n",
       "      <td>Public Startup/Private Startup</td>\n",
       "      <td>Remote Mode(Work From Home)</td>\n",
       "      <td>Remote Mode(Work From Home)</td>\n",
       "      <td>Difficult</td>\n",
       "      <td>Good</td>\n",
       "      <td>Slightly Negatively</td>\n",
       "      <td>...</td>\n",
       "      <td>Never</td>\n",
       "      <td>Never</td>\n",
       "      <td>No</td>\n",
       "      <td>NaN</td>\n",
       "      <td>No</td>\n",
       "      <td>No</td>\n",
       "      <td>Maybe</td>\n",
       "      <td>NaN</td>\n",
       "      <td>NaN</td>\n",
       "      <td>NaN</td>\n",
       "    </tr>\n",
       "    <tr>\n",
       "      <th>4</th>\n",
       "      <td>Female</td>\n",
       "      <td>18-24</td>\n",
       "      <td>Single</td>\n",
       "      <td>Morning Shift</td>\n",
       "      <td>Medical</td>\n",
       "      <td>Part Both(Changing with the magnitude of Covid...</td>\n",
       "      <td>Physical Mode</td>\n",
       "      <td>Not applicable</td>\n",
       "      <td>Very Poor</td>\n",
       "      <td>Very Negatively</td>\n",
       "      <td>...</td>\n",
       "      <td>Very often</td>\n",
       "      <td>Very often</td>\n",
       "      <td>No</td>\n",
       "      <td>NaN</td>\n",
       "      <td>Partly</td>\n",
       "      <td>Yes</td>\n",
       "      <td>Yes</td>\n",
       "      <td>With respect to the health aspect of females .</td>\n",
       "      <td>NaN</td>\n",
       "      <td>NaN</td>\n",
       "    </tr>\n",
       "    <tr>\n",
       "      <th>...</th>\n",
       "      <td>...</td>\n",
       "      <td>...</td>\n",
       "      <td>...</td>\n",
       "      <td>...</td>\n",
       "      <td>...</td>\n",
       "      <td>...</td>\n",
       "      <td>...</td>\n",
       "      <td>...</td>\n",
       "      <td>...</td>\n",
       "      <td>...</td>\n",
       "      <td>...</td>\n",
       "      <td>...</td>\n",
       "      <td>...</td>\n",
       "      <td>...</td>\n",
       "      <td>...</td>\n",
       "      <td>...</td>\n",
       "      <td>...</td>\n",
       "      <td>...</td>\n",
       "      <td>...</td>\n",
       "      <td>...</td>\n",
       "      <td>...</td>\n",
       "    </tr>\n",
       "    <tr>\n",
       "      <th>98</th>\n",
       "      <td>Female</td>\n",
       "      <td>45-60</td>\n",
       "      <td>Married</td>\n",
       "      <td>Morning Shift</td>\n",
       "      <td>Public MNC/ Private MNC</td>\n",
       "      <td>Remote Mode(Work From Home)</td>\n",
       "      <td>Physical Mode</td>\n",
       "      <td>Not applicable</td>\n",
       "      <td>Same as before</td>\n",
       "      <td>Slightly Negatively</td>\n",
       "      <td>...</td>\n",
       "      <td>Often</td>\n",
       "      <td>Often</td>\n",
       "      <td>No</td>\n",
       "      <td>NaN</td>\n",
       "      <td>No</td>\n",
       "      <td>Yes</td>\n",
       "      <td>Yes</td>\n",
       "      <td>Women had to do more work at home</td>\n",
       "      <td>NaN</td>\n",
       "      <td>NaN</td>\n",
       "    </tr>\n",
       "    <tr>\n",
       "      <th>99</th>\n",
       "      <td>Female</td>\n",
       "      <td>25-34</td>\n",
       "      <td>Single</td>\n",
       "      <td>Morning Shift</td>\n",
       "      <td>Public Startup/Private Startup</td>\n",
       "      <td>Part Both(Changing with the magnitude of Covid...</td>\n",
       "      <td>Physical Mode</td>\n",
       "      <td>Difficult</td>\n",
       "      <td>Same as before</td>\n",
       "      <td>Slightly Negatively</td>\n",
       "      <td>...</td>\n",
       "      <td>Rarely</td>\n",
       "      <td>Often</td>\n",
       "      <td>No</td>\n",
       "      <td>NaN</td>\n",
       "      <td>Partly</td>\n",
       "      <td>Yes</td>\n",
       "      <td>Yes</td>\n",
       "      <td>Maybe</td>\n",
       "      <td>NaN</td>\n",
       "      <td>NaN</td>\n",
       "    </tr>\n",
       "    <tr>\n",
       "      <th>100</th>\n",
       "      <td>Female</td>\n",
       "      <td>18-24</td>\n",
       "      <td>Single</td>\n",
       "      <td>Part Time</td>\n",
       "      <td>Non Profit Organization</td>\n",
       "      <td>Part Both(Changing with the magnitude of Covid...</td>\n",
       "      <td>Physical Mode</td>\n",
       "      <td>Not applicable</td>\n",
       "      <td>Same as before</td>\n",
       "      <td>Slightly Negatively</td>\n",
       "      <td>...</td>\n",
       "      <td>Rarely</td>\n",
       "      <td>Rarely</td>\n",
       "      <td>No</td>\n",
       "      <td>NaN</td>\n",
       "      <td>Partly</td>\n",
       "      <td>No</td>\n",
       "      <td>Yes</td>\n",
       "      <td>Women had to handle kids</td>\n",
       "      <td>NaN</td>\n",
       "      <td>NaN</td>\n",
       "    </tr>\n",
       "    <tr>\n",
       "      <th>101</th>\n",
       "      <td>Female</td>\n",
       "      <td>18-24</td>\n",
       "      <td>Single</td>\n",
       "      <td>Night Shift</td>\n",
       "      <td>Public MSME/ Private MSME</td>\n",
       "      <td>Physical Mode</td>\n",
       "      <td>Physical Mode</td>\n",
       "      <td>Not applicable</td>\n",
       "      <td>Poor</td>\n",
       "      <td>Slightly Negatively</td>\n",
       "      <td>...</td>\n",
       "      <td>Rarely</td>\n",
       "      <td>Rarely</td>\n",
       "      <td>Yes</td>\n",
       "      <td>3.0</td>\n",
       "      <td>No</td>\n",
       "      <td>Yes</td>\n",
       "      <td>Yes</td>\n",
       "      <td>Yes</td>\n",
       "      <td>NaN</td>\n",
       "      <td>NaN</td>\n",
       "    </tr>\n",
       "    <tr>\n",
       "      <th>102</th>\n",
       "      <td>Female</td>\n",
       "      <td>35-44</td>\n",
       "      <td>Married</td>\n",
       "      <td>Morning Shift</td>\n",
       "      <td>Government Agency</td>\n",
       "      <td>Part Both(Changing with the magnitude of Covid...</td>\n",
       "      <td>Physical Mode</td>\n",
       "      <td>Not applicable</td>\n",
       "      <td>Same as before</td>\n",
       "      <td>Slightly Improved</td>\n",
       "      <td>...</td>\n",
       "      <td>Often</td>\n",
       "      <td>Often</td>\n",
       "      <td>No</td>\n",
       "      <td>NaN</td>\n",
       "      <td>Yes</td>\n",
       "      <td>No</td>\n",
       "      <td>Yes</td>\n",
       "      <td>Female had to do house work</td>\n",
       "      <td>NaN</td>\n",
       "      <td>NaN</td>\n",
       "    </tr>\n",
       "  </tbody>\n",
       "</table>\n",
       "<p>103 rows × 26 columns</p>\n",
       "</div>"
      ],
      "text/plain": [
       "        sex    age marital status   work timings  \\\n",
       "0      Male  18-24         Single    Night Shift   \n",
       "1      Male  18-24         Single  Morning Shift   \n",
       "2      Male  18-24         Single  Morning Shift   \n",
       "3    Female  18-24         Single  Morning Shift   \n",
       "4    Female  18-24         Single  Morning Shift   \n",
       "..      ...    ...            ...            ...   \n",
       "98   Female  45-60        Married  Morning Shift   \n",
       "99   Female  25-34         Single  Morning Shift   \n",
       "100  Female  18-24         Single      Part Time   \n",
       "101  Female  18-24         Single    Night Shift   \n",
       "102  Female  35-44        Married  Morning Shift   \n",
       "\n",
       "            employment organization  \\\n",
       "0    Public Startup/Private Startup   \n",
       "1    Public Startup/Private Startup   \n",
       "2    Public Startup/Private Startup   \n",
       "3    Public Startup/Private Startup   \n",
       "4                           Medical   \n",
       "..                              ...   \n",
       "98          Public MNC/ Private MNC   \n",
       "99   Public Startup/Private Startup   \n",
       "100         Non Profit Organization   \n",
       "101       Public MSME/ Private MSME   \n",
       "102               Government Agency   \n",
       "\n",
       "                                          current mode  \\\n",
       "0                          Remote Mode(Work From Home)   \n",
       "1                          Remote Mode(Work From Home)   \n",
       "2                          Remote Mode(Work From Home)   \n",
       "3                          Remote Mode(Work From Home)   \n",
       "4    Part Both(Changing with the magnitude of Covid...   \n",
       "..                                                 ...   \n",
       "98                         Remote Mode(Work From Home)   \n",
       "99   Part Both(Changing with the magnitude of Covid...   \n",
       "100  Part Both(Changing with the magnitude of Covid...   \n",
       "101                                      Physical Mode   \n",
       "102  Part Both(Changing with the magnitude of Covid...   \n",
       "\n",
       "                  preferred mode         new job salary incentives  \\\n",
       "0    Remote Mode(Work From Home)       Difficult    Same as before   \n",
       "1    Remote Mode(Work From Home)       Difficult              Poor   \n",
       "2                  Physical Mode  Not applicable              Good   \n",
       "3    Remote Mode(Work From Home)       Difficult              Good   \n",
       "4                  Physical Mode  Not applicable         Very Poor   \n",
       "..                           ...             ...               ...   \n",
       "98                 Physical Mode  Not applicable    Same as before   \n",
       "99                 Physical Mode       Difficult    Same as before   \n",
       "100                Physical Mode  Not applicable    Same as before   \n",
       "101                Physical Mode  Not applicable              Poor   \n",
       "102                Physical Mode  Not applicable    Same as before   \n",
       "\n",
       "               domestic life  ...    silenced avoid contact sexual harassment  \\\n",
       "0        Slightly Negatively  ...       Never         Never                No   \n",
       "1        Slightly Negatively  ...  Very often         Often                No   \n",
       "2    Did not have any affect  ...      Rarely        Rarely                No   \n",
       "3        Slightly Negatively  ...       Never         Never                No   \n",
       "4            Very Negatively  ...  Very often    Very often                No   \n",
       "..                       ...  ...         ...           ...               ...   \n",
       "98       Slightly Negatively  ...       Often         Often                No   \n",
       "99       Slightly Negatively  ...      Rarely         Often                No   \n",
       "100      Slightly Negatively  ...      Rarely        Rarely                No   \n",
       "101      Slightly Negatively  ...      Rarely        Rarely               Yes   \n",
       "102        Slightly Improved  ...       Often         Often                No   \n",
       "\n",
       "    comfort hr policies better policies biased impact  \\\n",
       "0       NaN         Yes             Yes         Maybe   \n",
       "1       NaN      Partly             Yes            No   \n",
       "2       NaN         Yes              No            No   \n",
       "3       NaN          No              No         Maybe   \n",
       "4       NaN      Partly             Yes           Yes   \n",
       "..      ...         ...             ...           ...   \n",
       "98      NaN          No             Yes           Yes   \n",
       "99      NaN      Partly             Yes           Yes   \n",
       "100     NaN      Partly              No           Yes   \n",
       "101     3.0          No             Yes           Yes   \n",
       "102     NaN         Yes              No           Yes   \n",
       "\n",
       "                                           Comments Other Info  Unnamed: 25  \n",
       "0                                               NaN        NaN          NaN  \n",
       "1                                               NaN        NaN          NaN  \n",
       "2                                               NaN        NaN          NaN  \n",
       "3                                               NaN        NaN          NaN  \n",
       "4    With respect to the health aspect of females .        NaN          NaN  \n",
       "..                                              ...        ...          ...  \n",
       "98                Women had to do more work at home        NaN          NaN  \n",
       "99                                            Maybe        NaN          NaN  \n",
       "100                        Women had to handle kids        NaN          NaN  \n",
       "101                                             Yes        NaN          NaN  \n",
       "102                     Female had to do house work        NaN          NaN  \n",
       "\n",
       "[103 rows x 26 columns]"
      ]
     },
     "execution_count": 287,
     "metadata": {},
     "output_type": "execute_result"
    }
   ],
   "source": [
    "import pandas as pd\n",
    "df=pd.read_excel('C:\\\\Users\\\\Anubhav\\\\Desktop\\\\Analytics.xlsx','Sheet1')\n",
    "df"
   ]
  },
  {
   "cell_type": "markdown",
   "metadata": {},
   "source": [
    "# Following are the Final Attributes of the data collected and the corresponding question they represent. The questions have been shortened to a relatable attribute name for enhancing the ease of handling the data. "
   ]
  },
  {
   "cell_type": "markdown",
   "metadata": {},
   "source": [
    "### Following are the details of the data we will be working on  \n",
    "\n",
    " The column names in the sheet along with the respective question they represent are listed below:\n",
    "  - sex- Sex \n",
    "  - age- Age \n",
    "  - marital status- Marital Status \n",
    "  - work timings- Work Timings \n",
    "  - Employment Organization- What is the type of your employment organization? \n",
    "  - current mode- What is your current mode of working? \n",
    "  - preferred mode- What mode of working do you prefer? \n",
    "  - new job- In case your employment was terminated, how difficult was it to get a new job? \n",
    "  - salary incentives- How satisfactory have your salary incentives/promotions been since 2020? \n",
    "  - domestic life- How did the new work conditions affect your domestic life? \n",
    "  - personal life- How did the new work conditions affect your personal time/growth? \n",
    "  - layoff fear- Did you at any point fear a layoff since the pandemic kicked in? \n",
    "  - stretched hours- Did you experience stretched working hours/increased workload during the pandemic?\n",
    "  - domestic obligation- Was there some domestic obligation you had to fulfil before starting your work everyday? \n",
    "  - background noises- Did you find it difficult to silence background noises at your home whilst in a meeting/discussion? \n",
    "  - personal calls- How often were you contacted personally by your superiors/colleagues regarding matters not restricting to work? \n",
    "  - silenced- Did you feel silenced on calls/meetings even though you had something valuable to add? \n",
    "  - avoid contact- Did you avoid contacting a colleague/superior regarding some professional issue thinking you are being unprofessional? \n",
    "  - sexual harassment- Did you experience any kind of Sexual harassment/Cyber Harassment at your work during the pandemic? \n",
    "  - comfort- If Yes, how comfortable were you in sharing the details with the concerned authorities? \n",
    "  - hr policies- Do you feel that the HR Department of your organization took the necessary steps to help you adapt to work from home? \n",
    "  - better policies- Do you feel that your organization needs to work on its policies regarding employee conduct? \n",
    "  - biased impact- Do you feel that the pandemic had a more negative affect on some particular gender at workplaces? \n",
    "  - Comments- If Yes/Maybe, how? "
   ]
  },
  {
   "cell_type": "code",
   "execution_count": 288,
   "metadata": {},
   "outputs": [
    {
     "name": "stdout",
     "output_type": "stream",
     "text": [
      " \n",
      " \n",
      "No. of Data Entries corresponding to each attribute \n",
      " sex                        103\n",
      "age                        103\n",
      "marital status             103\n",
      "work timings               103\n",
      "employment organization    103\n",
      "current mode               103\n",
      "preferred mode             103\n",
      "new job                     98\n",
      "salary incentives          103\n",
      "domestic life              103\n",
      "personal life              103\n",
      "layoff fear                103\n",
      "stretched hours            103\n",
      "domestic obligation        103\n",
      "background noises          103\n",
      "personal calls             103\n",
      "silenced                   103\n",
      "avoid contact              103\n",
      "sexual harassment          103\n",
      "comfort                      7\n",
      "hr policies                103\n",
      "better policies            103\n",
      "biased impact              103\n",
      "Comments                    28\n",
      "Other Info                   7\n",
      "Unnamed: 25                  0\n",
      "dtype: int64\n"
     ]
    }
   ],
   "source": [
    "print(\" \\n \\nNo. of Data Entries corresponding to each attribute \\n\",df.count())"
   ]
  },
  {
   "cell_type": "markdown",
   "metadata": {},
   "source": [
    "## Data Cleaning will be used to fill up the empty information, wherever needed. We'll first find the number of missing values for each attribute. Then a decision will be made regarding the attributes whose missing values have to be filled up. This is followed by determining what value will be used to fill up the missing values."
   ]
  },
  {
   "cell_type": "code",
   "execution_count": 289,
   "metadata": {
    "scrolled": true
   },
   "outputs": [
    {
     "data": {
      "text/plain": [
       "sex                          0\n",
       "age                          0\n",
       "marital status               0\n",
       "work timings                 0\n",
       "employment organization      0\n",
       "current mode                 0\n",
       "preferred mode               0\n",
       "new job                      5\n",
       "salary incentives            0\n",
       "domestic life                0\n",
       "personal life                0\n",
       "layoff fear                  0\n",
       "stretched hours              0\n",
       "domestic obligation          0\n",
       "background noises            0\n",
       "personal calls               0\n",
       "silenced                     0\n",
       "avoid contact                0\n",
       "sexual harassment            0\n",
       "comfort                     96\n",
       "hr policies                  0\n",
       "better policies              0\n",
       "biased impact                0\n",
       "Comments                    75\n",
       "Other Info                  96\n",
       "Unnamed: 25                103\n",
       "dtype: int64"
      ]
     },
     "execution_count": 289,
     "metadata": {},
     "output_type": "execute_result"
    }
   ],
   "source": [
    "#Cleaning the data \n",
    "\n",
    "#Finding missing values(if any) in each column\n",
    "\n",
    "df.isna().sum()\n"
   ]
  },
  {
   "cell_type": "code",
   "execution_count": 290,
   "metadata": {},
   "outputs": [
    {
     "name": "stdout",
     "output_type": "stream",
     "text": [
      "Difficult         51\n",
      "Not applicable    38\n",
      "Same as before     7\n",
      "Easier             2\n",
      "Name: new job, dtype: int64\n"
     ]
    },
    {
     "data": {
      "text/plain": [
       "sex                          0\n",
       "age                          0\n",
       "marital status               0\n",
       "work timings                 0\n",
       "employment organization      0\n",
       "current mode                 0\n",
       "preferred mode               0\n",
       "new job                      0\n",
       "salary incentives            0\n",
       "domestic life                0\n",
       "personal life                0\n",
       "layoff fear                  0\n",
       "stretched hours              0\n",
       "domestic obligation          0\n",
       "background noises            0\n",
       "personal calls               0\n",
       "silenced                     0\n",
       "avoid contact                0\n",
       "sexual harassment            0\n",
       "comfort                     96\n",
       "hr policies                  0\n",
       "better policies              0\n",
       "biased impact                0\n",
       "Comments                    75\n",
       "Other Info                  96\n",
       "Unnamed: 25                103\n",
       "dtype: int64"
      ]
     },
     "execution_count": 290,
     "metadata": {},
     "output_type": "execute_result"
    }
   ],
   "source": [
    "#filling up the missing values in the column 'new job'\n",
    "print(df['new job'].value_counts())\n",
    "df1=df\n",
    "df1['new job']=df1['new job'].fillna(\"Not applicable\")\n",
    "df1.isna().sum()\n"
   ]
  },
  {
   "cell_type": "markdown",
   "metadata": {},
   "source": [
    "## We'll start with an overview of the Data Entries on the basis of three categories namely 'Sex', 'Age' and ' Marital Status'. They'll be displayed by count, by percentage and by a pie chart."
   ]
  },
  {
   "cell_type": "code",
   "execution_count": 291,
   "metadata": {},
   "outputs": [
    {
     "name": "stdout",
     "output_type": "stream",
     "text": [
      "\u001b[1mGenders: \u001b[0m \n",
      "By count:\n",
      "Male      58\n",
      "Female    45\n",
      "Name: sex, dtype: int64\n",
      "\n",
      "By Percentage:\n",
      "Male      56.31068\n",
      "Female    43.68932\n",
      "Name: sex, dtype: float64\n"
     ]
    },
    {
     "data": {
      "text/plain": [
       "<AxesSubplot:title={'center':'Entries by Gender'}, ylabel='sex'>"
      ]
     },
     "execution_count": 291,
     "metadata": {},
     "output_type": "execute_result"
    },
    {
     "data": {
      "image/png": "[encoded data removed]",
      "text/plain": [
       "<Figure size 432x288 with 1 Axes>"
      ]
     },
     "metadata": {},
     "output_type": "display_data"
    }
   ],
   "source": [
    "#Displaying entries\n",
    "\n",
    "print(\"\\033[1mGenders: \\033[0m \\nBy count:\")\n",
    "print(df1['sex'].value_counts())\n",
    "print(\"\\nBy Percentage:\")\n",
    "print(df1['sex'].value_counts(normalize= True)*100)\n",
    "df1['sex'].value_counts(normalize= True).plot(kind='pie',title='Entries by Gender')\n",
    "\n"
   ]
  },
  {
   "cell_type": "code",
   "execution_count": 292,
   "metadata": {},
   "outputs": [
    {
     "name": "stdout",
     "output_type": "stream",
     "text": [
      "\u001b[1mAge: \u001b[0m \n",
      "By count:\n",
      "18-24    47\n",
      "25-34    26\n",
      "45-60    16\n",
      "35-44    14\n",
      "Name: age, dtype: int64\n",
      "\n",
      "By Percentage:\n",
      "18-24    45.631068\n",
      "25-34    25.242718\n",
      "45-60    15.533981\n",
      "35-44    13.592233\n",
      "Name: age, dtype: float64\n"
     ]
    },
    {
     "data": {
      "text/plain": [
       "<AxesSubplot:title={'center':'Entries by age'}, ylabel='age'>"
      ]
     },
     "execution_count": 292,
     "metadata": {},
     "output_type": "execute_result"
    },
    {
     "data": {
      "image/png": "[encoded data removed]",
      "text/plain": [
       "<Figure size 432x288 with 1 Axes>"
      ]
     },
     "metadata": {},
     "output_type": "display_data"
    }
   ],
   "source": [
    "print(\"\\033[1mAge: \\033[0m \\nBy count:\")\n",
    "print(df1['age'].value_counts())\n",
    "print(\"\\nBy Percentage:\")\n",
    "print(df1['age'].value_counts(normalize= True)*100)\n",
    "df1['age'].value_counts(normalize= True).plot(kind='pie',title='Entries by age')\n"
   ]
  },
  {
   "cell_type": "code",
   "execution_count": 293,
   "metadata": {},
   "outputs": [
    {
     "name": "stdout",
     "output_type": "stream",
     "text": [
      "\u001b[1mMarital Status: \u001b[0m \n",
      "By count:\n",
      "Single     62\n",
      "Married    41\n",
      "Name: marital status, dtype: int64\n",
      "\n",
      "By Percentage:\n",
      "Single     60.194175\n",
      "Married    39.805825\n",
      "Name: marital status, dtype: float64\n"
     ]
    },
    {
     "data": {
      "text/plain": [
       "<AxesSubplot:title={'center':'Entries by marital status'}, ylabel='marital status'>"
      ]
     },
     "execution_count": 293,
     "metadata": {},
     "output_type": "execute_result"
    },
    {
     "data": {
      "image/png": "[encoded data removed]",
      "text/plain": [
       "<Figure size 432x288 with 1 Axes>"
      ]
     },
     "metadata": {},
     "output_type": "display_data"
    }
   ],
   "source": [
    "print(\"\\033[1mMarital Status: \\033[0m \\nBy count:\")\n",
    "print(df1['marital status'].value_counts())\n",
    "print(\"\\nBy Percentage:\")\n",
    "print(df1['marital status'].value_counts(normalize= True)*100)\n",
    "df1['marital status'].value_counts(normalize= True).plot(kind='pie', title='Entries by marital status')\n"
   ]
  },
  {
   "cell_type": "markdown",
   "metadata": {},
   "source": [
    "## To start with the Analysis, we'll take up the relevant attributes, one at a time.In case a further need to analyse some particular attribute is felt, plots will be used to provide a clearer explanation. \n",
    "## To start with, Preferred Modes of working will be analysed against Gender, Age and Marital Status individually. Percentages are displayed columnwise.\n",
    "## This will be followed by a mosaic plot of Preferred Mode, Gender and Marital Status(Mosaic Plots will be used for multivariate analysis)"
   ]
  },
  {
   "cell_type": "code",
   "execution_count": 294,
   "metadata": {},
   "outputs": [],
   "source": [
    "import matplotlib.pyplot as plt\n",
    "import numpy as np\n",
    "from statsmodels.graphics.mosaicplot import mosaic\n",
    "from itertools import product"
   ]
  },
  {
   "cell_type": "code",
   "execution_count": 295,
   "metadata": {},
   "outputs": [
    {
     "name": "stdout",
     "output_type": "stream",
     "text": [
      "\u001b[1mPreferred modes of working by percentage:\u001b[0m\n",
      "Physical Mode                  53.398058\n",
      "Remote Mode(Work From Home)    46.601942\n",
      "Name: preferred mode, dtype: float64\n",
      "\n",
      " \n",
      "\u001b[1mPreferred modes of working by Gender:\u001b[0m\n",
      "(How to read the table: 44.7% females prefer Physical mode of working while 55.2% females prefer Remote mode of working): \n",
      "\n"
     ]
    },
    {
     "data": {
      "text/html": [
       "<div>\n",
       "<style scoped>\n",
       "    .dataframe tbody tr th:only-of-type {\n",
       "        vertical-align: middle;\n",
       "    }\n",
       "\n",
       "    .dataframe tbody tr th {\n",
       "        vertical-align: top;\n",
       "    }\n",
       "\n",
       "    .dataframe thead th {\n",
       "        text-align: right;\n",
       "    }\n",
       "</style>\n",
       "<table border=\"1\" class=\"dataframe\">\n",
       "  <thead>\n",
       "    <tr style=\"text-align: right;\">\n",
       "      <th>sex</th>\n",
       "      <th>Female</th>\n",
       "      <th>Male</th>\n",
       "    </tr>\n",
       "    <tr>\n",
       "      <th>preferred mode</th>\n",
       "      <th></th>\n",
       "      <th></th>\n",
       "    </tr>\n",
       "  </thead>\n",
       "  <tbody>\n",
       "    <tr>\n",
       "      <th>Physical Mode</th>\n",
       "      <td>53.333333</td>\n",
       "      <td>53.448276</td>\n",
       "    </tr>\n",
       "    <tr>\n",
       "      <th>Remote Mode(Work From Home)</th>\n",
       "      <td>46.666667</td>\n",
       "      <td>46.551724</td>\n",
       "    </tr>\n",
       "  </tbody>\n",
       "</table>\n",
       "</div>"
      ],
      "text/plain": [
       "sex                             Female       Male\n",
       "preferred mode                                   \n",
       "Physical Mode                53.333333  53.448276\n",
       "Remote Mode(Work From Home)  46.666667  46.551724"
      ]
     },
     "execution_count": 295,
     "metadata": {},
     "output_type": "execute_result"
    }
   ],
   "source": [
    "#Analysing preferred modes of working by Gender\n",
    "print(\"\\033[1mPreferred modes of working by percentage:\\033[0m\")\n",
    "print(df1['preferred mode'].value_counts(normalize= True)*100)\n",
    "print(\"\\n \\n\\033[1mPreferred modes of working by Gender:\\033[0m\\n(How to read the table: 44.7% females prefer Physical mode of working while 55.2% females prefer Remote mode of working): \\n\")\n",
    "pd.crosstab(df1['preferred mode'],df1['sex'], normalize= 'columns')*100\n"
   ]
  },
  {
   "cell_type": "code",
   "execution_count": 296,
   "metadata": {},
   "outputs": [
    {
     "name": "stdout",
     "output_type": "stream",
     "text": [
      "\n",
      " \n",
      "\u001b[1mPreferred modes of working by Age:\u001b[0m \n",
      "(How to read the table: 44.4% of the people belonging to the age group 18-24 prefer Physical mode of working while 55.5% of the same age group prefer Remote mode of working)\n",
      "\n"
     ]
    },
    {
     "data": {
      "text/html": [
       "<div>\n",
       "<style scoped>\n",
       "    .dataframe tbody tr th:only-of-type {\n",
       "        vertical-align: middle;\n",
       "    }\n",
       "\n",
       "    .dataframe tbody tr th {\n",
       "        vertical-align: top;\n",
       "    }\n",
       "\n",
       "    .dataframe thead th {\n",
       "        text-align: right;\n",
       "    }\n",
       "</style>\n",
       "<table border=\"1\" class=\"dataframe\">\n",
       "  <thead>\n",
       "    <tr style=\"text-align: right;\">\n",
       "      <th>age</th>\n",
       "      <th>18-24</th>\n",
       "      <th>25-34</th>\n",
       "      <th>35-44</th>\n",
       "      <th>45-60</th>\n",
       "    </tr>\n",
       "    <tr>\n",
       "      <th>preferred mode</th>\n",
       "      <th></th>\n",
       "      <th></th>\n",
       "      <th></th>\n",
       "      <th></th>\n",
       "    </tr>\n",
       "  </thead>\n",
       "  <tbody>\n",
       "    <tr>\n",
       "      <th>Physical Mode</th>\n",
       "      <td>46.808511</td>\n",
       "      <td>53.846154</td>\n",
       "      <td>50.0</td>\n",
       "      <td>75.0</td>\n",
       "    </tr>\n",
       "    <tr>\n",
       "      <th>Remote Mode(Work From Home)</th>\n",
       "      <td>53.191489</td>\n",
       "      <td>46.153846</td>\n",
       "      <td>50.0</td>\n",
       "      <td>25.0</td>\n",
       "    </tr>\n",
       "  </tbody>\n",
       "</table>\n",
       "</div>"
      ],
      "text/plain": [
       "age                              18-24      25-34  35-44  45-60\n",
       "preferred mode                                                 \n",
       "Physical Mode                46.808511  53.846154   50.0   75.0\n",
       "Remote Mode(Work From Home)  53.191489  46.153846   50.0   25.0"
      ]
     },
     "execution_count": 296,
     "metadata": {},
     "output_type": "execute_result"
    }
   ],
   "source": [
    "#Analysing preferred modes of working by Age\n",
    "print(\"\\n \\n\\033[1mPreferred modes of working by Age:\\033[0m \\n(How to read the table: 44.4% of the people belonging to the age group 18-24 prefer Physical mode of working while 55.5% of the same age group prefer Remote mode of working)\\n\")\n",
    "pd.crosstab(df1['preferred mode'],df1['age'], normalize= 'columns')*100"
   ]
  },
  {
   "cell_type": "code",
   "execution_count": 297,
   "metadata": {},
   "outputs": [
    {
     "name": "stdout",
     "output_type": "stream",
     "text": [
      "\n",
      " \n",
      "\u001b[1mPreferred modes of working by Marital status:\u001b[0m\n",
      "(How to read the table: 55.5% of the people who are married prefer Physical mode of working while 44.4% of the married people prefer Remote mode of working)\n"
     ]
    },
    {
     "data": {
      "text/html": [
       "<div>\n",
       "<style scoped>\n",
       "    .dataframe tbody tr th:only-of-type {\n",
       "        vertical-align: middle;\n",
       "    }\n",
       "\n",
       "    .dataframe tbody tr th {\n",
       "        vertical-align: top;\n",
       "    }\n",
       "\n",
       "    .dataframe thead th {\n",
       "        text-align: right;\n",
       "    }\n",
       "</style>\n",
       "<table border=\"1\" class=\"dataframe\">\n",
       "  <thead>\n",
       "    <tr style=\"text-align: right;\">\n",
       "      <th>marital status</th>\n",
       "      <th>Married</th>\n",
       "      <th>Single</th>\n",
       "    </tr>\n",
       "    <tr>\n",
       "      <th>preferred mode</th>\n",
       "      <th></th>\n",
       "      <th></th>\n",
       "    </tr>\n",
       "  </thead>\n",
       "  <tbody>\n",
       "    <tr>\n",
       "      <th>Physical Mode</th>\n",
       "      <td>60.97561</td>\n",
       "      <td>48.387097</td>\n",
       "    </tr>\n",
       "    <tr>\n",
       "      <th>Remote Mode(Work From Home)</th>\n",
       "      <td>39.02439</td>\n",
       "      <td>51.612903</td>\n",
       "    </tr>\n",
       "  </tbody>\n",
       "</table>\n",
       "</div>"
      ],
      "text/plain": [
       "marital status                Married     Single\n",
       "preferred mode                                  \n",
       "Physical Mode                60.97561  48.387097\n",
       "Remote Mode(Work From Home)  39.02439  51.612903"
      ]
     },
     "execution_count": 297,
     "metadata": {},
     "output_type": "execute_result"
    }
   ],
   "source": [
    "#Analysing preferred modes of working by Marital Status\n",
    "print(\"\\n \\n\\033[1mPreferred modes of working by Marital status:\\033[0m\\n(How to read the table: 55.5% of the people who are married prefer Physical mode of working while 44.4% of the married people prefer Remote mode of working)\")\n",
    "pd.crosstab(df1['preferred mode'],df1['marital status'], normalize= 'columns')*100"
   ]
  },
  {
   "cell_type": "code",
   "execution_count": 298,
   "metadata": {},
   "outputs": [
    {
     "data": {
      "text/html": [
       "<div>\n",
       "<style scoped>\n",
       "    .dataframe tbody tr th:only-of-type {\n",
       "        vertical-align: middle;\n",
       "    }\n",
       "\n",
       "    .dataframe tbody tr th {\n",
       "        vertical-align: top;\n",
       "    }\n",
       "\n",
       "    .dataframe thead th {\n",
       "        text-align: right;\n",
       "    }\n",
       "</style>\n",
       "<table border=\"1\" class=\"dataframe\">\n",
       "  <thead>\n",
       "    <tr style=\"text-align: right;\">\n",
       "      <th>preferred mode</th>\n",
       "      <th>Physical Mode</th>\n",
       "      <th>Remote Mode(Work From Home)</th>\n",
       "    </tr>\n",
       "    <tr>\n",
       "      <th>sex</th>\n",
       "      <th></th>\n",
       "      <th></th>\n",
       "    </tr>\n",
       "  </thead>\n",
       "  <tbody>\n",
       "    <tr>\n",
       "      <th>Female</th>\n",
       "      <td>52.941176</td>\n",
       "      <td>47.058824</td>\n",
       "    </tr>\n",
       "    <tr>\n",
       "      <th>Male</th>\n",
       "      <td>42.857143</td>\n",
       "      <td>57.142857</td>\n",
       "    </tr>\n",
       "  </tbody>\n",
       "</table>\n",
       "</div>"
      ],
      "text/plain": [
       "preferred mode  Physical Mode  Remote Mode(Work From Home)\n",
       "sex                                                       \n",
       "Female              52.941176                    47.058824\n",
       "Male                42.857143                    57.142857"
      ]
     },
     "execution_count": 298,
     "metadata": {},
     "output_type": "execute_result"
    }
   ],
   "source": [
    "#Analysing preferred modes with respect to gender and marital status\n",
    "#finding labels for the mosaic plot\n",
    "df_single=df1[df1['marital status']=='Single']\n",
    "pd.crosstab(df_single['sex'],df_single['preferred mode'],normalize='index')*100\n"
   ]
  },
  {
   "cell_type": "code",
   "execution_count": 299,
   "metadata": {},
   "outputs": [
    {
     "data": {
      "text/html": [
       "<div>\n",
       "<style scoped>\n",
       "    .dataframe tbody tr th:only-of-type {\n",
       "        vertical-align: middle;\n",
       "    }\n",
       "\n",
       "    .dataframe tbody tr th {\n",
       "        vertical-align: top;\n",
       "    }\n",
       "\n",
       "    .dataframe thead th {\n",
       "        text-align: right;\n",
       "    }\n",
       "</style>\n",
       "<table border=\"1\" class=\"dataframe\">\n",
       "  <thead>\n",
       "    <tr style=\"text-align: right;\">\n",
       "      <th>preferred mode</th>\n",
       "      <th>Physical Mode</th>\n",
       "      <th>Remote Mode(Work From Home)</th>\n",
       "    </tr>\n",
       "    <tr>\n",
       "      <th>sex</th>\n",
       "      <th></th>\n",
       "      <th></th>\n",
       "    </tr>\n",
       "  </thead>\n",
       "  <tbody>\n",
       "    <tr>\n",
       "      <th>Female</th>\n",
       "      <td>54.545455</td>\n",
       "      <td>45.454545</td>\n",
       "    </tr>\n",
       "    <tr>\n",
       "      <th>Male</th>\n",
       "      <td>63.333333</td>\n",
       "      <td>36.666667</td>\n",
       "    </tr>\n",
       "  </tbody>\n",
       "</table>\n",
       "</div>"
      ],
      "text/plain": [
       "preferred mode  Physical Mode  Remote Mode(Work From Home)\n",
       "sex                                                       \n",
       "Female              54.545455                    45.454545\n",
       "Male                63.333333                    36.666667"
      ]
     },
     "execution_count": 299,
     "metadata": {},
     "output_type": "execute_result"
    }
   ],
   "source": [
    "#Finding labels for the mosaic plot\n",
    "df_married=df1[df1['marital status']=='Married']\n",
    "pd.crosstab(df_married['sex'],df_married['preferred mode'],normalize='index')*100\n"
   ]
  },
  {
   "cell_type": "markdown",
   "metadata": {},
   "source": [
    "## Analysing Preferred modes of working by Marital status and Gender"
   ]
  },
  {
   "cell_type": "code",
   "execution_count": 300,
   "metadata": {},
   "outputs": [
    {
     "data": {
      "image/png": "[encoded data removed]",
      "text/plain": [
       "<Figure size 432x288 with 3 Axes>"
      ]
     },
     "metadata": {
      "needs_background": "light"
     },
     "output_type": "display_data"
    }
   ],
   "source": [
    "#This Mosaic plot will explain what each tile represents to enhance understanding\n",
    "mosaic(df1,['marital status','sex','preferred mode'],title='Fig 4- Mosaic Plot with Tile Descriptions\\n')\n",
    "plt.show()"
   ]
  },
  {
   "cell_type": "code",
   "execution_count": 301,
   "metadata": {},
   "outputs": [
    {
     "data": {
      "image/png": "[encoded data removed]",
      "text/plain": [
       "<Figure size 432x288 with 3 Axes>"
      ]
     },
     "metadata": {
      "needs_background": "light"
     },
     "output_type": "display_data"
    },
    {
     "name": "stdout",
     "output_type": "stream",
     "text": [
      "\u001b[1mHow to read the plot:\u001b[0m 71.4% of Married Females prefer Remote mode of working while 28.6% of the married females prefer physical mode of work.\n"
     ]
    }
   ],
   "source": [
    "#Here, we'll be using labels calculated above for a better analysis \n",
    "props={}\n",
    "props[('Single','Female','Remote Mode(Work From Home)')]={'facecolor':'#FF7F50', 'edgecolor':'white'}\n",
    "props[('Single','Male','Remote Mode(Work From Home)')]={'facecolor':'#40E0D0', 'edgecolor':'white'}\n",
    "props[('Married','Female','Remote Mode(Work From Home)')]={'facecolor':'#7FFFD4','edgecolor':'white'}\n",
    "props[('Married','Male','Remote Mode(Work From Home)')]= {'facecolor':'#C79FEF','edgecolor':'white'}\n",
    "props[('Single','Female','Physical Mode')]={'facecolor':'#FC5A50', 'edgecolor':'white'}\n",
    "props[('Single','Male','Physical Mode')]={'facecolor':'#06C2AC', 'edgecolor':'white'}\n",
    "props[('Married','Female','Physical Mode')]={'facecolor':'#04D8B2','edgecolor':'white'}\n",
    "props[('Married','Male','Physical Mode')]= {'facecolor':'#DA70D6','edgecolor':'white'}\n",
    "labelizer=lambda k:{('Single','Female','Remote Mode(Work From Home)'):'51.6%',('Single','Male','Remote Mode(Work From Home)'):'57.1%',('Married','Female','Remote Mode(Work From Home)'):'71.4%',('Married','Male','Remote Mode(Work From Home)'):'37.9%',('Single','Female','Physical Mode'):'48.4%',('Single','Male','Physical Mode'):'42.9%',('Married','Female','Physical Mode'):'28.6%',('Married','Male','Physical Mode'):'62.1%'}[k]\n",
    "mosaic(df1,['marital status','sex','preferred mode'],title='Fig 5- Mosaic Plot with Percentage labels\\n',labelizer=labelizer,properties=props)\n",
    "plt.show()\n",
    "print(\"\\033[1mHow to read the plot:\\033[0m 71.4% of Married Females prefer Remote mode of working while 28.6% of the married females prefer physical mode of work.\")"
   ]
  },
  {
   "cell_type": "markdown",
   "metadata": {},
   "source": [
    "## Analysing remaining attributes with respect to Gender."
   ]
  },
  {
   "cell_type": "markdown",
   "metadata": {},
   "source": [
    "## (i) Salary Incentives"
   ]
  },
  {
   "cell_type": "code",
   "execution_count": 302,
   "metadata": {},
   "outputs": [
    {
     "data": {
      "text/html": [
       "<div>\n",
       "<style scoped>\n",
       "    .dataframe tbody tr th:only-of-type {\n",
       "        vertical-align: middle;\n",
       "    }\n",
       "\n",
       "    .dataframe tbody tr th {\n",
       "        vertical-align: top;\n",
       "    }\n",
       "\n",
       "    .dataframe thead th {\n",
       "        text-align: right;\n",
       "    }\n",
       "</style>\n",
       "<table border=\"1\" class=\"dataframe\">\n",
       "  <thead>\n",
       "    <tr style=\"text-align: right;\">\n",
       "      <th>salary incentives</th>\n",
       "      <th>Good</th>\n",
       "      <th>Poor</th>\n",
       "      <th>Same as before</th>\n",
       "      <th>Very Good</th>\n",
       "      <th>Very Poor</th>\n",
       "    </tr>\n",
       "    <tr>\n",
       "      <th>sex</th>\n",
       "      <th></th>\n",
       "      <th></th>\n",
       "      <th></th>\n",
       "      <th></th>\n",
       "      <th></th>\n",
       "    </tr>\n",
       "  </thead>\n",
       "  <tbody>\n",
       "    <tr>\n",
       "      <th>Female</th>\n",
       "      <td>4.444444</td>\n",
       "      <td>28.888889</td>\n",
       "      <td>55.555556</td>\n",
       "      <td>4.444444</td>\n",
       "      <td>6.666667</td>\n",
       "    </tr>\n",
       "    <tr>\n",
       "      <th>Male</th>\n",
       "      <td>24.137931</td>\n",
       "      <td>24.137931</td>\n",
       "      <td>37.931034</td>\n",
       "      <td>5.172414</td>\n",
       "      <td>8.620690</td>\n",
       "    </tr>\n",
       "  </tbody>\n",
       "</table>\n",
       "</div>"
      ],
      "text/plain": [
       "salary incentives       Good       Poor  Same as before  Very Good  Very Poor\n",
       "sex                                                                          \n",
       "Female              4.444444  28.888889       55.555556   4.444444   6.666667\n",
       "Male               24.137931  24.137931       37.931034   5.172414   8.620690"
      ]
     },
     "metadata": {},
     "output_type": "display_data"
    },
    {
     "name": "stdout",
     "output_type": "stream",
     "text": [
      "\n",
      " \n",
      " \u001b[1mHow to read a stacked bar chart:\u001b[0m Of the females, 5.26% felt that salary incentives were good, 26.3% felt that they were poor,\n",
      " 55.2% felt that they were the same as before,5.2% felt that they were very good and 7.8% felt that they were very poor.\n",
      " \n",
      "\n"
     ]
    },
    {
     "data": {
      "image/png": "[encoded data removed]",
      "text/plain": [
       "<Figure size 648x648 with 1 Axes>"
      ]
     },
     "metadata": {
      "needs_background": "light"
     },
     "output_type": "display_data"
    }
   ],
   "source": [
    "ct=pd.crosstab(df1['sex'],df1['salary incentives'], normalize= 'index')*100\n",
    "display(ct)\n",
    "ct.plot.bar(figsize=(9,9),xlabel='sex',ylabel='Salary Incentives',title='Fig 6: Stacked Barplot of Salary incentives against gender',stacked=True)\n",
    "print(\"\\n \\n \\033[1mHow to read a stacked bar chart:\\033[0m Of the females, 5.26% felt that salary incentives were good, 26.3% felt that they were poor,\\n 55.2% felt that they were the same as before,5.2% felt that they were very good and 7.8% felt that they were very poor.\\n \\n\")"
   ]
  },
  {
   "cell_type": "markdown",
   "metadata": {},
   "source": [
    "## (ii) Domestic Life "
   ]
  },
  {
   "cell_type": "code",
   "execution_count": 303,
   "metadata": {},
   "outputs": [
    {
     "data": {
      "text/html": [
       "<div>\n",
       "<style scoped>\n",
       "    .dataframe tbody tr th:only-of-type {\n",
       "        vertical-align: middle;\n",
       "    }\n",
       "\n",
       "    .dataframe tbody tr th {\n",
       "        vertical-align: top;\n",
       "    }\n",
       "\n",
       "    .dataframe thead th {\n",
       "        text-align: right;\n",
       "    }\n",
       "</style>\n",
       "<table border=\"1\" class=\"dataframe\">\n",
       "  <thead>\n",
       "    <tr style=\"text-align: right;\">\n",
       "      <th>domestic life</th>\n",
       "      <th>Did not have any affect</th>\n",
       "      <th>Slightly Improved</th>\n",
       "      <th>Slightly Negatively</th>\n",
       "      <th>Very Improved</th>\n",
       "      <th>Very Negatively</th>\n",
       "    </tr>\n",
       "    <tr>\n",
       "      <th>sex</th>\n",
       "      <th></th>\n",
       "      <th></th>\n",
       "      <th></th>\n",
       "      <th></th>\n",
       "      <th></th>\n",
       "    </tr>\n",
       "  </thead>\n",
       "  <tbody>\n",
       "    <tr>\n",
       "      <th>Female</th>\n",
       "      <td>22.222222</td>\n",
       "      <td>4.444444</td>\n",
       "      <td>57.777778</td>\n",
       "      <td>4.444444</td>\n",
       "      <td>11.111111</td>\n",
       "    </tr>\n",
       "    <tr>\n",
       "      <th>Male</th>\n",
       "      <td>31.034483</td>\n",
       "      <td>13.793103</td>\n",
       "      <td>51.724138</td>\n",
       "      <td>1.724138</td>\n",
       "      <td>1.724138</td>\n",
       "    </tr>\n",
       "  </tbody>\n",
       "</table>\n",
       "</div>"
      ],
      "text/plain": [
       "domestic life  Did not have any affect  Slightly Improved  \\\n",
       "sex                                                         \n",
       "Female                       22.222222           4.444444   \n",
       "Male                         31.034483          13.793103   \n",
       "\n",
       "domestic life  Slightly Negatively  Very Improved  Very Negatively  \n",
       "sex                                                                 \n",
       "Female                   57.777778       4.444444        11.111111  \n",
       "Male                     51.724138       1.724138         1.724138  "
      ]
     },
     "metadata": {},
     "output_type": "display_data"
    },
    {
     "data": {
      "text/plain": [
       "<AxesSubplot:title={'center':'Fig 7: Stacked Barplot of Domestic Life against gender'}, xlabel='sex', ylabel='Affect on Domestic Life'>"
      ]
     },
     "execution_count": 303,
     "metadata": {},
     "output_type": "execute_result"
    },
    {
     "data": {
      "image/png": "[encoded data removed]",
      "text/plain": [
       "<Figure size 648x648 with 1 Axes>"
      ]
     },
     "metadata": {
      "needs_background": "light"
     },
     "output_type": "display_data"
    }
   ],
   "source": [
    "ct1=pd.crosstab(df1['sex'],df1['domestic life'], normalize= 'index')*100\n",
    "display(ct1)\n",
    "ct1.plot.bar(figsize=(9,9),xlabel='sex',ylabel='Affect on Domestic Life',title='Fig 7: Stacked Barplot of Domestic Life against gender',stacked=True)"
   ]
  },
  {
   "cell_type": "markdown",
   "metadata": {},
   "source": [
    "## (iii) Personal Life"
   ]
  },
  {
   "cell_type": "code",
   "execution_count": 304,
   "metadata": {},
   "outputs": [
    {
     "data": {
      "text/html": [
       "<div>\n",
       "<style scoped>\n",
       "    .dataframe tbody tr th:only-of-type {\n",
       "        vertical-align: middle;\n",
       "    }\n",
       "\n",
       "    .dataframe tbody tr th {\n",
       "        vertical-align: top;\n",
       "    }\n",
       "\n",
       "    .dataframe thead th {\n",
       "        text-align: right;\n",
       "    }\n",
       "</style>\n",
       "<table border=\"1\" class=\"dataframe\">\n",
       "  <thead>\n",
       "    <tr style=\"text-align: right;\">\n",
       "      <th>personal life</th>\n",
       "      <th>Did not have any affect</th>\n",
       "      <th>Slightly Improved</th>\n",
       "      <th>Slightly Negatively</th>\n",
       "      <th>Very Improved</th>\n",
       "      <th>Very Negatively</th>\n",
       "    </tr>\n",
       "    <tr>\n",
       "      <th>sex</th>\n",
       "      <th></th>\n",
       "      <th></th>\n",
       "      <th></th>\n",
       "      <th></th>\n",
       "      <th></th>\n",
       "    </tr>\n",
       "  </thead>\n",
       "  <tbody>\n",
       "    <tr>\n",
       "      <th>Female</th>\n",
       "      <td>11.111111</td>\n",
       "      <td>13.333333</td>\n",
       "      <td>55.555556</td>\n",
       "      <td>2.222222</td>\n",
       "      <td>17.777778</td>\n",
       "    </tr>\n",
       "    <tr>\n",
       "      <th>Male</th>\n",
       "      <td>25.862069</td>\n",
       "      <td>18.965517</td>\n",
       "      <td>41.379310</td>\n",
       "      <td>3.448276</td>\n",
       "      <td>10.344828</td>\n",
       "    </tr>\n",
       "  </tbody>\n",
       "</table>\n",
       "</div>"
      ],
      "text/plain": [
       "personal life  Did not have any affect  Slightly Improved  \\\n",
       "sex                                                         \n",
       "Female                       11.111111          13.333333   \n",
       "Male                         25.862069          18.965517   \n",
       "\n",
       "personal life  Slightly Negatively  Very Improved  Very Negatively  \n",
       "sex                                                                 \n",
       "Female                   55.555556       2.222222        17.777778  \n",
       "Male                     41.379310       3.448276        10.344828  "
      ]
     },
     "metadata": {},
     "output_type": "display_data"
    },
    {
     "data": {
      "text/plain": [
       "<AxesSubplot:title={'center':'Fig 8: Stacked Barplot of Personal Life against gender'}, xlabel='sex', ylabel='Affect on Personal Life'>"
      ]
     },
     "execution_count": 304,
     "metadata": {},
     "output_type": "execute_result"
    },
    {
     "data": {
      "image/png": "[encoded data removed]",
      "text/plain": [
       "<Figure size 648x648 with 1 Axes>"
      ]
     },
     "metadata": {
      "needs_background": "light"
     },
     "output_type": "display_data"
    }
   ],
   "source": [
    "ct2=pd.crosstab(df1['sex'],df1['personal life'], normalize= 'index')*100\n",
    "display(ct2)\n",
    "ct2.plot.bar(figsize=(9,9),xlabel='sex',ylabel='Affect on Personal Life',title='Fig 8: Stacked Barplot of Personal Life against gender',stacked=True)"
   ]
  },
  {
   "cell_type": "markdown",
   "metadata": {},
   "source": [
    "## (iv) Layoff Fear"
   ]
  },
  {
   "cell_type": "code",
   "execution_count": 305,
   "metadata": {},
   "outputs": [
    {
     "data": {
      "text/html": [
       "<div>\n",
       "<style scoped>\n",
       "    .dataframe tbody tr th:only-of-type {\n",
       "        vertical-align: middle;\n",
       "    }\n",
       "\n",
       "    .dataframe tbody tr th {\n",
       "        vertical-align: top;\n",
       "    }\n",
       "\n",
       "    .dataframe thead th {\n",
       "        text-align: right;\n",
       "    }\n",
       "</style>\n",
       "<table border=\"1\" class=\"dataframe\">\n",
       "  <thead>\n",
       "    <tr style=\"text-align: right;\">\n",
       "      <th>layoff fear</th>\n",
       "      <th>Maybe</th>\n",
       "      <th>No</th>\n",
       "      <th>Yes</th>\n",
       "    </tr>\n",
       "    <tr>\n",
       "      <th>sex</th>\n",
       "      <th></th>\n",
       "      <th></th>\n",
       "      <th></th>\n",
       "    </tr>\n",
       "  </thead>\n",
       "  <tbody>\n",
       "    <tr>\n",
       "      <th>Female</th>\n",
       "      <td>20.512821</td>\n",
       "      <td>28.205128</td>\n",
       "      <td>51.282051</td>\n",
       "    </tr>\n",
       "    <tr>\n",
       "      <th>Male</th>\n",
       "      <td>20.408163</td>\n",
       "      <td>36.734694</td>\n",
       "      <td>42.857143</td>\n",
       "    </tr>\n",
       "  </tbody>\n",
       "</table>\n",
       "</div>"
      ],
      "text/plain": [
       "layoff fear      Maybe         No        Yes\n",
       "sex                                         \n",
       "Female       20.512821  28.205128  51.282051\n",
       "Male         20.408163  36.734694  42.857143"
      ]
     },
     "metadata": {},
     "output_type": "display_data"
    },
    {
     "data": {
      "text/plain": [
       "<AxesSubplot:title={'center':'Fig9: Stacked Barplot of Fear of Layoff against gender'}, xlabel='sex', ylabel='Fear of Layoff'>"
      ]
     },
     "execution_count": 305,
     "metadata": {},
     "output_type": "execute_result"
    },
    {
     "data": {
      "image/png": "[encoded data removed]",
      "text/plain": [
       "<Figure size 648x648 with 1 Axes>"
      ]
     },
     "metadata": {
      "needs_background": "light"
     },
     "output_type": "display_data"
    }
   ],
   "source": [
    "df3=df1[df1['layoff fear'] != 'The question doesn\\'t apply to my situation']\n",
    "ct3=pd.crosstab(df3['sex'],df3['layoff fear'], normalize= 'index')*100\n",
    "display(ct3)\n",
    "ct3.plot.bar(figsize=(9,9),xlabel='sex',ylabel='Fear of Layoff',title='Fig9: Stacked Barplot of Fear of Layoff against gender',stacked=True)"
   ]
  },
  {
   "cell_type": "markdown",
   "metadata": {},
   "source": [
    "## (v) Domestic Obligation"
   ]
  },
  {
   "cell_type": "code",
   "execution_count": 306,
   "metadata": {},
   "outputs": [
    {
     "data": {
      "text/html": [
       "<div>\n",
       "<style scoped>\n",
       "    .dataframe tbody tr th:only-of-type {\n",
       "        vertical-align: middle;\n",
       "    }\n",
       "\n",
       "    .dataframe tbody tr th {\n",
       "        vertical-align: top;\n",
       "    }\n",
       "\n",
       "    .dataframe thead th {\n",
       "        text-align: right;\n",
       "    }\n",
       "</style>\n",
       "<table border=\"1\" class=\"dataframe\">\n",
       "  <thead>\n",
       "    <tr style=\"text-align: right;\">\n",
       "      <th>domestic obligation</th>\n",
       "      <th>Never</th>\n",
       "      <th>Often</th>\n",
       "      <th>Rarely</th>\n",
       "      <th>Very often</th>\n",
       "    </tr>\n",
       "    <tr>\n",
       "      <th>sex</th>\n",
       "      <th></th>\n",
       "      <th></th>\n",
       "      <th></th>\n",
       "      <th></th>\n",
       "    </tr>\n",
       "  </thead>\n",
       "  <tbody>\n",
       "    <tr>\n",
       "      <th>Female</th>\n",
       "      <td>15.555556</td>\n",
       "      <td>40.000000</td>\n",
       "      <td>26.666667</td>\n",
       "      <td>17.777778</td>\n",
       "    </tr>\n",
       "    <tr>\n",
       "      <th>Male</th>\n",
       "      <td>24.137931</td>\n",
       "      <td>25.862069</td>\n",
       "      <td>44.827586</td>\n",
       "      <td>5.172414</td>\n",
       "    </tr>\n",
       "  </tbody>\n",
       "</table>\n",
       "</div>"
      ],
      "text/plain": [
       "domestic obligation      Never      Often     Rarely  Very often\n",
       "sex                                                             \n",
       "Female               15.555556  40.000000  26.666667   17.777778\n",
       "Male                 24.137931  25.862069  44.827586    5.172414"
      ]
     },
     "metadata": {},
     "output_type": "display_data"
    },
    {
     "data": {
      "text/plain": [
       "<AxesSubplot:title={'center':'Fig 10: Stacked Barplot of Domestic Obligation against gender'}, xlabel='sex', ylabel='Domestic Obligation'>"
      ]
     },
     "execution_count": 306,
     "metadata": {},
     "output_type": "execute_result"
    },
    {
     "data": {
      "image/png": "[encoded data removed]",
      "text/plain": [
       "<Figure size 648x648 with 1 Axes>"
      ]
     },
     "metadata": {
      "needs_background": "light"
     },
     "output_type": "display_data"
    }
   ],
   "source": [
    "ct5=pd.crosstab(df1['sex'],df1['domestic obligation'], normalize= 'index')*100\n",
    "display(ct5)\n",
    "ct5.plot.bar(figsize=(9,9),xlabel='sex',ylabel='Domestic Obligation',title='Fig 10: Stacked Barplot of Domestic Obligation against gender',stacked=True)"
   ]
  },
  {
   "cell_type": "markdown",
   "metadata": {},
   "source": [
    "## (vi) Background Noises"
   ]
  },
  {
   "cell_type": "code",
   "execution_count": 307,
   "metadata": {},
   "outputs": [
    {
     "data": {
      "text/html": [
       "<div>\n",
       "<style scoped>\n",
       "    .dataframe tbody tr th:only-of-type {\n",
       "        vertical-align: middle;\n",
       "    }\n",
       "\n",
       "    .dataframe tbody tr th {\n",
       "        vertical-align: top;\n",
       "    }\n",
       "\n",
       "    .dataframe thead th {\n",
       "        text-align: right;\n",
       "    }\n",
       "</style>\n",
       "<table border=\"1\" class=\"dataframe\">\n",
       "  <thead>\n",
       "    <tr style=\"text-align: right;\">\n",
       "      <th>background noises</th>\n",
       "      <th>No</th>\n",
       "      <th>Yes</th>\n",
       "    </tr>\n",
       "    <tr>\n",
       "      <th>sex</th>\n",
       "      <th></th>\n",
       "      <th></th>\n",
       "    </tr>\n",
       "  </thead>\n",
       "  <tbody>\n",
       "    <tr>\n",
       "      <th>Female</th>\n",
       "      <td>18.421053</td>\n",
       "      <td>81.578947</td>\n",
       "    </tr>\n",
       "    <tr>\n",
       "      <th>Male</th>\n",
       "      <td>46.153846</td>\n",
       "      <td>53.846154</td>\n",
       "    </tr>\n",
       "  </tbody>\n",
       "</table>\n",
       "</div>"
      ],
      "text/plain": [
       "background noises         No        Yes\n",
       "sex                                    \n",
       "Female             18.421053  81.578947\n",
       "Male               46.153846  53.846154"
      ]
     },
     "metadata": {},
     "output_type": "display_data"
    },
    {
     "data": {
      "text/plain": [
       "<AxesSubplot:title={'center':'Fig 11: Stacked Barplot of Background Noises against gender'}, xlabel='sex', ylabel='background noises'>"
      ]
     },
     "execution_count": 307,
     "metadata": {},
     "output_type": "execute_result"
    },
    {
     "data": {
      "image/png": "[encoded data removed]",
      "text/plain": [
       "<Figure size 576x576 with 1 Axes>"
      ]
     },
     "metadata": {
      "needs_background": "light"
     },
     "output_type": "display_data"
    }
   ],
   "source": [
    "df2=df2[df['background noises'] != 'The question doesn\\'t apply to my situation']\n",
    "ct6=pd.crosstab(df2['sex'],df2['background noises'], normalize= 'index')*100\n",
    "display(ct6)\n",
    "ct6.plot.bar(figsize=(8,8),xlabel='sex',ylabel='background noises',title='Fig 11: Stacked Barplot of Background Noises against gender',stacked=True)"
   ]
  },
  {
   "cell_type": "markdown",
   "metadata": {},
   "source": [
    "## (vi) Personal Calls from superiors/colleagues\n"
   ]
  },
  {
   "cell_type": "code",
   "execution_count": 308,
   "metadata": {},
   "outputs": [
    {
     "data": {
      "text/html": [
       "<div>\n",
       "<style scoped>\n",
       "    .dataframe tbody tr th:only-of-type {\n",
       "        vertical-align: middle;\n",
       "    }\n",
       "\n",
       "    .dataframe tbody tr th {\n",
       "        vertical-align: top;\n",
       "    }\n",
       "\n",
       "    .dataframe thead th {\n",
       "        text-align: right;\n",
       "    }\n",
       "</style>\n",
       "<table border=\"1\" class=\"dataframe\">\n",
       "  <thead>\n",
       "    <tr style=\"text-align: right;\">\n",
       "      <th>personal calls</th>\n",
       "      <th>Never</th>\n",
       "      <th>Often</th>\n",
       "      <th>Rarely</th>\n",
       "      <th>Very often</th>\n",
       "    </tr>\n",
       "    <tr>\n",
       "      <th>sex</th>\n",
       "      <th></th>\n",
       "      <th></th>\n",
       "      <th></th>\n",
       "      <th></th>\n",
       "    </tr>\n",
       "  </thead>\n",
       "  <tbody>\n",
       "    <tr>\n",
       "      <th>Female</th>\n",
       "      <td>15.555556</td>\n",
       "      <td>26.666667</td>\n",
       "      <td>51.111111</td>\n",
       "      <td>6.666667</td>\n",
       "    </tr>\n",
       "    <tr>\n",
       "      <th>Male</th>\n",
       "      <td>15.517241</td>\n",
       "      <td>22.413793</td>\n",
       "      <td>56.896552</td>\n",
       "      <td>5.172414</td>\n",
       "    </tr>\n",
       "  </tbody>\n",
       "</table>\n",
       "</div>"
      ],
      "text/plain": [
       "personal calls      Never      Often     Rarely  Very often\n",
       "sex                                                        \n",
       "Female          15.555556  26.666667  51.111111    6.666667\n",
       "Male            15.517241  22.413793  56.896552    5.172414"
      ]
     },
     "metadata": {},
     "output_type": "display_data"
    },
    {
     "data": {
      "text/plain": [
       "<AxesSubplot:title={'center':'Fig 12: Stacked Barplot of of personal against gender'}, xlabel='sex', ylabel='Personal Calls'>"
      ]
     },
     "execution_count": 308,
     "metadata": {},
     "output_type": "execute_result"
    },
    {
     "data": {
      "image/png": "[encoded data removed]",
      "text/plain": [
       "<Figure size 576x576 with 1 Axes>"
      ]
     },
     "metadata": {
      "needs_background": "light"
     },
     "output_type": "display_data"
    }
   ],
   "source": [
    "ct7=pd.crosstab(df1['sex'],df1['personal calls'], normalize= 'index')*100\n",
    "display(ct7)\n",
    "ct7.plot.bar(figsize=(8,8),xlabel='sex',ylabel='Personal Calls',title='Fig 12: Stacked Barplot of of personal against gender',stacked=True)"
   ]
  },
  {
   "cell_type": "markdown",
   "metadata": {},
   "source": [
    "## (vii) Silenced on calls/meets"
   ]
  },
  {
   "cell_type": "code",
   "execution_count": 309,
   "metadata": {},
   "outputs": [
    {
     "data": {
      "text/html": [
       "<div>\n",
       "<style scoped>\n",
       "    .dataframe tbody tr th:only-of-type {\n",
       "        vertical-align: middle;\n",
       "    }\n",
       "\n",
       "    .dataframe tbody tr th {\n",
       "        vertical-align: top;\n",
       "    }\n",
       "\n",
       "    .dataframe thead th {\n",
       "        text-align: right;\n",
       "    }\n",
       "</style>\n",
       "<table border=\"1\" class=\"dataframe\">\n",
       "  <thead>\n",
       "    <tr style=\"text-align: right;\">\n",
       "      <th>silenced</th>\n",
       "      <th>Never</th>\n",
       "      <th>Often</th>\n",
       "      <th>Rarely</th>\n",
       "      <th>Very often</th>\n",
       "    </tr>\n",
       "    <tr>\n",
       "      <th>sex</th>\n",
       "      <th></th>\n",
       "      <th></th>\n",
       "      <th></th>\n",
       "      <th></th>\n",
       "    </tr>\n",
       "  </thead>\n",
       "  <tbody>\n",
       "    <tr>\n",
       "      <th>Female</th>\n",
       "      <td>22.222222</td>\n",
       "      <td>24.444444</td>\n",
       "      <td>48.888889</td>\n",
       "      <td>4.444444</td>\n",
       "    </tr>\n",
       "    <tr>\n",
       "      <th>Male</th>\n",
       "      <td>31.034483</td>\n",
       "      <td>18.965517</td>\n",
       "      <td>48.275862</td>\n",
       "      <td>1.724138</td>\n",
       "    </tr>\n",
       "  </tbody>\n",
       "</table>\n",
       "</div>"
      ],
      "text/plain": [
       "silenced      Never      Often     Rarely  Very often\n",
       "sex                                                  \n",
       "Female    22.222222  24.444444  48.888889    4.444444\n",
       "Male      31.034483  18.965517  48.275862    1.724138"
      ]
     },
     "metadata": {},
     "output_type": "display_data"
    },
    {
     "data": {
      "text/plain": [
       "<AxesSubplot:title={'center':'Fig 13: Stacked Barplot of Silenced on calls/meetings against gender'}, xlabel='sex', ylabel='Silenced on calls/meetings'>"
      ]
     },
     "execution_count": 309,
     "metadata": {},
     "output_type": "execute_result"
    },
    {
     "data": {
      "image/png": "[encoded data removed]",
      "text/plain": [
       "<Figure size 576x576 with 1 Axes>"
      ]
     },
     "metadata": {
      "needs_background": "light"
     },
     "output_type": "display_data"
    }
   ],
   "source": [
    "ct8=pd.crosstab(df1['sex'],df1['silenced'], normalize= 'index')*100\n",
    "display(ct8)\n",
    "ct8.plot.bar(figsize=(8,8),xlabel='sex',ylabel='Silenced on calls/meetings',title='Fig 13: Stacked Barplot of Silenced on calls/meetings against gender',stacked=True)"
   ]
  },
  {
   "cell_type": "markdown",
   "metadata": {},
   "source": [
    "## (viii) Avoid contacting superiors/colleagues"
   ]
  },
  {
   "cell_type": "code",
   "execution_count": 310,
   "metadata": {},
   "outputs": [
    {
     "data": {
      "text/html": [
       "<div>\n",
       "<style scoped>\n",
       "    .dataframe tbody tr th:only-of-type {\n",
       "        vertical-align: middle;\n",
       "    }\n",
       "\n",
       "    .dataframe tbody tr th {\n",
       "        vertical-align: top;\n",
       "    }\n",
       "\n",
       "    .dataframe thead th {\n",
       "        text-align: right;\n",
       "    }\n",
       "</style>\n",
       "<table border=\"1\" class=\"dataframe\">\n",
       "  <thead>\n",
       "    <tr style=\"text-align: right;\">\n",
       "      <th>avoid contact</th>\n",
       "      <th>Never</th>\n",
       "      <th>Often</th>\n",
       "      <th>Rarely</th>\n",
       "      <th>Very often</th>\n",
       "    </tr>\n",
       "    <tr>\n",
       "      <th>sex</th>\n",
       "      <th></th>\n",
       "      <th></th>\n",
       "      <th></th>\n",
       "      <th></th>\n",
       "    </tr>\n",
       "  </thead>\n",
       "  <tbody>\n",
       "    <tr>\n",
       "      <th>Female</th>\n",
       "      <td>28.888889</td>\n",
       "      <td>26.666667</td>\n",
       "      <td>33.333333</td>\n",
       "      <td>11.111111</td>\n",
       "    </tr>\n",
       "    <tr>\n",
       "      <th>Male</th>\n",
       "      <td>50.000000</td>\n",
       "      <td>8.620690</td>\n",
       "      <td>41.379310</td>\n",
       "      <td>0.000000</td>\n",
       "    </tr>\n",
       "  </tbody>\n",
       "</table>\n",
       "</div>"
      ],
      "text/plain": [
       "avoid contact      Never      Often     Rarely  Very often\n",
       "sex                                                       \n",
       "Female         28.888889  26.666667  33.333333   11.111111\n",
       "Male           50.000000   8.620690  41.379310    0.000000"
      ]
     },
     "metadata": {},
     "output_type": "display_data"
    },
    {
     "data": {
      "text/plain": [
       "<AxesSubplot:title={'center':'Fig 14: Stacked Barplot of Avoiding contact against gender'}, xlabel='sex', ylabel='Did you avoid contact?'>"
      ]
     },
     "execution_count": 310,
     "metadata": {},
     "output_type": "execute_result"
    },
    {
     "data": {
      "image/png": "[encoded data removed]",
      "text/plain": [
       "<Figure size 576x576 with 1 Axes>"
      ]
     },
     "metadata": {
      "needs_background": "light"
     },
     "output_type": "display_data"
    }
   ],
   "source": [
    "ct9=pd.crosstab(df1['sex'],df1['avoid contact'], normalize= 'index')*100\n",
    "display(ct9)\n",
    "ct9.plot.bar(figsize=(8,8),xlabel='sex',ylabel='Did you avoid contact?',title='Fig 14: Stacked Barplot of Avoiding contact against gender',stacked=True)"
   ]
  },
  {
   "cell_type": "markdown",
   "metadata": {},
   "source": [
    "## (ix) Sexual Harassment"
   ]
  },
  {
   "cell_type": "code",
   "execution_count": 311,
   "metadata": {},
   "outputs": [
    {
     "data": {
      "text/html": [
       "<div>\n",
       "<style scoped>\n",
       "    .dataframe tbody tr th:only-of-type {\n",
       "        vertical-align: middle;\n",
       "    }\n",
       "\n",
       "    .dataframe tbody tr th {\n",
       "        vertical-align: top;\n",
       "    }\n",
       "\n",
       "    .dataframe thead th {\n",
       "        text-align: right;\n",
       "    }\n",
       "</style>\n",
       "<table border=\"1\" class=\"dataframe\">\n",
       "  <thead>\n",
       "    <tr style=\"text-align: right;\">\n",
       "      <th>sexual harassment</th>\n",
       "      <th>No</th>\n",
       "      <th>Yes</th>\n",
       "    </tr>\n",
       "    <tr>\n",
       "      <th>sex</th>\n",
       "      <th></th>\n",
       "      <th></th>\n",
       "    </tr>\n",
       "  </thead>\n",
       "  <tbody>\n",
       "    <tr>\n",
       "      <th>Female</th>\n",
       "      <td>84.444444</td>\n",
       "      <td>15.555556</td>\n",
       "    </tr>\n",
       "    <tr>\n",
       "      <th>Male</th>\n",
       "      <td>100.000000</td>\n",
       "      <td>0.000000</td>\n",
       "    </tr>\n",
       "  </tbody>\n",
       "</table>\n",
       "</div>"
      ],
      "text/plain": [
       "sexual harassment          No        Yes\n",
       "sex                                     \n",
       "Female              84.444444  15.555556\n",
       "Male               100.000000   0.000000"
      ]
     },
     "metadata": {},
     "output_type": "display_data"
    },
    {
     "data": {
      "text/plain": [
       "<AxesSubplot:title={'center':'Fig 15: Stacked Barplot of sexual harassment against gender'}, xlabel='sex', ylabel='Sexual Harassment'>"
      ]
     },
     "execution_count": 311,
     "metadata": {},
     "output_type": "execute_result"
    },
    {
     "data": {
      "image/png": "[encoded data removed]",
      "text/plain": [
       "<Figure size 540x540 with 1 Axes>"
      ]
     },
     "metadata": {
      "needs_background": "light"
     },
     "output_type": "display_data"
    }
   ],
   "source": [
    "ct10=pd.crosstab(df1['sex'],df1['sexual harassment'], normalize= 'index')*100\n",
    "display(ct10)\n",
    "ct10.plot.bar(figsize=(7.5,7.5),xlabel='sex',ylabel='Sexual Harassment',title='Fig 15: Stacked Barplot of sexual harassment against gender',stacked=True)"
   ]
  },
  {
   "cell_type": "markdown",
   "metadata": {},
   "source": [
    "## (x) Better Policies"
   ]
  },
  {
   "cell_type": "code",
   "execution_count": 312,
   "metadata": {},
   "outputs": [
    {
     "data": {
      "text/html": [
       "<div>\n",
       "<style scoped>\n",
       "    .dataframe tbody tr th:only-of-type {\n",
       "        vertical-align: middle;\n",
       "    }\n",
       "\n",
       "    .dataframe tbody tr th {\n",
       "        vertical-align: top;\n",
       "    }\n",
       "\n",
       "    .dataframe thead th {\n",
       "        text-align: right;\n",
       "    }\n",
       "</style>\n",
       "<table border=\"1\" class=\"dataframe\">\n",
       "  <thead>\n",
       "    <tr style=\"text-align: right;\">\n",
       "      <th>better policies</th>\n",
       "      <th>No</th>\n",
       "      <th>Yes</th>\n",
       "    </tr>\n",
       "    <tr>\n",
       "      <th>sex</th>\n",
       "      <th></th>\n",
       "      <th></th>\n",
       "    </tr>\n",
       "  </thead>\n",
       "  <tbody>\n",
       "    <tr>\n",
       "      <th>Female</th>\n",
       "      <td>24.444444</td>\n",
       "      <td>75.555556</td>\n",
       "    </tr>\n",
       "    <tr>\n",
       "      <th>Male</th>\n",
       "      <td>41.379310</td>\n",
       "      <td>58.620690</td>\n",
       "    </tr>\n",
       "  </tbody>\n",
       "</table>\n",
       "</div>"
      ],
      "text/plain": [
       "better policies         No        Yes\n",
       "sex                                  \n",
       "Female           24.444444  75.555556\n",
       "Male             41.379310  58.620690"
      ]
     },
     "metadata": {},
     "output_type": "display_data"
    },
    {
     "data": {
      "text/plain": [
       "<AxesSubplot:title={'center':'Fig 16: Stacked Barplot of better policies on calls/meetings against gender'}, xlabel='sex', ylabel='Need for Better Policies'>"
      ]
     },
     "execution_count": 312,
     "metadata": {},
     "output_type": "execute_result"
    },
    {
     "data": {
      "image/png": "[encoded data removed]",
      "text/plain": [
       "<Figure size 432x432 with 1 Axes>"
      ]
     },
     "metadata": {
      "needs_background": "light"
     },
     "output_type": "display_data"
    }
   ],
   "source": [
    "ct11=pd.crosstab(df1['sex'],df1['better policies'], normalize= 'index')*100\n",
    "display(ct11)\n",
    "ct11.plot.bar(figsize=(6,6),xlabel='sex',ylabel='Need for Better Policies',title='Fig 16: Stacked Barplot of better policies on calls/meetings against gender',stacked=True)"
   ]
  },
  {
   "cell_type": "markdown",
   "metadata": {},
   "source": [
    "## (xi) Biased Impact"
   ]
  },
  {
   "cell_type": "code",
   "execution_count": 313,
   "metadata": {},
   "outputs": [
    {
     "data": {
      "text/html": [
       "<div>\n",
       "<style scoped>\n",
       "    .dataframe tbody tr th:only-of-type {\n",
       "        vertical-align: middle;\n",
       "    }\n",
       "\n",
       "    .dataframe tbody tr th {\n",
       "        vertical-align: top;\n",
       "    }\n",
       "\n",
       "    .dataframe thead th {\n",
       "        text-align: right;\n",
       "    }\n",
       "</style>\n",
       "<table border=\"1\" class=\"dataframe\">\n",
       "  <thead>\n",
       "    <tr style=\"text-align: right;\">\n",
       "      <th>biased impact</th>\n",
       "      <th>Maybe</th>\n",
       "      <th>No</th>\n",
       "      <th>Yes</th>\n",
       "    </tr>\n",
       "    <tr>\n",
       "      <th>sex</th>\n",
       "      <th></th>\n",
       "      <th></th>\n",
       "      <th></th>\n",
       "    </tr>\n",
       "  </thead>\n",
       "  <tbody>\n",
       "    <tr>\n",
       "      <th>Female</th>\n",
       "      <td>37.777778</td>\n",
       "      <td>15.555556</td>\n",
       "      <td>46.666667</td>\n",
       "    </tr>\n",
       "    <tr>\n",
       "      <th>Male</th>\n",
       "      <td>25.862069</td>\n",
       "      <td>58.620690</td>\n",
       "      <td>15.517241</td>\n",
       "    </tr>\n",
       "  </tbody>\n",
       "</table>\n",
       "</div>"
      ],
      "text/plain": [
       "biased impact      Maybe         No        Yes\n",
       "sex                                           \n",
       "Female         37.777778  15.555556  46.666667\n",
       "Male           25.862069  58.620690  15.517241"
      ]
     },
     "metadata": {},
     "output_type": "display_data"
    },
    {
     "data": {
      "text/plain": [
       "<AxesSubplot:title={'center':'Fig 17: Stacked Barplot of Biased Impact of the Pandemic against gender'}, xlabel='sex', ylabel='Biased Impact'>"
      ]
     },
     "execution_count": 313,
     "metadata": {},
     "output_type": "execute_result"
    },
    {
     "data": {
      "image/png": "[encoded data removed]",
      "text/plain": [
       "<Figure size 432x432 with 1 Axes>"
      ]
     },
     "metadata": {
      "needs_background": "light"
     },
     "output_type": "display_data"
    }
   ],
   "source": [
    "ct12=pd.crosstab(df1['sex'],df1['biased impact'], normalize= 'index')*100\n",
    "display(ct12)\n",
    "ct12.plot.bar(figsize=(6,6),xlabel='sex',ylabel='Biased Impact',title='Fig 17: Stacked Barplot of Biased Impact of the Pandemic against gender',stacked=True)"
   ]
  },
  {
   "cell_type": "markdown",
   "metadata": {},
   "source": [
    "## HYPOTHETICAL TESTING (Since we are working with categorical data, we will be going for Chi- Square Test in all the cases)\n",
    "\n",
    "  - step 1 : Formulating hypothesis\n",
    "  - H0: Salary Incentives and employee gender are independent\n",
    "  - HA: Salary Incentives and employee gender are dependent\n",
    "  - step 2 : Choosing the test\n",
    "  - Chi-Square\n",
    "  - step 3 : Choosing significance level\n",
    "  - 0.05\n",
    "  - step 4 : Applying test and finding p-value\n",
    "  - step 5 : compare p-value and the significance level"
   ]
  },
  {
   "cell_type": "code",
   "execution_count": 314,
   "metadata": {},
   "outputs": [],
   "source": [
    "import scipy.stats as sp"
   ]
  },
  {
   "cell_type": "markdown",
   "metadata": {},
   "source": [
    " ## (i) Preferred Mode\n",
    "     \n",
    "  - Formulating hypothesis\n",
    "  - H0: Preferred Mode and employee gender are independent\n",
    "  - HA: Preferred Mode Incentives and employee gender are dependent\n",
    "  - conclusion : As p-value(0.85) is greater than 0.05 we accept the null hypothesis"
   ]
  },
  {
   "cell_type": "code",
   "execution_count": 315,
   "metadata": {},
   "outputs": [
    {
     "data": {
      "text/plain": [
       "(0.035162218448856586,\n",
       " 0.8512561464890104,\n",
       " 1,\n",
       " array([[24.02912621, 30.97087379],\n",
       "        [20.97087379, 27.02912621]]))"
      ]
     },
     "execution_count": 315,
     "metadata": {},
     "output_type": "execute_result"
    }
   ],
   "source": [
    "t1=pd.crosstab(df1['preferred mode'],df1['sex'])\n",
    "sp.chi2_contingency(t1)"
   ]
  },
  {
   "cell_type": "markdown",
   "metadata": {},
   "source": [
    "## (ii) Salary Incentives\n",
    "\n",
    "  - step 1 : Formulating hypothesis\n",
    "  - H0: Salary Incentives and employee gender are independent\n",
    "  - HA: Salary Incentives and employee gender are dependent\n",
    "  - conclusion : As p-value(0.07) is greater than 0.05 we accept the null hypothesis"
   ]
  },
  {
   "cell_type": "code",
   "execution_count": 316,
   "metadata": {},
   "outputs": [
    {
     "data": {
      "text/plain": [
       "(8.421909632588486,\n",
       " 0.07728992167640658,\n",
       " 4,\n",
       " array([[ 6.99029126,  9.00970874],\n",
       "        [11.7961165 , 15.2038835 ],\n",
       "        [20.53398058, 26.46601942],\n",
       "        [ 2.18446602,  2.81553398],\n",
       "        [ 3.49514563,  4.50485437]]))"
      ]
     },
     "execution_count": 316,
     "metadata": {},
     "output_type": "execute_result"
    }
   ],
   "source": [
    "t2=pd.crosstab(df1['salary incentives'],df1['sex'])\n",
    "sp.chi2_contingency(t2)"
   ]
  },
  {
   "cell_type": "markdown",
   "metadata": {},
   "source": [
    "## (iii) Domestic Life\n",
    "\n",
    "  - H0: Domestic Life and employee gender are independent\n",
    "  - HA: Domestic life and employee gender are dependent\n",
    "  - conclusion : As p-value(0.10) is greater than 0.05 we accept the null hypothesis"
   ]
  },
  {
   "cell_type": "code",
   "execution_count": 317,
   "metadata": {},
   "outputs": [
    {
     "data": {
      "text/plain": [
       "(7.652556102900929,\n",
       " 0.10516734131975748,\n",
       " 4,\n",
       " array([[12.23300971, 15.76699029],\n",
       "        [ 4.36893204,  5.63106796],\n",
       "        [24.46601942, 31.53398058],\n",
       "        [ 1.31067961,  1.68932039],\n",
       "        [ 2.62135922,  3.37864078]]))"
      ]
     },
     "execution_count": 317,
     "metadata": {},
     "output_type": "execute_result"
    }
   ],
   "source": [
    "t3=pd.crosstab(df1['domestic life'],df1['sex'])\n",
    "sp.chi2_contingency(t3)"
   ]
  },
  {
   "cell_type": "markdown",
   "metadata": {},
   "source": [
    "## (iv) Personal Life\n",
    "  - H0: Personal Life and employee gender are independent\n",
    "  - HA: Personal Life and employee gender are dependent\n",
    "  - conclusion : As p-value(0.2) is greater than 0.05 we accept the null hypothesis"
   ]
  },
  {
   "cell_type": "code",
   "execution_count": 318,
   "metadata": {},
   "outputs": [
    {
     "data": {
      "text/plain": [
       "(5.5578023929878455,\n",
       " 0.23469513196090308,\n",
       " 4,\n",
       " array([[ 8.73786408, 11.26213592],\n",
       "        [ 7.42718447,  9.57281553],\n",
       "        [21.40776699, 27.59223301],\n",
       "        [ 1.31067961,  1.68932039],\n",
       "        [ 6.11650485,  7.88349515]]))"
      ]
     },
     "execution_count": 318,
     "metadata": {},
     "output_type": "execute_result"
    }
   ],
   "source": [
    "t4=pd.crosstab(df1['personal life'],df1['sex'])\n",
    "sp.chi2_contingency(t4)"
   ]
  },
  {
   "cell_type": "markdown",
   "metadata": {},
   "source": [
    "## (v) Layoff Fear\n",
    "  - H0: Layoff Fear and employee gender are independent\n",
    "  - HA: Layoff Fear and employee gender are dependent\n",
    "  - conclusion : As p-value(0.6) is greater than 0.05 we accept the null hypothesis"
   ]
  },
  {
   "cell_type": "code",
   "execution_count": 319,
   "metadata": {},
   "outputs": [
    {
     "data": {
      "text/plain": [
       "(0.8103684710677374,\n",
       " 0.6668539413484604,\n",
       " 2,\n",
       " array([[ 7.97727273, 10.02272727],\n",
       "        [12.85227273, 16.14772727],\n",
       "        [18.17045455, 22.82954545]]))"
      ]
     },
     "execution_count": 319,
     "metadata": {},
     "output_type": "execute_result"
    }
   ],
   "source": [
    "t5=pd.crosstab(df3['layoff fear'],df3['sex'])\n",
    "sp.chi2_contingency(t5)"
   ]
  },
  {
   "cell_type": "markdown",
   "metadata": {},
   "source": [
    "## (vi) Stretched Hours\n",
    "  - H0: Stretched hours and employee gender are independent\n",
    "  - HA: Stretched Hours and employee gender are dependent\n",
    "  - conclusion : As p-value(0.8) is greater than 0.05 we accept the null hypothesis"
   ]
  },
  {
   "cell_type": "code",
   "execution_count": 320,
   "metadata": {},
   "outputs": [
    {
     "data": {
      "text/plain": [
       "(0.9099869135301206,\n",
       " 0.8230170925107007,\n",
       " 3,\n",
       " array([[ 7.86407767, 10.13592233],\n",
       "        [12.66990291, 16.33009709],\n",
       "        [ 6.55339806,  8.44660194],\n",
       "        [17.91262136, 23.08737864]]))"
      ]
     },
     "execution_count": 320,
     "metadata": {},
     "output_type": "execute_result"
    }
   ],
   "source": [
    "t6=pd.crosstab(df1['layoff fear'],df1['sex'])\n",
    "sp.chi2_contingency(t6)"
   ]
  },
  {
   "cell_type": "markdown",
   "metadata": {},
   "source": [
    "## (vii) Domestic Obligation\n",
    "  - H0: Domestic Obligation and employee gender are independent\n",
    "  - HA: Domestic Obligation and employee gender are dependent\n",
    "  - conclusion : As p-value(0.03) is less than 0.05 we accept the alternate hypothesis"
   ]
  },
  {
   "cell_type": "code",
   "execution_count": 321,
   "metadata": {},
   "outputs": [
    {
     "data": {
      "text/plain": [
       "(8.531816654139705,\n",
       " 0.03620893821874108,\n",
       " 3,\n",
       " array([[ 9.17475728, 11.82524272],\n",
       "        [14.41747573, 18.58252427],\n",
       "        [16.60194175, 21.39805825],\n",
       "        [ 4.80582524,  6.19417476]]))"
      ]
     },
     "execution_count": 321,
     "metadata": {},
     "output_type": "execute_result"
    }
   ],
   "source": [
    "t7=pd.crosstab(df1['domestic obligation'],df1['sex'])\n",
    "sp.chi2_contingency(t7)"
   ]
  },
  {
   "cell_type": "markdown",
   "metadata": {},
   "source": [
    "#### Further Analysing the replies by respective genders\n"
   ]
  },
  {
   "cell_type": "code",
   "execution_count": 448,
   "metadata": {},
   "outputs": [
    {
     "data": {
      "text/html": [
       "<div>\n",
       "<style scoped>\n",
       "    .dataframe tbody tr th:only-of-type {\n",
       "        vertical-align: middle;\n",
       "    }\n",
       "\n",
       "    .dataframe tbody tr th {\n",
       "        vertical-align: top;\n",
       "    }\n",
       "\n",
       "    .dataframe thead th {\n",
       "        text-align: right;\n",
       "    }\n",
       "</style>\n",
       "<table border=\"1\" class=\"dataframe\">\n",
       "  <thead>\n",
       "    <tr style=\"text-align: right;\">\n",
       "      <th>sex</th>\n",
       "      <th>Female</th>\n",
       "      <th>Male</th>\n",
       "    </tr>\n",
       "    <tr>\n",
       "      <th>domestic obligation</th>\n",
       "      <th></th>\n",
       "      <th></th>\n",
       "    </tr>\n",
       "  </thead>\n",
       "  <tbody>\n",
       "    <tr>\n",
       "      <th>Never</th>\n",
       "      <td>13.157895</td>\n",
       "      <td>26.923077</td>\n",
       "    </tr>\n",
       "    <tr>\n",
       "      <th>Often</th>\n",
       "      <td>42.105263</td>\n",
       "      <td>25.000000</td>\n",
       "    </tr>\n",
       "    <tr>\n",
       "      <th>Rarely</th>\n",
       "      <td>23.684211</td>\n",
       "      <td>42.307692</td>\n",
       "    </tr>\n",
       "    <tr>\n",
       "      <th>Very often</th>\n",
       "      <td>21.052632</td>\n",
       "      <td>5.769231</td>\n",
       "    </tr>\n",
       "  </tbody>\n",
       "</table>\n",
       "</div>"
      ],
      "text/plain": [
       "sex                     Female       Male\n",
       "domestic obligation                      \n",
       "Never                13.157895  26.923077\n",
       "Often                42.105263  25.000000\n",
       "Rarely               23.684211  42.307692\n",
       "Very often           21.052632   5.769231"
      ]
     },
     "metadata": {},
     "output_type": "display_data"
    },
    {
     "name": "stdout",
     "output_type": "stream",
     "text": [
      "\n",
      "\n",
      "\u001b[1m Of the people who had to fulfil domestic obligations before work, impact on personal lives is as follows: \n"
     ]
    },
    {
     "data": {
      "text/html": [
       "<div>\n",
       "<style scoped>\n",
       "    .dataframe tbody tr th:only-of-type {\n",
       "        vertical-align: middle;\n",
       "    }\n",
       "\n",
       "    .dataframe tbody tr th {\n",
       "        vertical-align: top;\n",
       "    }\n",
       "\n",
       "    .dataframe thead th {\n",
       "        text-align: right;\n",
       "    }\n",
       "</style>\n",
       "<table border=\"1\" class=\"dataframe\">\n",
       "  <thead>\n",
       "    <tr style=\"text-align: right;\">\n",
       "      <th>sex</th>\n",
       "      <th>Female</th>\n",
       "      <th>Male</th>\n",
       "    </tr>\n",
       "    <tr>\n",
       "      <th>personal life</th>\n",
       "      <th></th>\n",
       "      <th></th>\n",
       "    </tr>\n",
       "  </thead>\n",
       "  <tbody>\n",
       "    <tr>\n",
       "      <th>Did not have any affect</th>\n",
       "      <td>7.692308</td>\n",
       "      <td>16.666667</td>\n",
       "    </tr>\n",
       "    <tr>\n",
       "      <th>Slightly Improved</th>\n",
       "      <td>15.384615</td>\n",
       "      <td>27.777778</td>\n",
       "    </tr>\n",
       "    <tr>\n",
       "      <th>Slightly Negatively</th>\n",
       "      <td>53.846154</td>\n",
       "      <td>38.888889</td>\n",
       "    </tr>\n",
       "    <tr>\n",
       "      <th>Very Improved</th>\n",
       "      <td>3.846154</td>\n",
       "      <td>5.555556</td>\n",
       "    </tr>\n",
       "    <tr>\n",
       "      <th>Very Negatively</th>\n",
       "      <td>19.230769</td>\n",
       "      <td>11.111111</td>\n",
       "    </tr>\n",
       "  </tbody>\n",
       "</table>\n",
       "</div>"
      ],
      "text/plain": [
       "sex                         Female       Male\n",
       "personal life                                \n",
       "Did not have any affect   7.692308  16.666667\n",
       "Slightly Improved        15.384615  27.777778\n",
       "Slightly Negatively      53.846154  38.888889\n",
       "Very Improved             3.846154   5.555556\n",
       "Very Negatively          19.230769  11.111111"
      ]
     },
     "metadata": {},
     "output_type": "display_data"
    },
    {
     "name": "stdout",
     "output_type": "stream",
     "text": [
      "\n",
      "\n",
      "\u001b[1m Of the people who had to fulfil domestic obligations before work, impact on domestic lives is as follows: \n"
     ]
    },
    {
     "data": {
      "text/html": [
       "<div>\n",
       "<style scoped>\n",
       "    .dataframe tbody tr th:only-of-type {\n",
       "        vertical-align: middle;\n",
       "    }\n",
       "\n",
       "    .dataframe tbody tr th {\n",
       "        vertical-align: top;\n",
       "    }\n",
       "\n",
       "    .dataframe thead th {\n",
       "        text-align: right;\n",
       "    }\n",
       "</style>\n",
       "<table border=\"1\" class=\"dataframe\">\n",
       "  <thead>\n",
       "    <tr style=\"text-align: right;\">\n",
       "      <th>sex</th>\n",
       "      <th>Female</th>\n",
       "      <th>Male</th>\n",
       "    </tr>\n",
       "    <tr>\n",
       "      <th>domestic life</th>\n",
       "      <th></th>\n",
       "      <th></th>\n",
       "    </tr>\n",
       "  </thead>\n",
       "  <tbody>\n",
       "    <tr>\n",
       "      <th>Did not have any affect</th>\n",
       "      <td>11.538462</td>\n",
       "      <td>38.888889</td>\n",
       "    </tr>\n",
       "    <tr>\n",
       "      <th>Slightly Improved</th>\n",
       "      <td>3.846154</td>\n",
       "      <td>5.555556</td>\n",
       "    </tr>\n",
       "    <tr>\n",
       "      <th>Slightly Negatively</th>\n",
       "      <td>61.538462</td>\n",
       "      <td>50.000000</td>\n",
       "    </tr>\n",
       "    <tr>\n",
       "      <th>Very Improved</th>\n",
       "      <td>7.692308</td>\n",
       "      <td>5.555556</td>\n",
       "    </tr>\n",
       "    <tr>\n",
       "      <th>Very Negatively</th>\n",
       "      <td>15.384615</td>\n",
       "      <td>0.000000</td>\n",
       "    </tr>\n",
       "  </tbody>\n",
       "</table>\n",
       "</div>"
      ],
      "text/plain": [
       "sex                         Female       Male\n",
       "domestic life                                \n",
       "Did not have any affect  11.538462  38.888889\n",
       "Slightly Improved         3.846154   5.555556\n",
       "Slightly Negatively      61.538462  50.000000\n",
       "Very Improved             7.692308   5.555556\n",
       "Very Negatively          15.384615   0.000000"
      ]
     },
     "metadata": {},
     "output_type": "display_data"
    },
    {
     "name": "stdout",
     "output_type": "stream",
     "text": [
      "\n",
      "\n",
      "\u001b[1m Of the people who had to fulfil domestic obligations before work, all those who felt that the pandemic has a biased impact on some particular gender: \n"
     ]
    },
    {
     "data": {
      "text/html": [
       "<div>\n",
       "<style scoped>\n",
       "    .dataframe tbody tr th:only-of-type {\n",
       "        vertical-align: middle;\n",
       "    }\n",
       "\n",
       "    .dataframe tbody tr th {\n",
       "        vertical-align: top;\n",
       "    }\n",
       "\n",
       "    .dataframe thead th {\n",
       "        text-align: right;\n",
       "    }\n",
       "</style>\n",
       "<table border=\"1\" class=\"dataframe\">\n",
       "  <thead>\n",
       "    <tr style=\"text-align: right;\">\n",
       "      <th>sex</th>\n",
       "      <th>Female</th>\n",
       "      <th>Male</th>\n",
       "    </tr>\n",
       "    <tr>\n",
       "      <th>biased impact</th>\n",
       "      <th></th>\n",
       "      <th></th>\n",
       "    </tr>\n",
       "  </thead>\n",
       "  <tbody>\n",
       "    <tr>\n",
       "      <th>Maybe</th>\n",
       "      <td>26.923077</td>\n",
       "      <td>27.777778</td>\n",
       "    </tr>\n",
       "    <tr>\n",
       "      <th>No</th>\n",
       "      <td>7.692308</td>\n",
       "      <td>55.555556</td>\n",
       "    </tr>\n",
       "    <tr>\n",
       "      <th>Yes</th>\n",
       "      <td>65.384615</td>\n",
       "      <td>16.666667</td>\n",
       "    </tr>\n",
       "  </tbody>\n",
       "</table>\n",
       "</div>"
      ],
      "text/plain": [
       "sex               Female       Male\n",
       "biased impact                      \n",
       "Maybe          26.923077  27.777778\n",
       "No              7.692308  55.555556\n",
       "Yes            65.384615  16.666667"
      ]
     },
     "metadata": {},
     "output_type": "display_data"
    }
   ],
   "source": [
    "display(pd.crosstab(df1['domestic obligation'],df2['sex'],normalize='columns')*100)\n",
    "df_d=df1[(df1['domestic obligation']=='Often') | (df1['domestic obligation']=='Very often')]\n",
    "print(\"\\n\\n\\033[1m Of the people who had to fulfil domestic obligations before work, impact on personal lives is as follows: \")\n",
    "display(pd.crosstab(df_d['personal life'],df_d['sex'],normalize='columns')*100)\n",
    "print(\"\\n\\n\\033[1m Of the people who had to fulfil domestic obligations before work, impact on domestic lives is as follows: \")\n",
    "display(pd.crosstab(df_d['domestic life'],df_d['sex'],normalize='columns')*100)\n",
    "print(\"\\n\\n\\033[1m Of the people who had to fulfil domestic obligations before work, all those who felt that the pandemic has a biased impact on some particular gender: \")\n",
    "display(pd.crosstab(df_d['biased impact'],df_d['sex'],normalize='columns')*100)\n",
    "\n"
   ]
  },
  {
   "cell_type": "markdown",
   "metadata": {},
   "source": [
    "## (viii) Background Noises\n",
    "  - H0: Backgrond Noises and employee gender are independent\n",
    "  - HA: Backgrond Noises and employee gender are dependent\n",
    "  - conclusion : As p-value(0.012) is less than 0.05 we accept the Alternate hypothesis"
   ]
  },
  {
   "cell_type": "code",
   "execution_count": 322,
   "metadata": {},
   "outputs": [
    {
     "data": {
      "text/plain": [
       "(6.300540880948638,\n",
       " 0.012070113869168085,\n",
       " 1,\n",
       " array([[13.08888889, 17.91111111],\n",
       "        [24.91111111, 34.08888889]]))"
      ]
     },
     "execution_count": 322,
     "metadata": {},
     "output_type": "execute_result"
    }
   ],
   "source": [
    "t8=pd.crosstab(df2['background noises'],df2['sex'])\n",
    "sp.chi2_contingency(t8)"
   ]
  },
  {
   "cell_type": "markdown",
   "metadata": {},
   "source": [
    "#### Further Analysing the replies by respective genders"
   ]
  },
  {
   "cell_type": "code",
   "execution_count": 323,
   "metadata": {},
   "outputs": [
    {
     "data": {
      "text/html": [
       "<div>\n",
       "<style scoped>\n",
       "    .dataframe tbody tr th:only-of-type {\n",
       "        vertical-align: middle;\n",
       "    }\n",
       "\n",
       "    .dataframe tbody tr th {\n",
       "        vertical-align: top;\n",
       "    }\n",
       "\n",
       "    .dataframe thead th {\n",
       "        text-align: right;\n",
       "    }\n",
       "</style>\n",
       "<table border=\"1\" class=\"dataframe\">\n",
       "  <thead>\n",
       "    <tr style=\"text-align: right;\">\n",
       "      <th>sex</th>\n",
       "      <th>Female</th>\n",
       "      <th>Male</th>\n",
       "    </tr>\n",
       "    <tr>\n",
       "      <th>background noises</th>\n",
       "      <th></th>\n",
       "      <th></th>\n",
       "    </tr>\n",
       "  </thead>\n",
       "  <tbody>\n",
       "    <tr>\n",
       "      <th>No</th>\n",
       "      <td>18.421053</td>\n",
       "      <td>46.153846</td>\n",
       "    </tr>\n",
       "    <tr>\n",
       "      <th>Yes</th>\n",
       "      <td>81.578947</td>\n",
       "      <td>53.846154</td>\n",
       "    </tr>\n",
       "  </tbody>\n",
       "</table>\n",
       "</div>"
      ],
      "text/plain": [
       "sex                   Female       Male\n",
       "background noises                      \n",
       "No                 18.421053  46.153846\n",
       "Yes                81.578947  53.846154"
      ]
     },
     "metadata": {},
     "output_type": "display_data"
    },
    {
     "name": "stdout",
     "output_type": "stream",
     "text": [
      "\n",
      "\n",
      "\u001b[1m Of the people who faced background noises, all those who felt that the pandemic has a biased impact on some particular gender: \n"
     ]
    },
    {
     "data": {
      "text/html": [
       "<div>\n",
       "<style scoped>\n",
       "    .dataframe tbody tr th:only-of-type {\n",
       "        vertical-align: middle;\n",
       "    }\n",
       "\n",
       "    .dataframe tbody tr th {\n",
       "        vertical-align: top;\n",
       "    }\n",
       "\n",
       "    .dataframe thead th {\n",
       "        text-align: right;\n",
       "    }\n",
       "</style>\n",
       "<table border=\"1\" class=\"dataframe\">\n",
       "  <thead>\n",
       "    <tr style=\"text-align: right;\">\n",
       "      <th>sex</th>\n",
       "      <th>Female</th>\n",
       "      <th>Male</th>\n",
       "    </tr>\n",
       "    <tr>\n",
       "      <th>biased impact</th>\n",
       "      <th></th>\n",
       "      <th></th>\n",
       "    </tr>\n",
       "  </thead>\n",
       "  <tbody>\n",
       "    <tr>\n",
       "      <th>Maybe</th>\n",
       "      <td>35.483871</td>\n",
       "      <td>25.000000</td>\n",
       "    </tr>\n",
       "    <tr>\n",
       "      <th>No</th>\n",
       "      <td>16.129032</td>\n",
       "      <td>60.714286</td>\n",
       "    </tr>\n",
       "    <tr>\n",
       "      <th>Yes</th>\n",
       "      <td>48.387097</td>\n",
       "      <td>14.285714</td>\n",
       "    </tr>\n",
       "  </tbody>\n",
       "</table>\n",
       "</div>"
      ],
      "text/plain": [
       "sex               Female       Male\n",
       "biased impact                      \n",
       "Maybe          35.483871  25.000000\n",
       "No             16.129032  60.714286\n",
       "Yes            48.387097  14.285714"
      ]
     },
     "metadata": {},
     "output_type": "display_data"
    },
    {
     "name": "stdout",
     "output_type": "stream",
     "text": [
      "\n",
      "\n",
      "\u001b[1m Of the people who faced background noises, all those who felt that the HR Department could have devised better polices\n"
     ]
    },
    {
     "data": {
      "text/html": [
       "<div>\n",
       "<style scoped>\n",
       "    .dataframe tbody tr th:only-of-type {\n",
       "        vertical-align: middle;\n",
       "    }\n",
       "\n",
       "    .dataframe tbody tr th {\n",
       "        vertical-align: top;\n",
       "    }\n",
       "\n",
       "    .dataframe thead th {\n",
       "        text-align: right;\n",
       "    }\n",
       "</style>\n",
       "<table border=\"1\" class=\"dataframe\">\n",
       "  <thead>\n",
       "    <tr style=\"text-align: right;\">\n",
       "      <th>sex</th>\n",
       "      <th>Female</th>\n",
       "      <th>Male</th>\n",
       "    </tr>\n",
       "    <tr>\n",
       "      <th>better policies</th>\n",
       "      <th></th>\n",
       "      <th></th>\n",
       "    </tr>\n",
       "  </thead>\n",
       "  <tbody>\n",
       "    <tr>\n",
       "      <th>No</th>\n",
       "      <td>25.806452</td>\n",
       "      <td>28.571429</td>\n",
       "    </tr>\n",
       "    <tr>\n",
       "      <th>Yes</th>\n",
       "      <td>74.193548</td>\n",
       "      <td>71.428571</td>\n",
       "    </tr>\n",
       "  </tbody>\n",
       "</table>\n",
       "</div>"
      ],
      "text/plain": [
       "sex                 Female       Male\n",
       "better policies                      \n",
       "No               25.806452  28.571429\n",
       "Yes              74.193548  71.428571"
      ]
     },
     "metadata": {},
     "output_type": "display_data"
    }
   ],
   "source": [
    "display(pd.crosstab(df2['background noises'],df2['sex'],normalize='columns')*100)\n",
    "df6=df1[df1['background noises']=='Yes']\n",
    "print(\"\\n\\n\\033[1m Of the people who faced background noises, all those who felt that the pandemic has a biased impact on some particular gender: \")\n",
    "display(pd.crosstab(df6['biased impact'],df6['sex'],normalize='columns')*100)\n",
    "print(\"\\n\\n\\033[1m Of the people who faced background noises, all those who felt that the HR Department could have devised better polices\")\n",
    "display(pd.crosstab(df6['better policies'],df6['sex'],normalize='columns')*100)\n"
   ]
  },
  {
   "cell_type": "markdown",
   "metadata": {},
   "source": [
    "## (ix) Personal Calls\n",
    "  - H0: Domestic Obligation and employee gender are independent\n",
    "  - HA: Domestic Obligation and employee gender are dependent\n",
    "  - conclusion : As p-value(0.9) is greater than 0.05 we accept the null hypothesis"
   ]
  },
  {
   "cell_type": "code",
   "execution_count": 324,
   "metadata": {},
   "outputs": [
    {
     "data": {
      "text/plain": [
       "(0.44197824302134636,\n",
       " 0.9314405586217256,\n",
       " 3,\n",
       " array([[ 6.99029126,  9.00970874],\n",
       "        [10.9223301 , 14.0776699 ],\n",
       "        [24.46601942, 31.53398058],\n",
       "        [ 2.62135922,  3.37864078]]))"
      ]
     },
     "execution_count": 324,
     "metadata": {},
     "output_type": "execute_result"
    }
   ],
   "source": [
    "t9=pd.crosstab(df1['personal calls'],df1['sex'])\n",
    "sp.chi2_contingency(t9)"
   ]
  },
  {
   "cell_type": "markdown",
   "metadata": {},
   "source": [
    "## (x) Silenced\n",
    "  - H0: Silenced and employee gender are independent\n",
    "  - HA: Silenced Obligation and employee gender are dependent\n",
    "  - conclusion : As p-value(0.63) is greater than 0.05 we accept the null hypothesis"
   ]
  },
  {
   "cell_type": "code",
   "execution_count": 325,
   "metadata": {},
   "outputs": [
    {
     "data": {
      "text/plain": [
       "(1.7257620872103627,\n",
       " 0.6312215642282335,\n",
       " 3,\n",
       " array([[12.23300971, 15.76699029],\n",
       "        [ 9.61165049, 12.38834951],\n",
       "        [21.84466019, 28.15533981],\n",
       "        [ 1.31067961,  1.68932039]]))"
      ]
     },
     "execution_count": 325,
     "metadata": {},
     "output_type": "execute_result"
    }
   ],
   "source": [
    "t10=pd.crosstab(df1['silenced'],df1['sex'])\n",
    "sp.chi2_contingency(t10)"
   ]
  },
  {
   "cell_type": "markdown",
   "metadata": {},
   "source": [
    "## (xi) Avoid Contact\n",
    "  - H0: Avoid Contact and employee gender are independent\n",
    "  - HA: Avoid Contact and employee gender are dependent\n",
    "  - conclusion : As p-value(0.002) is less than 0.05 we accept the Alternate hypothesis"
   ]
  },
  {
   "cell_type": "code",
   "execution_count": 326,
   "metadata": {},
   "outputs": [
    {
     "data": {
      "text/plain": [
       "(14.64706324026811,\n",
       " 0.0021445015532206547,\n",
       " 3,\n",
       " array([[18.34951456, 23.65048544],\n",
       "        [ 7.42718447,  9.57281553],\n",
       "        [17.03883495, 21.96116505],\n",
       "        [ 2.18446602,  2.81553398]]))"
      ]
     },
     "execution_count": 326,
     "metadata": {},
     "output_type": "execute_result"
    }
   ],
   "source": [
    "t11=pd.crosstab(df1['avoid contact'],df1['sex'])\n",
    "sp.chi2_contingency(t11)"
   ]
  },
  {
   "cell_type": "markdown",
   "metadata": {},
   "source": [
    "#### Further Analysing the replies by respective genders"
   ]
  },
  {
   "cell_type": "code",
   "execution_count": 360,
   "metadata": {},
   "outputs": [
    {
     "data": {
      "text/html": [
       "<div>\n",
       "<style scoped>\n",
       "    .dataframe tbody tr th:only-of-type {\n",
       "        vertical-align: middle;\n",
       "    }\n",
       "\n",
       "    .dataframe tbody tr th {\n",
       "        vertical-align: top;\n",
       "    }\n",
       "\n",
       "    .dataframe thead th {\n",
       "        text-align: right;\n",
       "    }\n",
       "</style>\n",
       "<table border=\"1\" class=\"dataframe\">\n",
       "  <thead>\n",
       "    <tr style=\"text-align: right;\">\n",
       "      <th>sex</th>\n",
       "      <th>Female</th>\n",
       "      <th>Male</th>\n",
       "    </tr>\n",
       "    <tr>\n",
       "      <th>avoid contact</th>\n",
       "      <th></th>\n",
       "      <th></th>\n",
       "    </tr>\n",
       "  </thead>\n",
       "  <tbody>\n",
       "    <tr>\n",
       "      <th>Never</th>\n",
       "      <td>28.888889</td>\n",
       "      <td>50.00000</td>\n",
       "    </tr>\n",
       "    <tr>\n",
       "      <th>Often</th>\n",
       "      <td>26.666667</td>\n",
       "      <td>8.62069</td>\n",
       "    </tr>\n",
       "    <tr>\n",
       "      <th>Rarely</th>\n",
       "      <td>33.333333</td>\n",
       "      <td>41.37931</td>\n",
       "    </tr>\n",
       "    <tr>\n",
       "      <th>Very often</th>\n",
       "      <td>11.111111</td>\n",
       "      <td>0.00000</td>\n",
       "    </tr>\n",
       "  </tbody>\n",
       "</table>\n",
       "</div>"
      ],
      "text/plain": [
       "sex               Female      Male\n",
       "avoid contact                     \n",
       "Never          28.888889  50.00000\n",
       "Often          26.666667   8.62069\n",
       "Rarely         33.333333  41.37931\n",
       "Very often     11.111111   0.00000"
      ]
     },
     "metadata": {},
     "output_type": "display_data"
    },
    {
     "name": "stdout",
     "output_type": "stream",
     "text": [
      "\n",
      "\n",
      "\u001b[1m Of the people who have avoided contact 'Often' and 'Very Often', all those who faced sexual harassment: \n"
     ]
    },
    {
     "data": {
      "text/html": [
       "<div>\n",
       "<style scoped>\n",
       "    .dataframe tbody tr th:only-of-type {\n",
       "        vertical-align: middle;\n",
       "    }\n",
       "\n",
       "    .dataframe tbody tr th {\n",
       "        vertical-align: top;\n",
       "    }\n",
       "\n",
       "    .dataframe thead th {\n",
       "        text-align: right;\n",
       "    }\n",
       "</style>\n",
       "<table border=\"1\" class=\"dataframe\">\n",
       "  <thead>\n",
       "    <tr style=\"text-align: right;\">\n",
       "      <th>sex</th>\n",
       "      <th>Female</th>\n",
       "      <th>Male</th>\n",
       "    </tr>\n",
       "    <tr>\n",
       "      <th>sexual harassment</th>\n",
       "      <th></th>\n",
       "      <th></th>\n",
       "    </tr>\n",
       "  </thead>\n",
       "  <tbody>\n",
       "    <tr>\n",
       "      <th>No</th>\n",
       "      <td>70.588235</td>\n",
       "      <td>100.0</td>\n",
       "    </tr>\n",
       "    <tr>\n",
       "      <th>Yes</th>\n",
       "      <td>29.411765</td>\n",
       "      <td>0.0</td>\n",
       "    </tr>\n",
       "  </tbody>\n",
       "</table>\n",
       "</div>"
      ],
      "text/plain": [
       "sex                   Female   Male\n",
       "sexual harassment                  \n",
       "No                 70.588235  100.0\n",
       "Yes                29.411765    0.0"
      ]
     },
     "metadata": {},
     "output_type": "display_data"
    },
    {
     "name": "stdout",
     "output_type": "stream",
     "text": [
      "\n",
      "\n",
      "\u001b[1m Of the people who have avoided contact 'Often' and 'Very Often', all those who felt that the pandemic has a biased impact on some particular gender: \n"
     ]
    },
    {
     "data": {
      "text/html": [
       "<div>\n",
       "<style scoped>\n",
       "    .dataframe tbody tr th:only-of-type {\n",
       "        vertical-align: middle;\n",
       "    }\n",
       "\n",
       "    .dataframe tbody tr th {\n",
       "        vertical-align: top;\n",
       "    }\n",
       "\n",
       "    .dataframe thead th {\n",
       "        text-align: right;\n",
       "    }\n",
       "</style>\n",
       "<table border=\"1\" class=\"dataframe\">\n",
       "  <thead>\n",
       "    <tr style=\"text-align: right;\">\n",
       "      <th>sex</th>\n",
       "      <th>Female</th>\n",
       "      <th>Male</th>\n",
       "    </tr>\n",
       "    <tr>\n",
       "      <th>biased impact</th>\n",
       "      <th></th>\n",
       "      <th></th>\n",
       "    </tr>\n",
       "  </thead>\n",
       "  <tbody>\n",
       "    <tr>\n",
       "      <th>Maybe</th>\n",
       "      <td>23.529412</td>\n",
       "      <td>20.0</td>\n",
       "    </tr>\n",
       "    <tr>\n",
       "      <th>No</th>\n",
       "      <td>5.882353</td>\n",
       "      <td>40.0</td>\n",
       "    </tr>\n",
       "    <tr>\n",
       "      <th>Yes</th>\n",
       "      <td>70.588235</td>\n",
       "      <td>40.0</td>\n",
       "    </tr>\n",
       "  </tbody>\n",
       "</table>\n",
       "</div>"
      ],
      "text/plain": [
       "sex               Female  Male\n",
       "biased impact                 \n",
       "Maybe          23.529412  20.0\n",
       "No              5.882353  40.0\n",
       "Yes            70.588235  40.0"
      ]
     },
     "metadata": {},
     "output_type": "display_data"
    },
    {
     "name": "stdout",
     "output_type": "stream",
     "text": [
      "\n",
      "\n",
      "\u001b[1m Of the people who have avoided contact  'Often' and 'Very Often', all those who felt that the HR Department could have devised better polices\n"
     ]
    },
    {
     "data": {
      "text/html": [
       "<div>\n",
       "<style scoped>\n",
       "    .dataframe tbody tr th:only-of-type {\n",
       "        vertical-align: middle;\n",
       "    }\n",
       "\n",
       "    .dataframe tbody tr th {\n",
       "        vertical-align: top;\n",
       "    }\n",
       "\n",
       "    .dataframe thead th {\n",
       "        text-align: right;\n",
       "    }\n",
       "</style>\n",
       "<table border=\"1\" class=\"dataframe\">\n",
       "  <thead>\n",
       "    <tr style=\"text-align: right;\">\n",
       "      <th>sex</th>\n",
       "      <th>Female</th>\n",
       "      <th>Male</th>\n",
       "    </tr>\n",
       "    <tr>\n",
       "      <th>hr policies</th>\n",
       "      <th></th>\n",
       "      <th></th>\n",
       "    </tr>\n",
       "  </thead>\n",
       "  <tbody>\n",
       "    <tr>\n",
       "      <th>No</th>\n",
       "      <td>35.294118</td>\n",
       "      <td>60.0</td>\n",
       "    </tr>\n",
       "    <tr>\n",
       "      <th>Partly</th>\n",
       "      <td>47.058824</td>\n",
       "      <td>40.0</td>\n",
       "    </tr>\n",
       "    <tr>\n",
       "      <th>Yes</th>\n",
       "      <td>17.647059</td>\n",
       "      <td>0.0</td>\n",
       "    </tr>\n",
       "  </tbody>\n",
       "</table>\n",
       "</div>"
      ],
      "text/plain": [
       "sex             Female  Male\n",
       "hr policies                 \n",
       "No           35.294118  60.0\n",
       "Partly       47.058824  40.0\n",
       "Yes          17.647059   0.0"
      ]
     },
     "metadata": {},
     "output_type": "display_data"
    }
   ],
   "source": [
    "display(pd.crosstab(df1['avoid contact'],df1['sex'],normalize='columns')*100)\n",
    "df7=df1[(df1['avoid contact']=='Often') | (df1['avoid contact']=='Very often')]\n",
    "print(\"\\n\\n\\033[1m Of the people who have avoided contact 'Often' and 'Very Often', all those who faced sexual harassment: \")\n",
    "display(pd.crosstab(df7['sexual harassment'],df7['sex'],normalize='columns')*100)\n",
    "print(\"\\n\\n\\033[1m Of the people who have avoided contact 'Often' and 'Very Often', all those who felt that the pandemic has a biased impact on some particular gender: \")\n",
    "display(pd.crosstab(df7['biased impact'],df7['sex'],normalize='columns')*100)\n",
    "print(\"\\n\\n\\033[1m Of the people who have avoided contact  'Often' and 'Very Often', all those who felt that the HR Department could have devised better polices\")\n",
    "display(pd.crosstab(df7['hr policies'],df7['sex'],normalize='columns')*100)\n",
    "\n"
   ]
  },
  {
   "cell_type": "markdown",
   "metadata": {},
   "source": [
    "##  (xii) Sexual Harassment\n",
    "  - H0: Sexual Harassment and employee gender are independent\n",
    "  - HA: Sexual Harassment and employee gender are dependent\n",
    "  - conclusion : As p-value(0.002) is less than 0.05 we accept the Alternate hypothesis"
   ]
  },
  {
   "cell_type": "code",
   "execution_count": 361,
   "metadata": {},
   "outputs": [
    {
     "data": {
      "text/plain": [
       "(14.64706324026811,\n",
       " 0.0021445015532206547,\n",
       " 3,\n",
       " array([[18.34951456, 23.65048544],\n",
       "        [ 7.42718447,  9.57281553],\n",
       "        [17.03883495, 21.96116505],\n",
       "        [ 2.18446602,  2.81553398]]))"
      ]
     },
     "execution_count": 361,
     "metadata": {},
     "output_type": "execute_result"
    }
   ],
   "source": [
    "t12=pd.crosstab(df1['avoid contact'],df1['sex'])\n",
    "sp.chi2_contingency(t12)"
   ]
  },
  {
   "cell_type": "markdown",
   "metadata": {},
   "source": [
    "#### Further Analysing the replies by respective genders"
   ]
  },
  {
   "cell_type": "code",
   "execution_count": 362,
   "metadata": {},
   "outputs": [
    {
     "data": {
      "text/html": [
       "<div>\n",
       "<style scoped>\n",
       "    .dataframe tbody tr th:only-of-type {\n",
       "        vertical-align: middle;\n",
       "    }\n",
       "\n",
       "    .dataframe tbody tr th {\n",
       "        vertical-align: top;\n",
       "    }\n",
       "\n",
       "    .dataframe thead th {\n",
       "        text-align: right;\n",
       "    }\n",
       "</style>\n",
       "<table border=\"1\" class=\"dataframe\">\n",
       "  <thead>\n",
       "    <tr style=\"text-align: right;\">\n",
       "      <th>sex</th>\n",
       "      <th>Female</th>\n",
       "      <th>Male</th>\n",
       "    </tr>\n",
       "    <tr>\n",
       "      <th>sexual harassment</th>\n",
       "      <th></th>\n",
       "      <th></th>\n",
       "    </tr>\n",
       "  </thead>\n",
       "  <tbody>\n",
       "    <tr>\n",
       "      <th>No</th>\n",
       "      <td>84.444444</td>\n",
       "      <td>100.0</td>\n",
       "    </tr>\n",
       "    <tr>\n",
       "      <th>Yes</th>\n",
       "      <td>15.555556</td>\n",
       "      <td>0.0</td>\n",
       "    </tr>\n",
       "  </tbody>\n",
       "</table>\n",
       "</div>"
      ],
      "text/plain": [
       "sex                   Female   Male\n",
       "sexual harassment                  \n",
       "No                 84.444444  100.0\n",
       "Yes                15.555556    0.0"
      ]
     },
     "metadata": {},
     "output_type": "display_data"
    },
    {
     "name": "stdout",
     "output_type": "stream",
     "text": [
      "\n",
      "\n",
      "\u001b[1m Of the people who faced sexual harassment, all those who felt that the pandemic has a biased impact on some particular gender: \n"
     ]
    },
    {
     "data": {
      "text/html": [
       "<div>\n",
       "<style scoped>\n",
       "    .dataframe tbody tr th:only-of-type {\n",
       "        vertical-align: middle;\n",
       "    }\n",
       "\n",
       "    .dataframe tbody tr th {\n",
       "        vertical-align: top;\n",
       "    }\n",
       "\n",
       "    .dataframe thead th {\n",
       "        text-align: right;\n",
       "    }\n",
       "</style>\n",
       "<table border=\"1\" class=\"dataframe\">\n",
       "  <thead>\n",
       "    <tr style=\"text-align: right;\">\n",
       "      <th>sex</th>\n",
       "      <th>Female</th>\n",
       "    </tr>\n",
       "    <tr>\n",
       "      <th>biased impact</th>\n",
       "      <th></th>\n",
       "    </tr>\n",
       "  </thead>\n",
       "  <tbody>\n",
       "    <tr>\n",
       "      <th>Yes</th>\n",
       "      <td>100.0</td>\n",
       "    </tr>\n",
       "  </tbody>\n",
       "</table>\n",
       "</div>"
      ],
      "text/plain": [
       "sex            Female\n",
       "biased impact        \n",
       "Yes             100.0"
      ]
     },
     "metadata": {},
     "output_type": "display_data"
    },
    {
     "name": "stdout",
     "output_type": "stream",
     "text": [
      "\n",
      "\n",
      "\u001b[1m Of the people who faced sexual harassment, all those who felt that the HR Department could have devised better polices: \n"
     ]
    },
    {
     "data": {
      "text/html": [
       "<div>\n",
       "<style scoped>\n",
       "    .dataframe tbody tr th:only-of-type {\n",
       "        vertical-align: middle;\n",
       "    }\n",
       "\n",
       "    .dataframe tbody tr th {\n",
       "        vertical-align: top;\n",
       "    }\n",
       "\n",
       "    .dataframe thead th {\n",
       "        text-align: right;\n",
       "    }\n",
       "</style>\n",
       "<table border=\"1\" class=\"dataframe\">\n",
       "  <thead>\n",
       "    <tr style=\"text-align: right;\">\n",
       "      <th>sex</th>\n",
       "      <th>Female</th>\n",
       "    </tr>\n",
       "    <tr>\n",
       "      <th>better policies</th>\n",
       "      <th></th>\n",
       "    </tr>\n",
       "  </thead>\n",
       "  <tbody>\n",
       "    <tr>\n",
       "      <th>Yes</th>\n",
       "      <td>100.0</td>\n",
       "    </tr>\n",
       "  </tbody>\n",
       "</table>\n",
       "</div>"
      ],
      "text/plain": [
       "sex              Female\n",
       "better policies        \n",
       "Yes               100.0"
      ]
     },
     "metadata": {},
     "output_type": "display_data"
    }
   ],
   "source": [
    "display(pd.crosstab(df1['sexual harassment'],df1['sex'],normalize='columns')*100)\n",
    "df5=df1[df1['sexual harassment']=='Yes']\n",
    "print(\"\\n\\n\\033[1m Of the people who faced sexual harassment, all those who felt that the pandemic has a biased impact on some particular gender: \")\n",
    "display(pd.crosstab(df5['biased impact'],df5['sex'],normalize='columns')*100)\n",
    "print(\"\\n\\n\\033[1m Of the people who faced sexual harassment, all those who felt that the HR Department could have devised better polices: \")\n",
    "display(pd.crosstab(df5['better policies'],df5['sex'],normalize='columns')*100)"
   ]
  },
  {
   "cell_type": "markdown",
   "metadata": {},
   "source": [
    "### Analysing Comfort level while sharing about incidents of sexual harassment"
   ]
  },
  {
   "cell_type": "code",
   "execution_count": 363,
   "metadata": {},
   "outputs": [
    {
     "name": "stdout",
     "output_type": "stream",
     "text": [
      "\u001b[1m Summary of Data:\u001b[0m \n"
     ]
    },
    {
     "data": {
      "text/html": [
       "<div>\n",
       "<style scoped>\n",
       "    .dataframe tbody tr th:only-of-type {\n",
       "        vertical-align: middle;\n",
       "    }\n",
       "\n",
       "    .dataframe tbody tr th {\n",
       "        vertical-align: top;\n",
       "    }\n",
       "\n",
       "    .dataframe thead th {\n",
       "        text-align: right;\n",
       "    }\n",
       "</style>\n",
       "<table border=\"1\" class=\"dataframe\">\n",
       "  <thead>\n",
       "    <tr style=\"text-align: right;\">\n",
       "      <th></th>\n",
       "      <th>comfort</th>\n",
       "      <th>Unnamed: 25</th>\n",
       "      <th>Clusters by Sex, Marital Status and preferred mode of working</th>\n",
       "    </tr>\n",
       "  </thead>\n",
       "  <tbody>\n",
       "    <tr>\n",
       "      <th>count</th>\n",
       "      <td>7.000000</td>\n",
       "      <td>0.0</td>\n",
       "      <td>7.000000</td>\n",
       "    </tr>\n",
       "    <tr>\n",
       "      <th>mean</th>\n",
       "      <td>3.142857</td>\n",
       "      <td>NaN</td>\n",
       "      <td>0.571429</td>\n",
       "    </tr>\n",
       "    <tr>\n",
       "      <th>std</th>\n",
       "      <td>0.899735</td>\n",
       "      <td>NaN</td>\n",
       "      <td>0.534522</td>\n",
       "    </tr>\n",
       "    <tr>\n",
       "      <th>min</th>\n",
       "      <td>2.000000</td>\n",
       "      <td>NaN</td>\n",
       "      <td>0.000000</td>\n",
       "    </tr>\n",
       "    <tr>\n",
       "      <th>25%</th>\n",
       "      <td>2.500000</td>\n",
       "      <td>NaN</td>\n",
       "      <td>0.000000</td>\n",
       "    </tr>\n",
       "    <tr>\n",
       "      <th>50%</th>\n",
       "      <td>3.000000</td>\n",
       "      <td>NaN</td>\n",
       "      <td>1.000000</td>\n",
       "    </tr>\n",
       "    <tr>\n",
       "      <th>75%</th>\n",
       "      <td>4.000000</td>\n",
       "      <td>NaN</td>\n",
       "      <td>1.000000</td>\n",
       "    </tr>\n",
       "    <tr>\n",
       "      <th>max</th>\n",
       "      <td>4.000000</td>\n",
       "      <td>NaN</td>\n",
       "      <td>1.000000</td>\n",
       "    </tr>\n",
       "  </tbody>\n",
       "</table>\n",
       "</div>"
      ],
      "text/plain": [
       "        comfort  Unnamed: 25  \\\n",
       "count  7.000000          0.0   \n",
       "mean   3.142857          NaN   \n",
       "std    0.899735          NaN   \n",
       "min    2.000000          NaN   \n",
       "25%    2.500000          NaN   \n",
       "50%    3.000000          NaN   \n",
       "75%    4.000000          NaN   \n",
       "max    4.000000          NaN   \n",
       "\n",
       "       Clusters by Sex, Marital Status and preferred mode of working  \n",
       "count                                           7.000000              \n",
       "mean                                            0.571429              \n",
       "std                                             0.534522              \n",
       "min                                             0.000000              \n",
       "25%                                             0.000000              \n",
       "50%                                             1.000000              \n",
       "75%                                             1.000000              \n",
       "max                                             1.000000              "
      ]
     },
     "execution_count": 363,
     "metadata": {},
     "output_type": "execute_result"
    }
   ],
   "source": [
    "print(\"\\033[1m Summary of Data:\\033[0m \")\n",
    "df5.describe()"
   ]
  },
  {
   "cell_type": "code",
   "execution_count": 364,
   "metadata": {},
   "outputs": [
    {
     "name": "stdout",
     "output_type": "stream",
     "text": [
      "\n",
      "\n",
      "\u001b[1mPerforming standardization:\u001b[0m \n"
     ]
    },
    {
     "data": {
      "text/plain": [
       "array([ 1.02899151,  1.02899151,  1.02899151, -0.17149859, -1.37198868,\n",
       "       -1.37198868, -0.17149859])"
      ]
     },
     "execution_count": 364,
     "metadata": {},
     "output_type": "execute_result"
    }
   ],
   "source": [
    "print(\"\\n\\n\\033[1mPerforming standardization:\\033[0m \")\n",
    "from sklearn import preprocessing\n",
    "std_df5=preprocessing.scale(df5['comfort'])\n",
    "std_df5"
   ]
  },
  {
   "cell_type": "code",
   "execution_count": 365,
   "metadata": {},
   "outputs": [
    {
     "name": "stdout",
     "output_type": "stream",
     "text": [
      "\n",
      "\n",
      "\u001b[1mChecking for Skewness:\u001b[0m\n",
      "\n",
      " \n"
     ]
    },
    {
     "data": {
      "text/plain": [
       "-0.3530449674378281"
      ]
     },
     "metadata": {},
     "output_type": "display_data"
    },
    {
     "data": {
      "image/png": "[encoded data removed]",
      "text/plain": [
       "<Figure size 432x288 with 1 Axes>"
      ]
     },
     "metadata": {
      "needs_background": "light"
     },
     "output_type": "display_data"
    }
   ],
   "source": [
    "print(\"\\n\\n\\033[1mChecking for Skewness:\\033[0m\\n\\n \")\n",
    "df5['comfort'].plot.hist()\n",
    "display(df5['comfort'].skew())"
   ]
  },
  {
   "cell_type": "code",
   "execution_count": 366,
   "metadata": {},
   "outputs": [],
   "source": [
    "#import statsmodels.api as sm\n",
    "#X=df1['sex']\n",
    "#Y=df1['avoid contact']\n",
    "#X = sm.add_constant(X)\n",
    "#model1=sm.OLS(Y,X)\n",
    "#result=model1.fit()\n",
    "#print(result.summary())"
   ]
  },
  {
   "cell_type": "markdown",
   "metadata": {},
   "source": [
    "# Performing Clustering to form groups "
   ]
  },
  {
   "cell_type": "markdown",
   "metadata": {},
   "source": [
    "## (i) Forming clusters by Gender, Marital Status and Preferred mode of working"
   ]
  },
  {
   "cell_type": "code",
   "execution_count": 367,
   "metadata": {},
   "outputs": [],
   "source": [
    "import numpy as np\n",
    "from kmodes.kmodes import KModes\n",
    "import matplotlib.pyplot as plt\n",
    "%matplotlib inline"
   ]
  },
  {
   "cell_type": "code",
   "execution_count": 368,
   "metadata": {},
   "outputs": [
    {
     "name": "stdout",
     "output_type": "stream",
     "text": [
      "<class 'pandas.core.frame.DataFrame'>\n",
      "RangeIndex: 103 entries, 0 to 102\n",
      "Data columns (total 3 columns):\n",
      " #   Column          Non-Null Count  Dtype \n",
      "---  ------          --------------  ----- \n",
      " 0   sex             103 non-null    object\n",
      " 1   marital status  103 non-null    object\n",
      " 2   preferred mode  103 non-null    object\n",
      "dtypes: object(3)\n",
      "memory usage: 2.5+ KB\n"
     ]
    },
    {
     "data": {
      "text/html": [
       "<div>\n",
       "<style scoped>\n",
       "    .dataframe tbody tr th:only-of-type {\n",
       "        vertical-align: middle;\n",
       "    }\n",
       "\n",
       "    .dataframe tbody tr th {\n",
       "        vertical-align: top;\n",
       "    }\n",
       "\n",
       "    .dataframe thead th {\n",
       "        text-align: right;\n",
       "    }\n",
       "</style>\n",
       "<table border=\"1\" class=\"dataframe\">\n",
       "  <thead>\n",
       "    <tr style=\"text-align: right;\">\n",
       "      <th></th>\n",
       "      <th>sex</th>\n",
       "      <th>marital status</th>\n",
       "      <th>preferred mode</th>\n",
       "    </tr>\n",
       "  </thead>\n",
       "  <tbody>\n",
       "    <tr>\n",
       "      <th>98</th>\n",
       "      <td>0</td>\n",
       "      <td>0</td>\n",
       "      <td>0</td>\n",
       "    </tr>\n",
       "    <tr>\n",
       "      <th>99</th>\n",
       "      <td>0</td>\n",
       "      <td>1</td>\n",
       "      <td>0</td>\n",
       "    </tr>\n",
       "    <tr>\n",
       "      <th>100</th>\n",
       "      <td>0</td>\n",
       "      <td>1</td>\n",
       "      <td>0</td>\n",
       "    </tr>\n",
       "    <tr>\n",
       "      <th>101</th>\n",
       "      <td>0</td>\n",
       "      <td>1</td>\n",
       "      <td>0</td>\n",
       "    </tr>\n",
       "    <tr>\n",
       "      <th>102</th>\n",
       "      <td>0</td>\n",
       "      <td>0</td>\n",
       "      <td>0</td>\n",
       "    </tr>\n",
       "  </tbody>\n",
       "</table>\n",
       "</div>"
      ],
      "text/plain": [
       "     sex  marital status  preferred mode\n",
       "98     0               0               0\n",
       "99     0               1               0\n",
       "100    0               1               0\n",
       "101    0               1               0\n",
       "102    0               0               0"
      ]
     },
     "metadata": {},
     "output_type": "display_data"
    },
    {
     "name": "stdout",
     "output_type": "stream",
     "text": [
      "<class 'pandas.core.frame.DataFrame'>\n",
      "RangeIndex: 103 entries, 0 to 102\n",
      "Data columns (total 3 columns):\n",
      " #   Column          Non-Null Count  Dtype\n",
      "---  ------          --------------  -----\n",
      " 0   sex             103 non-null    int32\n",
      " 1   marital status  103 non-null    int32\n",
      " 2   preferred mode  103 non-null    int32\n",
      "dtypes: int32(3)\n",
      "memory usage: 1.3 KB\n"
     ]
    }
   ],
   "source": [
    "cluster_data1=df1[['sex','marital status','preferred mode']]\n",
    "cluster_data1copy=cluster_data1\n",
    "cluster_data1.info()\n",
    "le = preprocessing.LabelEncoder()\n",
    "cluster_data1 = cluster_data1.apply(le.fit_transform)\n",
    "display(cluster_data1.tail())\n",
    "cluster_data1.info()"
   ]
  },
  {
   "cell_type": "markdown",
   "metadata": {},
   "source": [
    "#### Finding optimal no. of clusters"
   ]
  },
  {
   "cell_type": "code",
   "execution_count": 369,
   "metadata": {},
   "outputs": [
    {
     "name": "stdout",
     "output_type": "stream",
     "text": [
      "Init: initializing centroids\n",
      "Init: initializing clusters\n",
      "Starting iterations...\n",
      "Run 1, iteration: 1/100, moves: 0, cost: 134.0\n",
      "Init: initializing centroids\n",
      "Init: initializing clusters\n",
      "Starting iterations...\n",
      "Run 1, iteration: 1/100, moves: 0, cost: 86.0\n",
      "Init: initializing centroids\n",
      "Init: initializing clusters\n",
      "Starting iterations...\n",
      "Run 1, iteration: 1/100, moves: 0, cost: 70.0\n",
      "Init: initializing centroids\n",
      "Init: initializing clusters\n",
      "Starting iterations...\n",
      "Run 1, iteration: 1/100, moves: 17, cost: 34.0\n",
      "Run 1, iteration: 2/100, moves: 0, cost: 34.0\n",
      "Init: initializing centroids\n",
      "Init: initializing clusters\n",
      "Starting iterations...\n",
      "Run 1, iteration: 1/100, moves: 17, cost: 29.0\n",
      "Init: initializing centroids\n",
      "Init: initializing clusters\n",
      "Starting iterations...\n",
      "Run 1, iteration: 1/100, moves: 0, cost: 17.0\n",
      "Init: initializing centroids\n",
      "Init: initializing clusters\n",
      "Starting iterations...\n",
      "Run 1, iteration: 1/100, moves: 0, cost: 5.0\n",
      "Init: initializing centroids\n",
      "Init: initializing clusters\n",
      "Starting iterations...\n",
      "Run 1, iteration: 1/0, moves: 0, cost: 0.0\n",
      "Init: initializing centroids\n",
      "Init: initializing clusters\n",
      "Starting iterations...\n",
      "Run 1, iteration: 1/0, moves: 0, cost: 0.0\n"
     ]
    },
    {
     "data": {
      "image/png": "[encoded data removed]",
      "text/plain": [
       "<Figure size 432x288 with 1 Axes>"
      ]
     },
     "metadata": {
      "needs_background": "light"
     },
     "output_type": "display_data"
    },
    {
     "name": "stdout",
     "output_type": "stream",
     "text": [
      "\u001b[1mThe optimal number of clusters will be 3\u001b[0m\n"
     ]
    }
   ],
   "source": [
    "cost = []\n",
    "K = range(1,10)\n",
    "for num_clusters in list(K):\n",
    "    kmode = KModes(n_clusters=num_clusters, init = \"Cao\", n_init = 1, verbose=1)\n",
    "    kmode.fit_predict(cluster_data1)\n",
    "    cost.append(kmode.cost_)\n",
    "    \n",
    "plt.plot(K, cost, 'bx-')\n",
    "plt.xlabel('k clusters')\n",
    "plt.ylabel('Cost')\n",
    "plt.title('Elbow Method For Optimal k')\n",
    "plt.show()\n",
    "print(\"\\033[1mThe optimal number of clusters will be 3\\033[0m\")"
   ]
  },
  {
   "cell_type": "code",
   "execution_count": 370,
   "metadata": {},
   "outputs": [
    {
     "name": "stdout",
     "output_type": "stream",
     "text": [
      "Init: initializing centroids\n",
      "Init: initializing clusters\n",
      "Starting iterations...\n",
      "Run 1, iteration: 1/100, moves: 0, cost: 70.0\n"
     ]
    },
    {
     "data": {
      "text/plain": [
       "array([2, 2, 0, 1, 0, 0, 2, 1, 1, 1, 2, 1, 1, 0, 1, 0, 0, 0, 1, 0, 0, 0,\n",
       "       1, 0, 2, 0, 1, 0, 0, 0, 0, 1, 2, 0, 0, 2, 1, 1, 1, 1, 0, 1, 2, 2,\n",
       "       0, 0, 0, 1, 0, 1, 0, 2, 1, 0, 0, 2, 0, 2, 0, 0, 1, 0, 1, 0, 1, 0,\n",
       "       0, 0, 0, 1, 1, 1, 1, 2, 1, 0, 0, 1, 0, 1, 1, 0, 1, 1, 1, 0, 2, 0,\n",
       "       0, 2, 0, 0, 1, 0, 2, 1, 0, 1, 1, 0, 0, 0, 1], dtype=uint16)"
      ]
     },
     "metadata": {},
     "output_type": "display_data"
    },
    {
     "data": {
      "text/plain": [
       "(103,)"
      ]
     },
     "execution_count": 370,
     "metadata": {},
     "output_type": "execute_result"
    }
   ],
   "source": [
    "km= KModes(n_clusters=3, init = \"Cao\", n_init = 1, verbose=1)\n",
    "cluster_labels1 = km.fit_predict(cluster_data1)\n",
    "display(cluster_labels1)\n",
    "cluster_labels1.shape\n"
   ]
  },
  {
   "cell_type": "markdown",
   "metadata": {},
   "source": [
    "## Studying the clusters and their corresponding representation"
   ]
  },
  {
   "cell_type": "markdown",
   "metadata": {},
   "source": [
    "#### DISPLAYING ORIGINAL DATASET"
   ]
  },
  {
   "cell_type": "code",
   "execution_count": 371,
   "metadata": {
    "scrolled": true
   },
   "outputs": [
    {
     "data": {
      "text/html": [
       "<div>\n",
       "<style scoped>\n",
       "    .dataframe tbody tr th:only-of-type {\n",
       "        vertical-align: middle;\n",
       "    }\n",
       "\n",
       "    .dataframe tbody tr th {\n",
       "        vertical-align: top;\n",
       "    }\n",
       "\n",
       "    .dataframe thead th {\n",
       "        text-align: right;\n",
       "    }\n",
       "</style>\n",
       "<table border=\"1\" class=\"dataframe\">\n",
       "  <thead>\n",
       "    <tr style=\"text-align: right;\">\n",
       "      <th></th>\n",
       "      <th>sex</th>\n",
       "      <th>marital status</th>\n",
       "      <th>preferred mode</th>\n",
       "    </tr>\n",
       "  </thead>\n",
       "  <tbody>\n",
       "    <tr>\n",
       "      <th>0</th>\n",
       "      <td>Male</td>\n",
       "      <td>Single</td>\n",
       "      <td>Remote Mode(Work From Home)</td>\n",
       "    </tr>\n",
       "    <tr>\n",
       "      <th>1</th>\n",
       "      <td>Male</td>\n",
       "      <td>Single</td>\n",
       "      <td>Remote Mode(Work From Home)</td>\n",
       "    </tr>\n",
       "    <tr>\n",
       "      <th>2</th>\n",
       "      <td>Male</td>\n",
       "      <td>Single</td>\n",
       "      <td>Physical Mode</td>\n",
       "    </tr>\n",
       "    <tr>\n",
       "      <th>3</th>\n",
       "      <td>Female</td>\n",
       "      <td>Single</td>\n",
       "      <td>Remote Mode(Work From Home)</td>\n",
       "    </tr>\n",
       "    <tr>\n",
       "      <th>4</th>\n",
       "      <td>Female</td>\n",
       "      <td>Single</td>\n",
       "      <td>Physical Mode</td>\n",
       "    </tr>\n",
       "    <tr>\n",
       "      <th>...</th>\n",
       "      <td>...</td>\n",
       "      <td>...</td>\n",
       "      <td>...</td>\n",
       "    </tr>\n",
       "    <tr>\n",
       "      <th>98</th>\n",
       "      <td>Female</td>\n",
       "      <td>Married</td>\n",
       "      <td>Physical Mode</td>\n",
       "    </tr>\n",
       "    <tr>\n",
       "      <th>99</th>\n",
       "      <td>Female</td>\n",
       "      <td>Single</td>\n",
       "      <td>Physical Mode</td>\n",
       "    </tr>\n",
       "    <tr>\n",
       "      <th>100</th>\n",
       "      <td>Female</td>\n",
       "      <td>Single</td>\n",
       "      <td>Physical Mode</td>\n",
       "    </tr>\n",
       "    <tr>\n",
       "      <th>101</th>\n",
       "      <td>Female</td>\n",
       "      <td>Single</td>\n",
       "      <td>Physical Mode</td>\n",
       "    </tr>\n",
       "    <tr>\n",
       "      <th>102</th>\n",
       "      <td>Female</td>\n",
       "      <td>Married</td>\n",
       "      <td>Physical Mode</td>\n",
       "    </tr>\n",
       "  </tbody>\n",
       "</table>\n",
       "<p>103 rows × 3 columns</p>\n",
       "</div>"
      ],
      "text/plain": [
       "        sex marital status               preferred mode\n",
       "0      Male         Single  Remote Mode(Work From Home)\n",
       "1      Male         Single  Remote Mode(Work From Home)\n",
       "2      Male         Single                Physical Mode\n",
       "3    Female         Single  Remote Mode(Work From Home)\n",
       "4    Female         Single                Physical Mode\n",
       "..      ...            ...                          ...\n",
       "98   Female        Married                Physical Mode\n",
       "99   Female         Single                Physical Mode\n",
       "100  Female         Single                Physical Mode\n",
       "101  Female         Single                Physical Mode\n",
       "102  Female        Married                Physical Mode\n",
       "\n",
       "[103 rows x 3 columns]"
      ]
     },
     "metadata": {},
     "output_type": "display_data"
    }
   ],
   "source": [
    "display(cluster_data1copy)"
   ]
  },
  {
   "cell_type": "markdown",
   "metadata": {},
   "source": [
    "#### DISPLAYING ENCODED DATASET"
   ]
  },
  {
   "cell_type": "code",
   "execution_count": 372,
   "metadata": {},
   "outputs": [
    {
     "data": {
      "text/html": [
       "<div>\n",
       "<style scoped>\n",
       "    .dataframe tbody tr th:only-of-type {\n",
       "        vertical-align: middle;\n",
       "    }\n",
       "\n",
       "    .dataframe tbody tr th {\n",
       "        vertical-align: top;\n",
       "    }\n",
       "\n",
       "    .dataframe thead th {\n",
       "        text-align: right;\n",
       "    }\n",
       "</style>\n",
       "<table border=\"1\" class=\"dataframe\">\n",
       "  <thead>\n",
       "    <tr style=\"text-align: right;\">\n",
       "      <th></th>\n",
       "      <th>sex</th>\n",
       "      <th>marital status</th>\n",
       "      <th>preferred mode</th>\n",
       "    </tr>\n",
       "  </thead>\n",
       "  <tbody>\n",
       "    <tr>\n",
       "      <th>0</th>\n",
       "      <td>1</td>\n",
       "      <td>1</td>\n",
       "      <td>1</td>\n",
       "    </tr>\n",
       "    <tr>\n",
       "      <th>1</th>\n",
       "      <td>1</td>\n",
       "      <td>1</td>\n",
       "      <td>1</td>\n",
       "    </tr>\n",
       "    <tr>\n",
       "      <th>2</th>\n",
       "      <td>1</td>\n",
       "      <td>1</td>\n",
       "      <td>0</td>\n",
       "    </tr>\n",
       "    <tr>\n",
       "      <th>3</th>\n",
       "      <td>0</td>\n",
       "      <td>1</td>\n",
       "      <td>1</td>\n",
       "    </tr>\n",
       "    <tr>\n",
       "      <th>4</th>\n",
       "      <td>0</td>\n",
       "      <td>1</td>\n",
       "      <td>0</td>\n",
       "    </tr>\n",
       "    <tr>\n",
       "      <th>...</th>\n",
       "      <td>...</td>\n",
       "      <td>...</td>\n",
       "      <td>...</td>\n",
       "    </tr>\n",
       "    <tr>\n",
       "      <th>98</th>\n",
       "      <td>0</td>\n",
       "      <td>0</td>\n",
       "      <td>0</td>\n",
       "    </tr>\n",
       "    <tr>\n",
       "      <th>99</th>\n",
       "      <td>0</td>\n",
       "      <td>1</td>\n",
       "      <td>0</td>\n",
       "    </tr>\n",
       "    <tr>\n",
       "      <th>100</th>\n",
       "      <td>0</td>\n",
       "      <td>1</td>\n",
       "      <td>0</td>\n",
       "    </tr>\n",
       "    <tr>\n",
       "      <th>101</th>\n",
       "      <td>0</td>\n",
       "      <td>1</td>\n",
       "      <td>0</td>\n",
       "    </tr>\n",
       "    <tr>\n",
       "      <th>102</th>\n",
       "      <td>0</td>\n",
       "      <td>0</td>\n",
       "      <td>0</td>\n",
       "    </tr>\n",
       "  </tbody>\n",
       "</table>\n",
       "<p>103 rows × 3 columns</p>\n",
       "</div>"
      ],
      "text/plain": [
       "     sex  marital status  preferred mode\n",
       "0      1               1               1\n",
       "1      1               1               1\n",
       "2      1               1               0\n",
       "3      0               1               1\n",
       "4      0               1               0\n",
       "..   ...             ...             ...\n",
       "98     0               0               0\n",
       "99     0               1               0\n",
       "100    0               1               0\n",
       "101    0               1               0\n",
       "102    0               0               0\n",
       "\n",
       "[103 rows x 3 columns]"
      ]
     },
     "metadata": {},
     "output_type": "display_data"
    }
   ],
   "source": [
    "display(cluster_data1)"
   ]
  },
  {
   "cell_type": "markdown",
   "metadata": {},
   "source": [
    "#### COMPARING THE ABOVE TWO DATASETS TO ANALYSE THE CLUSTERS"
   ]
  },
  {
   "cell_type": "code",
   "execution_count": 373,
   "metadata": {},
   "outputs": [
    {
     "name": "stdout",
     "output_type": "stream",
     "text": [
      "\u001b[1m Following are the cluster centroids \u001b[0m--\n"
     ]
    },
    {
     "data": {
      "text/plain": [
       "array([[1, 1, 0],\n",
       "       [0, 0, 1],\n",
       "       [1, 1, 1]])"
      ]
     },
     "metadata": {},
     "output_type": "display_data"
    },
    {
     "name": "stdout",
     "output_type": "stream",
     "text": [
      "\n",
      " \n",
      "Cluster 0 represents Males who are single and prefer physical mode of working\n",
      "\n",
      " \n",
      "Cluster 1 represents Females who are married and prefer remote mode of working\n",
      "\n",
      " \n",
      "Cluster 2 represents Males who are single and prefer remote mode of working\n"
     ]
    }
   ],
   "source": [
    "print(\"\\033[1m Following are the cluster centroids \\033[0m--\")\n",
    "centroids = km.cluster_centroids_\n",
    "display(centroids)\n",
    "print(\"\\n \\nCluster 0 represents Males who are single and prefer physical mode of working\")\n",
    "print(\"\\n \\nCluster 1 represents Females who are married and prefer remote mode of working\")\n",
    "print(\"\\n \\nCluster 2 represents Males who are single and prefer remote mode of working\")"
   ]
  },
  {
   "cell_type": "code",
   "execution_count": 374,
   "metadata": {},
   "outputs": [
    {
     "data": {
      "text/plain": [
       "0    47.572816\n",
       "1    36.893204\n",
       "2    15.533981\n",
       "Name: Clusters by Sex, Marital Status and preferred mode of working, dtype: float64"
      ]
     },
     "execution_count": 374,
     "metadata": {},
     "output_type": "execute_result"
    }
   ],
   "source": [
    "dfcluster=df1\n",
    "dfcluster['Clusters by Sex, Marital Status and preferred mode of working']=cluster_labels1\n",
    "dfcluster['Clusters by Sex, Marital Status and preferred mode of working'].value_counts(normalize= True)*100\n"
   ]
  },
  {
   "cell_type": "markdown",
   "metadata": {},
   "source": [
    "## (ii) Forming clusters by Gender, Marital Status and background noise"
   ]
  },
  {
   "cell_type": "code",
   "execution_count": 432,
   "metadata": {},
   "outputs": [
    {
     "name": "stdout",
     "output_type": "stream",
     "text": [
      "<class 'pandas.core.frame.DataFrame'>\n",
      "RangeIndex: 103 entries, 0 to 102\n",
      "Data columns (total 3 columns):\n",
      " #   Column             Non-Null Count  Dtype \n",
      "---  ------             --------------  ----- \n",
      " 0   sex                103 non-null    object\n",
      " 1   marital status     103 non-null    object\n",
      " 2   background noises  103 non-null    object\n",
      "dtypes: object(3)\n",
      "memory usage: 2.5+ KB\n"
     ]
    },
    {
     "data": {
      "text/html": [
       "<div>\n",
       "<style scoped>\n",
       "    .dataframe tbody tr th:only-of-type {\n",
       "        vertical-align: middle;\n",
       "    }\n",
       "\n",
       "    .dataframe tbody tr th {\n",
       "        vertical-align: top;\n",
       "    }\n",
       "\n",
       "    .dataframe thead th {\n",
       "        text-align: right;\n",
       "    }\n",
       "</style>\n",
       "<table border=\"1\" class=\"dataframe\">\n",
       "  <thead>\n",
       "    <tr style=\"text-align: right;\">\n",
       "      <th></th>\n",
       "      <th>sex</th>\n",
       "      <th>marital status</th>\n",
       "      <th>background noises</th>\n",
       "    </tr>\n",
       "  </thead>\n",
       "  <tbody>\n",
       "    <tr>\n",
       "      <th>0</th>\n",
       "      <td>1</td>\n",
       "      <td>1</td>\n",
       "      <td>0</td>\n",
       "    </tr>\n",
       "    <tr>\n",
       "      <th>1</th>\n",
       "      <td>1</td>\n",
       "      <td>1</td>\n",
       "      <td>0</td>\n",
       "    </tr>\n",
       "    <tr>\n",
       "      <th>2</th>\n",
       "      <td>1</td>\n",
       "      <td>1</td>\n",
       "      <td>0</td>\n",
       "    </tr>\n",
       "    <tr>\n",
       "      <th>3</th>\n",
       "      <td>0</td>\n",
       "      <td>1</td>\n",
       "      <td>2</td>\n",
       "    </tr>\n",
       "    <tr>\n",
       "      <th>4</th>\n",
       "      <td>0</td>\n",
       "      <td>1</td>\n",
       "      <td>2</td>\n",
       "    </tr>\n",
       "  </tbody>\n",
       "</table>\n",
       "</div>"
      ],
      "text/plain": [
       "   sex  marital status  background noises\n",
       "0    1               1                  0\n",
       "1    1               1                  0\n",
       "2    1               1                  0\n",
       "3    0               1                  2\n",
       "4    0               1                  2"
      ]
     },
     "metadata": {},
     "output_type": "display_data"
    },
    {
     "name": "stdout",
     "output_type": "stream",
     "text": [
      "<class 'pandas.core.frame.DataFrame'>\n",
      "RangeIndex: 103 entries, 0 to 102\n",
      "Data columns (total 3 columns):\n",
      " #   Column             Non-Null Count  Dtype\n",
      "---  ------             --------------  -----\n",
      " 0   sex                103 non-null    int32\n",
      " 1   marital status     103 non-null    int32\n",
      " 2   background noises  103 non-null    int32\n",
      "dtypes: int32(3)\n",
      "memory usage: 1.3 KB\n"
     ]
    }
   ],
   "source": [
    "cluster_data2=df1[['sex','marital status','background noises']]\n",
    "cluster_data2copy=cluster_data2\n",
    "cluster_data2.info()\n",
    "le2 = preprocessing.LabelEncoder()\n",
    "cluster_data2 = cluster_data2.apply(le2.fit_transform)\n",
    "display(cluster_data2.head())\n",
    "cluster_data2.info()"
   ]
  },
  {
   "cell_type": "markdown",
   "metadata": {},
   "source": [
    "#### Finding optimal no. of clusters"
   ]
  },
  {
   "cell_type": "code",
   "execution_count": 457,
   "metadata": {},
   "outputs": [
    {
     "name": "stdout",
     "output_type": "stream",
     "text": [
      "Init: initializing centroids\n",
      "Init: initializing clusters\n",
      "Starting iterations...\n",
      "Run 1, iteration: 1/100, moves: 0, cost: 130.0\n",
      "Init: initializing centroids\n",
      "Init: initializing clusters\n",
      "Starting iterations...\n",
      "Run 1, iteration: 1/100, moves: 0, cost: 98.0\n",
      "Init: initializing centroids\n",
      "Init: initializing clusters\n",
      "Starting iterations...\n",
      "Run 1, iteration: 1/100, moves: 0, cost: 86.0\n",
      "Init: initializing centroids\n",
      "Init: initializing clusters\n",
      "Starting iterations...\n",
      "Run 1, iteration: 1/100, moves: 0, cost: 80.0\n",
      "Init: initializing centroids\n",
      "Init: initializing clusters\n",
      "Starting iterations...\n",
      "Run 1, iteration: 1/100, moves: 0, cost: 57.0\n",
      "Init: initializing centroids\n",
      "Init: initializing clusters\n",
      "Starting iterations...\n",
      "Run 1, iteration: 1/100, moves: 16, cost: 34.0\n",
      "Run 1, iteration: 2/100, moves: 0, cost: 34.0\n",
      "Init: initializing centroids\n",
      "Init: initializing clusters\n",
      "Starting iterations...\n",
      "Run 1, iteration: 1/100, moves: 0, cost: 28.0\n",
      "Init: initializing centroids\n",
      "Init: initializing clusters\n",
      "Starting iterations...\n",
      "Run 1, iteration: 1/100, moves: 6, cost: 11.0\n",
      "Init: initializing centroids\n",
      "Init: initializing clusters\n",
      "Starting iterations...\n",
      "Run 1, iteration: 1/100, moves: 1, cost: 6.0\n"
     ]
    },
    {
     "data": {
      "image/png": "[encoded data removed]",
      "text/plain": [
       "<Figure size 432x288 with 1 Axes>"
      ]
     },
     "metadata": {
      "needs_background": "light"
     },
     "output_type": "display_data"
    },
    {
     "name": "stdout",
     "output_type": "stream",
     "text": [
      "\u001b[1mThe optimal number of clusters will be 4\u001b[0m\n"
     ]
    }
   ],
   "source": [
    "cost = []\n",
    "K = range(1,10)\n",
    "for num_clusters in list(K):\n",
    "    kmode = KModes(n_clusters=num_clusters, init = \"Cao\", n_init = 1, verbose=1)\n",
    "    kmode.fit_predict(cluster_data2)\n",
    "    cost.append(kmode.cost_)\n",
    "    \n",
    "plt.plot(K, cost, 'bx-')\n",
    "plt.xlabel('k clusters')\n",
    "plt.ylabel('Cost')\n",
    "plt.title('Elbow Method For Optimal k')\n",
    "plt.show()\n",
    "print(\"\\033[1mThe optimal number of clusters will be 4\\033[0m\")"
   ]
  },
  {
   "cell_type": "code",
   "execution_count": 421,
   "metadata": {},
   "outputs": [
    {
     "name": "stdout",
     "output_type": "stream",
     "text": [
      "Init: initializing centroids\n",
      "Init: initializing clusters\n",
      "Starting iterations...\n",
      "Run 1, iteration: 1/100, moves: 17, cost: 34.0\n",
      "Run 1, iteration: 2/100, moves: 0, cost: 34.0\n"
     ]
    },
    {
     "data": {
      "text/plain": [
       "array([2, 2, 0, 1, 3, 0, 2, 0, 1, 1, 2, 1, 0, 0, 1, 0, 0, 3, 1, 0, 0, 0,\n",
       "       1, 0, 2, 0, 0, 0, 3, 3, 0, 0, 2, 3, 3, 2, 1, 0, 1, 1, 3, 0, 2, 2,\n",
       "       0, 0, 0, 0, 0, 1, 3, 2, 1, 3, 0, 2, 0, 2, 0, 0, 0, 0, 0, 0, 1, 0,\n",
       "       0, 0, 0, 0, 0, 0, 1, 2, 1, 3, 0, 1, 3, 1, 0, 3, 1, 1, 1, 3, 2, 0,\n",
       "       0, 2, 3, 0, 1, 3, 2, 0, 0, 0, 0, 3, 3, 3, 0], dtype=uint16)"
      ]
     },
     "metadata": {},
     "output_type": "display_data"
    },
    {
     "data": {
      "text/plain": [
       "(103,)"
      ]
     },
     "execution_count": 421,
     "metadata": {},
     "output_type": "execute_result"
    }
   ],
   "source": [
    "km2= KModes(n_clusters=4, init = \"Cao\", n_init = 1, verbose=1)\n",
    "cluster_labels2 = km2.fit_predict(cluster_data1)\n",
    "display(cluster_labels2)\n",
    "cluster_labels2.shape"
   ]
  },
  {
   "cell_type": "markdown",
   "metadata": {},
   "source": [
    "#### DISPLAYING ORIGINAL DATASET"
   ]
  },
  {
   "cell_type": "code",
   "execution_count": 422,
   "metadata": {},
   "outputs": [
    {
     "data": {
      "text/html": [
       "<div>\n",
       "<style scoped>\n",
       "    .dataframe tbody tr th:only-of-type {\n",
       "        vertical-align: middle;\n",
       "    }\n",
       "\n",
       "    .dataframe tbody tr th {\n",
       "        vertical-align: top;\n",
       "    }\n",
       "\n",
       "    .dataframe thead th {\n",
       "        text-align: right;\n",
       "    }\n",
       "</style>\n",
       "<table border=\"1\" class=\"dataframe\">\n",
       "  <thead>\n",
       "    <tr style=\"text-align: right;\">\n",
       "      <th></th>\n",
       "      <th>sex</th>\n",
       "      <th>marital status</th>\n",
       "      <th>background noises</th>\n",
       "    </tr>\n",
       "  </thead>\n",
       "  <tbody>\n",
       "    <tr>\n",
       "      <th>0</th>\n",
       "      <td>Male</td>\n",
       "      <td>Single</td>\n",
       "      <td>No</td>\n",
       "    </tr>\n",
       "    <tr>\n",
       "      <th>1</th>\n",
       "      <td>Male</td>\n",
       "      <td>Single</td>\n",
       "      <td>No</td>\n",
       "    </tr>\n",
       "    <tr>\n",
       "      <th>2</th>\n",
       "      <td>Male</td>\n",
       "      <td>Single</td>\n",
       "      <td>No</td>\n",
       "    </tr>\n",
       "    <tr>\n",
       "      <th>3</th>\n",
       "      <td>Female</td>\n",
       "      <td>Single</td>\n",
       "      <td>Yes</td>\n",
       "    </tr>\n",
       "    <tr>\n",
       "      <th>4</th>\n",
       "      <td>Female</td>\n",
       "      <td>Single</td>\n",
       "      <td>Yes</td>\n",
       "    </tr>\n",
       "    <tr>\n",
       "      <th>...</th>\n",
       "      <td>...</td>\n",
       "      <td>...</td>\n",
       "      <td>...</td>\n",
       "    </tr>\n",
       "    <tr>\n",
       "      <th>98</th>\n",
       "      <td>Female</td>\n",
       "      <td>Married</td>\n",
       "      <td>Yes</td>\n",
       "    </tr>\n",
       "    <tr>\n",
       "      <th>99</th>\n",
       "      <td>Female</td>\n",
       "      <td>Single</td>\n",
       "      <td>Yes</td>\n",
       "    </tr>\n",
       "    <tr>\n",
       "      <th>100</th>\n",
       "      <td>Female</td>\n",
       "      <td>Single</td>\n",
       "      <td>Yes</td>\n",
       "    </tr>\n",
       "    <tr>\n",
       "      <th>101</th>\n",
       "      <td>Female</td>\n",
       "      <td>Single</td>\n",
       "      <td>The question doesn't apply to my situation</td>\n",
       "    </tr>\n",
       "    <tr>\n",
       "      <th>102</th>\n",
       "      <td>Female</td>\n",
       "      <td>Married</td>\n",
       "      <td>Yes</td>\n",
       "    </tr>\n",
       "  </tbody>\n",
       "</table>\n",
       "<p>103 rows × 3 columns</p>\n",
       "</div>"
      ],
      "text/plain": [
       "        sex marital status                           background noises\n",
       "0      Male         Single                                          No\n",
       "1      Male         Single                                          No\n",
       "2      Male         Single                                          No\n",
       "3    Female         Single                                         Yes\n",
       "4    Female         Single                                         Yes\n",
       "..      ...            ...                                         ...\n",
       "98   Female        Married                                         Yes\n",
       "99   Female         Single                                         Yes\n",
       "100  Female         Single                                         Yes\n",
       "101  Female         Single  The question doesn't apply to my situation\n",
       "102  Female        Married                                         Yes\n",
       "\n",
       "[103 rows x 3 columns]"
      ]
     },
     "metadata": {},
     "output_type": "display_data"
    }
   ],
   "source": [
    "display(cluster_data2copy)"
   ]
  },
  {
   "cell_type": "markdown",
   "metadata": {},
   "source": [
    "#### DISPLAYING ENCODED DATASET"
   ]
  },
  {
   "cell_type": "code",
   "execution_count": 423,
   "metadata": {},
   "outputs": [
    {
     "data": {
      "text/html": [
       "<div>\n",
       "<style scoped>\n",
       "    .dataframe tbody tr th:only-of-type {\n",
       "        vertical-align: middle;\n",
       "    }\n",
       "\n",
       "    .dataframe tbody tr th {\n",
       "        vertical-align: top;\n",
       "    }\n",
       "\n",
       "    .dataframe thead th {\n",
       "        text-align: right;\n",
       "    }\n",
       "</style>\n",
       "<table border=\"1\" class=\"dataframe\">\n",
       "  <thead>\n",
       "    <tr style=\"text-align: right;\">\n",
       "      <th></th>\n",
       "      <th>sex</th>\n",
       "      <th>marital status</th>\n",
       "      <th>background noises</th>\n",
       "    </tr>\n",
       "  </thead>\n",
       "  <tbody>\n",
       "    <tr>\n",
       "      <th>0</th>\n",
       "      <td>1</td>\n",
       "      <td>1</td>\n",
       "      <td>0</td>\n",
       "    </tr>\n",
       "    <tr>\n",
       "      <th>1</th>\n",
       "      <td>1</td>\n",
       "      <td>1</td>\n",
       "      <td>0</td>\n",
       "    </tr>\n",
       "    <tr>\n",
       "      <th>2</th>\n",
       "      <td>1</td>\n",
       "      <td>1</td>\n",
       "      <td>0</td>\n",
       "    </tr>\n",
       "    <tr>\n",
       "      <th>3</th>\n",
       "      <td>0</td>\n",
       "      <td>1</td>\n",
       "      <td>2</td>\n",
       "    </tr>\n",
       "    <tr>\n",
       "      <th>4</th>\n",
       "      <td>0</td>\n",
       "      <td>1</td>\n",
       "      <td>2</td>\n",
       "    </tr>\n",
       "    <tr>\n",
       "      <th>...</th>\n",
       "      <td>...</td>\n",
       "      <td>...</td>\n",
       "      <td>...</td>\n",
       "    </tr>\n",
       "    <tr>\n",
       "      <th>98</th>\n",
       "      <td>0</td>\n",
       "      <td>0</td>\n",
       "      <td>2</td>\n",
       "    </tr>\n",
       "    <tr>\n",
       "      <th>99</th>\n",
       "      <td>0</td>\n",
       "      <td>1</td>\n",
       "      <td>2</td>\n",
       "    </tr>\n",
       "    <tr>\n",
       "      <th>100</th>\n",
       "      <td>0</td>\n",
       "      <td>1</td>\n",
       "      <td>2</td>\n",
       "    </tr>\n",
       "    <tr>\n",
       "      <th>101</th>\n",
       "      <td>0</td>\n",
       "      <td>1</td>\n",
       "      <td>1</td>\n",
       "    </tr>\n",
       "    <tr>\n",
       "      <th>102</th>\n",
       "      <td>0</td>\n",
       "      <td>0</td>\n",
       "      <td>2</td>\n",
       "    </tr>\n",
       "  </tbody>\n",
       "</table>\n",
       "<p>103 rows × 3 columns</p>\n",
       "</div>"
      ],
      "text/plain": [
       "     sex  marital status  background noises\n",
       "0      1               1                  0\n",
       "1      1               1                  0\n",
       "2      1               1                  0\n",
       "3      0               1                  2\n",
       "4      0               1                  2\n",
       "..   ...             ...                ...\n",
       "98     0               0                  2\n",
       "99     0               1                  2\n",
       "100    0               1                  2\n",
       "101    0               1                  1\n",
       "102    0               0                  2\n",
       "\n",
       "[103 rows x 3 columns]"
      ]
     },
     "metadata": {},
     "output_type": "display_data"
    }
   ],
   "source": [
    "display(cluster_data2)"
   ]
  },
  {
   "cell_type": "code",
   "execution_count": 424,
   "metadata": {},
   "outputs": [
    {
     "name": "stdout",
     "output_type": "stream",
     "text": [
      "\u001b[1m Following are the cluster centroids \u001b[0m--\n"
     ]
    },
    {
     "data": {
      "text/plain": [
       "array([[1, 0, 0],\n",
       "       [0, 1, 1],\n",
       "       [1, 1, 1],\n",
       "       [0, 1, 0]])"
      ]
     },
     "metadata": {},
     "output_type": "display_data"
    },
    {
     "name": "stdout",
     "output_type": "stream",
     "text": [
      "\n",
      " \n",
      "Cluster 0 represents Males who are single and don't have to deal with background noises\n",
      "\n",
      " \n",
      "Cluster 1 represents Females who are married and have to deal with background noises\n",
      "\n",
      " \n",
      "Cluster 2 represents Males who are married and have to deal with background noises\n",
      "\n",
      " \n",
      "Cluster 3 represents Females who are married and don't have to deal with background noises\n"
     ]
    }
   ],
   "source": [
    "print(\"\\033[1m Following are the cluster centroids \\033[0m--\")\n",
    "centroids2 = km2.cluster_centroids_\n",
    "display(centroids2)\n",
    "print(\"\\n \\nCluster 0 represents Males who are single and don't have to deal with background noises\")\n",
    "print(\"\\n \\nCluster 1 represents Females who are married and have to deal with background noises\")\n",
    "print(\"\\n \\nCluster 2 represents Males who are married and have to deal with background noises\")\n",
    "print(\"\\n \\nCluster 3 represents Females who are married and don't have to deal with background noises\")"
   ]
  },
  {
   "cell_type": "code",
   "execution_count": 461,
   "metadata": {},
   "outputs": [
    {
     "data": {
      "text/plain": [
       "0    48\n",
       "1    21\n",
       "3    18\n",
       "2    16\n",
       "Name: Clusters by Sex, Marital Status and background noises, dtype: int64"
      ]
     },
     "execution_count": 461,
     "metadata": {},
     "output_type": "execute_result"
    }
   ],
   "source": [
    "dfcluster['Clusters by Sex, Marital Status and background noises']=cluster_labels2\n",
    "dfcluster['Clusters by Sex, Marital Status and background noises'].value_counts()"
   ]
  },
  {
   "cell_type": "markdown",
   "metadata": {},
   "source": []
  },
  {
   "cell_type": "markdown",
   "metadata": {},
   "source": [
    "## (ii) Forming clusters by Gender, Hr Policies and Better Policies"
   ]
  },
  {
   "cell_type": "code",
   "execution_count": 455,
   "metadata": {},
   "outputs": [
    {
     "name": "stdout",
     "output_type": "stream",
     "text": [
      "<class 'pandas.core.frame.DataFrame'>\n",
      "RangeIndex: 103 entries, 0 to 102\n",
      "Data columns (total 3 columns):\n",
      " #   Column           Non-Null Count  Dtype \n",
      "---  ------           --------------  ----- \n",
      " 0   sex              103 non-null    object\n",
      " 1   hr policies      103 non-null    object\n",
      " 2   better policies  103 non-null    object\n",
      "dtypes: object(3)\n",
      "memory usage: 2.5+ KB\n"
     ]
    },
    {
     "data": {
      "text/html": [
       "<div>\n",
       "<style scoped>\n",
       "    .dataframe tbody tr th:only-of-type {\n",
       "        vertical-align: middle;\n",
       "    }\n",
       "\n",
       "    .dataframe tbody tr th {\n",
       "        vertical-align: top;\n",
       "    }\n",
       "\n",
       "    .dataframe thead th {\n",
       "        text-align: right;\n",
       "    }\n",
       "</style>\n",
       "<table border=\"1\" class=\"dataframe\">\n",
       "  <thead>\n",
       "    <tr style=\"text-align: right;\">\n",
       "      <th></th>\n",
       "      <th>sex</th>\n",
       "      <th>hr policies</th>\n",
       "      <th>better policies</th>\n",
       "    </tr>\n",
       "  </thead>\n",
       "  <tbody>\n",
       "    <tr>\n",
       "      <th>0</th>\n",
       "      <td>1</td>\n",
       "      <td>2</td>\n",
       "      <td>1</td>\n",
       "    </tr>\n",
       "    <tr>\n",
       "      <th>1</th>\n",
       "      <td>1</td>\n",
       "      <td>1</td>\n",
       "      <td>1</td>\n",
       "    </tr>\n",
       "    <tr>\n",
       "      <th>2</th>\n",
       "      <td>1</td>\n",
       "      <td>2</td>\n",
       "      <td>0</td>\n",
       "    </tr>\n",
       "    <tr>\n",
       "      <th>3</th>\n",
       "      <td>0</td>\n",
       "      <td>0</td>\n",
       "      <td>0</td>\n",
       "    </tr>\n",
       "    <tr>\n",
       "      <th>4</th>\n",
       "      <td>0</td>\n",
       "      <td>1</td>\n",
       "      <td>1</td>\n",
       "    </tr>\n",
       "  </tbody>\n",
       "</table>\n",
       "</div>"
      ],
      "text/plain": [
       "   sex  hr policies  better policies\n",
       "0    1            2                1\n",
       "1    1            1                1\n",
       "2    1            2                0\n",
       "3    0            0                0\n",
       "4    0            1                1"
      ]
     },
     "metadata": {},
     "output_type": "display_data"
    },
    {
     "name": "stdout",
     "output_type": "stream",
     "text": [
      "<class 'pandas.core.frame.DataFrame'>\n",
      "RangeIndex: 103 entries, 0 to 102\n",
      "Data columns (total 3 columns):\n",
      " #   Column           Non-Null Count  Dtype\n",
      "---  ------           --------------  -----\n",
      " 0   sex              103 non-null    int32\n",
      " 1   hr policies      103 non-null    int32\n",
      " 2   better policies  103 non-null    int32\n",
      "dtypes: int32(3)\n",
      "memory usage: 1.3 KB\n"
     ]
    }
   ],
   "source": [
    "cluster_data3=df1[['sex','hr policies','better policies']]\n",
    "cluster_data3copy=cluster_data3\n",
    "cluster_data3.info()\n",
    "le3 = preprocessing.LabelEncoder()\n",
    "cluster_data3 = cluster_data3.apply(le3.fit_transform)\n",
    "display(cluster_data3.head())\n",
    "cluster_data3.info()"
   ]
  },
  {
   "cell_type": "markdown",
   "metadata": {},
   "source": [
    "#### Finding optimal no. of clusters"
   ]
  },
  {
   "cell_type": "code",
   "execution_count": 472,
   "metadata": {},
   "outputs": [
    {
     "name": "stdout",
     "output_type": "stream",
     "text": [
      "Init: initializing centroids\n",
      "Init: initializing clusters\n",
      "Starting iterations...\n",
      "Run 1, iteration: 1/100, moves: 0, cost: 145.0\n",
      "Init: initializing centroids\n",
      "Init: initializing clusters\n",
      "Starting iterations...\n",
      "Run 1, iteration: 1/100, moves: 19, cost: 91.0\n",
      "Init: initializing centroids\n",
      "Init: initializing clusters\n",
      "Starting iterations...\n",
      "Run 1, iteration: 1/100, moves: 13, cost: 73.0\n",
      "Init: initializing centroids\n",
      "Init: initializing clusters\n",
      "Starting iterations...\n",
      "Run 1, iteration: 1/100, moves: 13, cost: 62.0\n",
      "Init: initializing centroids\n",
      "Init: initializing clusters\n",
      "Starting iterations...\n",
      "Run 1, iteration: 1/100, moves: 13, cost: 50.0\n",
      "Init: initializing centroids\n",
      "Init: initializing clusters\n",
      "Starting iterations...\n",
      "Run 1, iteration: 1/100, moves: 18, cost: 31.0\n",
      "Init: initializing centroids\n",
      "Init: initializing clusters\n",
      "Starting iterations...\n",
      "Run 1, iteration: 1/100, moves: 13, cost: 26.0\n",
      "Init: initializing centroids\n",
      "Init: initializing clusters\n",
      "Starting iterations...\n",
      "Run 1, iteration: 1/100, moves: 7, cost: 20.0\n",
      "Init: initializing centroids\n",
      "Init: initializing clusters\n",
      "Starting iterations...\n",
      "Run 1, iteration: 1/100, moves: 3, cost: 8.0\n"
     ]
    },
    {
     "data": {
      "image/png": "[encoded data removed]",
      "text/plain": [
       "<Figure size 432x288 with 1 Axes>"
      ]
     },
     "metadata": {
      "needs_background": "light"
     },
     "output_type": "display_data"
    },
    {
     "name": "stdout",
     "output_type": "stream",
     "text": [
      "\u001b[1mThe optimal number of clusters will be 2\u001b[0m\n"
     ]
    }
   ],
   "source": [
    "cost = []\n",
    "K = range(1,10)\n",
    "for num_clusters in list(K):\n",
    "    kmode = KModes(n_clusters=num_clusters, init = \"Cao\", n_init = 1, verbose=1)\n",
    "    kmode.fit_predict(cluster_data3)\n",
    "    cost.append(kmode.cost_)\n",
    "    \n",
    "plt.plot(K, cost, 'bx-')\n",
    "plt.xlabel('k clusters')\n",
    "plt.ylabel('Cost')\n",
    "plt.title('Elbow Method For Optimal k')\n",
    "plt.show()\n",
    "print(\"\\033[1mThe optimal number of clusters will be 2\\033[0m\")"
   ]
  },
  {
   "cell_type": "code",
   "execution_count": 467,
   "metadata": {},
   "outputs": [
    {
     "name": "stdout",
     "output_type": "stream",
     "text": [
      "Init: initializing centroids\n",
      "Init: initializing clusters\n",
      "Starting iterations...\n",
      "Run 1, iteration: 1/100, moves: 19, cost: 91.0\n"
     ]
    },
    {
     "data": {
      "text/plain": [
       "array([0, 0, 0, 1, 1, 0, 0, 0, 1, 1, 0, 1, 1, 0, 1, 0, 0, 1, 1, 0, 0, 0,\n",
       "       1, 0, 0, 0, 0, 0, 1, 1, 0, 1, 0, 0, 0, 0, 1, 0, 1, 1, 1, 0, 0, 0,\n",
       "       0, 0, 0, 0, 0, 0, 1, 0, 1, 1, 0, 0, 0, 0, 0, 0, 0, 0, 0, 0, 1, 0,\n",
       "       0, 0, 0, 0, 0, 0, 1, 0, 1, 0, 0, 1, 1, 1, 0, 0, 1, 0, 0, 0, 0, 0,\n",
       "       0, 0, 1, 0, 1, 1, 0, 1, 0, 1, 1, 1, 1, 1, 0], dtype=uint16)"
      ]
     },
     "metadata": {},
     "output_type": "display_data"
    },
    {
     "data": {
      "text/plain": [
       "(103,)"
      ]
     },
     "execution_count": 467,
     "metadata": {},
     "output_type": "execute_result"
    }
   ],
   "source": [
    "km3= KModes(n_clusters=2, init = \"Cao\", n_init = 1, verbose=1)\n",
    "cluster_labels3 = km3.fit_predict(cluster_data3)\n",
    "display(cluster_labels3)\n",
    "cluster_labels3.shape"
   ]
  },
  {
   "cell_type": "markdown",
   "metadata": {},
   "source": [
    "#### DISPLAYING ORIGINAL DATASET"
   ]
  },
  {
   "cell_type": "code",
   "execution_count": 468,
   "metadata": {},
   "outputs": [
    {
     "data": {
      "text/html": [
       "<div>\n",
       "<style scoped>\n",
       "    .dataframe tbody tr th:only-of-type {\n",
       "        vertical-align: middle;\n",
       "    }\n",
       "\n",
       "    .dataframe tbody tr th {\n",
       "        vertical-align: top;\n",
       "    }\n",
       "\n",
       "    .dataframe thead th {\n",
       "        text-align: right;\n",
       "    }\n",
       "</style>\n",
       "<table border=\"1\" class=\"dataframe\">\n",
       "  <thead>\n",
       "    <tr style=\"text-align: right;\">\n",
       "      <th></th>\n",
       "      <th>sex</th>\n",
       "      <th>hr policies</th>\n",
       "      <th>better policies</th>\n",
       "    </tr>\n",
       "  </thead>\n",
       "  <tbody>\n",
       "    <tr>\n",
       "      <th>0</th>\n",
       "      <td>Male</td>\n",
       "      <td>Yes</td>\n",
       "      <td>Yes</td>\n",
       "    </tr>\n",
       "    <tr>\n",
       "      <th>1</th>\n",
       "      <td>Male</td>\n",
       "      <td>Partly</td>\n",
       "      <td>Yes</td>\n",
       "    </tr>\n",
       "    <tr>\n",
       "      <th>2</th>\n",
       "      <td>Male</td>\n",
       "      <td>Yes</td>\n",
       "      <td>No</td>\n",
       "    </tr>\n",
       "    <tr>\n",
       "      <th>3</th>\n",
       "      <td>Female</td>\n",
       "      <td>No</td>\n",
       "      <td>No</td>\n",
       "    </tr>\n",
       "    <tr>\n",
       "      <th>4</th>\n",
       "      <td>Female</td>\n",
       "      <td>Partly</td>\n",
       "      <td>Yes</td>\n",
       "    </tr>\n",
       "    <tr>\n",
       "      <th>...</th>\n",
       "      <td>...</td>\n",
       "      <td>...</td>\n",
       "      <td>...</td>\n",
       "    </tr>\n",
       "    <tr>\n",
       "      <th>98</th>\n",
       "      <td>Female</td>\n",
       "      <td>No</td>\n",
       "      <td>Yes</td>\n",
       "    </tr>\n",
       "    <tr>\n",
       "      <th>99</th>\n",
       "      <td>Female</td>\n",
       "      <td>Partly</td>\n",
       "      <td>Yes</td>\n",
       "    </tr>\n",
       "    <tr>\n",
       "      <th>100</th>\n",
       "      <td>Female</td>\n",
       "      <td>Partly</td>\n",
       "      <td>No</td>\n",
       "    </tr>\n",
       "    <tr>\n",
       "      <th>101</th>\n",
       "      <td>Female</td>\n",
       "      <td>No</td>\n",
       "      <td>Yes</td>\n",
       "    </tr>\n",
       "    <tr>\n",
       "      <th>102</th>\n",
       "      <td>Female</td>\n",
       "      <td>Yes</td>\n",
       "      <td>No</td>\n",
       "    </tr>\n",
       "  </tbody>\n",
       "</table>\n",
       "<p>103 rows × 3 columns</p>\n",
       "</div>"
      ],
      "text/plain": [
       "        sex hr policies better policies\n",
       "0      Male         Yes             Yes\n",
       "1      Male      Partly             Yes\n",
       "2      Male         Yes              No\n",
       "3    Female          No              No\n",
       "4    Female      Partly             Yes\n",
       "..      ...         ...             ...\n",
       "98   Female          No             Yes\n",
       "99   Female      Partly             Yes\n",
       "100  Female      Partly              No\n",
       "101  Female          No             Yes\n",
       "102  Female         Yes              No\n",
       "\n",
       "[103 rows x 3 columns]"
      ]
     },
     "metadata": {},
     "output_type": "display_data"
    }
   ],
   "source": [
    "display(cluster_data3copy)"
   ]
  },
  {
   "cell_type": "markdown",
   "metadata": {},
   "source": [
    "#### DISPLAYING ENCODED DATASET\n"
   ]
  },
  {
   "cell_type": "code",
   "execution_count": 469,
   "metadata": {},
   "outputs": [
    {
     "data": {
      "text/html": [
       "<div>\n",
       "<style scoped>\n",
       "    .dataframe tbody tr th:only-of-type {\n",
       "        vertical-align: middle;\n",
       "    }\n",
       "\n",
       "    .dataframe tbody tr th {\n",
       "        vertical-align: top;\n",
       "    }\n",
       "\n",
       "    .dataframe thead th {\n",
       "        text-align: right;\n",
       "    }\n",
       "</style>\n",
       "<table border=\"1\" class=\"dataframe\">\n",
       "  <thead>\n",
       "    <tr style=\"text-align: right;\">\n",
       "      <th></th>\n",
       "      <th>sex</th>\n",
       "      <th>hr policies</th>\n",
       "      <th>better policies</th>\n",
       "    </tr>\n",
       "  </thead>\n",
       "  <tbody>\n",
       "    <tr>\n",
       "      <th>0</th>\n",
       "      <td>1</td>\n",
       "      <td>2</td>\n",
       "      <td>1</td>\n",
       "    </tr>\n",
       "    <tr>\n",
       "      <th>1</th>\n",
       "      <td>1</td>\n",
       "      <td>1</td>\n",
       "      <td>1</td>\n",
       "    </tr>\n",
       "    <tr>\n",
       "      <th>2</th>\n",
       "      <td>1</td>\n",
       "      <td>2</td>\n",
       "      <td>0</td>\n",
       "    </tr>\n",
       "    <tr>\n",
       "      <th>3</th>\n",
       "      <td>0</td>\n",
       "      <td>0</td>\n",
       "      <td>0</td>\n",
       "    </tr>\n",
       "    <tr>\n",
       "      <th>4</th>\n",
       "      <td>0</td>\n",
       "      <td>1</td>\n",
       "      <td>1</td>\n",
       "    </tr>\n",
       "    <tr>\n",
       "      <th>...</th>\n",
       "      <td>...</td>\n",
       "      <td>...</td>\n",
       "      <td>...</td>\n",
       "    </tr>\n",
       "    <tr>\n",
       "      <th>98</th>\n",
       "      <td>0</td>\n",
       "      <td>0</td>\n",
       "      <td>1</td>\n",
       "    </tr>\n",
       "    <tr>\n",
       "      <th>99</th>\n",
       "      <td>0</td>\n",
       "      <td>1</td>\n",
       "      <td>1</td>\n",
       "    </tr>\n",
       "    <tr>\n",
       "      <th>100</th>\n",
       "      <td>0</td>\n",
       "      <td>1</td>\n",
       "      <td>0</td>\n",
       "    </tr>\n",
       "    <tr>\n",
       "      <th>101</th>\n",
       "      <td>0</td>\n",
       "      <td>0</td>\n",
       "      <td>1</td>\n",
       "    </tr>\n",
       "    <tr>\n",
       "      <th>102</th>\n",
       "      <td>0</td>\n",
       "      <td>2</td>\n",
       "      <td>0</td>\n",
       "    </tr>\n",
       "  </tbody>\n",
       "</table>\n",
       "<p>103 rows × 3 columns</p>\n",
       "</div>"
      ],
      "text/plain": [
       "     sex  hr policies  better policies\n",
       "0      1            2                1\n",
       "1      1            1                1\n",
       "2      1            2                0\n",
       "3      0            0                0\n",
       "4      0            1                1\n",
       "..   ...          ...              ...\n",
       "98     0            0                1\n",
       "99     0            1                1\n",
       "100    0            1                0\n",
       "101    0            0                1\n",
       "102    0            2                0\n",
       "\n",
       "[103 rows x 3 columns]"
      ]
     },
     "metadata": {},
     "output_type": "display_data"
    }
   ],
   "source": [
    "display(cluster_data3)"
   ]
  },
  {
   "cell_type": "code",
   "execution_count": 474,
   "metadata": {},
   "outputs": [
    {
     "name": "stdout",
     "output_type": "stream",
     "text": [
      "\u001b[1m Following are the cluster centroids \u001b[0m--\n"
     ]
    },
    {
     "data": {
      "text/plain": [
       "array([[1, 2, 1],\n",
       "       [0, 0, 1]])"
      ]
     },
     "metadata": {},
     "output_type": "display_data"
    },
    {
     "name": "stdout",
     "output_type": "stream",
     "text": [
      "\n",
      " \n",
      "Cluster 0 represents Males who felt that the HR Department did enough but could devise better policies\n",
      "\n",
      " \n",
      "Cluster 1 represents Females who felt that the HR department did not do enough and could devise better policies\n"
     ]
    }
   ],
   "source": [
    "print(\"\\033[1m Following are the cluster centroids \\033[0m--\")\n",
    "centroids3 = km3.cluster_centroids_\n",
    "display(centroids3)\n",
    "print(\"\\n \\nCluster 0 represents Males who felt that the HR Department did enough but could devise better policies\")\n",
    "print(\"\\n \\nCluster 1 represents Females who felt that the HR department did not do enough and could devise better policies\")"
   ]
  },
  {
   "cell_type": "code",
   "execution_count": 477,
   "metadata": {},
   "outputs": [
    {
     "data": {
      "text/plain": [
       "0    67\n",
       "1    36\n",
       "Name: Clusters by Sex, HR Policies and better policies, dtype: int64"
      ]
     },
     "execution_count": 477,
     "metadata": {},
     "output_type": "execute_result"
    }
   ],
   "source": [
    "dfcluster['Clusters by Sex, HR Policies and better policies']=cluster_labels3\n",
    "dfcluster['Clusters by Sex, HR Policies and better policies'].value_counts()"
   ]
  },
  {
   "cell_type": "markdown",
   "metadata": {},
   "source": [
    "# Creating a new Excel Workbook with information about the clusters formed"
   ]
  },
  {
   "cell_type": "code",
   "execution_count": 479,
   "metadata": {},
   "outputs": [],
   "source": [
    "dfcluster.to_excel(\"Analytics_cluster.xlsx\")"
   ]
  }
 ],
 "metadata": {
  "interpreter": {
   "hash": "08b741ea1332f88dd087fb8fc46582258a60dbf5d952719be37684b1098a3c06"
  },
  "kernelspec": {
   "display_name": "Python 3",
   "language": "python",
   "name": "python3"
  },
  "language_info": {
   "codemirror_mode": {
    "name": "ipython",
    "version": 3
   },
   "file_extension": ".py",
   "mimetype": "text/x-python",
   "name": "python",
   "nbconvert_exporter": "python",
   "pygments_lexer": "ipython3",
   "version": "3.8.8"
  }
 },
 "nbformat": 4,
 "nbformat_minor": 4
}
