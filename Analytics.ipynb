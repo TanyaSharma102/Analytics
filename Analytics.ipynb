{
 "cells": [
  {
   "cell_type": "code",
   "execution_count": 6,
   "metadata": {},
   "outputs": [],
   "source": [
    "import pandas as pd\n",
    "df=pd.read_excel('C:\\\\Users\\\\Anubhav\\\\Desktop\\\\Analytics.xlsx','Sheet1')\n"
   ]
  },
  {
   "cell_type": "code",
   "execution_count": 26,
   "metadata": {},
   "outputs": [
    {
     "name": "stdout",
     "output_type": "stream",
     "text": [
      "\u001b[1m Following are the details of the data we will be working on \u001b[0m \n",
      "\n",
      " The column names in the sheet along with the respective question they represent are listed below:\n",
      " sex- Sex \n",
      " age- Age \n",
      " marital status- Marital Status \n",
      " work timings- Work Timings \n",
      " Employment Organization- What is the type of your employment organization? \n",
      " current mode- What is your current mode of working? \n",
      " preferred mode- What mode of working do you prefer? \n",
      " new job- In case your employment was terminated, how difficult was it to get a new job? \n",
      " salary incentives- How satisfactory have your salary incentives/promotions been since 2020? \n",
      " domestic life- How did the new work conditions affect your domestic life? \n",
      " personal life- How did the new work conditions affect your personal time/growth? \n",
      " layoff fear- Did you at any point fear a layoff since the pandemic kicked in? \n",
      " stretched hours- Did you experience stretched working hours/increased workload during the pandemic?\n",
      " domestic obligation- Was there some domestic obligation you had to fulfil before starting your work everyday? \n",
      " background noises- Did you find it difficult to silence background noises at your home whilst in a meeting/discussion? \n",
      " personal calls- How often were you contacted personally by your superiors/colleagues regarding matters not restricting to work? \n",
      " silenced- Did you feel silenced on calls/meetings even though you had something valuable to add? \n",
      " avoid contact- Did you avoid contacting a colleague/superior regarding some professional issue thinking you are being unprofessional? \n",
      " sexual harassment- Did you experience any kind of Sexual harassment/Cyber Harassment at your work during the pandemic? \n",
      " comfort- If Yes, how comfortable were you in sharing the details with the concerned authorities? \n",
      " hr policies- Do you feel that the HR Department of your organization took the necessary steps to help you adapt to work from home? \n",
      " better policies- Do you feel that your organization needs to work on its policies regarding employee conduct? \n",
      " biased impact- Do you feel that the pandemic had a more negative affect on some particular gender at workplaces? \n",
      " Comments- If Yes/Maybe, how? \n",
      " \n",
      " \n",
      "No. of Data Entries corresponding to each attribute \n",
      " sex                        95\n",
      "age                        95\n",
      "marital status             95\n",
      "work timings               95\n",
      "employment organization    95\n",
      "current mode               95\n",
      "preferred mode             95\n",
      "new job                    90\n",
      "salary incentives          95\n",
      "domestic life              95\n",
      "personal life              95\n",
      "layoff fear                95\n",
      "stretched hours            95\n",
      "domestic obligation        95\n",
      "background noises          95\n",
      "personal calls             95\n",
      "silenced                   95\n",
      "avoid contact              95\n",
      "sexual harassment          95\n",
      "comfort                     5\n",
      "hr policies                95\n",
      "better policies            95\n",
      "biased impact              95\n",
      "Comments                   21\n",
      "Other Info                  7\n",
      "dtype: int64\n"
     ]
    }
   ],
   "source": [
    "#Displaying Sheet Details\n",
    "print(\"\\033[1m Following are the details of the data we will be working on \\033[0m \")\n",
    "print(\"\\n The column names in the sheet along with the respective question they represent are listed below:\")\n",
    "print(\" sex- Sex \\n age- Age \\n marital status- Marital Status \\n work timings- Work Timings \\n Employment Organization- What is the type of your employment organization? \\n current mode- What is your current mode of working? \\n preferred mode- What mode of working do you prefer? \\n new job- In case your employment was terminated, how difficult was it to get a new job? \\n salary incentives- How satisfactory have your salary incentives/promotions been since 2020? \\n domestic life- How did the new work conditions affect your domestic life? \\n personal life- How did the new work conditions affect your personal time/growth? \\n layoff fear- Did you at any point fear a layoff since the pandemic kicked in? \\n stretched hours- Did you experience stretched working hours/increased workload during the pandemic?\")\n",
    "print(\" domestic obligation- Was there some domestic obligation you had to fulfil before starting your work everyday? \\n background noises- Did you find it difficult to silence background noises at your home whilst in a meeting/discussion? \\n personal calls- How often were you contacted personally by your superiors/colleagues regarding matters not restricting to work? \\n silenced- Did you feel silenced on calls/meetings even though you had something valuable to add? \\n avoid contact- Did you avoid contacting a colleague/superior regarding some professional issue thinking you are being unprofessional? \\n sexual harassment- Did you experience any kind of Sexual harassment/Cyber Harassment at your work during the pandemic? \\n comfort- If Yes, how comfortable were you in sharing the details with the concerned authorities? \\n hr policies- Do you feel that the HR Department of your organization took the necessary steps to help you adapt to work from home? \\n better policies- Do you feel that your organization needs to work on its policies regarding employee conduct? \\n biased impact- Do you feel that the pandemic had a more negative affect on some particular gender at workplaces? \\n Comments- If Yes/Maybe, how? \")\n",
    "print(\" \\n \\nNo. of Data Entries corresponding to each attribute \\n\",df.count())"
   ]
  },
  {
   "cell_type": "code",
   "execution_count": null,
   "metadata": {},
   "outputs": [],
   "source": []
  }
 ],
 "metadata": {
  "kernelspec": {
   "display_name": "Python 3",
   "language": "python",
   "name": "python3"
  },
  "language_info": {
   "codemirror_mode": {
    "name": "ipython",
    "version": 3
   },
   "file_extension": ".py",
   "mimetype": "text/x-python",
   "name": "python",
   "nbconvert_exporter": "python",
   "pygments_lexer": "ipython3",
   "version": "3.8.5"
  }
 },
 "nbformat": 4,
 "nbformat_minor": 4
}
